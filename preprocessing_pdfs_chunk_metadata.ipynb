{
  "cells": [
    {
      "cell_type": "markdown",
      "metadata": {
        "id": "view-in-github",
        "colab_type": "text"
      },
      "source": [
        "<a href=\"https://colab.research.google.com/github/joaowinderfeldbussolotto/assistente-ppc-ciencia-da-computacao/blob/main/preprocessing_pdfs_chunk_metadata.ipynb\" target=\"_parent\"><img src=\"https://colab.research.google.com/assets/colab-badge.svg\" alt=\"Open In Colab\"/></a>"
      ]
    },
    {
      "cell_type": "code",
      "execution_count": 1,
      "metadata": {
        "colab": {
          "base_uri": "https://localhost:8080/"
        },
        "id": "yex0G2A2OB29",
        "outputId": "9600b712-248a-460c-c7fc-5b29adfa4150"
      },
      "outputs": [
        {
          "output_type": "stream",
          "name": "stdout",
          "text": [
            "Requirement already satisfied: html2text in /usr/local/lib/python3.10/dist-packages (2024.2.26)\n",
            "Requirement already satisfied: langchain in /usr/local/lib/python3.10/dist-packages (0.2.16)\n",
            "Requirement already satisfied: langchain_groq in /usr/local/lib/python3.10/dist-packages (0.1.9)\n",
            "Requirement already satisfied: langchain_huggingface in /usr/local/lib/python3.10/dist-packages (0.0.3)\n",
            "Requirement already satisfied: faiss-cpu in /usr/local/lib/python3.10/dist-packages (1.8.0.post1)\n",
            "Collecting langchain-pinecone\n",
            "  Downloading langchain_pinecone-0.1.3-py3-none-any.whl.metadata (1.7 kB)\n",
            "Collecting pinecone-notebooks\n",
            "  Downloading pinecone_notebooks-0.1.1-py3-none-any.whl.metadata (2.6 kB)\n",
            "Requirement already satisfied: openparse[ml] in /usr/local/lib/python3.10/dist-packages (0.5.7)\n",
            "Requirement already satisfied: PyMuPDF>=1.23.2 in /usr/local/lib/python3.10/dist-packages (from openparse[ml]) (1.24.10)\n",
            "Requirement already satisfied: pillow>=8.3 in /usr/local/lib/python3.10/dist-packages (from openparse[ml]) (9.4.0)\n",
            "Requirement already satisfied: pydantic>=2.0 in /usr/local/lib/python3.10/dist-packages (from openparse[ml]) (2.8.2)\n",
            "Requirement already satisfied: pypdf>=4.0.0 in /usr/local/lib/python3.10/dist-packages (from openparse[ml]) (4.3.1)\n",
            "Requirement already satisfied: pdfminer.six>=20200401 in /usr/local/lib/python3.10/dist-packages (from openparse[ml]) (20240706)\n",
            "Requirement already satisfied: tiktoken>=0.3 in /usr/local/lib/python3.10/dist-packages (from openparse[ml]) (0.7.0)\n",
            "Requirement already satisfied: openai>=1.0.0 in /usr/local/lib/python3.10/dist-packages (from openparse[ml]) (1.44.0)\n",
            "Requirement already satisfied: numpy in /usr/local/lib/python3.10/dist-packages (from openparse[ml]) (1.26.4)\n",
            "Requirement already satisfied: torch in /usr/local/lib/python3.10/dist-packages (from openparse[ml]) (2.4.0+cu121)\n",
            "Requirement already satisfied: torchvision in /usr/local/lib/python3.10/dist-packages (from openparse[ml]) (0.19.0+cu121)\n",
            "Requirement already satisfied: transformers in /usr/local/lib/python3.10/dist-packages (from openparse[ml]) (4.44.2)\n",
            "Requirement already satisfied: tokenizers in /usr/local/lib/python3.10/dist-packages (from openparse[ml]) (0.19.1)\n",
            "Requirement already satisfied: PyYAML>=5.3 in /usr/local/lib/python3.10/dist-packages (from langchain) (6.0.2)\n",
            "Requirement already satisfied: SQLAlchemy<3,>=1.4 in /usr/local/lib/python3.10/dist-packages (from langchain) (2.0.32)\n",
            "Requirement already satisfied: aiohttp<4.0.0,>=3.8.3 in /usr/local/lib/python3.10/dist-packages (from langchain) (3.10.5)\n",
            "Requirement already satisfied: async-timeout<5.0.0,>=4.0.0 in /usr/local/lib/python3.10/dist-packages (from langchain) (4.0.3)\n",
            "Requirement already satisfied: langchain-core<0.3.0,>=0.2.38 in /usr/local/lib/python3.10/dist-packages (from langchain) (0.2.38)\n",
            "Requirement already satisfied: langchain-text-splitters<0.3.0,>=0.2.0 in /usr/local/lib/python3.10/dist-packages (from langchain) (0.2.4)\n",
            "Requirement already satisfied: langsmith<0.2.0,>=0.1.17 in /usr/local/lib/python3.10/dist-packages (from langchain) (0.1.116)\n",
            "Requirement already satisfied: requests<3,>=2 in /usr/local/lib/python3.10/dist-packages (from langchain) (2.32.3)\n",
            "Requirement already satisfied: tenacity!=8.4.0,<9.0.0,>=8.1.0 in /usr/local/lib/python3.10/dist-packages (from langchain) (8.5.0)\n",
            "Requirement already satisfied: groq<1,>=0.4.1 in /usr/local/lib/python3.10/dist-packages (from langchain_groq) (0.11.0)\n",
            "Requirement already satisfied: huggingface-hub>=0.23.0 in /usr/local/lib/python3.10/dist-packages (from langchain_huggingface) (0.24.6)\n",
            "Requirement already satisfied: sentence-transformers>=2.6.0 in /usr/local/lib/python3.10/dist-packages (from langchain_huggingface) (3.0.1)\n",
            "Requirement already satisfied: packaging in /usr/local/lib/python3.10/dist-packages (from faiss-cpu) (24.1)\n",
            "Collecting pinecone-client<6.0.0,>=5.0.0 (from langchain-pinecone)\n",
            "  Downloading pinecone_client-5.0.1-py3-none-any.whl.metadata (19 kB)\n",
            "Requirement already satisfied: aiohappyeyeballs>=2.3.0 in /usr/local/lib/python3.10/dist-packages (from aiohttp<4.0.0,>=3.8.3->langchain) (2.4.0)\n",
            "Requirement already satisfied: aiosignal>=1.1.2 in /usr/local/lib/python3.10/dist-packages (from aiohttp<4.0.0,>=3.8.3->langchain) (1.3.1)\n",
            "Requirement already satisfied: attrs>=17.3.0 in /usr/local/lib/python3.10/dist-packages (from aiohttp<4.0.0,>=3.8.3->langchain) (24.2.0)\n",
            "Requirement already satisfied: frozenlist>=1.1.1 in /usr/local/lib/python3.10/dist-packages (from aiohttp<4.0.0,>=3.8.3->langchain) (1.4.1)\n",
            "Requirement already satisfied: multidict<7.0,>=4.5 in /usr/local/lib/python3.10/dist-packages (from aiohttp<4.0.0,>=3.8.3->langchain) (6.0.5)\n",
            "Requirement already satisfied: yarl<2.0,>=1.0 in /usr/local/lib/python3.10/dist-packages (from aiohttp<4.0.0,>=3.8.3->langchain) (1.9.4)\n",
            "Requirement already satisfied: anyio<5,>=3.5.0 in /usr/local/lib/python3.10/dist-packages (from groq<1,>=0.4.1->langchain_groq) (3.7.1)\n",
            "Requirement already satisfied: distro<2,>=1.7.0 in /usr/lib/python3/dist-packages (from groq<1,>=0.4.1->langchain_groq) (1.7.0)\n",
            "Requirement already satisfied: httpx<1,>=0.23.0 in /usr/local/lib/python3.10/dist-packages (from groq<1,>=0.4.1->langchain_groq) (0.27.2)\n",
            "Requirement already satisfied: sniffio in /usr/local/lib/python3.10/dist-packages (from groq<1,>=0.4.1->langchain_groq) (1.3.1)\n",
            "Requirement already satisfied: typing-extensions<5,>=4.7 in /usr/local/lib/python3.10/dist-packages (from groq<1,>=0.4.1->langchain_groq) (4.12.2)\n",
            "Requirement already satisfied: filelock in /usr/local/lib/python3.10/dist-packages (from huggingface-hub>=0.23.0->langchain_huggingface) (3.15.4)\n",
            "Requirement already satisfied: fsspec>=2023.5.0 in /usr/local/lib/python3.10/dist-packages (from huggingface-hub>=0.23.0->langchain_huggingface) (2024.6.1)\n",
            "Requirement already satisfied: tqdm>=4.42.1 in /usr/local/lib/python3.10/dist-packages (from huggingface-hub>=0.23.0->langchain_huggingface) (4.66.5)\n",
            "Requirement already satisfied: jsonpatch<2.0,>=1.33 in /usr/local/lib/python3.10/dist-packages (from langchain-core<0.3.0,>=0.2.38->langchain) (1.33)\n",
            "Requirement already satisfied: orjson<4.0.0,>=3.9.14 in /usr/local/lib/python3.10/dist-packages (from langsmith<0.2.0,>=0.1.17->langchain) (3.10.7)\n",
            "Requirement already satisfied: jiter<1,>=0.4.0 in /usr/local/lib/python3.10/dist-packages (from openai>=1.0.0->openparse[ml]) (0.5.0)\n",
            "Requirement already satisfied: charset-normalizer>=2.0.0 in /usr/local/lib/python3.10/dist-packages (from pdfminer.six>=20200401->openparse[ml]) (3.3.2)\n",
            "Requirement already satisfied: cryptography>=36.0.0 in /usr/local/lib/python3.10/dist-packages (from pdfminer.six>=20200401->openparse[ml]) (43.0.0)\n",
            "Requirement already satisfied: certifi>=2019.11.17 in /usr/local/lib/python3.10/dist-packages (from pinecone-client<6.0.0,>=5.0.0->langchain-pinecone) (2024.8.30)\n",
            "Collecting pinecone-plugin-inference<2.0.0,>=1.0.3 (from pinecone-client<6.0.0,>=5.0.0->langchain-pinecone)\n",
            "  Downloading pinecone_plugin_inference-1.0.3-py3-none-any.whl.metadata (2.2 kB)\n",
            "Collecting pinecone-plugin-interface<0.0.8,>=0.0.7 (from pinecone-client<6.0.0,>=5.0.0->langchain-pinecone)\n",
            "  Downloading pinecone_plugin_interface-0.0.7-py3-none-any.whl.metadata (1.2 kB)\n",
            "Requirement already satisfied: urllib3>=1.26.0 in /usr/local/lib/python3.10/dist-packages (from pinecone-client<6.0.0,>=5.0.0->langchain-pinecone) (2.0.7)\n",
            "Requirement already satisfied: annotated-types>=0.4.0 in /usr/local/lib/python3.10/dist-packages (from pydantic>=2.0->openparse[ml]) (0.7.0)\n",
            "Requirement already satisfied: pydantic-core==2.20.1 in /usr/local/lib/python3.10/dist-packages (from pydantic>=2.0->openparse[ml]) (2.20.1)\n",
            "Requirement already satisfied: PyMuPDFb==1.24.10 in /usr/local/lib/python3.10/dist-packages (from PyMuPDF>=1.23.2->openparse[ml]) (1.24.10)\n",
            "Requirement already satisfied: idna<4,>=2.5 in /usr/local/lib/python3.10/dist-packages (from requests<3,>=2->langchain) (3.8)\n",
            "Requirement already satisfied: scikit-learn in /usr/local/lib/python3.10/dist-packages (from sentence-transformers>=2.6.0->langchain_huggingface) (1.3.2)\n",
            "Requirement already satisfied: scipy in /usr/local/lib/python3.10/dist-packages (from sentence-transformers>=2.6.0->langchain_huggingface) (1.13.1)\n",
            "Requirement already satisfied: greenlet!=0.4.17 in /usr/local/lib/python3.10/dist-packages (from SQLAlchemy<3,>=1.4->langchain) (3.0.3)\n",
            "Requirement already satisfied: regex>=2022.1.18 in /usr/local/lib/python3.10/dist-packages (from tiktoken>=0.3->openparse[ml]) (2024.5.15)\n",
            "Requirement already satisfied: sympy in /usr/local/lib/python3.10/dist-packages (from torch->openparse[ml]) (1.13.2)\n",
            "Requirement already satisfied: networkx in /usr/local/lib/python3.10/dist-packages (from torch->openparse[ml]) (3.3)\n",
            "Requirement already satisfied: jinja2 in /usr/local/lib/python3.10/dist-packages (from torch->openparse[ml]) (3.1.4)\n",
            "Requirement already satisfied: safetensors>=0.4.1 in /usr/local/lib/python3.10/dist-packages (from transformers->openparse[ml]) (0.4.4)\n",
            "Requirement already satisfied: exceptiongroup in /usr/local/lib/python3.10/dist-packages (from anyio<5,>=3.5.0->groq<1,>=0.4.1->langchain_groq) (1.2.2)\n",
            "Requirement already satisfied: cffi>=1.12 in /usr/local/lib/python3.10/dist-packages (from cryptography>=36.0.0->pdfminer.six>=20200401->openparse[ml]) (1.17.0)\n",
            "Requirement already satisfied: httpcore==1.* in /usr/local/lib/python3.10/dist-packages (from httpx<1,>=0.23.0->groq<1,>=0.4.1->langchain_groq) (1.0.5)\n",
            "Requirement already satisfied: h11<0.15,>=0.13 in /usr/local/lib/python3.10/dist-packages (from httpcore==1.*->httpx<1,>=0.23.0->groq<1,>=0.4.1->langchain_groq) (0.14.0)\n",
            "Requirement already satisfied: jsonpointer>=1.9 in /usr/local/lib/python3.10/dist-packages (from jsonpatch<2.0,>=1.33->langchain-core<0.3.0,>=0.2.38->langchain) (3.0.0)\n",
            "Requirement already satisfied: MarkupSafe>=2.0 in /usr/local/lib/python3.10/dist-packages (from jinja2->torch->openparse[ml]) (2.1.5)\n",
            "Requirement already satisfied: joblib>=1.1.1 in /usr/local/lib/python3.10/dist-packages (from scikit-learn->sentence-transformers>=2.6.0->langchain_huggingface) (1.4.2)\n",
            "Requirement already satisfied: threadpoolctl>=2.0.0 in /usr/local/lib/python3.10/dist-packages (from scikit-learn->sentence-transformers>=2.6.0->langchain_huggingface) (3.5.0)\n",
            "Requirement already satisfied: mpmath<1.4,>=1.1.0 in /usr/local/lib/python3.10/dist-packages (from sympy->torch->openparse[ml]) (1.3.0)\n",
            "Requirement already satisfied: pycparser in /usr/local/lib/python3.10/dist-packages (from cffi>=1.12->cryptography>=36.0.0->pdfminer.six>=20200401->openparse[ml]) (2.22)\n",
            "Downloading langchain_pinecone-0.1.3-py3-none-any.whl (10 kB)\n",
            "Downloading pinecone_notebooks-0.1.1-py3-none-any.whl (7.3 kB)\n",
            "Downloading pinecone_client-5.0.1-py3-none-any.whl (244 kB)\n",
            "\u001b[2K   \u001b[90m━━━━━━━━━━━━━━━━━━━━━━━━━━━━━━━━━━━━━━━━\u001b[0m \u001b[32m244.8/244.8 kB\u001b[0m \u001b[31m7.5 MB/s\u001b[0m eta \u001b[36m0:00:00\u001b[0m\n",
            "\u001b[?25hDownloading pinecone_plugin_inference-1.0.3-py3-none-any.whl (117 kB)\n",
            "\u001b[2K   \u001b[90m━━━━━━━━━━━━━━━━━━━━━━━━━━━━━━━━━━━━━━━━\u001b[0m \u001b[32m117.6/117.6 kB\u001b[0m \u001b[31m8.3 MB/s\u001b[0m eta \u001b[36m0:00:00\u001b[0m\n",
            "\u001b[?25hDownloading pinecone_plugin_interface-0.0.7-py3-none-any.whl (6.2 kB)\n",
            "Installing collected packages: pinecone-plugin-interface, pinecone-notebooks, pinecone-plugin-inference, pinecone-client, langchain-pinecone\n",
            "Successfully installed langchain-pinecone-0.1.3 pinecone-client-5.0.1 pinecone-notebooks-0.1.1 pinecone-plugin-inference-1.0.3 pinecone-plugin-interface-0.0.7\n",
            "--2024-09-08 23:09:54--  https://www.uffs.edu.br/atos-normativos/ppc/ccccch/2017-0002/@@download/documento_historico\n",
            "Resolving www.uffs.edu.br (www.uffs.edu.br)... 200.135.49.107\n",
            "Connecting to www.uffs.edu.br (www.uffs.edu.br)|200.135.49.107|:443... connected.\n",
            "HTTP request sent, awaiting response... 200 OK\n",
            "Length: 1383621 (1.3M) [application/pdf]\n",
            "Saving to: ‘data/ppc_2018.pdf’\n",
            "\n",
            "data/ppc_2018.pdf   100%[===================>]   1.32M   996KB/s    in 1.4s    \n",
            "\n",
            "2024-09-08 23:09:57 (996 KB/s) - ‘data/ppc_2018.pdf’ saved [1383621/1383621]\n",
            "\n"
          ]
        }
      ],
      "source": [
        "!pip install openparse[ml] html2text langchain langchain_groq langchain_huggingface faiss-cpu langchain-pinecone pinecone-notebooks\n",
        "!mkdir -p data\n",
        "!wget https://www.uffs.edu.br/atos-normativos/ppc/ccccch/2017-0002/@@download/documento_historico -O \"data/ppc_2018.pdf\"\n"
      ]
    },
    {
      "cell_type": "code",
      "source": [
        "from google.colab import userdata\n",
        "\n",
        "class Settings:\n",
        "  HF_TOKEN          = userdata.get('HF_TOKEN')\n",
        "  PINECONE_API_KEY  = userdata.get('PINECONE_API_KEY')\n",
        "  GROQ_API_KEY      = userdata.get('GROQ_API_KEY')\n",
        "\n",
        "\n",
        "settings = Settings()"
      ],
      "metadata": {
        "id": "1RFfAcNvkTHd"
      },
      "execution_count": 2,
      "outputs": []
    },
    {
      "cell_type": "markdown",
      "source": [],
      "metadata": {
        "id": "iiZlRfAokqkK"
      }
    },
    {
      "cell_type": "code",
      "source": [
        "from langchain_core.pydantic_v1 import BaseModel, Field\n",
        "from typing import List\n",
        "\n",
        "class MetadadosChunk(BaseModel):\n",
        "    topico: str = Field(description=\"Identifique do que se trata o texto: ementa de XXX, grade curricular , regulamento XXX, regras, laboratório, objetivos, infraestrutura, corpo docente, etc. Exemplos: ementa de Grafos, Instrução de validação de disciplinas, etc\")\n",
        "    palavras_chave: str = Field(description=\"Cinco palavras-chave principais que representam os conceitos centrais do chunk, separadas por vírgula.\")\n",
        "    possiveis_perguntas: str = Field(description=\"Lista de possíveis perguntas que podem ser respondidas com base no conteúdo deste chunk, separadas por vírgula\")\n"
      ],
      "metadata": {
        "id": "_4HnxdxXkrHD"
      },
      "execution_count": 3,
      "outputs": []
    },
    {
      "cell_type": "code",
      "source": [
        "from langchain_groq import ChatGroq\n",
        "\n",
        "def get_metadata(chunk, model_id='llama3-groq-70b-8192-tool-use-preview', count=0):\n",
        "    try:\n",
        "        model = ChatGroq(model=model_id, api_key=userdata.get('GROQ_API_KEY'))\n",
        "\n",
        "        prompt = f\"\"\"\n",
        "        Você é um assistente especializado no Plano Pedagógico do Curso (PPC) de Ciência da Computação da UFFS.\n",
        "        Sua função é fornecer metadados sobre textos extraídos do PPC.\n",
        "        Os tópicos comumente são sobre: grades curriculares, ementas, regulamentos, regras, objetivos, infraestrutura, corpo docente e assuntos relacionados.\n",
        "        Analise o seguinte texto e forneça os seguintes metadados:\n",
        "        - Tópico\n",
        "        - Palavras-chave\n",
        "        - Possiveis perguntas\n",
        "        Texto :  {chunk}\n",
        "        \"\"\"\n",
        "\n",
        "        structured_llm = model.with_structured_output(MetadadosChunk)\n",
        "        completion = structured_llm.invoke(prompt)\n",
        "        return completion\n",
        "\n",
        "    except Exception as e:\n",
        "        if count < 3:\n",
        "            print(f\"Erro ao tentar invocar o modelo: {e}. Tentativa {count + 1} de 3.\")\n",
        "            return get_metadata(chunk, model_id, count + 1)\n",
        "\n",
        "        print(\"Falha em todas as tentativas. Retornando metadados padrão.\")\n",
        "        return MetadadosChunk(\n",
        "            topico=\"Tópico desconhecido\",\n",
        "            palavras_chave=\"Desconhecido\",\n",
        "            possiveis_perguntas=\"Desconhecida\",\n",
        "        )\n"
      ],
      "metadata": {
        "id": "gN_OTxzIlOPj"
      },
      "execution_count": 85,
      "outputs": []
    },
    {
      "cell_type": "markdown",
      "metadata": {
        "id": "QWZkYJsFOB3A"
      },
      "source": [
        "## Tables\n",
        "\n",
        "We aim to be model agnostic - the DocumentParser supports extracting tables using either the \"table-transformers\" or \"pymupdf\" libraries - we're model agnostic. The `parsing_algorithm` field in the configuration dictionary decides which one to use.\n",
        "\n",
        "The `PyMuPDFArgsDict` (and similarly the `TableTransformersArgsDict`) lets you fine-tune how tables are extracted using specific arguments."
      ]
    },
    {
      "cell_type": "code",
      "execution_count": 5,
      "metadata": {
        "id": "Y0TuKEnpOB3A"
      },
      "outputs": [],
      "source": [
        "import openparse\n",
        "import html2text\n",
        "from langchain_core.documents import Document\n",
        "from uuid import uuid4\n",
        "\n",
        "\n",
        "def parse_document_to_documents(file_path, source_name):\n",
        "    # Parse the document using OpenParse\n",
        "    parser = openparse.DocumentParser(table_args={\"parsing_algorithm\": \"pymupdf\", \"table_output_format\": \"markdown\"})\n",
        "    document = parser.parse(file_path)\n",
        "\n",
        "    documents = []\n",
        "    ids = []\n",
        "\n",
        "    for node in document.nodes:\n",
        "        html_content = node.text\n",
        "\n",
        "        if html_content:\n",
        "            id = str(uuid4())\n",
        "            ids.append(id)\n",
        "            document_chunk = Document(\n",
        "                metadata={'source': source_name, 'id': str(uuid4())},\n",
        "                page_content=html_content\n",
        "            )\n",
        "            documents.append(document_chunk)\n",
        "\n",
        "    return documents, ids\n"
      ]
    },
    {
      "cell_type": "code",
      "source": [
        "ppc_2018_path = 'data/ppc_2018.pdf'\n",
        "ppc_2018_documents, ppc_2018_ids = parse_document_to_documents(ppc_2018_path, 'ppc2018')"
      ],
      "metadata": {
        "id": "9FMbgnlilY_8"
      },
      "execution_count": 9,
      "outputs": []
    },
    {
      "cell_type": "code",
      "source": [
        "len(ppc_2018_documents)"
      ],
      "metadata": {
        "colab": {
          "base_uri": "https://localhost:8080/"
        },
        "id": "gX7wmcxsl1GM",
        "outputId": "0e4febda-f736-4193-aa3a-92e7fd3f08e1"
      },
      "execution_count": 10,
      "outputs": [
        {
          "output_type": "execute_result",
          "data": {
            "text/plain": [
              "405"
            ]
          },
          "metadata": {},
          "execution_count": 10
        }
      ]
    },
    {
      "cell_type": "code",
      "source": [
        "from time import sleep\n",
        "\n",
        "metadata_documents_2018 = ppc_2018_documents\n",
        "\n",
        "for document in metadata_documents_2018:\n",
        "    metadata = get_metadata(document.page_content, 'llama-3.1-70b-versatile')\n",
        "    print(metadata)\n",
        "    document.metadata.update(metadata.dict())\n",
        "    sleep(7)"
      ],
      "metadata": {
        "colab": {
          "base_uri": "https://localhost:8080/"
        },
        "id": "15LI8bS8l3xK",
        "outputId": "eada06df-f407-473d-db31-fe1f4e847389"
      },
      "execution_count": 12,
      "outputs": [
        {
          "output_type": "stream",
          "name": "stdout",
          "text": [
            "topico='Apresentação' palavras_chave='UFFS, Ministério da Educação, Pró-Reitoria de Graduação' possiveis_perguntas='Quando a Universidade Federal da Fronteira Sul foi criada?, Qual é a sede da Universidade Federal da Fronteira Sul?, Quais são os campi da Universidade Federal da Fronteira Sul?'\n",
            "topico='Corpo docente e endereço da Reitoria' palavras_chave='Reitoria, Reitor, Vice-Reitor, Pró-Reitores' possiveis_perguntas='Quem é o Reitor da UFFS?, Quais são os nomes dos Pró-Reitores?'\n",
            "topico='Corpo docente' palavras_chave='Dirigentes, Chapecó-SC, Diretora de Campus, Coordenadora Administrativa, Coordenador Acadêmico' possiveis_perguntas='Quem é o coordenador acadêmico de Chapecó-SC?, Quem é a diretora de Campus de Chapecó-SC?, Quem é a coordenadora administrativa de Chapecó-SC?'\n",
            "topico='Corpo Docente do Campus de Cerro Largo' palavras_chave='corpo docente, dirigentes, Campus de Cerro Largo' possiveis_perguntas='Quais são os nomes dos dirigentes do Campus de Cerro Largo, Quem é o diretor do Campus de Cerro Largo, Quem é a coordenadora acadêmica do Campus de Cerro Largo'\n",
            "topico='Corpo docente' palavras_chave='Dirigentes de Erechim-RS, Diretor de Campus, Coordenador Administrativo, Coordenadora Acadêmica, Projeto Pedagógico do Curso de Graduação em Ciência da Computação – Bacharelado' possiveis_perguntas='Quem é o diretor do campus de Erechim-RS?, Quem é o coordenador administrativo do campus de Erechim-RS?, Quem é a coordenadora acadêmica do campus de Erechim-RS?, Quais são os dirigentes do campus de Erechim-RS?'\n",
            "topico='Corpo docente e dirigentes de Laranjeiras do Sul-PR' palavras_chave='corpo docente, diretoria, coordenação, Laranjeiras do Sul-PR' possiveis_perguntas='Quem é a diretora de Campus de Laranjeiras do Sul-PR?, Quem é o coordenador administrativo de Laranjeiras do Sul-PR?, Quem é a coordenadora acadêmica de Laranjeiras do Sul-PR?'\n",
            "topico='Índice do PPC de Ciência da Computação' palavras_chave='PPC, Ciência da Computação, UFFS, Índice' possiveis_perguntas='O que é o PPC de Ciência da Computação, Quais são os tópicos abordados no PPC de Ciência da Computação, Qual é o objetivo do PPC de Ciência da Computação'\n",
            "topico='apêndices do curso de Ciência da Computação' palavras_chave='infraestrutura, apêndices, regulamento, atividades curriculares complementares, trabalho de conclusão, aproveitamento por equivalência' possiveis_perguntas='O que é o Apêndice I do curso de Ciência da Computação?, Qual é o objetivo do Apêndice II do curso de Ciência da Computação?, O que é o Apêndice III do curso de Ciência da Computação?'\n",
            "topico='dados gerais do curso de Ciência da Computação' palavras_chave='curso de Ciência da Computação, Bacharelado, Presencial, UFFS, Chapecó-SC' possiveis_perguntas='Qual é o tipo de curso de Ciência da Computação oferecido pela UFFS, Qual é a modalidade do curso de Ciência da Computação, Qual é a carga horária total do curso de Ciência da Computação, Qual é a duração em semestres do curso de Ciência da Computação'\n",
            "topico='Reconhecimento e estrutura do curso' palavras_chave='periodicidade de oferta, tempo para conclusão, carga horária, reconhecimento' possiveis_perguntas='Qual é a periodicidade de oferta do curso?, Qual é o tempo mínimo para concluir o curso?, Qual é o tempo máximo para concluir o curso?, Qual é a carga horária mínima por período letivo?, Qual é a carga horária máxima por período letivo?'\n",
            "topico='Formas de ingresso nos cursos de graduação da UFFS' palavras_chave='ingresso, graduação, UFFS, processo seletivo, transferência' possiveis_perguntas='Quais são as formas de ingresso nos cursos de graduação da UFFS?, Como funciona o processo seletivo regular?, Quais são as opções de transferência para os cursos de graduação da UFFS?'\n",
            "topico='Processo Seletivo Regular da Graduação' palavras_chave='ENEM, SISU, Lei de Cotas, Vagas Reservadas, Ação Afirmativa' possiveis_perguntas='Como funciona o processo seletivo regular da graduação, Quais são os critérios para a reserva de vagas, O que é a Lei de Cotas, Como a UFFS define o percentual de vagas reservadas'\n",
            "topico='política de ingresso' palavras_chave='vagas, escola pública, escola privada sem fins lucrativos, poder público, Resolução 006/2012 – CONSUNI/CGRAD' possiveis_perguntas='Quais são as vagas disponíveis para candidatos que cursaram o ensino médio em escola pública ou privada sem fins lucrativos?, Qual é a política de ingresso aprovada pela Resolução 006/2012 – CONSUNI/CGRAD?'\n",
            "topico='regras de transferência e retorno de aluno' palavras_chave='transferência interna, retorno de aluno-abandono, transferência externa, retorno de graduado' possiveis_perguntas='Quais são as modalidades de ingresso previstas no Art. 27 da Resolução 4/2014 – CONSUNI/CGRAD?, Como ocorre a seleção para transferência e retorno de aluno?, Quais são os procedimentos para inscrição, classificação e matrícula?'\n",
            "topico='Histórico institucional' palavras_chave='Universidade Federal da Fronteira Sul, acesso ao Ensino Superior Público, história institucional' possiveis_perguntas='Quando surgiu a luta histórica para o acesso ao Ensino Superior Público, Qual foi o papel da redemocratização na criação da UFFS, Quais foram as consequências das mobilizações da sociedade civil organizada?'\n",
            "topico='Contexto Histórico do PPC' palavras_chave='ideário neoliberal, ensino superior público, desenvolvimento regional, Plano Nacional de Educação' possiveis_perguntas='Qual foi o impacto do ideário neoliberal no ensino superior público, Quais foram os eventos que levaram à retomada da mobilização por ensino superior público e gratuito, Como o Plano Nacional de Educação influenciou o desenvolvimento regional?'\n",
            "topico='Contextualizacao da criacao da UFFS' palavras_chave='criacao da UFFS, expansao do ensino superior, mobilizacao social, governo Lula' possiveis_perguntas='Qual foi o contexto que levou a criacao da UFFS?, Como o governo Lula influenciou a criacao da UFFS?, Quais foram as mobilizacoes sociais que contribuiram para a criacao da UFFS?'\n",
            "topico='Histórico da criação da UFFS' palavras_chave='UFFS, Via Campesina, Fetraf-Sul, Movimento Pró-Universidade, mobilização comunitária' possiveis_perguntas='Quais foram os principais movimentos que contribuíram para a criação da UFFS?, Quais foram as principais reivindicações dos movimentos sociais na região?'\n",
            "topico='Contexto histórico e social da região' palavras_chave='movimentos sociais, universidade pública federal, organização comunitária, produção solidária, agricultura, agroindústria' possiveis_perguntas='Qual é o contexto histórico da região?, Quais são os movimentos sociais presentes na região?, Qual é a importância da universidade pública federal na região?, Quais são as características da produção agrícola e agroindustrial na região?'\n",
            "topico='Análise social e econômica' palavras_chave='exclusão social, conflitos sociais, propriedade, riqueza gerada, periferias' possiveis_perguntas='Quais são as principais causas dos conflitos sociais?, Como a propriedade e a riqueza gerada afetam a sociedade?, Por que parcelas significativas da população regional vivem em periferias?'\n",
            "topico='criacao da UFFS' palavras_chave='UFFS, Universidade Federal da Fronteira Sul, Mesorregião Grande Fronteira do Mercosul' possiveis_perguntas='Qual foi o contexto histórico da criação da UFFS?, Quais foram as organizações envolvidas no movimento pela criação da UFFS?, Qual foi o papel do Governo Lula na criação da UFFS?'\n",
            "topico='criacao da UFFS' palavras_chave='UFFS, Movimento Pró-Universidade Federal, criação da universidade, desenvolvimento econômico, social, científico e tecnológico' possiveis_perguntas='Qual foi o movimento que levou à criação da UFFS?, Qual foi a proposta aprovada pelo MEC em 2006?, Qual foi o compromisso assumido pelo MEC em 2006? '\n",
            "topico='Projeto Pedagógico do Curso de Graduação em Ciência da Computação – Bacharelado' palavras_chave='Projeto Pedagógico, Ciência da Computação, Bacharelado' possiveis_perguntas='Qual foi a origem do Projeto Pedagógico do Curso de Graduação em Ciência da Computação, Quais foram as etapas para a criação do Projeto Pedagógico, Quais órgãos participaram da criação do Projeto Pedagógico?'\n",
            "topico='criacao da UFFS' palavras_chave='UFFS, criação, história, universidade' possiveis_perguntas='Quando foi criada a UFFS?, Quem criou a UFFS?, Qual é a sede da UFFS?'\n",
            "topico='Implantação da UFFS' palavras_chave='UFFS, implantação, reitor, concursos, processo seletivo' possiveis_perguntas='Quando foi iniciada a implantação da UFFS?, Quem foi o reitor nomeado para coordenar a implantação da UFFS?, Quantos acadêcutemicos ingressaram na UFFS no primeiro processo seletivo?'\n",
            "topico='estrutura curricular' palavras_chave='currículo, domínios de conhecimento, formação profissional' possiveis_perguntas='Quais são os domínios de conhecimento no currículo da UFFS?, Qual é o objetivo do Domínio Comum no currículo?, Como os domínios de conhecimento são articuladores entre ensino, pesquisa e extensão?'\n",
            "topico='Organização e implantação da UFFS' palavras_chave='UFFS, organização, implantação, identidade institucional, interação com a comunidade' possiveis_perguntas='Como foi a organização dos campi da UFFS, Quais foram os desafios enfrentados pela UFFS no seu primeiro ano de funcionamento, Como a UFFS interagiu com a comunidade regional'\n",
            "topico='História e criação do estatuto da UFFS' palavras_chave='UFFS, estatuto, COEPE, processo participativo' possiveis_perguntas='Quais foram as primeiras ações da Universidade, Quem participou da criação do estatuto da UFFS?'\n",
            "topico='Estatuto da UFFS' palavras_chave='UFFS, Estatuto, estruturação, Conselho Universitário, Conselho Estratégico Social' possiveis_perguntas='Qual é o papel do Estatuto na estruturação da UFFS?, Quais são as instâncias essenciais de funcionamento da UFFS?, Qual é a função do Conselho Estratégico Social?'\n",
            "topico='História da instituição' palavras_chave='UFFS, criação, consolidação, crescimento, desafios' possiveis_perguntas='Quando a UFFS foi criada?, Qual foi o processo de consolidação da UFFS?, Quais foram os desafios enfrentados pela UFFS?'\n",
            "topico='Desenvolvimento da UFFS' palavras_chave='expansão, UFFS, criação de campi, Ministério da Educação, SISU' possiveis_perguntas='Qual é o contexto de expansão da UFFS?, Quais são os desafios enfrentados pela UFFS?, Como a UFFS se projeta no cenário nacional?'\n",
            "topico='Apresentação da UFFS' palavras_chave='UFFS, qualidade, cursos, graduação, pós-graduação' possiveis_perguntas='Qual é a missão da UFFS?, Quais são os objetivos da UFFS?, Qual é a visão da UFFS?'\n",
            "topico='Equipe de coordenação e elaboração do PPC' palavras_chave='UFFS, PPC, coordenação, elaboração' possiveis_perguntas='Quem compõe a equipe de coordenação e elaboração do PPC, Qual é a função da equipe de coordenação e elaboração do PPC, Quais são as responsabilidades da equipe de coordenação e elaboração do PPC'\n",
            "topico='Corpo docente' palavras_chave='Corpo docente, professores, PPC, Ciência da Computação, UFFS' possiveis_perguntas='Quais são os professores responsáveis pela elaboração do PPC, Quais são os membros do corpo docente do curso de Ciência da Computação da UFFS?'\n",
            "topico='Comissão de acompanhamento pedagógico curricular' palavras_chave='acompanhamento pedagógico, comissão, membros' possiveis_perguntas='Quais são os membros da Comissão de acompanhamento pedagógico curricular, Quem é o diretor de Organização Pedagógica, Quais são as divisões representadas na comissão?'\n",
            "topico='Núcleo docente estruturante do curso' palavras_chave='Núcleo Docente Estruturante, professores, atribuições acadêmicas' possiveis_perguntas='O que é o Núcleo Docente Estruturante?, Quais são as atribuições acadêmicas dos professores?'\n",
            "topico='Composição do Núcleo Docente Estruturante (NDE) do curso de Graduação em Ciência da Computação - Bacharelado' palavras_chave='NDE, composição, professores, Domínio Específico, Domínio Comum, Domínio Conexo' possiveis_perguntas='Quem compõe o NDE do curso de Graduação em Ciência da Computação - Bacharelado?, Quantos professores compõem o NDE?, Quais são os requisitos para ser membro do NDE?'\n",
            "topico='Corpo docente' palavras_chave='corpo docente, professores, titulação, domínio' possiveis_perguntas='Quais são os professores do curso de Ciência da Computação da UFFS?, Qual é a titulação dos professores?, Em quais áreas os professores têm especialização?'\n",
            "topico='Justificativa' palavras_chave='MINISTÉRIO DA EDUCAÇÃO, UFFS, PRÓ-REITORIA DE GRADUAÇÃO' possiveis_perguntas='Qual é a justificativa do curso de Ciência da Computação da UFFS?, Quais são as principais instituições envolvidas na criação do PPC?'\n",
            "topico='Justificativa da criação do curso de Ciência da Computação' palavras_chave='tecnologia da informação, desenvolvimento da área de Computação, inovação tecnológica, responsabilidade técnica e social' possiveis_perguntas='Por que o curso de Ciência da Computação foi criado?, Qual é a importância da tecnologia da informação?, Como a inovação tecnológica impacta as áreas usuárias?'\n",
            "topico='Objetivos do Curso de Ciência da Computação' palavras_chave='formação de profissionais, tecnologia da informação, região do Oeste Catarinense, desenvolvimento regional' possiveis_perguntas='Qual é o papel do curso de Ciência da Computação na UFFS?, Quais são os objetivos do curso de Ciência da Computação?, Como o curso de Ciência da Computação contribui para o desenvolvimento regional?'\n",
            "topico='Objetivos do Curso de Ciência da Computação' palavras_chave='aquisição de conhecimentos, habilidades sociais, tecnologias, ambiente social, cultural, econômico' possiveis_perguntas='Quais são os objetivos do Curso de Ciência da Computação?, Qual é o papel da UFFS no desenvolvimento do curso?, Como o curso se insere no contexto social, cultural e econômico?'\n",
            "topico='Reformulacao do PPC de Ciencia da Computacao' palavras_chave='PPC, reformulacao, grade curricular, ementas, disciplinas' possiveis_perguntas='O que motivou a reformulacao do PPC de Ciencia da Computacao?, Quais foram as principais mudancas feitas na grade curricular?, Como a carga horaria do curso foi ajustada?'\n",
            "topico='Reformulação da grade curricular do curso de Ciência da Computação' palavras_chave='grade curricular, Domínio Comum, Domínio Conexo, Domínio Específico, reformulação' possiveis_perguntas='Quais foram as mudanças realizadas na grade curricular do curso de Ciência da Computação?, Qual foi o objetivo da reformulação da grade curricular?, Como a reformulação da grade curricular afetou os três domípios do curso?'\n",
            "topico='Referenciais Orientadores' palavras_chave='ética, política, ensino, pesquisa, extensão' possiveis_perguntas='Quais são os referenciais orientadores da UFFS?, Qual é o objetivo da UFFS em relação à formação superior?, Como a UFFS busca promover a inclusão social?'\n",
            "topico='Princípios ético-políticos do curso de Ciência da Computação' palavras_chave='transparência, independência, cooperação, socialização, ética' possiveis_perguntas='Quais são os princípios ético-políticos do curso de Ciência da Computação?, Qual é o papel da transparência e independência no curso?, Como a cooperação e socialização são promovidas no curso?'\n",
            "topico='Atividades de extensão e prática profissional no curso de Ciência da Computação' palavras_chave='prática profissional, empreendedorismo, grupos de pesquisa, projetos de pesquisa, atividades de extensão' possiveis_perguntas='Quais oportunidades de prática profissional são oferecidas no curso de Ciência da Computação?, Como o curso estimula o empreendedorismo?, Quais são as oportunidades de pesquisa e extensão disponíveis para os estudantes?'\n",
            "topico='Objetivos do curso de Ciência da Computação' palavras_chave='formação cidadã, compromisso com desenvolvimento regional sustentável, garantia de acesso e permanência' possiveis_perguntas='Quais são os objetivos do curso de Ciência da Computação?, Como o curso visa formar cidadãos?, Quais são as ações para garantir a permanência dos acadêmicos?'\n",
            "topico='Princípios do curso de Ciência da Computação' palavras_chave='pluralidade, autonomia, gestão participativa, avaliação permanente' possiveis_perguntas='Quais são os princípios do curso de Ciência da Computação?, Qual é o significado de pluralidade no curso?, Como a autonomia é construída no curso?, Qual é a importância da gestão participativa no curso?, Como a avaliação permanente é realizada no curso?'\n",
            "topico='Avaliação de cursos de graduação' palavras_chave='avaliação externa, ENADE, SINAES, avaliação interna, autoavaliação, CPA' possiveis_perguntas='Quais são os métodos de avaliação do curso de graduação em Ciência da Computação?, Como é feita a avaliação externa do curso?, Quais são os instrumentos utilizados para a avaliação interna?'\n",
            "topico='Fundamentação Epistemológica do Curso de Ciência da Computação' palavras_chave='epistemológicos, democrático, pluralidade de pensamento, diversidade cultural, conhecimento técnico-científico, conhecimento social' possiveis_perguntas='Qual é a base epistemológica do curso de Ciência da Computação?, Qual é o princípio democrático que o curso de Ciência da Computação busca seguir?, Como o curso de Ciência da Computação busca respeitar a pluralidade de pensamento e a diversidade cultural?'\n",
            "topico='Objetivos do curso de Ciência da Computação' palavras_chave='desenvolvimento científico, desenvolvimento humano, interdisciplinaridade, formação profissional, bem coletivo' possiveis_perguntas='Qual é o objetivo do curso de Ciência da Computação?, Como o curso de Ciência da Computação busca contribuir para o desenvolvimento social?, Quais são os fundamentos institucionais do curso de Ciência da Computação?'\n",
            "topico='Metodologias do curso de Ciência da Computação' palavras_chave='metodológicos, interdisciplinares, ensino, pesquisa, extensão' possiveis_perguntas='Quais são as metodologias utilizadas no curso de Ciência da Computação?, Como são integrados os conteúdos no curso?'\n",
            "topico='Metodologia de ensino' palavras_chave='Metodologia de ensino, estratégias de integração, conteúdo curricular, ementário, PPC, componente curricular' possiveis_perguntas='Qual é a metodologia de ensino utilizada no PPC?, Como as estratégias de integração são fortalecidas ao longo do curso?, Qual é o papel da iniciação científica e da monitoria na metodologia de ensino?'\n",
            "topico='Ementa de Trabalho de Conclusão de Curso' palavras_chave='Trabalho de Conclusão de Curso, conhecimento multidisciplinar, componente curricular obrigatório, integração com requisitos' possiveis_perguntas='O que é o Trabalho de Conclusão de Curso no PPC de Ciência da Computação da UFFS?, Qual é o objetivo do Trabalho de Conclusão de Curso no PPC?, Como o Trabalho de Conclusão de Curso se integra com os demais componentes curriculares?'\n",
            "topico='Legislacao e regulamentacao' palavras_chave='Legislacao, regulamentacao, SBC, profissao de Computacao' possiveis_perguntas='Quais sao as principais regulamentacoes para a profissao de Computacao no Brasil, Qual e o papel da SBC na regulamentacao da profissao, Como o curso de Ciencia da Computacao da UFFS se alinha as propostas da SBC?'\n",
            "topico='Regulamento' palavras_chave='Lei de Diretrizes e Bases da Educação Nacional, Diretrizes Curriculares Nacionais de Cursos na Área de Computação, Decreto 5626' possiveis_perguntas='Quais são as leis que fundamentam o PPC, Quais são as diretrizes curriculares nacionais para cursos de computação, Quais são os decretos que influenciam o PPC?'\n",
            "topico='Objetivos do Curso' palavras_chave='objetivos, curso, graduação' possiveis_perguntas='Quais são os objetivos do curso de Ciência da Computação?'\n",
            "topico='objetivo geral' palavras_chave='formacao integral, conhecimentos técnicos e científicos, inovação, transformação, adaptação às mudanças tecnológicas e sociais, formação cidadã, interdisciplinar e profissional' possiveis_perguntas='Qual é o objetivo geral do curso de Ciência da Computação?, Quais são os conhecimentos técnicos e científicos que os egressos devem possuir?, Como os egressos devem aplicar seus conhecimentos?, Quais são as habilidades que os egressos devem ter para se adaptar às mudanças tecnológicas e sociais?'\n",
            "topico='Objetivos Específicos' palavras_chave='fundamentos da computacao, solucao de problemas, desenvolvimento de software, abstracao, raciocinio logico, etica profissional' possiveis_perguntas='Quais sao os objetivos especificos do curso de Ciencia da Computacao, Como o curso prepara os alunos para o mercado de trabalho, Quais habilidades sao desenvolvidas no aluno durante o curso, Como o curso aborda a etica profissional'\n",
            "topico='ementa de sociologia' palavras_chave='sociologia, convívio humano, relações de poder, valorações sociais, organização sociopolitica' possiveis_perguntas='O que é a sociologia?, Qual é o foco da sociologia?, Como a sociologia se relaciona com a organização sociopolítica?'\n",
            "topico='Perfil do Egresso do Curso de Bacharelado em Ciência da Computação' palavras_chave='Competências, habilidades, atitudes, Ciência da Computação, ENADE, SBC, ACM/IEEE' possiveis_perguntas='Quais são as competências e habilidades que o egresso do curso de Bacharelado em Ciência da Computação da UFFS deve possuir?, Quais são as normativas que regulamentam o curso de Bacharelado em Ciência da Computação da UFFS?'\n",
            "topico='Objetivos do curso de Ciência da Computação' palavras_chave='Ciência da Computação, objetivos, habilidades, tecnologias da computação' possiveis_perguntas='Quais são os objetivos do curso de Ciência da Computação?, Quais habilidades deve ter um egresso do curso de Ciência da Computação?'\n",
            "topico='Objetivos do Curso de Ciência da Computação' palavras_chave='fundamentos teóricos da computação, formação humanística, atualização tecnológica, soluções de problemas, modelagem computacional' possiveis_perguntas='Quais são os objetivos do curso de Ciência da Computação?, Qual é a importância da formação humanística no curso de Ciência da Computação?, Como o curso de Ciência da Computação aborda a atualização tecnológica?'\n",
            "topico='Perfil profissional do curso de Ciencia da Computacao' palavras_chave='capacidade de gerenciar riscos, liderança de projetos, senso crítico, desenvolvimento de soluções, perfil profissional' possiveis_perguntas='Quais são as habilidades necessárias para um profissional de Ciência da Computação, Quais são os objetivos do curso de Ciência da Computação, Quais são as principais competências desenvolvidas no curso de Ciência da Computação'\n",
            "topico='Objetivos' palavras_chave='trabalho minucioso, desenvolvimento tecnológico, compromisso, senso crítico' possiveis_perguntas='Quais são os principais objetivos do curso de Ciência da Computação? Quais são as principais qualidades esperadas de um graduado em Ciência da Computação?'\n",
            "topico='Organização Curricular' palavras_chave='matriz curricular, perfil do egresso, Projeto Pedagógico do Curso, coerência entre ensino-aprendizagem e avaliação' possiveis_perguntas='O que é a matriz curricular de um curso, Como o Projeto Pedagógico do Curso é implementado, Qual a importância da coerência entre ensino-aprendizagem e avaliação'\n",
            "topico='Projeto Pedagógico Institucional (PPI) e organização curricular' palavras_chave='Projeto Pedagógico, organização curricular, domínios de ensino' possiveis_perguntas='O que é o Projeto Pedagógico Institucional (PPI)?, Quais são os domínios de ensino no PPI?, Como a organização curricular se relaciona com o PPI?'\n",
            "topico='Grade curricular' palavras_chave='currículo, educação pública, justiça curricular, domínio conexo, interdisciplinaridade' possiveis_perguntas='O que é um currículo com uma parte comum a todos os cursos de graduação?, Qual é o propósito da justiça curricular?, O que é um domínio conexo?'\n",
            "topico='Grade Curricular' palavras_chave='Domínio Específico, grade curricular, formação interdisciplinar e profissional, perfil dos egressos' possiveis_perguntas='O que é o Domínio Específico, Como os domínios estão presentes na grade curricular do curso, Qual é o objetivo da estrutura em domínios'\n",
            "topico='Organizacao Curricular' palavras_chave='componentes curriculares, projetos pedagogicos, diretrizes curriculares, subareas, articulacao' possiveis_perguntas='Quais componentes curriculares sao oferecidos nas diversas fases?, Como os projetos pedagogicos sao implementados?, Quais sao as subareas da area de formacao?, Como as subareas se articulam com os dominios da UFFS?'\n",
            "topico='matriz curricular proposta' palavras_chave='matriz curricular, Domínio Comum, Domínio Conexo, Domínio Específico, componentes curriculares, metodologia de ensino, extensão' possiveis_perguntas='O que é a matriz curricular proposta?, Quais são os domínios presentes na matriz curricular?, Como os componentes curriculares serão escolhidos?, Como a extensão será desenvolvida?'\n",
            "topico='apresentação do PPC da UFFS' palavras_chave='PPC, UFFS, matriz curricular, pesquisa, trabalho de conclusão de curso' possiveis_perguntas='Qual é a estrutura do PPC da UFFS?, Quais são as diretrizes que orientam a estrutura dos cursos da área da Computação?, O que é o trabalho de conclusão de curso?'\n",
            "topico='Matriz Curricular' palavras_chave='Matriz Curricular, Entradas Anuais, Turnos, Carga Horária, Componentes Curriculares' possiveis_perguntas='Qual a duração do curso de Ciência da Computação no turno vespertino?, Qual a duração do curso de Ciência da Computação no turno noturno?, Como a matriz curricular se organiza para o turno noturno?'\n",
            "topico='grade curricular' palavras_chave='componentes curriculares, fases, optativas, carga horária, alocação' possiveis_perguntas='Quais são os componentes curriculares disponíveis, Como as fases são organizadas, Quantas optativas são ofertadas, Como a alocação das optativas é feita, Como a carga horária optativa é cumprida'\n",
            "topico='Matriz curricular' palavras_chave='Matriz curricular, grade curricular, turno vespertino, Ciência da Computação' possiveis_perguntas='Qual é a matriz curricular do turno vespertino do curso de Ciência da Computação?, Quais são as disciplinas oferecidas na matriz curricular do turno vespertino?, Qual é a duração da matriz curricular do turno vespertino?'\n",
            "topico='Grade Curricular' palavras_chave='grade curricular,componentes curriculares,creditos,horas' possiveis_perguntas='Quais sao as disciplinas da grade curricular?,Quantos creditos sao necessarios para concluir o curso?,Quais sao as optativas disponiveis?'\n",
            "topico='Matriz curricular do turno noturno' palavras_chave='Matriz curricular, turno noturno, grade curricular, Ciência da Computação, UFFS' possiveis_perguntas='Qual é a matriz curricular do turno noturno do curso de Ciência da Computação da UFFS?, Quais são os componentes curriculares da matriz curricular do turno noturno?, Quais são os créditos e horas de cada componente curricular?'\n",
            "topico='Grade curricular de Ciência da Computação' palavras_chave='Grade curricular, Ciência da Computação, UFFS' possiveis_perguntas='Qual é a estrutura da grade curricular de Ciência da Computação?, Quais são as disciplinas obrigatórias e optativas?, Quais são os pré-requisitos para cada disciplina?'\n",
            "topico='Alterações na ordem de oferta dos componentes' palavras_chave='alterações, oferta, componentes, resolução, pré-requisito' possiveis_perguntas='Quais foram as alterações na ordem de oferta dos componentes?, Qual é a resolução que alterou o pré-requisito?'\n",
            "topico='Componentes Curriculares do Domínio Comum' palavras_chave='Domínio Comum, Componentes Curriculares, Créditos' possiveis_perguntas='Quais são os componentes curriculares do Domínio Comum?, Quantos créditos são necessários para o Domínio Comum?'\n",
            "topico='Componentes Curriculares do Domínio Conexo' palavras_chave='Domínio Conexo, matriz curricular, cursos de graduação, UFFS, Campus Chapecó' possiveis_perguntas='O que é o Domínio Conexo?, Quais são os requisitos de articulação para os cursos no Campus Chapecó?, Quais cursos estão conectados ao curso de Ciência da Computação?'\n",
            "topico='Grade curricular de Ciência da Computação' palavras_chave='Ciência da Computação, Matemática, Engenharia Ambiental, Administração, disciplinas obrigatórias' possiveis_perguntas='Quais são as disciplinas obrigatórias em Matemática para o curso de Ciência da Computação?, Quais são as disciplinas optativas em Matemática?, Quais são as disciplinas idênticas em Matemática?'\n",
            "topico='Articulação de componentes curriculares' palavras_chave='componentes curriculares, articulação, corpo docente, NDEs' possiveis_perguntas='Como ocorre a articulação dos componentes curriculares, Como os professores devem trabalhar juntos para construir atividades conjuntas, Qual é o papel dos NDEs na articulação dos componentes curriculares'\n",
            "topico='Componentes Curriculares Optativos' palavras_chave='componentes curriculares optativos, técnicas, tecnologias, Ciência da Computação, grade regular, carga horária' possiveis_perguntas='Quais são os objetivos dos componentes curriculares optativos, Quais são os componentes básicos dos componentes curriculares optativos, Como os componentes curriculares optativos se relacionam com a grade regular, Quais são as técnicas e tecnologias mais recentes abordadas nos componentes curriculares optativos'\n",
            "topico='Grade curricular' palavras_chave='Componentes curriculares, créditos, pré-requisitos, carga horária' possiveis_perguntas='Quais são os componentes curriculares do curso de Ciência da Computação?, Quais são os pré-requisitos para cada disciplina?, Quantos créditos e horas tem cada disciplina?'\n",
            "topico='Grade curricular' palavras_chave='Tópicos especiais em computação, créditos, horas, pré-requisitos' possiveis_perguntas='Quais são os tópicos especiais em computação oferecidos no curso, Quantos créditos e horas têm os tópicos especiais em computação, Quais são os pré-requisitos para os tópicos especiais em computação?'\n",
            "topico='grade curricular' palavras_chave='componentes curriculares, carga horária, créditos, pré-requisitos' possiveis_perguntas='Quais são os componentes curriculares da grade?, Quantos créditos são necessários para concluir o curso?, Quais são os pré-requisitos para cada componente?'\n",
            "topico='Grade Curricular' palavras_chave='Tópicos especiais em computação, créditos, horas' possiveis_perguntas='Quais são os tópicos especiais em computação oferecidos?, Quantos créditos e horas cada tópico especial em computação tem?'\n",
            "topico='Totais de créditos e horas por modalidades' palavras_chave='créditos, horas, modalidades' possiveis_perguntas='Quais são os totais de créditos e horas por modalidades?'\n",
            "topico='Distribuição das disciplinas por núcleos de formação sugeridos no Currículo de Referência da Sociedade Brasileira de Computação (SBC)' palavras_chave='núcleos de formação, Currículo de Referência da SBC, distribuição de disciplinas' possiveis_perguntas='Quais são os núcleos de formação sugeridos no Currículo de Referência da SBC?, Como as disciplinas são distribuídas por núcleo de formação?, Qual é o papel das áreas de conhecimento na formação do profissional de Ciência da Computação?'\n",
            "topico='Grade curricular do Curso de Ciência da Computação' palavras_chave='Fundamentos da Computação, Tecnologia da Computação, Componentes Curriculares, Créditos, Percentual' possiveis_perguntas='Quais são os componentes curriculares do Curso de Ciência da Computação?, Qual é o percentual de créditos do núcleo Fundamentos da Computação?, Quais são as disciplinas incluídas no núcleo Tecnologia da Computação?'\n",
            "topico='Grade Curricular de Ciência da Computação' palavras_chave='Grade Curricular, Ciência da Computação, Componentes Curriculares, Núcleo, Ciência Básicas, Matemática, Contexto Social e Profissional' possiveis_perguntas='Quais são os componentes curriculares da grade curricular de Ciência da Computação?, Quais são os créditos e percentuais de cada núcleo?, Quais são as disciplinas de Matemática na grade curricular?'\n",
            "topico='Grade Curricular' palavras_chave='Componentes Optativos, Trabalhos de Conclusão de Curso, Atividades Curriculares Complementares' possiveis_perguntas='Quais são os percentuais dos componentes optativos, Trabalhos de Conclusão de Curso e Atividades Curriculares Complementares?, Como os componentes optativos são classificados?'\n",
            "topico='Distribuição dos componentes curriculares conforme organização curricular da UFFS' palavras_chave='UFFS, organização curricular, distribuição de créditos, componentes curriculares, Ciência da Computação' possiveis_perguntas='Qual é a distribuição dos componentes curriculares no curso de Ciência da Computação da UFFS?, Quais são os créditos alocados para os componentes curriculares específicos?, Qual é a percentagem de créditos para os componentes curriculares específicos?'\n",
            "topico='Grade curricular de Ciencia da Computacao' palavras_chave='grade curricular, ciencia da computacao, componentes curriculares, creditos' possiveis_perguntas='Quais sao os componentes curriculares da grade de Ciencia da Computacao?, Quais sao os creditos necessarios para concluir o curso?'\n",
            "topico='Grade Curricular' palavras_chave='MINISTÉRIO DA EDUCAÇÃO, UNIVERSIDADE FEDERAL DA FRONTEIRA SUL, PRÓ-REITORIA DE GRADUAÇÃO, DIRETORIA DE PEDAGÓGICA, Domínios, Créditos, Componentes curriculares' possiveis_perguntas='O que é o PPC da UFFS, Quais são os componentes curriculares da Grade Curricular, Quais são os créditos necessários para cada componente curricular'\n",
            "topico='Grade Curricular' palavras_chave='Atividades Curriculares Complementares, carga horária, Domínio Específico' possiveis_perguntas='Qual é a porcentagem de carga horária das Atividades Curriculares Complementares, Qual é a carga horária dos componentes optativos no Domínio Específico?'\n",
            "topico='Tabela resumo de créditos do curso de Ciência da Computação' palavras_chave='Créditos, Horas-Aula, Horas-Relógio, Componentes Curriculares Obrigatórios, Componentes Curriculares Optativos, Atividades Curriculares Complementares' possiveis_perguntas='Qual é o total de créditos do curso de Ciência da Computação?, Quantas horas-aula e horas-relógio são necessárias para concluir o curso?'\n",
            "topico='Matriz Curricular e Carga Horária' palavras_chave='matriz curricular, carga horária, créditos, turmas, professores, laboratórios, salas de aulas' possiveis_perguntas='Qual é a distribuição de créditos dos componentes curriculares?, Como são distribuídas as turmas em relação ao número de estudantes matriculados?, Quais são as exigências para a duplicação de turma?'\n",
            "topico='Distribuição de créditos dos componentes curriculares' palavras_chave='distribuição de créditos, componentes curriculares, laboratórios, salas de aula' possiveis_perguntas='Qual é a distribuição de créditos dos componentes curriculares no curso?, Quais são os componentes curriculares que utilizam laboratórios e salas de aula?, Qual é a porcentagem de utilização de laboratórios e salas de aula por componente curricular?'\n",
            "topico='Grade curricular' palavras_chave='Componentes curriculares, distribuição de carga horária, disciplinas' possiveis_perguntas='Quais são as disciplinas oferecidas no curso de Ciência da Computação, Qual é a carga horária de cada disciplina, Quais são os componentes curriculares do curso?'\n",
            "topico='Grade Curricular do Curso de Ciência da Computação' palavras_chave='Componente, Créditos, Docente, Técnico, Laboratório' possiveis_perguntas='Quais são as disciplinas da grade curricular do Curso de Ciência da Computação?, Quantos créditos tem a disciplina de Sistemas de Informação?, Quais são as disciplinas que utilizam 100% de sala de aula?'\n",
            "topico='Trabalho de Conclusão de Curso (TCC)' palavras_chave='Trabalho de Conclusão de Curso, objetivos, formação profissional, pesquisa, desenvolvimento tecnológico, vivência profissional' possiveis_perguntas='Qual é o objetivo do Trabalho de Conclusão de Curso no curso de Ciência da Computação?, O que o Trabalho de Conclusão de Curso visa proporcionar ao estudante?, Qual é a carga horária do Trabalho de Conclusão de Curso?, O Trabalho de Conclusão de Curso é obrigatório para obtenção do título de Bacharel em Ciência da Computação?'\n",
            "topico='Conclusão de Curso I (TCC I) e Trabalho de Conclusão de Curso II (TCC II)' palavras_chave='TCC, formação do graduando, atividade teórica e prática, interdisciplinar, conhecimentos, problema delimitado' possiveis_perguntas='Qual é o objetivo geral do TCC, Quais são os requisitos para cursar o TCC I, O que o TCC visa contribuir na formação do graduando'\n",
            "topico='Trabalho de Conclusão de Curso (TCC) I' palavras_chave='TCC I, projeto de pesquisa, orientador, banca examinadora, contribuição esperada' possiveis_perguntas='Quais são os requisitos para ser aprovado em TCC I, Qual é o papel do orientador em TCC I, O que é considerado contribuição esperada em TCC I?'\n",
            "topico='Disciplina TCC II' palavras_chave='TCC II, avaliação, apresentação oral, defesa, banca examinadora' possiveis_perguntas='Quais são os requisitos para integralizar o TCC II, Quem compõe a banca examinadora, Qual é o tempo de duração da apresentação oral e arguição, Quais são os quesitos avaliados pela banca'\n",
            "topico='Atividades Curriculares Complementares' palavras_chave='Atividades Curriculares Complementares, carga horária, aproveitamento de conhecimentos, estudos e práticas independentes, flexibilidade, currículo' possiveis_perguntas='O que são Atividades Curriculares Complementares, Qual a carga horária das ACCs, Qual o objetivo das ACCs, Como as ACCs são realizadas, Por que as ACCs são obrigatórias'\n",
            "topico='Atividades Curriculares Complementares' palavras_chave='Atividades Curriculares Complementares, Pesquisa, Ensino, Extensão, Aprimoramento Profissional, Empreendedorismo' possiveis_perguntas='Quais são os grupos de Atividades Curriculares Complementares, Quais atividades são consideradas em cada grupo, Qual é o objetivo das Atividades Curriculares Complementares'\n",
            "topico='Atividades de empreendedorismo' palavras_chave='empreendedorismo, empresas juniores, incubadoras tecnológicas, soluções pontuais' possiveis_perguntas='Quais são as oportunidades de empreendedorismo para os alunos de Ciência da Computação?, Quais são as atividades que os alunos podem participar para desenvolver habilidades empreendedoras?, Como as incubadoras tecnológicas apoiam os alunos empreendedores?'\n",
            "topico='Atividades Curriculares Complementares' palavras_chave='atividades curriculares complementares, cultura, eventos culturais, jogos universitários, coordenação do curso' possiveis_perguntas='O que são Atividades Curriculares Complementares?, Quais são os tipos de Atividades Curriculares Complementares?, Como as Atividades Curriculares Complementares são realizadas?'\n",
            "topico='Estágio curricular supervisionado' palavras_chave='estágio curricular, atividades complementares, áreas da computação' possiveis_perguntas='O que é o estágio curricular supervisionado?, Quais são as áreas consideradas da área da Computação?, O estágio curricular supervisionado é obrigatório?'\n",
            "topico='ementa de Informática Básica' palavras_chave='Informática Básica, sistemas operacionais, rede mundial de computadores, ambientes virtuais de aprendizagem, software de produtividade' possiveis_perguntas='O que é Informática Básica?, Quais são os objetivos da disciplina de Informática Básica?, Quais são as ferramentas básicas de informática?, Como utilizar as ferramentas básicas de informática de forma crítica e criativa?'\n",
            "topico='ementa de Matemática C' palavras_chave='matemática, geometria, conjuntos numéricos, equações, funções' possiveis_perguntas='O que é o objetivo da disciplina de Matemática C?, Quais são os principais tópicos abordados na disciplina de Matemática C?, Quais são as habilidades que os alunos devem desenvolver ao final da disciplina de Matemática C?'\n",
            "topico='ementa de Introdução à Filosofia' palavras_chave='filosofia, modernidade, ética, epistemologia' possiveis_perguntas='O que é a natureza e especificidade do discurso filosófico?, Quais são as principais correntes do pensamento filosófico?, O que são os fundamentos filosóficos da Modernidade?'\n",
            "topico='Referências bibliográficas' palavras_chave='Livros, Referências, Bibliografia' possiveis_perguntas='Quais são as referências bibliográficas citadas, Quais livros são citados como referência, Quais são as fontes utilizadas'\n",
            "topico='ementa de Algoritmos e Programação' palavras_chave='algoritmos, programção, lógica de programção, estruturas de dados' possiveis_perguntas='O que é algoritmos e programação?, Qual é o objetivo da disciplina de Algoritmos e Programação?, Quais são os conceitos fundamentais de algoritmos?'\n",
            "topico='ementa de Circuitos Digitais' palavras_chave='Circuitos Digitais, Eletrônica, Lógica Digital, Álgebra de Boole' possiveis_perguntas='O que são Circuitos Digitais, Quais são os conceitos fundamentais da lógica digital, Quais são os objetivos da disciplina Circuitos Digitais'\n",
            "topico='ementa de Geometria Analitica' palavras_chave='Geometria Analitica, vetores, planos, retas, cônicas, superfícies quádricas' possiveis_perguntas='O que é Geometria Analitica?, Quais são os objetivos da disciplina de Geometria Analitica?, Quais são as referências básicas para a disciplina de Geometria Analitica?'\n",
            "topico='ementa de Estatística Básica' palavras_chave='Estatística Básica, Probabilidade, Inferência, Análise de Dados' possiveis_perguntas='O que é Estatística Básica, Quais são os objetivos da disciplina de Estatística Básica, Quais são as referências básicas para a disciplina de Estatística Básica?'\n",
            "topico='ementa de Estruturas de Dados' palavras_chave='estruturas de dados, complexidade de algoritmos, tipos abstratos de dados' possiveis_perguntas='O que são estruturas de dados?, Quais são os objetivos da disciplina de Estruturas de Dados?, Quais são as referências básicas para a disciplina de Estruturas de Dados?'\n",
            "topico='ementa de Produção Textual Acadêmica' palavras_chave='Língua, linguagem e sociedade, Leitura e produção de textos, Mecanismos de textualização e de argumentação' possiveis_perguntas='O que é a Produção Textual Acadêmica, Quais são os objetivos da disciplina, Quais são as referências básicas e complementares da disciplina'\n",
            "topico='ementa de Sistemas Digitais' palavras_chave='circuitos digitais, linguagem de descrição de hardware, FPGAs, máquinas sequenciais síncronas' possiveis_perguntas='O que é um circuito digital, como funciona um FPGA, quais são os objetivos da disciplina de Sistemas Digitais?'\n",
            "topico='ementa de Cálculo I' palavras_chave='Cálculo I, funções, derivadas, integrais, teorema fundamental' possiveis_perguntas='O que é o Cálculo I?, Quais são os objetivos do Cálculo I?, Quais são as principais ferramentas do cálculo diferencial e integral de funções de uma variável?'\n",
            "topico='ementa de Álgebra Linear' palavras_chave='Álgebra Linear, matrizes, determinantes, sistemas de equações lineares, espaços vetoriais' possiveis_perguntas='O que são matrizes e determinantes?, Quais são os objetivos da disciplina de Álgebra Linear?'\n",
            "topico='ementa de Matemática Discreta' palavras_chave='Matemática Discreta, Lógica, Teoria dos Conjuntos, Combinatória, Recorrçncias' possiveis_perguntas='O que é Matemática Discreta?, Quais são os objetivos da disciplina de Matemática Discreta?, Quais são as referências básicas para a disciplina de Matemática Discreta?'\n",
            "topico='ementa de PESQUISA E ORDENAO DE DADOS' palavras_chave='ordenacao, busca, arquivos, persistencia, indice' possiveis_perguntas='Quais sao os metodos de ordenacao estudados, Quais sao as estruturas de dados avançadas utilizadas, Quais sao as referencias basicas para o estudo de pesquisa e ordenacao de dados'\n",
            "topico='ementa de PROGRAMAÇÃO I' palavras_chave='programação orientada a objetos,classes,herança,encapsulamento,polimorfismo' possiveis_perguntas='O que é programação orientada a objetos?, Quais são os conceitos fundamentais da programação orientada a objetos?'\n",
            "topico='ementa de Probabilidade e Estatística' palavras_chave='Probabilidade, Estatística Descritiva, Teorema de Bayes, Variáveis aleatórias' possiveis_perguntas='O que é o Teorema de Bayes?, Quais são as principais distribuições contínuas?, Qual é o objetivo da disciplina de Probabilidade e Estatística?'\n",
            "topico='ementa de Cálculo II' palavras_chave='Cálculo II, integração, funções de várias variáveis, derivadas parciais, multiplicadores de Lagrange' possiveis_perguntas='O que é o Cálculo II, quais são as principais técnicas de integração, quais são as aplicações do cálculo diferencial e integral de funções de várias variáveis, quais são as referências básicas e complementares para o estudo de Cálculo II'\n",
            "topico='ementa de Organização de Computadores' palavras_chave='organização de computadores, arquitetura de computadores, componentes curriculares, créditos, horas' possiveis_perguntas='O que é abordado na disciplina de Organização de Computadores?, Quais são os objetivos da disciplina de Organização de Computadores?, Quais são as referências básicas para a disciplina de Organização de Computadores?'\n",
            "topico='ementa de Banco de Dados I' palavras_chave='banco de dados, modelos de dados, modelagem conceitual, projeto de banco de dados, modelo relacional' possiveis_perguntas='Quais são os conceitos de banco de dados, Quais são os modelos de dados, Como projetar um banco de dados relacional, Quais são as referências básicas para o estudo de banco de dados'\n",
            "topico='ementa de PROGRAMAÇÃO II' palavras_chave='PROGRAMAÇÃO II, Web, estrutura cliente/servidor, linguagens de marcação, CSS, HTTP/HTTPS, integração de aplicações web com banco de dados' possiveis_perguntas='Qual é o objetivo do componente curricular PROGRAMAÇÃO II?, Quais são as principais técnicas utilizadas no desenvolvimento de sistemas para a Web?, Quais são as linguagens de marcação e CSS utilizadas em PROGRAMAÇÃO II?, Como funciona a integração de aplicações web com banco de dados?'\n",
            "topico='ementa de Cálculo Numérico' palavras_chave='cálculo numérico, erros computacionais, aproximação numérica' possiveis_perguntas='O que é cálculo numérico?, Quais são os objetivos da disciplina de Cálculo Numérico?'\n",
            "topico='ementa de Linguagens Formais e Automatos' palavras_chave='Linguagens Formais, Autômatos, Gramáticas, Expressões Regulares, Hierarquia de Chomsky' possiveis_perguntas='O que são linguagens formais e autômatos?, Quais são os objetivos da disciplina de Linguagens Formais e Autômatos?, Quais são as referências básicas para a disciplina de Linguagens Formais e Autômatos?'\n",
            "topico='ementa de Grafos' palavras_chave='teoria dos grafos, modelagem de problemas, algoritmos em Teoria dos Grafos' possiveis_perguntas='O que sao grafos, como modelar problemas com grafos, quais sao os objetivos da disciplina de Grafos'\n",
            "topico='Ementa de Banco de Dados II' palavras_chave='Banco de Dados, Armazenamento Físico, Estruturas de Indexação, Processamento de Consultas' possiveis_perguntas='O que é Banco de Dados II, Quais são os objetivos da disciplina Banco de Dados II, Quais são as referências básicas para a disciplina Banco de Dados II'\n",
            "topico='ementa de Engenharia de Software I' palavras_chave='Engenharia de Software, Processo de Desenvolvimento, Ciclo de Vida, Análise e Projeto de Software, Gerenciamento de Configuração, Teste e Manutenção' possiveis_perguntas='O que é Engenharia de Software?, Quais são os objetivos da disciplina de Engenharia de Software I?, Quais são os principais conceitos abordados na disciplina de Engenharia de Software I?'\n",
            "topico='Ementa de Iniciação à Prática Científica' palavras_chave='método científico, ética na prática científica, universidade e sociedade' possiveis_perguntas='Qual é o objetivo da disciplina de Iniciação à Prática Científica?, Quais são as relações entre universidade, sociedade e conhecimento científico?'\n",
            "topico='ementa de Teoria da Computação' palavras_chave='Teoria da Computação, Computabilidade, Decidibilidade, Complexidade, Tratabilidade' possiveis_perguntas='O que é Teoria da Computação?, Qual é o objetivo da disciplina de Teoria da Computação?, Quais são os principais tópicos abordados na disciplina de Teoria da Computação?'\n",
            "topico='ementa de DIREITOS E CIDADANIA' palavras_chave='cidadania, direitos civis, direitos políticos, direitos sociais, direitos culturais' possiveis_perguntas='O que são direitos fundamentais?, Qual é o objetivo da disciplina de Direitos e Cidadania?, Quais são as origens históricas da noção de cidadania?'\n",
            "topico='ementa de Sistemas Operacionais' palavras_chave='Sistemas Operacionais, Arquitetura, Funcionalidades, Gerência de Processos, Memória Virtual' possiveis_perguntas='O que é um sistema operacional?, Quais são as funcionalidades de um sistema operacional?, Como é feita a gerência de processos em um sistema operacional?'\n",
            "topico='ementa de Engenharia de Software II' palavras_chave='análise de requisitos, engenharia de software, UML, padrões de projeto, arquitetura de software' possiveis_perguntas='O que é abordado na disciplina Engenharia de Software II?, Quais são os objetivos da disciplina Engenharia de Software II?, Quais são as referências básicas para a disciplina Engenharia de Software II?'\n",
            "topico='ementa de Redes de Computadores' palavras_chave='Redes de Computadores, Fundamentos de transmissão de dados, Modelos de referência OSI e TCP/IP, Protocolos e serviços de comunicação' possiveis_perguntas='O que é a disciplina de Redes de Computadores?, Quais são os objetivos da disciplina de Redes de Computadores?, Quais são os principais tópicos abordados na disciplina de Redes de Computadores?'\n",
            "topico='ementa de Linguagens de Programação' palavras_chave='linguagens de programação, sintaxe, semântica, tipos de dados, concorrêçia' possiveis_perguntas='Quais são as principais linguagens de programação?, Qual é o objetivo da disciplina de Linguagens de Programação?, Quais são as referências básicas para a disciplina de Linguagens de Programação?'\n",
            "topico='ementa de Computacao Grafica' palavras_chave='Computacao Grafica, Gráficos 2D e 3D, Transformacoes Geometricas, Primitivas Graficas, Visibilidade' possiveis_perguntas='O que sao os principais conceitos da Computacao Grafica?, Quais sao as principais tecnicas da Computacao Grafica 2D e 3D?, Quais sao as referencias basicas para estudar Computacao Grafica?'\n",
            "topico='ementa de Planejamento e Gestão de Projetos' palavras_chave='gerenciamento de projetos, projetos de software, metodologias de planejamento e gestão de projetos, áreas de conhecimento da gerência de projetos' possiveis_perguntas='O que é o objetivo da disciplina de Planejamento e Gestão de Projetos?, Quais são as principais áreas de conhecimento da gerência de projetos?, Quais são as principais metodologias de planejamento e gestão de projetos?'\n",
            "topico='ementa de Construcao de Compiladores' palavras_chave='compiladores, linguagens de programacao, analise lexica, analise sintatica, analise semantica' possiveis_perguntas='O que sao compiladores?, Quais sao as etapas do processo de compilacao?, Qual e o objetivo da disciplina Construcao de Compiladores?'\n",
            "topico='ementa de Inteligência Artificial' palavras_chave='Inteligência Artificial, Lógica Nebulosa, Algoritmos Genéticos, Redes Neurais Artificiais' possiveis_perguntas='O que é Inteligência Artificial?, Quais são os conceitos básicos de Inteligência Artificial?, Qual é o objetivo da disciplina de Inteligência Artificial?'\n",
            "topico='ementa de Meio Ambiente, Economia e Sociedade' palavras_chave='economia ecológica, política, sustentabilidade, meio ambiente, sociedade' possiveis_perguntas='O que é a economia ecológica?, Como a sustentabilidade é alcançada?, Qual a importância do meio ambiente na sociedade?'\n",
            "topico='Referências bibliográficas' palavras_chave='Eco-socialismo, planificação democrática, economia política, comunidade, desenvolvimento' possiveis_perguntas='Quais são as referências bibliográficas utilizadas no PPC de Ciência da Computação?, Quais são os principais autores citados?'\n",
            "topico='Grade Curricular - Disciplina Opcional' palavras_chave='Grade Curricular, Disciplina Opcional, Créditos, Horas' possiveis_perguntas='Quais são as disciplinas opcionais disponíveis?, Quantos créditos e horas tem uma disciplina opcional?, O que é contemplado no plano de ensino da disciplina?'\n",
            "topico='ementa de disciplina optativa' palavras_chave='disciplina optativa, plano de ensino, colegiado' possiveis_perguntas='Qual o objetivo da disciplina optativa, Quais as referências básicas da disciplina optativa, Quais as referências complementares da disciplina optativa'\n",
            "topico='Ementa de Trabalho de Conclusão de Curso I' palavras_chave='Trabalho de Conclusão de Curso I, Metodologia de Pesquisa Científica, Elaboração de Projeto de Pesquisa' possiveis_perguntas='O que é o objetivo da disciplina de Trabalho de Conclusão de Curso I?, Quais são as referências básicas para a disciplina de Trabalho de Conclusão de Curso I?'\n",
            "topico='ementa de HISTÓRIA DA FRONTEIRA SUL' palavras_chave='história da fronteira sul, identidade, fronteira, povoamento, colonização' possiveis_perguntas='Quais são os principais conceitos abordados na disciplina de HISTÓRIA DA FRONTEIRA SUL? Como a região sul do Brasil foi formada historicamente? Quais são as principais referências bibliográficas para a disciplina de HISTÓRIA DA FRONTEIRA SUL?'\n",
            "topico='referências bibliográficas' palavras_chave='referências, bibliografia, livros, autores' possiveis_perguntas='Quais são as referências bibliográficas do PPC de Ciência da Computação da UFFS?, Quais autores são citados no PPC?'\n",
            "topico='ementa de disciplina optativa' palavras_chave='disciplina optativa, plano de ensino, referencias basicas, referencias complementares' possiveis_perguntas='Quais são as disciplinas opcionais disponíveis no PPC?, Quais são os objetivos da disciplina optativa?, Quais são as referências básicas e complementares para a disciplina optativa?'\n",
            "topico='Ementa de disciplina optativa' palavras_chave='disciplina optativa, créditos, horas, objetivo, referências básicas, referências complementares' possiveis_perguntas=' Qual é o objetivo da disciplina optativa?, Quais são as referências básicas da disciplina optativa?, Quais são as referências complementares da disciplina optativa?, Quantos créditos e horas tem a disciplina optativa?'\n",
            "topico='ementa de disciplina optativa' palavras_chave='disciplina optativa, ementa, plano de ensino, referências básicas, referências complementares' possiveis_perguntas='Qual é o objetivo da disciplina optativa?, Quais são as referências básicas da disciplina?, Quais são as referências complementares da disciplina? '\n",
            "topico='Ementa da disciplina de Trabalho de Conclusao de Curso II' palavras_chave='Trabalho de Conclusao de Curso, TCC II, Projeto de Pesquisa, Defesa de TCC' possiveis_perguntas='O que e Trabalho de Conclusao de Curso II, Quais sao os objetivos do TCC II, O que e um projeto de pesquisa no TCC II, Como funciona a defesa de TCC no curso de Ciencia da Computacao da UFFS'\n",
            "topico='ementa de Técnicas Avançadas de Programação' palavras_chave='programação competitiva, estruturas de dados avançadas, algoritmos gulosos, programação dinâmica, modelagem de problemas com grafos' possiveis_perguntas='Quais são os objetivos da disciplina de Técnicas Avançadas de Programação?, Quais são as referêcncias básicas para a disciplina de Técnicas Avançadas de Programação?, Quais são as habilidades necessárias para competições de programação?'\n",
            "topico='ementa de Arquitetura de Computadores' palavras_chave='arquitetura de computadores, processador MIPS, pipeline, processador superescalar, multicore' possiveis_perguntas='O que é a arquitetura de computadores?, Quais são os principais componentes de um processador MIPS?, Qual é o objetivo da disciplina de Arquitetura de Computadores?'\n",
            "topico='ementa de Análise de Algoritmos' palavras_chave='Análise de Algoritmos, Assintótica, Complexidade de Tempo e Espaço, Recorrências, Ordenação e Busca' possiveis_perguntas='O que é análise de algoritmos?, Quais são as principais técnicas de análise de algoritmos?, Qual é o objetivo da análise de algoritmos?'\n",
            "topico='ementa de Informática e Sociedade' palavras_chave='ética, informática, sociedade, responsabilidade social, legislação' possiveis_perguntas='Quais são os princípios éticos fundamentais para um profissional da informática?, Como a informática pode impactar a sociedade?, Quais são as responsabilidades sociais de um profissional da informática?'\n",
            "topico='ementa de Modelagem e Simulação' palavras_chave='modelagem, simulação, sistemas, eventos discretos, computacional' possiveis_perguntas='O que é modelagem e simulação?, Quais são as propriedades e classificação de modelos de simulação?, O que é simulação discreta e contínua?, Quais são as metodologias e ferramentas para modelagem e simulação computacional?'\n",
            "topico='ementa de Sistemas Multimídia' palavras_chave='sistemas multimídia, desenvolvimento de sistemas, multimídia, representação digital' possiveis_perguntas='O que é um sistema multimídia, Quais são as áreas de desenvolvimento de sistemas multimídia, Qual é a definição de sistemas multimídia?'\n",
            "topico='ementa de Engenharia da Usabilidade' palavras_chave='interação humano-computador, usabilidade, ergonomia, acessibilidade' possiveis_perguntas='O que é interação humano-computador?, Quais são os critérios de usabilidade?, Quais são as recomendações ergonômicas para interfaces?'\n",
            "topico='ementa de Sistemas de Tempo Real' palavras_chave='sistemas de tempo real, escalonamento de tempo real, controle de acesso a recursos, comunicação em tempo real' possiveis_perguntas='O que são sistemas de tempo real?, Quais são as características das aplicações que possuem requisitos temporais?, Quais são as linguagens, sistemas operacionais, protocolos e técnicas utilizados para atendê-los?'\n",
            "topico='ementa de ADMINISTRAÇÃO E GERÊNCIA DE REDES' palavras_chave='administração de rede, gerência de rede, redes de computadores, telecomunicações' possiveis_perguntas='O que é administração de rede?, Quais são as tecnologias para operação e gerência de rede?, Quais são os recursos humanos necessários para administração de rede?'\n",
            "topico='ementa de ADMINISTRAÇÃO E ORGANIZAÇÃO EMPRESARIAL' palavras_chave='administração, organização empresarial, empreendedorismo, marketing, gestão de marketing' possiveis_perguntas='O que é a ementa da disciplina ADMINISTRAÇÃO E ORGANIZAÇÃO EMPRESARIAL?, Quais são os objetivos da disciplina ADMINISTRAÇÃO E ORGANIZAÇÃO EMPRESARIAL?, Quais são as referências básicas e complementares da disciplina ADMINISTRAÇÃO E ORGANIZAÇÃO EMPRESARIAL?'\n",
            "topico='ementa de Sistemas de Informação' palavras_chave='sistemas de informação, administração de sistemas, governança de tecnologia, planejamento estratégico' possiveis_perguntas='O que são sistemas de informação?, Quais são os objetivos da disciplina Sistemas de Informação?, Quais são as referências básicas para a disciplina?'\n",
            "topico='ementa de PESQUISA OPERACIONAL' palavras_chave='pesquisa operacional, programação linear, modelagem, otimização' possiveis_perguntas='O que é pesquisa operacional?, Quais são os métodos de otimização utilizados em pesquisa operacional?, Qual é o objetivo da disciplina de PESQUISA OPERACIONAL?'\n",
            "topico='ementa de EMPREENDEDORISMO' palavras_chave='empreendedorismo, tecnologia da informacao, espírito empreendedor, planejamento de empreendimentos' possiveis_perguntas='O que é empreendedorismo?, Como desenvolver o espírito empreendedor?, Quais são as técnicas de negociação?, O que é planejamento de empreendimentos em Informática?'\n",
            "topico='ementa de Informática na Educação' palavras_chave='Informática na Educação, tecnologias de informação e comunicação, ensino a distância' possiveis_perguntas='Qual é o objetivo da disciplina de Informática na Educação?, Quais são as tecnologias de informação e comunicação utilizadas na educação?, Como a informática pode ser utilizada no ensino a distância?'\n",
            "topico='ementa de Língua Brasileira de Sinais (Libras)' palavras_chave='Língua Brasileira de Sinais, Libras, inclusão, educação especial, surdez' possiveis_perguntas='O que é a Língua Brasileira de Sinais?, Qual é o objetivo do curso de Língua Brasileira de Sinais?, Quais são as características básicas da fonologia de Libras?, Quais são as referências básicas para o estudo de Libras?'\n",
            "topico='ementa de LINGUAGEM DE DESCRIÇÃO DE HARDWARE' palavras_chave='lógica reconfigurável, dispositivos lógicos programáveis, VHDL, EDA, CPLDs, FPGAs' possiveis_perguntas='O que é lógica reconfigurável?, Quais são os dispositivos lógicos programáveis?, O que é VHDL?, Quais são as ferramentas de EDA utilizadas no curso?'\n",
            "topico='ementa de Tópicos Especiais em Computação I' palavras_chave='Tópicos Especiais em Computação, objetivos, conteúdo variável, tecnologias, ciência da computação' possiveis_perguntas='Quais são os objetivos da disciplina de Tópicos Especiais em Computação I?, Qual é o conteúdo da disciplina de Tópicos Especiais em Computação I?, Quais são as referências básicas e complementares para a disciplina de Tópicos Especiais em Computação I?'\n",
            "topico='ementa de Tópicos Especiais em Computação II' palavras_chave='Tópicos Especiais em Computação II, computação, tecnologia' possiveis_perguntas='Quais são os objetivos da disciplina Tópicos Especiais em Computação II?, Quais são as referências básicas da disciplina?'\n",
            "topico='ementa de Tópicos Especiais em Computação III' palavras_chave='Tópicos Especiais em Computação III, objetivos, conteúdo variável, tecnologias, ciência da computação' possiveis_perguntas='Quais são os objetivos da disciplina Tópicos Especiais em Computação III?, Quais são os conteúdos variáveis da disciplina?, Qual é a importância da disciplina para a atualização da matriz curricular?'\n",
            "topico='Ementa de Tópicos Especiais em Computação IV' palavras_chave='Tópicos Especiais em Computação, objetivos, matriz curricular' possiveis_perguntas='Quais são os objetivos da disciplina Tópicos Especiais em Computação IV?, Quais são as referências básicas da disciplina?'\n",
            "topico='ementa de Tópicos especiais em computação V' palavras_chave='Tópicos especiais em computação, objetivos, referências básicas, referências complementares' possiveis_perguntas='Quais são os objetivos da disciplina Tópicos especiais em computação V?, Quais são as referências básicas para a disciplina?, Quais são as referências complementares para a disciplina?'\n",
            "topico='ementa de Tópicos Especiais em Computação VI' palavras_chave='Tópicos Especiais em Computação VI, objetivos, referências básicas, referências complementares' possiveis_perguntas='Quais são os objetivos da disciplina Tópicos Especiais em Computação VI, Quais são as referências básicas da disciplina, Quais são as referências complementares da disciplina'\n",
            "topico='ementa de Tópicos Especiais em Computação VII' palavras_chave='tópicos especiais, computação, tecnologias, ciência da computação' possiveis_perguntas='Quais são os objetivos da disciplina Tópicos Especiais em Computação VII?, Quais são as referências básicas da disciplina?, Quais são as referências complementares da disciplina?'\n",
            "topico='EMENTA DE TOPICOS ESPECIAIS EM COMPUTAÇÃO VIII' palavras_chave='TÓPICOS ESPECIAIS EM COMPUTAÇÃO, CIÊNCIA DA COMPUTAÇÃO, EDUCAÇÃO SUPERIOR' possiveis_perguntas='O que é o componente curricular TÓPICOS ESPECIAIS EM COMPUTAÇÃO VIII?, Quais são os objetivos da disciplina TÓPICOS ESPECIAIS EM COMPUTAÇÃO VIII?'\n",
            "topico='Ementa de Tópicos Especiais em Computação IX' palavras_chave='Tópicos Especiais em Computação, objetivos, conteúdo variável, tecnologias, ciência da computação' possiveis_perguntas='O que é o componente curricular Tópicos Especiais em Computação IX?, Quais são os objetivos da disciplina Tópicos Especiais em Computação IX?, Qual é o conteúdo da disciplina Tópicos Especiais em Computação IX?'\n",
            "topico='Ementa de Tópicos Especiais em Computação X' palavras_chave='Tópicos Especiais em Computação, objetivos, tecnologias, atualizações' possiveis_perguntas='Quais são os objetivos da disciplina Tópicos Especiais em Computação X?, Quais são as referências básicas para a disciplina?, Quais são as referências complementares para a disciplina?'\n",
            "topico='Ementa de Tópicos Especiais em Computação XI' palavras_chave='Tópicos especiais, computação, objetivos, referências' possiveis_perguntas='Quais são os objetivos da disciplina Tópicos Especiais em Computação XI?, Quais são as referências básicas para a disciplina?, Quais são as referências complementares para a disciplina?'\n",
            "topico='ementa de Tópicos Especiais em Computação XII' palavras_chave='Tópicos Especiais em Computação, objetivos, referências básicas, referências complementares' possiveis_perguntas='Quais os objetivos da disciplina de Tópicos Especiais em Computação XII?, Quais as referências básicas para a disciplina?, Quais as referências complementares para a disciplina?'\n",
            "topico='ementa de Tópicos Especiais em Computação XIII' palavras_chave='Tópicos Especiais em Computação, objetivos, tecnologias, ciência da computação' possiveis_perguntas='Quais são os objetivos da disciplina de Tópicos Especiais em Computação XIII?, Qual é o conteúdo da disciplina?, Quais são as referências básicas da disciplina?'\n",
            "topico='ementa de Tópicos Especiais em Computação XIV' palavras_chave='tópicos especiais, computação, objetivos, atualizações, matriz curricular' possiveis_perguntas='Quais são os objetivos da disciplina Tópicos Especiais em Computação XIV?, Qual é o conteúdo da disciplina?, Quais são as referências básicas e complementares da disciplina?'\n",
            "topico='Ementa de Tópicos Especiais em Computação XV' palavras_chave='Tópicos Especiais em Computação, objetivos, créditos, horas, referências básicas, referências complementares' possiveis_perguntas='Quais são os objetivos da disciplina Tópicos Especiais em Computação XV?, Quais são as referências básicas e complementares da disciplina?, Quantos créditos e horas tem a disciplina Tópicos Especiais em Computação XV?'\n",
            "topico='ementa de Tópicos Especiais em Computação XVI' palavras_chave='Tópicos Especiais, Computação, Matriz Curricular' possiveis_perguntas='Quais são os objetivos da disciplina Tópicos Especiais em Computação XVI?, Quais são as referèncias básicas para a disciplina?, Qual é o papel da disciplina na matriz curricular?'\n",
            "topico='ementa de Tópicos Especiais em Computação XVII' palavras_chave='tópicos especiais, computação, objetivos, referências básicas, referências complementares' possiveis_perguntas='O que é o objetivo da disciplina Tópicos Especiais em Computação XVII?, Quais são as referências básicas para a disciplina?, Quais são as referências complementares para a disciplina?'\n",
            "topico='ementa de Tópicos Especiais em Computação XVIII' palavras_chave='Tópicos Especiais em Computação, objetivos, matriz curricular' possiveis_perguntas='O que é o objetivo da disciplina Tópicos Especiais em Computação XVIII?, Quais são as referências básicas da disciplina?, Qual é o critério para a seleção de temas para a disciplina?'\n",
            "topico='ementa de Tópicos Especiais em Computação XIX' palavras_chave='tópicos especiais, computação, atualização tecnológica' possiveis_perguntas='Quais são os objetivos da disciplina Tópicos Especiais em Computação XIX?, Quais são as referências básicas para a disciplina?, Quais são as referências complementares para a disciplina?'\n",
            "topico='ementa de Tópicos Especiais em Computação' palavras_chave='Tópicos Especiais em Computação, objetivos, referências básicas, referências complementares' possiveis_perguntas='Quais são os objetivos da disciplina de Tópicos Especiais em Computação?, Quais são as referências básicas e complementares para a disciplina de Tópicos Especiais em Computação?'\n",
            "topico='ementa de Tópicos Especiais em Computação XXI' palavras_chave='Tópicos Especiais em Computação, objetivos, matriz curricular' possiveis_perguntas='O que é o objetivo da disciplina Tópicos Especiais em Computação XXI?, Quais são as referências básicas para a disciplina?, Quais são as referências complementares para a disciplina?'\n",
            "topico='Ementa de Tópicos Especiais em Computação XXII' palavras_chave='Tópicos Especiais em Computação, Ementa, Objetivos, Referências Básicas, Referências Complementares' possiveis_perguntas='Qual é o objetivo da disciplina Tópicos Especiais em Computação XXII?, Quais são as referências básicas da disciplina?, Quais são as referências complementares da disciplina?'\n",
            "topico='Ementa de Tópicos Especiais em Computação XXIII' palavras_chave='tópicos especiais, computação, atualizações, matriz curricular' possiveis_perguntas='Qual o objetivo da disciplina de Tópicos Especiais em Computação XXIII?, Quais são as referências básicas para a disciplina?, Quais são as referências complementares para a disciplina?'\n",
            "topico='ementa de Tópicos Especiais em Computação XXIV' palavras_chave='Tópicos Especiais em Computação XXIV, objetivos, referências básicas, referências complementares' possiveis_perguntas='Quais são os objetivos da disciplina Tópicos Especiais em Computação XXIV?, Quais são as referências básicas da disciplina Tópicos Especiais em Computação XXIV?, Quais são as referências complementares da disciplina Tópicos Especiais em Computação XXIV?'\n",
            "topico='Ementa de Tópicos Especiais em Computação XXV' palavras_chave='Tópicos Especiais em Computação, Objetivos, Conteúdo Variável, Referências Básicas, Referências Complementares' possiveis_perguntas='Qual é o objetivo da disciplina Tópicos Especiais em Computação XXV?, Quais são as referências básicas e complementares para a disciplina?, Qual é o conteúdo variável da disciplina?'\n",
            "topico='ementa de Tópicos Especiais em Computação XXVI' palavras_chave='tópicos especiais, computação, objetivos' possiveis_perguntas='Quais são os objetivos da disciplina Tópicos Especiais em Computação XXVI?, Quais são as referências básicas da disciplina?'\n",
            "topico='ementa de Tópicos Especiais em Computação XXVII' palavras_chave='tópicos especiais, computação, temas emergentes, tecnologia, ciência da computação' possiveis_perguntas='Quais são os objetivos da disciplina de Tópicos Especiais em Computação XXVII?, Quais são os princípios norteadores da disciplina?, Quais são as referências básicas e complementares para a disciplina?'\n",
            "topico='ementa de Topicos Especiais em Computacao XXVIII' palavras_chave='Tecnicas de Programacao, Análise de Algoritmos, Estrutura de Dados, Inteligência Artificial' possiveis_perguntas='O que e o conteudo da disciplina Tópicos Especiais em Computação XXVIII, Quais os objetivos da disciplina Tópicos Especiais em Computação XXVIII, Quais as referências básicas da disciplina Tópicos Especiais em Computação XXVIII'\n",
            "topico='ementa de Tópicos Especiais em Computação XXIX' palavras_chave='tópicos especiais, computação, objetivos, referências básicas, referências complementares' possiveis_perguntas='O que é o objetivo da disciplina de Tópicos Especiais em Computação XXIX?, Quais são as referências básicas e complementares para a disciplina?, Qual é o conteúdo variável da disciplina?'\n",
            "topico='ementa de Tópicos Especiais em Computação' palavras_chave='tópicos especiais, computação, objetivos, tecnologias, ciência da computação' possiveis_perguntas='Quais são os objetivos da disciplina Tópicos Especiais em Computação?, Quais são as referências básicas da disciplina?, Quais são as referências complementares da disciplina?'\n",
            "topico='ementa de COMPUTAÇÃO GRÁFICA AVANÇADA' palavras_chave='programação de Shaders, mapeamento de textura, algoritmos de iluminação, ray tracing, radiance transfer' possiveis_perguntas='O que é programação de Shaders, Quais são os tipos de mapeamento de textura, Quais são os algoritmos de iluminação global, O que é ray tracing, O que é radiance transfer'\n",
            "topico='Ementa de Computação Aleatorizada' palavras_chave='Computação Aleatorizada, Algoritmos Probabilísticos, Complexidade Computacional' possiveis_perguntas='O que é Computação Aleatorizada?, Quais são os principais algoritmos aleatorizados clássicos?, Qual é o papel da aleatoriedade na Computação?'\n",
            "topico='ementa de Computacao Movel' palavras_chave='computacao movel, dispositivos moveis, redes moveis, computacao pervasiva, arquitetura de software movel' possiveis_perguntas='O que e computacao movel, quais sao os conceitos-chave da computacao movel, quais sao as principais tecnologias utilizadas na computacao movel, qual e o objetivo da disciplina de Computacao Movél, quais sao as principais referências básicas para a disciplina de Computacao Movél'\n",
            "topico='ementa de Sistemas Embarcados' palavras_chave='sistemas embarcados, SoCs, MPSoCs, software embarcado, hardware embarcado' possiveis_perguntas='Quais são os conceitos básicos de sistemas embarcados?, Quais são os objetivos da disciplina de Sistemas Embarcados?, Quais são as referências básicas e complementares para a disciplina de Sistemas Embarcados?'\n",
            "topico='ementa de COMPUTAÇÃO DISTRIBUÍDA' palavras_chave='computação distribuída, sistemas distribuídos, paradigmas de computação, comunicação entre processos' possiveis_perguntas='O que é computação distribuída?, Quais são os paradigmas de computação distribuída?, Como funciona a comunicação entre processos em sistemas distribuídos?'\n",
            "topico='ementa de Segurança e Auditoria de Sistemas' palavras_chave='segurança, auditoria, sistemas, criptografia, autenticação' possiveis_perguntas='Quais são os principais riscos envolvidos no ambiente de informações?, Quais são os principais pontos de controle de auditoria da tecnologia da informação?, O que é criptografia simétrica e assimétrica?'\n",
            "topico='ementa de PROGRAMAÇÃO FUNCIONAL E LÃGICA' palavras_chave='programação funcional, programação lógica, paradigmas de programação, lógica de primeira ordem, linguagens funcionais' possiveis_perguntas='O que é programação funcional?, Quais os conceitos principais da programação lógica?, Qual é o objetivo da disciplina de PROGRAMAÇÃO FUNCIONAL E LÃGICA?'\n",
            "topico='ementa de TECNOLOGIA E DESENVOLVIMENTO' palavras_chave='ciência, tecnologia e sociedade, estudos CTS, desenvolvimento tecnológico' possiveis_perguntas='O que é estudos CTS?, Qual é o objetivo da disciplina de TECNOLOGIA E DESENVOLVIMENTO?, Quais são as implicações da tecnologia na sociedade?'\n",
            "topico='ementa de Álgebra' palavras_chave='Álgebra, Anéis, Ideais, Corpos, Grupos' possiveis_perguntas='Quais são os objetivos da disciplina de Álgebra?, Quais são as referências básicas para a disciplina de Álgebra?'\n",
            "topico='Ementa de Topicos Especiais em Computacao XXXI' palavras_chave='Topicos Especiais, Computacao, Ementa' possiveis_perguntas='Qual o objetivo da disciplina Topicos Especiais em Computacao XXXI?, Quais as referencias basicas para a disciplina Topicos Especiais em Computacao XXXI?, Quais as referencias complementares para a disciplina Topicos Especiais em Computacao XXXI?'\n",
            "topico='ementa de Tópicos Especiais em Computação XXXII' palavras_chave='Tópicos Especiais em Computação, Ementa, Objetivo, Referências Básicas, Referências Complementares' possiveis_perguntas='Qual é o objetivo da disciplina de Tópicos Especiais em Computação XXXII?, Quais são as referências básicas para a disciplina?, Quais são as referências complementares para a disciplina?'\n",
            "topico='ementa de Tópicos Especiais em Computação XXXIII' palavras_chave='Tópicos Especiais em Computação, Ementa, Objetivos, Referências Básicas, Referências Complementares' possiveis_perguntas='Qual é a ementa da disciplina Tópicos Especiais em Computação XXXIII?, Quais são os objetivos da disciplina Tópicos Especiais em Computação XXXIII?, Quais são as referências básicas e complementares da disciplina Tópicos Especiais em Computação XXXIII?'\n",
            "topico='ementa de Tópicos Especiais em Computação XXXIV' palavras_chave='Tópicos Especiais, Computação, Ementa' possiveis_perguntas='O que é o componente curricular Tópicos Especiais em Computação XXXIV?, Quais são os créditos e horas do componente curricular Tópicos Especiais em Computação XXXIV?, Qual é o objetivo do componente curricular Tópicos Especiais em Computação XXXIV?'\n",
            "topico='ementa de Tópicos Especiais em Computação XXXV' palavras_chave='Tópicos Especiais em Computação, Ementa, Componente Curricular' possiveis_perguntas='O que é a ementa de Tópicos Especiais em Computação XXXV?, Quais são os objetivos da disciplina Tópicos Especiais em Computação XXXV?, Quais são as referências básicas para a disciplina Tópicos Especiais em Computação XXXV?'\n",
            "topico='ementa de Topicos Especiais em Computacao XXXVI' palavras_chave='topicos especiais, computacao, grade curricular, ementa, objetivo' possiveis_perguntas='Qual e o objetivo da disciplina de Topicos Especiais em Computacao XXXVI?, Quais sao as referencias basicas da disciplina de Topicos Especiais em Computacao XXXVI?, Quais sao as referencias complementares da disciplina de Topicos Especiais em Computacao XXXVI?'\n",
            "topico='ementa de Tópicos Especiais em Computação XXXVII' palavras_chave='Tópicos Especiais em Computação, Ementa, Objetivos, Referências Básicas, Referências Complementares' possiveis_perguntas='Qual é a ementa da disciplina Tópicos Especiais em Computação XXXVII?, Quais são os objetivos da disciplina Tópicos Especiais em Computação XXXVII?, Quais são as referências básicas e complementares da disciplina Tópicos Especiais em Computação XXXVII?'\n",
            "topico='ementa de Tópicos Especiais em Computação' palavras_chave='Tópicos Especiais em Computação, Ementa, Objetivo, Referências Básicas, Referências Complementares' possiveis_perguntas='Qual é o objetivo da disciplina Tópicos Especiais em Computação?, Quais são as referências básicas e complementares da disciplina?'\n",
            "topico='ementa de Tópicos Especiais em Computação XXXIX' palavras_chave='computação, tópicos especiais, ementa' possiveis_perguntas='Qual é o objetivo da disciplina Tópicos Especiais em Computação XXXIX?, Quais são as referências básicas da disciplina Tópicos Especiais em Computação XXXIX?, Quais são as referências complementares da disciplina Tópicos Especiais em Computação XXXIX?'\n",
            "topico='EMENTA DE TÓPICOS ESPECIAIS EM COMPUTAÇÃO XL' palavras_chave='tópicos especiais, computação, créditos, horas' possiveis_perguntas='Quais são os créditos e horas da disciplina TÓPICOS ESPECIAIS EM COMPUTAÇÃO XL?, Qual é o objetivo da disciplina TÓPICOS ESPECIAIS EM COMPUTAÇÃO XL?, Quais são as referências básicas e complementares da disciplina TÓPICOS ESPECIAIS EM COMPUTAÇÃO XL?'\n",
            "topico='Ementa da disciplina Tópicos Especiais em Computação XLI' palavras_chave='Tópicos Especiais em Computação, Grade Curricular, Disciplina, UFFS' possiveis_perguntas='Qual é a ementa da disciplina Tópicos Especiais em Computação XLI?, Quantos créditos a disciplina Tópicos Especiais em Computação XLI vale?, Qual é o objetivo da disciplina Tópicos Especiais em Computação XLI?'\n",
            "topico='ementa de Tópicos Especiais em Computação XLII' palavras_chave='Tópicos Especiais em Computação, Ementa, Objetivos, Referências Básicas, Referências Complementares' possiveis_perguntas='Quais são os objetivos da disciplina de Tópicos Especiais em Computação XLII?, Quais são as referências básicas da disciplina de Tópicos Especiais em Computação XLII?, Quais são as referências complementares da disciplina de Tópicos Especiais em Computação XLII?'\n",
            "topico='ementa de Topicos Especiais em Computacao XLIII' palavras_chave='Topicos Especiais em Computacao, Grade Curricular, UFFS' possiveis_perguntas='Qual a ementa da disciplina Topicos Especiais em Computacao XLIII?, Quantos creditos a disciplina Topicos Especiais em Computacao XLIII possui?, Qual o objetivo da disciplina Topicos Especiais em Computacao XLIII?'\n",
            "topico='ementa de Tópicos Especiais em Computação' palavras_chave='ementa, tópicos especiais, computação, créditos, horas' possiveis_perguntas='Qual é a ementa da disciplina Tópicos Especiais em Computação?, Quantos créditos e horas tem a disciplina Tópicos Especiais em Computação?'\n",
            "topico='ementa de Topicos Especiais em Computacao XLV' palavras_chave='Topicos Especiais em Computacao, grade curricular, ementa' possiveis_perguntas='Qual e a ementa da disciplina Topicos Especiais em Computacao XLV?, Quais sao os creditos da disciplina Topicos Especiais em Computacao XLV?, Quais sao os objetivos da disciplina Topicos Especiais em Computacao XLV?'\n",
            "topico='ementa de Tópicos Especiais em Computação XLVI' palavras_chave='Tópicos Especiais em Computação XLVI, grade curricular, créditos, horas' possiveis_perguntas='Quais são os créditos da disciplina Tópicos Especiais em Computação XLVI?, Qual é a duração da disciplina Tópicos Especiais em Computação XLVI?, Qual é o objetivo da disciplina Tópicos Especiais em Computação XLVI?'\n",
            "topico='ementa de Tópicos Especiais em Computação XLVII' palavras_chave='Tópicos Especiais em Computação XLVII, Componente Curricular, Créditos, Horas' possiveis_perguntas='Quais são os créditos da disciplina Tópicos Especiais em Computação XLVII?, Qual é a carga horária da disciplina Tópicos Especiais em Computação XLVII?, Qual é a ementa da disciplina Tópicos Especiais em Computação XLVII?'\n",
            "topico='Ementa de Tópicos Especiais em Computação XLVIII' palavras_chave='Tópicos Especiais em Computação XLVIII, grade curricular, ementa' possiveis_perguntas='Qual é o objetivo da disciplina Tópicos Especiais em Computação XLVIII?, Quais são as referências básicas para a disciplina Tópicos Especiais em Computação XLVIII?, Quais são as referências complementares para a disciplina Tópicos Especiais em Computação XLVIII?'\n",
            "topico='ementa de Tópicos Especiais em Computação XLIX' palavras_chave='ementa, tópicos especiais, computação' possiveis_perguntas='O que é o componente curricular Tópicos Especiais em Computação XLIX?, Qual é o crédito da disciplina Tópicos Especiais em Computação XLIX?, Quantas horas tem a disciplina Tópicos Especiais em Computação XLIX?'\n",
            "topico='ementa de TÓPICOS ESPECIAIS EM COMPUTAÇÃO L' palavras_chave='TÓPICOS ESPECIAIS EM COMPUTAÇÃO, ementa, objetivos, referências básicas, referências complementares' possiveis_perguntas='O que é a ementa da disciplina TÓPICOS ESPECIAIS EM COMPUTAÇÃO L, Quais são os objetivos da disciplina TÓPICOS ESPECIAIS EM COMPUTAÇÃO L, Quais são as referências básicas da disciplina TÓPICOS ESPECIAIS EM COMPUTAÇÃO L, Quais são as referências complementares da disciplina TÓPICOS ESPECIAIS EM COMPUTAÇÃO L'\n",
            "topico='Processo Pedagógico e de Gestão do Curso' palavras_chave='gestão do curso, coordenador do curso, Núcleo Docente, Colegiado do Curso, Domínio Comum, Domínio Conexo, Domínio Específico' possiveis_perguntas='Quem é responsável pela gestão do curso?, Quais são os componentes do Núcleo Docente?, Como são realizadas as decisões no curso?'\n",
            "topico='Regulamento de Gestão do Curso' palavras_chave='gestão do curso, colegiado, NDE, planejamento semestral, responsabilidade docente' possiveis_perguntas='Como funciona a gestão do curso de Ciência da Computação?, Quais são as responsabilidades do docente em relação ao componente curricular?, Como são realizadas as avaliações internas do curso?'\n",
            "topico='Avaliação do processo ensino-aprendizagem' palavras_chave='avaliação, ensino, aprendizagem, processo ensino-aprendizagem, Projeto Pedagógico' possiveis_perguntas='Como é realizada a avaliação do processo ensino-aprendizagem no curso de Ciência da Computação?, Quais são os princípios estabelecidos para o desenvolvimento do ensino na UFFS?, Como a avaliação é vinculada ao Projeto Pedagógico do Curso?'\n",
            "topico='regulamento de graduacao' palavras_chave='regulamento de graduacao, avaliacao, acessibilidade, ensino e aprendizagem' possiveis_perguntas='Qual o documento institucional que estabelece referenciais para avaliacao e acompanhamento do processo de ensino e aprendizagem?, Como a acessibilidade e tratada no regulamento de graduacao?'\n",
            "topico='Atuacao didatica e pedagogica do curso de Ciencia da Computacao da UFFS' palavras_chave='atuacao didatica, pedagogica, ensino, pesquisa, extensao, interdisciplinaridade' possiveis_perguntas='Qual e o foco da atuacao didatica e pedagogica do curso de Ciencia da Computacao da UFFS?, Como o curso aborda a interdisciplinaridade?, Quais sao as estrategias utilizadas para integrar os conteudos no curso?'\n",
            "topico='Integração entre teoria e prática no PPC de Ciência da Computação' palavras_chave='integração teoria prática, práticas facultadas, iniciação científica, estágio não obrigatório, projetos multidisciplinares' possiveis_perguntas='Como a integração entre teoria e prática é promovida no PPC de Ciência da Computação?, Quais são as práticas facultadas aos alunos para integração entre teoria e prática?, Como a iniciação científica e a monitoria contribuem para a integração entre teoria e prática?'\n",
            "topico='avaliação da aprendizagem' palavras_chave='avaliação, aprendizagem, ensino-aprendizagem, componente curricular' possiveis_perguntas='Qual é o objetivo da avaliação do processo ensino-aprendizagem?, Como a avaliação da aprendizagem será realizada?, Quais são os critérios para ser aprovado num componente curricular?'\n",
            "topico='Regulamento de Avaliação' palavras_chave='frequência mínima, registro de frequência, avaliação, instrumentos de avaliação, recuperação da aprendizagem' possiveis_perguntas='Qual é a frequência mínima exigida para os estudantes, Como é feito o registro da frequência dos estudantes, Quais são os instrumentos de avaliação utilizados, Como é feita a recuperação da aprendizagem'\n",
            "topico='Regulamento de avaliação e monitorias' palavras_chave='avaliação, nota final, frequência mínima, critérios avaliativos, monitorias' possiveis_perguntas='Quais são os critérios para ser aprovado em um componente curricular?, Qual é a frequência mínima requerida para aprovação?, O que são as monitorias e como elas funcionam?'\n",
            "topico='Atendimento aos estudantes e Tutoria' palavras_chave='atendimento aos estudantes, tutoria, professor-tutor, apoio acadêmico' possiveis_perguntas='Quais os horários de atendimento dos docentes?, Quem é o professor-tutor?, Quais as atribuições do professor-tutor?'\n",
            "topico='Autoavaliação do Curso' palavras_chave='Avaliação, Qualidade, Inovação, Currículo, Corpo Docente' possiveis_perguntas='O que é a autoavaliação do curso?, Qual a importância da avaliação para a inovação e qualidade do projeto pedagógico?'\n",
            "topico='Avaliação Institucional' palavras_chave='Avaliação Institucional, ENADE, SINAES, qualidade do curso, desempenho dos docentes' possiveis_perguntas='O que é a Avaliação Institucional, Quais são os processos de avaliação da qualidade do curso, Qual é o papel do MEC na avaliação externa, O que é o ENADE, Qual é o objetivo da avaliação interna'\n",
            "topico='Avaliação do curso de graduação em Ciência da Computação' palavras_chave='Avaliação interna, CPA, Comissão Nacional de Avaliação da Educação Superior, CONAES, Lei nº 10.861' possiveis_perguntas='Quem coordena a avaliação interna do curso de graduação em Ciência da Computação?, Qual é a lei que estabelece a criação da CPA?, Quais são as diretrizes que orientam a autoavaliação institucional?'\n",
            "topico='Avaliação do Curso de Ciência da Computação' palavras_chave='avaliação, curso de Ciência da Computação, objetivos, planejamento institucional, ensino-aprendizagem' possiveis_perguntas='Qual é o objetivo da avaliação do curso de Ciência da Computação?, Quais são os instrumentos utilizados para avaliar o curso?, Como os resultados da avaliação são utilizados?'\n",
            "topico='Articulação entre Ensino, Pesquisa e Extensão' palavras_chave='Ensino, Pesquisa, Extensão, Conhecimento, Formação Acadêmica' possiveis_perguntas='O que é a articulação entre ensino, pesquisa e extensão?, Qual é o papel da extensão no curso de Ciência da Computação?, Como o curso de Ciência da Computação contribui para a sociedade?'\n",
            "topico='Objetivos do curso' palavras_chave='ensino, pesquisa, extensão, problema-tização, interdisciplinaridade' possiveis_perguntas='Quais são os objetivos do curso de Ciência da Computação da UFFS?, Como o curso busca estimular os estudantes?, Quais são as linhas de pesquisa do curso?, Como o curso promove a extensão?'\n",
            "topico='Proposta curricular orientadora da UFFS' palavras_chave='extensão, pesquisa, ensino complementar, flexibilização, disciplinas optativas' possiveis_perguntas='Qual é a proposta curricular orientadora da UFFS?, Quais são as características da matriz do curso de Ciência da Computação?, Como a flexibilização é alcançada na matriz do curso?'\n",
            "topico='Diretrizes da Diretoria de Pedagogica' palavras_chave='pesquisa, extensão, aprendizagem, atendimento, sociedade' possiveis_perguntas='Qual é o papel da pesquisa na Diretoria de Pedagogica?, Como a extensão é fundamentada pela pesquisa?, Qual é a importância do acompanhamento docente na vida acadêmica?'\n",
            "topico='perfil docente e processo de qualificacao' palavras_chave='perfil docente, processo de qualificacao, competencias' possiveis_perguntas='Qual e o perfil docente do Curso de Ciencia da Computacao da UFFS?, Como o processo de qualificacao dos docentes e realizado?'\n",
            "topico='Objetivos do Curso de Ciência da Computação' palavras_chave='formação generalista, humanista, crítica e reflexiva, conhecimentos científicos específicos, PERFIL DO EGRESSO' possiveis_perguntas='Quais são os objetivos do Curso de Ciência da Computação?, Qual é a visão do curso para a formação do profissional?, Quais são as necessidades da sociedade que o curso busca atender?'\n",
            "topico='perfil desejado para o corpo docente' palavras_chave='perfil docente, ensino, pesquisa, extensão, realidade regional, crítica, reflexão, trabalho colaborativo, aptidão pedagógica' possiveis_perguntas='Quais são os requisitos para o corpo docente da UFFS?, O que é esperado do corpo docente em termos de ensino e pesquisa?, Quais são as habilidades necessárias para o trabalho colaborativo no corpo docente?'\n",
            "topico='Requisitos para docentes do curso de Ciência da Computação' palavras_chave='docente, Ciência da Computação, habilidades, competências, interdisciplinar' possiveis_perguntas='Quais são os requisitos para os docentes do curso de Ciência da Computação?, Quais habilidades os docentes devem ter?, Qual é a importância da interdisciplinaridade para os docentes?'\n",
            "topico='Coordenador do Curso de Ciência da Computação' palavras_chave='Coordenador, experiência docência, pesquisa, extensão, NAP, Núcleo de Apoio Pedagógico' possiveis_perguntas='Quais são os requisitos para o coordenador do curso de Ciência da Computação, Qual é o papel do NAP, Quais são as responsabilidades do coordenador do curso'\n",
            "topico='Coordenador do Curso' palavras_chave='Coordenador, RESOLUÇÃO Nº 4/2014, Regimento Interno, Colegiado do Curso' possiveis_perguntas='Quais são as atribuições do Coordenador do Curso, Como é escolhido o Coordenador do Curso, Qual é a carga horária para o Coordenador do Curso?'\n",
            "topico='corpo docente' palavras_chave='docentes, corpo docente, grade vespertina' possiveis_perguntas='Quem compõe o corpo docente do curso, Quantos docentes compõem o corpo docente, Qual a distribuição do corpo docente?'\n",
            "topico='Grade curricular de Ciência da Computação' palavras_chave='grade curricular, Ciência da Computação, UFFS' possiveis_perguntas='Quais são as disciplinas da grade curricular de Ciência da Computação?, Quais são os professores que ministram as disciplinas da grade curricular?, Quais são as habilidades e competências desenvolvidas na grade curricular de Ciência da Computação?'\n",
            "topico='corpo docente' palavras_chave='corpo docente, professores, disciplinas' possiveis_perguntas='Quais são os professores do curso de Ciência da Computação?, Quais são as disciplinas lecionadas pelos professores?'\n",
            "topico='Corpo docente' palavras_chave='corpo docente, professores, especialidades' possiveis_perguntas='Quais são os professores da especialidade de Banco de Dados II?, Quais são as especialidades dos professores?, Quais são os professores da especialidade de Computação Gráfica?'\n",
            "topico='Corpo docente' palavras_chave='UFFS, professores, corpo docente, graduação' possiveis_perguntas='Quais são os professores do curso de Ciência da Computação da UFFS?, Quais são as áreas de especialização dos professores?'\n",
            "topico='infraestrutura necessária ao curso de Ciência da Computação' palavras_chave='infraestrutura, laboratórios, salas de aula, tecnologia, equipamentos' possiveis_perguntas='Quais são os requisitos de infraestrutura necessários para o curso de Ciência da Computação?, Quantos laboratórios são necessários para o curso?, Quais são os equipamentos necessários para as salas de aula e laboratórios?'\n",
            "topico='Infraestrutura de Bibliotecas' palavras_chave='Bibliotecas, Acesso à informação, Coordenação Acadêmica, Divisão de Bibliotecas, Portal de Periódicos' possiveis_perguntas='Quais são as responsabilidades da Divisão de Bibliotecas, Quais serviços são oferecidos pelas bibliotecas, Como as bibliotecas estão integradas'\n",
            "topico='Diretoria de Bibliotecas' palavras_chave='Diretoria de Bibliotecas, bibliotecas, serviços, qualidade, recursos' possiveis_perguntas='Qual é o objetivo da Diretoria de Bibliotecas?, Quais são os serviços oferecidos pela Diretoria de Bibliotecas?, Quantas bibliotecas existem na UFFS?'\n",
            "topico='Serviços oferecidos pelas bibliotecas da UFFS' palavras_chave='Serviços bibliotecários, recursos de informação, disseminação da produção científica' possiveis_perguntas='Quais serviços são oferecidos pelas bibliotecas da UFFS?, Qual é o papel das bibliotecas da UFFS na disseminação da produção científica?'\n",
            "topico='infraestrutura' palavras_chave='acervo, bibliografias, Portal de Periódicos da CAPES, Comunidade Acadêmica Federada (CAFe), acesso a publicações científicas' possiveis_perguntas='Quais são as fontes de acesso a publicações científicas da UFFS?, Quais são os critérios para aquisição de bibliografias?, Quais são os serviços oferecidos pela Comunidade Acadêmica Federada (CAFe)?, Qual é o papel da UFFS no Portal de Periódicos da CAPES?'\n",
            "topico='Laboratórios' palavras_chave='UFFS, Laboratórios, Infraestrutura' possiveis_perguntas='Quais são os laboratórios disponíveis na UFFS?, Qual é a infraestrutura dos laboratórios da UFFS?, Quais são as instalações dos laboratórios da UFFS?'\n",
            "topico='Laboratório de Organização de Computadores e Sistemas Digitais' palavras_chave='laboratório, organização de computadores, sistemas digitais, circuitos combinacionais, circuitos sequenciais' possiveis_perguntas='Qual é o objetivo do Laboratório de Organização de Computadores e Sistemas Digitais?, Quais disciplinas são apoiadas pelo laboratório?, Quais atividades práticas podem ser desenvolvidas no laboratório?'\n",
            "topico='infraestrutura' palavras_chave='laboratorio, equipamentos, computadores' possiveis_perguntas='Quais os equipamentos disponíveis no laboratório, Quantos computadores existem no laboratório, Qual o tamanho da área do laboratório?'\n",
            "topico='Especificações de equipamentos do laboratório' palavras_chave='Monitores, teclados, mouses, interfaces de rede, osciloscópios, multímetros, fontes de alimentação' possiveis_perguntas='Quais são as especificações dos monitores utilizados no laboratório?, Quais são as características dos teclados utilizados?, Quais são as opções de interfaces de rede disponíveis?, Quais são as especificações dos osciloscópios utilizados?, Quais são as características dos multímetros utilizados?, Quais são as opções de fontes de alimentação disponíveis?'\n",
            "topico='infraestrutura' palavras_chave='equipamentos, laboratorio, robótica' possiveis_perguntas='Quais são os equipamentos disponíveis no laboratório?, Quais são as características do kit de robótica educacional?, Quais são as funcionalidades do kit de gravação de microcontroladores?'\n",
            "topico='infraestrutura' palavras_chave='laboratório, equipamentos, hardware' possiveis_perguntas='Quais são os equipamentos disponíveis no laboratório?, Quais são os dispositivos suportados pelo programador universal?'\n",
            "topico='Especificação de materiais e ferramentas' palavras_chave='materiais, ferramentas, laboratório, equipamentos' possiveis_perguntas='Quais são os materiais e ferramentas necessários para o laboratório, Quais são os equipamentos disponíveis para a disciplina, Quais são as especificações dos materiais e ferramentas para o laboratório?'\n",
            "topico='lista de materiais para laboratório' palavras_chave='componentes eletrônicos, trim pots, capacitores, diodos' possiveis_perguntas='Quais são os componentes eletrônicos necessários para o laboratório, Quais são os tipos de capacitores disponíveis, Quais são os diodos utilizados no laboratório'\n",
            "topico='Ementa de Componentes Eletrônicos' palavras_chave='Componentes Eletrônicos, Diodos, Fototransistores, LEDs, Displays' possiveis_perguntas='Quais são os componentes eletrônicos utilizados no laboratório?, Quais são os tipos de diodos e fototransistores disponíveis?, Quais são os LEDs e displays utilizados?'\n",
            "topico='Ementa de componentes eletrônicos' palavras_chave='componentes eletrônicos, diodos, reguladores de voltagem, amplificadores operacionais, timers' possiveis_perguntas='Quais são os componentes eletrônicos utilizados no laboratório?, Quais são os tipos de diodos disponíveis?, Quais são os reguladores de voltagem integrados utilizados?'\n",
            "topico='Componentes eletrônicos' palavras_chave='transistores, circuitos integrados, componentes eletrônicos, laboratório de eletrônica' possiveis_perguntas='Quais são os tipos de transistores disponíveis?, Quais são os componentes eletrônicos utilizados no laboratório?, Quais são as características dos transistores bipolares?'\n",
            "topico='componentes eletrônicos para laboratório' palavras_chave='componentes eletrônicos, laboratório, placas de circuito' possiveis_perguntas='Quais componentes eletrônicos são utilizados no laboratório de Ciência da Computação?, Quais são os principais componentes utilizados em placas de circuito?'\n",
            "topico='Ementa de Circuitos Digitais' palavras_chave='componentes eletrônicos, circuitos digitais, lógica digital' possiveis_perguntas='Quais são os componentes utilizados em circuitos digitais?, Qual é o objetivo da ementa de Circuitos Digitais?'\n",
            "topico='lista de componentes eletrônicos do laboratório' palavras_chave='componentes eletrônicos, laboratório, Ciência da Computação' possiveis_perguntas='Quais componentes eletrônicos são utilizados no laboratório de Ciência da Computação?, Quais são os principais componentes eletrônicos utilizados na disciplina?'\n",
            "topico='infraestrutura' palavras_chave='materiais, componentes eletricos, laboratorio' possiveis_perguntas='Quais materiais sao utilizados no laboratorio de Ciencia da Computacao?, Quais sao os componentes eletricos necessarios para o laboratorio?'\n",
            "topico='infraestrutura' palavras_chave='materiais laboratório, equipamentos eletrônicos' possiveis_perguntas='Quais são os materiais disponíveis no laboratório de eletrônica, Quais são os equipamentos eletrônicos utilizados no curso de Ciência da Computação?'\n",
            "topico='laboratório' palavras_chave='laboratório de programação, desenvolvimento de software, engenharia de software, banco de dados, compiladores, sistemas operacionais, computação gráfica, inteligência artificial, software livre' possiveis_perguntas='O que é o laboratório de programação?, Quais são os objetivos do laboratório de programação?, Quais são os requisitos básicos para os laboratórios de programação?'\n",
            "topico='infraestrutura do laboratório de programação' palavras_chave='laboratório de programação, infraestrutura, recursos computacionais' possiveis_perguntas='Qual é a infraestrutura do laboratório de programação?, Quais são os recursos computacionais disponíveis no laboratório?'\n",
            "topico='infraestrutura' palavras_chave='laboratório, equipamentos, conectores RJ-45, interface vídeo, teclado, mouse, USB, placa-mãe, serial' possiveis_perguntas='Quais são os equipamentos necessários para um laboratório?, Quais são as especificações para a interface de vídeo?, Quantas interfaces USB são necessárias?'\n",
            "topico='Laboratório de Redes de Computadores e Sistemas Operacionais' palavras_chave='laboratório, redes de computadores, sistemas operacionais' possiveis_perguntas='Quais são os objetivos do Laboratório de Redes de Computadores e Sistemas Operacionais?, Quais disciplinas são suportadas pelo laboratório?, Quais são os materiais necessários para o laboratório?'\n",
            "topico='infraestrutura' palavras_chave='laboratório, redes de computadores, sistemas operacionais' possiveis_perguntas='Quais são os materiais do laboratório de redes de computadores e sistemas operacionais?, Quem é o professor responsável pelo laboratório de redes e sistemas operacionais?'\n",
            "topico='infraestrutura' palavras_chave='laboratorio, sistemas operacionais, equipamentos' possiveis_perguntas='Quais equipamentos sao disponibilizados no laboratorio de Sistemas Operacionais I e II, Quantos computadores tem no laboratorio de Sistemas Operacionais I e II, Qual a localizacao do laboratorio de Sistemas Operacionais I e II?'\n",
            "topico='infraestrutura' palavras_chave='equipamentos, hardware, laboratório' possiveis_perguntas='Quais equipamentos são necessários para o laboratório de computação?, Quais são os componentes de hardware necessários para o laboratório?'\n",
            "topico='Regulamento das atividades complementares do curso de Graduação em Ciência da Computação - Bacharelado' palavras_chave='regulamento, atividades complementares, graduação, ciência da computação, bacharelado' possiveis_perguntas='O que é o regulamento das atividades complementares do curso de Graduação em Ciência da Computação?, Quais são as atividades complementares oferecidas pelo curso de Graduação em Ciência da Computação?, O que é o bacharelado em Ciência da Computação?'\n",
            "topico='Regulamento de atividades curriculares complementares' palavras_chave='atividades curriculares complementares, controle, aproveitamento, validação, registro, carga horária' possiveis_perguntas='O que são atividades curriculares complementares?, Quais são as normas gerais para controle e aproveitamento das atividades curriculares complementares?, Quais são as atividades válidas para atividades curriculares complementares?, Qual é a carga horária admitida para cada atividade?'\n",
            "topico='Regras de validação de atividades curriculares' palavras_chave='validação de atividades, critérios de validação, atividades curriculares' possiveis_perguntas='Quais são os critérios para validar as atividades curriculares, Quais atividades são consideradas válidas para o curso de Ciência da Computação, Como são definidos os critérios de validação das atividades curriculares'\n",
            "topico='Objetivos das Atividades Curriculares Complementares do curso de Ciência da Computação' palavras_chave='Atividades Curriculares Complementares, Ciência da Computação, Graduação, objetivos, currículo' possiveis_perguntas='Quais são os objetivos das Atividades Curriculares Complementares no curso de Ciência da Computação?, Qual é o objetivo principal das Atividades Curriculares Complementares?'\n",
            "topico='Objetivos do PPC' palavras_chave='Universidade, realidade social, profissional, aprofundamento temático, interdisciplinar' possiveis_perguntas='Quais são os objetivos do PPC?, Qual é o papel da Universidade na formação profissional e para a cidadania?,'\n",
            "topico='Instrucao de validacao de disciplinas' palavras_chave='Atividades Curriculares Complementares, validacao de atividade complementar, Secretaria Academica, tabela de atividades' possiveis_perguntas='Como validar atividades curriculares complementares, quais sao os requisitos para validacao de atividades complementares, onde entregar o pedido de validacao de atividade complementar, o que e a Tabela I'\n",
            "topico='Atividades de Extensão' palavras_chave='Atividades de Pesquisa, Projetos de Iniciação Científica, Publicações Científicas, Colaboração em projeto de pesquisa' possiveis_perguntas='Quais são os tipos de atividades de extensão, Quais são os limites de horas para cada atividade, Quais são os documentos comprobatórios necessários para cada atividade'\n",
            "topico='Atividades Curriculares de Extensão e Ensino' palavras_chave='Atividades Curriculares, Extensão, Ensino, Horas de Atividade, Documentos Comprobatórios' possiveis_perguntas='Quais são as categorias de Atividades Curriculares de Extensão?, Quais são os limites de horas para cada categoria?, Quais documentos são necessários para comprovar a participação em cada atividade?'\n",
            "topico='Atividades Complementares' palavras_chave='atividades complementares, cultura, grupos de estudos, monitoria, eventos técnico-científicos' possiveis_perguntas='Quais são as atividades complementares disponíveis para os alunos, Quais são os requisitos para participar das atividades complementares, Como posso comprovar minha participação nas atividades complementares'\n",
            "topico='Atividades complementares do curso de Ciência da Computação' palavras_chave='atividades complementares, cursos de idiomas, prova TOEFL, ouvinte defesas de TCC, comissão organizadora de eventos' possiveis_perguntas='Quais são as atividades complementares oferecidas pelo curso de Ciência da Computação?, Quais são os requisitos para obter certificado em cursos de idiomas?, Qual é o peso da prova TOEFL nas atividades complementares?'\n",
            "topico='Instrucao de validacao de disciplinas' palavras_chave='validacao de disciplinas, justificativa, formacao academica, Comissao de Atividades Curriculares Complementares' possiveis_perguntas='Como funciona a validacao de disciplinas de graduacao vinculadas a outros cursos da UFFS?, Qual e o papel da Comissao de Atividades Curriculares Complementares no processo de validacao de disciplinas?, O que acontece se a justificativa for reprovada pela Comissao?'\n",
            "topico='Instrução de validação de disciplinas' palavras_chave='validação de cursos extracurriculares, certificado on-line, autenticidade' possiveis_perguntas='O que é necessário para validar um curso extracurricular on-line?, Como verificar a autenticidade de um certificado de curso on-line? '\n",
            "topico='Regras para validação de atividades curriculares complementares' palavras_chave='validação de atividades, atividades curriculares complementares, comissão de atividades curriculares, contribuição em projetos de código aberto' possiveis_perguntas='Quais são os requisitos para validação de atividades curriculares complementares?, Quem é responsável por avaliar os pedidos de validação?, Quais são as condições para validação de contribuição em projetos de código aberto?'\n",
            "topico='Regras de validação de atividades complementares do curso de Ciência da Computação' palavras_chave='atividades complementares, validação, certificação, horas de trabalho' possiveis_perguntas='Quais são as regras para validação de atividades complementares no curso de Ciência da Computação?, Como são certificadas as horas de trabalho em atividades complementares?, Quais documentos são necessários para comprovar a participação em eventos de e-sports?'\n",
            "topico='obrigações do estudante' palavras_chave='atividades constantes, comprovação, documentos comprobatórios, validação, Comissão de Atividades Curriculares Complementares' possiveis_perguntas='Quais são as obrigações do estudante, Como comprovar as atividades constantes, Quem é responsável por validar as atividades'\n",
            "topico='Disposicoes finais do regulamento' palavras_chave='migracao de matriz curricular, aproveitamento de horas, regulamento, Comissao de Atividades Curriculares Complementares' possiveis_perguntas='Quais sao as regras para aproveitamento de horas em caso de migracao de matriz curricular?, Quem resolve duvidas na interpretacao do regulamento?, Quais sao os procedimentos para recursos aos julgamentos da Comissao de Atividades Curriculares Complementares?'\n",
            "topico='Regulamento' palavras_chave='vigência, aprovação, colegiado, curso, Ciência da Computação' possiveis_perguntas='Quando o Regulamento entra em vigor?, Quem aprovou o Regulamento?'\n",
            "topico='Regulamento de Atividades Curriculares Complementares' palavras_chave='Atividades Curriculares Complementares, Ciência da Computação, UFFS, regulamento, normas gerais' possiveis_perguntas='O que são Atividades Curriculares Complementares?, Qual é o objetivo do Regulamento de Atividades Curriculares Complementares?, Quais são as normas gerais de controle e registro das horas complementares?'\n",
            "topico='Regulamento de Atividades Complementares' palavras_chave='atividades complementares, carga horária, documentos comprobatórios' possiveis_perguntas='O que são atividades complementares, Quais são as atividades válidas para atividades complementares, Qual é a carga horária admitida para atividades complementares'\n",
            "topico='Atividades Curriculares Complementares do curso de Ciência da Computação' palavras_chave='Atividades Curriculares Complementares, créditos, carga horária, horas-aula' possiveis_perguntas='O que são Atividades Curriculares Complementares, Quantos créditos são necessários para o curso de Ciência da Computação, Qual é a carga horária total das Atividades Curriculares Complementares'\n",
            "topico='Atividades Curriculares Complementares' palavras_chave='Pesquisa, Ensino, Atividades Curriculares Complementares' possiveis_perguntas='Quais atividades curriculares complementares estão disponíveis?, Quais são as opções de atividades de pesquisa e ensino?'\n",
            "topico='Atividades Curriculares Complementares' palavras_chave='Atividades Curriculares Complementares, Extensão, Aprimoramento Profissional' possiveis_perguntas='Quais são as atividades curriculares complementares disponíveis no Curso de Ciência da Computação?, Quais são os requisitos para participar das atividades curriculares complementares?'\n",
            "topico='Atividades complementares' palavras_chave='atividades complementares, curso de línguas, participação em projetos de ONG, viagens de estudo, maratonas de programação, estágios não obrigatórios' possiveis_perguntas='Quais são as atividades complementares aceitas no curso de Ciência da Computação da UFFS?, O que é considerado uma atividade complementar no PPC da UFFS?'\n",
            "topico='Atividades Curriculares Complementares em Empreendedorismo' palavras_chave='empreendedorismo, atividades curriculares complementares, inovação tecnológica, empresas juniores, incubadoras tecnológicas' possiveis_perguntas='Quais são as atividades curriculares complementares em empreendedorismo?, Quais são os exemplos de soluções tecnológicas pontuais vinculadas a empresas?, Quais são as entidades reconhecidas de fomento que promovem cursos, concursos e feiras de inovação tecnológica?'\n",
            "topico='Atividades Curriculares Complementares em cultura' palavras_chave='atividades curriculares complementares, cultura, UFFS, projetos, eventos culturais, JUFFS' possiveis_perguntas='Quais são as atividades curriculares complementares em cultura oferecidas pela UFFS, Quais são os projetos de cultura da UFFS, Como participar dos Jogos Universitários da UFFS (JUFFS)'\n",
            "topico='validação de disciplinas' palavras_chave='validação de disciplinas, graduação, UFFS, formação acadêmica' possiveis_perguntas='Quais são os requisitos para a validação de disciplinas de graduação, Como justificar a importância de uma disciplina para a formação acadêmica, Quais são os itens comprobatórios necessários para a validação de disciplinas'\n",
            "topico='Regras de validação de disciplinas' palavras_chave='atividades complementares, validação de disciplinas, Comissão de Atividades Curriculares Complementares' possiveis_perguntas='Quem julga a justificativa de atividades complementares?, O que acontece se a justificativa for reprovada pela Comissão?'\n",
            "topico='Instruçōes de validação de atividades curriculares' palavras_chave='Validação de atividades curriculares, objetivos do curso de Ciência da Computação, formação do bacharel, Comissão de Atividades Curriculares Complementares' possiveis_perguntas='Quais são os critérios para a validação das atividades curriculares, Quais são os objetivos do curso de Ciência da Computação, Como são definidos os critérios para a validação das atividades curriculares'\n",
            "topico='Objetivos das Atividades Curriculares Complementares de Graduação' palavras_chave='Atividades Curriculares Complementares, flexibilizar currículo, realidade social e profissional, aprofundamento temático e interdisciplinar' possiveis_perguntas='Quais são os objetivos das Atividades Curriculares Complementares de Graduação, Quais são as atividades que visam a formação profissional e para a cidadania, Como as Atividades Curriculares Complementares de Graduação promovem a integração entre a Universidade e a sociedade?'\n",
            "topico='Instrução de validação de atividades complementares' palavras_chave='Atividades Curriculares Complementares, validação, Secretaria Acadêmica' possiveis_perguntas='Como solicitar validação de atividades complementares, quais documentos são necessários para validação de atividades complementares, onde entregar o pedido de validação de atividades complementares?'\n",
            "topico='Reconhecimento de documentos válidos' palavras_chave='reconhecimento, documentos válidos, aproveitamento de estudos, atividades curriculares complementares' possiveis_perguntas='Quais documentos são válidos para fins de aproveitamento de estudos, Quais são os requisitos para o aproveitamento de estudos, Como funciona o reconhecimento de documentos válidos?'\n",
            "topico='Instrução de validação de disciplinas' palavras_chave='validação, atividades curriculares, comissão, coordenador, semestre letivo' possiveis_perguntas='Quem avalia os pedidos de validação de atividades curriculares, Como é composta a Comissão de Atividades Curriculares Complementares, Quem nomeia a Comissão de Atividades Curriculares Complementares'\n",
            "topico='Instrução de validação de atividades complementares' palavras_chave='validação, atividades complementares, comprovação, Secretaria Acadêmica, Comissão de Atividades Curriculares Complementares' possiveis_perguntas='Como as atividades complementares são validadas, Quais documentos são necessários para comprovar as atividades, Quem é responsável por validar as atividades complementares'\n",
            "topico='regulamento' palavras_chave='Comissao de Atividades Curriculares, complementares, Ciencia da Computacao' possiveis_perguntas='Quem resolve duvidas nao previstas no regulamento?, Quem faz parte da Comissao de Atividades Curriculares?'\n",
            "topico='Regulamento de Trabalho de Conclusão' palavras_chave='Regulamento, Trabalho de Conclusão, Ciência da Computação, Campus Chapecó' possiveis_perguntas='Qual é o Regulamento de Trabalho de Conclusão do curso de Ciência da Computação, O que é o Regulamento de Trabalho de Conclusão, Qual é o objetivo do Regulamento de Trabalho de Conclusão'\n",
            "topico='Ata de reuniao' palavras_chave='colegiado, Ciência da Computação, Campus Chapecó, Ata 11-2020' possiveis_perguntas='Qual foi a decisão tomada pelo colegiado, O que foi discutido na reunião de 16 de Dezembro de 2020, Qual é o conteúdo da Ata 11-2020'\n",
            "topico='Alteracao no Regulamento de Trabalho de Conclusao de Curso' palavras_chave='Regulamento de Trabalho de Conclusao de Curso, Ciencia da Computacao, Projeto Pedagogico do Curso' possiveis_perguntas='Qual o objetivo da alteracao no Regulamento de Trabalho de Conclusao de Curso, Qual e o Apêndice II do Regulamento de Trabalho de Conclusao de Curso?'\n",
            "topico='Regulamento do Trabalho de Conclusão de Curso (TCC) de Ciência da Computação' palavras_chave='Trabalho de Conclusão de Curso, TCC, Ciência da Computação, UFFS, Regulamento' possiveis_perguntas='O que é o Trabalho de Conclusão de Curso (TCC) de Ciência da Computação?, Quais são os objetivos do TCC?, Quem pode orientar o TCC?, O TCC é obrigatório para a integralização do currículo?'\n",
            "topico='Objetivos da Atividade de Conclusão de Curso' palavras_chave='Trabalho de Conclusão de Curso, objetivos, experiências teórico-práticas, formação profissional, desenvolvimento científico e tecnológico' possiveis_perguntas='Quais são os objetivos do Trabalho de Conclusão de Curso?, O que o Trabalho de Conclusão de Curso visa oferecer ao estudante?, Qual é o papel do Trabalho de Conclusão de Curso no desenvolvimento da capacidade científica e tecnológica?'\n",
            "topico='Trabalho de Conclusão de Curso (TCC)' palavras_chave='Trabalho de Conclusão de Curso, TCC, componente curricular' possiveis_perguntas='Como o Trabalho de Conclusão de Curso é organizado?, Quais são as etapas do TCC?, Quais são os créditos e horas do TCC?'\n",
            "topico='Regras do TCC' palavras_chave='TCC, flexibilização, modalidades, condução dos trabalhos, formato de documentação' possiveis_perguntas='Quais são as modalidades de condução dos trabalhos de TCC?, Quais são os formatos de documentação dos resultados de TCC?'\n",
            "topico='Modalidades de condução dos trabalhos' palavras_chave='modalidades de condução, trabalhos, pesquisa científica, inovação, negócio, experiências' possiveis_perguntas='Quais são as modalidades de condução dos trabalhos?, O que é pesquisa científica básica ou aplicada?, O que é inovação e negócio?, Como se comprova experiências em atividades relevantes?'\n",
            "topico='regulamento' palavras_chave='formatos de documentação, resultados, monografia, artigo científico, compilação' possiveis_perguntas='Quais são os formatos de documentação de resultados regulamentados, O que é um relatório técnico, Como deve ser diagramado um artigo científico, O que é uma compilação de documentos'\n",
            "topico='Trabalho de Conclusao de Curso (TCC)' palavras_chave='TCC, professor-orientador, coorientador' possiveis_perguntas='Quem acompanha o processo de construção do TCC?, Quais são os papéis do professor-orientador e do coorientador?'\n",
            "topico='Trabalho de Conclusao de Curso (TCC)' palavras_chave='TCC, UFFS, professor-orientador, coorientador, proposta de trabalho' possiveis_perguntas='Quem pode ser coorientador do TCC, Como formalizar o tema do TCC, Qual o cronograma do componente curricular?'\n",
            "topico='Trabalho de Conclusão de Curso (TCC) I - Proposta e Defesa' palavras_chave='TCC I, proposta, defesa, banca avaliadora, cronograma' possiveis_perguntas='O que é necessário incluir na proposta do TCC I?, Como é realizada a defesa da proposta do TCC I?, Qual é o cronograma para a defesa da proposta do TCC I? '\n",
            "topico='Regras para o TCC II' palavras_chave='TCC II, banca avaliadora, cronograma, pesquisa científica, projeto pedagógico' possiveis_perguntas='O que é o TCC II?'\n",
            "topico='Regras de TCC II' palavras_chave='TCC II, monografia, regulamentacao, atividades, crescimento profissional' possiveis_perguntas='O que e TCC II, Quais sao as regras para TCC II, Qual e o objetivo da monografia?'\n",
            "topico='Regras para artigos científicos e TCC II' palavras_chave='direitos autorais, divulgação do conhecimento, normas metodológicas, artigo científico, TCC II' possiveis_perguntas='Quais são os requisitos para um artigo científico ser válido como TCC II?, Quais são as normas metodológicas que devem ser seguidas?, Como deve ser feita a divulgação do conhecimento adquirido?'\n",
            "topico='Projeto Pedagógico do Curso de Graduação em Ciência da Computação – Bacharelado' palavras_chave='Projeto Pedagógico, Curso de Graduação, Ciência da Computação, Bacharelado' possiveis_perguntas='O que é o Projeto Pedagógico do Curso de Graduação em Ciência da Computação? Qual é o objetivo do Projeto Pedagógico?'\n",
            "topico='Normas para compilação de documentos' palavras_chave='compilação de documentos, anexos, pontuação, defesa' possiveis_perguntas='O que é necessário incluir em uma compilação de documentos?, Quais são os critérios para aceitação de uma compilação?, Qual é o mínimo de pontuação necessária para uma compilação?'\n",
            "topico='Tabela de Pontuação de Documentos para Compilação' palavras_chave='pontuação, documentos, compilação, relatórios, projetos' possiveis_perguntas='Quais são os critérios para pontuação de documentos, Quais são os tipos de relatórios aceitos, Qual é a pontuação para participação em Maratona de Programação, Qual é a pontuação para participação em projeto de Iniciação Científica'\n",
            "topico='Ementa de TCC' palavras_chave='TCC, Relatório de participação, Projeto de Empreendedorismo ou Inovação' possiveis_perguntas='O que é o TCC, Quais são os requisitos para o relatório de participação, Qual é o objetivo do projeto de Empreendedorismo ou Inovação?'\n",
            "topico='regras e regulamentacoes do TCC' palavras_chave='TCC, Regulamento, Artigos, Atribuições' possiveis_perguntas='Quais são as regras para a elaboração do TCC, Quais são as atribuições da coordenação de curso, Quais são as atribuições do professor responsável pelo componente curricular TCC?'\n",
            "topico='Orientação do TCC' palavras_chave='TCC, orientação, procedimentos, normas, cronograma' possiveis_perguntas='Quais são os procedimentos para realizar o TCC, Quais são as normas para a confecção dos documentos, Qual é o cronograma semestral do componente curricular?'\n",
            "topico='Atribuições do professor-orientador' palavras_chave='Professor-orientador, atribuições, TCC, bancas avaliadoras, plágio' possiveis_perguntas='Quais são as atribuições do professor-orientador, O professor-orientador é responsável por verificar plágio nos trabalhos, Quais são as responsabilidades do professor-orientador em relação às bancas avaliadoras'\n",
            "topico='Responsabilidades do Estudante e Banca Avaliadora do TCC' palavras_chave='TCC, responsabilidades do estudante, banca avaliadora, cronograma, metodologia' possiveis_perguntas='Quais são as responsabilidades do estudante no TCC?, Como é formada a banca avaliadora?, Quais são os requisitos para a elaboração do TCC?'\n",
            "topico='Avaliação do Trabalho de Conclusão de Curso' palavras_chave='Trabalho de Conclusão de Curso, Avaliação, Nota, Banca' possiveis_perguntas='Como é composta a nota do Trabalho de Conclusão de Curso?, Quem deve pertencer à banca avaliadora?'\n",
            "topico='Regulamento do Trabalho de Conclusao de Curso' palavras_chave='Trabalho de Conclusao de Curso, cronograma, avaliacao, banca avaliadora, Colegiado do Curso' possiveis_perguntas='Qual e o cronograma do TCC, como e feita a avaliacao do TCC, quem compoe a banca avaliadora, qual e o papel do Colegiado do Curso no TCC'\n",
            "topico='Trabalho de Conclusao de Curso (TCC) II' palavras_chave='TCC II, entrega final, biblioteca da UFFS, banca avaliadora, Folha de Aprovação' possiveis_perguntas='O que é o TCC II?, Qual é o prazo para entrega da versão final do TCC II?, O que deve ser incorporado na versão final do TCC II?, Quem deve verificar se o documento incorpora as sugestões e correções apontadas pela banca avaliadora?'\n",
            "topico='Regulamento de Trabalho de Conclusão de Curso' palavras_chave='trabalho de conclusão de curso, regulamento, colegiado de curso, publicação' possiveis_perguntas='O que acontece com os casos omissos no Regulamento de Trabalho de Conclusão de Curso?, Quem decide os casos omissos no Regulamento de Trabalho de Conclusão de Curso?, Quando o Regulamento de Trabalho de Conclusão de Curso entra em vigor?'\n",
            "topico='Projeto Pedagógico do Curso' palavras_chave='Projeto Pedagógico, Curso de Graduação, Ciência da Computação, Bacharelado' possiveis_perguntas='Qual é o nome do curso, Qual é o grau do curso, Qual é o nome do projeto pedagógico?'\n",
            "topico='Trabalho de Conclusão de Curso (TCC) do curso de graduação em Ciência da Computação' palavras_chave='Trabalho de Conclusão de Curso, TCC, Ciência da Computação, Regulamento, UFFS' possiveis_perguntas='O que é o Trabalho de Conclusão de Curso (TCC) do curso de graduação em Ciência da Computação?, Qual é o objetivo do Trabalho de Conclusão de Curso (TCC) do curso de graduação em Ciência da Computação?, Quais são as regras para o Trabalho de Conclusão de Curso (TCC) do curso de graduação em Ciência da Computação?'\n",
            "topico='Trabalho de Conclusão de Curso (TCC)' palavras_chave='TCC, Trabalho de Conclusão de Curso, atividade acadêmica, sistematização do conhecimento' possiveis_perguntas='O que é o TCC?, Qual é o objetivo do TCC?, Como o TCC se relaciona com o processo de ensino-aprendizagem?'\n",
            "topico='Regras para Trabalho de Conclusão de Curso (TCC) em Ciência da Computação' palavras_chave='TCC, Trabalho de Conclusão de Curso, produção individual, orientação, professor, domínio específico, curso de Ciência da Computação' possiveis_perguntas='O que é o TCC em Ciência da Computação?, Quem pode orientar o TCC em Ciência da Computação?, Qual é o requisito para a integralização do currículo e obtenção do grau de Bacharel em Ciência da Computação?'\n",
            "topico='Objetivos da Atividade de Conclusão de Curso' palavras_chave='Trabalho de Conclusão de Curso, objetivos, CAPÍTULO II' possiveis_perguntas='Quais são os objetivos do Trabalho de Conclusão de Curso, O que é o Trabalho de Conclusão de Curso?'\n",
            "topico='Projeto Pedagógico do Curso de Graduação em Ciência da Computação – Bacharelado' palavras_chave='experiências teórico-práticas, formação profissional, capacidade científica, autonomia do estudante, ensino e realimentação de conteúdos' possiveis_perguntas='Quais são os objetivos do Projeto Pedagógico do Curso de Graduação em Ciência da Computação?, Qual é o papel da experiência teórico-prática no curso?, Como o curso fomenta o desenvolvimento da capacidade científica?'\n",
            "topico='Trabalho de Conclusão de Curso' palavras_chave='Trabalho de Conclusão de Curso, TCC, créditos, horas' possiveis_perguntas='Qual é o período do Trabalho de Conclusão de Curso?, Quantos créditos o Trabalho de Conclusão de Curso vale?'\n",
            "topico='Grade Curricular' palavras_chave='Trabalho de Conclusão de Curso, créditos, horas, TCC I, TCC II' possiveis_perguntas='Quantos créditos são necessários para o Trabalho de Conclusão de Curso I?, Quantas horas são necessárias para o Trabalho de Conclusão de Curso II?, Qual é a carga horária do Trabalho de Conclusão de Curso?'\n",
            "topico='Etapas do Trabalho de Conclusão de Curso (TCC)' palavras_chave='TCC, Trabalho de Conclusão de Curso, etapas' possiveis_perguntas='Quais são as etapas do TCC?'\n",
            "topico='ementa de TCC' palavras_chave='TCC I, TCC II, monografia, artigo científico, defesa' possiveis_perguntas='O que é o TCC I, O que é o TCC II, Qual é o objetivo do TCC, Como é a defesa do TCC'\n",
            "topico='Regulamento de Monografia do TCC' palavras_chave='monografia, relatório, TCC, UFFS, normas metodológicas' possiveis_perguntas='O que é uma monografia no contexto do TCC, Quais as normas metodológicas para a monografia do TCC, Qual a finalidade da monografia no TCC'\n",
            "topico='Orientação do Trabalho de Conclusão de Curso (TCC)' palavras_chave='TCC, orientação, professor-orientador, coorientador' possiveis_perguntas='Quem acompanha o processo de construção do TCC?, Quem é o responsável pela orientação do TCC?, Quem pode participar do processo de construção do TCC?'\n",
            "topico='Regras de atribuição de créditos ao orientador' palavras_chave='créditos, orientador, carga horária semestral' possiveis_perguntas='Como são atribuídos créditos ao orientador, Qual é a carga horária semestral do orientador, Quais são as normas vigentes para atribuição de créditos ao orientador'\n",
            "topico='Orientação e coorientação de trabalhos' palavras_chave='coorientador, professor-orientador, instituição, área' possiveis_perguntas='Quem pode ser coorientador, quais são os requisitos para ser coorientador, quem define o coorientador'\n",
            "topico='Regras de Trabalho de Conclusão de Curso (TCC)' palavras_chave='TCC, tema, professor-orientador, coorientador, cronograma' possiveis_perguntas='Quais são as regras para escolha do tema do TCC, Quem deve assinar o formulário de definição do tema do TCC, Qual é o prazo para entrega do formulário de definição do tema do TCC'\n",
            "topico='Orientações sobre o Trabalho de Conclusão de Curso (TCC)' palavras_chave='TCC, monografia, artigo, projeto, componentes do projeto' possiveis_perguntas='Quais são os componentes do projeto de TCC?, O que deve ser incluído no projeto de monografia ou artigo?'\n",
            "topico='Trabalho de Conclusão de Curso (TCC)' palavras_chave='TCC, monografia, artigo, banca avaliadora, cronograma' possiveis_perguntas='Qual é o procedimento para defesa do projeto de monografia ou artigo?, Quem é responsável por avaliar o projeto de monografia ou artigo?, Qual é o prazo para defesa do projeto de monografia ou artigo?'\n",
            "topico='Regras para defesa de monografia' palavras_chave='defesa de monografia, entrega de projeto, cronograma, banca' possiveis_perguntas='Quais são as etapas para a defesa de monografia?, Qual é o prazo para entrega do projeto de monografia?, Quem compõe a banca de defesa de monografia?'\n",
            "topico='Trabalho de Conclusão de Curso (TCC)' palavras_chave='monografia, TCC I, TCC II, implementação, projeto' possiveis_perguntas='Qual é o período para a construção da versão final da monografia?, Em qual componente curricular a monografia é construída?, Qual é o componente curricular responsável pela implementação do projeto de monografia?'\n",
            "topico='Normas de defesa de monografia' palavras_chave='monografia, banca avaliadora, defesa, cronograma' possiveis_perguntas='Quais são os requisitos para a defesa de monografia?, Qual é o prazo para entregar a monografia para a banca avaliadora?, Quem compõe a banca avaliadora?'\n",
            "topico='regras para apresentação do TCC II' palavras_chave='TCC II, artigo científico, periódico, conferência' possiveis_perguntas='Quais são os requisitos para apresentação do TCC II?, O que é considerado um artigo científico válido para TCC II?, Quais são as regras para publicação do artigo científico?'\n",
            "topico='Regras de TCC II' palavras_chave='TCC II, banca avaliadora, cronograma' possiveis_perguntas='Quais são as regras para a defesa do TCC II, Quem compõe a banca avaliadora do TCC II, Qual é o cronograma do TCC II?'\n",
            "topico='Regras de publicação de artigos científicos' palavras_chave='artigo científico, autor principal, co-autoria, UFFS' possiveis_perguntas='Quem deve ser o autor principal de um artigo científico?, Quais são as regras de co-autoria para artigos científicos?'\n",
            "topico='Orientação acadêmica' palavras_chave='professor-orientador, componente curricular, TCC, avaliação' possiveis_perguntas='Quem é o responsável pela orientação acadêmica do aluno?, Qual é o papel do professor-orientador?, Como é feita a avaliação do TCC?'\n",
            "topico='Atribuições do professor responsável pelo componente curricular TCC' palavras_chave='TCC, componentes curriculares, atribuições do professor' possiveis_perguntas='Quais são as atribuições do professor responsável pelo TCC, Quais são as responsabilidades do professor no componente curricular TCC?'\n",
            "topico='Trabalho de Conclusão de Curso (TCC)' palavras_chave='TCC, cronograma semestral, trâmites burocráticos, metodologia, entrega de materiais' possiveis_perguntas='O que é o TCC, Qual é o cronograma semestral do componente curricular, Quais são os trâmites burocráticos relacionados ao TCC, Quais são as normas de metodologia para a confecção da monografia, Quais são as datas de entrega dos materiais'\n",
            "topico='Orientação academica' palavras_chave='orientação, motivação, acompanhamento, atividades acadêmicas' possiveis_perguntas='Quais são as responsabilidades do orientador acadêmico?, Como o orientador pode motivar o orientando?'\n",
            "topico='Funções do Orientador' palavras_chave='orientador, plágio, bancas avaliadoras' possiveis_perguntas='Quais são as funções do orientador?, Quais são as responsabilidades do orientador em relação ao plágio?, Qual é o papel do orientador nas bancas avaliadoras?'\n",
            "topico='Regras para o Trabalho de Conclusão de Curso (TCC)' palavras_chave='TCC, cronograma, orientação, metodologia, entrega, defesa' possiveis_perguntas='Quais são as responsabilidades do aluno no TCC?, Quais são as etapas do TCC?, Como deve ser elaborado o trabalho de TCC?, Quais são as datas importantes para o TCC?'\n",
            "topico='banca avaliadora do TCC' palavras_chave='TCC I, TCC II, banca avaliadora, orientador, membros' possiveis_perguntas='Quem preside a banca avaliadora do TCC?, Quantos membros compõem a banca avaliadora do TCC?, Como é formada a banca para o TCC?'\n",
            "topico='Regulamento de TCC II' palavras_chave='TCC II, modificacao, banca, justificativa, aprovacao' possiveis_perguntas='Quais sao as regras para modificacao da banca do TCC II, Como justificar uma modificacao na banca do TCC II, Quem aprova as modificacoes na banca do TCC II'\n",
            "topico='regras de avaliação' palavras_chave='membros avaliadores, domínio específico, avaliação' possiveis_perguntas='Quem são os membros avaliadores?, Qual é o critério para a escolha dos membros avaliadores?, Quais são as responsabilidades dos membros avaliadores?'\n",
            "topico='recomendação de menção honrosa' palavras_chave='TCC II, banca, menção honrosa, desempenho excepcional, homologação' possiveis_perguntas='Quem é responsável por avaliar e recomendar menção honrosa?, O que é necessário para obter menção honrosa?, Quem homologa a menção honrosa?'\n",
            "topico='Avaliação do Trabalho de Conclusão de Curso' palavras_chave='Avaliação, Trabalho de Conclusão de Curso, Graduação, UFFS' possiveis_perguntas='O que é a Avaliação do Trabalho de Conclusão de Curso?, Qual é o objetivo da Avaliação do Trabalho de Conclusão de Curso?, Como é realizada a Avaliação do Trabalho de Conclusão de Curso?'\n",
            "topico='Regulamento de Avaliação' palavras_chave='Avaliação do estudante, banca avaliadora' possiveis_perguntas='Quem realiza a avaliação do estudante, Como é realizada a avaliação do estudante?'\n",
            "topico='Avaliação do Trabalho de Conclusão de Curso (TCC)' palavras_chave='TCC, Avaliação, Comissão, Coordenador, Colegiado de Curso' possiveis_perguntas='Quais são os critérios de avaliação do TCC?, Quem propõe os critérios de avaliação do TCC?, Quem homologa os critérios de avaliação do TCC?'\n",
            "topico='Trabalho de Conclusão de Curso (TCC)' palavras_chave='TCC, avaliação, planos de ensino' possiveis_perguntas='Como são avaliados os trabalhos de conclusão de curso?, Quais são os critérios de avaliação para o TCC?'\n",
            "topico='Regras para entrega da monografia' palavras_chave='monografia, entrega, TCC II, cronograma, biblioteca da UFFS' possiveis_perguntas='Quais são os prazos para entrega da monografia após a aprovação do TCC II?, Qual é o formato exigido pela biblioteca da UFFS para a entrega da monografia?'\n",
            "topico='Regras para entrega de monografia' palavras_chave='monografia, entrega, orientador, banca avaliadora' possiveis_perguntas='Quais são os passos para a entrega da monografia?, Quem deve verificar a monografia antes da entrega?, Quais são as responsabilidades do orientador na entrega da monografia?'\n",
            "topico='regras de aprovacao no TCC II' palavras_chave='TCC II, aprovacao, entrega da monografia ou artigo, biblioteca da UFFS, Mem. 014/2014-PROGRAD' possiveis_perguntas='Quais sao as condicoes para aprovacao no TCC II, Qual e o padrao para entrega da monografia ou artigo no TCC II, Qual e a norma para publicacao de artigos cientificos no TCC II'\n",
            "topico='Disposições Gerais e Transitorias' palavras_chave='Disposições Gerais, Disposições Transitorias, Casos Omissos, Colegiado de Curso' possiveis_perguntas='Quem decide os casos omissos no PPC?, O que acontece com os casos não previstos no PPC?, Quem é responsável por decidir sobre os casos não previstos?'\n",
            "topico='Regulamento do Trabalho de Conclusão de Curso' palavras_chave='Trabalho de Conclusão de Curso, Regulamento, Ciência da Computação, CGRAD, PPC' possiveis_perguntas='O que é o Regulamento de Trabalho de Conclusão de Curso?, Quando o Regulamento de Trabalho de Conclusão de Curso entra em vigor?, Qual é o propósito do Regulamento de Trabalho de Conclusão de Curso?'\n",
            "topico='Regulamento de aproveitamento por equivalência de componente curricular' palavras_chave='aproveitamento, equivalência, componente curricular, matriz 2010, matriz 2018' possiveis_perguntas='O que é o regulamento de aproveitamento por equivalência de componente curricular?, Como funciona o aproveitamento por equivalência de componente curricular?, Quais são os requisitos para o aproveitamento por equivalência de componente curricular?'\n",
            "topico='equivalência de componentes curriculares' palavras_chave='componentes curriculares, matriz curricular, equivalência, PPC2018, PPC2010' possiveis_perguntas='Quais componentes curriculares são equivalentes entre o PPC2018 e o PPC2010?, Qual é a tabela de equivalência dos componentes curriculares?'\n",
            "topico='Grade curricular' palavras_chave='Componentes curriculares, créditos, Ciência da Computação' possiveis_perguntas='Quais são os componentes curriculares do curso de Ciência da Computação?, Quantos créditos cada componente tem?, Qual é a grade curricular do curso de Ciência da Computação?'\n",
            "topico='Grade Curricular de Ciência da Computação' palavras_chave='Grade Curricular, Ciência da Computação, Disciplinas' possiveis_perguntas='Quais são as disciplinas da grade curricular de Ciência da Computação?, Quais são as disciplinas obrigatórias da grade curricular de Ciência da Computação?'\n",
            "topico='Regulamento' palavras_chave='CCR, PPC2018, PPC2010, bilateralidade, equivalência' possiveis_perguntas='O que é bilateralidade no PPC? Como funciona a equivalência entre CCRs do PPC2018 e PPC2010?'\n",
            "topico='Regras de validação de disciplinas' palavras_chave='Validação de disciplinas, CCRs, PPC2010, PPC2018' possiveis_perguntas='Quais são as regras de validação de disciplinas entre PPC2010 e PPC2018?, Como funcionam as equivalências entre CCRs de PPC2010 e PPC2018?'\n",
            "topico='Migração de PPC2010 para PPC2018' palavras_chave='migração, PPC2010, PPC2018, CCRs, ACCs' possiveis_perguntas='Como funciona a migração de PPC2010 para PPC2018?, Quais CCRs podem ser aproveitados como ACCs?'\n",
            "topico='registrar componentes curriculares equivalentes no histórico escolar' palavras_chave='componentes curriculares, registro, histórico escolar, Ciência da Computação, CVE' possiveis_perguntas='Como são registrados os componentes curriculares equivalentes no histórico escolar, Qual é a sigla utilizada para registrar os componentes curriculares equivalentes, Em que situação os componentes curriculares equivalentes são registrados no histórico escolar'\n",
            "topico='Instrução de validação de disciplinas' palavras_chave='validação de disciplinas, média ponderada, créditos' possiveis_perguntas='Como é calculada a média ponderada por crédito, Qual é o procedimento para validar disciplinas, Como é registrada a nota em casos de validação de disciplinas?'\n",
            "topico='Regulamento' palavras_chave='vigência, publicação, Decreto, resolução' possiveis_perguntas='Quando esta resolução entra em vigor?, Qual é a data de publicação da resolução?'\n"
          ]
        }
      ]
    },
    {
      "cell_type": "code",
      "source": [
        "class EmbeddingModelSpecs:\n",
        "  def __init__(self):\n",
        "    self.name      = 'sentence-transformers/distiluse-base-multilingual-cased-v1'\n",
        "    self.dimension = 512\n",
        "\n",
        "embeddings_model = EmbeddingModelSpecs()\n"
      ],
      "metadata": {
        "id": "YP_bzz16mhAb"
      },
      "execution_count": 15,
      "outputs": []
    },
    {
      "cell_type": "code",
      "source": [
        "from langchain_huggingface import HuggingFaceEmbeddings\n",
        "\n",
        "embeddings = HuggingFaceEmbeddings(model_name=embeddings_model.name)"
      ],
      "metadata": {
        "colab": {
          "base_uri": "https://localhost:8080/"
        },
        "id": "xgEtRCmHnyDZ",
        "outputId": "3310da8d-efca-44de-f00f-0d53b47a5f95"
      },
      "execution_count": 16,
      "outputs": [
        {
          "output_type": "stream",
          "name": "stderr",
          "text": [
            "/usr/local/lib/python3.10/dist-packages/sentence_transformers/cross_encoder/CrossEncoder.py:11: TqdmExperimentalWarning: Using `tqdm.autonotebook.tqdm` in notebook mode. Use `tqdm.tqdm` instead to force console mode (e.g. in jupyter console)\n",
            "  from tqdm.autonotebook import tqdm, trange\n",
            "/usr/local/lib/python3.10/dist-packages/transformers/tokenization_utils_base.py:1601: FutureWarning: `clean_up_tokenization_spaces` was not set. It will be set to `True` by default. This behavior will be depracted in transformers v4.45, and will be then set to `False` by default. For more details check this issue: https://github.com/huggingface/transformers/issues/31884\n",
            "  warnings.warn(\n"
          ]
        }
      ]
    },
    {
      "cell_type": "code",
      "source": [
        "import getpass\n",
        "import os\n",
        "import time\n",
        "\n",
        "from pinecone import Pinecone, ServerlessSpec\n",
        "pc = Pinecone(api_key=settings.PINECONE_API_KEY)"
      ],
      "metadata": {
        "id": "YvgEsATl4mQg"
      },
      "execution_count": 17,
      "outputs": []
    },
    {
      "cell_type": "code",
      "source": [
        "import time\n",
        "\n",
        "index_name = \"index-ppc-markdown-ids-metadata\"\n",
        "existing_indexes = [index_info[\"name\"] for index_info in pc.list_indexes()]\n",
        "\n",
        "if index_name not in existing_indexes:\n",
        "    pc.create_index(\n",
        "        name=index_name,\n",
        "        dimension=embeddings_model.dimension,\n",
        "        metric=\"cosine\",\n",
        "        spec=ServerlessSpec(cloud=\"aws\", region=\"us-east-1\"),\n",
        "    )\n",
        "    while not pc.describe_index(index_name).status[\"ready\"]:\n",
        "        time.sleep(1)\n",
        "\n",
        "index = pc.Index(index_name)"
      ],
      "metadata": {
        "id": "N75kIOJ64ohc"
      },
      "execution_count": 18,
      "outputs": []
    },
    {
      "cell_type": "code",
      "source": [
        "from langchain_pinecone import PineconeVectorStore\n",
        "\n",
        "vector_store = PineconeVectorStore(index=index, embedding=embeddings)"
      ],
      "metadata": {
        "id": "-BeJNiFZ6VK7"
      },
      "execution_count": 19,
      "outputs": []
    },
    {
      "cell_type": "code",
      "source": [
        "def add_documents_to_vector_store(vector_store, documents, uuids):\n",
        "    \"\"\"Add documents with unique IDs to the vector store.\"\"\"\n",
        "    print(vector_store.add_documents(documents=documents, ids=uuids))"
      ],
      "metadata": {
        "id": "xr6s5wEA41Pg"
      },
      "execution_count": 20,
      "outputs": []
    },
    {
      "cell_type": "code",
      "source": [
        "add_documents_to_vector_store(vector_store, metadata_documents_2018, ppc_2018_ids)"
      ],
      "metadata": {
        "colab": {
          "base_uri": "https://localhost:8080/"
        },
        "id": "wTiQhFR-46pb",
        "outputId": "7026dfd5-ef71-47ac-91ef-e50af1f0f3d9"
      },
      "execution_count": 21,
      "outputs": [
        {
          "output_type": "stream",
          "name": "stdout",
          "text": [
            "['24392661-44c5-4486-90cc-2889e16f66b2', '406f3db9-f7e8-4871-9e05-1f6dda76f49a', '84f167e5-b2a1-448a-b5c1-c239f0107f3c', 'c51a54cd-a3e5-4219-b1e6-6001b5aa58f4', '20beb2de-1379-4e03-935e-b80fd85140d6', 'da9fa294-7650-4053-b882-01e7b017af37', '71f1617a-9ceb-4d43-a0a0-59a3336e4f42', '38f306f5-6d75-47de-9c9f-f1edb7d39029', '9cd56ff9-bcaf-42c4-baf1-e1d4aa332636', 'a67bc140-9c53-4a6a-8e3c-23454ab2c74d', 'd41be06e-457c-4e30-b200-130400042130', 'cfba8883-eae5-4c6a-91c8-043c023a70c4', 'b1cdc0c7-69b8-4ea2-8d14-c74d6681441f', '5bd6341b-49b0-4dfa-97c7-aee550773c35', '4dc2fcca-ab7c-4dd0-a4bc-7e4369982912', 'ff61dfdc-0c35-4e51-b59b-7a9134c7ea4d', '90526c93-6f75-481b-955a-cc3f15ad8cee', '04a4911b-4a5b-43e2-9ca2-bea3a7cce517', 'ec2d297f-6e4c-48b4-8afa-f969e48779b9', 'ec963cee-015f-4913-a65f-329c7b9b54bf', '113187f1-fb87-4403-ac8b-cfa0cf66d81a', '8c5a61d0-dcba-4a6c-ac60-2a0b740578de', '0065b426-f526-4d3c-b02e-551325135fc8', 'e8c7f5e6-da59-4e21-9c5b-08806c677dba', 'f9518bc2-d724-4259-9008-b09ae3b6d138', '64a5bf3e-bded-4f55-a11e-f439d7a887b3', '2dbdb1af-c6fa-4443-9448-81f68919b19d', 'c59e4202-609b-4ec1-93d9-7a9f6c70e8cd', '7776a042-169a-4658-8e5c-2f6d7fe584fe', 'eb717830-33cc-4edc-be52-14e3aa0ca435', '6d24a441-1c73-4bc1-9289-95b05a35aea1', 'b07d1aac-9aca-42eb-bff7-1dcc21c6cd5f', '1bf96e06-c431-4579-862e-a03a78730888', '6dfb5606-313b-429d-bd68-922fae4cd30d', 'ad529def-4e3f-46b1-9764-44b50994c8eb', '31738632-3974-477f-ae13-ff39a1757034', '74709310-81d1-41d3-9775-281fed6af4b8', 'be5e1cce-e4fa-42f0-9d6c-08de348b8136', '777b6c80-411a-4e09-acc9-88f8703082c8', '30206378-2711-4313-9c78-c91ecb17049f', '8b6dae91-5b43-4b2a-a93b-23e39cbc14bd', '98e4c665-6455-47a4-9f32-234d0d2243b3', 'f5c7c91f-acf7-4528-8e3b-0d93bb4e41f5', 'e1bfb145-5cd4-4229-9fe8-8c7f46593f91', '36318354-ff42-4ba9-80b5-5804a3aa7436', '8cb6c426-58a5-4fca-a0cb-efbc196dbc62', '276f0752-eb6b-483c-b3d0-ad2da2ff97b5', '9e5ff6dd-75f0-475b-881b-044e1fea2ab7', '059c2879-7310-45fd-a106-a382f1b538e8', 'e22ce54b-1f65-42ad-ae94-0b7f64534637', '7cd92fda-c519-4091-9b54-73e96fa98b0f', '5e63c340-a8dd-48ba-a409-9c5807d0001c', 'eda7be85-6403-4f8a-b234-e0819eaa9428', '7aab1db3-22b3-47f5-8966-6d0170d4e3d1', 'd7f6b9d3-1967-4993-be50-3ff3e32f03a9', 'bd0a6212-783c-4e1f-b6a3-34393094a277', 'bec3af52-6827-406d-87c8-af7baa507f8a', '335a8942-308d-4640-90a6-ae03e34b0bb6', '09906ba4-ac77-4a6d-bce1-97a9dd5ed99b', '6176a274-e56f-4714-852a-1d49e3393eca', 'df4a8334-0143-4875-ac91-f23c6e38d506', 'a2f57999-a6bb-4c15-80af-10d6fe869b17', 'ddbfbbd9-13a4-403e-b110-c76ce52f06b6', '23efc49a-d88f-4962-bb10-fd9e000fc40b', '7983d1b2-dace-4497-bcb7-a9045b9fec40', '16a6c25c-95c4-46b4-ac8c-b82a6137f6f7', 'cc6e2707-8944-4e67-b4c9-f5a8769d56ca', '10253360-e4cb-4856-b25b-2faefc6a04b7', '7b6f64c6-a893-4c83-b623-6a70bc2e4f15', '9292f66a-4a66-42a2-9c95-7c11ce0382db', 'ef2fa5b4-44c5-4f35-ac1a-303877187a34', 'd54ff317-67b0-4225-83d6-774ec4c22d88', '1e9154a8-d754-4a49-9784-2ca80f0e6d6b', '84100b80-8f89-4de9-85e1-1ce642fe5b2c', '277b3494-ddbc-4910-9449-1b4b836d67c2', '467f5bdd-a166-4c2f-98fb-1603bda66588', 'e6db0c32-d3ce-4bf3-b105-0bc3412130bc', '21887439-b52b-4aa3-8ca3-c7d7bdd8a0df', 'f164dbb9-ce23-4977-be0a-b91ae9728272', '06d69fc3-a1d3-499a-90c0-17ba43b6cdbe', '75d3d1ba-1d89-4586-961b-cd7c40c4b5ef', '18be5c64-5cd4-46c8-8b6f-48d741cdaa13', 'c7253691-ac49-4cc8-9b87-c597727ac082', '6be0fd56-620c-4838-a6e7-71d8fd392524', '62d205f0-8a81-43b2-bf9d-6b1f7746bb9f', 'ae0817ad-0088-434c-aa29-0f971e55db80', '4fb99a98-1997-4ab5-bd29-2ad56b0ce4c9', '24efa6b1-98d6-4633-b9e0-a5fc1a9b875d', '379289c8-8b30-49ce-bc53-62a450d8fd58', '3d9aa570-d745-4cb4-9a9e-efe180d1e18f', '5077de4f-d6c5-45bd-ab85-29628f826b36', '17f6dea5-08cf-4bf8-a9be-ecf5671dae51', '0f077a29-2894-4591-a442-3b3bb1c96c51', '00c08faf-5bbe-49fa-9b44-c9d311b53e49', '7f85bf65-9256-499e-9ec7-155e6d02f518', '8d9ed482-36c9-474d-830a-7c8807944a7b', '6aedcb2e-ee09-4492-a6e6-f9e061c5ce1c', '349efe57-ad11-4741-b41d-ddd0238aa83c', 'd0412d60-a390-48af-a6b0-8f4f7ad64e53', 'de2a30c9-4b07-43e0-8100-44856cc84748', '87c66eec-629b-4775-9753-8fcb3c590880', 'bbda8595-7fe2-42b5-a7a3-10d9f4e50e4f', 'c607b2c3-e323-4abb-b2e5-23b5e24bb65c', '7a528b0f-f24e-4e07-a159-517a66b3cdb5', '54ae0d49-0640-4dc5-a7e1-0a0d4365a758', '227285a3-a8c0-4d64-b1c9-319ff31e4ac3', 'cbe63301-85bd-4f7c-a667-6c6ecb25534d', 'b4cc1fe8-c55a-402d-a2d0-c7eea78961b6', '56be9d77-f63b-4500-b966-375de862322d', 'bf1c3c46-b658-4b9f-9910-3fbc44d500d5', '08b63c54-ba7a-4725-972c-9a5cbd78c293', '8d87e8ed-e440-43eb-8889-b86928caab03', 'd75e218d-7cd6-4b78-b639-94fe26e3d3e1', '46163eab-f79f-4348-bed4-970a95f6ac94', '19702b02-b99d-44aa-8737-dbcff47612d6', '85a1f8e2-0ece-40d7-a5dc-c9dd1fa864c9', '4221bef7-5b0f-40e1-aed7-68126686cbe9', 'f8406f13-6dcc-4adc-9a6c-f54a7a821c8e', 'f262d882-ef49-446a-b750-abe113589776', '8d11718d-2c42-4422-ac2c-bb9a12c200ed', 'd921b754-db29-469b-be7b-0b4b548d4d5a', '00430a0a-c845-4ae1-b14f-d9851a5712ba', 'a010ab87-54f6-4cf3-8f8e-12b1ba611f2a', '878a9d50-8ed5-461c-ab1f-10dc801209ac', 'de2aced0-6a20-4736-95f2-f06b59869e68', '0482f8b1-5463-4545-bc8d-3a0f92306e97', '1c505565-0109-4e35-8c3d-60768f88a09d', '9a1419fb-a21c-4ce6-a458-ea7f9fc4b91f', 'a394b739-4e3d-45bb-8316-e0b71ae449f4', 'f32f2087-6e8a-406c-93b6-5daa7897ba6e', '90d86d7c-7a09-4a96-8528-1de9ca5af980', 'd3881db8-bc72-4428-9431-40f54ae48457', 'ec26e76c-93e1-4836-8d3d-e4183bb6b8a2', '4522c832-4ce4-4b77-bb71-a91be61afaa6', 'cc43ab0f-d944-44fd-a189-7b6c9760e1c2', '0c4f1f6d-9c21-4346-a4d9-e4abacef4a96', '363db0a5-444d-4ac7-87f0-ce8a407a576d', '7c64e3d2-5e90-44cb-93c6-4165c46bd9ce', '1e7d55d9-2d34-48e6-91e4-790c3f86e7dc', '2cc8b6b0-2123-45cd-a454-c9f4df518dd4', 'edc6d688-de1d-4373-a6b1-d9221d718fec', '29886156-cc75-4d97-9f05-df7e708bbb36', '87dffbac-9bd5-4858-a264-11f4eb9123b8', 'c8d3b2bc-2ebd-472f-b8fe-3464838483ef', 'ea1fba71-e270-4aa0-8b9c-dee9c91e7473', 'a57ddc58-11ca-446d-b7fe-54f63c2c0687', 'af0b3c89-80c9-4d23-9c19-6c8c81842e43', '9e6baa20-9225-48a3-b2e4-810650cd2107', '7a848dff-f883-46a0-ab2c-5da7bfc0aaf3', '61058e30-6819-4be5-ab7b-48f3183a079a', 'db12d389-fb30-4ee0-ae3f-2329c936e0f8', 'b82e54ca-7a5e-43ef-863f-7bbfe7fdb225', '18ca3c95-9570-46d2-bcb7-84ee930b8271', '05116f7d-eca9-4b14-b606-cd9339c6ec8a', 'fa15fd6a-3103-432f-ad42-42fa960a09c0', '52923711-0bf8-4255-b688-50b5f9267203', '1e0f27b4-c67e-4fe3-9a5d-a86e60f9c6b4', 'f7cee066-e635-44a1-ae1a-12198dc87db3', '57b2e732-761b-4ac5-b8e6-5e2377866c6d', 'e087580d-aef9-47d0-88b1-aa3f5c24f699', '04f4a79a-044e-42d5-b4e9-183ecc5bee2a', '63cf94ee-76af-4667-aa27-d675e758a0bd', '833ac477-49fe-4b53-ab7f-30c1b9783a0b', '5059248c-8e0b-46dc-9a98-7257f2240a3e', '7d2c3706-53f9-46fb-bbaa-8af4c00e8cd6', '0f694b1c-771c-44be-a371-74db22e2f825', '6cc6d732-f273-42fa-b0db-cb98d4a30853', 'ae952307-86ff-40d3-8ea6-d327c0681f52', '4bf4842e-07f1-47cc-b747-8173865eea1c', '95c46809-4504-4092-bbfe-6945d1d19e7c', '1b8fd89c-b144-4d44-b942-c3ddf6adb51a', 'd8092a42-f52f-4c4e-bd01-691baa8e125f', 'dcb861b5-78d2-4379-a2fb-c593b800d8c7', 'aa6f5666-bba3-4cc3-a075-dad2fbb992f0', '28737b22-0e18-4f3c-bf02-ac4f5cf5b51f', 'f67b2a57-080d-4492-9fd8-1788db951ce1', 'e9b2df5e-b87c-43ae-bd13-8d0483cb72ee', '2393de0c-8233-4561-b8bd-85ffc2daee2f', '88e52879-cf3a-4309-b070-a930461e5070', '087431af-8687-45f5-bdc6-2837781c909b', '4d02bde0-32ed-4a36-b3fd-cf08c56bc9a6', '1140ae2f-02f3-4cd8-b930-f735e7a38af9', '5dc539db-0072-46d3-9342-69c0669293fe', '242ccaea-c677-4e41-ab4d-0315faf5ef09', '86f5fcec-e301-4227-8576-de0cc6d5deea', 'd162107f-bea8-4a3d-a729-ada7389c7476', '6e6a975e-794e-41f7-9739-447aff5cd4f2', '6c7899f1-6fa2-4fb4-a060-c7bcec095d98', 'b14bab04-9927-433b-80dc-c2d2a9169dec', '43637e75-ee69-4f0e-bbed-03f9e6c79d78', '9cd5e72a-88df-43bf-9423-35a6494e2442', '82e8ce1c-8170-4397-af99-ea17d78e42f8', 'b554a386-1290-4092-8678-f23e7ad124c6', 'c4ea1f56-3ce2-4218-b10a-ee0812b1d62f', '3864bebe-4e1e-48a0-8f1e-108bc9f1f72d', '3761578a-981b-4ffa-8c32-b26fc563403b', 'e29e9427-45cd-4e7f-a4ca-c10834b8d0c6', '77e27c23-4196-40d3-9aa9-f4f844a72069', 'b11cffc0-d1a7-4dfb-aad5-7ced11d70c79', 'f0083961-323c-4cab-a60a-2f9b9aa9f53a', 'bb7472d2-c99b-499c-8717-337b7e542c48', '1b092d13-5166-4798-bee4-5158e2b2f0de', '0704bcc9-93f1-450e-8857-e22f0a6014ea', '974ae014-cd37-492e-b3f4-80530130330e', 'c3f5c2b0-dc31-4ba3-8b2b-00c667dc2c7f', 'a71630a9-7f40-4c98-a187-6e745708611b', '1f13e115-2dc6-40b9-a37d-0a794a23325f', '623320a3-b74c-4d49-8775-6c070ac78852', 'c5a9b089-167a-41c7-8cbf-a9bf1937cad9', '3106fcc0-ba0b-42e1-b213-94cf26be207d', 'ba5d39ad-feea-439c-8a21-c5d31b51a6b8', 'd23776d7-759f-40db-8caa-180229c090db', 'd7e75c01-664f-413f-9067-cb4797782b5e', 'e4dc2526-6030-4139-9372-d1c3c1c163a5', '97726690-8b7d-4044-ac8a-5cba482b0431', '16c10f4b-5e37-4fee-af29-392d625b3108', '2a458b99-07f4-4093-9bd3-6aedaca87ee0', '94694c9c-966c-4b93-aba8-b406e6db8c7e', '521d8039-cf0b-4b99-b9ec-6bfe30512c87', '9bc2cd0e-ad07-4b08-a0b6-b7de8396fb20', 'c447bdc2-7f87-40da-a39c-dfd0d6cbbfbe', '39cf6deb-b2b0-4168-8a4d-fb9bdb9865c5', '750fe297-c770-42cc-a092-e9bb510dc7de', '49c38d8a-fcb8-402c-b4d8-dd2c177eaa53', '0838f637-5803-4656-a2bd-397583b863b5', '425e4244-3db1-4d36-881c-f59ed4fadb3f', '61507ec9-8278-4d43-aecd-c8f40a46b5de', '3c6e7b55-2212-4438-bd15-a28d562f0b88', 'eaff8b36-6fc4-49e1-a6be-9e7f423b31e4', '8d5ed5a8-3687-40dc-87a1-9d305b8a68ef', '30bdcda2-3112-4f3a-918c-f5bca05cd365', '388ff24e-d37d-4267-bdc4-70c9d8b4adad', 'ab11a36a-ce3a-460c-abbc-5dc3429267e4', '99074344-3213-47bc-aeda-c660a79e0659', '1b3746f0-c546-42ea-920f-7604cd6853ce', 'b6040a27-25ff-4377-96b8-06e4e733c31c', 'e589d0f7-06c9-4774-9142-5e501b0336be', 'e1966b6b-ff42-4c09-b628-5fabe28a345a', '1f4dd3ab-82c1-4687-a039-45fd45a5b9cc', 'ff62131b-6f1a-4f19-84e8-3b98157859f6', '546833dd-d033-4c65-8a46-37ed13a21bb0', '3fce81ec-f682-44d7-9c68-47a24b9486b1', 'f08cdbaf-c5fb-400a-af15-9043435e8282', 'a1f971fc-626f-44c7-a5d4-e4d5d9cf5cb9', '4e68be3d-ced9-48f3-a155-acde94547411', '0e9585c6-3ff4-48de-aa6f-ee41ded4aab1', '8f43ed39-bee7-47e9-b7f7-c2ca941e3e39', 'fa45c04b-4abd-4177-a041-e2b49d0329cb', '6319b6b3-8fe1-49be-b43c-b0410a3b9bd6', '83932504-c021-4a81-8371-23bd74764b78', '5d6cebea-1dc7-4bab-a80f-7ff418e87402', '156a78fc-0ecb-4d63-a889-6701cf2d821b', 'a936afc2-9a6e-43be-b84a-dfb45f118cb8', 'b5ef7d20-2d73-4805-a25c-c672ad3adda2', '71538248-dabe-4456-b074-850539c8310f', 'abb870dd-3284-494d-97ed-0499f8b86fb1', '00058bb5-5cf1-405a-a69d-6ff31bafa16b', '11bc7a91-df6f-4646-9145-14ebc480f514', '39a10f03-26e7-41c5-865c-5f7b9f7272fd', '3b52a727-35d4-47d0-a530-de8b9889053a', '71eed30d-e42b-4677-a97a-1542fc97ebe0', '0db9796e-bab0-404b-9eea-5ceda037707e', '4981e80e-d877-46ea-9932-1280fee2185b', 'c6674f83-d038-481b-9f54-c3c9562a5bfb', '2c538f46-c30a-48cd-8359-384696e9ffa7', 'fbb91225-f691-421e-910e-9a7f1365a476', 'd8eed0a5-6c4f-482f-9477-ed4cba29255d', '83b9bf9a-a8ba-4c38-89f8-02d2db78ce77', 'bae15fee-9bc2-4e13-84e3-26babe4deb1f', 'aa7ba57a-3647-4932-bd92-0c854c897e9f', '5a044ae8-06c3-4f93-a499-6b1c2d6d856c', 'b3981cac-06d9-4d21-9acb-2a7be5658c60', 'de824f3c-8ced-4c3b-bba2-d9015f741f2b', '88153055-b1c7-4e4d-b581-c7fb7f357bab', 'cc7f1b56-cfbf-4dfd-a433-08c803a90983', 'fd9c9ed7-628a-4c5a-b499-e7322ea2b772', '64c9fca2-e747-4e8a-b719-3cf0b7f2a7ba', '5ac4b166-93c7-498c-93cd-68fde35c8192', '7b7afb3b-5924-4de2-8a14-0fefb81c565b', 'dcd507e0-bc73-4e64-b0eb-17f710088cc0', '979bf77b-6ec5-47d9-870c-162de2cea91b', '2b396dd3-6e29-4e95-8a8d-7b5b04f33acb', '27d69e52-3d19-44f3-90e0-df12929c7284', '2da81d3c-f28b-43bd-b36a-380ae4762c67', 'cb34fde7-5302-4a74-b46e-3a542230be69', '390886db-e91e-4428-ae1a-480d0316435f', '62d1547b-5e2b-4078-9032-b7f3727f9431', '59b9dc07-185b-4dbf-98bc-0920ca38d605', 'c7e3a7af-e587-4693-b623-01d41ac1ffb0', '24db503c-8c1a-43ad-a237-0b43aa359e0f', 'ecd6a0c5-c9f6-4d34-a5f3-92975c0e54cd', 'b3edb1ef-6d18-44cc-8e06-c1f935b10fda', '06a5bc48-b52c-4754-bfc5-177e983831b3', '5674186f-5411-480a-92f8-89d6db17c6e9', '3b8c35f9-1daa-4674-9a6f-c320fe7a6984', 'f29f0741-702a-4b6c-b7a3-ac038d92c796', '4aa47c58-aea9-4c9e-aa72-9043ef90bebf', '5e9d62f0-6b96-46d0-88bd-59ec0302b0b5', 'e9dff97b-1c44-4238-8414-0afd7d32dd3f', 'a8b5179d-21a1-47c4-8fd0-d3f46f1cdca6', '238c4e37-a887-4054-abd0-52096f3fe22b', '73c30170-a406-4bac-8eb4-9ea1fd94926e', '4127d2be-a490-41fd-a177-8f4e08d1643b', 'e17a46db-1abb-4b2f-9ec0-998ab3a820b5', '7c79f9eb-cd41-4de1-8469-fe977a98b7fd', '6abe5b84-4831-47a3-85ed-cc0aae9d1830', 'af22bd13-5f38-46c7-bdfd-929bef902e6f', 'ff640033-9f4c-4179-8836-bffceba1d2c3', 'bf00cfc7-ecbe-405c-bc48-54dd143c526d', 'aff2380c-577f-491d-b506-02f92027f038', '870f80f0-2001-4955-ae2e-c7532604b0c1', 'd665b344-8f3b-4ca4-aeca-abfde7c0eec1', 'f1996423-00c4-4061-8fce-7a867ffbec72', '0cc007bf-1cb1-460d-a2b2-8ea1c9a8c014', 'af92ae44-bb3a-4647-8d2d-927b4eacdb57', '15ad67d3-e12b-40c1-9541-d5ea9e833ca7', '047171f1-8ee8-4d6b-979d-ae77af3acd71', 'ae7276ec-0709-4225-86b1-e5ebdcb4a671', '76f8562a-c5ac-438d-b3c3-0ec70fd8606c', 'b8d1bad1-0642-4040-813b-cdeaaa8c555e', 'a359bd26-02bd-45fb-bad0-5717216ab126', 'f188f1e0-e8f8-4f2d-b12d-dc3cb5f6c1a5', '3c8ff911-e5f0-4ad3-a9cc-297608f61ebc', 'e1197da6-29a6-4c24-8001-58ccc3234cc3', '8b1cd23a-6ca5-46c5-a167-ae01752ab800', 'dbdff7af-9027-4dd8-9f8c-b230f5b9a4eb', '8151cad1-197c-4b85-90ac-0153f18f8e8e', '436b75e4-e5c0-4e26-917d-6839edad88b7', '8f0411b3-bce2-4cca-a48b-85159b9739ef', '23a1bfb3-e64f-40c6-8053-7f1a03a9a1cb', '2f59cc67-e3f6-49f7-a5a4-39bc5ef5fefb', 'ce39f865-3734-4702-9539-6174b09eee97', 'e412fe3a-16f9-4b63-be98-b86ea07fac60', 'af62b7d7-b5ff-46fc-af3a-27489d7fc2e4', 'f8ede0c6-a204-4d3f-a91e-15d8ef43c1cb', '2c25c225-ab13-435a-adef-7bd30b4c152c', '25a9bdc0-7678-4f14-9471-a57ddef23fb5', '338ee7b9-57ff-4297-8a6e-bff17276e3a1', '89bc8caf-03a7-4417-8939-bf9cdfd96b3c', '91ebaf1b-7568-42c7-8e3e-8c4178ea97ce', '87589969-a183-4f15-98cc-b1a4ced3d0a9', '6e0be093-f5ad-4da4-a932-4f2978419e42', '6fdf56f9-a933-4771-9c50-3d07d196a237', 'a3cee5fb-87c8-4a5f-9247-2763e8b509d0', '2ada5be0-f193-411f-a0ab-bf2b60812fdb', 'e2dd4601-3ceb-46a2-aace-dc158d17d939', '2883f907-d4de-4d60-948c-b621b65cc305', '02e58526-3ea2-4cd1-93d3-a1c80da81175', 'dfd7a176-e60d-48c5-83b7-9b6245b186de', '87da00ac-6d91-48bf-8b45-2b511b662f6f', '924937e0-5754-4221-a436-d4fb0ac406b1', 'd508b505-4173-4ca3-8266-c8483c9f3e2e', 'cdc02901-6a9d-4807-b43a-7c3d8aab10ba', 'a78de77c-6c38-47bc-8047-1fce34e413c5', 'af76e3d6-39c6-447c-9d20-bd5e50679416', '3890740c-ca88-4150-b1ee-c0d1c843de8d', '3146844d-5f82-4dff-b24e-60c2c403fa14', '66529854-eb85-4ebf-a1f9-17f8a77bb11a', '5b121e73-dd6a-4c7a-9e56-b0f185c127a4', '42786b04-d615-4537-b983-9e360521d842', '4b835c22-9e9f-4fd1-90e2-39fab488497a', 'eb2b6fa5-ce48-4bae-bc12-9782ca9bf448', 'aa1e0959-d8b1-44da-acac-ac5047ebec45', 'a1c72dcd-6ec4-4633-b158-32ae086919af', 'ebaa0934-8639-4c6e-86e9-e5ee7d41a7f8', '93af75fc-007f-4edc-b43e-5e669768c557', '43abf967-2b0b-4bd1-a6a9-ec10255a2fcc', 'bd8d17f2-cecc-4703-91a4-01a46a7a1578', '9f6ae0df-f4a9-43dc-a594-8a1dedcf44ab', 'ebdba569-c0b6-476b-bc6c-01df7a786fdd', '029a2a79-6db9-41da-b9dd-89399977eddf', '18acbddc-765f-484a-ac3f-fb072781eb4f', '415b19f0-7995-459b-8865-1969f4af14d4', '4fc6d72b-e950-464e-b716-6503d633c659', '79c9761b-7db0-4c06-a631-7e33040e53fa', '7cf8c6aa-2b2b-4da4-8cf1-3b2d72e4a659', '07a32749-2bde-4205-a6d5-562f610e76a7', '7332c193-a95d-4ae2-97dd-58a15668cd59', 'a12c6977-8d03-4411-b007-c628d8495b8c', '67497426-78b8-44a7-8606-f3b2191ad584', '5dd377a6-42aa-4480-b2ee-3c0ca1eaf147', '4d64be3a-5589-4fbe-9b9d-1b01753d0765', '3292cc05-b49d-4810-8d7b-5aceb0a54982', 'a75626a0-ffbe-4449-8ecf-638dec1d64a3', 'c14be57a-f038-4c22-8508-bb5baf8b5876', '8e43c59d-645c-4b4a-81db-78bba9118e22', '164498ec-1555-4712-a473-780eaf6ba9f6', '35057121-93c9-43ff-875c-c8960230a6c5', 'd2dd7da1-96c0-4dee-a3a0-e0a00a7ecd6f', 'd96d1d5c-7ae1-4b6d-a60c-a3170d1c5931', 'a4862dab-aa76-4018-9574-a754a9099aeb', '465c56ec-3d53-43cb-a6c9-c1e7e031edeb', 'dcd4d0a2-7c8a-43a4-8a23-21f6ea971fb4', 'a1d973f8-6c53-4c32-8c7f-cc319998f631', 'a9fa0134-0170-4960-86d9-4f9f6d511a6b', 'bcaa23ea-98a6-4f50-9e08-157304009408', '12c897a0-b425-4ec5-8bb6-50b9f10882b2', 'f098cd0c-96ae-47ed-96b4-5b3718cfffcd', '9665187e-4eca-4389-bf05-e6fb417f3631', 'f5df4923-3246-4e8d-bc11-bda26075a5f3', '9a199c83-b40c-4034-bbf1-107c442ddab2', 'f89a29a3-c114-4f82-8498-51d094fc0492', '4fe9bcfb-b701-4053-846e-2f2c1d6794d6', 'b0ec7a6f-0298-40a6-8e85-5681c8d50f0e', 'b8c6612a-9c9c-4ea8-bc50-47f1a6ae3aad']\n"
          ]
        }
      ]
    },
    {
      "cell_type": "markdown",
      "source": [],
      "metadata": {
        "id": "zLkNbpux6jJe"
      }
    },
    {
      "cell_type": "code",
      "source": [
        "from langchain.chains.query_constructor.base import AttributeInfo\n",
        "from langchain.retrievers.self_query.base import SelfQueryRetriever\n",
        "\n",
        "# Definindo os campos de metadados disponíveis\n",
        "metadata_field_info = [\n",
        "    AttributeInfo(\n",
        "        name=\"topico\",\n",
        "        description=\"Identifique do que se trata a pergunta: ementa de XXX, grade curricular , regulamento XXX, regras, laboratório, objetivos, infraestrutura, corpo docente, etc. Exemplos: ementa de Grafos, Instrução de validação de disciplinas, etc\",\n",
        "        type=\"string\",\n",
        "    ),\n",
        "    AttributeInfo(\n",
        "        name=\"palavras_chave\",\n",
        "        description=\"Lista de palavras-chave extraídas do chunk que representam os principais conceitos.\",\n",
        "        type=\"string\",\n",
        "    ),\n",
        "    AttributeInfo(\n",
        "        name=\"source\",\n",
        "        description=\"Fonte do documento. Opções são ppc2018 e pcc2024.\",\n",
        "        type=\"string\",\n",
        "    )\n",
        "]\n",
        "\n",
        "# Descrição do conteúdo do documento\n",
        "document_content_description = \"Pedaço de texto do Plano Pedágogico do Curso de cienca da computação\"\n",
        "\n",
        "\n"
      ],
      "metadata": {
        "id": "1C2bwC4RpZoa"
      },
      "execution_count": 55,
      "outputs": []
    },
    {
      "cell_type": "code",
      "source": [
        "from langchain.chains.query_constructor.base import AttributeInfo\n",
        "from langchain.retrievers.self_query.base import SelfQueryRetriever\n",
        "from langchain_groq import ChatGroq\n",
        "\n",
        "llm = ChatGroq(\n",
        "    model=\"llama-3.1-70b-versatile\",\n",
        "    temperature=0,\n",
        "    groq_api_key=settings.GROQ_API_KEY,\n",
        "    max_retries=4\n",
        ")\n",
        "\n",
        "# Definindo o LLM e o retriever\n",
        "retriever = SelfQueryRetriever.from_llm(\n",
        "    llm,\n",
        "    vector_store,\n",
        "    document_content_description,\n",
        "    metadata_field_info,\n",
        "    search_kwargs={'k': 5}\n",
        "\n",
        ")\n"
      ],
      "metadata": {
        "id": "BBcMKL7iqLx2"
      },
      "execution_count": 57,
      "outputs": []
    },
    {
      "cell_type": "code",
      "source": [
        "context = retriever.invoke(\"Ementa de Computação Distribuída source:ppc_2018\")\n",
        "for ctx in context:\n",
        "  print(ctx.metadata.get('topico'))"
      ],
      "metadata": {
        "colab": {
          "base_uri": "https://localhost:8080/"
        },
        "id": "JnUcATO0qboC",
        "outputId": "8ece8f1e-2089-430f-d6d3-d6f467a73172"
      },
      "execution_count": 59,
      "outputs": [
        {
          "output_type": "stream",
          "name": "stdout",
          "text": [
            "Grade curricular\n",
            "Grade curricular\n",
            "Grade Curricular de Ciência da Computação\n",
            "Projeto Pedagógico Institucional (PPI) e organização curricular\n",
            "Objetivos do Curso de Ciência da Computação\n"
          ]
        }
      ]
    },
    {
      "cell_type": "code",
      "source": [
        "# context"
      ],
      "metadata": {
        "id": "nFlR89_nqiyO"
      },
      "execution_count": 61,
      "outputs": []
    },
    {
      "cell_type": "markdown",
      "source": [
        "## Não deu muito certo adicionar no metadata, vou adaptar para outro indice adicionando no content mesmo"
      ],
      "metadata": {
        "id": "0x7scOlTOTsH"
      }
    },
    {
      "cell_type": "code",
      "source": [
        "from langchain_core.documents import Document\n",
        "\n",
        "def adapt_metadata(document: Document) -> Document:\n",
        "    metadata_extra = {key: value for key, value in document.metadata.items() if key not in ['id', 'source']}\n",
        "\n",
        "    metadata_xml = \"<metadata>\\n\"\n",
        "    for key, value in metadata_extra.items():\n",
        "        metadata_xml += f\"{key}: {value},\\n\"\n",
        "    metadata_xml = metadata_xml.rstrip(\",\\n\")\n",
        "    metadata_xml += \"\\n</metadata>\\n\\n\"\n",
        "\n",
        "    new_page_content = metadata_xml + document.page_content\n",
        "    new_metadata = {key: value for key, value in document.metadata.items() if key in ['id', 'source']}\n",
        "\n",
        "    return Document(page_content=new_page_content, metadata=new_metadata)"
      ],
      "metadata": {
        "id": "WS6juvF6Pv46"
      },
      "execution_count": 65,
      "outputs": []
    },
    {
      "cell_type": "code",
      "source": [
        "in_content_metadata_documents_2018 = [adapt_metadata(document) for document in metadata_documents_2018]"
      ],
      "metadata": {
        "id": "2M3u1nNOOTdv"
      },
      "execution_count": 68,
      "outputs": []
    },
    {
      "cell_type": "code",
      "source": [
        "import time\n",
        "\n",
        "index_name = \"index-ppc-markdown-ids-metadata-in-content\"\n",
        "existing_indexes = [index_info[\"name\"] for index_info in pc.list_indexes()]\n",
        "\n",
        "if index_name not in existing_indexes:\n",
        "    pc.create_index(\n",
        "        name=index_name,\n",
        "        dimension=embeddings_model.dimension,\n",
        "        metric=\"cosine\",\n",
        "        spec=ServerlessSpec(cloud=\"aws\", region=\"us-east-1\"),\n",
        "    )\n",
        "    while not pc.describe_index(index_name).status[\"ready\"]:\n",
        "        time.sleep(1)\n",
        "\n",
        "index = pc.Index(index_name)"
      ],
      "metadata": {
        "id": "s8c3Xq-uQWtP"
      },
      "execution_count": 71,
      "outputs": []
    },
    {
      "cell_type": "code",
      "source": [
        "from langchain_pinecone import PineconeVectorStore\n",
        "\n",
        "vector_store = PineconeVectorStore(index=index, embedding=embeddings)"
      ],
      "metadata": {
        "id": "WYVuQE_OQmVZ"
      },
      "execution_count": 72,
      "outputs": []
    },
    {
      "cell_type": "code",
      "source": [
        "add_documents_to_vector_store(vector_store, in_content_metadata_documents_2018, ppc_2018_ids)"
      ],
      "metadata": {
        "colab": {
          "base_uri": "https://localhost:8080/"
        },
        "id": "aioqBmWtQsgf",
        "outputId": "040d8591-c9dd-4023-fe51-be9dfa502e56"
      },
      "execution_count": 74,
      "outputs": [
        {
          "output_type": "stream",
          "name": "stdout",
          "text": [
            "['24392661-44c5-4486-90cc-2889e16f66b2', '406f3db9-f7e8-4871-9e05-1f6dda76f49a', '84f167e5-b2a1-448a-b5c1-c239f0107f3c', 'c51a54cd-a3e5-4219-b1e6-6001b5aa58f4', '20beb2de-1379-4e03-935e-b80fd85140d6', 'da9fa294-7650-4053-b882-01e7b017af37', '71f1617a-9ceb-4d43-a0a0-59a3336e4f42', '38f306f5-6d75-47de-9c9f-f1edb7d39029', '9cd56ff9-bcaf-42c4-baf1-e1d4aa332636', 'a67bc140-9c53-4a6a-8e3c-23454ab2c74d', 'd41be06e-457c-4e30-b200-130400042130', 'cfba8883-eae5-4c6a-91c8-043c023a70c4', 'b1cdc0c7-69b8-4ea2-8d14-c74d6681441f', '5bd6341b-49b0-4dfa-97c7-aee550773c35', '4dc2fcca-ab7c-4dd0-a4bc-7e4369982912', 'ff61dfdc-0c35-4e51-b59b-7a9134c7ea4d', '90526c93-6f75-481b-955a-cc3f15ad8cee', '04a4911b-4a5b-43e2-9ca2-bea3a7cce517', 'ec2d297f-6e4c-48b4-8afa-f969e48779b9', 'ec963cee-015f-4913-a65f-329c7b9b54bf', '113187f1-fb87-4403-ac8b-cfa0cf66d81a', '8c5a61d0-dcba-4a6c-ac60-2a0b740578de', '0065b426-f526-4d3c-b02e-551325135fc8', 'e8c7f5e6-da59-4e21-9c5b-08806c677dba', 'f9518bc2-d724-4259-9008-b09ae3b6d138', '64a5bf3e-bded-4f55-a11e-f439d7a887b3', '2dbdb1af-c6fa-4443-9448-81f68919b19d', 'c59e4202-609b-4ec1-93d9-7a9f6c70e8cd', '7776a042-169a-4658-8e5c-2f6d7fe584fe', 'eb717830-33cc-4edc-be52-14e3aa0ca435', '6d24a441-1c73-4bc1-9289-95b05a35aea1', 'b07d1aac-9aca-42eb-bff7-1dcc21c6cd5f', '1bf96e06-c431-4579-862e-a03a78730888', '6dfb5606-313b-429d-bd68-922fae4cd30d', 'ad529def-4e3f-46b1-9764-44b50994c8eb', '31738632-3974-477f-ae13-ff39a1757034', '74709310-81d1-41d3-9775-281fed6af4b8', 'be5e1cce-e4fa-42f0-9d6c-08de348b8136', '777b6c80-411a-4e09-acc9-88f8703082c8', '30206378-2711-4313-9c78-c91ecb17049f', '8b6dae91-5b43-4b2a-a93b-23e39cbc14bd', '98e4c665-6455-47a4-9f32-234d0d2243b3', 'f5c7c91f-acf7-4528-8e3b-0d93bb4e41f5', 'e1bfb145-5cd4-4229-9fe8-8c7f46593f91', '36318354-ff42-4ba9-80b5-5804a3aa7436', '8cb6c426-58a5-4fca-a0cb-efbc196dbc62', '276f0752-eb6b-483c-b3d0-ad2da2ff97b5', '9e5ff6dd-75f0-475b-881b-044e1fea2ab7', '059c2879-7310-45fd-a106-a382f1b538e8', 'e22ce54b-1f65-42ad-ae94-0b7f64534637', '7cd92fda-c519-4091-9b54-73e96fa98b0f', '5e63c340-a8dd-48ba-a409-9c5807d0001c', 'eda7be85-6403-4f8a-b234-e0819eaa9428', '7aab1db3-22b3-47f5-8966-6d0170d4e3d1', 'd7f6b9d3-1967-4993-be50-3ff3e32f03a9', 'bd0a6212-783c-4e1f-b6a3-34393094a277', 'bec3af52-6827-406d-87c8-af7baa507f8a', '335a8942-308d-4640-90a6-ae03e34b0bb6', '09906ba4-ac77-4a6d-bce1-97a9dd5ed99b', '6176a274-e56f-4714-852a-1d49e3393eca', 'df4a8334-0143-4875-ac91-f23c6e38d506', 'a2f57999-a6bb-4c15-80af-10d6fe869b17', 'ddbfbbd9-13a4-403e-b110-c76ce52f06b6', '23efc49a-d88f-4962-bb10-fd9e000fc40b', '7983d1b2-dace-4497-bcb7-a9045b9fec40', '16a6c25c-95c4-46b4-ac8c-b82a6137f6f7', 'cc6e2707-8944-4e67-b4c9-f5a8769d56ca', '10253360-e4cb-4856-b25b-2faefc6a04b7', '7b6f64c6-a893-4c83-b623-6a70bc2e4f15', '9292f66a-4a66-42a2-9c95-7c11ce0382db', 'ef2fa5b4-44c5-4f35-ac1a-303877187a34', 'd54ff317-67b0-4225-83d6-774ec4c22d88', '1e9154a8-d754-4a49-9784-2ca80f0e6d6b', '84100b80-8f89-4de9-85e1-1ce642fe5b2c', '277b3494-ddbc-4910-9449-1b4b836d67c2', '467f5bdd-a166-4c2f-98fb-1603bda66588', 'e6db0c32-d3ce-4bf3-b105-0bc3412130bc', '21887439-b52b-4aa3-8ca3-c7d7bdd8a0df', 'f164dbb9-ce23-4977-be0a-b91ae9728272', '06d69fc3-a1d3-499a-90c0-17ba43b6cdbe', '75d3d1ba-1d89-4586-961b-cd7c40c4b5ef', '18be5c64-5cd4-46c8-8b6f-48d741cdaa13', 'c7253691-ac49-4cc8-9b87-c597727ac082', '6be0fd56-620c-4838-a6e7-71d8fd392524', '62d205f0-8a81-43b2-bf9d-6b1f7746bb9f', 'ae0817ad-0088-434c-aa29-0f971e55db80', '4fb99a98-1997-4ab5-bd29-2ad56b0ce4c9', '24efa6b1-98d6-4633-b9e0-a5fc1a9b875d', '379289c8-8b30-49ce-bc53-62a450d8fd58', '3d9aa570-d745-4cb4-9a9e-efe180d1e18f', '5077de4f-d6c5-45bd-ab85-29628f826b36', '17f6dea5-08cf-4bf8-a9be-ecf5671dae51', '0f077a29-2894-4591-a442-3b3bb1c96c51', '00c08faf-5bbe-49fa-9b44-c9d311b53e49', '7f85bf65-9256-499e-9ec7-155e6d02f518', '8d9ed482-36c9-474d-830a-7c8807944a7b', '6aedcb2e-ee09-4492-a6e6-f9e061c5ce1c', '349efe57-ad11-4741-b41d-ddd0238aa83c', 'd0412d60-a390-48af-a6b0-8f4f7ad64e53', 'de2a30c9-4b07-43e0-8100-44856cc84748', '87c66eec-629b-4775-9753-8fcb3c590880', 'bbda8595-7fe2-42b5-a7a3-10d9f4e50e4f', 'c607b2c3-e323-4abb-b2e5-23b5e24bb65c', '7a528b0f-f24e-4e07-a159-517a66b3cdb5', '54ae0d49-0640-4dc5-a7e1-0a0d4365a758', '227285a3-a8c0-4d64-b1c9-319ff31e4ac3', 'cbe63301-85bd-4f7c-a667-6c6ecb25534d', 'b4cc1fe8-c55a-402d-a2d0-c7eea78961b6', '56be9d77-f63b-4500-b966-375de862322d', 'bf1c3c46-b658-4b9f-9910-3fbc44d500d5', '08b63c54-ba7a-4725-972c-9a5cbd78c293', '8d87e8ed-e440-43eb-8889-b86928caab03', 'd75e218d-7cd6-4b78-b639-94fe26e3d3e1', '46163eab-f79f-4348-bed4-970a95f6ac94', '19702b02-b99d-44aa-8737-dbcff47612d6', '85a1f8e2-0ece-40d7-a5dc-c9dd1fa864c9', '4221bef7-5b0f-40e1-aed7-68126686cbe9', 'f8406f13-6dcc-4adc-9a6c-f54a7a821c8e', 'f262d882-ef49-446a-b750-abe113589776', '8d11718d-2c42-4422-ac2c-bb9a12c200ed', 'd921b754-db29-469b-be7b-0b4b548d4d5a', '00430a0a-c845-4ae1-b14f-d9851a5712ba', 'a010ab87-54f6-4cf3-8f8e-12b1ba611f2a', '878a9d50-8ed5-461c-ab1f-10dc801209ac', 'de2aced0-6a20-4736-95f2-f06b59869e68', '0482f8b1-5463-4545-bc8d-3a0f92306e97', '1c505565-0109-4e35-8c3d-60768f88a09d', '9a1419fb-a21c-4ce6-a458-ea7f9fc4b91f', 'a394b739-4e3d-45bb-8316-e0b71ae449f4', 'f32f2087-6e8a-406c-93b6-5daa7897ba6e', '90d86d7c-7a09-4a96-8528-1de9ca5af980', 'd3881db8-bc72-4428-9431-40f54ae48457', 'ec26e76c-93e1-4836-8d3d-e4183bb6b8a2', '4522c832-4ce4-4b77-bb71-a91be61afaa6', 'cc43ab0f-d944-44fd-a189-7b6c9760e1c2', '0c4f1f6d-9c21-4346-a4d9-e4abacef4a96', '363db0a5-444d-4ac7-87f0-ce8a407a576d', '7c64e3d2-5e90-44cb-93c6-4165c46bd9ce', '1e7d55d9-2d34-48e6-91e4-790c3f86e7dc', '2cc8b6b0-2123-45cd-a454-c9f4df518dd4', 'edc6d688-de1d-4373-a6b1-d9221d718fec', '29886156-cc75-4d97-9f05-df7e708bbb36', '87dffbac-9bd5-4858-a264-11f4eb9123b8', 'c8d3b2bc-2ebd-472f-b8fe-3464838483ef', 'ea1fba71-e270-4aa0-8b9c-dee9c91e7473', 'a57ddc58-11ca-446d-b7fe-54f63c2c0687', 'af0b3c89-80c9-4d23-9c19-6c8c81842e43', '9e6baa20-9225-48a3-b2e4-810650cd2107', '7a848dff-f883-46a0-ab2c-5da7bfc0aaf3', '61058e30-6819-4be5-ab7b-48f3183a079a', 'db12d389-fb30-4ee0-ae3f-2329c936e0f8', 'b82e54ca-7a5e-43ef-863f-7bbfe7fdb225', '18ca3c95-9570-46d2-bcb7-84ee930b8271', '05116f7d-eca9-4b14-b606-cd9339c6ec8a', 'fa15fd6a-3103-432f-ad42-42fa960a09c0', '52923711-0bf8-4255-b688-50b5f9267203', '1e0f27b4-c67e-4fe3-9a5d-a86e60f9c6b4', 'f7cee066-e635-44a1-ae1a-12198dc87db3', '57b2e732-761b-4ac5-b8e6-5e2377866c6d', 'e087580d-aef9-47d0-88b1-aa3f5c24f699', '04f4a79a-044e-42d5-b4e9-183ecc5bee2a', '63cf94ee-76af-4667-aa27-d675e758a0bd', '833ac477-49fe-4b53-ab7f-30c1b9783a0b', '5059248c-8e0b-46dc-9a98-7257f2240a3e', '7d2c3706-53f9-46fb-bbaa-8af4c00e8cd6', '0f694b1c-771c-44be-a371-74db22e2f825', '6cc6d732-f273-42fa-b0db-cb98d4a30853', 'ae952307-86ff-40d3-8ea6-d327c0681f52', '4bf4842e-07f1-47cc-b747-8173865eea1c', '95c46809-4504-4092-bbfe-6945d1d19e7c', '1b8fd89c-b144-4d44-b942-c3ddf6adb51a', 'd8092a42-f52f-4c4e-bd01-691baa8e125f', 'dcb861b5-78d2-4379-a2fb-c593b800d8c7', 'aa6f5666-bba3-4cc3-a075-dad2fbb992f0', '28737b22-0e18-4f3c-bf02-ac4f5cf5b51f', 'f67b2a57-080d-4492-9fd8-1788db951ce1', 'e9b2df5e-b87c-43ae-bd13-8d0483cb72ee', '2393de0c-8233-4561-b8bd-85ffc2daee2f', '88e52879-cf3a-4309-b070-a930461e5070', '087431af-8687-45f5-bdc6-2837781c909b', '4d02bde0-32ed-4a36-b3fd-cf08c56bc9a6', '1140ae2f-02f3-4cd8-b930-f735e7a38af9', '5dc539db-0072-46d3-9342-69c0669293fe', '242ccaea-c677-4e41-ab4d-0315faf5ef09', '86f5fcec-e301-4227-8576-de0cc6d5deea', 'd162107f-bea8-4a3d-a729-ada7389c7476', '6e6a975e-794e-41f7-9739-447aff5cd4f2', '6c7899f1-6fa2-4fb4-a060-c7bcec095d98', 'b14bab04-9927-433b-80dc-c2d2a9169dec', '43637e75-ee69-4f0e-bbed-03f9e6c79d78', '9cd5e72a-88df-43bf-9423-35a6494e2442', '82e8ce1c-8170-4397-af99-ea17d78e42f8', 'b554a386-1290-4092-8678-f23e7ad124c6', 'c4ea1f56-3ce2-4218-b10a-ee0812b1d62f', '3864bebe-4e1e-48a0-8f1e-108bc9f1f72d', '3761578a-981b-4ffa-8c32-b26fc563403b', 'e29e9427-45cd-4e7f-a4ca-c10834b8d0c6', '77e27c23-4196-40d3-9aa9-f4f844a72069', 'b11cffc0-d1a7-4dfb-aad5-7ced11d70c79', 'f0083961-323c-4cab-a60a-2f9b9aa9f53a', 'bb7472d2-c99b-499c-8717-337b7e542c48', '1b092d13-5166-4798-bee4-5158e2b2f0de', '0704bcc9-93f1-450e-8857-e22f0a6014ea', '974ae014-cd37-492e-b3f4-80530130330e', 'c3f5c2b0-dc31-4ba3-8b2b-00c667dc2c7f', 'a71630a9-7f40-4c98-a187-6e745708611b', '1f13e115-2dc6-40b9-a37d-0a794a23325f', '623320a3-b74c-4d49-8775-6c070ac78852', 'c5a9b089-167a-41c7-8cbf-a9bf1937cad9', '3106fcc0-ba0b-42e1-b213-94cf26be207d', 'ba5d39ad-feea-439c-8a21-c5d31b51a6b8', 'd23776d7-759f-40db-8caa-180229c090db', 'd7e75c01-664f-413f-9067-cb4797782b5e', 'e4dc2526-6030-4139-9372-d1c3c1c163a5', '97726690-8b7d-4044-ac8a-5cba482b0431', '16c10f4b-5e37-4fee-af29-392d625b3108', '2a458b99-07f4-4093-9bd3-6aedaca87ee0', '94694c9c-966c-4b93-aba8-b406e6db8c7e', '521d8039-cf0b-4b99-b9ec-6bfe30512c87', '9bc2cd0e-ad07-4b08-a0b6-b7de8396fb20', 'c447bdc2-7f87-40da-a39c-dfd0d6cbbfbe', '39cf6deb-b2b0-4168-8a4d-fb9bdb9865c5', '750fe297-c770-42cc-a092-e9bb510dc7de', '49c38d8a-fcb8-402c-b4d8-dd2c177eaa53', '0838f637-5803-4656-a2bd-397583b863b5', '425e4244-3db1-4d36-881c-f59ed4fadb3f', '61507ec9-8278-4d43-aecd-c8f40a46b5de', '3c6e7b55-2212-4438-bd15-a28d562f0b88', 'eaff8b36-6fc4-49e1-a6be-9e7f423b31e4', '8d5ed5a8-3687-40dc-87a1-9d305b8a68ef', '30bdcda2-3112-4f3a-918c-f5bca05cd365', '388ff24e-d37d-4267-bdc4-70c9d8b4adad', 'ab11a36a-ce3a-460c-abbc-5dc3429267e4', '99074344-3213-47bc-aeda-c660a79e0659', '1b3746f0-c546-42ea-920f-7604cd6853ce', 'b6040a27-25ff-4377-96b8-06e4e733c31c', 'e589d0f7-06c9-4774-9142-5e501b0336be', 'e1966b6b-ff42-4c09-b628-5fabe28a345a', '1f4dd3ab-82c1-4687-a039-45fd45a5b9cc', 'ff62131b-6f1a-4f19-84e8-3b98157859f6', '546833dd-d033-4c65-8a46-37ed13a21bb0', '3fce81ec-f682-44d7-9c68-47a24b9486b1', 'f08cdbaf-c5fb-400a-af15-9043435e8282', 'a1f971fc-626f-44c7-a5d4-e4d5d9cf5cb9', '4e68be3d-ced9-48f3-a155-acde94547411', '0e9585c6-3ff4-48de-aa6f-ee41ded4aab1', '8f43ed39-bee7-47e9-b7f7-c2ca941e3e39', 'fa45c04b-4abd-4177-a041-e2b49d0329cb', '6319b6b3-8fe1-49be-b43c-b0410a3b9bd6', '83932504-c021-4a81-8371-23bd74764b78', '5d6cebea-1dc7-4bab-a80f-7ff418e87402', '156a78fc-0ecb-4d63-a889-6701cf2d821b', 'a936afc2-9a6e-43be-b84a-dfb45f118cb8', 'b5ef7d20-2d73-4805-a25c-c672ad3adda2', '71538248-dabe-4456-b074-850539c8310f', 'abb870dd-3284-494d-97ed-0499f8b86fb1', '00058bb5-5cf1-405a-a69d-6ff31bafa16b', '11bc7a91-df6f-4646-9145-14ebc480f514', '39a10f03-26e7-41c5-865c-5f7b9f7272fd', '3b52a727-35d4-47d0-a530-de8b9889053a', '71eed30d-e42b-4677-a97a-1542fc97ebe0', '0db9796e-bab0-404b-9eea-5ceda037707e', '4981e80e-d877-46ea-9932-1280fee2185b', 'c6674f83-d038-481b-9f54-c3c9562a5bfb', '2c538f46-c30a-48cd-8359-384696e9ffa7', 'fbb91225-f691-421e-910e-9a7f1365a476', 'd8eed0a5-6c4f-482f-9477-ed4cba29255d', '83b9bf9a-a8ba-4c38-89f8-02d2db78ce77', 'bae15fee-9bc2-4e13-84e3-26babe4deb1f', 'aa7ba57a-3647-4932-bd92-0c854c897e9f', '5a044ae8-06c3-4f93-a499-6b1c2d6d856c', 'b3981cac-06d9-4d21-9acb-2a7be5658c60', 'de824f3c-8ced-4c3b-bba2-d9015f741f2b', '88153055-b1c7-4e4d-b581-c7fb7f357bab', 'cc7f1b56-cfbf-4dfd-a433-08c803a90983', 'fd9c9ed7-628a-4c5a-b499-e7322ea2b772', '64c9fca2-e747-4e8a-b719-3cf0b7f2a7ba', '5ac4b166-93c7-498c-93cd-68fde35c8192', '7b7afb3b-5924-4de2-8a14-0fefb81c565b', 'dcd507e0-bc73-4e64-b0eb-17f710088cc0', '979bf77b-6ec5-47d9-870c-162de2cea91b', '2b396dd3-6e29-4e95-8a8d-7b5b04f33acb', '27d69e52-3d19-44f3-90e0-df12929c7284', '2da81d3c-f28b-43bd-b36a-380ae4762c67', 'cb34fde7-5302-4a74-b46e-3a542230be69', '390886db-e91e-4428-ae1a-480d0316435f', '62d1547b-5e2b-4078-9032-b7f3727f9431', '59b9dc07-185b-4dbf-98bc-0920ca38d605', 'c7e3a7af-e587-4693-b623-01d41ac1ffb0', '24db503c-8c1a-43ad-a237-0b43aa359e0f', 'ecd6a0c5-c9f6-4d34-a5f3-92975c0e54cd', 'b3edb1ef-6d18-44cc-8e06-c1f935b10fda', '06a5bc48-b52c-4754-bfc5-177e983831b3', '5674186f-5411-480a-92f8-89d6db17c6e9', '3b8c35f9-1daa-4674-9a6f-c320fe7a6984', 'f29f0741-702a-4b6c-b7a3-ac038d92c796', '4aa47c58-aea9-4c9e-aa72-9043ef90bebf', '5e9d62f0-6b96-46d0-88bd-59ec0302b0b5', 'e9dff97b-1c44-4238-8414-0afd7d32dd3f', 'a8b5179d-21a1-47c4-8fd0-d3f46f1cdca6', '238c4e37-a887-4054-abd0-52096f3fe22b', '73c30170-a406-4bac-8eb4-9ea1fd94926e', '4127d2be-a490-41fd-a177-8f4e08d1643b', 'e17a46db-1abb-4b2f-9ec0-998ab3a820b5', '7c79f9eb-cd41-4de1-8469-fe977a98b7fd', '6abe5b84-4831-47a3-85ed-cc0aae9d1830', 'af22bd13-5f38-46c7-bdfd-929bef902e6f', 'ff640033-9f4c-4179-8836-bffceba1d2c3', 'bf00cfc7-ecbe-405c-bc48-54dd143c526d', 'aff2380c-577f-491d-b506-02f92027f038', '870f80f0-2001-4955-ae2e-c7532604b0c1', 'd665b344-8f3b-4ca4-aeca-abfde7c0eec1', 'f1996423-00c4-4061-8fce-7a867ffbec72', '0cc007bf-1cb1-460d-a2b2-8ea1c9a8c014', 'af92ae44-bb3a-4647-8d2d-927b4eacdb57', '15ad67d3-e12b-40c1-9541-d5ea9e833ca7', '047171f1-8ee8-4d6b-979d-ae77af3acd71', 'ae7276ec-0709-4225-86b1-e5ebdcb4a671', '76f8562a-c5ac-438d-b3c3-0ec70fd8606c', 'b8d1bad1-0642-4040-813b-cdeaaa8c555e', 'a359bd26-02bd-45fb-bad0-5717216ab126', 'f188f1e0-e8f8-4f2d-b12d-dc3cb5f6c1a5', '3c8ff911-e5f0-4ad3-a9cc-297608f61ebc', 'e1197da6-29a6-4c24-8001-58ccc3234cc3', '8b1cd23a-6ca5-46c5-a167-ae01752ab800', 'dbdff7af-9027-4dd8-9f8c-b230f5b9a4eb', '8151cad1-197c-4b85-90ac-0153f18f8e8e', '436b75e4-e5c0-4e26-917d-6839edad88b7', '8f0411b3-bce2-4cca-a48b-85159b9739ef', '23a1bfb3-e64f-40c6-8053-7f1a03a9a1cb', '2f59cc67-e3f6-49f7-a5a4-39bc5ef5fefb', 'ce39f865-3734-4702-9539-6174b09eee97', 'e412fe3a-16f9-4b63-be98-b86ea07fac60', 'af62b7d7-b5ff-46fc-af3a-27489d7fc2e4', 'f8ede0c6-a204-4d3f-a91e-15d8ef43c1cb', '2c25c225-ab13-435a-adef-7bd30b4c152c', '25a9bdc0-7678-4f14-9471-a57ddef23fb5', '338ee7b9-57ff-4297-8a6e-bff17276e3a1', '89bc8caf-03a7-4417-8939-bf9cdfd96b3c', '91ebaf1b-7568-42c7-8e3e-8c4178ea97ce', '87589969-a183-4f15-98cc-b1a4ced3d0a9', '6e0be093-f5ad-4da4-a932-4f2978419e42', '6fdf56f9-a933-4771-9c50-3d07d196a237', 'a3cee5fb-87c8-4a5f-9247-2763e8b509d0', '2ada5be0-f193-411f-a0ab-bf2b60812fdb', 'e2dd4601-3ceb-46a2-aace-dc158d17d939', '2883f907-d4de-4d60-948c-b621b65cc305', '02e58526-3ea2-4cd1-93d3-a1c80da81175', 'dfd7a176-e60d-48c5-83b7-9b6245b186de', '87da00ac-6d91-48bf-8b45-2b511b662f6f', '924937e0-5754-4221-a436-d4fb0ac406b1', 'd508b505-4173-4ca3-8266-c8483c9f3e2e', 'cdc02901-6a9d-4807-b43a-7c3d8aab10ba', 'a78de77c-6c38-47bc-8047-1fce34e413c5', 'af76e3d6-39c6-447c-9d20-bd5e50679416', '3890740c-ca88-4150-b1ee-c0d1c843de8d', '3146844d-5f82-4dff-b24e-60c2c403fa14', '66529854-eb85-4ebf-a1f9-17f8a77bb11a', '5b121e73-dd6a-4c7a-9e56-b0f185c127a4', '42786b04-d615-4537-b983-9e360521d842', '4b835c22-9e9f-4fd1-90e2-39fab488497a', 'eb2b6fa5-ce48-4bae-bc12-9782ca9bf448', 'aa1e0959-d8b1-44da-acac-ac5047ebec45', 'a1c72dcd-6ec4-4633-b158-32ae086919af', 'ebaa0934-8639-4c6e-86e9-e5ee7d41a7f8', '93af75fc-007f-4edc-b43e-5e669768c557', '43abf967-2b0b-4bd1-a6a9-ec10255a2fcc', 'bd8d17f2-cecc-4703-91a4-01a46a7a1578', '9f6ae0df-f4a9-43dc-a594-8a1dedcf44ab', 'ebdba569-c0b6-476b-bc6c-01df7a786fdd', '029a2a79-6db9-41da-b9dd-89399977eddf', '18acbddc-765f-484a-ac3f-fb072781eb4f', '415b19f0-7995-459b-8865-1969f4af14d4', '4fc6d72b-e950-464e-b716-6503d633c659', '79c9761b-7db0-4c06-a631-7e33040e53fa', '7cf8c6aa-2b2b-4da4-8cf1-3b2d72e4a659', '07a32749-2bde-4205-a6d5-562f610e76a7', '7332c193-a95d-4ae2-97dd-58a15668cd59', 'a12c6977-8d03-4411-b007-c628d8495b8c', '67497426-78b8-44a7-8606-f3b2191ad584', '5dd377a6-42aa-4480-b2ee-3c0ca1eaf147', '4d64be3a-5589-4fbe-9b9d-1b01753d0765', '3292cc05-b49d-4810-8d7b-5aceb0a54982', 'a75626a0-ffbe-4449-8ecf-638dec1d64a3', 'c14be57a-f038-4c22-8508-bb5baf8b5876', '8e43c59d-645c-4b4a-81db-78bba9118e22', '164498ec-1555-4712-a473-780eaf6ba9f6', '35057121-93c9-43ff-875c-c8960230a6c5', 'd2dd7da1-96c0-4dee-a3a0-e0a00a7ecd6f', 'd96d1d5c-7ae1-4b6d-a60c-a3170d1c5931', 'a4862dab-aa76-4018-9574-a754a9099aeb', '465c56ec-3d53-43cb-a6c9-c1e7e031edeb', 'dcd4d0a2-7c8a-43a4-8a23-21f6ea971fb4', 'a1d973f8-6c53-4c32-8c7f-cc319998f631', 'a9fa0134-0170-4960-86d9-4f9f6d511a6b', 'bcaa23ea-98a6-4f50-9e08-157304009408', '12c897a0-b425-4ec5-8bb6-50b9f10882b2', 'f098cd0c-96ae-47ed-96b4-5b3718cfffcd', '9665187e-4eca-4389-bf05-e6fb417f3631', 'f5df4923-3246-4e8d-bc11-bda26075a5f3', '9a199c83-b40c-4034-bbf1-107c442ddab2', 'f89a29a3-c114-4f82-8498-51d094fc0492', '4fe9bcfb-b701-4053-846e-2f2c1d6794d6', 'b0ec7a6f-0298-40a6-8e85-5681c8d50f0e', 'b8c6612a-9c9c-4ea8-bc50-47f1a6ae3aad']\n"
          ]
        }
      ]
    },
    {
      "cell_type": "code",
      "source": [
        "relevant_docs = vector_store.similarity_search(\"Ementa de Cálculo II\")\n",
        "print(len(relevant_docs))\n",
        "context = \"\\n\".join([doc.page_content.split('</metadata>')[1] for doc in relevant_docs])\n",
        "context"
      ],
      "metadata": {
        "colab": {
          "base_uri": "https://localhost:8080/",
          "height": 184
        },
        "id": "HzBpuoZgRgDz",
        "outputId": "281275bf-a1a6-4e08-e2ad-d2f9100e831e"
      },
      "execution_count": 86,
      "outputs": [
        {
          "output_type": "stream",
          "name": "stdout",
          "text": [
            "4\n"
          ]
        },
        {
          "output_type": "execute_result",
          "data": {
            "text/plain": [
              "'\\n\\n| Código | COMPONENTE CURRICULAR | Créditos | Horas |\\n|---|---|---|---|\\n| Código | COMPONENTE CURRICULAR | Créditos | Horas |\\n| GEX392 | CÁLCULO II | 4 | 60 |\\n| EMENTA |   |   |   |\\n| Algumas técnicas de integração e aplicações da integral. Funções de várias variáveis. Limi- te e continuidade de funções de várias variáveis. Derivadas parciais e aplicações. Gradiente. Diferenciabilidade. Multiplicadores de Lagrange. Integrais múltiplas. |   |   |   |\\n| OBJETIVO |   |   |   |\\n| Estudar mais algumas técnicas de integração de uma função de uma variável e aplicá-las na resolução de problemas. Introduzir as principais ferramentas do cálculo diferencial e inte- gral de funções de várias variáveis, abordando suas aplicações. |   |   |   |\\n| REFERÊNCIAS BÁSICAS |   |   |   |\\n| FLEMMING, D. M.; GONÇALVES, M. B. Cálculo A: funções, limite, derivação e inte- gração. 6. ed. São Paulo: Makron Books, 2007. ______. Cálculo B: funções de várias variáveis, integrais múltiplas, integrais curvilíneas e de superfície. 6. ed. São Paulo: Makron Books, 2007. GUIDORIZZI, H. L. Um curso de cálculo. 5. ed. Rio de Janeiro: LTC, 2001. v. 2 e 3. LEITHOLD, L. O cálculo com geometria analítica. 3. ed. São Paulo: Harbra, 1994. 1 v. ______.O cálculo com geometria analítica. 3. ed. São Paulo: Harbra, 1994. 2 v. STEWART, J. Cálculo. 6. ed. São Paulo: Cengage Learning, 2010. 1 v. ______.Cálculo. 6. ed. São Paulo: Cengage Learning, 2010. 2 v. THOMAS, G. B. Cálculo. 11. ed. São Paulo: Addison Wesley, 2008. 1 v. ______.Cálculo. 11. ed. São Paulo: Addison Wesley, 2008. 2 v. |   |   |   |\\n| REFERÊNCIAS COMPLEMENTARES |   |   |   |\\n| ANTON, H.; BIVENS, I.; DAVIS, S. Cálculo. 8. ed. São Paulo: Bookman, 2007. v. 2. ______. Cálculo. 8. ed. São Paulo: Bookman, 2007. v. 1. APOSTOL, T. M. Calculus: one-variable calculus, with an introduction to linear algebra. 2. ed. New York: John Wiley & Sons, 1967. v. 1. ______. Calculus: one-variable calculus, with an introduction to linear algebra. 2. ed. New York: John Wiley & Sons, 1967. v. 2. LARSON, R.; HOSTETLER, R. P.; EDWARDS, B. H. Cálculo. 8. ed. São Paulo: McGraw Hill, 2006. 1 v. ______. Cálculo. 8 ed. São Paulo: McGraw Hill, 2006. 2 v. SALAS, H. E. Cálculo. 9. ed. Rio de Janeiro: LTC, 2005. 1 v. ______. Cálculo. 9. ed. Rio de Janeiro: LTC, 2005. 2 v. SIMMONS, G. F. Cálculo com geometria analítica. São Paulo: McGraw Hill, 1987. 1 v. ______. Cálculo com geometria analítica. São Paulo: McGraw Hill, 1987. 2 v. |   |   |   |\\n\\n\\n\\n| Código | COMPONENTE CURRICULAR | Créditos | Horas |\\n|---|---|---|---|\\n| Código | COMPONENTE CURRICULAR | Créditos | Horas |\\n| GEX178 | CÁLCULO I | 4 | 60 |\\n| EMENTA |   |   |   |\\n| Limite e continuidade de funções de uma variável real. Derivadas. Aplicações da derivada. Integrais definidas e indefinidas. Teorema fundamental do Cálculo. Cálculo de áreas. Aplicações da integral. |   |   |   |\\n| OBJETIVO |   |   |   |\\n| Introduzir as principais ferramentas do cálculo diferencial e integral de funções de uma variável, abordando suas aplicações. |   |   |   |\\n| REFERÊNCIAS BÁSICAS |   |   |   |\\n| FLEMMING, D. M.; GONÇALVES, M. B. Cálculo A: funções, limite, derivação e integração. 6. ed. São Paulo: Prentice Hall, 2007. GUIDORIZZI, H. L. Um curso de cálculo. 5. ed. Rio de Janeiro: LTC, 2001. 1 v. LEITHOLD, L. Cálculo com geometria analítica. 3. ed. São Paulo: Harbra, 1994. 1 v. STEWART, J. Cálculo. 6. ed. São Paulo: Cengage Learning, 2010. 1 v. THOMAS, G. B. Cálculo. 11. ed. São Paulo: Addison Wesley, 2008. 1 v. |   |   |   |\\n| REFERÊNCIAS COMPLEMENTARES |   |   |   |\\n| ANTON, H.; BIVENS, I.; DAVIS, S. Cálculo. 8. ed. São Paulo: Bookman, 2007. 1 v. APOSTOL, T. M. Calculus: one-variable calculus, with an introduction to linear algebra. 2. ed. New York: John Wiley & Sons, 1967. 1 v. LARSON, R.; HOSTETLER, R. P.; EDWARDS, B. H. Cálculo. 8. ed. São Paulo: McGraw Hill, 2006. 1 v. SALAS, H. E. Cálculo. 9. ed. Rio de Janeiro: LTC, 2005. 1 v. SIMMONS, G. F. Cálculo com geometria analítica. São Paulo: McGraw Hill, 1987. 1 v. TÁBOAS, P. Z. Cálculo em uma variável real. São Paulo: Edusp, 2003. |   |   |   |\\n\\n\\n\\n| Código | COMPONENTE CURRICULAR | Créditos | Horas |\\n|---|---|---|---|\\n| Código | COMPONENTE CURRICULAR | Créditos | Horas |\\n| GEX395 | CÁLCULO NUMÉRICO | 4 | 60 |\\n| EMENTA |   |   |   |\\n| Erros computacionais e aproximação numérica. Cálculo de raízes de funções reais. Resolução de sistemas lineares: métodos diretos e iterativos. Interpolação polinomial. Ajuste de curvas: quadrados mínimos lineares. Diferenciação e integração numérica. Tratamento numérico de equações diferenciais ordinárias. |   |   |   |\\n| OBJETIVO |   |   |   |\\n| Abordar a resolução não algébrica de problemas matemáticos por meio de métodos numéricos, fazendo uso de ferramentas do cálculo diferencial e integral, da álgebra linear e de equações diferenciais ordinárias. |   |   |   |\\n| REFERÊNCIAS BÁSICAS |   |   |   |\\n| BARROSO, L. C. et al. Cálculo numérico (com aplicações). São Paulo: Harbra, 1987. FRANCO, N. M. B. Cálculo numérico. São Paulo: Prentice Hall, 2007. HUMES, A. F. P. C. et al. Noções de cálculo numérico. São Paulo: McGraw Hill, 1984. RUGGIERO, M. A. G.; LOPES, V. L. R. Cálculo numérico – aspectos teóricos e computacionais. 2. ed. São Paulo: Makron Books, 1996. |   |   |   |\\n| REFERÊNCIAS COMPLEMENTARES |   |   |   |\\n| BURIAN, R.; LIMA, A. C. Fundamentos de informática – cálculo numérico. Rio de Janeiro: LTC, 2007. CLÁUDIO, D. M.; MARINS, J. M. Cálculo numérico computacional – teoria e prática. São Paulo: Atlas, 1989. CHRISTOFOLETTI, A. Modelagem de sistemas ambientais. São Paulo: Edgard Blucher, 1999. 256 p. CUNHA, M. C. Métodos Numéricos. Campinas: UNICAMP, 2000. MEYER, C. D. Matrix analysis and applied linear algebra. New York: SIAM, 2000. ROQUE, W. L. Introdução ao cálculo numérico. São Paulo: Atlas, 2000. WATKINS, D. S. Fundamentals of matrix computations. New York: John Wiley and Sons, 1991. |   |   |   |\\n\\n\\n\\n| Código | COMPONENTE CURRICULAR | Créditos | Horas |\\n|---|---|---|---|\\n| Código | COMPONENTE CURRICULAR | Créditos | Horas |\\n| GEX624 | TÓPICOS ESPECIAIS EM COMPUTAÇÃO II | 4 | 60 |\\n| EMENTA |   |   |   |\\n| Conteúdo variável respeitando os objetivos mencionados. |   |   |   |\\n| OBJETIVO |   |   |   |\\n| Viabilizar a introdução no curso de temas não abordados em outros componentes. Deve ser relevante para o momento, traduzindo a evolução das tecnologias e da ciência da computação e/ou aproveitando as experiências de professores ou outros profissionais qualificados. Esta disciplina também serve para atualizações da matriz curricular. |   |   |   |\\n| REFERÊNCIAS BÁSICAS |   |   |   |\\n| Contemplada no plano da disciplina a ser ministrada. |   |   |   |\\n| REFERÊNCIAS COMPLEMENTARES |   |   |   |\\n| Contemplada no plano da disciplina a ser ministrada. |   |   |   |\\n'"
            ],
            "application/vnd.google.colaboratory.intrinsic+json": {
              "type": "string"
            }
          },
          "metadata": {},
          "execution_count": 86
        }
      ]
    },
    {
      "cell_type": "code",
      "source": [],
      "metadata": {
        "id": "YxohvJAJSNQv"
      },
      "execution_count": null,
      "outputs": []
    }
  ],
  "metadata": {
    "kernelspec": {
      "display_name": ".venv",
      "language": "python",
      "name": "python3"
    },
    "language_info": {
      "codemirror_mode": {
        "name": "ipython",
        "version": 3
      },
      "file_extension": ".py",
      "mimetype": "text/x-python",
      "name": "python",
      "nbconvert_exporter": "python",
      "pygments_lexer": "ipython3",
      "version": "3.11.4"
    },
    "colab": {
      "provenance": [],
      "include_colab_link": true
    }
  },
  "nbformat": 4,
  "nbformat_minor": 0
}
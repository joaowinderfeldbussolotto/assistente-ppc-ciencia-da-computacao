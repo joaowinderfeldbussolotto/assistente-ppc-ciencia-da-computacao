{
  "nbformat": 4,
  "nbformat_minor": 0,
  "metadata": {
    "colab": {
      "provenance": [],
      "authorship_tag": "ABX9TyNARR0G+3sqyXq8nL/SYA8Z",
      "include_colab_link": true
    },
    "kernelspec": {
      "name": "python3",
      "display_name": "Python 3"
    },
    "language_info": {
      "name": "python"
    }
  },
  "cells": [
    {
      "cell_type": "markdown",
      "metadata": {
        "id": "view-in-github",
        "colab_type": "text"
      },
      "source": [
        "<a href=\"https://colab.research.google.com/github/joaowinderfeldbussolotto/assistente-ppc-ciencia-da-computacao/blob/main/tcc.ipynb\" target=\"_parent\"><img src=\"https://colab.research.google.com/assets/colab-badge.svg\" alt=\"Open In Colab\"/></a>"
      ]
    },
    {
      "cell_type": "code",
      "execution_count": 1,
      "metadata": {
        "id": "EEeeltzV1aW8",
        "colab": {
          "base_uri": "https://localhost:8080/"
        },
        "outputId": "2b78fb70-0fab-447b-f63d-c68922ccf0c1"
      },
      "outputs": [
        {
          "output_type": "stream",
          "name": "stdout",
          "text": [
            "\u001b[?25l     \u001b[90m━━━━━━━━━━━━━━━━━━━━━━━━━━━━━━━━━━━━━━━━\u001b[0m \u001b[32m0.0/56.5 kB\u001b[0m \u001b[31m?\u001b[0m eta \u001b[36m-:--:--\u001b[0m\r\u001b[2K     \u001b[90m━━━━━━━━━━━━━━━━━━━━━━━━━━━━━━━━━━━━━━━━\u001b[0m \u001b[32m56.5/56.5 kB\u001b[0m \u001b[31m3.2 MB/s\u001b[0m eta \u001b[36m0:00:00\u001b[0m\n",
            "\u001b[?25h  Preparing metadata (setup.py) ... \u001b[?25l\u001b[?25hdone\n",
            "\u001b[2K     \u001b[90m━━━━━━━━━━━━━━━━━━━━━━━━━━━━━━━━━━━━━━━━\u001b[0m \u001b[32m50.4/50.4 kB\u001b[0m \u001b[31m1.4 MB/s\u001b[0m eta \u001b[36m0:00:00\u001b[0m\n",
            "\u001b[2K   \u001b[90m━━━━━━━━━━━━━━━━━━━━━━━━━━━━━━━━━━━━━━━━\u001b[0m \u001b[32m395.9/395.9 kB\u001b[0m \u001b[31m8.6 MB/s\u001b[0m eta \u001b[36m0:00:00\u001b[0m\n",
            "\u001b[2K   \u001b[90m━━━━━━━━━━━━━━━━━━━━━━━━━━━━━━━━━━━━━━━━\u001b[0m \u001b[32m365.7/365.7 kB\u001b[0m \u001b[31m5.1 MB/s\u001b[0m eta \u001b[36m0:00:00\u001b[0m\n",
            "\u001b[2K   \u001b[90m━━━━━━━━━━━━━━━━━━━━━━━━━━━━━━━━━━━━━━━━\u001b[0m \u001b[32m5.6/5.6 MB\u001b[0m \u001b[31m20.0 MB/s\u001b[0m eta \u001b[36m0:00:00\u001b[0m\n",
            "\u001b[2K   \u001b[90m━━━━━━━━━━━━━━━━━━━━━━━━━━━━━━━━━━━━━━━━\u001b[0m \u001b[32m244.8/244.8 kB\u001b[0m \u001b[31m5.3 MB/s\u001b[0m eta \u001b[36m0:00:00\u001b[0m\n",
            "\u001b[2K   \u001b[90m━━━━━━━━━━━━━━━━━━━━━━━━━━━━━━━━━━━━━━━━\u001b[0m \u001b[32m3.5/3.5 MB\u001b[0m \u001b[31m44.4 MB/s\u001b[0m eta \u001b[36m0:00:00\u001b[0m\n",
            "\u001b[2K   \u001b[90m━━━━━━━━━━━━━━━━━━━━━━━━━━━━━━━━━━━━━━━━\u001b[0m \u001b[32m15.9/15.9 MB\u001b[0m \u001b[31m17.4 MB/s\u001b[0m eta \u001b[36m0:00:00\u001b[0m\n",
            "\u001b[2K   \u001b[90m━━━━━━━━━━━━━━━━━━━━━━━━━━━━━━━━━━━━━━━━\u001b[0m \u001b[32m295.8/295.8 kB\u001b[0m \u001b[31m6.3 MB/s\u001b[0m eta \u001b[36m0:00:00\u001b[0m\n",
            "\u001b[2K   \u001b[90m━━━━━━━━━━━━━━━━━━━━━━━━━━━━━━━━━━━━━━━━\u001b[0m \u001b[32m1.1/1.1 MB\u001b[0m \u001b[31m19.9 MB/s\u001b[0m eta \u001b[36m0:00:00\u001b[0m\n",
            "\u001b[2K   \u001b[90m━━━━━━━━━━━━━━━━━━━━━━━━━━━━━━━━━━━━━━━━\u001b[0m \u001b[32m90.1/90.1 kB\u001b[0m \u001b[31m4.0 MB/s\u001b[0m eta \u001b[36m0:00:00\u001b[0m\n",
            "\u001b[2K   \u001b[90m━━━━━━━━━━━━━━━━━━━━━━━━━━━━━━━━━━━━━━━━\u001b[0m \u001b[32m76.4/76.4 kB\u001b[0m \u001b[31m3.4 MB/s\u001b[0m eta \u001b[36m0:00:00\u001b[0m\n",
            "\u001b[2K   \u001b[90m━━━━━━━━━━━━━━━━━━━━━━━━━━━━━━━━━━━━━━━━\u001b[0m \u001b[32m77.9/77.9 kB\u001b[0m \u001b[31m2.8 MB/s\u001b[0m eta \u001b[36m0:00:00\u001b[0m\n",
            "\u001b[2K   \u001b[90m━━━━━━━━━━━━━━━━━━━━━━━━━━━━━━━━━━━━━━━━\u001b[0m \u001b[32m318.9/318.9 kB\u001b[0m \u001b[31m10.7 MB/s\u001b[0m eta \u001b[36m0:00:00\u001b[0m\n",
            "\u001b[2K   \u001b[90m━━━━━━━━━━━━━━━━━━━━━━━━━━━━━━━━━━━━━━━━\u001b[0m \u001b[32m150.7/150.7 kB\u001b[0m \u001b[31m3.1 MB/s\u001b[0m eta \u001b[36m0:00:00\u001b[0m\n",
            "\u001b[2K   \u001b[90m━━━━━━━━━━━━━━━━━━━━━━━━━━━━━━━━━━━━━━━━\u001b[0m \u001b[32m117.6/117.6 kB\u001b[0m \u001b[31m3.4 MB/s\u001b[0m eta \u001b[36m0:00:00\u001b[0m\n",
            "\u001b[2K   \u001b[90m━━━━━━━━━━━━━━━━━━━━━━━━━━━━━━━━━━━━━━━━\u001b[0m \u001b[32m141.9/141.9 kB\u001b[0m \u001b[31m3.5 MB/s\u001b[0m eta \u001b[36m0:00:00\u001b[0m\n",
            "\u001b[2K   \u001b[90m━━━━━━━━━━━━━━━━━━━━━━━━━━━━━━━━━━━━━━━━\u001b[0m \u001b[32m58.3/58.3 kB\u001b[0m \u001b[31m2.5 MB/s\u001b[0m eta \u001b[36m0:00:00\u001b[0m\n",
            "\u001b[?25h  Building wheel for html2text (setup.py) ... \u001b[?25l\u001b[?25hdone\n"
          ]
        }
      ],
      "source": [
        "!pip install -qU langchain-pinecone pinecone-notebooks openparse[ml] html2text"
      ]
    },
    {
      "cell_type": "markdown",
      "source": [
        "## Configuração de Variaveis"
      ],
      "metadata": {
        "id": "czhlPRebbJ3g"
      }
    },
    {
      "cell_type": "code",
      "source": [
        "from google.colab import userdata\n",
        "\n",
        "class Settings:\n",
        "  HF_TOKEN          = userdata.get('HF_TOKEN')\n",
        "  PINECONE_API_KEY  = userdata.get('PINECONE_API_KEY')\n",
        "  GROQ_API_KEY      = userdata.get('GROQ_API_KEY')\n",
        "\n",
        "\n",
        "settings = Settings()"
      ],
      "metadata": {
        "id": "fx_oq3Ep4P7-"
      },
      "execution_count": 2,
      "outputs": []
    },
    {
      "cell_type": "markdown",
      "source": [
        "## Pré-processamento de dados"
      ],
      "metadata": {
        "id": "zpiQDAfzbgA0"
      }
    },
    {
      "cell_type": "markdown",
      "source": [
        "### Download do dataset"
      ],
      "metadata": {
        "id": "nW88k2Vqbuxu"
      }
    },
    {
      "cell_type": "code",
      "source": [
        "!mkdir -p data\n",
        "!wget https://www.uffs.edu.br/atos-normativos/ppc/ccccch/2017-0002/@@download/documento_historico -O \"data/ppc_2018.pdf\""
      ],
      "metadata": {
        "colab": {
          "base_uri": "https://localhost:8080/"
        },
        "id": "pfQS8XW05hH8",
        "outputId": "d7da9323-f365-4774-92bb-7e0d76ee14eb"
      },
      "execution_count": 3,
      "outputs": [
        {
          "output_type": "stream",
          "name": "stdout",
          "text": [
            "--2024-08-29 23:28:40--  https://www.uffs.edu.br/atos-normativos/ppc/ccccch/2017-0002/@@download/documento_historico\n",
            "Resolving www.uffs.edu.br (www.uffs.edu.br)... 200.135.49.107\n",
            "Connecting to www.uffs.edu.br (www.uffs.edu.br)|200.135.49.107|:443... connected.\n",
            "HTTP request sent, awaiting response... 200 OK\n",
            "Length: 1383621 (1.3M) [application/pdf]\n",
            "Saving to: ‘data/ppc_2018.pdf’\n",
            "\n",
            "data/ppc_2018.pdf   100%[===================>]   1.32M   850KB/s    in 1.6s    \n",
            "\n",
            "2024-08-29 23:28:42 (850 KB/s) - ‘data/ppc_2018.pdf’ saved [1383621/1383621]\n",
            "\n"
          ]
        }
      ]
    },
    {
      "cell_type": "code",
      "source": [
        "from google.colab import drive\n",
        "drive.mount('/content/drive')"
      ],
      "metadata": {
        "colab": {
          "base_uri": "https://localhost:8080/"
        },
        "id": "Fl2EAzXPbyrF",
        "outputId": "a1830f7f-ca41-497e-9fde-8ddf277ee350"
      },
      "execution_count": 4,
      "outputs": [
        {
          "output_type": "stream",
          "name": "stdout",
          "text": [
            "Mounted at /content/drive\n"
          ]
        }
      ]
    },
    {
      "cell_type": "code",
      "source": [
        "!cp /content/drive/My\\ Drive/tcc/PPC_2024.pdf data/ppc_2024.pdf"
      ],
      "metadata": {
        "id": "cHM8m0_wd3Ln"
      },
      "execution_count": null,
      "outputs": []
    },
    {
      "cell_type": "markdown",
      "source": [
        "\n",
        "\n",
        "### Transformação PDF -> HTML -> Markdown\n",
        "\n",
        "\n"
      ],
      "metadata": {
        "id": "47lj_E8JcMEz"
      }
    },
    {
      "cell_type": "code",
      "source": [
        "import openparse\n",
        "import html2text\n",
        "from langchain_core.documents import Document\n",
        "\n",
        "\n",
        "def parse_document_to_documents(file_path, source_name):\n",
        "    # Parse the document using OpenParse\n",
        "    parser = openparse.DocumentParser(table_args={\"parsing_algorithm\": \"pymupdf\", \"table_output_format\": \"markdown\"})\n",
        "    document = parser.parse(file_path)\n",
        "\n",
        "    documents = []\n",
        "\n",
        "    # Iterate over the nodes and convert each to a Document\n",
        "    for node in document.nodes:\n",
        "        html_content = node.text\n",
        "\n",
        "        if html_content:\n",
        "            document_chunk = Document(\n",
        "                metadata={'source': source_name},\n",
        "                page_content=html_content\n",
        "            )\n",
        "            documents.append(document_chunk)\n",
        "\n",
        "    return documents\n"
      ],
      "metadata": {
        "id": "-tAI4p7HcZA-"
      },
      "execution_count": null,
      "outputs": []
    },
    {
      "cell_type": "code",
      "source": [
        "ppc_2018_chunks = parse_document_to_documents('data/ppc_2018.pdf', 'ppc2018')"
      ],
      "metadata": {
        "id": "waXAFP5jcvV-"
      },
      "execution_count": null,
      "outputs": []
    },
    {
      "cell_type": "code",
      "source": [
        "ppc_2024_chunks = parse_document_to_documents('data/ppc_2024.pdf', 'ppc2024')"
      ],
      "metadata": {
        "id": "Y1kDxGbrdGiF"
      },
      "execution_count": null,
      "outputs": []
    },
    {
      "cell_type": "markdown",
      "source": [
        "### Geração de embeddings e indíces do banco vetorial"
      ],
      "metadata": {
        "id": "fVr_GWJ6bdNq"
      }
    },
    {
      "cell_type": "code",
      "source": [
        "class EmbeddingModelSpecs:\n",
        "  def __init__(self):\n",
        "    self.name      = 'sentence-transformers/distiluse-base-multilingual-cased-v1'\n",
        "    self.dimension = 512\n",
        "\n",
        "embeddings_model = EmbeddingModelSpecs()\n"
      ],
      "metadata": {
        "id": "0-nZVdIs4sSs"
      },
      "execution_count": null,
      "outputs": []
    },
    {
      "cell_type": "code",
      "source": [
        "import getpass\n",
        "import os\n",
        "import time\n",
        "\n",
        "from pinecone import Pinecone, ServerlessSpec\n",
        "pc = Pinecone(api_key=settings.PINECONE_API_KEY)"
      ],
      "metadata": {
        "id": "-KNmGOc62Oj0"
      },
      "execution_count": null,
      "outputs": []
    },
    {
      "cell_type": "code",
      "source": [
        "import time\n",
        "\n",
        "index_name = \"index-ppc-markdown-dev\"\n",
        "existing_indexes = [index_info[\"name\"] for index_info in pc.list_indexes()]\n",
        "\n",
        "if index_name not in existing_indexes:\n",
        "    pc.create_index(\n",
        "        name=index_name,\n",
        "        dimension=embeddings_model.dimension,\n",
        "        metric=\"cosine\",\n",
        "        spec=ServerlessSpec(cloud=\"aws\", region=\"us-east-1\"),\n",
        "    )\n",
        "    while not pc.describe_index(index_name).status[\"ready\"]:\n",
        "        time.sleep(1)\n",
        "\n",
        "index = pc.Index(index_name)"
      ],
      "metadata": {
        "id": "MAOrLvBD2UZs"
      },
      "execution_count": null,
      "outputs": []
    },
    {
      "cell_type": "code",
      "source": [
        "!pip install -qU langchain-huggingface langchain langchain-community unstructured==0.15.0"
      ],
      "metadata": {
        "id": "cFOAyMnd2htw",
        "colab": {
          "base_uri": "https://localhost:8080/"
        },
        "outputId": "64b96d44-90d5-4bd6-c517-f12dc2f40ba6"
      },
      "execution_count": null,
      "outputs": [
        {
          "output_type": "stream",
          "name": "stdout",
          "text": [
            "\u001b[?25l     \u001b[90m━━━━━━━━━━━━━━━━━━━━━━━━━━━━━━━━━━━━━━━━\u001b[0m \u001b[32m0.0/981.5 kB\u001b[0m \u001b[31m?\u001b[0m eta \u001b[36m-:--:--\u001b[0m\r\u001b[2K     \u001b[91m━━━━━━━━━━━━━━━━━━━━\u001b[0m\u001b[90m╺\u001b[0m\u001b[90m━━━━━━━━━━━━━━━━━━━\u001b[0m \u001b[32m501.8/981.5 kB\u001b[0m \u001b[31m14.9 MB/s\u001b[0m eta \u001b[36m0:00:01\u001b[0m\r\u001b[2K     \u001b[90m━━━━━━━━━━━━━━━━━━━━━━━━━━━━━━━━━━━━━━━━\u001b[0m \u001b[32m981.5/981.5 kB\u001b[0m \u001b[31m17.1 MB/s\u001b[0m eta \u001b[36m0:00:00\u001b[0m\n",
            "\u001b[?25h  Preparing metadata (setup.py) ... \u001b[?25l\u001b[?25hdone\n",
            "\u001b[2K   \u001b[90m━━━━━━━━━━━━━━━━━━━━━━━━━━━━━━━━━━━━━━━━\u001b[0m \u001b[32m2.1/2.1 MB\u001b[0m \u001b[31m57.7 MB/s\u001b[0m eta \u001b[36m0:00:00\u001b[0m\n",
            "\u001b[2K   \u001b[90m━━━━━━━━━━━━━━━━━━━━━━━━━━━━━━━━━━━━━━━━\u001b[0m \u001b[32m997.8/997.8 kB\u001b[0m \u001b[31m45.2 MB/s\u001b[0m eta \u001b[36m0:00:00\u001b[0m\n",
            "\u001b[2K   \u001b[90m━━━━━━━━━━━━━━━━━━━━━━━━━━━━━━━━━━━━━━━━\u001b[0m \u001b[32m2.3/2.3 MB\u001b[0m \u001b[31m16.0 MB/s\u001b[0m eta \u001b[36m0:00:00\u001b[0m\n",
            "\u001b[2K   \u001b[90m━━━━━━━━━━━━━━━━━━━━━━━━━━━━━━━━━━━━━━━━\u001b[0m \u001b[32m227.1/227.1 kB\u001b[0m \u001b[31m17.3 MB/s\u001b[0m eta \u001b[36m0:00:00\u001b[0m\n",
            "\u001b[2K   \u001b[90m━━━━━━━━━━━━━━━━━━━━━━━━━━━━━━━━━━━━━━━━\u001b[0m \u001b[32m431.4/431.4 kB\u001b[0m \u001b[31m28.7 MB/s\u001b[0m eta \u001b[36m0:00:00\u001b[0m\n",
            "\u001b[2K   \u001b[90m━━━━━━━━━━━━━━━━━━━━━━━━━━━━━━━━━━━━━━━━\u001b[0m \u001b[32m274.7/274.7 kB\u001b[0m \u001b[31m17.8 MB/s\u001b[0m eta \u001b[36m0:00:00\u001b[0m\n",
            "\u001b[2K   \u001b[90m━━━━━━━━━━━━━━━━━━━━━━━━━━━━━━━━━━━━━━━━\u001b[0m \u001b[32m3.4/3.4 MB\u001b[0m \u001b[31m79.5 MB/s\u001b[0m eta \u001b[36m0:00:00\u001b[0m\n",
            "\u001b[2K   \u001b[90m━━━━━━━━━━━━━━━━━━━━━━━━━━━━━━━━━━━━━━━━\u001b[0m \u001b[32m43.9/43.9 kB\u001b[0m \u001b[31m3.4 MB/s\u001b[0m eta \u001b[36m0:00:00\u001b[0m\n",
            "\u001b[2K   \u001b[90m━━━━━━━━━━━━━━━━━━━━━━━━━━━━━━━━━━━━━━━━\u001b[0m \u001b[32m80.8/80.8 kB\u001b[0m \u001b[31m7.0 MB/s\u001b[0m eta \u001b[36m0:00:00\u001b[0m\n",
            "\u001b[2K   \u001b[90m━━━━━━━━━━━━━━━━━━━━━━━━━━━━━━━━━━━━━━━━\u001b[0m \u001b[32m49.3/49.3 kB\u001b[0m \u001b[31m3.6 MB/s\u001b[0m eta \u001b[36m0:00:00\u001b[0m\n",
            "\u001b[2K   \u001b[90m━━━━━━━━━━━━━━━━━━━━━━━━━━━━━━━━━━━━━━━━\u001b[0m \u001b[32m54.5/54.5 kB\u001b[0m \u001b[31m4.0 MB/s\u001b[0m eta \u001b[36m0:00:00\u001b[0m\n",
            "\u001b[?25h  Building wheel for langdetect (setup.py) ... \u001b[?25l\u001b[?25hdone\n"
          ]
        }
      ]
    },
    {
      "cell_type": "code",
      "source": [
        "from langchain_huggingface import HuggingFaceEmbeddings\n",
        "\n",
        "embeddings = HuggingFaceEmbeddings(model_name=embeddings_model.name)"
      ],
      "metadata": {
        "id": "CN7yfXwB2oIG"
      },
      "execution_count": null,
      "outputs": []
    },
    {
      "cell_type": "code",
      "source": [
        "from langchain_pinecone import PineconeVectorStore\n",
        "\n",
        "vector_store = PineconeVectorStore(index=index, embedding=embeddings)"
      ],
      "metadata": {
        "id": "W_XoVm-s3IMr"
      },
      "execution_count": null,
      "outputs": []
    },
    {
      "cell_type": "code",
      "source": [
        "from uuid import uuid4\n",
        "from langchain_core.documents import Document\n",
        "from langchain.document_loaders import UnstructuredMarkdownLoader\n",
        "from langchain.text_splitter import RecursiveCharacterTextSplitter\n",
        "\n",
        "def load_documents(file_path):\n",
        "    \"\"\"Load documents from a Markdown file using UnstructuredMarkdownLoader.\"\"\"\n",
        "    # Usar um loader específico para Markdown\n",
        "    loader = UnstructuredMarkdownLoader(file_path)\n",
        "    documents = loader.load()\n",
        "    return documents\n",
        "\n",
        "def split_documents_into_chunks(documents, chunk_size=2000, chunk_overlap=400):\n",
        "    \"\"\"Split the loaded documents into text chunks based on Markdown structure.\"\"\"\n",
        "    # Usando RecursiveCharacterTextSplitter para respeitar a estrutura do Markdown\n",
        "    text_splitter = RecursiveCharacterTextSplitter(\n",
        "        chunk_size=chunk_size,\n",
        "        chunk_overlap=chunk_overlap,\n",
        "        separators=[\"\\n# \", \"\\n## \", \"\\n### \", \"\\n\", \" \"]\n",
        "    )\n",
        "    texts = text_splitter.split_documents(documents)\n",
        "    return texts\n",
        "\n",
        "def create_documents_from_chunks(texts, source_name):\n",
        "    \"\"\"Create Document objects from text chunks.\"\"\"\n",
        "    documents = [\n",
        "        Document(page_content=text.page_content, metadata={\"source\": source_name}) for text in texts\n",
        "    ]\n",
        "    return documents\n",
        "\n",
        "def generate_unique_ids(num_ids):\n",
        "    \"\"\"Generate a list of unique UUIDs.\"\"\"\n",
        "    return [str(uuid4()) for _ in range(num_ids)]\n",
        "\n",
        "def add_documents_to_vector_store(vector_store, documents, uuids):\n",
        "    \"\"\"Add documents with unique IDs to the vector store.\"\"\"\n",
        "    print(vector_store.add_documents(documents=documents, ids=uuids))\n"
      ],
      "metadata": {
        "id": "x22e5lUM37Ua"
      },
      "execution_count": null,
      "outputs": []
    },
    {
      "cell_type": "markdown",
      "source": [
        "### Ingestão PPC 2018"
      ],
      "metadata": {
        "id": "IfNnPztadzzW"
      }
    },
    {
      "cell_type": "code",
      "source": [
        "# file_path = \"data/ppc_2018.md\"\n",
        "# text = load_documents(file_path)\n",
        "# chunks = split_documents_into_chunks(text)\n",
        "# documents = create_documents_from_chunks(chunks, source_name=\"ppc2018.md\")\n"
      ],
      "metadata": {
        "id": "7gInOc3L6v8N"
      },
      "execution_count": null,
      "outputs": []
    },
    {
      "cell_type": "code",
      "source": [
        "uuids = generate_unique_ids(len(ppc_2018_chunks))\n",
        "add_documents_to_vector_store(vector_store, ppc_2018_chunks, uuids)"
      ],
      "metadata": {
        "colab": {
          "base_uri": "https://localhost:8080/"
        },
        "id": "6Cg5qTQ_8YsK",
        "outputId": "df2164b5-56d7-4a81-f5e1-1afb3f152410"
      },
      "execution_count": null,
      "outputs": [
        {
          "output_type": "stream",
          "name": "stdout",
          "text": [
            "['a50d3435-ebee-456f-9543-3421a4ebb2fe', 'c5c29264-9251-486a-bbee-1615595d8a04', '1f9cc19c-17f9-4b73-96cc-d64c31fbd175', '0dab9f53-a830-4c7d-a086-9a6c6296fc28', '30956b4c-5811-47e8-8ac0-979403c911e9', 'edcca4ed-de15-44ea-a7a4-00ade11c8603', '00147062-e83e-433e-b5e2-8d2e30c11aa6', '0715f5dc-c81c-4d90-96a8-dc770fc1dce4', 'aab5caad-746d-4e87-a1d5-6288106159a4', '41a25be7-d85f-4889-a107-63c795b9fa11', 'b7f5f55f-26f2-442a-9c61-a547f7b55976', 'b246afb3-50d2-42f7-a8f5-75904259ad55', 'e0f19a8d-7cba-4ee8-bb58-f57083661426', '227ee6b8-426f-4a84-b04d-8ed30b003d0c', 'c033e10e-2c09-4874-8f76-361466c9903e', '0ed657b3-0b36-4509-8408-ab9ea15e87a7', '484eda7a-e3b0-4063-ade8-f2a50014cef5', 'b7971593-5fa0-47c1-940d-df5dc5865d66', 'f88f9e72-c04f-410d-8822-06fbcc024e79', 'dc396e37-999f-4bcb-882a-02d701c59494', '1485f263-7ae3-449c-b0ea-01d4547d1c96', '57c86807-ad44-4cf1-9c37-168d8bd44bad', '9c6841bf-3f32-4f3a-8735-ab9e4bd01c76', 'ac80a4d3-32bb-4232-8846-9905512a6196', 'e8a703f4-52f9-43fd-ba7a-54bc2cbb26a0', '7327dba1-c417-4e47-870a-91b987c1ce18', 'b1f2921c-3d2d-46e4-b5fd-6da674420cf4', '14e6544a-2f03-4af5-b468-c823a59944e4', 'cebf911f-1fe5-4b18-b2fd-9111e92cb849', '68a991b6-0d0e-4471-aae9-d88d35b46b08', '4f74babc-cfbd-4362-a974-f0ea1b13e165', '348f9b2c-ea64-4a71-bc0d-b6e24e828a9a', 'db5eb507-a750-4bd3-876f-165d3387ca15', '07a2e03f-a1c1-4d7e-ab63-b1dc515f7019', '14f8c280-2abe-4e53-b423-a1f6588013a7', 'e42ebe06-3900-4a67-9759-5295622e6099', '5514ffa8-8dea-4165-b08b-483120e3d704', '4778f548-a48e-4b2b-b46f-d63ede410d18', '97aaf369-ff59-4f53-866b-1e53a20aaee7', '0de8724a-5fee-4b1a-b4c6-25a287364b2e', '460fced5-5a5f-4567-adc8-acec546854ac', '5defbacf-c068-4061-8bfe-9af292b0681a', '449a6fb9-8290-4ac3-8ca3-1f3b0e49d9a4', 'c07beed9-2af7-4f7b-a84f-f18376392f1e', '9228ffcb-54f4-48b9-b066-bf4510ee3142', '5e96519e-d7ff-421c-a102-47df1c314f6c', '89c08814-188d-4c97-8d6c-f43b77c41fa6', '97c3d05a-13e8-4d12-ab9d-5adeeb3a74f2', '2668cb77-e2ed-4237-87b2-3b25b32ab37d', '77cb212e-1fb4-481f-bea5-ad7f4b56bd7f', '0c20250d-9a99-4434-8088-08351f4c64ce', '7052a57b-2b39-4e7f-98c6-249cc5ffe5fc', '837b1b10-21e2-4be1-abd7-61f1a3e846cb', '2dae20e0-a856-41a0-9f70-5003f8ab0f53', '79197f5d-5024-4983-97b7-ed0a5baf7874', '92a46043-ebdc-41a1-ab69-2bf2aec2bf2a', 'd1a657d7-992a-49c4-8138-6bcb802e677b', 'eddc7d9e-2a04-4c8e-b649-0cddf560ebf5', '50dc2ecd-00c5-4a3b-92b6-28695b3dcbca', '4feed65a-ec4f-4727-ae44-0db73d64c5fe', '973edb53-5a40-4192-bbee-f962bb25fad6', '4768eeff-cf24-4570-b950-e998f560c8e8', 'b736d957-ba5d-4c4a-8479-d34be80bf517', '174ca517-b700-4b5d-b24d-b48a1b191863', 'd89f4810-6164-41f1-a081-3bd61790dae6', '339d66cf-39ae-4e30-ba93-4e2060f94991', '07228322-dc50-4053-83e6-26dae21b324e', '3bf82621-7bf3-4bf6-bed0-92b72b0d23a6', '70f4a079-4ebf-4752-8371-5d9108c9696f', '08b0bde3-37da-4230-8c41-d54d7f749fbd', '423682f1-8d67-4266-a002-c45570ac9f76', '80211a30-2beb-40ae-b27a-39e4f26936f6', '26ab44cf-6418-4a78-bc7e-92703db45d9f', '0c5a0989-82a6-4442-905e-1e960f222e46', '9a957fe3-bee7-4bfe-91c0-ac038403b2b6', '8c07a37c-d28c-456d-985a-8d75c0d5f38c', '80f6a9bb-4a24-4689-a816-9fed30fcd5b5', '2982b43c-775c-4903-b362-ecb8f5014ea6', '270a090a-9f86-48aa-ad85-c958559569bb', '5d910076-935f-465b-84a4-7e67b6727dd5', '2a1fdc8b-a1e9-4530-ab5c-e8da92e0fb52', 'ae3cbe38-a779-4424-9ef8-0fcb0fb0eb19', '280a1b59-eec3-4027-b6e3-0fb7a92ec372', 'b0a449cf-14a7-4e91-8e51-f07c59795613', '8f1de0f8-92df-4a31-b153-547cb5a75382', 'efb2f6c3-3bef-4880-aa1e-c9316557be07', '2feec9f7-f2fa-4595-9364-3d4ca524c08e', '451d524d-9d1d-4877-a92b-6e1933ad76c1', '087b391f-60b9-4a94-bafe-f5f7ebdb138a', 'd40e58b3-7cc2-456e-ba5a-c4fbf99c0c48', '53a513c4-adcf-4259-8049-e67a78970728', '3ea8ece2-e605-48c2-a8ef-291d7a8f9910', 'ca1d8f18-0985-4e9d-898d-2d777e345df1', 'cfa0701c-1c03-4c00-b4eb-abf001381a6f', 'a9b8a97e-9a70-4b56-9784-ca89441131fc', '8e0a0ac6-67a1-4bf6-b9f8-7c388d40fbb0', 'c077f770-8e6b-4905-bdbb-a61993367d81', '80e25d67-0ab3-4c4b-bdf6-77c2b288aa11', '38ca2661-df59-4b76-a85b-89438e1aa0c8', 'e0f2dfc3-dcc1-40f5-9471-93aad2598876', 'f262cac0-fadb-437b-8cf4-6411e31ab3f8', '67422bae-bbb9-41de-9f9a-58be7ff6777b', '93d97b5d-f529-4343-851f-4ac925b4f2db', '5a180c09-7153-4668-9270-8d392934dd27', '3a649879-7c73-4f73-aa9e-5fe3f633f72d', '3f36dc11-36a5-4f4f-a745-964ee21b8c2c', '60956c0b-5aa5-4f27-b320-04147a487e31', 'f81a03b2-53fa-48be-a0a1-8414a5d37cde', '60137359-20b1-4d30-9f24-87642ee5f24d', 'bf0afd38-127b-4f56-af9a-68231ee6b351', 'e327c946-6402-4d15-90f8-5da8ed6e788f', '5051d2f7-cddd-4b51-ae37-8d84b662dbc6', '9f715dd0-6ca3-48ff-a63d-a80463bcbd66', '9eca902b-f37b-4ea1-a8d4-e7329eb78a9e', '3781a389-7eea-4b68-bfbc-53049e03e7ef', '77bc3b91-e32f-45d5-b946-036532c7b629', 'cb0e09d7-ad14-4a25-ad82-286236027b45', '2702fec0-fd48-42ea-af38-c77801d8a101', 'e95ccb28-6b7b-4a87-b62a-973ce59714aa', '46099832-f749-4cd2-9aea-e60817eedf55', '4c2cfc8b-c3e6-4431-a344-672cf43e35c0', 'feef5598-4df0-4e78-828f-620e53c1725c', '041b91f9-2782-452e-bcc3-d12f4d005e4f', 'c144536e-3b52-47e7-9094-238a454ebc9f', '76ffa683-690b-4211-b57b-ab445d5b34e5', 'a02e8adb-57e7-4a3b-b2a8-e6fc31ca9fe9', '68c6d0a5-6777-45b4-91d5-bb3309d264ff', '8301e723-7056-407f-914a-5050f977ce21', 'c301f3c9-72f1-4736-bbcc-ac7798a6b08d', '0152a439-f763-4098-9f24-42128d1b3fc8', 'd09152d1-7e13-42ac-b281-c1741caa0b42', 'a12ef2b4-9c36-40ac-82c2-593255b87814', '212d6c3b-c0e6-4d92-a751-da43854e6dde', 'a36e8758-175a-43c2-986d-59b584fe51f3', '328e9421-cd1e-4a40-9919-047f099a1659', '5934be7a-a369-4ef6-9624-4aafc5ac786c', '7c0f6843-fbbb-408e-9a73-b2e07d4c8f95', '5d9d2ecb-d8c4-492b-ab24-ad3df7b246f2', '3145fe5f-ce44-4a08-a9be-7755b3caff39', '4dff331f-0a06-4c96-85a4-f3f8802c8b2d', 'a0c5185e-c3c9-4762-a76e-2f85462e9c0c', '6c810b0c-c0f9-4790-86b0-5db5872681f9', '38abb274-5336-416a-89fa-65811c580bc7', '5cc3b596-40a2-44be-913d-c26d52e75478', '82ab13fa-3b12-4a2d-948c-fe47620cda67', '82c9dbf6-0378-4653-81d1-c8e4a695584b', '3046a0e4-f14a-46b2-a8bf-54b032cff7d2', 'b52c12d8-b41d-48c3-8e2e-0769e573f37b', '412e8c9b-f0c7-4ca0-b7ce-9a10fa37adc7', 'd972ae03-b192-429c-9e0d-b49828e0e9fa', '4a268b93-489e-4620-a1c1-af09e1bab8af', '21b10aab-60da-4e6d-8433-b6ce11f1cb20', 'b8671592-3cc5-46c0-bcb5-e3f2aff1db64', 'f0f9a3ec-2174-4b96-9bc2-516aa6ae83e3', '6daf3932-fe36-4e47-920b-a95a417f86b3', 'f5ea30d3-f194-4ea1-9e64-aca170afd084', '73d2b9ee-3199-4d21-8c66-8e9fa18425ad', 'a5f5fc6a-8812-42ff-aec1-a28b7a2a7eba', '9b571bda-358e-4aa2-bc7c-9abe2bcc3899', '5fb0527c-25f7-4db7-b947-e0e827424d97', 'bbf427e1-d4e1-4da3-b5a6-6725bbbd2ae5', 'd74b5dba-bd6c-4f70-9be1-796da27b7991', 'a8ba1a65-0b0d-4574-a0b1-37b67bf322fc', '3bfff61e-2733-499a-9ecc-6c3b5b432a34', 'e85b0627-fce9-47ce-80b0-a4c3f5b693e9', 'f16abd8a-7579-47b2-b02c-c640c6ed3d1a', '3b7f3806-be02-4461-acc8-c0518529ac72', 'ceb9944a-8200-4b61-a50a-01c1edc8e927', '141f36a0-d219-4695-9320-bf386258466f', 'f43abde8-60cb-49e8-bc66-07406fc282d2', 'b8b9263b-96fa-4259-bdd0-b5b140a6ad38', '089a6cb2-ae2f-4255-9893-3bf9718b9825', 'e7df670b-319d-4ef3-9914-50e38f800203', '0cf2ef28-4d22-4441-94e1-a878ebf7cc31', 'e6ce43e3-7c4b-4718-a47c-82f03dcdbe5c', 'b2b42582-2e74-4b5b-9cda-e63e12e79cc7', '40a9d536-ca95-470e-9d8e-cfbf50b3a1a8', '8eae66ab-7b59-40dd-9842-937d30a5005c', '91874c9c-61f1-46a2-8fbb-bbdbc4ac3dad', 'd1debec2-0488-4f99-be31-1e9cbb8670a3', '0887a4f3-4f0f-4461-b51f-05d4ccb6bde8', '10e64434-40a8-489a-976a-27d6a58b9561', 'fdb08ed1-6ee2-4eb1-8fcd-ac3f0ae3cfb2', '8b2ebbc8-eaed-4d20-9b28-5007cf4852cd', 'a1e3a408-60a2-4276-ac1d-10dbabdfdbdd', 'e5f0a345-0192-47ba-a2b7-795cfd680572', '9158bfd6-c0fe-4ced-b996-da2a204840e6', '7c39acda-1bd9-41a0-b4f7-a06313d2604d', 'd840a5dc-56cf-4145-b3ea-66df9ec73d0c', '9b330c2a-fbd5-4695-9212-b125f20a3f04', '51b6ef4c-9f82-482f-b6c8-10ba3ab70cb4', '1720981c-b610-4911-b13c-c71d409874d3', '0942b12c-363f-4e4c-8ef0-f1ec025016ff', 'ba5e55e0-bfa4-45f8-bed0-447780797574', '43abe587-fb7b-42e8-ba72-db2c27482b0d', 'bfc18728-1e56-400f-a52a-3f475f027b2a', 'a92b5a19-29ef-46b2-a8f3-9e3f89d2757a', '1676fc54-2f85-4a02-b705-9210596a7ea4', 'f19ba5e4-9875-472f-84fc-f675896386aa', '4b907d6e-268f-4222-8fbb-6e67d78ed3bb', 'ca971356-782b-4eed-bb11-b09937acb98f', '5b19bdb8-6e42-4a51-a599-4edc6e3ce610', '0d630a3a-0796-4ff8-a918-a656d4924158', 'eee90e7e-644c-4650-8e63-d13d763984f1', '95f69df7-ef2a-4db3-80ee-80bfe3278d9a', 'fcbe98f6-ca9b-4994-955b-afa49e9a59be', '1d30f461-419a-44f1-885d-a7475c028083', '30cf6b24-ad42-4d7c-b9cb-14917081c612', '79b27914-fbd6-41bd-a505-eece1550db0c', 'd830b9e3-fb73-4eb5-8586-ba2cb22742eb', '658a3d1e-aebb-4b63-8c43-3f4c577869db', '17462363-33a1-402f-9a47-59aa035fb158', 'bf8e3bc5-9132-4cbf-afce-5b89be172032', '59589fa1-6cf5-4611-ba98-d308bd6adda2', '9aa38dab-0bb3-42d8-a441-0e5a76f16029', '55ac9c7c-45cc-40f2-8fd1-02e320266eef', 'f0032846-5198-4260-8ba4-51b7edf9385c', 'a360127a-8294-43ab-bbe9-ef7a67107465', '321dfe4e-9558-40cb-8b22-458bc4de3a70', 'd5ae952c-6660-48c9-a69e-bd65d22b17b8', 'db9ea618-79b3-475d-9306-84a9fe17128e', '00008fc1-aae7-47cc-bd92-d1d0ab121b9e', 'cda2eaae-5fa7-4f6d-98a6-ab8fcdee9904', '9164a253-aabc-483c-b493-a4aa7b56acf6', 'c9f0d8c9-264a-4153-88de-668cc83b3960', '08afd2e5-4cde-4953-9a4a-4fab02919250', 'bb6b5a00-50f1-479b-904d-43f6beac0957', 'da3b5ee8-cbb7-49ec-aff5-dfcfe2c15f13', 'baa6c0a1-0d83-456d-9671-611577b92752', '3b7c4563-69f9-41ac-963c-edbce2a0d934', 'eb076724-da30-4904-a3d5-4f7526dbc067', 'edb5dd8e-67f1-4d6f-8030-45d169755b10', '48f0b9fc-141d-4148-9326-3a097c2a50b2', '8e2772f2-91f1-4da6-bff9-85b2bcee72d9', 'ba08ccdc-320f-48bf-a88a-3e473ff7c03e', 'f7ee6402-a1d8-43ed-92a9-fc74e9b90f5c', 'c01c2bbd-cf55-400d-983e-5319ec39227e', '3a6f3c38-23f5-49bf-91f3-4e377fe99908', 'c98baabd-7c97-4ca8-b089-a4bd0757d5a3', 'dd3e4075-b15f-45c5-af42-5ffd19bb12a5', 'c100e605-1847-410c-81da-e9a4f06c4080', '96db9321-f506-4893-8461-fe4d6dd1a590', 'c8ee328a-5d63-4c2c-bd2d-6e2b5929d0c6', 'c3d9b4f0-c1ea-4f7c-8fa4-6978a42103f9', '86c2e868-1d5c-4c67-8f7b-010dc93b0e36', '4ed27aee-da84-4e99-bfa9-f16941f55b00', '0a1a2d7f-4136-43fe-a8c9-67c936d49277', 'acb0f653-2d37-4d45-81e1-e8d24f94cdb2', '41a9ce6e-9384-4319-8085-f3a3d1a56273', 'a33a1e1e-e92f-4745-b6dd-ce44ea9fd485', 'cc947889-7504-4868-a3cd-bf259ffdff07', 'f8fb6c8e-5416-4c56-a8dd-f1a462fbf11a', '519b6e9a-557c-4d5f-bbac-2fac660b6008', '4f9b74c8-18a6-49b1-bb9e-938fb0020e43', 'e83db733-0ca4-4785-8260-8c9cdd1fb1e0', '6fe79454-6ee1-4744-8be7-c55fd673089b', '6fb8f219-b782-4763-8343-84a6ec082f1b', 'de621326-e828-40b3-b8c9-97cfaea63004', '10bfdb81-ea9f-4c00-9ef5-a21821e4b1eb', '9759a801-d433-4f07-a75b-283143293724', '6c57d0e7-cae9-4a00-a578-e6a357e5ca69', '6742c531-4659-42c1-af61-6b9e0164c97f', '097137a3-8ec0-4d8d-b609-81cb19b72899', '2c1cddf7-b5c2-4985-9648-20e984d4b574', 'ddbd0da0-e33d-41e9-a125-4937e2da0fe2', '56ecf58d-62b2-4955-9328-cbf0c9ab60f4', 'bcf721f2-b8d0-418b-b7ea-e0d044ac6695', '3c533986-b132-4e1d-968c-d5d943085342', '68879a71-a7ae-4aad-8d94-56893e08db62', '33565b70-c5e2-47ff-99a9-2acc4000c7ea', '53522eee-af9a-4378-af47-b49b9c03de4e', '40fefada-ba69-4e96-b0ce-b317533bb462', '9e216e4c-6ae0-42e3-9c7d-6f95f5c4ec07', 'cb4f4a78-58b5-4d1a-b010-d51e99456ede', '259a6104-f377-4311-a629-9c254abfb596', '45752f7c-58f1-49a9-9296-4088218c0bb3', 'ba605e00-1317-451c-aa79-5c7be9565e55', '9a5d30be-0c5b-4d92-bc84-5c431a4cde50', '840d8c72-b944-41e4-bb3b-6b8f1ebd8be0', '3bc93b27-708b-4900-a1e3-f1b492646a76', '0fbd4b54-46eb-4893-9de7-7b0ab86f58e9', '8958cd8f-7308-4719-a734-10c882d7479b', 'b152d866-2112-482f-b6dd-285a824dca24', 'be9a78cb-4de3-41cb-9f25-dd45663b4bf3', '669063f8-ab91-4389-b24d-dbde32b51d0f', 'e6571012-3849-4277-a2fb-2d1e35ca11db', 'd515c394-8cab-4c22-bf7f-58a8932caa4e', '1c7d5f54-aa55-44bf-9842-0f5a9bb76828', '9dfa4a60-1e75-4a2c-bfbf-950810378ff6', '6ca178e3-972a-4a11-959e-78b38a839ecc', 'e25f5033-7485-4eae-9beb-bb85fbe829b1', 'c67dd95d-a2ab-488d-a14c-5895a06a0643', '843cb2dd-a1c2-497c-8421-dbbd9278f4ad', '401ebb90-1648-4b3c-b9b1-7e0e70f144ff', '4ecfad51-4632-41a0-866c-b1d1e0f2ad19', 'd9a5a1e4-037c-47d7-990b-36de3d461695', 'c8a405db-685b-41d5-830b-552aff7220e1', 'c0981664-ab01-40f0-afda-0da04e0fc048', '252cf9d0-1edc-417d-b159-4b75bd8f4839', 'e274c834-2749-43e0-a44b-3cdb16695d6d', '709f16c4-f54d-4a1d-b963-bb945cead219', '3e18773e-6024-4928-97e2-63ad14478db3', '017a417e-7ffa-43ae-83d9-d8474dc56b8d', '7fba59f5-e88e-4712-8c9d-199d4f47efee', '192f24a6-9b76-46be-b950-620af4a6b8f4', 'a458d0a5-b7b3-447e-bbec-e3af611b141e', 'fb55451e-5861-4263-b72d-25788114b21b', '1d4e4ead-0474-401c-8cac-e097c7a5eddf', '4af81b56-9160-4297-8b05-f020a96e1714', 'e2ed04a3-09e5-4b19-b405-9dab19561cd4', '31b19ba1-6cfe-4dd0-91ea-3e5ee7c29e6e', 'd788903a-a6fe-4e3d-a51d-95b3da6452e9', '0e18225d-ceed-4f26-a91f-3dc9ea7b4f89', 'be585fc4-7478-41d5-b997-6ff1cf766f4c', '7d3d4245-9fe3-4a2c-bc48-2bca371ff3b4', '34525c4d-b499-4009-bf08-41f393ec80da', 'e79ccc88-d600-4ebe-a063-020a6c925d95', '1f2e1953-7f2a-4796-b221-c0bb0f15a312', '64eee592-0637-4c9f-abee-649c8ef08983', '7769c9b0-4f4f-49a4-a326-7b73c6ee2330', '6aa6a6a8-d8eb-45b1-9e22-98db7396c439', '6c980502-a032-4ea6-9f42-98bb48934f13', 'ab24190b-39d5-4ab6-adf5-3ccba5bd43f8', '91d38e8d-c579-41ea-b7d1-be76c2cbc0a2', '775cd365-a445-4ad0-a0e2-295f4299dfe6', '6af0379f-45f2-4433-9715-7eb7f94e163e', 'a2d6d186-41c6-437f-a20b-8cc10b6ede58', 'e10d2ad7-6f2f-4180-9091-fd76f49eb3a8', 'e4406816-69f2-4ddb-8846-902e57d44185', 'f81f337d-9d71-49b8-bb41-916d2ac19b11', '0e0643a0-abb5-4857-9dfb-c3920dfe5305', '0d26f85c-c698-4e57-8084-8bb689e2bd38', '68654330-4641-4043-8936-24e986f9dda4', '290d7866-cf05-4890-aa41-119589f58a79', '9ff115fc-f565-4096-b806-c597771fa604', 'a5bc1043-2437-4ff2-8bab-48e79b32c98c', '7c86796c-f27f-4e2e-998c-39cbdfeb1ddd', 'f4b7bdb3-1680-46e7-8b8e-9c1fb0f29b5f', '772eb2d8-fcd9-4197-885b-52fd6dfaf65a', 'e1dd9d6c-e906-437e-9373-0a617555d86e', '0aa2d2aa-6a2a-4c77-af23-d4bee6824b7d', '6553e99a-88c1-4d15-8e93-1d28b0ee84bb', 'acfa56d3-2201-4bdc-a755-7a34eb751029', '012a967c-795b-4c15-8c59-69baa9fd3fa7', 'e160c84c-7f2a-420e-ba16-b3e8e36b4550', 'c2545aed-1a26-4c23-80b4-ae2492b9ba44', '607db309-62e7-4870-a49e-677755e53f72', 'e475da1c-c008-45ab-ad81-b766831104e5', 'cce03919-a124-499d-a51b-a07c6d6a3582', '315d89e8-ca62-4464-a52e-5b98e754a7fd', 'd94783fc-193d-41bf-b461-d83b75297272', '2ba22c78-ee95-4f69-a1c1-d807054b8553', 'c59f3bb2-dd1b-4816-ac57-b2d97d5ac5c0', '8f648a4c-cf3e-4ba6-b896-f91025ff2be4', '8cc32a6e-1d22-4c40-a84e-cbf4b4436e63', '670d7ced-036e-47a9-82c1-5941f09ab65b', '80d854df-4554-49b3-a1c0-d40f2037c43c', '522fa710-ffd4-4a8f-991f-e83f8f393fc6', '83800ef0-c854-4333-9678-e0cedd093009', '369db86d-9f8c-4963-9017-8625504b7d3b', '15af9ac4-8b60-4058-978f-c64b5b1b613d', '0f604bad-5c47-4618-90af-59709a827d27', '32b19820-917e-4a62-8d59-ff5367466a63', '86831aa8-b807-417a-9d94-6b2d531c940d', '61265e7b-6996-418a-8218-e7239b5bc953', 'f55a5240-c17e-438f-a2e8-d6f1689c1358', '415baf6d-07fe-4aa3-8a41-479aa4b11c31', '7c38ff9f-cdae-485e-bf82-047ff424bb8a', '7b4c8c70-2cd5-4422-818b-95b5262d2a3d', '6555a3d8-7274-4e8c-b0a5-41ed0c325a37', 'c908f5d0-4fe2-4556-af28-8b960da26570', 'ef3cec5c-e223-4389-9537-845dbab5477f', 'e2be5438-2e32-4596-bbff-d07e947faad6', '7edb9d26-f51d-4e21-84d8-f3c461988a12', '1a369fb3-72eb-47d5-bbee-bb03cec28115', '06e807da-b6ce-46e2-900a-212a001e5f8a', '7e5f977c-3678-4dba-b448-96a85de72a1f', 'd8d94123-aaf3-4bb9-b8d9-17a701446459', 'e6a70c38-c3a3-44f2-aead-7d42c26f8845', '65967ec7-48ac-4c40-86e9-820e73db9eea', 'c2ce6ee5-1b4b-4e9a-8a2a-8bd8e5552b4c', '758dedc8-f9fc-4e8a-89fe-9c2761f8661f', '0e8673a0-eb54-402d-a7ac-ff116a931fde', 'b40b0e32-fd42-4222-824d-9a23933786c0', '990e9946-7a12-4250-b451-a7ceff056ea8', '260df1de-910d-486c-b0ee-0ba1074c6ca5', '97d83d3b-5e77-46fe-abaa-856df3dc99fd', '771cfdc1-1b70-4afd-abab-102b2d532ddf', '83561e4d-7b36-40d4-968e-85f9dd79fb53', 'e604af64-e183-4805-82f4-e64fdce9f622', 'ad8eae90-edca-4fb0-a3f8-6457ebe1803f', '94bbe5a6-fc05-4975-a3b1-db795ec1c890', 'b246fe50-9ae3-42d8-b894-2eb0afdb7521', 'b4feba68-47b5-4361-b404-e169ca34d5fd', '1f320254-40e4-44c8-ad01-17efd18648fd', '32003965-3d43-4cf0-bbfb-bb52dbe3223c', '7dc4c20d-acb1-45c7-ab7d-f69f78380b0a', '727a5bf9-ee0d-4a8f-804f-8bf42d47b2a0', '47f4b6b0-9c0a-4c57-b9de-c1fd51ef76b1', '421dd3f3-101b-4a1c-90e4-6f60e1a8ed0b', '31da0d10-5cba-4f2d-b233-0d45bdec71c1', 'de2cd017-2352-4a10-90e8-64b42b6f44b2', 'ba5ba921-4716-441f-94b4-33000e9c28a7', '8169e824-b79c-4d9a-aee1-63d825d17d15', '6aa13959-6b1a-4008-8930-8ff810615762']\n"
          ]
        }
      ]
    },
    {
      "cell_type": "markdown",
      "source": [
        "### Ingestão PPC 2024"
      ],
      "metadata": {
        "id": "GKGmSbtkha6d"
      }
    },
    {
      "cell_type": "code",
      "source": [
        "# file_path = \"data/ppc_2024.md\"\n",
        "# text = load_documents(file_path)\n",
        "# chunks = split_documents_into_chunks(text)\n",
        "# documents = create_documents_from_chunks(chunks, source_name=\"ppc2024.md\")\n"
      ],
      "metadata": {
        "id": "VVAsx7d_fAWm"
      },
      "execution_count": null,
      "outputs": []
    },
    {
      "cell_type": "code",
      "source": [
        "uuids = generate_unique_ids(len(ppc_2024_chunks))\n",
        "add_documents_to_vector_store(vector_store, ppc_2024_chunks, uuids)"
      ],
      "metadata": {
        "colab": {
          "base_uri": "https://localhost:8080/"
        },
        "id": "68d8ooC1fAkW",
        "outputId": "5b430c87-81bb-46bb-804b-5125a5d12ef0"
      },
      "execution_count": null,
      "outputs": [
        {
          "output_type": "stream",
          "name": "stdout",
          "text": [
            "['e5d296ca-fd09-4870-978f-2b08ff183299', '3dc4f2ac-f546-47a5-a8b5-17d0e526e5d4', '6ccca382-52f0-4728-ae6a-60ecd6365a0c', '7c7615ef-37cc-471f-bddf-a73e58b08f71', '1f30205b-6fb8-4162-b7f3-b226cd734335', 'dfec970f-3c36-4e54-9082-d110cda4896e', '1f267775-4bfc-4994-8f24-4afec2ecb5db', 'f160dab6-765a-4da7-88ca-f11925744503', '4f558dbc-8a81-4f1d-8262-f570a4bc09af', '3b2b2ca1-dcbf-460e-b2f8-3c5396576f49', '65514912-0b23-457c-88d0-bed61a89c60e', 'cf6951d1-c39f-445f-bdff-27470061e0c5', '171c3535-e401-408f-97fb-930aaf7331a1', 'f437ddcd-f1cf-4d59-9152-b67759852cfe', '9fcb43ea-d712-46ca-87a1-7c0fa47f8ff3', 'a155ef54-57e0-4dc3-8f48-7402015e833d', 'fd3f8536-1265-446a-aa50-35f2f42f9341', 'a268736e-8372-483a-af2c-88bab9f356b0', 'f6979ad3-f9d5-4e83-b908-74a21926e4e9', '62e7335f-70cd-4b67-b45f-f89aca2e5216', 'a1bea5d8-3dd7-4dc0-9774-4578182eca80', 'c91d737d-16ce-4ae1-aa58-a465c31eee49', 'cbdaf028-2b50-4618-85f2-3ba078672d3d', '953451ee-d6b2-4eb3-ab5c-6d8424a1f6d8', '182614eb-6ad5-41e5-ad4f-96306103e598', '35b94140-4906-4ad2-acd0-dc330b18acb0', '2a18b1de-b310-485b-a8b8-59ef77a7bacb', 'ad707a3c-9b61-485e-a980-78787cc68d0b', '2a689237-dc28-418c-89b8-ad47e2fefad5', 'fbf6336b-3d1b-448e-b0d0-b667d2d6aa90', 'b48f28eb-5ed5-4c85-97a2-e4250b30dec1', 'fe985cd8-b0dc-46f7-80cc-29e59573ff51', 'fd39e4fd-7bed-4ead-abed-15240bab57d0', '5b05f654-f7a2-4066-8707-f2f935d7ad5f', 'b9a781a5-55fd-41c5-8285-8db4cccebaee', 'a2ca6c15-074c-47c1-ab3c-c73b3136422f', '100aa6a1-0f41-4b5c-8317-2bc70aeb3298', '32a29fd4-1329-4e85-a4f1-9752d168eed9', 'ad281e7c-e8c4-4a87-9e9e-94d33edd960a', '14289c16-a335-4caf-828c-29c855ca9320', 'd33dcade-9e86-4b7b-9c46-fde31864f2f5', '0feebe31-8199-4162-a476-8d8c04960db9', '09d92f17-f3fe-405c-86a8-30739097229b', 'c3a50380-f7b4-44ba-be30-4ca26c8d5f02', '8f53fcad-2744-4088-9986-d296ec5f7c48', '7c03dad6-3bae-4b04-9885-b50fef33b035', 'e18ddefd-8c16-4d8f-abf9-f810ea56c091', 'a3836e18-d639-485f-80ae-2e54638c087a', '7a0981f8-c981-49f2-a8ae-7b63bd42a001', '7d62b0bf-9955-44c8-9bb5-313e0886e86b', '78903758-d1b6-4dca-af2b-246e8d3f5e87', '2c4cbe16-88dc-422e-bb19-e7d84a06f252', '73bd227b-8db4-40eb-b4d6-b5e305728051', '08caab53-ce70-40f3-8bea-b3c939ffb5a1', 'a93bccd0-cbc5-4ea8-ba68-e240fad235d0', '7427a89c-c176-4e6b-a1f1-9867933fd441', '190206d0-a209-421e-8182-67a55f4f91a3', '9380ad90-a8a9-48aa-9b2a-4a047e90ac2a', '8958c1ec-d21f-4e6e-a4f6-c550f65413da', '0d9fa5ad-7af7-4db0-8ffe-0f353708675a', 'b195c67a-a64f-4cae-a52a-b76299ad6a48', 'f2317e16-9c85-4a0f-a8dc-6cdc88d112c3', 'f5245cc1-7ff3-45b8-9837-72a5cc84f4e9', 'e9e77ada-a7f8-4a4f-bed6-2223cd98f04d', '17b2f848-9205-4d9f-8d42-aa387560d14f', '67b5b943-24f7-4320-ba25-21cfcf53d396', '1fb11e25-01a4-4d6b-9594-9fd08db2d997', '0be098cb-2d8e-4392-8e9a-fae1c790d072', 'aaf59dfd-9ce1-46d5-be53-f6be943851dc', '9277b806-79cb-4ef2-859a-e42cf77b41d5', 'f1be71c6-1d95-4ee1-8cd1-ac8485614f7e', 'eae7e3a3-4e1c-46ed-9f47-9a1928b8eff6', '5e516478-86fc-4c30-bb3d-2c6060672df9', 'b4c7730d-94c0-42c9-a98a-bd6ab4d50579', '4df657cd-d96e-466c-b268-afee9f3e8f12', '4b934d13-be56-4be3-a3b1-0b3a72fdcd4e', '401f45cc-d2b9-4be5-a87f-97bbd47620b9', '0881348f-fdb6-4e8d-bb76-ccbdadc7a39d', '054476a2-cee2-4735-8267-28dadcc225bd', 'b560e1b8-c165-460b-b95b-467ec9711398', 'b7829f5a-ec11-466a-86db-70dd7237e538', '8aa950a2-b88d-434a-a0f8-d096e21ab226', '9eb11425-c740-4860-a269-b9392be6fd3a', '252810e4-6452-4e3a-90c8-5eb8a7bdb2df', 'b3065949-3831-4c48-9325-5b0d1b8347b6', '3838b0db-9942-433f-b198-cc9decb4ea7b', 'e7a8e9d0-709f-4499-a391-492a760a63d5', '731eb96a-2c40-4be6-a921-674b6e20b422', 'c11194e1-0bbc-42b6-ab51-2436dd4ff82e', '85d3dc22-c586-4e59-af29-d1d98073959c', 'df8e0fe0-b0d1-407e-a835-c34c17492662', 'f2189866-ba6c-41b7-9cc2-add7e131c7d0', 'f71e9c7d-e820-49e1-baf7-12c4ff6f1704', '09ad12e9-1718-4e7d-b3de-287f52e6e8cf', 'c4fbd2da-d42b-4048-a03b-cea690bad8b3', 'c4e62761-2829-4cda-9b61-c9ce55c732ea', 'f4255b98-ea46-4320-840f-2cc640c34adf', '453e42da-82b2-4e21-be6f-e0f00fe58525', '4eafdef5-8630-4902-9208-d9ff2b3905df', '48786a0f-5910-41a3-82a9-7ba6d56b3228', 'b05dfbe0-52ee-4398-bc6e-a5c01f26ca63', '826fbc9e-a8a0-4303-aa4a-df4a307d2fd5', 'ae2e9d75-af61-45ba-9ab3-9339edce9dab', 'fccac239-0250-4846-a45f-a92e8cb59120', 'ffe058fd-0b67-4472-8183-9913964a115b', '00ba1ccf-3bda-40c5-9c25-e00438294b18', '9f236a69-821a-4275-b150-960356158e27', '7a71e466-babc-4062-b759-fcf4b83b9cd2', 'eeb48699-0511-4deb-bbda-932a1d62e4af', 'ddf332a8-9fa4-4eb8-be39-e62aa47c590b', '08c142d9-6de3-45fc-b849-cdd7d22e93aa', 'ea66186a-9afc-4208-832e-dbe5f16331b9', 'de463e7d-6b3a-4869-9374-511f638ca13d', 'c95081de-54ba-435c-86e2-0af36bd30bc8', 'abdafdee-8571-476c-aa6c-e5c549fc0996', '99d4fad2-75db-4791-b095-60c45fc9ae62', 'c1bbbe41-fe6d-46b6-8d31-f8924def15ab', '6dc293b6-f488-405e-8d8d-e506df680a9a', 'bfa51764-11bc-4971-bdcb-e72e91893802', 'bbd367b9-289f-4864-89b5-013af52c9f91', 'c02811b4-0452-42ea-ac69-aa178b3d55d8', '89fa766d-1b0a-4dcd-b554-9fe3eace3ccc', '3d492e5b-9cd3-456c-85ea-720efae2a5a0', 'ab49bdd7-77c6-48ce-9893-b6ca14258cbb', '1eca16c8-c47a-40e0-b772-a751c49c9730', 'ae6abef4-6226-437d-a4ed-a0deec5e189a', '199d6d7c-6d0d-46c5-83d9-265f8da41a95', 'a1470f7a-3fb6-4ae9-a38c-b22b8ad2c5f5', '5cb29b43-4e58-419a-8320-ba984e7078c9', '1fde80a3-436e-4d01-a804-01eebb01d741', '7627cbfe-853c-4a1a-a14b-f66f1b066ab0', '719718a4-f612-43dd-aae4-633f60603b95', '18dad5bf-a8ad-47bb-bfbd-8052a60041ac', '20d98480-07a1-4a6a-b1ea-6c55496b74d0', '98a98376-bc22-420e-8fb2-0c4872cbb0e7', '44d12de6-f606-43dd-9066-67a07f5f451e', '93859249-a81c-492f-b2cf-fd941d32eeb6', '70978386-44ef-4fce-bac2-d53231cba69e', '696d2807-d782-47aa-bb20-1343f6f12d11', 'f553cc53-2547-4f99-b6ca-18a3c4161726', 'a2bbc3ab-63f5-41d5-ab06-a08a4481d07a', 'c43336d2-3ef4-43db-aebf-720c201c1a0d', '195e6c6f-632e-41f4-9d09-4528e0edc4f1', '3b85b5ac-ad1b-4e52-91ee-a6a727057525', '54696109-b062-4fb0-9206-02738afacfd7', '9ba84774-34ee-43f9-bfc2-4e86ba5d6223', '39d3ec2e-2bec-4a5e-936a-3c989fa8e08a', '470e23a2-3c4d-4aa0-a5ab-4e2db6137c22', 'e5cffe5c-83c6-46c2-8df5-c51722447f4d', '65dfa74f-31d5-485b-a5b8-a2a1c673ab11', '580e5a78-b912-4ea3-bb58-10885bc0e839', '3568617f-74e5-462a-9905-214e09f7ac9a', '616206c7-74f5-4909-bfc7-8a6ded9b9848', '9c619000-afb6-455c-8930-4c2812c4f496', 'a8a183bd-4f17-4785-9ecb-9bb02b8daf5a', 'fbcd32f6-7cf2-4b81-9b51-edab03dd92ac', '47a5d180-207a-4260-b846-cae333b2cf91', '55cb0a08-a6c8-4b4a-bcce-c4234b107bfd', 'afab16e5-b44c-4cd1-97ce-a361803926f2', '4871ea9d-4159-47c0-8d3a-b1ea4aa24b9e', '47d9cd87-9eea-45ce-bfc9-121a829daee5', '0c138281-1ba6-4e62-a623-0a069d9d2a9b', '1bdc12dc-eac7-4d9d-904f-19c39dbddf06', '931b95eb-4992-498a-8b52-639e469d1d08', '746862bf-2716-450f-8e2c-9bb41919ebb8', 'a6c17ecb-6e6a-4c65-adcc-32abfbbc1376', '8e991028-7b94-435f-a6e3-286c0abfa7e5', '55d5fda9-be17-45a8-98a1-a6f6639a4685', '9ea26290-d71a-47db-ad2b-c16bfad62de2', '5208dc16-73e1-4a10-b008-98e332d0a1fc', '8b7a78a6-02ff-4130-8a93-2263f7fdb8da', '445889a2-820c-49c0-be5b-e8442d5aa932', '7d9f65ba-8bfa-48ae-8330-69c9f35e536d', '14a386bd-6ae6-4020-a82f-77d8cef35eb1', '60483c6a-f654-4427-9a3e-cb7d0802d5e6', '751022b6-f65c-4b6d-911d-8aea8929069e', '6f08952d-4b83-4897-9bec-be44a3f17eee', '34e2cc50-5830-4ec5-84bc-f0da9283da1b', '9d251f19-2055-4408-ac7e-88a2bdbc2016', '67d91581-684d-43dd-9401-5902bae6f66e', '4316dea2-9e6d-4e48-be7d-965a26b77ab9', '7c63039e-8ae2-4f1f-94dd-44dd605201b0', '93bb24ab-1054-4e53-8def-2ba92a70b2f4', '3a85b3bb-9ae5-492f-9963-ba88f1587ca6', '1686c502-6a73-43a7-82ca-1fb8942fab1f', 'dbce9799-60c8-4286-9cad-96d756e0a6a6', '86cba0b8-e2d4-4fb9-90db-e8aaf224bb09', '8889e84c-1dd9-4153-bd4b-d7d421370478', 'c18b5ac4-c5dd-40fd-b829-ded147c3045a', 'f8598e2f-68e6-49ac-93b4-d54e1368ba70', '2fb0c3ac-1d91-4bfe-9883-bc2e80864c4f', '470e2be2-f87c-4a93-9974-674e22c3139a', 'a179ec43-a807-4da5-ba53-80eb1da7877d', '5203e6f6-5697-479b-ac5e-c94cd2bdfb42', '3f040189-24b0-4d04-98b8-0524dd974582', 'd2fb0e25-0d1e-4451-9e22-bbd68da46ada', '4e9fa786-39c5-46c9-b3ff-6bdf07901157', '2a289df3-4120-4548-a6dc-148881461217', '2a86def6-f575-4f3e-98d5-5a4194f8ce13', '5863d837-5f97-4593-81d5-d9e80b65a7d5', '76d52533-982f-4a6c-825d-2a9db45684ed', 'f87eac69-e56e-49b4-98de-8ee6e741c81c', '018af667-a6de-4d4e-addb-c21fb64e0730', 'c3a164b5-df26-4c2a-a4e0-701e2af48f8e', 'e4fd6b65-8b8f-4294-98d9-dcecbfa62802', '111961bb-87a5-4358-a299-2e45e9f16d60', '4419907d-e241-407b-b0ec-f36c2e71509a', '19564e7d-0f2e-4abb-b45d-bf3296ceb7dc', 'b6db31a4-c7e9-49e0-b633-4ced752e2ba7', '8521e820-03ce-4c38-9d3e-0fde36bb260a', 'ec31645b-bd30-49b9-8241-fb7fef4fdd59', 'd4b044c7-a03e-463d-80b7-eca9ac7e9fc2', '52b4a5c2-2920-4aec-b03a-7bf53580f6d9', '70bae6dd-4c49-4205-afe5-5544ae8e8c5e', 'b0644c27-379d-46d3-ad7a-3ee8aeca0989', 'f5071800-8aee-4218-b56b-38dda6d8cf60', 'c96bdd3b-6b18-4b07-85ff-fd2b253f8073', 'e7add843-f136-44af-bc42-9030144cb46c', '0f6362f8-7023-490a-a960-254e8ea0e7ae', '47e6c80c-aa89-4ec2-8dfd-4f1abd5cc990', '6eb28034-e973-4671-ba3d-613cdfdab1d6', 'fc00d1ef-b0be-4ce1-91ed-fdd2fb70e592', '220ab5e3-2818-488f-aabb-be577fa92397', '668a594e-3180-4f3e-8421-0cdf3255129f', 'b8f3164c-7883-4fb4-a3d0-5700b726cd95', '1ad937dc-9d10-487e-abbd-fb78826c7632', '94bd95c4-f12e-44c4-bec2-5bf0a1246848', 'f9e5e58f-a95d-45f0-8237-395e310615a1', 'aacbc6c4-e70f-410b-87b1-8e7126c8beb6', 'e94f713b-055a-4f1e-beb1-2a2ebbbe25f6', '532d4f2b-8a98-4242-9ab6-390be256dde8', '3cf1c44e-15c1-48e0-bc05-5bb99dbad8a4', '6647234d-0726-4d7d-81ce-e2e3c74eb6f9', '25d6eecd-b761-4c9b-8462-1e92c26b47f2', 'b7de2319-51ac-4415-acbc-3cadad56d71a', '88b2b437-a36e-42d7-8879-8c68e4d3bd3b', 'cb714505-15c2-4679-b171-ad4c24877105', '5b5183e8-d3d6-4a4c-98b7-bdb002b33978', '08eff3d0-c775-47cf-b79d-3aee813e2f6e', 'd9f3f552-ec31-49fa-8172-6fd2e46bac49', 'bd1079ef-d860-4717-8d3a-5d745e32914f', '35033f66-825b-4db8-aa9f-a7c157cca7b2', '4017ef0c-b4dc-4dcd-a2e6-9742d20ab096', 'b402cb8c-d14c-4d5f-966c-65fe30f12ffb', '0d92c282-67f6-4b74-a00a-35f0acd14cbb', 'ff262740-2e04-4562-b27b-f7914bae8607', 'a83f42be-93d6-45dd-a811-d08fca470765', '2d8dbe95-a279-493c-ab78-93b662426a8d', '0afeb792-ad57-4ef9-a8a0-46fd4d941966', '8ae48a6e-6f22-4652-bf2e-4bd40c9d4bcf', 'd06c7e1b-c9d7-4de5-b70a-1ae24e0899eb', '9549bd97-7feb-4519-9277-78c3b8c72476', 'd3aae5de-daf5-4b8a-812b-15174f9e9421', '4a257f0e-14b1-45ab-bcf5-10f6c9d256e8', '6518f322-6259-4801-880e-a025e500ae75', '2feddb6e-b471-4841-b345-8562d859b017', 'f99b9f20-b01e-4ab7-a9e7-2be7720f41a7', 'faf96389-c992-40d5-8ed7-8b526f16bed3', 'aff05176-b513-44db-925c-e70057838e91', '16172ab1-86c6-4a39-8f5a-7908db6c692c', 'dab5f461-a5f2-4d5b-b0df-837194a0514c', '385787d4-0a29-4fbc-af3d-0e8a6700957f', '9c921944-3a26-4108-a88b-73d2a12ed866', 'ced8dcec-2dea-4ff4-8178-5f2e54b4eafe', 'dda85723-6c66-4879-be7b-59646ee0dc52', '00cadac5-6ed7-40ee-8062-94491cc59826', 'b9758d37-134d-4b9d-b043-d9483dc0cd60', '9f888905-3b29-4840-8c13-c2281c93da73', 'ac7ee758-8dd0-4d4f-a467-ba0a5c031881', '352ef4d8-5848-426d-b158-217d4fe6041d', 'd9c0bf8c-cce2-4c11-904e-4fb82234c4aa', '070547aa-7959-43a4-8cac-d7a908a10a2d', '8fcd0f12-d553-4a05-80fb-cffbe3e5af1b', 'f31ca88c-f385-46bd-91a9-c88b5bbb583f', 'ce11448b-88a9-44fb-8f71-647790445684', '5259e3db-1a62-4149-a1e0-8d65bc220452', 'c6457ac5-1084-4868-88dc-7511301ef470', '2184df34-ddc5-4c46-acd1-9e49b5be23d8', '5bb6edeb-38f8-4a32-92cb-3949ddeb32e5', '25e68dbf-e6d9-4d13-b894-ee972521be2a', '492d4945-2bd3-4307-8993-00f1453c1622', '7db8be2e-ccaf-4f2e-bc67-5683cedf127e', 'ad43dce8-04e4-4fe6-b76c-7a749834eafd', '35e5e596-98ba-4ef2-8f5f-daae741eefdc', '32ab3d01-d19c-435e-b962-f719a3b65285', '86789ce5-d71e-4f04-bab5-8b0f19cbde40', 'de1252ff-f44c-4ac8-ad7e-bfb3f0bb3bda', 'e5f1494f-c7f6-40fa-a754-daf8192e5f2e', '3c469baf-2a0d-4cde-b343-f91740b36856', '78b6c7d9-fe62-4848-a5c0-26f617a9c7e9', 'a88a8de5-ff05-45a2-bf0d-7c9d5e1d5206', '5edeedfb-40be-41c1-a37a-245fd9931e37', '5a565c18-4b3f-4e6f-acc1-6f95f2ccda8e', '9e9b1399-b728-4c96-839e-0d0dc1a43a95', '21c46188-2f8d-487f-ac62-83afdc29a40c', '5ef3744e-8d3a-45b9-bed8-c36ce367b0f5', 'f5f83f7b-0249-4499-bf27-31d8bd9ac3fd', 'b7acaed2-b9bb-4582-8114-ce526de2dea0', 'b8ee045c-b991-4b1f-9509-1f52322eac90', '9c869cfa-027d-4e2b-9e62-686ba1d30247', 'a86f7dd9-6062-4998-86bf-975c6f69580f', '515f6707-cd2e-4789-822b-85a802e4c9f8', 'fb2895f1-4457-425d-8a70-057cea28e7a8', '81776c24-c144-428e-b7eb-07b2183f19be', 'a8af991d-b83d-4157-83e5-fd53edd7190e', '7637a1d0-33dd-47e4-a6ae-981711dcd54b', '7cf7d3b3-2686-46bc-aee0-dc0f75f0907a', 'c108cd18-c756-4895-b880-b336bdd1d910', '48c117f5-d44c-4f0b-8990-9d294a68672d', '53283ef4-155b-4dcc-8107-ed8c49ec877f', '4c6265a6-4fc1-4ee8-9364-47cb26de6301', 'c68161d6-7f27-4de4-9b16-ce4900a96df9', '03740127-4df5-4e58-9323-d68e62f2d686', 'f0cf6bfc-dd86-45aa-8486-2f0db5b95354', '09074f8d-bd90-4160-9fe5-a3e849edc375', '867834d8-582d-471b-934c-c6c2cac2ff22', '517ee442-efaa-4bd1-b6d9-bd8e37027390', '95b060e4-aa7a-41b8-8dc6-a15624bf1b79', '78f0ce1a-0aab-4121-8513-8d4c2144caec', '631ffa78-7d30-4ce5-894d-48d6f960a4f3', 'e55ccbed-33b0-4bc9-81dc-01111021dc30', '0b36f675-22ac-48e0-9b09-9501d882e471', 'ca9cb702-c5f6-46b9-93de-a38c98946b21', '52160261-b32b-4b69-b4ce-a28e7a8cbb51', '4b680d26-4c98-40e3-b02a-583ebbe381c1', 'de8b53a2-a747-41ee-824e-10bc00c5f317', 'aeb7addb-9f25-42e3-9e91-3b95d16927f2', '976bbc66-d587-445f-b2d3-b33117d913b7', '71a8e265-bf67-4614-ab9b-10f223fcfeaa', '56a2b1c8-6a88-448a-9c65-1d7eb2ba22c1', 'a3199307-fd12-4698-af92-d22ea05a21c5', '5530f033-64ce-4945-b687-eea9425688ab', 'c4f04dc8-ca27-4cba-84a5-c6ab85b6a342', '0c4f9028-ac6f-4d3c-94e7-97f6e5d4dbd0', 'fc156f90-b08d-408e-bc57-9427837ec88a', '74c82eba-a5e8-401b-87f4-939ff52fd650', '92cb2d56-532b-4c63-8d01-05546e03813e', '4c10f981-ef27-4893-ac49-4d59fe3d9136', 'd2af1544-2e71-4892-80f4-2bafd84708fe', 'c38b8536-ed05-4bec-9886-338771b99182', 'cb1c350e-a718-4891-aa9e-b6cf57cba21a', '859e2823-a7a2-4de6-8ac4-cb810a7d2873', '1924dfd9-22f0-4876-ae45-31f20654c965', '3e3b1812-f841-469d-8d7e-596ea4a1b5c6', 'e76baf2f-b1be-4035-b6ad-2a834a9e9150', '6b5cfe0c-add2-4655-b17b-78c3ec3c6a82', '1f020047-4fb4-4579-9862-822cd6bbb142', '9911ec94-4f73-4100-9253-372a714c7492', '73eb408b-5d56-4c54-831c-61a7c9528217', 'c488d55e-1c0c-40fc-b176-aa529032381c', '3ada1a11-ebae-4ac3-a912-2044ec9918ba', '375b193d-c9f9-44dd-bffa-1f78169e1b33', '4a92e088-87fd-4152-adf0-ad997b2b05ba', '8b76d480-0d0d-4734-9a1b-3666f4e93051', '2885d63e-796e-4495-b451-e0ee5a285043', '27d5582a-7d1f-4346-b1dc-f189d5fd75fe', 'bd10e8ec-ccbf-4484-8f2c-99bc61d3c2e3', '627807e2-1a0b-4cd5-a3ea-ea5977853e7b', 'd915d7ae-f9e8-44bf-855c-a26bdff0ca24', 'a4ed477e-2ae7-42b5-882b-43ba87080334', '75853f5b-7c96-465e-be84-0174dff60278', 'cddcc1b5-2944-4940-beeb-d72fead4c19f', '5b8f7318-b45b-4a95-bab9-05aa5ebd815a', 'e3fb7d1e-4258-4340-8f56-abd491542321', '7137cb1b-b02e-4db8-9b72-af9ffcc3b5a6', '489b1fa1-34c8-4856-946c-3648474ebe14', '12e0e861-dab0-424b-aff9-b00509caaf74', '90d020e8-d60a-409d-b709-97f39cb721d6', '05c3ec0b-757a-4e9b-9ed2-987491ab2a40', 'fe4af623-adfa-46c6-b9b2-6fddfd491103', 'f812b7bd-98ac-49a1-abd2-e063220a7dae', 'd1f2f979-b659-4a46-97af-5d319829745d', '74196f74-225b-463b-a692-8fb23761d3ff', '5ea3635f-9d90-4b8b-9e91-694486b90c3e', 'e0babbf0-f5e3-49e3-820c-47007a82490c', '24f45d1c-6d86-42fe-9ef8-c514e7338f19', 'c5fb9959-3f7f-4562-89a5-493b2d481bf7', 'bfaa02df-b546-4c2b-abbe-bf938b015873', 'da40f843-7c81-4ea2-8c75-43ad8fcb26e0', 'e68eeaf7-04d3-458f-9913-75b0e2f085ce', '73f005eb-1764-403c-8adb-6ea7446f725a', '3eaba8a0-56e5-4f3d-aa80-687feda843e0', '3aafda95-e8b2-4840-b526-6e09c31bf1a5', 'e9bd38a6-8757-4b9e-8303-84be9fd36c7e', 'dd431e81-659a-4e76-8be6-51a543303226', 'b25a5a4f-0296-4e11-85be-fbbeb1bb9b18', '28901749-ae4e-4f95-936a-5c188b1ca1cb', '42adc295-8e5e-48c4-89c1-41aafaa017c8', 'b0513c60-c74f-4fcf-afa6-254fa003d07b', 'cfb4659e-557b-4b37-a557-bc813f213c42', '03bf5e5f-6104-40dc-9d80-b676af6602ca', 'fd4c4d6d-f92e-4fde-8773-84ddf58b11ae', '625da63e-d808-428f-ad1f-dfc1eb98e2b0', '3e020752-4476-4afb-b67f-a8f035c5e53b', '00abbaa4-fc27-4c9a-8ef7-dff87aa126e2', '751d3a49-3e98-4627-b05e-a522dcdb2d0e', 'c53a6728-377e-4259-a354-00b0dcfc8829', 'ec04be96-d25f-419a-9262-8bfce54599ae', '3289c18f-1c06-441f-bd09-7419337fa86a', '434b27e0-0c4c-416f-9229-cd034bdb13a8', 'a2e43bdd-dd1c-409a-916f-a51e9cddffff', 'cc9ff085-5809-459a-b597-5b7a2eda0570', 'a01350d0-d31d-48b5-a98d-28ebfe06e2ee', '414472e1-60b7-4885-9c9e-049f9f286d82', 'a80fdeb4-a361-4721-81e5-52bf3c5b7a8f', '4eee6f2f-e051-4a15-a911-dc686f59aa79', '58d469dc-4296-4e28-9ddf-a15d6b2ebba6', '7c58a41a-56ef-418d-9373-9b23d487923d', '7b525cf1-c8d7-452e-a42c-0a9c8eab23a4', 'd78975d8-8cef-4329-89ad-6c0a97eaf1f4', '5709c53b-c22b-4bd3-abfa-881d8b330007', '0bc4f305-977b-4c5b-ae03-6de2598510f4', 'adb73d4a-e4a5-4415-9cff-e77b60fee920', '24a1548a-f986-48df-ab5a-5b9ba87e17fb', '9875acf8-d113-485f-915c-8e5145fe688a', '94d7de07-7d3b-4e9a-9a43-4c7c825c02b1', 'ab01fdf6-9c6c-401a-ad05-6c9c03d73dcb', '056779f2-bc39-484f-9a40-e54f650fd2c4', 'c9bc087f-5bc9-4bb4-8192-7463731fe138', 'f27cde23-35b5-4aa9-96c0-20b013582339', '785f61f6-444b-47e1-8a47-2c9513b7a3c9', '2028c875-2d54-47fd-bc51-8004fcdf3c1c', '2eeeb94f-8d0c-4dd9-a20e-960dc872317c', '9f460cc3-246d-4eb1-b005-38243a8a9620', '0dfb9812-32df-4c93-afa0-5fff6c1a622c', 'b1ff369a-649d-4ab2-9916-6b7ca81aded0', '37c7d7bf-8c70-4728-8a2d-96d671591cc1', '67134fef-fdf4-4b7c-bb14-c4209cd03ea6', '1c62ebdc-1a4e-4b9f-9987-178a505c4acd', '85aa96a0-007a-4918-a96e-57137bbb5e22', 'e3749790-a51c-454e-828b-d2ae500a4877', '029ed043-a6e5-41f3-aa2a-2c3fd4ab293b', 'f2638882-0837-4804-bcfa-6976b79ae968', '51addf21-0cb0-4562-8dc8-d1d8d659222b', '179c8d7b-74bf-4957-a69d-d9bdcfdca186', 'aeb9a930-e133-4813-88f0-2c736950be2f', '9f699d34-f44f-495f-9eb6-6ac8403ef3a0', '09109277-528f-4edc-88e8-53a5014448c0', '401b1c9d-96bf-4ef9-ade3-47b85787ca4c', 'f8fdcec0-3633-4903-98e2-3b102cbfa97c', 'a54643d4-2f6f-4eff-88ca-a1be279ecebf', 'be6edce4-8ad1-4bb6-8c02-0ff85dbfad6d', 'a8409d0b-9ce5-4f18-be4d-e4fea9b9e990', '084ee263-d562-4624-9202-56379a751234', 'db22ed61-963d-41c4-b1b4-0f646d95b291', '870c3e00-f9f9-465e-ae85-58f8ed62f33a', 'c80786d7-eedc-40b9-8558-54cb3426e817', '7f4604d9-4925-44bc-b834-e3d4561a6fff', 'dad44c7a-638b-4763-9e6b-61b4bdbe3dae', '495bfcc2-d49b-466c-b8c8-dd43c802f50d', '58941601-cd60-4499-90f7-2b3328bda02e', '1d494f4c-563f-46ae-b17f-353555a3f923', '63ff7e63-3995-4c2b-a4ac-050af4ae9f3a', '11e6d859-59e9-4e7d-934c-81484ec1b5bd', 'a5fcc959-10ee-4e16-8791-f74acb14d20e', '3704960d-2e08-4f97-9dfe-5289d90722c8', '2a06edad-548c-44e4-938b-583c1cc0189b', '977d4a8a-ee97-4b30-b601-b3d4b558cd1c', 'dd432381-f8c7-404b-b47a-e07df03fe0ab', '48364ba3-2774-444a-8fe3-fe5bab34db52', '93fdec8f-8ef2-4791-9ba3-9e1bb062553f', '6a890148-9ba1-4925-920d-5647203b6698', 'dd2e383a-3ead-4804-a3ed-7b196f7213da', '077d982d-443a-4f2a-9f0a-dbfcebeec3a7', 'fb6ce80f-a8d0-47d0-a566-0bfd2b3c8412', 'ff55d510-314d-4698-aac0-cbff3dc86ba7', '37f5e4f3-9fd3-4303-9694-55b444b2612b', 'b180a4e1-266c-447d-9958-8a599d33c16e', 'a01f0cb2-08f6-43f4-9073-ff484bdca6bb', '59e95a4e-80fc-468d-bf36-23d7d847ee75', '20f38e5e-e79f-4ec0-bf24-4df7ea8d6035', '85491f8d-fd76-4055-a970-043014cce718', 'd977a36d-b6da-4aea-b761-6eb05540094d', '045b14e4-61ca-4d40-8e1f-0ec1f319cdf2', 'e833e05d-1da9-4ee6-82a4-6e5d79276eba', 'e50cbc04-c27c-442c-85f6-bca709968bd0', '623dd992-b76e-482f-91b3-6f2fde26db07', 'a0196a8d-4460-4a01-8a6d-6dd622bb2ce2', '1beb7839-7d39-4e8c-bc8a-d0baf62d8e03', '56ed87f4-1bbe-4e3d-acbf-ffd7806c8351', '1f9c5931-7049-4242-924c-60bdcfa1a079', '2da1b051-4201-472a-b09a-a70c81e49296', '2db3eab2-d67d-40cf-9b66-c5542597dcd6', '033e5f46-c61f-4498-bac5-b8c2eca21c56', '3bebde6a-817b-4cc9-af88-abd399a727c4', '32b7c41f-3aa4-4e97-8803-5c50ab15bf9f', '275776f8-960e-43af-9182-55cdc155f6cf', 'ec774a87-008d-42b4-b00c-28a9ef94a6ad', 'bc914198-ca16-4911-b38e-39a94618c754', 'd53dd9f4-d88a-447e-9578-809a2bd096cc', 'f9799a91-96ab-4a11-92ac-6cb7d6817166', '4eddcbde-701d-49e6-8181-5ead72301073', '13ec2830-9352-4939-9319-7298607ca36e', '25affc08-1ea5-4b98-8e49-a826abab9e55', '136d73cf-b55b-41b0-aa1d-b9bd5eff6d2d', '79d8ac5b-4e66-4e73-ad28-7785ab2fc5d2', 'afed6241-6449-45d4-bc0c-202fa3a6aa57', '96889ea6-d95d-48fc-b319-f921a21e4f16', 'b65baa83-10e9-4f4e-b3e3-2d6709ea3e05', '563aa4ed-3f13-420e-aa6a-8ca01ca7b264', '6c773867-b4fd-437d-8abe-e55f5b25cd10', '37a714a4-d566-44dc-ae12-ca28deb83040', 'bc51ec41-96af-4216-8c1b-e43ff144b3c4', '2c2edc0e-408d-4b7f-a563-577008935b60', '96d0d362-62a9-45cb-8b09-1307d1c31117', '56e6b432-6cfb-4774-b482-da8fca72bf96', '9d7c270d-14f8-4250-b24b-9d707b918a82', 'e8a797f7-19ae-4665-a20b-8034b9d1e483']\n"
          ]
        }
      ]
    },
    {
      "cell_type": "markdown",
      "source": [
        "## Geração da resposta"
      ],
      "metadata": {
        "id": "H9-5GDOSfUu6"
      }
    },
    {
      "cell_type": "code",
      "source": [
        "!pip install -U langchain-groq"
      ],
      "metadata": {
        "colab": {
          "base_uri": "https://localhost:8080/"
        },
        "id": "i2fhlJ6xDjlt",
        "outputId": "046bf5bb-803e-4fc2-bb41-fe6897255da2"
      },
      "execution_count": null,
      "outputs": [
        {
          "output_type": "stream",
          "name": "stdout",
          "text": [
            "Requirement already satisfied: langchain-groq in /usr/local/lib/python3.10/dist-packages (0.1.9)\n",
            "Requirement already satisfied: groq<1,>=0.4.1 in /usr/local/lib/python3.10/dist-packages (from langchain-groq) (0.9.0)\n",
            "Requirement already satisfied: langchain-core<0.3.0,>=0.2.26 in /usr/local/lib/python3.10/dist-packages (from langchain-groq) (0.2.34)\n",
            "Requirement already satisfied: anyio<5,>=3.5.0 in /usr/local/lib/python3.10/dist-packages (from groq<1,>=0.4.1->langchain-groq) (3.7.1)\n",
            "Requirement already satisfied: distro<2,>=1.7.0 in /usr/lib/python3/dist-packages (from groq<1,>=0.4.1->langchain-groq) (1.7.0)\n",
            "Requirement already satisfied: httpx<1,>=0.23.0 in /usr/local/lib/python3.10/dist-packages (from groq<1,>=0.4.1->langchain-groq) (0.27.0)\n",
            "Requirement already satisfied: pydantic<3,>=1.9.0 in /usr/local/lib/python3.10/dist-packages (from groq<1,>=0.4.1->langchain-groq) (2.8.2)\n",
            "Requirement already satisfied: sniffio in /usr/local/lib/python3.10/dist-packages (from groq<1,>=0.4.1->langchain-groq) (1.3.1)\n",
            "Requirement already satisfied: typing-extensions<5,>=4.7 in /usr/local/lib/python3.10/dist-packages (from groq<1,>=0.4.1->langchain-groq) (4.12.2)\n",
            "Requirement already satisfied: PyYAML>=5.3 in /usr/local/lib/python3.10/dist-packages (from langchain-core<0.3.0,>=0.2.26->langchain-groq) (6.0.2)\n",
            "Requirement already satisfied: jsonpatch<2.0,>=1.33 in /usr/local/lib/python3.10/dist-packages (from langchain-core<0.3.0,>=0.2.26->langchain-groq) (1.33)\n",
            "Requirement already satisfied: langsmith<0.2.0,>=0.1.75 in /usr/local/lib/python3.10/dist-packages (from langchain-core<0.3.0,>=0.2.26->langchain-groq) (0.1.104)\n",
            "Requirement already satisfied: packaging<25,>=23.2 in /usr/local/lib/python3.10/dist-packages (from langchain-core<0.3.0,>=0.2.26->langchain-groq) (24.1)\n",
            "Requirement already satisfied: tenacity!=8.4.0,<9.0.0,>=8.1.0 in /usr/local/lib/python3.10/dist-packages (from langchain-core<0.3.0,>=0.2.26->langchain-groq) (8.5.0)\n",
            "Requirement already satisfied: idna>=2.8 in /usr/local/lib/python3.10/dist-packages (from anyio<5,>=3.5.0->groq<1,>=0.4.1->langchain-groq) (3.7)\n",
            "Requirement already satisfied: exceptiongroup in /usr/local/lib/python3.10/dist-packages (from anyio<5,>=3.5.0->groq<1,>=0.4.1->langchain-groq) (1.2.2)\n",
            "Requirement already satisfied: certifi in /usr/local/lib/python3.10/dist-packages (from httpx<1,>=0.23.0->groq<1,>=0.4.1->langchain-groq) (2024.7.4)\n",
            "Requirement already satisfied: httpcore==1.* in /usr/local/lib/python3.10/dist-packages (from httpx<1,>=0.23.0->groq<1,>=0.4.1->langchain-groq) (1.0.5)\n",
            "Requirement already satisfied: h11<0.15,>=0.13 in /usr/local/lib/python3.10/dist-packages (from httpcore==1.*->httpx<1,>=0.23.0->groq<1,>=0.4.1->langchain-groq) (0.14.0)\n",
            "Requirement already satisfied: jsonpointer>=1.9 in /usr/local/lib/python3.10/dist-packages (from jsonpatch<2.0,>=1.33->langchain-core<0.3.0,>=0.2.26->langchain-groq) (3.0.0)\n",
            "Requirement already satisfied: orjson<4.0.0,>=3.9.14 in /usr/local/lib/python3.10/dist-packages (from langsmith<0.2.0,>=0.1.75->langchain-core<0.3.0,>=0.2.26->langchain-groq) (3.10.7)\n",
            "Requirement already satisfied: requests<3,>=2 in /usr/local/lib/python3.10/dist-packages (from langsmith<0.2.0,>=0.1.75->langchain-core<0.3.0,>=0.2.26->langchain-groq) (2.32.3)\n",
            "Requirement already satisfied: annotated-types>=0.4.0 in /usr/local/lib/python3.10/dist-packages (from pydantic<3,>=1.9.0->groq<1,>=0.4.1->langchain-groq) (0.7.0)\n",
            "Requirement already satisfied: pydantic-core==2.20.1 in /usr/local/lib/python3.10/dist-packages (from pydantic<3,>=1.9.0->groq<1,>=0.4.1->langchain-groq) (2.20.1)\n",
            "Requirement already satisfied: charset-normalizer<4,>=2 in /usr/local/lib/python3.10/dist-packages (from requests<3,>=2->langsmith<0.2.0,>=0.1.75->langchain-core<0.3.0,>=0.2.26->langchain-groq) (3.3.2)\n",
            "Requirement already satisfied: urllib3<3,>=1.21.1 in /usr/local/lib/python3.10/dist-packages (from requests<3,>=2->langsmith<0.2.0,>=0.1.75->langchain-core<0.3.0,>=0.2.26->langchain-groq) (2.0.7)\n"
          ]
        }
      ]
    },
    {
      "cell_type": "code",
      "source": [
        "from langchain_core.prompts import ChatPromptTemplate\n",
        "from langchain_groq import ChatGroq\n",
        "\n",
        "\n",
        "\n",
        "llm = ChatGroq(\n",
        "    model=\"mixtral-8x7b-32768\",\n",
        "    temperature=0,\n",
        "    groq_api_key=settings.GROQ_API_KEY,\n",
        "    max_retries=2\n",
        ")\n",
        "\n",
        "\n",
        "\n",
        "def query_expansion(query):\n",
        "\n",
        "    query_expansion_llm = ChatGroq(\n",
        "        model=\"gemma2-9b-it\",\n",
        "        temperature=0,\n",
        "        groq_api_key=settings.GROQ_API_KEY,\n",
        "        max_retries=2\n",
        "    )\n",
        "\n",
        "    prompt = f\"\"\"Esse é minha pergunta: {query}\n",
        "    Me retorne uma string com 5 jeitos de escrever essa mesma pergunta em portugues.\n",
        "    Considere um contexto academico de uma universidade.\n",
        "    Retorne apenas as strings separadas com virgula sem nenhuma frase introdutória.\n",
        "    \"\"\"\n",
        "\n",
        "    # Criando o prompt para a consulta expandida\n",
        "    prompt_template = ChatPromptTemplate.from_messages([(\"human\", prompt)])\n",
        "\n",
        "    # Gerando a lista de consultas expandidas\n",
        "    chain = prompt_template | query_expansion_llm\n",
        "    response = chain.invoke({})\n",
        "    return response.content\n",
        "\n",
        "\n",
        "def get_context(query, source_name = 'ppc2024.md'):\n",
        "\n",
        "    results = vector_store.search(\n",
        "        query,\n",
        "        \"similarity\",\n",
        "        k=5,\n",
        "        filter={\"source\": source_name},\n",
        "    )\n",
        "\n",
        "\n",
        "    return  '\\n'.join([result.page_content for result in results])\n",
        "\n",
        "\n",
        "\n",
        "\n",
        "def build_prompt(contexto, pergunta):\n",
        "    # Cria o prompt para o contexto do PPC\n",
        "    prompt = ChatPromptTemplate.from_messages(\n",
        "        [\n",
        "            (\n",
        "                \"system\",\n",
        "                \"Você é um assistente especializado no Plano Pedagógico do Curso (PPC) de Ciência da Computação da UFFS. \"\n",
        "                \"Sua tarefa é fornecer respostas precisas sobre qualquer questão relacionada ao PPC, utilizando o contexto fornecido para guiar sua resposta.\"\n",
        "                \"Utilize apenas o contexto informado como referencia\"\n",
        "                \"Caso a resposta não está no contexto, informe que não sabe a resposta e recomende consultar o documento original.\"\n",
        "\n",
        "                \"Responda exclusivamente em portugues brasileiro.\"\n",
        "            ),\n",
        "            (\n",
        "            \"human\",\n",
        "            f\"Dado o contexto: {contexto}\\n\\nPergunta: {pergunta}. Utilize apenas o contexto fornecido para responder\"),\n",
        "        ]\n",
        "    )\n",
        "    return prompt\n",
        "\n",
        "def get_completion(prompt):\n",
        "    chain = prompt | llm\n",
        "\n",
        "    response = chain.invoke({})\n",
        "    return response\n",
        "\n",
        "\n",
        "def get_answer(query, source_name):\n",
        "    expanded_query = query_expansion(query)\n",
        "    print(expanded_query)\n",
        "    context = get_context('Atividades de Ensino', source_name)\n",
        "    prompt = build_prompt(context, query)\n",
        "    response = get_completion(prompt)\n",
        "\n",
        "    return context, response.content\n"
      ],
      "metadata": {
        "id": "BFRD0HobDirk"
      },
      "execution_count": null,
      "outputs": []
    },
    {
      "cell_type": "code",
      "source": [
        "query = \"Qual é o limite de horas para Atividades de Ensino?\"\n",
        "context, answer = get_answer(query, \"ppc2024\")\n",
        "answer"
      ],
      "metadata": {
        "colab": {
          "base_uri": "https://localhost:8080/",
          "height": 202
        },
        "id": "y7WwzkHRCqt1",
        "outputId": "31c2c84b-f40b-471f-aad1-f63ad07eec99"
      },
      "execution_count": null,
      "outputs": [
        {
          "output_type": "stream",
          "name": "stdout",
          "text": [
            "Qual o limite máximo de horas para atividades de ensino? ,  \n",
            "Qual a carga horária máxima permitida para atividades de ensino? ,\n",
            "Até quantas horas por semana um professor pode dedicar a atividades de ensino? ,\n",
            "Existe um limite de horas para atividades de ensino na universidade? ,\n",
            "Em que medida a carga horária de atividades de ensino é regulamentada? \n",
            "\n"
          ]
        },
        {
          "output_type": "execute_result",
          "data": {
            "text/plain": [
              "'O limite de horas para Atividades de Ensino é de 120 horas. Essa informação é encontrada no contexto fornecido, especificamente no quadro que apresenta as \"Atividades Curriculares Complementares (ACCs)\". A categoria \"Atividades de Ensino\" tem um limite de horas de 120, o que responde à pergunta.'"
            ],
            "application/vnd.google.colaboratory.intrinsic+json": {
              "type": "string"
            }
          },
          "metadata": {},
          "execution_count": 28
        }
      ]
    },
    {
      "cell_type": "code",
      "source": [
        "context"
      ],
      "metadata": {
        "colab": {
          "base_uri": "https://localhost:8080/",
          "height": 239
        },
        "id": "tsp5wnylpb2O",
        "outputId": "54358532-db23-4162-c4b4-b9032542f79d"
      },
      "execution_count": null,
      "outputs": [
        {
          "output_type": "execute_result",
          "data": {
            "text/plain": [
              "'participação ativa na aplicação e no acompanhamento do Projeto Pedagógico. <br><br>O Projeto Pedagógico do Curso prevê conteúdos, práticas, atividades de extensão e de <br><br>895  pesquisa implementados por meio de componentes curriculares obrigatórios e optativos, <br><br>sendo ministrados em salas de aulas e em laboratórios. O discente deve colocar em prática os <br><br>conteúdos através de projetos relacionados aos componentes, atividades curriculares <br><br>complementares, atividades de extensão e trabalho de conclusão de curso. <br><br>A organização curricular obedecerá aos princípios pedagógicos, metodológicos e <br><br>900  epistemológicos da proposta curricular da UFFS, tendo como subsídio as orientações <br><br>apresentadas no Projeto Pedagógico Institucional (PPI). \\n1255  *8.7.2 Atividades curriculares complementares (Normatização no ANEXO I)*<br><br>As Atividades Curriculares Complementares (ACCs) constituem ações que visam a <br><br>complementação do processo ensino-aprendizagem, sendo desenvolvidas com carga horária <br><br>de 210 horas-aula e distribuídas ao longo do período de duração do curso. <br><br>As ACCs constituem mecanismo de aproveitamento dos conhecimentos adquiridos <br><br>1260  pelo discente por meio de estudos e práticas independentes, presenciais ou à distância, <br><br>Projeto Pedagógico do Curso de Ciência Da Computação,*Campus*Chapecó.  335 <br><br>56 \\n<table border=\"1\">\\n<tr><th>II</th><th>Atividades de Ensino (Limite horas: 120)</th><th></th><th></th><th></th></tr>\\n<tr><td>II</td><td>Atividades de Ensino (Limite horas: 120)</td><td> </td><td> </td><td> </td></tr>\\n<tr><td>Categoria</td><td>Descrição da Atividade</td><td>Limite de\\nHoras</td><td>Horas por\\nEvento</td><td>Documento\\ncomprobatório</td></tr>\\n<tr><td>2.1</td><td>Programas de monitoria</td><td>100\\nDRAFT</td><td>total de horas\\nde participação</td><td>Certificado, ou declaração\\ndo responsável pelo\\nprograma.</td></tr>\\n<tr><td>2.2</td><td>Participação em grupos de\\nestudos formais do curso de\\nCiência da Computação da\\nUFFS</td><td>60</td><td>total de horas\\nde participação</td><td>Certificado, ou declaração\\ndo docente responsável\\npelo grupo.</td></tr>\\n<tr><td>III</td><td>Outras Atividades Complementares (Limite horas: 120)</td><td> </td><td> </td><td> </td></tr>\\n<tr><td>Categoria</td><td>Descrição da Atividade</td><td>Limite de\\nHoras</td><td>Horas por\\nEvento</td><td>Documento\\ncomprobatório</td></tr>\\n<tr><td>3.1</td><td>Participação em eventos\\ntécnico-científicos\\n(Seminários, Congressos,\\nConferências, Palestras, Mini-\\ncursos, Oficinas*)</td><td>100</td><td>total de horas\\nde participação</td><td>Certificado.</td></tr>\\n</table>\\n*8.7.4 Atividades de inserção da Extensão e Cultura no currículo (Normatização no ANEXO*<br><br>*III)*<br><br>1315  As Atividades Curriculares de Extensão e Cultura (ACEs) devem compor 10% da <br><br>carga horária total do curso conforme estabelecido na Resolução 07/2018 do CNE, visando <br><br>complementar o processo de ensino-aprendizagem e a aplicação de conhecimentos adquiridos <br><br>no curso através de projetos que envolvem a comunidade atendida pela instituição. Segundo <br><br>as DCNs do curso de Ciência da Computação, a carga horária mínima do curso deve ser de <br><br>1320  3200 horas-aula, sendo então destinadas no mínimo 320 horas-aula para atividades de <br><br>Extensão e Cultura, as quais devem ser realizadas ao longo do período de duração do Curso. <br><br>Além de cumprir a obrigatoriedade prevista na resolução supracitada, as ACEs <br><br>também permitem atender as Diretrizes e Bases da Educação Nacional e as DCNs do Curso \\n**CAPÍTULO II**<br><br>**DA CARACTERIZAÇÃO DAS ATIVIDADES DE EXTENSÃO E DE CULTURA**<br><br>2500  **Art. 5º -**São consideradas Atividades Curriculares de Extensão e de Cultura (ACEs) aquelas <br><br>que apresentam como características: <br><br>I.  Sejam realizadas sob a coordenação e/ou orientação docente; <br><br>II.  Promovam o envolvimento da comunidade externa, preferencialmente na área de <br><br>abrangência regional da UFFS, como público-alvo; <br><br>2505  III.  Atendam às exigências requeridas pelo perfil do egresso e pelos objetivos da <br><br>formação previstos no PPC do curso; <br><br>IV.  Tenham o discente como protagonista no levantamento das demandas, no <br><br>planejamento, na organização, na execução ou na avaliação das atividades de \\nDRAFT <br><br>extensão e cultura; <br><br>2510  V.  Sejam ações que promovam a inclusão social, a relação com problemas e <br><br>problemáticas sociais relevantes; <br><br>VI.  Garantam a participação democrática e plural dos atores sociais e o diálogo '"
            ],
            "application/vnd.google.colaboratory.intrinsic+json": {
              "type": "string"
            }
          },
          "metadata": {},
          "execution_count": 29
        }
      ]
    },
    {
      "cell_type": "code",
      "source": [
        "results = vector_store.similarity_search(\n",
        "    \"Limite de Atividades de ensino\",\n",
        "    k=2,\n",
        "    filter={\"source\": \"ppc2024\"},\n",
        ")\n",
        "results"
      ],
      "metadata": {
        "colab": {
          "base_uri": "https://localhost:8080/"
        },
        "id": "ZnQIgcBA1yoC",
        "outputId": "73b30fd2-3a37-4371-ca0c-861b229aea9f"
      },
      "execution_count": null,
      "outputs": [
        {
          "output_type": "execute_result",
          "data": {
            "text/plain": [
              "[Document(metadata={'source': 'ppc2024'}, page_content='<table border=\"1\">\\n<tr><th>II</th><th>Atividades de Ensino (Limite horas: 120)</th><th></th><th></th><th></th></tr>\\n<tr><td>II</td><td>Atividades de Ensino (Limite horas: 120)</td><td> </td><td> </td><td> </td></tr>\\n<tr><td>Categoria</td><td>Descrição da Atividade</td><td>Limite de\\nHoras</td><td>Horas por\\nEvento</td><td>Documento\\ncomprobatório</td></tr>\\n<tr><td>2.1</td><td>Programas de monitoria</td><td>100\\nDRAFT</td><td>total de horas\\nde participação</td><td>Certificado, ou declaração\\ndo responsável pelo\\nprograma.</td></tr>\\n<tr><td>2.2</td><td>Participação em grupos de\\nestudos formais do curso de\\nCiência da Computação da\\nUFFS</td><td>60</td><td>total de horas\\nde participação</td><td>Certificado, ou declaração\\ndo docente responsável\\npelo grupo.</td></tr>\\n<tr><td>III</td><td>Outras Atividades Complementares (Limite horas: 120)</td><td> </td><td> </td><td> </td></tr>\\n<tr><td>Categoria</td><td>Descrição da Atividade</td><td>Limite de\\nHoras</td><td>Horas por\\nEvento</td><td>Documento\\ncomprobatório</td></tr>\\n<tr><td>3.1</td><td>Participação em eventos\\ntécnico-científicos\\n(Seminários, Congressos,\\nConferências, Palestras, Mini-\\ncursos, Oficinas*)</td><td>100</td><td>total de horas\\nde participação</td><td>Certificado.</td></tr>\\n</table>'),\n",
              " Document(metadata={'source': 'ppc2024'}, page_content='1255  *8.7.2 Atividades curriculares complementares (Normatização no ANEXO I)*<br><br>As Atividades Curriculares Complementares (ACCs) constituem ações que visam a <br><br>complementação do processo ensino-aprendizagem, sendo desenvolvidas com carga horária <br><br>de 210 horas-aula e distribuídas ao longo do período de duração do curso. <br><br>As ACCs constituem mecanismo de aproveitamento dos conhecimentos adquiridos <br><br>1260  pelo discente por meio de estudos e práticas independentes, presenciais ou à distância, <br><br>Projeto Pedagógico do Curso de Ciência Da Computação,*Campus*Chapecó.  335 <br><br>56 ')]"
            ]
          },
          "metadata": {},
          "execution_count": 30
        }
      ]
    },
    {
      "cell_type": "code",
      "source": [],
      "metadata": {
        "id": "nfJlp-jBAVwC"
      },
      "execution_count": null,
      "outputs": []
    },
    {
      "cell_type": "markdown",
      "source": [],
      "metadata": {
        "id": "oari7_25x1gb"
      }
    }
  ]
}
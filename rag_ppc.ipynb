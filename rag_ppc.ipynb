{
  "nbformat": 4,
  "nbformat_minor": 0,
  "metadata": {
    "colab": {
      "provenance": [],
      "gpuType": "T4",
      "toc_visible": true,
      "authorship_tag": "ABX9TyN7SQPOXKGcF/jDshWk9YBV",
      "include_colab_link": true
    },
    "kernelspec": {
      "name": "python3",
      "display_name": "Python 3"
    },
    "language_info": {
      "name": "python"
    },
    "accelerator": "GPU",
    "widgets": {
      "application/vnd.jupyter.widget-state+json": {
        "3d6b9221db7c49dd9576e01985d8b112": {
          "model_module": "@jupyter-widgets/controls",
          "model_name": "VBoxModel",
          "model_module_version": "1.5.0",
          "state": {
            "_dom_classes": [],
            "_model_module": "@jupyter-widgets/controls",
            "_model_module_version": "1.5.0",
            "_model_name": "VBoxModel",
            "_view_count": null,
            "_view_module": "@jupyter-widgets/controls",
            "_view_module_version": "1.5.0",
            "_view_name": "VBoxView",
            "box_style": "",
            "children": [
              "IPY_MODEL_227a28b312fb42f2b9d0b31cc74c0fec",
              "IPY_MODEL_b08750ebf5ea46bc8e6ed5bfa24e6d05",
              "IPY_MODEL_9c4c53fb87924f1ba51b7c5fa48f6ecd",
              "IPY_MODEL_9510767752f5465d801f5ae13a3ac2cb",
              "IPY_MODEL_e5391b027b684a9e8d10426aa05c6584"
            ],
            "layout": "IPY_MODEL_8936656113844e59bfb762f5dfa8d82c"
          }
        },
        "227a28b312fb42f2b9d0b31cc74c0fec": {
          "model_module": "@jupyter-widgets/controls",
          "model_name": "HTMLModel",
          "model_module_version": "1.5.0",
          "state": {
            "_dom_classes": [],
            "_model_module": "@jupyter-widgets/controls",
            "_model_module_version": "1.5.0",
            "_model_name": "HTMLModel",
            "_view_count": null,
            "_view_module": "@jupyter-widgets/controls",
            "_view_module_version": "1.5.0",
            "_view_name": "HTMLView",
            "description": "",
            "description_tooltip": null,
            "layout": "IPY_MODEL_a9eea33437714b6a88c4e604afd1b28b",
            "placeholder": "​",
            "style": "IPY_MODEL_043ff2fea7a2459fa571ea0cd685d82b",
            "value": "<center> <img\nsrc=https://huggingface.co/front/assets/huggingface_logo-noborder.svg\nalt='Hugging Face'> <br> Copy a token from <a\nhref=\"https://huggingface.co/settings/tokens\" target=\"_blank\">your Hugging Face\ntokens page</a> and paste it below. <br> Immediately click login after copying\nyour token or it might be stored in plain text in this notebook file. </center>"
          }
        },
        "b08750ebf5ea46bc8e6ed5bfa24e6d05": {
          "model_module": "@jupyter-widgets/controls",
          "model_name": "PasswordModel",
          "model_module_version": "1.5.0",
          "state": {
            "_dom_classes": [],
            "_model_module": "@jupyter-widgets/controls",
            "_model_module_version": "1.5.0",
            "_model_name": "PasswordModel",
            "_view_count": null,
            "_view_module": "@jupyter-widgets/controls",
            "_view_module_version": "1.5.0",
            "_view_name": "PasswordView",
            "continuous_update": true,
            "description": "Token:",
            "description_tooltip": null,
            "disabled": false,
            "layout": "IPY_MODEL_72fafa3f09494956bcadc6bcf4b45ef3",
            "placeholder": "​",
            "style": "IPY_MODEL_1f9da5011d1d4ce1998dfb2da0915e93",
            "value": ""
          }
        },
        "9c4c53fb87924f1ba51b7c5fa48f6ecd": {
          "model_module": "@jupyter-widgets/controls",
          "model_name": "CheckboxModel",
          "model_module_version": "1.5.0",
          "state": {
            "_dom_classes": [],
            "_model_module": "@jupyter-widgets/controls",
            "_model_module_version": "1.5.0",
            "_model_name": "CheckboxModel",
            "_view_count": null,
            "_view_module": "@jupyter-widgets/controls",
            "_view_module_version": "1.5.0",
            "_view_name": "CheckboxView",
            "description": "Add token as git credential?",
            "description_tooltip": null,
            "disabled": false,
            "indent": true,
            "layout": "IPY_MODEL_e41a7ea26db8497291ea459987f9149d",
            "style": "IPY_MODEL_c8366234a7ea498ba43d016be14d9ee5",
            "value": true
          }
        },
        "9510767752f5465d801f5ae13a3ac2cb": {
          "model_module": "@jupyter-widgets/controls",
          "model_name": "ButtonModel",
          "model_module_version": "1.5.0",
          "state": {
            "_dom_classes": [],
            "_model_module": "@jupyter-widgets/controls",
            "_model_module_version": "1.5.0",
            "_model_name": "ButtonModel",
            "_view_count": null,
            "_view_module": "@jupyter-widgets/controls",
            "_view_module_version": "1.5.0",
            "_view_name": "ButtonView",
            "button_style": "",
            "description": "Login",
            "disabled": false,
            "icon": "",
            "layout": "IPY_MODEL_64f15c82bcc842c59ad5971b498d0941",
            "style": "IPY_MODEL_ecd8751288fb4369b51c14805659aaf5",
            "tooltip": ""
          }
        },
        "e5391b027b684a9e8d10426aa05c6584": {
          "model_module": "@jupyter-widgets/controls",
          "model_name": "HTMLModel",
          "model_module_version": "1.5.0",
          "state": {
            "_dom_classes": [],
            "_model_module": "@jupyter-widgets/controls",
            "_model_module_version": "1.5.0",
            "_model_name": "HTMLModel",
            "_view_count": null,
            "_view_module": "@jupyter-widgets/controls",
            "_view_module_version": "1.5.0",
            "_view_name": "HTMLView",
            "description": "",
            "description_tooltip": null,
            "layout": "IPY_MODEL_aa6b168fc7c24676845449b7846d75da",
            "placeholder": "​",
            "style": "IPY_MODEL_41a9948fb8e44eb9a863f6c24c2e2a6d",
            "value": "\n<b>Pro Tip:</b> If you don't already have one, you can create a dedicated\n'notebooks' token with 'write' access, that you can then easily reuse for all\nnotebooks. </center>"
          }
        },
        "8936656113844e59bfb762f5dfa8d82c": {
          "model_module": "@jupyter-widgets/base",
          "model_name": "LayoutModel",
          "model_module_version": "1.2.0",
          "state": {
            "_model_module": "@jupyter-widgets/base",
            "_model_module_version": "1.2.0",
            "_model_name": "LayoutModel",
            "_view_count": null,
            "_view_module": "@jupyter-widgets/base",
            "_view_module_version": "1.2.0",
            "_view_name": "LayoutView",
            "align_content": null,
            "align_items": "center",
            "align_self": null,
            "border": null,
            "bottom": null,
            "display": "flex",
            "flex": null,
            "flex_flow": "column",
            "grid_area": null,
            "grid_auto_columns": null,
            "grid_auto_flow": null,
            "grid_auto_rows": null,
            "grid_column": null,
            "grid_gap": null,
            "grid_row": null,
            "grid_template_areas": null,
            "grid_template_columns": null,
            "grid_template_rows": null,
            "height": null,
            "justify_content": null,
            "justify_items": null,
            "left": null,
            "margin": null,
            "max_height": null,
            "max_width": null,
            "min_height": null,
            "min_width": null,
            "object_fit": null,
            "object_position": null,
            "order": null,
            "overflow": null,
            "overflow_x": null,
            "overflow_y": null,
            "padding": null,
            "right": null,
            "top": null,
            "visibility": null,
            "width": "50%"
          }
        },
        "a9eea33437714b6a88c4e604afd1b28b": {
          "model_module": "@jupyter-widgets/base",
          "model_name": "LayoutModel",
          "model_module_version": "1.2.0",
          "state": {
            "_model_module": "@jupyter-widgets/base",
            "_model_module_version": "1.2.0",
            "_model_name": "LayoutModel",
            "_view_count": null,
            "_view_module": "@jupyter-widgets/base",
            "_view_module_version": "1.2.0",
            "_view_name": "LayoutView",
            "align_content": null,
            "align_items": null,
            "align_self": null,
            "border": null,
            "bottom": null,
            "display": null,
            "flex": null,
            "flex_flow": null,
            "grid_area": null,
            "grid_auto_columns": null,
            "grid_auto_flow": null,
            "grid_auto_rows": null,
            "grid_column": null,
            "grid_gap": null,
            "grid_row": null,
            "grid_template_areas": null,
            "grid_template_columns": null,
            "grid_template_rows": null,
            "height": null,
            "justify_content": null,
            "justify_items": null,
            "left": null,
            "margin": null,
            "max_height": null,
            "max_width": null,
            "min_height": null,
            "min_width": null,
            "object_fit": null,
            "object_position": null,
            "order": null,
            "overflow": null,
            "overflow_x": null,
            "overflow_y": null,
            "padding": null,
            "right": null,
            "top": null,
            "visibility": null,
            "width": null
          }
        },
        "043ff2fea7a2459fa571ea0cd685d82b": {
          "model_module": "@jupyter-widgets/controls",
          "model_name": "DescriptionStyleModel",
          "model_module_version": "1.5.0",
          "state": {
            "_model_module": "@jupyter-widgets/controls",
            "_model_module_version": "1.5.0",
            "_model_name": "DescriptionStyleModel",
            "_view_count": null,
            "_view_module": "@jupyter-widgets/base",
            "_view_module_version": "1.2.0",
            "_view_name": "StyleView",
            "description_width": ""
          }
        },
        "72fafa3f09494956bcadc6bcf4b45ef3": {
          "model_module": "@jupyter-widgets/base",
          "model_name": "LayoutModel",
          "model_module_version": "1.2.0",
          "state": {
            "_model_module": "@jupyter-widgets/base",
            "_model_module_version": "1.2.0",
            "_model_name": "LayoutModel",
            "_view_count": null,
            "_view_module": "@jupyter-widgets/base",
            "_view_module_version": "1.2.0",
            "_view_name": "LayoutView",
            "align_content": null,
            "align_items": null,
            "align_self": null,
            "border": null,
            "bottom": null,
            "display": null,
            "flex": null,
            "flex_flow": null,
            "grid_area": null,
            "grid_auto_columns": null,
            "grid_auto_flow": null,
            "grid_auto_rows": null,
            "grid_column": null,
            "grid_gap": null,
            "grid_row": null,
            "grid_template_areas": null,
            "grid_template_columns": null,
            "grid_template_rows": null,
            "height": null,
            "justify_content": null,
            "justify_items": null,
            "left": null,
            "margin": null,
            "max_height": null,
            "max_width": null,
            "min_height": null,
            "min_width": null,
            "object_fit": null,
            "object_position": null,
            "order": null,
            "overflow": null,
            "overflow_x": null,
            "overflow_y": null,
            "padding": null,
            "right": null,
            "top": null,
            "visibility": null,
            "width": null
          }
        },
        "1f9da5011d1d4ce1998dfb2da0915e93": {
          "model_module": "@jupyter-widgets/controls",
          "model_name": "DescriptionStyleModel",
          "model_module_version": "1.5.0",
          "state": {
            "_model_module": "@jupyter-widgets/controls",
            "_model_module_version": "1.5.0",
            "_model_name": "DescriptionStyleModel",
            "_view_count": null,
            "_view_module": "@jupyter-widgets/base",
            "_view_module_version": "1.2.0",
            "_view_name": "StyleView",
            "description_width": ""
          }
        },
        "e41a7ea26db8497291ea459987f9149d": {
          "model_module": "@jupyter-widgets/base",
          "model_name": "LayoutModel",
          "model_module_version": "1.2.0",
          "state": {
            "_model_module": "@jupyter-widgets/base",
            "_model_module_version": "1.2.0",
            "_model_name": "LayoutModel",
            "_view_count": null,
            "_view_module": "@jupyter-widgets/base",
            "_view_module_version": "1.2.0",
            "_view_name": "LayoutView",
            "align_content": null,
            "align_items": null,
            "align_self": null,
            "border": null,
            "bottom": null,
            "display": null,
            "flex": null,
            "flex_flow": null,
            "grid_area": null,
            "grid_auto_columns": null,
            "grid_auto_flow": null,
            "grid_auto_rows": null,
            "grid_column": null,
            "grid_gap": null,
            "grid_row": null,
            "grid_template_areas": null,
            "grid_template_columns": null,
            "grid_template_rows": null,
            "height": null,
            "justify_content": null,
            "justify_items": null,
            "left": null,
            "margin": null,
            "max_height": null,
            "max_width": null,
            "min_height": null,
            "min_width": null,
            "object_fit": null,
            "object_position": null,
            "order": null,
            "overflow": null,
            "overflow_x": null,
            "overflow_y": null,
            "padding": null,
            "right": null,
            "top": null,
            "visibility": null,
            "width": null
          }
        },
        "c8366234a7ea498ba43d016be14d9ee5": {
          "model_module": "@jupyter-widgets/controls",
          "model_name": "DescriptionStyleModel",
          "model_module_version": "1.5.0",
          "state": {
            "_model_module": "@jupyter-widgets/controls",
            "_model_module_version": "1.5.0",
            "_model_name": "DescriptionStyleModel",
            "_view_count": null,
            "_view_module": "@jupyter-widgets/base",
            "_view_module_version": "1.2.0",
            "_view_name": "StyleView",
            "description_width": ""
          }
        },
        "64f15c82bcc842c59ad5971b498d0941": {
          "model_module": "@jupyter-widgets/base",
          "model_name": "LayoutModel",
          "model_module_version": "1.2.0",
          "state": {
            "_model_module": "@jupyter-widgets/base",
            "_model_module_version": "1.2.0",
            "_model_name": "LayoutModel",
            "_view_count": null,
            "_view_module": "@jupyter-widgets/base",
            "_view_module_version": "1.2.0",
            "_view_name": "LayoutView",
            "align_content": null,
            "align_items": null,
            "align_self": null,
            "border": null,
            "bottom": null,
            "display": null,
            "flex": null,
            "flex_flow": null,
            "grid_area": null,
            "grid_auto_columns": null,
            "grid_auto_flow": null,
            "grid_auto_rows": null,
            "grid_column": null,
            "grid_gap": null,
            "grid_row": null,
            "grid_template_areas": null,
            "grid_template_columns": null,
            "grid_template_rows": null,
            "height": null,
            "justify_content": null,
            "justify_items": null,
            "left": null,
            "margin": null,
            "max_height": null,
            "max_width": null,
            "min_height": null,
            "min_width": null,
            "object_fit": null,
            "object_position": null,
            "order": null,
            "overflow": null,
            "overflow_x": null,
            "overflow_y": null,
            "padding": null,
            "right": null,
            "top": null,
            "visibility": null,
            "width": null
          }
        },
        "ecd8751288fb4369b51c14805659aaf5": {
          "model_module": "@jupyter-widgets/controls",
          "model_name": "ButtonStyleModel",
          "model_module_version": "1.5.0",
          "state": {
            "_model_module": "@jupyter-widgets/controls",
            "_model_module_version": "1.5.0",
            "_model_name": "ButtonStyleModel",
            "_view_count": null,
            "_view_module": "@jupyter-widgets/base",
            "_view_module_version": "1.2.0",
            "_view_name": "StyleView",
            "button_color": null,
            "font_weight": ""
          }
        },
        "aa6b168fc7c24676845449b7846d75da": {
          "model_module": "@jupyter-widgets/base",
          "model_name": "LayoutModel",
          "model_module_version": "1.2.0",
          "state": {
            "_model_module": "@jupyter-widgets/base",
            "_model_module_version": "1.2.0",
            "_model_name": "LayoutModel",
            "_view_count": null,
            "_view_module": "@jupyter-widgets/base",
            "_view_module_version": "1.2.0",
            "_view_name": "LayoutView",
            "align_content": null,
            "align_items": null,
            "align_self": null,
            "border": null,
            "bottom": null,
            "display": null,
            "flex": null,
            "flex_flow": null,
            "grid_area": null,
            "grid_auto_columns": null,
            "grid_auto_flow": null,
            "grid_auto_rows": null,
            "grid_column": null,
            "grid_gap": null,
            "grid_row": null,
            "grid_template_areas": null,
            "grid_template_columns": null,
            "grid_template_rows": null,
            "height": null,
            "justify_content": null,
            "justify_items": null,
            "left": null,
            "margin": null,
            "max_height": null,
            "max_width": null,
            "min_height": null,
            "min_width": null,
            "object_fit": null,
            "object_position": null,
            "order": null,
            "overflow": null,
            "overflow_x": null,
            "overflow_y": null,
            "padding": null,
            "right": null,
            "top": null,
            "visibility": null,
            "width": null
          }
        },
        "41a9948fb8e44eb9a863f6c24c2e2a6d": {
          "model_module": "@jupyter-widgets/controls",
          "model_name": "DescriptionStyleModel",
          "model_module_version": "1.5.0",
          "state": {
            "_model_module": "@jupyter-widgets/controls",
            "_model_module_version": "1.5.0",
            "_model_name": "DescriptionStyleModel",
            "_view_count": null,
            "_view_module": "@jupyter-widgets/base",
            "_view_module_version": "1.2.0",
            "_view_name": "StyleView",
            "description_width": ""
          }
        },
        "9f791478271043719bd76d25d4ea7f6a": {
          "model_module": "@jupyter-widgets/controls",
          "model_name": "HBoxModel",
          "model_module_version": "1.5.0",
          "state": {
            "_dom_classes": [],
            "_model_module": "@jupyter-widgets/controls",
            "_model_module_version": "1.5.0",
            "_model_name": "HBoxModel",
            "_view_count": null,
            "_view_module": "@jupyter-widgets/controls",
            "_view_module_version": "1.5.0",
            "_view_name": "HBoxView",
            "box_style": "",
            "children": [
              "IPY_MODEL_d3c31f96acaf4ebfa82a5fa999cb1069",
              "IPY_MODEL_a7dbf49eb8f44a2aa2b2bda37bcb7ff1",
              "IPY_MODEL_778b5fd3f1cd4d068d22c41c3812668a"
            ],
            "layout": "IPY_MODEL_4a03d79253f24a69ba0ca0ef8be973cc"
          }
        },
        "d3c31f96acaf4ebfa82a5fa999cb1069": {
          "model_module": "@jupyter-widgets/controls",
          "model_name": "HTMLModel",
          "model_module_version": "1.5.0",
          "state": {
            "_dom_classes": [],
            "_model_module": "@jupyter-widgets/controls",
            "_model_module_version": "1.5.0",
            "_model_name": "HTMLModel",
            "_view_count": null,
            "_view_module": "@jupyter-widgets/controls",
            "_view_module_version": "1.5.0",
            "_view_name": "HTMLView",
            "description": "",
            "description_tooltip": null,
            "layout": "IPY_MODEL_c847dcf5cb9642468ae41220f9ad2914",
            "placeholder": "​",
            "style": "IPY_MODEL_53977b6cc896410c98d4533081b25231",
            "value": "Loading checkpoint shards: 100%"
          }
        },
        "a7dbf49eb8f44a2aa2b2bda37bcb7ff1": {
          "model_module": "@jupyter-widgets/controls",
          "model_name": "FloatProgressModel",
          "model_module_version": "1.5.0",
          "state": {
            "_dom_classes": [],
            "_model_module": "@jupyter-widgets/controls",
            "_model_module_version": "1.5.0",
            "_model_name": "FloatProgressModel",
            "_view_count": null,
            "_view_module": "@jupyter-widgets/controls",
            "_view_module_version": "1.5.0",
            "_view_name": "ProgressView",
            "bar_style": "success",
            "description": "",
            "description_tooltip": null,
            "layout": "IPY_MODEL_b2b0381b01df40ad8b678fd528bd9c20",
            "max": 3,
            "min": 0,
            "orientation": "horizontal",
            "style": "IPY_MODEL_72a1a8724c5d41d995e0cd535e8dee19",
            "value": 3
          }
        },
        "778b5fd3f1cd4d068d22c41c3812668a": {
          "model_module": "@jupyter-widgets/controls",
          "model_name": "HTMLModel",
          "model_module_version": "1.5.0",
          "state": {
            "_dom_classes": [],
            "_model_module": "@jupyter-widgets/controls",
            "_model_module_version": "1.5.0",
            "_model_name": "HTMLModel",
            "_view_count": null,
            "_view_module": "@jupyter-widgets/controls",
            "_view_module_version": "1.5.0",
            "_view_name": "HTMLView",
            "description": "",
            "description_tooltip": null,
            "layout": "IPY_MODEL_34c324c62b504cefbe921dd12ba7e0de",
            "placeholder": "​",
            "style": "IPY_MODEL_d34083f2fb66427dbe1cd0a589e49810",
            "value": " 3/3 [02:17&lt;00:00, 43.07s/it]"
          }
        },
        "4a03d79253f24a69ba0ca0ef8be973cc": {
          "model_module": "@jupyter-widgets/base",
          "model_name": "LayoutModel",
          "model_module_version": "1.2.0",
          "state": {
            "_model_module": "@jupyter-widgets/base",
            "_model_module_version": "1.2.0",
            "_model_name": "LayoutModel",
            "_view_count": null,
            "_view_module": "@jupyter-widgets/base",
            "_view_module_version": "1.2.0",
            "_view_name": "LayoutView",
            "align_content": null,
            "align_items": null,
            "align_self": null,
            "border": null,
            "bottom": null,
            "display": null,
            "flex": null,
            "flex_flow": null,
            "grid_area": null,
            "grid_auto_columns": null,
            "grid_auto_flow": null,
            "grid_auto_rows": null,
            "grid_column": null,
            "grid_gap": null,
            "grid_row": null,
            "grid_template_areas": null,
            "grid_template_columns": null,
            "grid_template_rows": null,
            "height": null,
            "justify_content": null,
            "justify_items": null,
            "left": null,
            "margin": null,
            "max_height": null,
            "max_width": null,
            "min_height": null,
            "min_width": null,
            "object_fit": null,
            "object_position": null,
            "order": null,
            "overflow": null,
            "overflow_x": null,
            "overflow_y": null,
            "padding": null,
            "right": null,
            "top": null,
            "visibility": null,
            "width": null
          }
        },
        "c847dcf5cb9642468ae41220f9ad2914": {
          "model_module": "@jupyter-widgets/base",
          "model_name": "LayoutModel",
          "model_module_version": "1.2.0",
          "state": {
            "_model_module": "@jupyter-widgets/base",
            "_model_module_version": "1.2.0",
            "_model_name": "LayoutModel",
            "_view_count": null,
            "_view_module": "@jupyter-widgets/base",
            "_view_module_version": "1.2.0",
            "_view_name": "LayoutView",
            "align_content": null,
            "align_items": null,
            "align_self": null,
            "border": null,
            "bottom": null,
            "display": null,
            "flex": null,
            "flex_flow": null,
            "grid_area": null,
            "grid_auto_columns": null,
            "grid_auto_flow": null,
            "grid_auto_rows": null,
            "grid_column": null,
            "grid_gap": null,
            "grid_row": null,
            "grid_template_areas": null,
            "grid_template_columns": null,
            "grid_template_rows": null,
            "height": null,
            "justify_content": null,
            "justify_items": null,
            "left": null,
            "margin": null,
            "max_height": null,
            "max_width": null,
            "min_height": null,
            "min_width": null,
            "object_fit": null,
            "object_position": null,
            "order": null,
            "overflow": null,
            "overflow_x": null,
            "overflow_y": null,
            "padding": null,
            "right": null,
            "top": null,
            "visibility": null,
            "width": null
          }
        },
        "53977b6cc896410c98d4533081b25231": {
          "model_module": "@jupyter-widgets/controls",
          "model_name": "DescriptionStyleModel",
          "model_module_version": "1.5.0",
          "state": {
            "_model_module": "@jupyter-widgets/controls",
            "_model_module_version": "1.5.0",
            "_model_name": "DescriptionStyleModel",
            "_view_count": null,
            "_view_module": "@jupyter-widgets/base",
            "_view_module_version": "1.2.0",
            "_view_name": "StyleView",
            "description_width": ""
          }
        },
        "b2b0381b01df40ad8b678fd528bd9c20": {
          "model_module": "@jupyter-widgets/base",
          "model_name": "LayoutModel",
          "model_module_version": "1.2.0",
          "state": {
            "_model_module": "@jupyter-widgets/base",
            "_model_module_version": "1.2.0",
            "_model_name": "LayoutModel",
            "_view_count": null,
            "_view_module": "@jupyter-widgets/base",
            "_view_module_version": "1.2.0",
            "_view_name": "LayoutView",
            "align_content": null,
            "align_items": null,
            "align_self": null,
            "border": null,
            "bottom": null,
            "display": null,
            "flex": null,
            "flex_flow": null,
            "grid_area": null,
            "grid_auto_columns": null,
            "grid_auto_flow": null,
            "grid_auto_rows": null,
            "grid_column": null,
            "grid_gap": null,
            "grid_row": null,
            "grid_template_areas": null,
            "grid_template_columns": null,
            "grid_template_rows": null,
            "height": null,
            "justify_content": null,
            "justify_items": null,
            "left": null,
            "margin": null,
            "max_height": null,
            "max_width": null,
            "min_height": null,
            "min_width": null,
            "object_fit": null,
            "object_position": null,
            "order": null,
            "overflow": null,
            "overflow_x": null,
            "overflow_y": null,
            "padding": null,
            "right": null,
            "top": null,
            "visibility": null,
            "width": null
          }
        },
        "72a1a8724c5d41d995e0cd535e8dee19": {
          "model_module": "@jupyter-widgets/controls",
          "model_name": "ProgressStyleModel",
          "model_module_version": "1.5.0",
          "state": {
            "_model_module": "@jupyter-widgets/controls",
            "_model_module_version": "1.5.0",
            "_model_name": "ProgressStyleModel",
            "_view_count": null,
            "_view_module": "@jupyter-widgets/base",
            "_view_module_version": "1.2.0",
            "_view_name": "StyleView",
            "bar_color": null,
            "description_width": ""
          }
        },
        "34c324c62b504cefbe921dd12ba7e0de": {
          "model_module": "@jupyter-widgets/base",
          "model_name": "LayoutModel",
          "model_module_version": "1.2.0",
          "state": {
            "_model_module": "@jupyter-widgets/base",
            "_model_module_version": "1.2.0",
            "_model_name": "LayoutModel",
            "_view_count": null,
            "_view_module": "@jupyter-widgets/base",
            "_view_module_version": "1.2.0",
            "_view_name": "LayoutView",
            "align_content": null,
            "align_items": null,
            "align_self": null,
            "border": null,
            "bottom": null,
            "display": null,
            "flex": null,
            "flex_flow": null,
            "grid_area": null,
            "grid_auto_columns": null,
            "grid_auto_flow": null,
            "grid_auto_rows": null,
            "grid_column": null,
            "grid_gap": null,
            "grid_row": null,
            "grid_template_areas": null,
            "grid_template_columns": null,
            "grid_template_rows": null,
            "height": null,
            "justify_content": null,
            "justify_items": null,
            "left": null,
            "margin": null,
            "max_height": null,
            "max_width": null,
            "min_height": null,
            "min_width": null,
            "object_fit": null,
            "object_position": null,
            "order": null,
            "overflow": null,
            "overflow_x": null,
            "overflow_y": null,
            "padding": null,
            "right": null,
            "top": null,
            "visibility": null,
            "width": null
          }
        },
        "d34083f2fb66427dbe1cd0a589e49810": {
          "model_module": "@jupyter-widgets/controls",
          "model_name": "DescriptionStyleModel",
          "model_module_version": "1.5.0",
          "state": {
            "_model_module": "@jupyter-widgets/controls",
            "_model_module_version": "1.5.0",
            "_model_name": "DescriptionStyleModel",
            "_view_count": null,
            "_view_module": "@jupyter-widgets/base",
            "_view_module_version": "1.2.0",
            "_view_name": "StyleView",
            "description_width": ""
          }
        }
      }
    }
  },
  "cells": [
    {
      "cell_type": "markdown",
      "metadata": {
        "id": "view-in-github",
        "colab_type": "text"
      },
      "source": [
        "<a href=\"https://colab.research.google.com/github/joaowinderfeldbussolotto/assistente-ppc-ciencia-da-computacao/blob/main/rag_ppc.ipynb\" target=\"_parent\"><img src=\"https://colab.research.google.com/assets/colab-badge.svg\" alt=\"Open In Colab\"/></a>"
      ]
    },
    {
      "cell_type": "code",
      "execution_count": null,
      "metadata": {
        "colab": {
          "base_uri": "https://localhost:8080/"
        },
        "id": "vHb-YlAabq-l",
        "outputId": "a809b585-f337-43ee-faed-20bc91c7b993"
      },
      "outputs": [
        {
          "output_type": "stream",
          "name": "stdout",
          "text": [
            "\u001b[2K     \u001b[90m━━━━━━━━━━━━━━━━━━━━━━━━━━━━━━━━━━━━━━━━\u001b[0m \u001b[32m286.1/286.1 kB\u001b[0m \u001b[31m4.4 MB/s\u001b[0m eta \u001b[36m0:00:00\u001b[0m\n",
            "\u001b[2K     \u001b[90m━━━━━━━━━━━━━━━━━━━━━━━━━━━━━━━━━━━━━━━━\u001b[0m \u001b[32m812.8/812.8 kB\u001b[0m \u001b[31m11.8 MB/s\u001b[0m eta \u001b[36m0:00:00\u001b[0m\n",
            "\u001b[2K     \u001b[90m━━━━━━━━━━━━━━━━━━━━━━━━━━━━━━━━━━━━━━━━\u001b[0m \u001b[32m7.4/7.4 MB\u001b[0m \u001b[31m24.3 MB/s\u001b[0m eta \u001b[36m0:00:00\u001b[0m\n",
            "\u001b[2K     \u001b[90m━━━━━━━━━━━━━━━━━━━━━━━━━━━━━━━━━━━━━━━━\u001b[0m \u001b[32m485.6/485.6 kB\u001b[0m \u001b[31m27.6 MB/s\u001b[0m eta \u001b[36m0:00:00\u001b[0m\n",
            "\u001b[2K     \u001b[90m━━━━━━━━━━━━━━━━━━━━━━━━━━━━━━━━━━━━━━━━\u001b[0m \u001b[32m72.9/72.9 kB\u001b[0m \u001b[31m6.5 MB/s\u001b[0m eta \u001b[36m0:00:00\u001b[0m\n",
            "\u001b[2K     \u001b[90m━━━━━━━━━━━━━━━━━━━━━━━━━━━━━━━━━━━━━━━━\u001b[0m \u001b[32m244.2/244.2 kB\u001b[0m \u001b[31m16.5 MB/s\u001b[0m eta \u001b[36m0:00:00\u001b[0m\n",
            "\u001b[2K     \u001b[90m━━━━━━━━━━━━━━━━━━━━━━━━━━━━━━━━━━━━━━━━\u001b[0m \u001b[32m92.5/92.5 MB\u001b[0m \u001b[31m8.3 MB/s\u001b[0m eta \u001b[36m0:00:00\u001b[0m\n",
            "\u001b[2K     \u001b[90m━━━━━━━━━━━━━━━━━━━━━━━━━━━━━━━━━━━━━━━━\u001b[0m \u001b[32m77.4/77.4 kB\u001b[0m \u001b[31m4.8 MB/s\u001b[0m eta \u001b[36m0:00:00\u001b[0m\n",
            "\u001b[2K     \u001b[90m━━━━━━━━━━━━━━━━━━━━━━━━━━━━━━━━━━━━━━━━\u001b[0m \u001b[32m232.6/232.6 kB\u001b[0m \u001b[31m16.7 MB/s\u001b[0m eta \u001b[36m0:00:00\u001b[0m\n",
            "\u001b[2K     \u001b[90m━━━━━━━━━━━━━━━━━━━━━━━━━━━━━━━━━━━━━━━━\u001b[0m \u001b[32m7.8/7.8 MB\u001b[0m \u001b[31m32.9 MB/s\u001b[0m eta \u001b[36m0:00:00\u001b[0m\n",
            "\u001b[2K     \u001b[90m━━━━━━━━━━━━━━━━━━━━━━━━━━━━━━━━━━━━━━━━\u001b[0m \u001b[32m110.5/110.5 kB\u001b[0m \u001b[31m7.2 MB/s\u001b[0m eta \u001b[36m0:00:00\u001b[0m\n",
            "\u001b[2K     \u001b[90m━━━━━━━━━━━━━━━━━━━━━━━━━━━━━━━━━━━━━━━━\u001b[0m \u001b[32m194.1/194.1 kB\u001b[0m \u001b[31m4.5 MB/s\u001b[0m eta \u001b[36m0:00:00\u001b[0m\n",
            "\u001b[2K     \u001b[90m━━━━━━━━━━━━━━━━━━━━━━━━━━━━━━━━━━━━━━━━\u001b[0m \u001b[32m134.8/134.8 kB\u001b[0m \u001b[31m7.0 MB/s\u001b[0m eta \u001b[36m0:00:00\u001b[0m\n",
            "\u001b[2K     \u001b[90m━━━━━━━━━━━━━━━━━━━━━━━━━━━━━━━━━━━━━━━━\u001b[0m \u001b[32m1.9/1.9 MB\u001b[0m \u001b[31m21.0 MB/s\u001b[0m eta \u001b[36m0:00:00\u001b[0m\n",
            "\u001b[2K     \u001b[90m━━━━━━━━━━━━━━━━━━━━━━━━━━━━━━━━━━━━━━━━\u001b[0m \u001b[32m276.6/276.6 kB\u001b[0m \u001b[31m9.3 MB/s\u001b[0m eta \u001b[36m0:00:00\u001b[0m\n",
            "\u001b[2K     \u001b[90m━━━━━━━━━━━━━━━━━━━━━━━━━━━━━━━━━━━━━━━━\u001b[0m \u001b[32m87.5/87.5 kB\u001b[0m \u001b[31m2.7 MB/s\u001b[0m eta \u001b[36m0:00:00\u001b[0m\n",
            "\u001b[2K     \u001b[90m━━━━━━━━━━━━━━━━━━━━━━━━━━━━━━━━━━━━━━━━\u001b[0m \u001b[32m49.4/49.4 kB\u001b[0m \u001b[31m873.0 kB/s\u001b[0m eta \u001b[36m0:00:00\u001b[0m\n",
            "\u001b[2K     \u001b[90m━━━━━━━━━━━━━━━━━━━━━━━━━━━━━━━━━━━━━━━━\u001b[0m \u001b[32m53.0/53.0 kB\u001b[0m \u001b[31m3.2 MB/s\u001b[0m eta \u001b[36m0:00:00\u001b[0m\n",
            "\u001b[2K     \u001b[90m━━━━━━━━━━━━━━━━━━━━━━━━━━━━━━━━━━━━━━━━\u001b[0m \u001b[32m144.8/144.8 kB\u001b[0m \u001b[31m2.1 MB/s\u001b[0m eta \u001b[36m0:00:00\u001b[0m\n",
            "\u001b[2K     \u001b[91m━━━━━━━━━━━━━━━━━━━━━━━━━━━━━━━━━━━━━━━\u001b[0m\u001b[91m╸\u001b[0m \u001b[32m23.7/23.7 MB\u001b[0m \u001b[31m71.7 MB/s\u001b[0m eta \u001b[36m0:00:01\u001b[0m\n",
            "\u001b[?25h\u001b[31mERROR: Operation cancelled by user\u001b[0m\u001b[31m\n",
            "\u001b[0m"
          ]
        }
      ],
      "source": [
        "!pip install -U -q \"pypdf\" \"langchain\" \"transformers==4.31.0\" \"datasets==2.13.0\" \"peft==0.4.0\" \"accelerate==0.21.0\" \"bitsandbytes==0.40.2\" \"trl==0.4.7\" \"safetensors>=0.3.1\" \"PyPDF2\""
      ]
    },
    {
      "cell_type": "code",
      "source": [
        "!mkdir -p data\n",
        "!wget https://www.uffs.edu.br/atos-normativos/ppc/ccccch/2017-0002/@@download/documento_historico -O \"data/ppc.pdf\""
      ],
      "metadata": {
        "colab": {
          "base_uri": "https://localhost:8080/"
        },
        "id": "W_EIUv8_btB9",
        "outputId": "faf78a13-f5c5-4244-ae39-995b88bd6d50"
      },
      "execution_count": null,
      "outputs": [
        {
          "output_type": "stream",
          "name": "stdout",
          "text": [
            "--2024-04-03 14:39:52--  https://www.uffs.edu.br/atos-normativos/ppc/ccccch/2017-0002/@@download/documento_historico\n",
            "Resolving www.uffs.edu.br (www.uffs.edu.br)... 200.135.49.107\n",
            "Connecting to www.uffs.edu.br (www.uffs.edu.br)|200.135.49.107|:443... connected.\n",
            "HTTP request sent, awaiting response... 200 OK\n",
            "Length: 1493834 (1.4M) [application/pdf]\n",
            "Saving to: ‘data/ppc.pdf’\n",
            "\n",
            "data/ppc.pdf        100%[===================>]   1.42M  1.21MB/s    in 1.2s    \n",
            "\n",
            "2024-04-03 14:39:54 (1.21 MB/s) - ‘data/ppc.pdf’ saved [1493834/1493834]\n",
            "\n"
          ]
        }
      ]
    },
    {
      "cell_type": "code",
      "source": [
        "from langchain_community.document_loaders import PyPDFLoader\n",
        "\n",
        "loader = PyPDFLoader(\"data/ppc.pdf\")\n",
        "pages = loader.load_and_split()"
      ],
      "metadata": {
        "id": "tWqqzkmXdFq5"
      },
      "execution_count": null,
      "outputs": []
    },
    {
      "cell_type": "code",
      "source": [
        "pages[0]"
      ],
      "metadata": {
        "colab": {
          "base_uri": "https://localhost:8080/"
        },
        "id": "6EoFa3Mjd6bR",
        "outputId": "308e8bec-68c7-4d5a-aa95-d1a89301e5fb"
      },
      "execution_count": null,
      "outputs": [
        {
          "output_type": "execute_result",
          "data": {
            "text/plain": [
              "Document(page_content='MINISTÉRIO DA EDUCAÇÃO\\nUNIVERSIDADE FEDERAL DA FRONTEIRA SUL – UFFS\\nPRÓ-REITORIA DE GRADUAÇÃO\\nDIRETORIA DE PEDAGÓGICA\\nPROJETO PEDAGÓGICO DO CURSO DE GRADUAÇÃO EM\\nCIÊNCIA DA COMPUTAÇÃO – BACHARELADO\\nChapecó-SC, setembro  de 2017.\\nProjeto Pedagógico do Curso de Graduação em Ciência da Computação – Bacharelado 1', metadata={'source': 'data/ppc.pdf', 'page': 0})"
            ]
          },
          "metadata": {},
          "execution_count": 4
        }
      ]
    },
    {
      "cell_type": "code",
      "source": [
        "from langchain.text_splitter import RecursiveCharacterTextSplitter\n",
        "\n",
        "text_splitter = RecursiveCharacterTextSplitter(\n",
        "    chunk_size = 1000, # the character length of the chunk\n",
        "    chunk_overlap = 100, # the character length of the overlap between chunks\n",
        "    length_function = len, # the length function - in this case, character length (aka the python len() fn.)\n",
        ")\n",
        "\n",
        "documents = text_splitter.transform_documents(pages)"
      ],
      "metadata": {
        "id": "gNmrTpZYfRvi"
      },
      "execution_count": null,
      "outputs": []
    },
    {
      "cell_type": "code",
      "source": [
        "len(documents)"
      ],
      "metadata": {
        "colab": {
          "base_uri": "https://localhost:8080/"
        },
        "id": "TAvANiCFfabR",
        "outputId": "b2907a93-2887-46d2-82b4-5a448e8da49d"
      },
      "execution_count": null,
      "outputs": [
        {
          "output_type": "execute_result",
          "data": {
            "text/plain": [
              "492"
            ]
          },
          "metadata": {},
          "execution_count": 6
        }
      ]
    },
    {
      "cell_type": "code",
      "source": [
        "!pip install -q -U faiss-cpu tiktoken sentence-transformers"
      ],
      "metadata": {
        "id": "uHIiIJDDfcQn"
      },
      "execution_count": null,
      "outputs": []
    },
    {
      "cell_type": "code",
      "source": [
        "from langchain.embeddings import CacheBackedEmbeddings, HuggingFaceEmbeddings\n",
        "from langchain.vectorstores import FAISS\n",
        "from langchain.storage import LocalFileStore\n",
        "\n",
        "store = LocalFileStore(\"./cache/\")\n",
        "\n",
        "embed_model_id = 'sentence-transformers/all-MiniLM-L6-v2'\n",
        "\n",
        "core_embeddings_model = HuggingFaceEmbeddings(\n",
        "    model_name=embed_model_id\n",
        ")\n",
        "\n",
        "embedder = CacheBackedEmbeddings.from_bytes_store(\n",
        "    core_embeddings_model, store, namespace=embed_model_id\n",
        ")\n",
        "\n",
        "vector_store = FAISS.from_documents(documents, embedder)"
      ],
      "metadata": {
        "colab": {
          "base_uri": "https://localhost:8080/"
        },
        "id": "FM1n-Z5_fmZ9",
        "outputId": "00aa6442-cd07-42fe-9149-51a3c6bfbd8b"
      },
      "execution_count": null,
      "outputs": [
        {
          "output_type": "stream",
          "name": "stderr",
          "text": [
            "/usr/local/lib/python3.10/dist-packages/huggingface_hub/utils/_token.py:88: UserWarning: \n",
            "The secret `HF_TOKEN` does not exist in your Colab secrets.\n",
            "To authenticate with the Hugging Face Hub, create a token in your settings tab (https://huggingface.co/settings/tokens), set it as secret in your Google Colab and restart your session.\n",
            "You will be able to reuse this secret in all of your notebooks.\n",
            "Please note that authentication is recommended but still optional to access public models or datasets.\n",
            "  warnings.warn(\n"
          ]
        }
      ]
    },
    {
      "cell_type": "code",
      "source": [
        "query = \"Qual a ementa de geometria analítica?\"\n",
        "embedding_vector = core_embeddings_model.embed_query(query)\n",
        "docs = vector_store.similarity_search_by_vector(embedding_vector, k = 5)\n",
        "\n",
        "for page in docs:\n",
        "  print(page.page_content)"
      ],
      "metadata": {
        "colab": {
          "base_uri": "https://localhost:8080/"
        },
        "id": "-1BAUKwHf8oR",
        "outputId": "5c838cce-558b-4fdb-b0dc-e4e2f47f71be"
      },
      "execution_count": null,
      "outputs": [
        {
          "output_type": "stream",
          "name": "stdout",
          "text": [
            "CAROLI,  C.;  CALLIOLI,  C.  A.;  FEITOSA,  M.  O.  Matrizes,  vetores  e  Geometria\n",
            "Analítica. São Paulo: Nobel, 1984.\n",
            "REIS, G. L. Dos; SILV A, V . V . Geometria Analítica . Rio de Janeiro: LTC, 1996.\n",
            "SANTOS, F. J. dos; FERREIRA, S. F. Geometria Analítica.  Porto Alegre: Artmed, 2009.\n",
            "Projeto Pedagógico do Curso de Graduação em Ciência da Computação – Bacharelado 57\n",
            "York: John Wiley & Sons, 1967. v. 2.\n",
            "LARSON, R.; HOSTETLER, R. P.; EDWARDS, B. H. Cálculo. 8. ed. São Paulo: McGraw\n",
            "Hill, 2006. 1 v.\n",
            "______. Cálculo. 8 ed. São Paulo: McGraw Hill, 2006. 2 v.\n",
            "SALAS, H. E. Cálculo. 9. ed. Rio de Janeiro: LTC, 2005. 1 v.\n",
            "______. Cálculo. 9. ed. Rio de Janeiro: LTC, 2005. 2 v.\n",
            "SIMMONS, G. F. Cálculo com geometria analítica. São Paulo: McGraw Hill, 1987. 1 v.\n",
            "______. Cálculo com geometria analítica. São Paulo: McGraw Hill, 1987. 2 v.\n",
            "Projeto Pedagógico do Curso de Graduação em Ciência da Computação – Bacharelado 68\n",
            "MINISTÉRIO DA EDUCAÇÃO\n",
            "UNIVERSIDADE FEDERAL DA FRONTEIRA SUL – UFFS\n",
            "PRÓ-REITORIA DE GRADUAÇÃO\n",
            "DIRETORIA DE PEDAGÓGICA\n",
            "CódigoCOMPONENTE CURRICULAR CréditosHoras\n",
            "GEX195 GEOMETRIA ANALÍTICA 460\n",
            "EMENTA\n",
            "Sistema de coordenadas cartesianas. Vetores no plano e no espaço. Estudo analítico de retas e planos.\n",
            "Distâncias. Cônicas. Superfícies quádricas.\n",
            "OBJETIVO\n",
            "Capacitar o aluno a utilizar sistemas de coordenadas mais adequados à solução de um\n",
            "problema específico, identificar e representar graficamente retas, planos, curvas cônicas e\n",
            "superfícies quadráticas.\n",
            "REFERÊNCIAS BÁSICAS\n",
            "BOULOS, P.; CAMARGO, I.  Geometria analítica:  um tratamento vetorial.  3. ed. São\n",
            "Paulo: Pearson Education, 2005.\n",
            "STEINBRUCH,  A.;  WINTERLE,  P.  Geometria  Analítica .  2.  ed.  São  Paulo:  Pearson\n",
            "Makron Books, 1987.\n",
            "WINTERLE, P. Vetores e Geometria Analítica . São Paulo: Makron Books, 2000.\n",
            "REFERÊNCIAS COMPLEMENTARES\n",
            "CAROLI,  C.;  CALLIOLI,  C.  A.;  FEITOSA,  M.  O.  Matrizes,  vetores  e  Geometria\n",
            "de superfície. 6. ed. São Paulo: Makron Books, 2007.\n",
            "GUIDORIZZI, H. L. Um curso de cálculo. 5. ed. Rio de Janeiro: LTC, 2001. v. 2 e 3.\n",
            "LEITHOLD, L. O cálculo com geometria analítica. 3. ed. São Paulo: Harbra, 1994. 1 v.\n",
            "______.O cálculo com geometria analítica. 3. ed. São Paulo: Harbra, 1994. 2 v.\n",
            "STEWART, J. Cálculo. 6. ed. São Paulo: Cengage Learning, 2010. 1 v.\n",
            "______.Cálculo. 6. ed. São Paulo: Cengage Learning, 2010. 2 v.\n",
            "THOMAS, G. B. Cálculo. 11. ed. São Paulo: Addison Wesley, 2008. 1 v.\n",
            "______.Cálculo. 11. ed. São Paulo: Addison Wesley, 2008. 2 v.\n",
            "REFERÊNCIAS COMPLEMENTARES\n",
            "ANTON, H.; BIVENS, I.; DA VIS, S. Cálculo. 8. ed. São Paulo: Bookman, 2007. v. 2.\n",
            "______. Cálculo. 8. ed. São Paulo: Bookman, 2007. v. 1.\n",
            "APOSTOL, T. M. Calculus: one-variable calculus, with an introduction to linear algebra. 2.\n",
            "ed. New York: John Wiley & Sons, 1967. v. 1.\n",
            "______. Calculus: one-variable calculus, with an introduction to linear algebra. 2. ed. New\n",
            "York: John Wiley & Sons, 1967. v. 2.\n",
            "de funcionamento. Iniciava-se aí a trajetória em busca da constituição de uma identidade e de\n",
            "uma cultura institucional.\n",
            "A preocupação em manter uma interação constante com a comunidade regional no\n",
            "sentido de projetar suas ações de ensino, pesquisa, extensão e administração fez com que a\n",
            "UFFS realizasse, ao longo do ano de 2010, a 1ª Conferência de Ensino, Pesquisa e Extensão\n",
            "(COEPE).  Foram  dezenas  de  oficinas,  seminários  e  debates  envolvendo  a  comunidade\n",
            "acadêmica, as entidades, as organizações e os movimentos sociais para definição das políticas\n",
            "de ensino, pesquisa e extensão da Universidade a partir de um diálogo aberto e franco com\n",
            "todos os setores sociais. O processo foi iniciado com debates em todos os campi e concluído\n",
            "com eventos regionais que resultaram numa sistematização das proposições que subsidiaram o\n",
            "processo de elaboração de políticas orientadoras para a ação da Universidade em seu processo\n",
            "de implantação e consolidação.\n"
          ]
        }
      ]
    },
    {
      "cell_type": "code",
      "source": [
        "!pip install huggingface-hub -q"
      ],
      "metadata": {
        "id": "ZR87-hx6iqbk"
      },
      "execution_count": null,
      "outputs": []
    },
    {
      "cell_type": "code",
      "source": [
        "from huggingface_hub import notebook_login\n",
        "\n",
        "notebook_login()"
      ],
      "metadata": {
        "colab": {
          "base_uri": "https://localhost:8080/",
          "height": 387,
          "referenced_widgets": [
            "3d6b9221db7c49dd9576e01985d8b112",
            "227a28b312fb42f2b9d0b31cc74c0fec",
            "b08750ebf5ea46bc8e6ed5bfa24e6d05",
            "9c4c53fb87924f1ba51b7c5fa48f6ecd",
            "9510767752f5465d801f5ae13a3ac2cb",
            "e5391b027b684a9e8d10426aa05c6584",
            "8936656113844e59bfb762f5dfa8d82c",
            "a9eea33437714b6a88c4e604afd1b28b",
            "043ff2fea7a2459fa571ea0cd685d82b",
            "72fafa3f09494956bcadc6bcf4b45ef3",
            "1f9da5011d1d4ce1998dfb2da0915e93",
            "e41a7ea26db8497291ea459987f9149d",
            "c8366234a7ea498ba43d016be14d9ee5",
            "64f15c82bcc842c59ad5971b498d0941",
            "ecd8751288fb4369b51c14805659aaf5",
            "aa6b168fc7c24676845449b7846d75da",
            "41a9948fb8e44eb9a863f6c24c2e2a6d"
          ]
        },
        "id": "wVGHHq5-itPt",
        "outputId": "b1236b7d-bc97-4b27-80da-967655bb68c7"
      },
      "execution_count": null,
      "outputs": [
        {
          "output_type": "display_data",
          "data": {
            "text/plain": [
              "VBox(children=(HTML(value='<center> <img\\nsrc=https://huggingface.co/front/assets/huggingface_logo-noborder.sv…"
            ],
            "application/vnd.jupyter.widget-view+json": {
              "version_major": 2,
              "version_minor": 0,
              "model_id": "3d6b9221db7c49dd9576e01985d8b112"
            }
          },
          "metadata": {}
        }
      ]
    },
    {
      "cell_type": "code",
      "source": [
        "# import torch\n",
        "# import transformers\n",
        "# from transformers import AutoModelForCausalLM, AutoTokenizer, GenerationConfig\n",
        "# from peft import PeftModel, PeftConfig\n",
        "\n",
        "# model_id = 'recogna-nlp/bode-7b-alpaca-pt-br'\n",
        "\n",
        "# config = PeftConfig.from_pretrained(model_id)\n",
        "\n",
        "\n",
        "# model = AutoModelForCausalLM.from_pretrained(config.base_model_name_or_path, trust_remote_code=True, return_dict=True, load_in_8bit=True, device_map='auto')\n",
        "\n",
        "# model.eval()\n",
        "\n",
        "\n",
        "\n",
        "import torch\n",
        "import transformers\n",
        "\n",
        "model_id = \"meta-llama/Llama-2-13b-chat-hf\"\n",
        "\n",
        "bnb_config = transformers.BitsAndBytesConfig(\n",
        "    load_in_4bit=True,\n",
        "    bnb_4bit_quant_type='nf4',\n",
        "    bnb_4bit_use_double_quant=True,\n",
        "    bnb_4bit_compute_dtype=torch.bfloat16\n",
        ")\n",
        "\n",
        "model_config = transformers.AutoConfig.from_pretrained(\n",
        "    model_id\n",
        ")\n",
        "\n",
        "model = transformers.AutoModelForCausalLM.from_pretrained(\n",
        "    model_id,\n",
        "    trust_remote_code=True,\n",
        "    config=model_config,\n",
        "    quantization_config=bnb_config,\n",
        "    device_map='auto'\n",
        ")\n",
        "\n",
        "model.eval()"
      ],
      "metadata": {
        "colab": {
          "base_uri": "https://localhost:8080/",
          "height": 538,
          "referenced_widgets": [
            "9f791478271043719bd76d25d4ea7f6a",
            "d3c31f96acaf4ebfa82a5fa999cb1069",
            "a7dbf49eb8f44a2aa2b2bda37bcb7ff1",
            "778b5fd3f1cd4d068d22c41c3812668a",
            "4a03d79253f24a69ba0ca0ef8be973cc",
            "c847dcf5cb9642468ae41220f9ad2914",
            "53977b6cc896410c98d4533081b25231",
            "b2b0381b01df40ad8b678fd528bd9c20",
            "72a1a8724c5d41d995e0cd535e8dee19",
            "34c324c62b504cefbe921dd12ba7e0de",
            "d34083f2fb66427dbe1cd0a589e49810"
          ]
        },
        "id": "ojp-7oqlgZhE",
        "outputId": "188990cf-552e-4260-f944-5bcc2cdca020"
      },
      "execution_count": null,
      "outputs": [
        {
          "output_type": "display_data",
          "data": {
            "text/plain": [
              "Loading checkpoint shards:   0%|          | 0/3 [00:00<?, ?it/s]"
            ],
            "application/vnd.jupyter.widget-view+json": {
              "version_major": 2,
              "version_minor": 0,
              "model_id": "9f791478271043719bd76d25d4ea7f6a"
            }
          },
          "metadata": {}
        },
        {
          "output_type": "stream",
          "name": "stderr",
          "text": [
            "You are calling `save_pretrained` to a 4-bit converted model, but your `bitsandbytes` version doesn't support it. If you want to save 4-bit models, make sure to have `bitsandbytes>=0.41.3` installed.\n"
          ]
        },
        {
          "output_type": "execute_result",
          "data": {
            "text/plain": [
              "LlamaForCausalLM(\n",
              "  (model): LlamaModel(\n",
              "    (embed_tokens): Embedding(32000, 5120)\n",
              "    (layers): ModuleList(\n",
              "      (0-39): 40 x LlamaDecoderLayer(\n",
              "        (self_attn): LlamaSdpaAttention(\n",
              "          (q_proj): Linear4bit(in_features=5120, out_features=5120, bias=False)\n",
              "          (k_proj): Linear4bit(in_features=5120, out_features=5120, bias=False)\n",
              "          (v_proj): Linear4bit(in_features=5120, out_features=5120, bias=False)\n",
              "          (o_proj): Linear4bit(in_features=5120, out_features=5120, bias=False)\n",
              "          (rotary_emb): LlamaRotaryEmbedding()\n",
              "        )\n",
              "        (mlp): LlamaMLP(\n",
              "          (gate_proj): Linear4bit(in_features=5120, out_features=13824, bias=False)\n",
              "          (up_proj): Linear4bit(in_features=5120, out_features=13824, bias=False)\n",
              "          (down_proj): Linear4bit(in_features=13824, out_features=5120, bias=False)\n",
              "          (act_fn): SiLU()\n",
              "        )\n",
              "        (input_layernorm): LlamaRMSNorm()\n",
              "        (post_attention_layernorm): LlamaRMSNorm()\n",
              "      )\n",
              "    )\n",
              "    (norm): LlamaRMSNorm()\n",
              "  )\n",
              "  (lm_head): Linear(in_features=5120, out_features=32000, bias=False)\n",
              ")"
            ]
          },
          "metadata": {},
          "execution_count": 12
        }
      ]
    },
    {
      "cell_type": "code",
      "source": [
        "tokenizer = transformers.AutoTokenizer.from_pretrained(\n",
        "    model_id\n",
        ")"
      ],
      "metadata": {
        "id": "vk43oUfbWdh2"
      },
      "execution_count": null,
      "outputs": []
    },
    {
      "cell_type": "code",
      "source": [
        "generate_text = transformers.pipeline(\n",
        "    model=model,\n",
        "    tokenizer=tokenizer,\n",
        "    task=\"text-generation\",\n",
        "    return_full_text=True,\n",
        "    temperature=0.1,\n",
        "    max_new_tokens=256\n",
        ")"
      ],
      "metadata": {
        "id": "kc8SQP2nYaw2"
      },
      "execution_count": null,
      "outputs": []
    },
    {
      "cell_type": "code",
      "source": [
        "from langchain.llms import HuggingFacePipeline\n",
        "\n",
        "llm = HuggingFacePipeline(pipeline=generate_text)"
      ],
      "metadata": {
        "id": "dai8ZUZvYgwf"
      },
      "execution_count": null,
      "outputs": []
    },
    {
      "cell_type": "code",
      "source": [
        "retriever = vector_store.as_retriever()"
      ],
      "metadata": {
        "id": "u_XIfEWdYi6n"
      },
      "execution_count": null,
      "outputs": []
    },
    {
      "cell_type": "code",
      "source": [
        "from langchain.chains import RetrievalQA\n",
        "from langchain.callbacks import StdOutCallbackHandler\n",
        "\n",
        "handler = StdOutCallbackHandler()\n",
        "\n",
        "qa_with_sources_chain = RetrievalQA.from_chain_type(\n",
        "    llm=llm,\n",
        "    retriever=retriever,\n",
        "    callbacks=[handler],\n",
        "    return_source_documents=True\n",
        ")"
      ],
      "metadata": {
        "id": "hh-c4tuCYmfW"
      },
      "execution_count": null,
      "outputs": []
    },
    {
      "cell_type": "code",
      "source": [
        "qa_with_sources_chain({\"query\" : \"Qual a ementa de algebra linear?\"})"
      ],
      "metadata": {
        "colab": {
          "base_uri": "https://localhost:8080/"
        },
        "id": "awKSXBYpYpPB",
        "outputId": "ccc20cab-a688-4e9a-f255-fd6150aacf60"
      },
      "execution_count": null,
      "outputs": [
        {
          "output_type": "stream",
          "name": "stderr",
          "text": [
            "/usr/local/lib/python3.10/dist-packages/langchain_core/_api/deprecation.py:117: LangChainDeprecationWarning: The function `__call__` was deprecated in LangChain 0.1.0 and will be removed in 0.2.0. Use invoke instead.\n",
            "  warn_deprecated(\n"
          ]
        },
        {
          "output_type": "stream",
          "name": "stdout",
          "text": [
            "\n",
            "\n",
            "\u001b[1m> Entering new RetrievalQA chain...\u001b[0m\n",
            "\n",
            "\u001b[1m> Finished chain.\u001b[0m\n"
          ]
        },
        {
          "output_type": "execute_result",
          "data": {
            "text/plain": [
              "{'query': 'Qual a ementa de algebra linear?',\n",
              " 'result': \"Use the following pieces of context to answer the question at the end. If you don't know the answer, just say that you don't know, don't try to make up an answer.\\n\\nMINISTÉRIO DA EDUCAÇÃO\\nUNIVERSIDADE FEDERAL DA FRONTEIRA SUL – UFFS\\nPRÓ-REITORIA DE GRADUAÇÃO\\nDIRETORIA DE PEDAGÓGICA\\nCódigo COMPONENTE CURRICULAR CréditosHoras\\nGEX607 ÁLGEBRA LINEAR 460\\nEMENTA\\nMatrizes. Determinantes. Sistemas de equações lineares. Espaços vetoriais. Transformações\\nlineares. Espaços com produto interno. Autovalores e autovetores. Diagonalização.\\nOBJETIVO\\nResolver sistemas de equações lineares utilizando operações elementares. Calcular a inversa\\nde matrizes usando operações elementares. Compreender os conceitos de transformação\\nlinear, autovalor, autovetor e ter contato com aplicações da Álgebra Linear em problemas\\nreais.\\nREFERÊNCIAS BÁSICAS\\nANTON, H.; RORRES, C. Álgebra linear com aplicações . 8. ed. Porto Alegre: Bookman,\\n2001.\\nBOLDRINI, J. L. et al. Álgebra linear. 3. ed. São Paulo: HARBRA, 1986.\\nLEON, S. J. Álgebra linear com aplicações . 4. ed. Rio de Janeiro: LTC, 1999.\\nPOOLE, D. Álgebra Linear. São Paulo: Pioneira Thomson Learning, 2004.\\n\\nPOOLE, D. Álgebra Linear. São Paulo: Pioneira Thomson Learning, 2004.  \\nREFERÊNCIAS COMPLEMENTARES\\nCALLIOLI, C.; DOMINGUES, H.; COSTA, R. Álgebra linear e aplicações . 6. ed. São\\nPaulo: Atual, 2006.\\nCOELHO, F.; LOURENÇO, M. Um curso de álgebra linear . São Paulo: EDUSP, 2002.\\nDUNN, F.; PARBERRY , I. 3D Math Primer for Graphics and Game Development.  2.\\ned. A K Peters/CRC Press, 2011. ISBN-10: 1568817231.\\nKOLMAN, B.; HILL, D. R. Introdução à álgebra linear com aplicações . Rio de Janeiro:\\nLTC, 2006.\\nLENGYEL, E. Mathematics for 3D game programming and computer graphics . 3. ed. \\nCourse Technology PTR, 2011. ISBN-10: 1435458869.\\nLIPSCHUTZ, S.  Álgebra Linear:  teoria e problemas. 3. ed. São Paulo: Makron Books,\\n1994.\\nSANTOS,  R.  J.  Geometria  analítica  e  álgebra  linear .  Disponível  em:\\n<http://www.mat.ufmg.br/~regi >. Acesso em: 22 nov. 2011.\\nSTEINBRUCH, A.; WINTERLE, P. Álgebra linear. São Paulo: McGraw-Hill, 1987.\\n\\nMINISTÉRIO DA EDUCAÇÃO\\nUNIVERSIDADE FEDERAL DA FRONTEIRA SUL – UFFS\\nPRÓ-REITORIA DE GRADUAÇÃO\\nDIRETORIA DE PEDAGÓGICA\\nCódigo COMPONENTE CURRICULAR CréditosHora\\ns\\nGEX517 ÁLGEBRA 0460\\nEMENTA\\nAnéis. Ideais. Corpos. Anéis de polinômios. Grupos.\\nOBJETIVO\\nAprofundar conceitos e trabalhar com formalismos matemáticos, familiarizando-se com os\\nmétodos de demonstração; Desenvolver a capacidade de raciocínio lógico e organizado.\\nREFERÊNCIAS BÁSICAS\\nDOMINGUES, H. H.; IEZZI, G. Álgebra moderna.  4. ed. São Paulo: Atual, 2003.\\nGONÇALVES, A.  Introdução à álgebra.  5. ed. Rio de Janeiro: IMPA, 2001. (Coleção\\nProjeto Euclides)\\nHEFEZ, A. Curso de álgebra.  2. ed. Rio de Janeiro: IMPA, 1997. (Coleção Matemática\\nUniversitária)\\nREFERÊNCIAS COMPLEMENTARES\\nBOYER, C. B. História da matemática.  2. ed. São Paulo: Edgard Blucher, 1996.\\nFILHO, E. A. Elementos de teoria dos anéis . São Paulo: Nobel, 1992.\\nGARCIA, A.; LEQUAIN, Y .  Álgebra:  um curso de introdução. Rio de Janeiro: IMPA,\\n\\nSTEINBRUCH, A.; WINTERLE, P. Álgebra linear. São Paulo: McGraw-Hill, 1987.\\nVERTH, J.; BISHOP, L.  Essential Mathematics for Games and Interactive Applica -\\ntions: A Programmer's Guide. 2. ed. Morgan Kaufmann, 2008. ISBN-10: 0123742978.\\nProjeto Pedagógico do Curso de Graduação em Ciência da Computação – Bacharelado 63\\n\\nQuestion: Qual a ementa de algebra linear?\\nHelpful Answer: A ementa de algebra linear é formulada abaixo:\\n\\nGEX607 ÁLGEBRA LINEAR 460\\n\\nEmenta:\\n\\n* Matrizes. Determinantes. Sistemas de equações lineares. Espaços vetoriais. Transformações lineares. Espaços com produto interno. Autovalores e autovetores. Diagonalização.\\n\\nThe ementa covers the following topics:\\n\\n1. Matrices and determinants\\n2. Systems of linear equations\\n3. Vector spaces\\n4. Linear transformations\\n5. Eigenvalues and eigenvectors\\n6. Diagonalization\\n\\nThe ementa is designed to provide a comprehensive understanding of linear algebra and its applications in computer science and other fields.\",\n",
              " 'source_documents': [Document(page_content='MINISTÉRIO DA EDUCAÇÃO\\nUNIVERSIDADE FEDERAL DA FRONTEIRA SUL – UFFS\\nPRÓ-REITORIA DE GRADUAÇÃO\\nDIRETORIA DE PEDAGÓGICA\\nCódigo COMPONENTE CURRICULAR CréditosHoras\\nGEX607 ÁLGEBRA LINEAR 460\\nEMENTA\\nMatrizes. Determinantes. Sistemas de equações lineares. Espaços vetoriais. Transformações\\nlineares. Espaços com produto interno. Autovalores e autovetores. Diagonalização.\\nOBJETIVO\\nResolver sistemas de equações lineares utilizando operações elementares. Calcular a inversa\\nde matrizes usando operações elementares. Compreender os conceitos de transformação\\nlinear, autovalor, autovetor e ter contato com aplicações da Álgebra Linear em problemas\\nreais.\\nREFERÊNCIAS BÁSICAS\\nANTON, H.; RORRES, C. Álgebra linear com aplicações . 8. ed. Porto Alegre: Bookman,\\n2001.\\nBOLDRINI, J. L. et al. Álgebra linear. 3. ed. São Paulo: HARBRA, 1986.\\nLEON, S. J. Álgebra linear com aplicações . 4. ed. Rio de Janeiro: LTC, 1999.\\nPOOLE, D. Álgebra Linear. São Paulo: Pioneira Thomson Learning, 2004.', metadata={'source': 'data/ppc.pdf', 'page': 62}),\n",
              "  Document(page_content='POOLE, D. Álgebra Linear. São Paulo: Pioneira Thomson Learning, 2004.  \\nREFERÊNCIAS COMPLEMENTARES\\nCALLIOLI, C.; DOMINGUES, H.; COSTA, R. Álgebra linear e aplicações . 6. ed. São\\nPaulo: Atual, 2006.\\nCOELHO, F.; LOURENÇO, M. Um curso de álgebra linear . São Paulo: EDUSP, 2002.\\nDUNN, F.; PARBERRY , I. 3D Math Primer for Graphics and Game Development.  2.\\ned. A K Peters/CRC Press, 2011. ISBN-10: 1568817231.\\nKOLMAN, B.; HILL, D. R. Introdução à álgebra linear com aplicações . Rio de Janeiro:\\nLTC, 2006.\\nLENGYEL, E. Mathematics for 3D game programming and computer graphics . 3. ed. \\nCourse Technology PTR, 2011. ISBN-10: 1435458869.\\nLIPSCHUTZ, S.  Álgebra Linear:  teoria e problemas. 3. ed. São Paulo: Makron Books,\\n1994.\\nSANTOS,  R.  J.  Geometria  analítica  e  álgebra  linear .  Disponível  em:\\n<http://www.mat.ufmg.br/~regi >. Acesso em: 22 nov. 2011.\\nSTEINBRUCH, A.; WINTERLE, P. Álgebra linear. São Paulo: McGraw-Hill, 1987.', metadata={'source': 'data/ppc.pdf', 'page': 62}),\n",
              "  Document(page_content='MINISTÉRIO DA EDUCAÇÃO\\nUNIVERSIDADE FEDERAL DA FRONTEIRA SUL – UFFS\\nPRÓ-REITORIA DE GRADUAÇÃO\\nDIRETORIA DE PEDAGÓGICA\\nCódigo COMPONENTE CURRICULAR CréditosHora\\ns\\nGEX517 ÁLGEBRA 0460\\nEMENTA\\nAnéis. Ideais. Corpos. Anéis de polinômios. Grupos.\\nOBJETIVO\\nAprofundar conceitos e trabalhar com formalismos matemáticos, familiarizando-se com os\\nmétodos de demonstração; Desenvolver a capacidade de raciocínio lógico e organizado.\\nREFERÊNCIAS BÁSICAS\\nDOMINGUES, H. H.; IEZZI, G. Álgebra moderna.  4. ed. São Paulo: Atual, 2003.\\nGONÇALVES, A.  Introdução à álgebra.  5. ed. Rio de Janeiro: IMPA, 2001. (Coleção\\nProjeto Euclides)\\nHEFEZ, A. Curso de álgebra.  2. ed. Rio de Janeiro: IMPA, 1997. (Coleção Matemática\\nUniversitária)\\nREFERÊNCIAS COMPLEMENTARES\\nBOYER, C. B. História da matemática.  2. ed. São Paulo: Edgard Blucher, 1996.\\nFILHO, E. A. Elementos de teoria dos anéis . São Paulo: Nobel, 1992.\\nGARCIA, A.; LEQUAIN, Y .  Álgebra:  um curso de introdução. Rio de Janeiro: IMPA,', metadata={'source': 'data/ppc.pdf', 'page': 152}),\n",
              "  Document(page_content=\"STEINBRUCH, A.; WINTERLE, P. Álgebra linear. São Paulo: McGraw-Hill, 1987.\\nVERTH, J.; BISHOP, L.  Essential Mathematics for Games and Interactive Applica -\\ntions: A Programmer's Guide. 2. ed. Morgan Kaufmann, 2008. ISBN-10: 0123742978.\\nProjeto Pedagógico do Curso de Graduação em Ciência da Computação – Bacharelado 63\", metadata={'source': 'data/ppc.pdf', 'page': 62})]}"
            ]
          },
          "metadata": {},
          "execution_count": 18
        }
      ]
    },
    {
      "cell_type": "code",
      "source": [
        "import os\n",
        "import PyPDF2\n",
        "from PyPDF2 import PdfReader\n",
        "\n",
        "# Importing necessary modules from langchain and langchain_openai\n",
        "from langchain.text_splitter import RecursiveCharacterTextSplitter\n",
        "from langchain_community.callbacks import get_openai_callback\n",
        "from langchain_community.vectorstores import FAISS\n",
        "from langchain_core.output_parsers import StrOutputParser\n",
        "from langchain_core.prompts import ChatPromptTemplate\n",
        "from langchain_core.runnables import RunnablePassthrough\n",
        "\n",
        "\n",
        "def chunk_processing(pdf):\n",
        "    \"\"\"\n",
        "    Process a PDF file, extracting text and splitting it into chunks.\n",
        "    \"\"\"\n",
        "    pdf_reader = PdfReader(pdf)\n",
        "\n",
        "    text = \"\"\n",
        "    for page in pdf_reader.pages:\n",
        "        text += page.extract_text()\n",
        "\n",
        "    # Split text into chunks\n",
        "    text_splitter = RecursiveCharacterTextSplitter(\n",
        "        chunk_size=1000,\n",
        "        chunk_overlap=200,\n",
        "        length_function=len\n",
        "    )\n",
        "    chunks = text_splitter.split_text(text=text)\n",
        "    return chunks\n",
        "\n",
        "def embeddings(chunks):\n",
        "    \"\"\"\n",
        "    Create embeddings for text chunks using OpenAI.\n",
        "    \"\"\"\n",
        "    # Initialize OpenAI embeddings\n",
        "    embeddings = OpenAIEmbeddings(openai_api_key=OPENAI_KEY)\n",
        "    # Create vector store using FAISS\n",
        "    vector_store = FAISS.from_texts(chunks, embedding=embeddings)\n",
        "    return vector_store\n"
      ],
      "metadata": {
        "id": "1Tm79kNDd77q"
      },
      "execution_count": null,
      "outputs": []
    }
  ]
}
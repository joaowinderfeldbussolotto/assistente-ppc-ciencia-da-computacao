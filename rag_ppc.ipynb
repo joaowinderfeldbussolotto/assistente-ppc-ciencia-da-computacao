{
  "cells": [
    {
      "cell_type": "code",
      "execution_count": 10,
      "metadata": {
        "colab": {
          "base_uri": "https://localhost:8080/"
        },
        "id": "vHb-YlAabq-l",
        "outputId": "e7bcd025-0ef8-4f83-df07-808e1fc236fe"
      },
      "outputs": [
        {
          "output_type": "stream",
          "name": "stdout",
          "text": [
            "\u001b[2K     \u001b[90m━━━━━━━━━━━━━━━━━━━━━━━━━━━━━━━━━━━━━━━━\u001b[0m \u001b[32m27.0/27.0 MB\u001b[0m \u001b[31m21.1 MB/s\u001b[0m eta \u001b[36m0:00:00\u001b[0m\n",
            "\u001b[2K     \u001b[90m━━━━━━━━━━━━━━━━━━━━━━━━━━━━━━━━━━━━━━━━\u001b[0m \u001b[32m1.8/1.8 MB\u001b[0m \u001b[31m27.7 MB/s\u001b[0m eta \u001b[36m0:00:00\u001b[0m\n",
            "\u001b[2K     \u001b[90m━━━━━━━━━━━━━━━━━━━━━━━━━━━━━━━━━━━━━━━━\u001b[0m \u001b[32m163.3/163.3 kB\u001b[0m \u001b[31m16.6 MB/s\u001b[0m eta \u001b[36m0:00:00\u001b[0m\n",
            "\u001b[2K     \u001b[90m━━━━━━━━━━━━━━━━━━━━━━━━━━━━━━━━━━━━━━━━\u001b[0m \u001b[32m163.1/163.1 kB\u001b[0m \u001b[31m13.2 MB/s\u001b[0m eta \u001b[36m0:00:00\u001b[0m\n",
            "\u001b[2K     \u001b[90m━━━━━━━━━━━━━━━━━━━━━━━━━━━━━━━━━━━━━━━━\u001b[0m \u001b[32m156.5/156.5 kB\u001b[0m \u001b[31m14.2 MB/s\u001b[0m eta \u001b[36m0:00:00\u001b[0m\n",
            "\u001b[2K     \u001b[90m━━━━━━━━━━━━━━━━━━━━━━━━━━━━━━━━━━━━━━━━\u001b[0m \u001b[32m156.3/156.3 kB\u001b[0m \u001b[31m12.4 MB/s\u001b[0m eta \u001b[36m0:00:00\u001b[0m\n",
            "\u001b[2K     \u001b[90m━━━━━━━━━━━━━━━━━━━━━━━━━━━━━━━━━━━━━━━━\u001b[0m \u001b[32m149.5/149.5 kB\u001b[0m \u001b[31m12.2 MB/s\u001b[0m eta \u001b[36m0:00:00\u001b[0m\n",
            "\u001b[2K     \u001b[90m━━━━━━━━━━━━━━━━━━━━━━━━━━━━━━━━━━━━━━━━\u001b[0m \u001b[32m132.8/132.8 kB\u001b[0m \u001b[31m13.2 MB/s\u001b[0m eta \u001b[36m0:00:00\u001b[0m\n",
            "\u001b[2K     \u001b[90m━━━━━━━━━━━━━━━━━━━━━━━━━━━━━━━━━━━━━━━━\u001b[0m \u001b[32m132.8/132.8 kB\u001b[0m \u001b[31m10.9 MB/s\u001b[0m eta \u001b[36m0:00:00\u001b[0m\n",
            "\u001b[2K     \u001b[90m━━━━━━━━━━━━━━━━━━━━━━━━━━━━━━━━━━━━━━━━\u001b[0m \u001b[32m86.0/86.0 kB\u001b[0m \u001b[31m6.0 MB/s\u001b[0m eta \u001b[36m0:00:00\u001b[0m\n",
            "\u001b[?25h  Preparing metadata (setup.py) ... \u001b[?25l\u001b[?25hdone\n",
            "  Building wheel for sentence-transformers (setup.py) ... \u001b[?25l\u001b[?25hdone\n"
          ]
        }
      ],
      "source": [
        "!pip install -U -q   \"faiss-cpu\" \"tiktoken\" \"sentence-transformers\" \"anthropic\" \"python-dotenv\" \"pypdf\" \"langchain\" \"transformers==4.31.0\" \"datasets==2.13.0\" \"peft==0.4.0\" \"accelerate==0.21.0\" \"bitsandbytes==0.40.2\" \"trl==0.4.7\" \"safetensors>=0.3.1\" \"PyPDF2\""
      ]
    },
    {
      "cell_type": "code",
      "execution_count": 3,
      "metadata": {
        "colab": {
          "base_uri": "https://localhost:8080/"
        },
        "id": "W_EIUv8_btB9",
        "outputId": "6a0a9fce-4e21-4fcd-c72f-79b00eedf646"
      },
      "outputs": [
        {
          "output_type": "stream",
          "name": "stdout",
          "text": [
            "--2024-04-07 23:17:03--  https://www.uffs.edu.br/atos-normativos/ppc/ccccch/2017-0002/@@download/documento_historico\n",
            "Resolving www.uffs.edu.br (www.uffs.edu.br)... 200.135.49.107\n",
            "Connecting to www.uffs.edu.br (www.uffs.edu.br)|200.135.49.107|:443... connected.\n",
            "HTTP request sent, awaiting response... 200 OK\n",
            "Length: 1493834 (1.4M) [application/pdf]\n",
            "Saving to: ‘data/ppc.pdf’\n",
            "\n",
            "data/ppc.pdf        100%[===================>]   1.42M  1.44MB/s    in 1.0s    \n",
            "\n",
            "2024-04-07 23:17:05 (1.44 MB/s) - ‘data/ppc.pdf’ saved [1493834/1493834]\n",
            "\n"
          ]
        }
      ],
      "source": [
        "!mkdir -p data\n",
        "!wget https://www.uffs.edu.br/atos-normativos/ppc/ccccch/2017-0002/@@download/documento_historico -O \"data/ppc.pdf\""
      ]
    },
    {
      "cell_type": "code",
      "source": [
        "from google.colab import userdata\n",
        "\n",
        "def write_to_file(filename, text):\n",
        "    try:\n",
        "        with open(filename, 'a+') as file:\n",
        "            file.write('\\n'+text)\n",
        "    except Exception as e:\n",
        "        print(f\"Error writing to file: {e}\")\n",
        "\n",
        "write_to_file('prompts.txt', 'teste2')\n",
        "\n",
        "\n",
        "class Settings:\n",
        "  ANTHROPIC_API_KEY = userdata.get('ANTHROPIC_API_KEY')\n",
        "  HF_TOKEN = userdata.get('HF_TOKEN')\n",
        "\n",
        "\n",
        "settings = Settings()\n"
      ],
      "metadata": {
        "id": "v1svy85-z6or"
      },
      "execution_count": 5,
      "outputs": []
    },
    {
      "cell_type": "code",
      "execution_count": 79,
      "metadata": {
        "id": "tWqqzkmXdFq5"
      },
      "outputs": [],
      "source": [
        "from langchain_community.document_loaders import PyPDFLoader\n",
        "from langchain.text_splitter import RecursiveCharacterTextSplitter\n",
        "from langchain.embeddings import CacheBackedEmbeddings, HuggingFaceEmbeddings\n",
        "from langchain.vectorstores import FAISS\n",
        "from langchain.storage import LocalFileStore\n",
        "\n",
        "\n",
        "def extract_text_from_pdf():\n",
        "  loader = PyPDFLoader(\"data/ppc.pdf\")\n",
        "  pages = loader.load_and_split()\n",
        "  return pages\n",
        "\n",
        "\n",
        "def split_into_chunks(pages):\n",
        "  text_splitter = RecursiveCharacterTextSplitter(\n",
        "    chunk_size = 2000, # the character length of the chunk\n",
        "    chunk_overlap = 200, # the character length of the overlap between chunks\n",
        "    length_function = len, # the length function - in this case, character length (aka the python len() fn.)\n",
        ")\n",
        "\n",
        "  return text_splitter.transform_documents(pages)\n",
        "\n",
        "def init_embeddings_model(embed_model_id = 'sentence-transformers/all-MiniLM-L6-v2'):\n",
        "\n",
        " return HuggingFaceEmbeddings(model_name=embed_model_id), embed_model_id\n",
        "\n",
        "def create_vector_store(core_embeddings_model, documents, emdbed_model_id):\n",
        "  store = LocalFileStore(\"./cache/\")\n",
        "\n",
        "  embedder = CacheBackedEmbeddings.from_bytes_store(\n",
        "      core_embeddings_model, store, namespace=embed_model_id\n",
        "  )\n",
        "\n",
        "  vector_store = FAISS.from_documents(documents, embedder)\n",
        "\n",
        "  return vector_store\n",
        "\n",
        "def save_vector_store(vector_store):\n",
        "  vector_store.save_local('ppc-index')"
      ]
    },
    {
      "cell_type": "code",
      "source": [
        "pages = extract_text_from_pdf()\n",
        "documents = split_into_chunks(pages)"
      ],
      "metadata": {
        "id": "tXtJi1iD6jpq"
      },
      "execution_count": 80,
      "outputs": []
    },
    {
      "cell_type": "code",
      "source": [
        "core_embeddings_model, embed_model_id = init_embeddings_model('sentence-transformers/distiluse-base-multilingual-cased-v1')\n",
        "\n",
        "vector_store = create_vector_store(core_embeddings_model, documents, embed_model_id)\n"
      ],
      "metadata": {
        "id": "tRW1iR8O3EMb"
      },
      "execution_count": 81,
      "outputs": []
    },
    {
      "cell_type": "code",
      "source": [
        "query = \"Qual o limite de horas para validar atividades complementares de estágios nao obrigatórios?\"\n",
        "embedding_vector = core_embeddings_model.embed_query(query)\n",
        "docs = vector_store.similarity_search_by_vector(embedding_vector, k = 5)\n",
        "\n",
        "for page in docs:\n",
        "  print(page.page_content)"
      ],
      "metadata": {
        "colab": {
          "base_uri": "https://localhost:8080/"
        },
        "id": "H7H8DBDU4Fze",
        "outputId": "991faaff-d841-4372-cd2f-19507cb894ae"
      },
      "execution_count": 82,
      "outputs": [
        {
          "output_type": "stream",
          "name": "stdout",
          "text": [
            "MINISTÉRIO DA EDUCAÇÃO\n",
            "UNIVERSIDADE FEDERAL DA FRONTEIRA SUL – UFFS\n",
            "PRÓ-REITORIA DE GRADUAÇÃO\n",
            "DIRETORIA DE PEDAGÓGICA\n",
            "IIAtividades Curriculares de Extensão (Limite horas: 200)\n",
            "CategoriaDescrição da AtividadeLimite de \n",
            "HorasHoras por \n",
            "EventoDocumento comprobatório\n",
            "2.1Experiências de trabalho 150⅙ do total de \n",
            "horas de parti-\n",
            "cipaçãoRequerimento aprovado e\n",
            "relatório aprovado pelo coorde -\n",
            "nador de estágios do curso.\n",
            "2.2Estágios não obrigatórios 150⅙ do total de \n",
            "horas de parti-\n",
            "cipaçãoRelatório aprovado pelo coor -\n",
            "denador de estágios do curso.\n",
            "2.3Participação na Empresa \n",
            "Júnior150½ do total de \n",
            "horas de parti-\n",
            "cipaçãoRelatório aprovado pelo coor -\n",
            "denador da Empresa Júnior.\n",
            "2.4Participação em concursos \n",
            "relacionados à temática de \n",
            "empreendedorismo (ex. Si -\n",
            "napse inovação, startup \n",
            "weekend, hackathons)120total de horas \n",
            "de participaçãoDeclaração do responsável pelo\n",
            "projeto, ou certificado.\n",
            "2.5Participação como compe -\n",
            "tidor, em maratonas de pro -\n",
            "gramação12020 horas por \n",
            "eventoTabela de classificação na com -\n",
            "petição, ou certificado.\n",
            "2.6Atividade orientada por \n",
            "professor no departamento \n",
            "de TI da UFFS90½ do total de \n",
            "horas de parti-\n",
            "cipaçãoRelatório de atividades aprova -\n",
            "do pelo professor responsável.\n",
            "2.7Contribuição em projetos \n",
            "de código aberto.150total de horas \n",
            "de participaçãoDeclaração do professor res -\n",
            "ponsável por avaliar a contri -\n",
            "buição ou mentorar o aluno na \n",
            "atividade.\n",
            "2.8Participação em Projeto de \n",
            "Extensão.150total de horas \n",
            "de participaçãoCertificado ou declaração do \n",
            "responsável pelo projeto.\n",
            "IIIAtividades de Ensino (Limite horas: 160)\n",
            "CategoriaDescrição da AtividadeLimite de \n",
            "HorasHoras por \n",
            "EventoDocumento comprobatório\n",
            "3.1Programas de monitoria 16080 horas por Certificado, ou declaração do \n",
            "Projeto Pedagógico do Curso de Graduação em Ciência da Computação – Bacharelado 200\n",
            "MINISTÉRIO DA EDUCAÇÃO\n",
            "UNIVERSIDADE FEDERAL DA FRONTEIRA SUL – UFFS\n",
            "PRÓ-REITORIA DE GRADUAÇÃO\n",
            "DIRETORIA DE PEDAGÓGICA\n",
            "8.7 Atividades Curriculares Complementares\n",
            "As Atividades Curriculares Complementares (ACCs) constituem ações que visam a\n",
            "complementação do processo ensino-aprendizagem, sendo desenvolvidas com carga horária\n",
            "de 300 horas (ou, equivalentemente, 360 horas-aula) e distribuídas ao longo do período de\n",
            "duração do curso.\n",
            "As ACCs constituem mecanismo de aproveitamento dos con hecimentos adquiridos\n",
            "pelo estudante por meio de estudos e práticas independentes, presenciais ou à distância,\n",
            "realizadas  na  Universidade  ou  em  outros  espaços  formativos,  sendo  consideradas\n",
            "obrigatórias para a integralização do currículo.\n",
            "Enquanto requisito obrigatório, as ACCs respondem ao princípio da flexibilidade\n",
            "sendo ordenadas por duas legislações específicas: pela determinação constante na Lei de\n",
            "Diretrizes e Bases da Educação Nacional 9.394/1996, a qual estabelece em seu artigo 3º a\n",
            "“valorização da experiên cia extraclasse” e, também, pelo que estabelecem as Diretrizes\n",
            "Curriculares Nacionais  do Cursos  de Graduação em Ciência da Computação conforme\n",
            "Resolução CNE/CES 136/2012.\n",
            "As Atividades Curriculares Complementares serão agregadas em quatro grandes\n",
            "grupos:\n",
            " Atividades  Curriculares  Complementares  em  Pesquisa  e  Ensino  (Grupo  I):\n",
            "engloba atividades de pesquisa, monitorias e grupos de estudos realizadas pelos estudantes.\n",
            " Atividades  Curriculares  Complementares  em  Extensão  e  Aprimoramento\n",
            "Profissional (Grupo II): neste grupo serão consideradas as atividades de participação em\n",
            "projetos  de  extensão  institucionais,  voluntariado  em  projetos  de  organizações  não\n",
            "governamentais (ONG), estágios não obrigatórios, entre outros.\n",
            "Atividades  Curriculares  Complementares  de  empreendedorismo  (Grupo  III):\n",
            "engloba  atividades  vinculadas  ao  meio  empresarial  e  às  iniciativas  empreendedoras,\n",
            "MINISTÉRIO DA EDUCAÇÃO\n",
            "UNIVERSIDADE FEDERAL DA FRONTEIRA SUL – UFFS\n",
            "PRÓ-REITORIA DE GRADUAÇÃO\n",
            "DIRETORIA DE PEDAGÓGICA\n",
            "Art. 9º Os pedidos de validação e definição do percentual de horas a serem validadas por\n",
            "atividades serão avaliados por uma Comissão de Atividades Curriculares Complementares\n",
            "do curso de Ciência da Computação a ser nomeada pelo coordenador do curso no início de\n",
            "cada ano letivo, composta de três (3) membros sendo um o presidente da mesma.\n",
            "Art. 10º Para validação de atividades do item 2.7 do grupo II (Atividades Curriculares de\n",
            "Extensão), que versa sobre contribuição em projetos de código aberto, o seguinte precisa ser\n",
            "respeitado:\n",
            "§ 1 A atividade deve obrigatoriamente ter o acompanhamento de um professor mentor vin -\n",
            "culado ao curso.\n",
            "§ 2 O professor mentor deve aferir se a atividade foi feita em alinhamento com o PPC do\n",
            "curso e em um projeto de relevância justificada.\n",
            "§ 3 O professor mentor deve emitir parecer, atestado ou certificado com a quantidade de ho -\n",
            "ras de trabalho para a atividade.\n",
            "I A quantidade de horas certificadas pelo professor mentor não precisa, necessariamente,\n",
            "corresponder à quantidade de horas trabalhadas (ou investidas) na atividade.\n",
            "II O professor mentor pode julgar a quantidade de horas a serem certificadas com base no\n",
            "mérito da contribuição.\n",
            "Art. 11º Para validação de atividades do item 4.4 do grupo IV (Atividades em Cultura), que\n",
            "versa sobre participação em atividades de e-sports, o seguinte precisa ser respeitado:\n",
            "§ 1 A atividade deve obrigatoriamente estar registrada junto à UFFS ou a entidade reconhe -\n",
            "cida no seguimento, tais como atléticas, ligas, federações e confederações.\n",
            "§ 2 Documentos de inscrição e participação em eventos podem ser utilizados como compro -\n",
            "vantes de horas mediante pedido protocolado pelo aluno e julgado pela Comissão de Ativi -\n",
            "dades Curriculares Complementares do curso de Ciência da Computação.\n",
            "CAPÍTULO IV\n",
            "DAS OBRIGAÇÕES DO ESTUDANTE\n",
            "vantes de horas mediante pedido protocolado pelo aluno e julgado pela Comissão de Ativi -\n",
            "dades Curriculares Complementares do curso de Ciência da Computação.\n",
            "CAPÍTULO IV\n",
            "DAS OBRIGAÇÕES DO ESTUDANTE\n",
            "Art. 12º Todas as atividades constantes devem ser comprovadas pelo próprio aluno, medi -\n",
            "ante a apresentação dos documentos comprobatórios das atividades realizadas junto à Secre -\n",
            "taria Acadêmica do  campus para validação das mesmas pela Comissão de Atividades Curri -\n",
            "culares Complementares do curso de Ciência da Computação.\n",
            "Parágrafo Único. Compete ao aluno apresentar os documentos comprobatórios da atividade\n",
            "realizada no prazo estipulado pelo calendário acadêmico da UFFS.\n",
            "Projeto Pedagógico do Curso de Graduação em Ciência da Computação – Bacharelado 203\n",
            "onde  a  síntese  e  a  integração  dos  conhecimentos  adquiridos  ao  longo  do  curso  são\n",
            "proporcionalmente  mais  exigidas.  A previsão  de  carga  horária  prática  no contexto  dos\n",
            "componentes  curriculares,  a  adoção  de  processos  avaliativos  baseados  em  atividades\n",
            "práticas, o incentivo para que estudantes tenham envolvimento com ações externas, como\n",
            "por exemplo a maratona de programação, são formas de integração entre teoria e prática.\n",
            "Além  disso,  a  iniciação  científica,  a  monitoria,  o  estágio  não  obrigatório,  projetos\n",
            "multidisciplinares, visitas técnicas, participação em eventos, empreendedorismo, também\n",
            "são exemplos de práticas facultadas ao aluno para esse fim e estimuladas durante o vínculo\n",
            "do aluno com a instituição.\n",
            "Além disso, a atuação do professor nos componentes curriculares, sempre que\n",
            "viável, deve buscar a integração com conhecimento já construído (os requisitos) e para os\n",
            "demais cujo conteúdo da disciplina será usado como base. O Trabalho de Conclusão de\n",
            "Projeto Pedagógico do Curso de Graduação em Ciência da Computação – Bacharelado 165\n"
          ]
        }
      ]
    },
    {
      "cell_type": "markdown",
      "source": [
        "# Testando com Anthropic Claude"
      ],
      "metadata": {
        "id": "viioouCo4MBO"
      }
    },
    {
      "cell_type": "code",
      "source": [
        "import anthropic\n",
        "\n",
        "def build_prompt(query, context):\n",
        "  return f\"\"\"Human:\\n\\n\n",
        "  Voce é um assistente academico especializado em tirar dúvidas de alunos de ciencia da computação da UFFS.\n",
        "  Responda com base no contexto:\n",
        "  {context}\n",
        "  Responda apenas se encontrar resposta no contexto.\n",
        "  Pergunta: {query}\n",
        "  A resposta deve seguir o padrão:\n",
        "  - Pergunta\n",
        "  R: Resposta (trecho de referencia para resposta)\n",
        "\n",
        "  Assistant:\n",
        "  \"\"\"\n",
        "\n",
        "def get_claude_response(prompt):\n",
        "  client = anthropic.Anthropic(\n",
        "      api_key = settings.ANTHROPIC_API_KEY\n",
        "    )\n",
        "  message = client.messages.create(\n",
        "      model=\"claude-instant-1.2\",\n",
        "      max_tokens=200,\n",
        "      temperature=0.1,\n",
        "      messages=[\n",
        "          {\n",
        "              \"role\": \"user\",\n",
        "              \"content\": [\n",
        "                  {\n",
        "                      \"type\": \"text\",\n",
        "                      \"text\": prompt\n",
        "                  }\n",
        "              ]\n",
        "          }\n",
        "      ]\n",
        "  )\n",
        "  return message.content[0].text\n",
        "\n",
        "def get_answer(query):\n",
        "  embedding_vector = core_embeddings_model.embed_query(query)\n",
        "  docs = vector_store.similarity_search_by_vector(embedding_vector, k = 5)\n",
        "\n",
        "  context = ''\n",
        "  for page in docs:\n",
        "    context += page.page_content\n",
        "\n",
        "\n",
        "\n",
        "  prompt = build_prompt(context, query)\n",
        "  write_to_file('prompts.txt', prompt)\n",
        "  response = get_claude_response(prompt)\n",
        "\n",
        "  return response\n",
        "\n"
      ],
      "metadata": {
        "id": "TZrOs2sMz9bo"
      },
      "execution_count": 77,
      "outputs": []
    },
    {
      "cell_type": "code",
      "source": [
        "queries = [\n",
        "    \"Qual a ementa de algebra linear?\",\n",
        "    \"Qual o limite de horas de atividades curriculares de Pesquisa?\",\n",
        "    \"Quantas horas de ACC devo ter para me formar?\",\n",
        "    \"Preciso das referencias para a disciplina Engenharia de Software II\",\n",
        "    \"Qual o limite de horas para validar atividades complementares de estágios nao obrigatórios?\",\n",
        "    \"Qual a ementa de Grafos?\"\n",
        "]\n",
        "\n",
        "for query in queries:\n",
        "  print()\n",
        "  response = get_answer(query)\n",
        "  print(response)"
      ],
      "metadata": {
        "colab": {
          "base_uri": "https://localhost:8080/"
        },
        "id": "34yI3R6b0POZ",
        "outputId": "0b4ad69d-53f6-495f-df15-013b6a4abff2"
      },
      "execution_count": 83,
      "outputs": [
        {
          "output_type": "stream",
          "name": "stdout",
          "text": [
            "\n",
            "Pergunta: Qual a ementa de algebra linear?\n",
            "\n",
            "R: EMENTA\n",
            "Matrizes. Determinantes. Sistemas de equações lineares. Espaços vetoriais. Transformações\n",
            "lineares. Espaços com produto interno. Autovalores e autovetores. Diagonalização.\n",
            "\n",
            "Pergunta: Qual o limite de horas de atividades curriculares de Pesquisa?\n",
            "\n",
            "R: De acordo com o documento, o limite de horas para as Atividades Curriculares Complementares em Pesquisa e Ensino (Grupo I) é de 300 horas (ou, equivalentemente, 360 horas-aula) e estas atividades englobam atividades de pesquisa, monitorias e grupos de estudos realizadas pelos estudantes.\n",
            "\n",
            "Pergunta: Quantas horas de ACC devo ter para me formar?\n",
            "\n",
            "R: De acordo com o Projeto Pedagógico do Curso de Graduação em Ciência da Computação da UFFS, as Atividades Curriculares Complementares (ACCs) constituem ações que visam a complementação do processo ensino-aprendizagem, sendo desenvolvidas com carga horária de 300 horas (ou, equivalentemente, 360 horas-aula) e distribuídas ao longo do período de duração do curso. Portanto, para se formar no curso de Ciência da Computação da UFFS é necessário ter 300 horas de ACCs.\n",
            "\n",
            "Pergunta: Preciso das referencias para a disciplina Engenharia de Software II\n",
            "\n",
            "R: SBROCCO, J. H. T.; MACEDO, P. C. Metodologias ágeis – engenharia de software sob\n",
            "medida. São Paulo: Érica, 2012.\n",
            "\n",
            "SOFTWARE  ENGINEERING  INSTITUTE.  CMMI  for Development,  Version  1.2  –\n",
            "CMMI-DEV , V1.3.  Software Engineering Institute, 2010.\n",
            "\n",
            "TONSIG, S. L.  Engenharia de Software : Análise e Projeto de Sistemas . São Paulo:\n",
            "Futura, 2003. \n",
            "\n",
            "YOUNG, M.; PEZZE, M. Teste e análise de software – processos, princípios e técnicas.\n",
            "Porto Alegre: Bookman,\n",
            "\n",
            "Pergunta: Qual o limite de horas para validar atividades complementares de estágios nao obrigatórios?\n",
            "\n",
            "R: De acordo com o contexto fornecido, o limite de horas para validar atividades complementares de estágios não obrigatórios é de 150 horas, conforme item 2.2 do grupo II das atividades curriculares complementares.\n",
            "\n",
            "Pergunta: Qual a ementa de Grafos?\n",
            "\n",
            "R: Definições básicas de Teoria dos Grafos: vizinhança, isomorfismo, subgrafo, clique e con -\n",
            "junto independente. Representação computacional de grafos. Modelagem de problemas com\n",
            "grafos. Grafos bipartidos e cortes. Caminhos, ciclos, diâmetro e cintura. Conexidade e al -\n",
            "cançabilidade. Grafos biconexos e articulações. Grafos dirigidos e caminho mínimo. Busca.\n",
            "Árvores e árvores geradoras de custo mínimo. Grafos eulerianos e hamiltonianos. Estabili -\n",
            "dade e emparelhamento. Fluxo. Coloração e Planaridade. Problemas da Cobertura e da Tra -\n",
            "v\n"
          ]
        }
      ]
    },
    {
      "cell_type": "code",
      "execution_count": null,
      "metadata": {
        "id": "gNmrTpZYfRvi"
      },
      "outputs": [],
      "source": [
        "from langchain.text_splitter import RecursiveCharacterTextSplitter\n",
        "\n",
        "text_splitter = RecursiveCharacterTextSplitter(\n",
        "    chunk_size = 1000, # the character length of the chunk\n",
        "    chunk_overlap = 100, # the character length of the overlap between chunks\n",
        "    length_function = len, # the length function - in this case, character length (aka the python len() fn.)\n",
        ")\n",
        "\n",
        "documents = text_splitter.transform_documents(pages)"
      ]
    },
    {
      "cell_type": "code",
      "execution_count": null,
      "metadata": {
        "id": "wVGHHq5-itPt"
      },
      "outputs": [],
      "source": [
        "from huggingface_hub import notebook_login\n",
        "\n",
        "notebook_login()"
      ]
    },
    {
      "cell_type": "code",
      "execution_count": null,
      "metadata": {
        "id": "ojp-7oqlgZhE"
      },
      "outputs": [],
      "source": [
        "# import torch\n",
        "# import transformers\n",
        "# from transformers import AutoModelForCausalLM, AutoTokenizer, GenerationConfig\n",
        "# from peft import PeftModel, PeftConfig\n",
        "\n",
        "# model_id = 'recogna-nlp/bode-7b-alpaca-pt-br'\n",
        "\n",
        "# config = PeftConfig.from_pretrained(model_id)\n",
        "\n",
        "\n",
        "# model = AutoModelForCausalLM.from_pretrained(config.base_model_name_or_path, trust_remote_code=True, return_dict=True, load_in_8bit=True, device_map='auto')\n",
        "\n",
        "# model.eval()\n",
        "\n",
        "\n",
        "\n",
        "import torch\n",
        "import transformers\n",
        "\n",
        "model_id = \"meta-llama/Llama-2-13b-chat-hf\"\n",
        "\n",
        "bnb_config = transformers.BitsAndBytesConfig(\n",
        "    load_in_4bit=True,\n",
        "    bnb_4bit_quant_type='nf4',\n",
        "    bnb_4bit_use_double_quant=True,\n",
        "    bnb_4bit_compute_dtype=torch.bfloat16\n",
        ")\n",
        "\n",
        "model_config = transformers.AutoConfig.from_pretrained(\n",
        "    model_id\n",
        ")\n",
        "\n",
        "model = transformers.AutoModelForCausalLM.from_pretrained(\n",
        "    model_id,\n",
        "    trust_remote_code=True,\n",
        "    config=model_config,\n",
        "    quantization_config=bnb_config,\n",
        "    device_map='auto'\n",
        ")\n",
        "\n",
        "model.eval()"
      ]
    },
    {
      "cell_type": "code",
      "execution_count": null,
      "metadata": {
        "id": "vk43oUfbWdh2"
      },
      "outputs": [],
      "source": [
        "tokenizer = transformers.AutoTokenizer.from_pretrained(\n",
        "    model_id\n",
        ")"
      ]
    },
    {
      "cell_type": "code",
      "execution_count": null,
      "metadata": {
        "id": "kc8SQP2nYaw2"
      },
      "outputs": [],
      "source": [
        "generate_text = transformers.pipeline(\n",
        "    model=model,\n",
        "    tokenizer=tokenizer,\n",
        "    task=\"text-generation\",\n",
        "    return_full_text=True,\n",
        "    temperature=0.1,\n",
        "    max_new_tokens=512\n",
        ")"
      ]
    },
    {
      "cell_type": "code",
      "execution_count": null,
      "metadata": {
        "id": "dai8ZUZvYgwf"
      },
      "outputs": [],
      "source": [
        "from langchain.llms import HuggingFacePipeline\n",
        "\n",
        "llm = HuggingFacePipeline(pipeline=generate_text)"
      ]
    },
    {
      "cell_type": "code",
      "execution_count": null,
      "metadata": {
        "id": "Sq7tqLUrLa7p"
      },
      "outputs": [],
      "source": [
        "query = \"Quem é o coordenador do curso?\"\n",
        "embedding_vector = core_embeddings_model.embed_query(query)\n",
        "docs = vector_store.similarity_search_by_vector(embedding_vector, k = 5)\n",
        "\n",
        "context = ''\n",
        "for page in docs:\n",
        "  context += page.page_content\n",
        "\n",
        "\n",
        "\n",
        "\n",
        "\n",
        "prompt = f\"\"\"\n",
        "Voce é um assistente da coordenação academica do curso de ciencia da computação da UFFS.\n",
        "Com base no contexto: <contexto> {context}. </contexto>. Responda, em portugues, de acordo com o contexto, a pergunta: {query}.\n",
        "A saída deve ser no formato:\n",
        "  - Pergunta\n",
        "  - R: resposta\n",
        "\n",
        "\"\"\"\n",
        "\n",
        "print(prompt)\n",
        "\n",
        "response = llm(prompt[0])\n",
        "\n",
        "print(response)\n"
      ]
    },
    {
      "cell_type": "code",
      "execution_count": null,
      "metadata": {
        "id": "u_XIfEWdYi6n"
      },
      "outputs": [],
      "source": [
        "retriever = vector_store.as_retriever()"
      ]
    },
    {
      "cell_type": "code",
      "execution_count": null,
      "metadata": {
        "id": "hh-c4tuCYmfW"
      },
      "outputs": [],
      "source": [
        "from langchain.chains import RetrievalQA\n",
        "from langchain.callbacks import StdOutCallbackHandler\n",
        "\n",
        "handler = StdOutCallbackHandler()\n",
        "\n",
        "qa_with_sources_chain = RetrievalQA.from_chain_type(\n",
        "    llm=llm,\n",
        "    retriever=retriever,\n",
        "    callbacks=[handler],\n",
        "    return_source_documents=True\n",
        ")"
      ]
    },
    {
      "cell_type": "code",
      "execution_count": null,
      "metadata": {
        "id": "awKSXBYpYpPB"
      },
      "outputs": [],
      "source": [
        "qa_with_sources_chain({\"query\" : \"Qual a ementa de geometria analíica?\"})"
      ]
    }
  ],
  "metadata": {
    "colab": {
      "provenance": [],
      "authorship_tag": "ABX9TyMBW/XI4SQpwfDQBzqDaCGO"
    },
    "kernelspec": {
      "display_name": "Python 3",
      "name": "python3"
    },
    "language_info": {
      "name": "python"
    }
  },
  "nbformat": 4,
  "nbformat_minor": 0
}
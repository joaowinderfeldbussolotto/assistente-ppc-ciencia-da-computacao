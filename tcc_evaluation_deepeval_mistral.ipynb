{
  "cells": [
    {
      "cell_type": "markdown",
      "metadata": {
        "id": "view-in-github",
        "colab_type": "text"
      },
      "source": [
        "<a href=\"https://colab.research.google.com/github/joaowinderfeldbussolotto/assistente-ppc-ciencia-da-computacao/blob/main/tcc_evaluation_deepeval_mistral.ipynb\" target=\"_parent\"><img src=\"https://colab.research.google.com/assets/colab-badge.svg\" alt=\"Open In Colab\"/></a>"
      ]
    },
    {
      "cell_type": "code",
      "execution_count": 1,
      "metadata": {
        "colab": {
          "base_uri": "https://localhost:8080/"
        },
        "id": "snh0R4ZqM1eq",
        "outputId": "ad71d53f-7605-415a-cfd1-22b900577f52"
      },
      "outputs": [
        {
          "output_type": "stream",
          "name": "stdout",
          "text": [
            "\u001b[?25l     \u001b[90m━━━━━━━━━━━━━━━━━━━━━━━━━━━━━━━━━━━━━━━━\u001b[0m \u001b[32m0.0/89.9 kB\u001b[0m \u001b[31m?\u001b[0m eta \u001b[36m-:--:--\u001b[0m\r\u001b[2K     \u001b[91m━━━━━━━━━━━━━━━━━━━━━━━━━━━━━━━━━━━━\u001b[0m\u001b[90m╺\u001b[0m\u001b[90m━━━\u001b[0m \u001b[32m81.9/89.9 kB\u001b[0m \u001b[31m111.2 MB/s\u001b[0m eta \u001b[36m0:00:01\u001b[0m\r\u001b[2K     \u001b[90m━━━━━━━━━━━━━━━━━━━━━━━━━━━━━━━━━━━━━━━━\u001b[0m \u001b[32m89.9/89.9 kB\u001b[0m \u001b[31m1.7 MB/s\u001b[0m eta \u001b[36m0:00:00\u001b[0m\n",
            "\u001b[?25h  Preparing metadata (setup.py) ... \u001b[?25l\u001b[?25hdone\n",
            "\u001b[33mWARNING: google-cloud-aiplatform 1.70.0 does not provide the extra 'all'\u001b[0m\u001b[33m\n",
            "\u001b[2K     \u001b[90m━━━━━━━━━━━━━━━━━━━━━━━━━━━━━━━━━━━━━━━━\u001b[0m \u001b[32m50.6/50.6 kB\u001b[0m \u001b[31m1.1 MB/s\u001b[0m eta \u001b[36m0:00:00\u001b[0m\n",
            "\u001b[2K   \u001b[90m━━━━━━━━━━━━━━━━━━━━━━━━━━━━━━━━━━━━━━━━\u001b[0m \u001b[32m460.8/460.8 kB\u001b[0m \u001b[31m16.1 MB/s\u001b[0m eta \u001b[36m0:00:00\u001b[0m\n",
            "\u001b[2K   \u001b[90m━━━━━━━━━━━━━━━━━━━━━━━━━━━━━━━━━━━━━━━━\u001b[0m \u001b[32m101.8/101.8 kB\u001b[0m \u001b[31m5.8 MB/s\u001b[0m eta \u001b[36m0:00:00\u001b[0m\n",
            "\u001b[2K   \u001b[90m━━━━━━━━━━━━━━━━━━━━━━━━━━━━━━━━━━━━━━━━\u001b[0m \u001b[32m13.1/13.1 MB\u001b[0m \u001b[31m44.9 MB/s\u001b[0m eta \u001b[36m0:00:00\u001b[0m\n",
            "\u001b[2K   \u001b[90m━━━━━━━━━━━━━━━━━━━━━━━━━━━━━━━━━━━━━━━━\u001b[0m \u001b[32m1.0/1.0 MB\u001b[0m \u001b[31m35.6 MB/s\u001b[0m eta \u001b[36m0:00:00\u001b[0m\n",
            "\u001b[2K   \u001b[90m━━━━━━━━━━━━━━━━━━━━━━━━━━━━━━━━━━━━━━━━\u001b[0m \u001b[32m40.4/40.4 kB\u001b[0m \u001b[31m2.5 MB/s\u001b[0m eta \u001b[36m0:00:00\u001b[0m\n",
            "\u001b[2K   \u001b[90m━━━━━━━━━━━━━━━━━━━━━━━━━━━━━━━━━━━━━━━━\u001b[0m \u001b[32m61.5/61.5 kB\u001b[0m \u001b[31m4.2 MB/s\u001b[0m eta \u001b[36m0:00:00\u001b[0m\n",
            "\u001b[2K   \u001b[90m━━━━━━━━━━━━━━━━━━━━━━━━━━━━━━━━━━━━━━━━\u001b[0m \u001b[32m49.9/49.9 kB\u001b[0m \u001b[31m3.0 MB/s\u001b[0m eta \u001b[36m0:00:00\u001b[0m\n",
            "\u001b[2K   \u001b[90m━━━━━━━━━━━━━━━━━━━━━━━━━━━━━━━━━━━━━━━━\u001b[0m \u001b[32m106.5/106.5 kB\u001b[0m \u001b[31m6.3 MB/s\u001b[0m eta \u001b[36m0:00:00\u001b[0m\n",
            "\u001b[2K   \u001b[90m━━━━━━━━━━━━━━━━━━━━━━━━━━━━━━━━━━━━━━━━\u001b[0m \u001b[32m5.6/5.6 MB\u001b[0m \u001b[31m53.9 MB/s\u001b[0m eta \u001b[36m0:00:00\u001b[0m\n",
            "\u001b[2K   \u001b[90m━━━━━━━━━━━━━━━━━━━━━━━━━━━━━━━━━━━━━━━━\u001b[0m \u001b[32m76.4/76.4 kB\u001b[0m \u001b[31m5.1 MB/s\u001b[0m eta \u001b[36m0:00:00\u001b[0m\n",
            "\u001b[2K   \u001b[90m━━━━━━━━━━━━━━━━━━━━━━━━━━━━━━━━━━━━━━━━\u001b[0m \u001b[32m78.0/78.0 kB\u001b[0m \u001b[31m5.4 MB/s\u001b[0m eta \u001b[36m0:00:00\u001b[0m\n",
            "\u001b[2K   \u001b[90m━━━━━━━━━━━━━━━━━━━━━━━━━━━━━━━━━━━━━━━━\u001b[0m \u001b[32m318.9/318.9 kB\u001b[0m \u001b[31m18.1 MB/s\u001b[0m eta \u001b[36m0:00:00\u001b[0m\n",
            "\u001b[2K   \u001b[90m━━━━━━━━━━━━━━━━━━━━━━━━━━━━━━━━━━━━━━━━\u001b[0m \u001b[32m408.0/408.0 kB\u001b[0m \u001b[31m19.8 MB/s\u001b[0m eta \u001b[36m0:00:00\u001b[0m\n",
            "\u001b[2K   \u001b[90m━━━━━━━━━━━━━━━━━━━━━━━━━━━━━━━━━━━━━━━━\u001b[0m \u001b[32m296.9/296.9 kB\u001b[0m \u001b[31m18.0 MB/s\u001b[0m eta \u001b[36m0:00:00\u001b[0m\n",
            "\u001b[2K   \u001b[90m━━━━━━━━━━━━━━━━━━━━━━━━━━━━━━━━━━━━━━━━\u001b[0m \u001b[32m386.9/386.9 kB\u001b[0m \u001b[31m20.0 MB/s\u001b[0m eta \u001b[36m0:00:00\u001b[0m\n",
            "\u001b[2K   \u001b[90m━━━━━━━━━━━━━━━━━━━━━━━━━━━━━━━━━━━━━━━━\u001b[0m \u001b[32m60.1/60.1 kB\u001b[0m \u001b[31m4.1 MB/s\u001b[0m eta \u001b[36m0:00:00\u001b[0m\n",
            "\u001b[2K   \u001b[90m━━━━━━━━━━━━━━━━━━━━━━━━━━━━━━━━━━━━━━━━\u001b[0m \u001b[32m50.8/50.8 kB\u001b[0m \u001b[31m3.3 MB/s\u001b[0m eta \u001b[36m0:00:00\u001b[0m\n",
            "\u001b[2K   \u001b[90m━━━━━━━━━━━━━━━━━━━━━━━━━━━━━━━━━━━━━━━━\u001b[0m \u001b[32m106.1/106.1 kB\u001b[0m \u001b[31m6.9 MB/s\u001b[0m eta \u001b[36m0:00:00\u001b[0m\n",
            "\u001b[2K   \u001b[90m━━━━━━━━━━━━━━━━━━━━━━━━━━━━━━━━━━━━━━━━\u001b[0m \u001b[32m1.2/1.2 MB\u001b[0m \u001b[31m42.6 MB/s\u001b[0m eta \u001b[36m0:00:00\u001b[0m\n",
            "\u001b[2K   \u001b[90m━━━━━━━━━━━━━━━━━━━━━━━━━━━━━━━━━━━━━━━━\u001b[0m \u001b[32m46.1/46.1 kB\u001b[0m \u001b[31m2.6 MB/s\u001b[0m eta \u001b[36m0:00:00\u001b[0m\n",
            "\u001b[2K   \u001b[90m━━━━━━━━━━━━━━━━━━━━━━━━━━━━━━━━━━━━━━━━\u001b[0m \u001b[32m135.2/135.2 kB\u001b[0m \u001b[31m8.2 MB/s\u001b[0m eta \u001b[36m0:00:00\u001b[0m\n",
            "\u001b[2K   \u001b[90m━━━━━━━━━━━━━━━━━━━━━━━━━━━━━━━━━━━━━━━━\u001b[0m \u001b[32m40.6/40.6 kB\u001b[0m \u001b[31m2.5 MB/s\u001b[0m eta \u001b[36m0:00:00\u001b[0m\n",
            "\u001b[2K   \u001b[90m━━━━━━━━━━━━━━━━━━━━━━━━━━━━━━━━━━━━━━━━\u001b[0m \u001b[32m144.5/144.5 kB\u001b[0m \u001b[31m9.8 MB/s\u001b[0m eta \u001b[36m0:00:00\u001b[0m\n",
            "\u001b[2K   \u001b[90m━━━━━━━━━━━━━━━━━━━━━━━━━━━━━━━━━━━━━━━━\u001b[0m \u001b[32m71.1/71.1 kB\u001b[0m \u001b[31m5.1 MB/s\u001b[0m eta \u001b[36m0:00:00\u001b[0m\n",
            "\u001b[2K   \u001b[90m━━━━━━━━━━━━━━━━━━━━━━━━━━━━━━━━━━━━━━━━\u001b[0m \u001b[32m54.5/54.5 kB\u001b[0m \u001b[31m3.8 MB/s\u001b[0m eta \u001b[36m0:00:00\u001b[0m\n",
            "\u001b[2K   \u001b[90m━━━━━━━━━━━━━━━━━━━━━━━━━━━━━━━━━━━━━━━━\u001b[0m \u001b[32m472.7/472.7 kB\u001b[0m \u001b[31m24.3 MB/s\u001b[0m eta \u001b[36m0:00:00\u001b[0m\n",
            "\u001b[2K   \u001b[90m━━━━━━━━━━━━━━━━━━━━━━━━━━━━━━━━━━━━━━━━\u001b[0m \u001b[32m2.4/2.4 MB\u001b[0m \u001b[31m45.3 MB/s\u001b[0m eta \u001b[36m0:00:00\u001b[0m\n",
            "\u001b[2K   \u001b[90m━━━━━━━━━━━━━━━━━━━━━━━━━━━━━━━━━━━━━━━━\u001b[0m \u001b[32m116.3/116.3 kB\u001b[0m \u001b[31m8.3 MB/s\u001b[0m eta \u001b[36m0:00:00\u001b[0m\n",
            "\u001b[2K   \u001b[90m━━━━━━━━━━━━━━━━━━━━━━━━━━━━━━━━━━━━━━━━\u001b[0m \u001b[32m58.3/58.3 kB\u001b[0m \u001b[31m4.4 MB/s\u001b[0m eta \u001b[36m0:00:00\u001b[0m\n",
            "\u001b[2K   \u001b[90m━━━━━━━━━━━━━━━━━━━━━━━━━━━━━━━━━━━━━━━━\u001b[0m \u001b[32m134.8/134.8 kB\u001b[0m \u001b[31m9.5 MB/s\u001b[0m eta \u001b[36m0:00:00\u001b[0m\n",
            "\u001b[2K   \u001b[90m━━━━━━━━━━━━━━━━━━━━━━━━━━━━━━━━━━━━━━━━\u001b[0m \u001b[32m194.1/194.1 kB\u001b[0m \u001b[31m8.2 MB/s\u001b[0m eta \u001b[36m0:00:00\u001b[0m\n",
            "\u001b[2K   \u001b[90m━━━━━━━━━━━━━━━━━━━━━━━━━━━━━━━━━━━━━━━━\u001b[0m \u001b[32m49.5/49.5 kB\u001b[0m \u001b[31m3.1 MB/s\u001b[0m eta \u001b[36m0:00:00\u001b[0m\n",
            "\u001b[?25h  Building wheel for docx2txt (setup.py) ... \u001b[?25l\u001b[?25hdone\n",
            "\u001b[31mERROR: pip's dependency resolver does not currently take into account all the packages that are installed. This behaviour is the source of the following dependency conflicts.\n",
            "cudf-cu12 24.10.1 requires pandas<2.2.3dev0,>=2.0, but you have pandas 2.2.3 which is incompatible.\n",
            "google-colab 1.0.0 requires pandas==2.2.2, but you have pandas 2.2.3 which is incompatible.\u001b[0m\u001b[31m\n",
            "\u001b[0m"
          ]
        }
      ],
      "source": [
        "!pip install -U -q langchain-groq deepeval asyncio pandas langchain langchain_google_genai vertexai instructor pydantic google-generativeai langchain_mistralai langchain-openai"
      ]
    },
    {
      "cell_type": "markdown",
      "metadata": {
        "id": "H_vG06POzvEw"
      },
      "source": [
        "#Loading data"
      ]
    },
    {
      "cell_type": "code",
      "execution_count": 2,
      "metadata": {
        "colab": {
          "base_uri": "https://localhost:8080/"
        },
        "id": "iXAckTJeMiyG",
        "outputId": "c81a6998-69c0-44d5-d2f8-11b5172d39c5"
      },
      "outputs": [
        {
          "output_type": "stream",
          "name": "stdout",
          "text": [
            "Mounted at /content/drive\n"
          ]
        }
      ],
      "source": [
        "from google.colab import drive\n",
        "drive.mount('/content/drive')"
      ]
    },
    {
      "cell_type": "code",
      "execution_count": 3,
      "metadata": {
        "id": "8agYaBABMkBO"
      },
      "outputs": [],
      "source": [
        "!mkdir -p data\n",
        "!find /content/drive/My\\ Drive/tcc/resultados/ -type f ! -name '*.gsheet' -exec cp {} data/ \\;"
      ]
    },
    {
      "cell_type": "code",
      "execution_count": 4,
      "metadata": {
        "id": "HItVJ75eMlT-"
      },
      "outputs": [],
      "source": [
        "import os\n",
        "import glob\n",
        "\n",
        "def get_latest_file(directory, pattern):\n",
        "    file_list = glob.glob(os.path.join(directory, pattern))\n",
        "\n",
        "    if not file_list:\n",
        "        raise FileNotFoundError(\"No files found matching the pattern.\")\n",
        "\n",
        "    latest_file = max(file_list, key=os.path.getmtime)\n",
        "\n",
        "    return latest_file\n",
        "\n",
        "    # return open(latest_file, 'r')\n",
        "\n"
      ]
    },
    {
      "cell_type": "code",
      "execution_count": 20,
      "metadata": {
        "colab": {
          "base_uri": "https://localhost:8080/"
        },
        "id": "ihgyeR5bMoHu",
        "outputId": "dc30e103-eec7-4d55-fd0d-d9c6a18be7f0"
      },
      "outputs": [
        {
          "output_type": "stream",
          "name": "stdout",
          "text": [
            "data/ADVANCED_27_10_2024_14-46-00.csv\n"
          ]
        }
      ],
      "source": [
        "directory = 'data/'\n",
        "pattern = 'ADVANCED*.csv'\n",
        "\n",
        "\n",
        "latest_advanced_file = get_latest_file(directory, pattern)\n",
        "print(latest_advanced_file)"
      ]
    },
    {
      "cell_type": "markdown",
      "metadata": {
        "id": "P4R6NKyLzzSo"
      },
      "source": [
        "# Loading variables"
      ]
    },
    {
      "cell_type": "code",
      "execution_count": 6,
      "metadata": {
        "id": "vmLLmAKVMv1-"
      },
      "outputs": [],
      "source": [
        "from google.colab import userdata\n",
        "\n",
        "class Settings:\n",
        "  GROQ_API_KEY = userdata.get('GROQ_API_KEY')\n",
        "  GEMINI_API_KEY = userdata.get('GEMINI_API_KEY')\n",
        "  MISTRAL_AI_KEY = userdata.get('MISTRAL_AI_KEY')\n",
        "  GROQ_API_KEY2 = userdata.get('GROQ_API_KEY2')\n",
        "  GLHF_API_KEY  = userdata.get('GLHF_API_KEY')\n",
        "  VERTEX_ENDPOINT = userdata.get('VERTEX_ENDPOINT')\n",
        "  MISTRAL_AI_KEY2 = userdata.get('MISTRAL_AI_KEY2')\n",
        "\n",
        "\n",
        "\n",
        "settings = Settings()"
      ]
    },
    {
      "cell_type": "markdown",
      "metadata": {
        "id": "cIwFwYb6z5Xo"
      },
      "source": [
        "# Configuring LLMs for evaluation"
      ]
    },
    {
      "cell_type": "code",
      "execution_count": 7,
      "metadata": {
        "id": "JlMureQsdT23"
      },
      "outputs": [],
      "source": [
        "import json\n",
        "import random\n",
        "from typing import get_origin, get_args, List, Dict, Union\n",
        "from langchain_groq import ChatGroq\n",
        "from deepeval.models.base_model import DeepEvalBaseLLM\n",
        "from pydantic import BaseModel, ValidationError\n",
        "from time import sleep\n",
        "\n",
        "class CustomGroqModel(DeepEvalBaseLLM):\n",
        "    def __init__(self, model_id=\"llama-3.2-90b-text-preview\"):\n",
        "        self.MAX_RETRIES = 3\n",
        "        self.api_keys = [settings.GROQ_API_KEY, settings.GROQ_API_KEY2]\n",
        "        self.model_id = model_id\n",
        "\n",
        "    def load_model(self, api_key):\n",
        "        return ChatGroq(\n",
        "            model=self.model_id,\n",
        "            temperature=0.0,\n",
        "            max_retries=4,\n",
        "            api_key=api_key\n",
        "        )\n",
        "\n",
        "    def get_default_value(self, field_type):\n",
        "        # Handle Union types\n",
        "        if get_origin(field_type) is Union:\n",
        "            args = get_args(field_type)\n",
        "            # Try to find a non-None type in the Union\n",
        "            for arg in args:\n",
        "                if arg is not type(None):\n",
        "                    return self.get_default_value(arg)\n",
        "            return None\n",
        "\n",
        "        # Handle List types\n",
        "        if get_origin(field_type) is list:\n",
        "            return []\n",
        "\n",
        "        # Handle Dict types\n",
        "        if get_origin(field_type) is dict:\n",
        "            return {}\n",
        "\n",
        "        # Handle basic types\n",
        "        type_defaults = {\n",
        "            str: \"\",\n",
        "            int: 0,\n",
        "            float: 0.0,\n",
        "            bool: False,\n",
        "            dict: {},\n",
        "            list: [],\n",
        "        }\n",
        "\n",
        "        # If it's a BaseModel, recursively generate null schema\n",
        "        if isinstance(field_type, type) and issubclass(field_type, BaseModel):\n",
        "            return self.generate_null_schema(field_type)\n",
        "\n",
        "        return type_defaults.get(field_type, None)\n",
        "\n",
        "    def generate_null_schema(self, schema: BaseModel) -> BaseModel:\n",
        "        try:\n",
        "            default_values = {}\n",
        "            for field_name, field in schema.__fields__.items():\n",
        "                field_type = field.outer_type_\n",
        "                default_values[field_name] = self.get_default_value(field_type)\n",
        "\n",
        "            return schema.parse_obj(default_values)\n",
        "        except ValidationError as e:\n",
        "            print(f\"Schema validation error: {e}\")\n",
        "            return None\n",
        "\n",
        "    def generate(self, prompt: str, schema: BaseModel, attempt=0) -> BaseModel:\n",
        "        selected_api_key = random.choice(self.api_keys)\n",
        "        chat_model = self.load_model(selected_api_key)\n",
        "\n",
        "        if schema:\n",
        "            structured_llm = chat_model.with_structured_output(schema)\n",
        "        else:\n",
        "            print(prompt)\n",
        "            return chat_model.invoke(prompt).content\n",
        "\n",
        "        try:\n",
        "            response = structured_llm.invoke(prompt)\n",
        "            print(response)\n",
        "            return response\n",
        "        except Exception as e:\n",
        "            print(f\"Error generating response: {str(e)}, Attempt {attempt + 1}\")\n",
        "\n",
        "            if attempt < self.MAX_RETRIES:\n",
        "                sleep(1)  # Add a small delay before retrying\n",
        "                return self.generate(prompt, schema, attempt + 1)\n",
        "            else:\n",
        "                print(f\"Max retries exceeded. Returning null schema.\")\n",
        "                return self.generate_null_schema(schema)\n",
        "\n",
        "    async def a_generate(self, prompt: str, schema: BaseModel) -> BaseModel:\n",
        "\n",
        "        return self.generate(prompt, schema)\n",
        "\n",
        "    def get_model_name(self):\n",
        "        return self.model_id"
      ]
    },
    {
      "cell_type": "code",
      "execution_count": 8,
      "metadata": {
        "id": "BnmVsmWRI0zN"
      },
      "outputs": [],
      "source": [
        "from langchain_google_genai import ChatGoogleGenerativeAI\n",
        "from deepeval.models.base_model import DeepEvalBaseLLM\n",
        "\n",
        "class GoogleGenerativeAI(DeepEvalBaseLLM):\n",
        "    \"\"\"Class to implement Google Generative AI for DeepEval\"\"\"\n",
        "\n",
        "    def __init__(self, model):\n",
        "        self.model = model\n",
        "\n",
        "    def load_model(self):\n",
        "        return self.model\n",
        "\n",
        "    def generate(self, prompt: str) -> str:\n",
        "        chat_model = self.load_model()\n",
        "\n",
        "        response = chat_model.invoke(prompt).content\n",
        "        print(response)\n",
        "        return response\n",
        "\n",
        "    async def a_generate(self, prompt: str) -> str:\n",
        "        chat_model = self.load_model()\n",
        "        res = await chat_model.ainvoke(prompt)\n",
        "        return res.content\n",
        "\n",
        "    def get_model_name(self):\n",
        "        return \"Google Generative AI Model\"\n",
        "\n",
        "gemini_llm = ChatGoogleGenerativeAI(\n",
        "    model=\"models/gemini-1.5-flash-latest\",\n",
        "    convert_system_message_to_human=True,\n",
        "    google_api_key=userdata.get('GEMINI_API_KEY'),\n",
        "    temperature=0.3,\n",
        "    top_k=1,\n",
        "    top_p=0.9,\n",
        "    max_output_tokens=8192,\n",
        "    verbose=True\n",
        ")\n",
        "\n",
        "gemini = GoogleGenerativeAI(model=gemini_llm)"
      ]
    },
    {
      "cell_type": "code",
      "execution_count": 9,
      "metadata": {
        "id": "GcC2g058Jl0l"
      },
      "outputs": [],
      "source": [
        "from pydantic import BaseModel\n",
        "import google.generativeai as genai\n",
        "import instructor\n",
        "\n",
        "class CustomGeminiFlash(DeepEvalBaseLLM):\n",
        "    def __init__(self):\n",
        "        genai.configure(api_key = settings.GEMINI_API_KEY)\n",
        "        self.model = genai.GenerativeModel(model_name=\"models/gemini-1.5-flash\")\n",
        "\n",
        "    def load_model(self):\n",
        "        return self.model\n",
        "\n",
        "    def generate(self, prompt: str, schema: BaseModel) -> BaseModel:\n",
        "        client = self.load_model()\n",
        "        instructor_client = instructor.from_gemini(\n",
        "            client=client,\n",
        "            mode=instructor.Mode.GEMINI_JSON,\n",
        "        )\n",
        "        resp = instructor_client.messages.create(\n",
        "            messages=[\n",
        "                {\n",
        "                    \"role\": \"user\",\n",
        "                    \"content\": prompt,\n",
        "                }\n",
        "            ],\n",
        "            response_model=schema,\n",
        "        )\n",
        "        print(resp)\n",
        "        return resp\n",
        "\n",
        "    async def a_generate(self, prompt: str, schema: BaseModel) -> BaseModel:\n",
        "        return self.generate(prompt, schema)\n",
        "\n",
        "    def get_model_name(self):\n",
        "        return \"Gemini 1.5 Flash\""
      ]
    },
    {
      "cell_type": "code",
      "execution_count": 10,
      "metadata": {
        "id": "zHycadvm3ZNN"
      },
      "outputs": [],
      "source": [
        "import json\n",
        "import random\n",
        "from typing import get_origin, get_args, List, Dict, Union\n",
        "from langchain_groq import ChatGroq\n",
        "from langchain_mistralai import ChatMistralAI\n",
        "from langchain_openai import ChatOpenAI\n",
        "from deepeval.models.base_model import DeepEvalBaseLLM\n",
        "from pydantic import BaseModel, ValidationError\n",
        "from time import sleep\n",
        "\n",
        "class LangchainModel(DeepEvalBaseLLM):\n",
        "    def __init__(self, provider=\"Groq\", model_id=\"llama-3.2-90b-text-preview\"):\n",
        "        self.MAX_RETRIES = 3\n",
        "        self.model_id = model_id\n",
        "        self.provider = provider\n",
        "        self.request_count = 0  # Adicionado contador de requests\n",
        "        self.api_keys = (\n",
        "            [settings.GROQ_API_KEY, settings.GROQ_API_KEY2] if provider == \"Groq\"\n",
        "            else [settings.MISTRAL_AI_KEY] if provider == \"Mistral\"\n",
        "            else [settings.GLHF_API_KEY]\n",
        "        )\n",
        "        self.model = self.load_model()\n",
        "\n",
        "    def load_model(self):\n",
        "        if self.provider == \"Groq\":\n",
        "            selected_api_key = random.choice(self.api_keys)\n",
        "            return ChatGroq(model=self.model_id, temperature=0.0, max_retries=4, api_key=selected_api_key)\n",
        "        elif self.provider == \"Mistral\":\n",
        "            return ChatMistralAI(model=self.model_id, temperature=0, max_retries=4, api_key=settings.MISTRAL_AI_KEY)\n",
        "        elif self.provider == \"VertexAI\":\n",
        "            # Atribuindo o endpoint baseado nas configurações e utilizando Vertex AI\n",
        "            endpoint = settings.VERTEX_ENDPOINT\n",
        "            # return ChatOpenAI(\n",
        "            #     api_key=credentials.token,\n",
        "            #     base_url=endpoint,\n",
        "            #     model=self.model_id,\n",
        "            #     temperature=0,\n",
        "            #     max_retries=4\n",
        "            # )\n",
        "\n",
        "    def get_default_value(self, field_type):\n",
        "        if get_origin(field_type) is Union:\n",
        "            for arg in get_args(field_type):\n",
        "                if arg is not type(None):\n",
        "                    return self.get_default_value(arg)\n",
        "            return None\n",
        "\n",
        "        if get_origin(field_type) is list:\n",
        "            return []\n",
        "\n",
        "        if get_origin(field_type) is dict:\n",
        "            return {}\n",
        "\n",
        "        type_defaults = {str: \"\", int: 0, float: 0.0, bool: False, dict: {}, list: []}\n",
        "\n",
        "        if isinstance(field_type, type) and issubclass(field_type, BaseModel):\n",
        "            return self.generate_null_schema(field_type)\n",
        "\n",
        "        return type_defaults.get(field_type, None)\n",
        "\n",
        "    def generate_null_schema(self, schema: BaseModel) -> BaseModel:\n",
        "        try:\n",
        "            default_values = {field_name: self.get_default_value(field.outer_type_) for field_name, field in schema.__fields__.items()}\n",
        "            return schema.parse_obj(default_values)\n",
        "        except ValidationError as e:\n",
        "            print(f\"Schema validation error: {e}\")\n",
        "            return None\n",
        "\n",
        "    def generate(self, prompt: str, schema: BaseModel = None, attempt=0) -> BaseModel:\n",
        "        chat_model = self.load_model()\n",
        "\n",
        "        # Incrementa o contador de requests\n",
        "        self.request_count += 1\n",
        "        print(f\"Request number: {self.request_count}\")\n",
        "\n",
        "\n",
        "        if schema:\n",
        "            structured_llm = chat_model.with_structured_output(schema)\n",
        "        else:\n",
        "            return chat_model.invoke(prompt).content\n",
        "\n",
        "        try:\n",
        "            response = structured_llm.invoke(prompt)\n",
        "            return response\n",
        "        except Exception as e:\n",
        "            # print(str(e))\n",
        "            if attempt < self.MAX_RETRIES:\n",
        "                sleep(10)\n",
        "                return self.generate(prompt, schema, attempt + 1)\n",
        "            return self.generate_null_schema(schema)\n",
        "\n",
        "    async def a_generate(self, prompt: str, schema: BaseModel = None) -> BaseModel:\n",
        "        try:\n",
        "            chat_model = self.load_model()\n",
        "            if schema:\n",
        "                structured_llm = chat_model.with_structured_output(schema)\n",
        "                return await structured_llm.ainvoke(prompt)\n",
        "            else:\n",
        "                return await chat_model.ainvoke(prompt)\n",
        "        except Exception as e:\n",
        "            return self.generate(prompt, schema)\n",
        "\n",
        "\n",
        "    def get_model_name(self):\n",
        "        return self.model_id\n"
      ]
    },
    {
      "cell_type": "markdown",
      "metadata": {
        "id": "TeI4a_wo0AOY"
      },
      "source": [
        "# Loading test cases"
      ]
    },
    {
      "cell_type": "code",
      "execution_count": 21,
      "metadata": {
        "id": "J7fkJJbXRzdA"
      },
      "outputs": [],
      "source": [
        "from deepeval.test_case import LLMTestCase\n",
        "import pandas as pd\n",
        "\n",
        "def context_handler(contexts):\n",
        "    context_list = [context for context in contexts.split('\\n<|FIM_DO_CHUNK|>\\n') if context]\n",
        "    if len(context_list) > 4:\n",
        "        # Calculate the number of elements to concatenate into 4 strings\n",
        "        chunk_size = len(context_list) // 4 + (1 if len(context_list) % 4 != 0 else 0)\n",
        "        return [' '.join(context_list[i:i + chunk_size]) for i in range(0, len(context_list), chunk_size)][:4]\n",
        "    return context_list\n",
        "\n",
        "def load_test_cases(file_path):\n",
        "    df = pd.read_csv(file_path)\n",
        "    test_cases = [\n",
        "        LLMTestCase(\n",
        "            input=row['Pergunta'],\n",
        "            actual_output=row['RespostaGerada'],\n",
        "            expected_output=row['RespostaIdeal'],\n",
        "            retrieval_context=context_handler(row['Contexto']),\n",
        "            additional_metadata = {\n",
        "                'PromptTokens': row['PromptTokens'],\n",
        "                'CompletionTokens': row['CompletionTokens'],\n",
        "                'TotalTokens': row['TotalTokens'],\n",
        "                'ConfiguracaoDeInferencia': row['ConfiguracaoDeInferencia'],\n",
        "                'Documento': row['Documento']\n",
        "            }\n",
        "        )\n",
        "        for _, row in df.iterrows()\n",
        "    ]\n",
        "\n",
        "    return test_cases\n"
      ]
    },
    {
      "cell_type": "code",
      "source": [
        "latest_advanced_file"
      ],
      "metadata": {
        "colab": {
          "base_uri": "https://localhost:8080/",
          "height": 36
        },
        "id": "AhTWQvMaHXFF",
        "outputId": "1d52deda-a6c2-4cd5-f99c-2b3834d9194a"
      },
      "execution_count": 22,
      "outputs": [
        {
          "output_type": "execute_result",
          "data": {
            "text/plain": [
              "'data/ADVANCED_27_10_2024_14-46-00.csv'"
            ],
            "application/vnd.google.colaboratory.intrinsic+json": {
              "type": "string"
            }
          },
          "metadata": {},
          "execution_count": 22
        }
      ]
    },
    {
      "cell_type": "code",
      "execution_count": 23,
      "metadata": {
        "colab": {
          "base_uri": "https://localhost:8080/",
          "height": 133
        },
        "id": "k6MIIsFz0SKg",
        "outputId": "b26edcc3-666f-4808-9faf-9b485132117a"
      },
      "outputs": [
        {
          "output_type": "execute_result",
          "data": {
            "text/plain": [
              "  Documento                      Pergunta  \\\n",
              "9     Ambos  Programação I saiu da grade?   \n",
              "\n",
              "                                       RespostaIdeal  \\\n",
              "9  Sim, a disciplina Programação I saiu da grade ...   \n",
              "\n",
              "                               Diretriz_de_Avaliacao  \\\n",
              "9  A resposta ideal deve conter os seguintes pont...   \n",
              "\n",
              "                                      RespostaGerada  PromptTokens  \\\n",
              "9  ### Resposta Final\\n\\n**PPC 2018:**\\n- A disci...         36741   \n",
              "\n",
              "   TotalTokens  CompletionTokens  \\\n",
              "9        38550              1809   \n",
              "\n",
              "                                            Contexto  \\\n",
              "9  PPC 2018 Context:\\nNão, a disciplina de Progra...   \n",
              "\n",
              "                                   ConsultaExpandida  \\\n",
              "9  Programação I saiu da grade?, [\"Programação I ...   \n",
              "\n",
              "                            ConfiguracaoDeInferencia    Metodo  \n",
              "9  ADVANCED:  Expansão: llama-3.1-70b, RAG: open-...  advanced  "
            ],
            "text/html": [
              "\n",
              "  <div id=\"df-bb22d4b3-487f-48af-ae50-d74b2c521762\" class=\"colab-df-container\">\n",
              "    <div>\n",
              "<style scoped>\n",
              "    .dataframe tbody tr th:only-of-type {\n",
              "        vertical-align: middle;\n",
              "    }\n",
              "\n",
              "    .dataframe tbody tr th {\n",
              "        vertical-align: top;\n",
              "    }\n",
              "\n",
              "    .dataframe thead th {\n",
              "        text-align: right;\n",
              "    }\n",
              "</style>\n",
              "<table border=\"1\" class=\"dataframe\">\n",
              "  <thead>\n",
              "    <tr style=\"text-align: right;\">\n",
              "      <th></th>\n",
              "      <th>Documento</th>\n",
              "      <th>Pergunta</th>\n",
              "      <th>RespostaIdeal</th>\n",
              "      <th>Diretriz_de_Avaliacao</th>\n",
              "      <th>RespostaGerada</th>\n",
              "      <th>PromptTokens</th>\n",
              "      <th>TotalTokens</th>\n",
              "      <th>CompletionTokens</th>\n",
              "      <th>Contexto</th>\n",
              "      <th>ConsultaExpandida</th>\n",
              "      <th>ConfiguracaoDeInferencia</th>\n",
              "      <th>Metodo</th>\n",
              "    </tr>\n",
              "  </thead>\n",
              "  <tbody>\n",
              "    <tr>\n",
              "      <th>9</th>\n",
              "      <td>Ambos</td>\n",
              "      <td>Programação I saiu da grade?</td>\n",
              "      <td>Sim, a disciplina Programação I saiu da grade ...</td>\n",
              "      <td>A resposta ideal deve conter os seguintes pont...</td>\n",
              "      <td>### Resposta Final\\n\\n**PPC 2018:**\\n- A disci...</td>\n",
              "      <td>36741</td>\n",
              "      <td>38550</td>\n",
              "      <td>1809</td>\n",
              "      <td>PPC 2018 Context:\\nNão, a disciplina de Progra...</td>\n",
              "      <td>Programação I saiu da grade?, [\"Programação I ...</td>\n",
              "      <td>ADVANCED:  Expansão: llama-3.1-70b, RAG: open-...</td>\n",
              "      <td>advanced</td>\n",
              "    </tr>\n",
              "  </tbody>\n",
              "</table>\n",
              "</div>\n",
              "    <div class=\"colab-df-buttons\">\n",
              "\n",
              "  <div class=\"colab-df-container\">\n",
              "    <button class=\"colab-df-convert\" onclick=\"convertToInteractive('df-bb22d4b3-487f-48af-ae50-d74b2c521762')\"\n",
              "            title=\"Convert this dataframe to an interactive table.\"\n",
              "            style=\"display:none;\">\n",
              "\n",
              "  <svg xmlns=\"http://www.w3.org/2000/svg\" height=\"24px\" viewBox=\"0 -960 960 960\">\n",
              "    <path d=\"M120-120v-720h720v720H120Zm60-500h600v-160H180v160Zm220 220h160v-160H400v160Zm0 220h160v-160H400v160ZM180-400h160v-160H180v160Zm440 0h160v-160H620v160ZM180-180h160v-160H180v160Zm440 0h160v-160H620v160Z\"/>\n",
              "  </svg>\n",
              "    </button>\n",
              "\n",
              "  <style>\n",
              "    .colab-df-container {\n",
              "      display:flex;\n",
              "      gap: 12px;\n",
              "    }\n",
              "\n",
              "    .colab-df-convert {\n",
              "      background-color: #E8F0FE;\n",
              "      border: none;\n",
              "      border-radius: 50%;\n",
              "      cursor: pointer;\n",
              "      display: none;\n",
              "      fill: #1967D2;\n",
              "      height: 32px;\n",
              "      padding: 0 0 0 0;\n",
              "      width: 32px;\n",
              "    }\n",
              "\n",
              "    .colab-df-convert:hover {\n",
              "      background-color: #E2EBFA;\n",
              "      box-shadow: 0px 1px 2px rgba(60, 64, 67, 0.3), 0px 1px 3px 1px rgba(60, 64, 67, 0.15);\n",
              "      fill: #174EA6;\n",
              "    }\n",
              "\n",
              "    .colab-df-buttons div {\n",
              "      margin-bottom: 4px;\n",
              "    }\n",
              "\n",
              "    [theme=dark] .colab-df-convert {\n",
              "      background-color: #3B4455;\n",
              "      fill: #D2E3FC;\n",
              "    }\n",
              "\n",
              "    [theme=dark] .colab-df-convert:hover {\n",
              "      background-color: #434B5C;\n",
              "      box-shadow: 0px 1px 3px 1px rgba(0, 0, 0, 0.15);\n",
              "      filter: drop-shadow(0px 1px 2px rgba(0, 0, 0, 0.3));\n",
              "      fill: #FFFFFF;\n",
              "    }\n",
              "  </style>\n",
              "\n",
              "    <script>\n",
              "      const buttonEl =\n",
              "        document.querySelector('#df-bb22d4b3-487f-48af-ae50-d74b2c521762 button.colab-df-convert');\n",
              "      buttonEl.style.display =\n",
              "        google.colab.kernel.accessAllowed ? 'block' : 'none';\n",
              "\n",
              "      async function convertToInteractive(key) {\n",
              "        const element = document.querySelector('#df-bb22d4b3-487f-48af-ae50-d74b2c521762');\n",
              "        const dataTable =\n",
              "          await google.colab.kernel.invokeFunction('convertToInteractive',\n",
              "                                                    [key], {});\n",
              "        if (!dataTable) return;\n",
              "\n",
              "        const docLinkHtml = 'Like what you see? Visit the ' +\n",
              "          '<a target=\"_blank\" href=https://colab.research.google.com/notebooks/data_table.ipynb>data table notebook</a>'\n",
              "          + ' to learn more about interactive tables.';\n",
              "        element.innerHTML = '';\n",
              "        dataTable['output_type'] = 'display_data';\n",
              "        await google.colab.output.renderOutput(dataTable, element);\n",
              "        const docLink = document.createElement('div');\n",
              "        docLink.innerHTML = docLinkHtml;\n",
              "        element.appendChild(docLink);\n",
              "      }\n",
              "    </script>\n",
              "  </div>\n",
              "\n",
              "\n",
              "    </div>\n",
              "  </div>\n"
            ],
            "application/vnd.google.colaboratory.intrinsic+json": {
              "type": "dataframe",
              "summary": "{\n  \"name\": \"df\",\n  \"rows\": 1,\n  \"fields\": [\n    {\n      \"column\": \"Documento\",\n      \"properties\": {\n        \"dtype\": \"string\",\n        \"num_unique_values\": 1,\n        \"samples\": [\n          \"Ambos\"\n        ],\n        \"semantic_type\": \"\",\n        \"description\": \"\"\n      }\n    },\n    {\n      \"column\": \"Pergunta\",\n      \"properties\": {\n        \"dtype\": \"string\",\n        \"num_unique_values\": 1,\n        \"samples\": [\n          \"Programa\\u00e7\\u00e3o I saiu da grade?\"\n        ],\n        \"semantic_type\": \"\",\n        \"description\": \"\"\n      }\n    },\n    {\n      \"column\": \"RespostaIdeal\",\n      \"properties\": {\n        \"dtype\": \"string\",\n        \"num_unique_values\": 1,\n        \"samples\": [\n          \"Sim, a disciplina Programa\\u00e7\\u00e3o I saiu da grade como obrigat\\u00f3ria no PPC 2024. Ela foi substitu\\u00edda por Programa\\u00e7\\u00e3o Orientada a Objetos, mantendo o mesmo n\\u00famero de cr\\u00e9ditos.\"\n        ],\n        \"semantic_type\": \"\",\n        \"description\": \"\"\n      }\n    },\n    {\n      \"column\": \"Diretriz_de_Avaliacao\",\n      \"properties\": {\n        \"dtype\": \"string\",\n        \"num_unique_values\": 1,\n        \"samples\": [\n          \"A resposta ideal deve conter os seguintes pontos essenciais: - Indica\\u00e7\\u00e3o da substitui\\u00e7\\u00e3o de Programa\\u00e7\\u00e3o I por Programa\\u00e7\\u00e3o Orientada a Objetos no PPC 2024. - Destacar a manuten\\u00e7\\u00e3o dos cr\\u00e9ditos na transi\\u00e7\\u00e3o, assegurando clareza na comunica\\u00e7\\u00e3o.\"\n        ],\n        \"semantic_type\": \"\",\n        \"description\": \"\"\n      }\n    },\n    {\n      \"column\": \"RespostaGerada\",\n      \"properties\": {\n        \"dtype\": \"string\",\n        \"num_unique_values\": 1,\n        \"samples\": [\n          \"### Resposta Final\\n\\n**PPC 2018:**\\n- A disciplina \\\"Programa\\u00e7\\u00e3o I\\\" (GEX098) est\\u00e1 presente na matriz curricular do curso de Ci\\u00eancia da Computa\\u00e7\\u00e3o da UFFS.\\n- No turno vespertino, est\\u00e1 localizada na 15\\u00aa posi\\u00e7\\u00e3o e \\u00e9 ofertada no 3\\u00ba per\\u00edodo.\\n- No turno noturno, est\\u00e1 localizada na 14\\u00aa posi\\u00e7\\u00e3o e \\u00e9 ofertada no 4\\u00ba per\\u00edodo.\\n\\n**PPC 2024:**\\n- N\\u00e3o foi poss\\u00edvel encontrar a disciplina \\\"Programa\\u00e7\\u00e3o I\\\" nos trechos fornecidos do PPC.\\n- Portanto, n\\u00e3o \\u00e9 poss\\u00edvel afirmar se a disciplina \\\"Programa\\u00e7\\u00e3o I\\\" saiu da grade com base nas informa\\u00e7\\u00f5es fornecidas.\\n\\n### Conclus\\u00e3o\\n- **PPC 2018:** \\\"Programa\\u00e7\\u00e3o I\\\" est\\u00e1 presente.\\n- **PPC 2024:** Informa\\u00e7\\u00f5es insuficientes para confirmar a presen\\u00e7a ou aus\\u00eancia de \\\"Programa\\u00e7\\u00e3o I\\\".\"\n        ],\n        \"semantic_type\": \"\",\n        \"description\": \"\"\n      }\n    },\n    {\n      \"column\": \"PromptTokens\",\n      \"properties\": {\n        \"dtype\": \"number\",\n        \"std\": null,\n        \"min\": 36741,\n        \"max\": 36741,\n        \"num_unique_values\": 1,\n        \"samples\": [\n          36741\n        ],\n        \"semantic_type\": \"\",\n        \"description\": \"\"\n      }\n    },\n    {\n      \"column\": \"TotalTokens\",\n      \"properties\": {\n        \"dtype\": \"number\",\n        \"std\": null,\n        \"min\": 38550,\n        \"max\": 38550,\n        \"num_unique_values\": 1,\n        \"samples\": [\n          38550\n        ],\n        \"semantic_type\": \"\",\n        \"description\": \"\"\n      }\n    },\n    {\n      \"column\": \"CompletionTokens\",\n      \"properties\": {\n        \"dtype\": \"number\",\n        \"std\": null,\n        \"min\": 1809,\n        \"max\": 1809,\n        \"num_unique_values\": 1,\n        \"samples\": [\n          1809\n        ],\n        \"semantic_type\": \"\",\n        \"description\": \"\"\n      }\n    },\n    {\n      \"column\": \"Contexto\",\n      \"properties\": {\n        \"dtype\": \"string\",\n        \"num_unique_values\": 1,\n        \"samples\": [\n          \"PPC 2018 Context:\\nN\\u00e3o, a disciplina de Programa\\u00e7\\u00e3o I (GEX098) est\\u00e1 presente no PPC fornecido, com 4 cr\\u00e9ditos e 60 horas.\\nSim, a disciplina \\\"Programa\\u00e7\\u00e3o I\\\" est\\u00e1 presente na matriz curricular do curso de Ci\\u00eancia da Computa\\u00e7\\u00e3o da UFFS. De acordo com a matriz curricular do turno vespertino, a disciplina \\\"Programa\\u00e7\\u00e3o I\\\" possui o c\\u00f3digo GEX098 e est\\u00e1 localizada na 15\\u00aa posi\\u00e7\\u00e3o da ordem de componentes curriculares, sendo ofertada no 3\\u00ba per\\u00edodo do curso. J\\u00e1 na matriz curricular do turno noturno, a disciplina \\\"Programa\\u00e7\\u00e3o I\\\" possui o mesmo c\\u00f3digo GEX098 e est\\u00e1 localizada na 14\\u00aa posi\\u00e7\\u00e3o da ordem de componentes curriculares, sendo ofertada no 4\\u00ba per\\u00edodo do curso.\\nOs componentes curriculares do curso de Ci\\u00eancia da Computa\\u00e7\\u00e3o da UFFS, conforme o PPC, s\\u00e3o:\\n\\n1. Organiza\\u00e7\\u00e3o de computadores\\n2. Pesquisa e ordena\\u00e7\\u00e3o de dados\\n3. Banco de dados I\\n4. Programa\\u00e7\\u00e3o II\\n5. C\\u00e1lculo num\\u00e9rico\\n6. Linguagens formais e aut\\u00f4matos\\n7. Grafos\\n8. Banco de dados II\\n9. Engenharia de software I\\n10. Inicia\\u00e7\\u00e3o \\u00e0 pr\\u00e1tica cient\\u00edfica\\n11. Teoria da computa\\u00e7\\u00e3o\\n12. An\\u00e1lise de algoritmos\\n13. Sistemas operacionais\\n14. Engenharia de software II\\n15. Redes de computadores\\n16. Computa\\u00e7\\u00e3o gr\\u00e1fica\\n17. Planejamento e gest\\u00e3o de projetos\\n18. Constru\\u00e7\\u00e3o de compiladores\\n19. Intelig\\u00eancia artificial\\n20. T\\u00e9cnicas avan\\u00e7adas de programa\\u00e7\\u00e3o\\n21. Programa\\u00e7\\u00e3o funcional e l\\u00f3gica\\n22. Modelagem e simula\\u00e7\\u00e3o\\n23. Inform\\u00e1tica e sociedade\\n24. Sistemas multim\\u00eddia\\n25. Engenharia da usabilidade\\n26. Arquitetura de computadores\\n27. Sistemas de tempo real\\n28. Administra\\u00e7\\u00e3o e ger\\u00eancia de redes\\n29. Computa\\u00e7\\u00e3o aleatorizada\\n30. Administra\\u00e7\\u00e3o e organiza\\u00e7\\u00e3o\\n31. Seguran\\u00e7a e auditoria de sistemas\\n32. Programa\\u00e7\\u00e3o funcional e l\\u00f3gica\\n33. Inform\\u00e1tica e sociedade\\n34. Modelagem e simula\\u00e7\\u00e3o\\n35. Sistemas multim\\u00eddia\\n36. Engenharia da usabilidade\\n37. Sistemas embarcados\\n38. Sistemas de tempo real\\n39. Administra\\u00e7\\u00e3o e ger\\u00eancia de redes\\n40. Computa\\u00e7\\u00e3o aleatorizada\\n41. Administra\\u00e7\\u00e3o e organiza\\u00e7\\u00e3o empresarial\\n42. Sistemas de Informa\\u00e7\\u00e3o\\n43. Pesquisa operacional\\n44. Computa\\u00e7\\u00e3o distribu\\u00edda\\n45. Empreendedorismo\\n46. Inform\\u00e1tica na educa\\u00e7\\u00e3o\\n47. L\\u00edngua brasileira de sinais (Libras)\\n48. Linguagem de descri\\u00e7\\u00e3o de Hardware\\n49. T\\u00f3picos especiais em computa\\u00e7\\u00e3o\\n50. T\\u00f3picos especiais em computa\\u00e7\\u00e3o VIII\\n51. Matem\\u00e1tica discreta\\n52. T\\u00f3picos especiais em computa\\u00e7\\u00e3o L\\n53. T\\u00f3picos especiais em computa\\u00e7\\u00e3o XL\\n54. Trabalho de Conclus\\u00e3o de Curso I (TCC I)\\n55. Trabalho de Conclus\\u00e3o de Curso II (TCC II)\\n\\nAl\\u00e9m disso, existem v\\u00e1rios componentes curriculares optativos, cujos nomes n\\u00e3o foram especificados no PPC.\\n<|FIM_DO_CHUNK|>\\nPPC 2024 Context:\\nN\\u00e3o foi poss\\u00edvel encontrar uma disciplina chamada \\\"Programa\\u00e7\\u00e3o I\\\" nos trechos fornecidos do PPC. Portanto, n\\u00e3o \\u00e9 poss\\u00edvel afirmar se a disciplina \\\"Programa\\u00e7\\u00e3o I\\\" saiu da grade com base nas informa\\u00e7\\u00f5es fornecidas.\\nN\\u00e3o foi encontrada uma resposta precisa para a pergunta \\\"Programa\\u00e7\\u00e3o I est\\u00e1 na matriz curricular?\\\" com base nos trechos fornecidos do PPC. O termo \\\"Programa\\u00e7\\u00e3o I\\\" n\\u00e3o \\u00e9 mencionado explicitamente nos trechos fornecidos. Portanto, n\\u00e3o \\u00e9 poss\\u00edvel afirmar se \\\"Programa\\u00e7\\u00e3o I\\\" est\\u00e1 ou n\\u00e3o na matriz curricular com base apenas nas informa\\u00e7\\u00f5es fornecidas.\\nOs componentes curriculares do curso de Ci\\u00eancia da Computa\\u00e7\\u00e3o, *Campus* Chapec\\u00f3, listados no PPC s\\u00e3o:\\n\\n1. C\\u00e1lculo I\\n2. Geometria Anal\\u00edtica\\n3. C\\u00e1lculo II\\n4. C\\u00e1lculo Num\\u00e9rico\\n5. Libras\\n6. Probabilidade e Estat\\u00edstica\\n7. Seguran\\u00e7a e auditoria de sistemas\\n8. Gest\\u00e3o da inova\\u00e7\\u00e3o\\n9. Empreendedorismo e cria\\u00e7\\u00e3o de neg\\u00f3cios\\n10. Computa\\u00e7\\u00e3o Gr\\u00e1fica\\n11. Modelagem e simula\\u00e7\\u00e3o\\n12. L\\u00edngua brasileira de sinais (Libras)\\n13. T\\u00f3picos especiais em computa\\u00e7\\u00e3o I\\n14. T\\u00f3picos especiais em computa\\u00e7\\u00e3o II\\n15. T\\u00f3picos especiais em computa\\u00e7\\u00e3o III\\n16. T\\u00f3picos especiais em computa\\u00e7\\u00e3o IV\\n17. T\\u00f3picos especiais em computa\\u00e7\\u00e3o V\\n18. T\\u00f3picos especiais em computa\\u00e7\\u00e3o VI\\n19. T\\u00f3picos especiais em computa\\u00e7\\u00e3o VII\\n20. T\\u00f3picos especiais em computa\\u00e7\\u00e3o VIII\\n21. T\\u00f3picos especiais em computa\\u00e7\\u00e3o IX\\n22. T\\u00f3picos especiais em computa\\u00e7\\u00e3o X\\n23. T\\u00f3picos especiais em computa\\u00e7\\u00e3o XI\\n24. T\\u00f3picos especiais em computa\\u00e7\\u00e3o XII\\n25. Introdu\\u00e7\\u00e3o \\u00e0 computa\\u00e7\\u00e3o\\n26. Trabalho de conclus\\u00e3o de curso II\\n27. Trabalho de conclus\\u00e3o de curso I\\n28. \\u00c1lgebra Linear\\n29. Constru\\u00e7\\u00e3o de compiladores\\n30. Matem\\u00e1tica C\\n\\nLembre-se de que essa lista \\u00e9 baseada apenas nas informa\\u00e7\\u00f5es fornecidas no PPC e pode n\\u00e3o estar completa ou atualizada.\"\n        ],\n        \"semantic_type\": \"\",\n        \"description\": \"\"\n      }\n    },\n    {\n      \"column\": \"ConsultaExpandida\",\n      \"properties\": {\n        \"dtype\": \"string\",\n        \"num_unique_values\": 1,\n        \"samples\": [\n          \"Programa\\u00e7\\u00e3o I saiu da grade?, [\\\"Programa\\u00e7\\u00e3o I est\\u00e1 na matriz curricular?\\\", \\\"Liste todos os componentes curriculares do curso\\\"]\"\n        ],\n        \"semantic_type\": \"\",\n        \"description\": \"\"\n      }\n    },\n    {\n      \"column\": \"ConfiguracaoDeInferencia\",\n      \"properties\": {\n        \"dtype\": \"string\",\n        \"num_unique_values\": 1,\n        \"samples\": [\n          \"ADVANCED:  Expans\\u00e3o: llama-3.1-70b, RAG: open-mixtral-8x22b  Transforma\\u00e7\\u00e3o: Gemma2-9b-it , Final:mistral-large-latest, Contexto: 5, 5. PINECONE com metadados\"\n        ],\n        \"semantic_type\": \"\",\n        \"description\": \"\"\n      }\n    },\n    {\n      \"column\": \"Metodo\",\n      \"properties\": {\n        \"dtype\": \"string\",\n        \"num_unique_values\": 1,\n        \"samples\": [\n          \"advanced\"\n        ],\n        \"semantic_type\": \"\",\n        \"description\": \"\"\n      }\n    }\n  ]\n}"
            }
          },
          "metadata": {},
          "execution_count": 23
        }
      ],
      "source": [
        "df = pd.read_csv(latest_advanced_file)\n",
        "df.sample()"
      ]
    },
    {
      "cell_type": "markdown",
      "metadata": {
        "id": "9X4eYXPk0Yq3"
      },
      "source": [
        "# Configuring deepeval metrics"
      ]
    },
    {
      "cell_type": "code",
      "execution_count": 24,
      "metadata": {
        "id": "q9qEZHnuRQN4"
      },
      "outputs": [],
      "source": [
        "from deepeval.metrics import AnswerRelevancyMetric, ContextualRecallMetric, ContextualPrecisionMetric, FaithfulnessMetric, GEval, ContextualRelevancyMetric\n",
        "from deepeval.test_case import LLMTestCaseParams\n",
        "\n",
        "def generate_deepeval_metrics(model, model_for_context):\n",
        "    # Define correctness metric with model set\n",
        "    correctness_metric = GEval(\n",
        "        name=\"Correctness\",\n",
        "        criteria=\"Determine whether the actual output is factually correct based on the expected output.\",\n",
        "        evaluation_steps=[\n",
        "            \"Check whether the facts in 'actual output' contradict any facts in 'expected output'\",\n",
        "            \"You should also heavily penalize omission of detail\",\n",
        "            \"Vague language, or contradicting OPINIONS, are OK\"\n",
        "        ],\n",
        "        evaluation_params=[LLMTestCaseParams.INPUT, LLMTestCaseParams.ACTUAL_OUTPUT],\n",
        "        model=model\n",
        "    )\n",
        "\n",
        "    answer_relevancy_metric = AnswerRelevancyMetric(\n",
        "        model=model,\n",
        "        threshold=0.5\n",
        "    )\n",
        "\n",
        "    contextual_recall_metric = ContextualRecallMetric(\n",
        "        threshold=0.25,\n",
        "        model=model_for_context,\n",
        "        include_reason = False\n",
        "    )\n",
        "\n",
        "    contextual_precision_metric = ContextualPrecisionMetric(\n",
        "        threshold=0.5,\n",
        "        model=model,\n",
        "    )\n",
        "\n",
        "    contextual_relevancy = ContextualRelevancyMetric(\n",
        "        model = model,\n",
        "        threshold=0.5\n",
        "    )\n",
        "\n",
        "    faithfulness_metric = FaithfulnessMetric(\n",
        "        model=model,\n",
        "        threshold=0.5,\n",
        "        truths_extraction_limit = 3\n",
        "    )\n",
        "\n",
        "    # Return the metrics in a list\n",
        "    return [\n",
        "        correctness_metric,\n",
        "        answer_relevancy_metric,\n",
        "        contextual_recall_metric,\n",
        "        # contextual_relevancy,\n",
        "        faithfulness_metric\n",
        "    ]\n"
      ]
    },
    {
      "cell_type": "code",
      "execution_count": 25,
      "metadata": {
        "id": "CsFbQGBf7x9o"
      },
      "outputs": [],
      "source": [
        "import json\n",
        "import os\n",
        "\n",
        "\n",
        "def parse_test_result_to_dict(test_result):\n",
        "    parsed_results = []\n",
        "\n",
        "    for input_key, test_result_list in test_result.items():\n",
        "        for test_result_obj in test_result_list:\n",
        "            result_dict = {\n",
        "                'input': input_key,\n",
        "                'success': test_result_obj.success,\n",
        "                'conversational': test_result_obj.conversational,\n",
        "                'multimodal': test_result_obj.multimodal,\n",
        "                'actual_output': test_result_obj.actual_output,\n",
        "                'expected_output': test_result_obj.expected_output,\n",
        "                'context': test_result_obj.context,\n",
        "                'retrieval_context': test_result_obj.retrieval_context\n",
        "            }\n",
        "\n",
        "            metrics_list = []\n",
        "            for metric in test_result_obj.metrics_data:\n",
        "                metric_dict = {\n",
        "                    'name': metric.name,\n",
        "                    'threshold': metric.threshold,\n",
        "                    'success': metric.success,\n",
        "                    'score': metric.score,\n",
        "                    'reason': metric.reason,\n",
        "                    'strict_mode': metric.strict_mode,\n",
        "                    'evaluation_model': metric.evaluation_model,\n",
        "                    'error': metric.error,\n",
        "                    'evaluation_cost': metric.evaluation_cost,\n",
        "                    'verbose_logs': metric.verbose_logs\n",
        "                }\n",
        "                metrics_list.append(metric_dict)\n",
        "\n",
        "            result_dict['metrics'] = metrics_list\n",
        "            parsed_results.append(result_dict)\n",
        "\n",
        "    return parsed_results\n",
        "\n",
        "\n",
        "def save_dict_to_json_on_drive(data_dict, drive_folder_path, drive_file_name):\n",
        "    os.makedirs(drive_folder_path, exist_ok=True)\n",
        "    drive_path = f'{drive_folder_path}/{os.path.basename(drive_file_name)}'\n",
        "    with open(drive_path, 'w', encoding='utf-8') as json_file:\n",
        "        json.dump(data_dict, json_file, ensure_ascii=False)\n",
        "    print(f'File saved to: {drive_path}')\n",
        "\n",
        "    return drive_path\n",
        "\n",
        "import time\n",
        "import hashlib\n",
        "\n",
        "def transform_and_save_results(results, latest_file,  identifier='Groq_'):\n",
        "    # Cria um hash curto a partir do timestamp\n",
        "    timestamp = str(int(time.time()))\n",
        "    hash_suffix = hashlib.md5(timestamp.encode()).hexdigest()[:6]  # Gera um hash curto com 6 caracteres\n",
        "\n",
        "    # Cria o nome do arquivo com o identificador e o hash curto\n",
        "    filename = identifier + hash_suffix + '_' + latest_file.split('/')[1].replace('.csv', '.json')\n",
        "\n",
        "    # Salva os resultados no arquivo JSON\n",
        "    return save_dict_to_json_on_drive(results, f'/content/drive/MyDrive/tcc/resultados/validados/deepeval/{identifier}', filename)\n",
        "\n"
      ]
    },
    {
      "cell_type": "markdown",
      "metadata": {
        "id": "LnWycHBcFoEc"
      },
      "source": [
        "# Dataset evaluation"
      ]
    },
    {
      "cell_type": "code",
      "execution_count": 26,
      "metadata": {
        "id": "1oVpIo1wSBCp"
      },
      "outputs": [],
      "source": [
        "from deepeval import evaluate\n",
        "from deepeval.dataset import EvaluationDataset\n",
        "from typing import List, Dict, Any, Optional, Tuple\n",
        "from time import sleep\n",
        "\n",
        "def create_metric_result(measurement) -> Dict:\n",
        "    metrics_data = measurement.metrics_data[0]\n",
        "\n",
        "    return {\n",
        "        'name': metrics_data.name,\n",
        "        'threshold': metrics_data.threshold,\n",
        "        'success': metrics_data.success,\n",
        "        'score': metrics_data.score,\n",
        "        'reason': metrics_data.reason,\n",
        "        'strict_mode': metrics_data.strict_mode,\n",
        "        'evaluation_model': metrics_data.evaluation_model,\n",
        "        'error': metrics_data.error,\n",
        "        'evaluation_cost': metrics_data.evaluation_cost,\n",
        "        'verbose_logs': metrics_data.verbose_logs\n",
        "    }\n",
        "\n",
        "\n",
        "def evaluate_metric_with_retry(test_case, metric, sleep_times: Optional[Tuple[int, int]], retries_left: int) -> Dict:\n",
        "    try:\n",
        "        dataset = EvaluationDataset(test_cases=[test_case])\n",
        "        measurement = dataset.evaluate([metric])\n",
        "        test_result = measurement.test_results[0]\n",
        "        metric_result = create_metric_result(test_result)\n",
        "\n",
        "        return metric_result\n",
        "    except Exception as e:\n",
        "        print(f\"Error evaluating metric: {str(e)}\")\n",
        "\n",
        "        if retries_left > 0:\n",
        "            print(f\"Retrying... Attempts left: {retries_left}\")\n",
        "            sleep(10)\n",
        "            return evaluate_metric_with_retry(test_case, metric, sleep_times, retries_left - 1)\n",
        "        else:\n",
        "            print(f\"Failed to evaluate metric after all retry attempts.\")\n",
        "            # Return a metric result with invalid values and an error field\n",
        "            return {\n",
        "                'name': type(metric).__name__,\n",
        "                'threshold': None,\n",
        "                'success': True,\n",
        "                'score': -1,  # Example of an invalid score value\n",
        "                'reason': 'Evaluation failed',\n",
        "                'strict_mode': None,\n",
        "                'evaluation_model': None,\n",
        "                'error': str(e),\n",
        "                'evaluation_cost': 0,  # No cost since it failed\n",
        "                'verbose_logs': 'No logs available due to failure.'\n",
        "            }\n",
        "\n",
        "\n",
        "def evaluate_test_case(test_case, metrics, sleep_times: Optional[Tuple[int, int]] = None, max_retries: int = 1) -> Dict:\n",
        "    metric_results = []\n",
        "    overall_success = True\n",
        "\n",
        "    for index, metric in enumerate(metrics):\n",
        "        metric_result = evaluate_metric_with_retry(test_case, metric, sleep_times, max_retries)\n",
        "\n",
        "        if not metric_result['success']:\n",
        "            overall_success = False\n",
        "\n",
        "        metric_results.append(metric_result)\n",
        "\n",
        "        if sleep_times:\n",
        "            sleep(sleep_times[0])  # Sleep after each metric evaluation\n",
        "\n",
        "    return {\n",
        "        'input': test_case.input,\n",
        "        'success': overall_success,\n",
        "        'actual_output': test_case.actual_output,\n",
        "        'expected_output': test_case.expected_output,\n",
        "        'context': test_case.context,\n",
        "        'retrieval_context': test_case.retrieval_context,\n",
        "        'additional_metadata': test_case.additional_metadata,\n",
        "        'metrics': metric_results\n",
        "    }\n",
        "\n",
        "def evaluate_model(model, model_for_context, test_cases: List, sleep_times: Optional[Tuple[int, int]] = None) -> List[Dict]:\n",
        "\n",
        "    model_metrics = generate_deepeval_metrics(model, model_for_context)\n",
        "    results = []\n",
        "\n",
        "    for test_case in test_cases:\n",
        "        try:\n",
        "            evaluation_result = evaluate_test_case(test_case, model_metrics, sleep_times)\n",
        "            results.append(evaluation_result)\n",
        "\n",
        "            if sleep_times:\n",
        "                sleep(sleep_times[1])  # Sleep after each test case evaluation\n",
        "        except Exception as e:\n",
        "            print(f\"Failed to evaluate test case: {str(e)}\")\n",
        "            continue\n",
        "\n",
        "    return results\n"
      ]
    },
    {
      "cell_type": "code",
      "execution_count": 27,
      "metadata": {
        "id": "AaPSDFcP32Ax"
      },
      "outputs": [],
      "source": [
        "def divide_test_cases(test_cases, num_parts):\n",
        "    part_size = len(test_cases) // num_parts\n",
        "    remainder = len(test_cases) % num_parts\n",
        "\n",
        "    parts = []\n",
        "    start_index = 0\n",
        "\n",
        "    for i in range(num_parts):\n",
        "        # Adicionar 1 caso extra às primeiras 'remainder' partes para balancear\n",
        "        end_index = start_index + part_size + (1 if i < remainder else 0)\n",
        "        parts.append(test_cases[start_index:end_index])\n",
        "        start_index = end_index\n",
        "\n",
        "    return parts\n",
        "\n",
        "def load_results_from_file(file_path):\n",
        "    with open(file_path, 'r') as file:\n",
        "        results = json.load(file)\n",
        "    return results\n",
        "\n",
        "\n",
        "def combine_and_save_files(output_files, final_output_name):\n",
        "    combined_results = []\n",
        "\n",
        "    for file in output_files:\n",
        "        results = load_results_from_file(file)\n",
        "        combined_results.extend(results)\n",
        "\n",
        "    transform_and_save_results(combined_results, final_output_name, 'mistral-large-latest_')\n",
        "\n",
        "\n",
        "def evaluation_pipeline(model, model_for_context, sleep_times, file_pattern):\n",
        "    latest_file = get_latest_file('data/', file_pattern)\n",
        "    print(latest_file)\n",
        "    test_cases = load_test_cases(latest_file)\n",
        "\n",
        "\n",
        "    if file_pattern.startswith(\"ADVANCED\"):\n",
        "        parts = divide_test_cases(test_cases, 10)\n",
        "        output_files = []\n",
        "        # Avaliar cada parte e salvar resultados\n",
        "        for i, part in enumerate(parts):\n",
        "            if i < 9:\n",
        "                continue\n",
        "            print(f\"Avaliando parte {i + 1} de {len(parts)}\")\n",
        "            results = evaluate_model(model, model_for_context, part, sleep_times)\n",
        "            output_file = transform_and_save_results(results, latest_file, f'mistral-large-latest_unit_')\n",
        "            output_files.append(output_file)\n",
        "\n",
        "        return output_files\n",
        "    else:\n",
        "        # Avaliação normal para outros padrões de arquivo\n",
        "        results = evaluate_model(model, test_cases, sleep_times)\n",
        "        transform_and_save_results(results, latest_file, 'mistral-large-latest' + '_')\n"
      ]
    },
    {
      "cell_type": "code",
      "execution_count": 28,
      "metadata": {
        "id": "LHOWJyJI4eWV"
      },
      "outputs": [],
      "source": [
        "mixtral = LangchainModel('Mistral', 'mistral-large-latest')\n",
        "llama = LangchainModel('Groq', 'llama-3.1-70b-versatile')"
      ]
    },
    {
      "cell_type": "code",
      "execution_count": null,
      "metadata": {
        "id": "Iit2hsWC47vz"
      },
      "outputs": [],
      "source": [
        "# evaluation_pipeline(mixtral, (1,1), 'NAIVE*')"
      ]
    },
    {
      "cell_type": "code",
      "execution_count": null,
      "metadata": {
        "colab": {
          "base_uri": "https://localhost:8080/",
          "height": 1000
        },
        "id": "tp9VoUAF_J6p",
        "outputId": "876468eb-ae20-479d-de33-094b8879c90a"
      },
      "outputs": [
        {
          "output_type": "stream",
          "name": "stdout",
          "text": [
            "data/ADVANCED_19_10_2024_23-29-34.csv\n",
            "Avaliando parte 10 de 10\n"
          ]
        },
        {
          "output_type": "display_data",
          "data": {
            "text/plain": [
              "✨ You're running DeepEval's latest \u001b[38;2;106;0;255mCorrectness \u001b[0m\u001b[1;38;2;106;0;255m(\u001b[0m\u001b[38;2;106;0;255mGEval\u001b[0m\u001b[1;38;2;106;0;255m)\u001b[0m\u001b[38;2;106;0;255m Metric\u001b[0m! \u001b[1;38;2;55;65;81m(\u001b[0m\u001b[38;2;55;65;81musing mistral-large-latest, \u001b[0m\u001b[38;2;55;65;81mstrict\u001b[0m\u001b[38;2;55;65;81m=\u001b[0m\u001b[3;38;2;55;65;81mFalse\u001b[0m\u001b[38;2;55;65;81m, \u001b[0m\n",
              "\u001b[38;2;55;65;81masync_mode\u001b[0m\u001b[38;2;55;65;81m=\u001b[0m\u001b[3;38;2;55;65;81mTrue\u001b[0m\u001b[1;38;2;55;65;81m)\u001b[0m\u001b[38;2;55;65;81m...\u001b[0m\n"
            ],
            "text/html": [
              "<pre style=\"white-space:pre;overflow-x:auto;line-height:normal;font-family:Menlo,'DejaVu Sans Mono',consolas,'Courier New',monospace\">✨ You're running DeepEval's latest <span style=\"color: #6a00ff; text-decoration-color: #6a00ff\">Correctness </span><span style=\"color: #6a00ff; text-decoration-color: #6a00ff; font-weight: bold\">(</span><span style=\"color: #6a00ff; text-decoration-color: #6a00ff\">GEval</span><span style=\"color: #6a00ff; text-decoration-color: #6a00ff; font-weight: bold\">)</span><span style=\"color: #6a00ff; text-decoration-color: #6a00ff\"> Metric</span>! <span style=\"color: #374151; text-decoration-color: #374151; font-weight: bold\">(</span><span style=\"color: #374151; text-decoration-color: #374151\">using mistral-large-latest, </span><span style=\"color: #374151; text-decoration-color: #374151\">strict</span><span style=\"color: #374151; text-decoration-color: #374151\">=</span><span style=\"color: #374151; text-decoration-color: #374151; font-style: italic\">False</span><span style=\"color: #374151; text-decoration-color: #374151\">, </span>\n",
              "<span style=\"color: #374151; text-decoration-color: #374151\">async_mode</span><span style=\"color: #374151; text-decoration-color: #374151\">=</span><span style=\"color: #374151; text-decoration-color: #374151; font-style: italic\">True</span><span style=\"color: #374151; text-decoration-color: #374151; font-weight: bold\">)</span><span style=\"color: #374151; text-decoration-color: #374151\">...</span>\n",
              "</pre>\n"
            ]
          },
          "metadata": {}
        },
        {
          "output_type": "stream",
          "name": "stdout",
          "text": [
            "Event loop is already running. Applying nest_asyncio patch to allow async execution...\n"
          ]
        },
        {
          "output_type": "stream",
          "name": "stderr",
          "text": [
            "Evaluating 1 test case(s) in parallel: |██████████|100% (1/1) [Time Taken: 00:02,  2.61s/test case]"
          ]
        },
        {
          "output_type": "stream",
          "name": "stdout",
          "text": [
            "\n",
            "======================================================================\n",
            "\n",
            "Metrics Summary\n",
            "\n",
            "  - ✅ Correctness (GEval) (score: 1.0, threshold: 0.5, strict: False, evaluation model: mistral-large-latest, reason: The actual output provides detailed information about the possibility of taking EAD courses, including specific regulations and percentages, which aligns with the input question., error: None)\n",
            "\n",
            "For test case:\n",
            "\n",
            "  - input: Há possibilidade de realizar disciplinas EAD?\n",
            "  - actual output: Sim, há possibilidade de realizar disciplinas EAD. De acordo com o PPC, a Portaria do MEC N.º2.117, de 6 de dezembro de 2019, prevê a oferta de carga horária na modalidade de EaD dos cursos de graduação presenciais, até o limite de 40% da carga horária total do curso. Além disso, a Resolução N.º5/CONSUNI- CGRAD/UFFS/2014 define a possibilidade de ofertar até 20% da carga horária do curso em atividades semipresenciais, incluindo-se nesse percentual tanto os componentes curriculares integralmente a distância quanto a fração da carga horária ministrada a distância nos componentes presenciais.\n",
            "  - expected output: Sim, há a possibilidade de realizar disciplinas em EaD (Educação a Distância) no Curso de Ciência da Computação da UFFS. A Portaria do MEC N.**º**2.117, de 6 de dezembro de 2019, prevê a oferta de carga horária na modalidade de EaD dos cursos de graduação presenciais, até o limite de 40% da carga horária total do curso. Além disso, no âmbito institucional, a Resolução N.**º**5/CONSUNI- CGRAD/UFFS/2014 define a possibilidade de ofertar até 20% da carga horária do curso em atividades semipresenciais, incluindo-se nesse percentual tanto os componentes curriculares integralmente a distância quanto a fração da carga horária ministrada a distância nos componentes presenciais.\n",
            "  - context: None\n",
            "  - retrieval context: ['\\n\\n**§ 2º**A carga horária das ACEs pode ser cumprida em qualquer uma das fases do curso, <br><br>diferindo-se do caráter disciplinar (com ementário definido) e exigindo o cumprimento da carga <br><br>horária por meio da atuação em diferentes ações institucionalizadas.  \\n\\n| Código | COMPONENTE\\nCURRICULAR | Crédit\\nos | Horas |\\n|---|---|---|---|\\n| Código | COMPONENTE CURRICULAR | Crédit os | Horas |\\n|   | OPTATIVA V | 04 | 60 |\\n| EMENTA |   |   |   |\\n| Deve ser preenchida com o conteúdo de alguma das diversas disciplinas opcionais propostas, segundo critérios pré definidos pelo Colegiado. |   |   |   |\\n| OBJETIVO |   |   |   |\\n| Contemplada no plano de ensino da disciplina a ser ministrada. |   |   |   |\\n| REFERÊNCIAS BÁSICAS |   |   |   |\\n| Contemplada no plano de ensino da disciplina a ser ministrada. |   |   |   |\\n| REFERÊNCIAS COMPLEMENTARES |   |   |   |\\n| Contemplada no plano de ensino da disciplina a ser ministrada. |   |   |   |\\n \\n\\n**§ 1º**São admitidas no cômputo das ACEs as atividades de extensão e de cultura <br><br>demandadas por acadêmicos, sob orientação de docente, e em consonância com o PPC. ', '\\n\\n**EMENTA**<br><br>Deve ser preenchida com o conteúdo de alguma das diversas disciplinas opcionais \\npropostas, segundo critérios pré definidos pelo Colegiado. <br><br>**OBJETIVO**<br><br>Contemplada no plano de ensino da disciplina a ser ministrada. <br><br>**REFERÊNCIAS BÁSICAS**<br><br>Contemplada no plano de ensino da disciplina a ser ministrada. <br><br>**REFERÊNCIAS COMPLEMENTARES**<br><br>Contemplada no plano de ensino da disciplina a ser ministrada.  \\n\\npodem ser aplicadas também na educação presencial. A Portaria do MEC N.**º**2.117, de 6 de <br><br>dezembro de 2019, prevê a oferta de carga horária na modalidade de EaD dos cursos de <br><br>graduação presenciais, até o limite de 40% da carga horária total do curso. De forma <br><br>complementar, no âmbito institucional, a Resolução N.**º**5/CONSUNI- CGRAD/UFFS/2014 <br><br>1040  define a possibilidade de ofertar até 20% da carga horária do curso em atividades <br><br>semipresenciais, incluindo-se nesse percentual tanto os componentes curriculares <br><br>integralmente a distância quanto a fração da carga horária ministrada a distância nos <br><br>componentes presenciais. <br><br>O Curso de Ciência da Computação se preocupa com a formação docente para atuação <br><br>1045  na modalidade semipresencial. Para tanto, compromete-se junto a Instituição em fomentar a <br><br>participação docente nas atividades formativas em cursos de capacitação específicos para este  \\n\\n\\n\\n1870  4. Acessibilidade Metodológica <br><br>- Orientação aos coordenadores de curso e docentes sobre como organizar a prática <br><br>pedagógica diante da presença de discentes com deficiência; <br><br>- Disponibilização antecipada, por parte dos docentes para o intérprete de LIBRAS, do \\nDRAFT <br><br>material/conteúdo a ser utilizado/ministrado em aula; <br><br>- Envio de material/conteúdo em slides para o discente surdo com, pelo menos, um dia <br><br>de antecedência; <br><br>- Presença em sala de aula de Tradutor e Intérprete de LIBRAS nos cursos de graduação <br><br>em que há discente(s) matriculado(s) com surdez. Além de fazer a tradução e interpretação dos <br><br>conteúdos em sala de aula, o tradutor acompanha o discente em atividades como visitas a <br><br>1880  empresas e pesquisas de campo; realiza a mediação nos trabalhos em grupo; acompanha as <br><br>orientações com os docentes; acompanha o(s) acadêmico(s) surdo(s) em todos os setores da ', '\\n\\n| Código | COMPONENTE CURRICULAR | Créditos | Hora\\ns |\\n|---|---|---|---|\\n| Código | COMPONENTE CURRICULAR | Créditos | Hora s |\\n|   | OPTATIVA III | 04 | 60 |\\n| EMENTA |   |   |   |\\n| Deve ser preenchida com o conteúdo de alguma das diversas disciplinas opcionais propostas, segundo critérios pré definidos pelo Colegiado. |   |   |   |\\n| OBJETIVO |   |   |   |\\n| Contemplada no plano de ensino da disciplina a ser ministrada. |   |   |   |\\n| REFERÊNCIAS BÁSICAS |   |   |   |\\n| Contemplada no plano de ensino da disciplina a ser ministrada. |   |   |   |\\n| REFERÊNCIAS COMPLEMENTARESDRAFT |   |   |   |\\n| Contemplada no plano de ensino da disciplina a ser ministrada. |   |   |   |\\n<br><br>| Código | COMPONENTE\\nCURRICULAR | Crédit\\nos | Horas |\\n|---|---|---|---|\\n| Código | COMPONENTE CURRICULAR | Crédit os | Horas |\\n|   | OPTATIVA IV | 04 | 60 |\\n| EMENTA |   |   |   |\\n| Deve ser preenchida com o conteúdo de alguma das diversas disciplinas opcionais propostas, segundo critérios pré definidos pelo Colegiado. |   |   |   |\\n| OBJETIVO |   |   |   |\\n| Contemplada no plano de ensino da disciplina a ser ministrada. |   |   |   |\\n| REFERÊNCIAS BÁSICAS |   |   |   |\\n| Contemplada no plano de ensino da disciplina a ser ministrada. |   |   |   |\\n| REFERÊNCIAS COMPLEMENTARES |   |   |   |\\n| Contemplada no plano de ensino da disciplina a ser ministrada. |   |   |   |\\n \\n\\n|  | relacionados à temática de\\nempreendedorismo (ex.\\nSinapse inovação, startup\\nweekend, hackathons) |  | de participação | pelo projeto, ou\\ncertificado. |\\n|---|---|---|---|---|\\n|   | relacionados à temática de empreendedorismo (ex. Sinapse inovação, startup weekend, hackathons) |   | de participação | pelo projeto, ou certificado. |\\n| 3.15 | Participação como competidor, em maratonas de programação | 100 | 20 horas por evento | Tabela de classificação na competição, ou certificado. |\\n| 3.16 | Atividade orientada por docente no departamento de TI da UFFS | 80 | ½ do total de horas de participação | Relatório de atividades aprovado pelo docente responsável. |\\n| 3.17 | Contribuição em projetos de código aberto. | 100 | total de horas de participação | Certificado ou declaração |\\n<br><br>**Art. 9º**Para a validação de disciplinas de graduação vinculadas a outros cursos da UFFS, o <br><br>1985  discente deve protocolar, junto aos demais itens comprobatórios, um documento justificando a  \\n\\ncurriculares de sua área específica de formação, integrados aos componentes dos demais <br><br>domínios formativos, de modo a materializar a intersecção entre esses três domínios. Com <br><br>1005  isso, estima-se que o perfil acadêmico estará efetivamente contemplando, na formação dos <br><br>discentes, as habilidades de trabalho integrado entre a área específica de formação e as demais <br><br>áreas enquanto campo profissional, além de promover a formação interdisciplinar com <br><br>solidez, uma vez que a interdisciplinaridade potencializa a área específica de formação. ', '\\n\\n5. Acessibilidade Atitudinal <br><br>- Realização de contato com os familiares para saber sobre as necessidades; <br><br>- Promoção de curso de Capacitação em LIBRAS para servidores, com carga horária de <br><br>60h, objetivando promover a comunicação com as pessoas surdas que estudam ou buscam <br><br>informações na UFFS; <br><br>- Orientação aos docentes sobre como trabalhar com os discentes com deficiência; <br><br>- Realização de convênios e parcerias com órgãos governamentais e não- <br><br>governamentais. <br><br>- Participação nos debates locais, regionais e nacional sobre a temática. ']\n",
            "\n",
            "======================================================================\n",
            "\n",
            "Overall Metric Pass Rates\n",
            "\n",
            "Correctness (GEval): 100.00% pass rate\n",
            "\n",
            "======================================================================\n",
            "\n"
          ]
        },
        {
          "output_type": "stream",
          "name": "stderr",
          "text": [
            "\n"
          ]
        },
        {
          "output_type": "display_data",
          "data": {
            "text/plain": [
              "\u001b[38;2;5;245;141m✓\u001b[0m Tests finished 🎉! Run \u001b[32m'deepeval login'\u001b[0m to save and analyze evaluation results on Confident AI. \n",
              "‼️  Friendly reminder 😇: You can also run evaluations with ALL of deepeval's metrics directly on Confident AI \n",
              "instead.\n"
            ],
            "text/html": [
              "<pre style=\"white-space:pre;overflow-x:auto;line-height:normal;font-family:Menlo,'DejaVu Sans Mono',consolas,'Courier New',monospace\"><span style=\"color: #05f58d; text-decoration-color: #05f58d\">✓</span> Tests finished 🎉! Run <span style=\"color: #008000; text-decoration-color: #008000\">'deepeval login'</span> to save and analyze evaluation results on Confident AI. \n",
              "‼️  Friendly reminder 😇: You can also run evaluations with ALL of deepeval's metrics directly on Confident AI \n",
              "instead.\n",
              "</pre>\n"
            ]
          },
          "metadata": {}
        },
        {
          "output_type": "display_data",
          "data": {
            "text/plain": [
              "✨ You're running DeepEval's latest \u001b[38;2;106;0;255mAnswer Relevancy Metric\u001b[0m! \u001b[1;38;2;55;65;81m(\u001b[0m\u001b[38;2;55;65;81musing mistral-large-latest, \u001b[0m\u001b[38;2;55;65;81mstrict\u001b[0m\u001b[38;2;55;65;81m=\u001b[0m\u001b[3;38;2;55;65;81mFalse\u001b[0m\u001b[38;2;55;65;81m, \u001b[0m\n",
              "\u001b[38;2;55;65;81masync_mode\u001b[0m\u001b[38;2;55;65;81m=\u001b[0m\u001b[3;38;2;55;65;81mTrue\u001b[0m\u001b[1;38;2;55;65;81m)\u001b[0m\u001b[38;2;55;65;81m...\u001b[0m\n"
            ],
            "text/html": [
              "<pre style=\"white-space:pre;overflow-x:auto;line-height:normal;font-family:Menlo,'DejaVu Sans Mono',consolas,'Courier New',monospace\">✨ You're running DeepEval's latest <span style=\"color: #6a00ff; text-decoration-color: #6a00ff\">Answer Relevancy Metric</span>! <span style=\"color: #374151; text-decoration-color: #374151; font-weight: bold\">(</span><span style=\"color: #374151; text-decoration-color: #374151\">using mistral-large-latest, </span><span style=\"color: #374151; text-decoration-color: #374151\">strict</span><span style=\"color: #374151; text-decoration-color: #374151\">=</span><span style=\"color: #374151; text-decoration-color: #374151; font-style: italic\">False</span><span style=\"color: #374151; text-decoration-color: #374151\">, </span>\n",
              "<span style=\"color: #374151; text-decoration-color: #374151\">async_mode</span><span style=\"color: #374151; text-decoration-color: #374151\">=</span><span style=\"color: #374151; text-decoration-color: #374151; font-style: italic\">True</span><span style=\"color: #374151; text-decoration-color: #374151; font-weight: bold\">)</span><span style=\"color: #374151; text-decoration-color: #374151\">...</span>\n",
              "</pre>\n"
            ]
          },
          "metadata": {}
        },
        {
          "output_type": "stream",
          "name": "stdout",
          "text": [
            "Event loop is already running. Applying nest_asyncio patch to allow async execution...\n"
          ]
        },
        {
          "output_type": "stream",
          "name": "stderr",
          "text": [
            "Evaluating 1 test case(s) in parallel: |██████████|100% (1/1) [Time Taken: 00:11, 11.75s/test case]"
          ]
        },
        {
          "output_type": "stream",
          "name": "stdout",
          "text": [
            "\n",
            "======================================================================\n",
            "\n",
            "Metrics Summary\n",
            "\n",
            "  - ✅ Answer Relevancy (score: 1.0, threshold: 0.5, strict: False, evaluation model: mistral-large-latest, reason: The score is 1.00 because the response perfectly addresses the question about the possibility of taking online courses., error: None)\n",
            "\n",
            "For test case:\n",
            "\n",
            "  - input: Há possibilidade de realizar disciplinas EAD?\n",
            "  - actual output: Sim, há possibilidade de realizar disciplinas EAD. De acordo com o PPC, a Portaria do MEC N.º2.117, de 6 de dezembro de 2019, prevê a oferta de carga horária na modalidade de EaD dos cursos de graduação presenciais, até o limite de 40% da carga horária total do curso. Além disso, a Resolução N.º5/CONSUNI- CGRAD/UFFS/2014 define a possibilidade de ofertar até 20% da carga horária do curso em atividades semipresenciais, incluindo-se nesse percentual tanto os componentes curriculares integralmente a distância quanto a fração da carga horária ministrada a distância nos componentes presenciais.\n",
            "  - expected output: Sim, há a possibilidade de realizar disciplinas em EaD (Educação a Distância) no Curso de Ciência da Computação da UFFS. A Portaria do MEC N.**º**2.117, de 6 de dezembro de 2019, prevê a oferta de carga horária na modalidade de EaD dos cursos de graduação presenciais, até o limite de 40% da carga horária total do curso. Além disso, no âmbito institucional, a Resolução N.**º**5/CONSUNI- CGRAD/UFFS/2014 define a possibilidade de ofertar até 20% da carga horária do curso em atividades semipresenciais, incluindo-se nesse percentual tanto os componentes curriculares integralmente a distância quanto a fração da carga horária ministrada a distância nos componentes presenciais.\n",
            "  - context: None\n",
            "  - retrieval context: ['\\n\\n**§ 2º**A carga horária das ACEs pode ser cumprida em qualquer uma das fases do curso, <br><br>diferindo-se do caráter disciplinar (com ementário definido) e exigindo o cumprimento da carga <br><br>horária por meio da atuação em diferentes ações institucionalizadas.  \\n\\n| Código | COMPONENTE\\nCURRICULAR | Crédit\\nos | Horas |\\n|---|---|---|---|\\n| Código | COMPONENTE CURRICULAR | Crédit os | Horas |\\n|   | OPTATIVA V | 04 | 60 |\\n| EMENTA |   |   |   |\\n| Deve ser preenchida com o conteúdo de alguma das diversas disciplinas opcionais propostas, segundo critérios pré definidos pelo Colegiado. |   |   |   |\\n| OBJETIVO |   |   |   |\\n| Contemplada no plano de ensino da disciplina a ser ministrada. |   |   |   |\\n| REFERÊNCIAS BÁSICAS |   |   |   |\\n| Contemplada no plano de ensino da disciplina a ser ministrada. |   |   |   |\\n| REFERÊNCIAS COMPLEMENTARES |   |   |   |\\n| Contemplada no plano de ensino da disciplina a ser ministrada. |   |   |   |\\n \\n\\n**§ 1º**São admitidas no cômputo das ACEs as atividades de extensão e de cultura <br><br>demandadas por acadêmicos, sob orientação de docente, e em consonância com o PPC. ', '\\n\\n**EMENTA**<br><br>Deve ser preenchida com o conteúdo de alguma das diversas disciplinas opcionais \\npropostas, segundo critérios pré definidos pelo Colegiado. <br><br>**OBJETIVO**<br><br>Contemplada no plano de ensino da disciplina a ser ministrada. <br><br>**REFERÊNCIAS BÁSICAS**<br><br>Contemplada no plano de ensino da disciplina a ser ministrada. <br><br>**REFERÊNCIAS COMPLEMENTARES**<br><br>Contemplada no plano de ensino da disciplina a ser ministrada.  \\n\\npodem ser aplicadas também na educação presencial. A Portaria do MEC N.**º**2.117, de 6 de <br><br>dezembro de 2019, prevê a oferta de carga horária na modalidade de EaD dos cursos de <br><br>graduação presenciais, até o limite de 40% da carga horária total do curso. De forma <br><br>complementar, no âmbito institucional, a Resolução N.**º**5/CONSUNI- CGRAD/UFFS/2014 <br><br>1040  define a possibilidade de ofertar até 20% da carga horária do curso em atividades <br><br>semipresenciais, incluindo-se nesse percentual tanto os componentes curriculares <br><br>integralmente a distância quanto a fração da carga horária ministrada a distância nos <br><br>componentes presenciais. <br><br>O Curso de Ciência da Computação se preocupa com a formação docente para atuação <br><br>1045  na modalidade semipresencial. Para tanto, compromete-se junto a Instituição em fomentar a <br><br>participação docente nas atividades formativas em cursos de capacitação específicos para este  \\n\\n\\n\\n1870  4. Acessibilidade Metodológica <br><br>- Orientação aos coordenadores de curso e docentes sobre como organizar a prática <br><br>pedagógica diante da presença de discentes com deficiência; <br><br>- Disponibilização antecipada, por parte dos docentes para o intérprete de LIBRAS, do \\nDRAFT <br><br>material/conteúdo a ser utilizado/ministrado em aula; <br><br>- Envio de material/conteúdo em slides para o discente surdo com, pelo menos, um dia <br><br>de antecedência; <br><br>- Presença em sala de aula de Tradutor e Intérprete de LIBRAS nos cursos de graduação <br><br>em que há discente(s) matriculado(s) com surdez. Além de fazer a tradução e interpretação dos <br><br>conteúdos em sala de aula, o tradutor acompanha o discente em atividades como visitas a <br><br>1880  empresas e pesquisas de campo; realiza a mediação nos trabalhos em grupo; acompanha as <br><br>orientações com os docentes; acompanha o(s) acadêmico(s) surdo(s) em todos os setores da ', '\\n\\n| Código | COMPONENTE CURRICULAR | Créditos | Hora\\ns |\\n|---|---|---|---|\\n| Código | COMPONENTE CURRICULAR | Créditos | Hora s |\\n|   | OPTATIVA III | 04 | 60 |\\n| EMENTA |   |   |   |\\n| Deve ser preenchida com o conteúdo de alguma das diversas disciplinas opcionais propostas, segundo critérios pré definidos pelo Colegiado. |   |   |   |\\n| OBJETIVO |   |   |   |\\n| Contemplada no plano de ensino da disciplina a ser ministrada. |   |   |   |\\n| REFERÊNCIAS BÁSICAS |   |   |   |\\n| Contemplada no plano de ensino da disciplina a ser ministrada. |   |   |   |\\n| REFERÊNCIAS COMPLEMENTARESDRAFT |   |   |   |\\n| Contemplada no plano de ensino da disciplina a ser ministrada. |   |   |   |\\n<br><br>| Código | COMPONENTE\\nCURRICULAR | Crédit\\nos | Horas |\\n|---|---|---|---|\\n| Código | COMPONENTE CURRICULAR | Crédit os | Horas |\\n|   | OPTATIVA IV | 04 | 60 |\\n| EMENTA |   |   |   |\\n| Deve ser preenchida com o conteúdo de alguma das diversas disciplinas opcionais propostas, segundo critérios pré definidos pelo Colegiado. |   |   |   |\\n| OBJETIVO |   |   |   |\\n| Contemplada no plano de ensino da disciplina a ser ministrada. |   |   |   |\\n| REFERÊNCIAS BÁSICAS |   |   |   |\\n| Contemplada no plano de ensino da disciplina a ser ministrada. |   |   |   |\\n| REFERÊNCIAS COMPLEMENTARES |   |   |   |\\n| Contemplada no plano de ensino da disciplina a ser ministrada. |   |   |   |\\n \\n\\n|  | relacionados à temática de\\nempreendedorismo (ex.\\nSinapse inovação, startup\\nweekend, hackathons) |  | de participação | pelo projeto, ou\\ncertificado. |\\n|---|---|---|---|---|\\n|   | relacionados à temática de empreendedorismo (ex. Sinapse inovação, startup weekend, hackathons) |   | de participação | pelo projeto, ou certificado. |\\n| 3.15 | Participação como competidor, em maratonas de programação | 100 | 20 horas por evento | Tabela de classificação na competição, ou certificado. |\\n| 3.16 | Atividade orientada por docente no departamento de TI da UFFS | 80 | ½ do total de horas de participação | Relatório de atividades aprovado pelo docente responsável. |\\n| 3.17 | Contribuição em projetos de código aberto. | 100 | total de horas de participação | Certificado ou declaração |\\n<br><br>**Art. 9º**Para a validação de disciplinas de graduação vinculadas a outros cursos da UFFS, o <br><br>1985  discente deve protocolar, junto aos demais itens comprobatórios, um documento justificando a  \\n\\ncurriculares de sua área específica de formação, integrados aos componentes dos demais <br><br>domínios formativos, de modo a materializar a intersecção entre esses três domínios. Com <br><br>1005  isso, estima-se que o perfil acadêmico estará efetivamente contemplando, na formação dos <br><br>discentes, as habilidades de trabalho integrado entre a área específica de formação e as demais <br><br>áreas enquanto campo profissional, além de promover a formação interdisciplinar com <br><br>solidez, uma vez que a interdisciplinaridade potencializa a área específica de formação. ', '\\n\\n5. Acessibilidade Atitudinal <br><br>- Realização de contato com os familiares para saber sobre as necessidades; <br><br>- Promoção de curso de Capacitação em LIBRAS para servidores, com carga horária de <br><br>60h, objetivando promover a comunicação com as pessoas surdas que estudam ou buscam <br><br>informações na UFFS; <br><br>- Orientação aos docentes sobre como trabalhar com os discentes com deficiência; <br><br>- Realização de convênios e parcerias com órgãos governamentais e não- <br><br>governamentais. <br><br>- Participação nos debates locais, regionais e nacional sobre a temática. ']\n",
            "\n",
            "======================================================================\n",
            "\n",
            "Overall Metric Pass Rates\n",
            "\n",
            "Answer Relevancy: 100.00% pass rate\n",
            "\n",
            "======================================================================\n",
            "\n"
          ]
        },
        {
          "output_type": "stream",
          "name": "stderr",
          "text": [
            "\n"
          ]
        },
        {
          "output_type": "display_data",
          "data": {
            "text/plain": [
              "\u001b[38;2;5;245;141m✓\u001b[0m Tests finished 🎉! Run \u001b[32m'deepeval login'\u001b[0m to save and analyze evaluation results on Confident AI. \n",
              "‼️  Friendly reminder 😇: You can also run evaluations with ALL of deepeval's metrics directly on Confident AI \n",
              "instead.\n"
            ],
            "text/html": [
              "<pre style=\"white-space:pre;overflow-x:auto;line-height:normal;font-family:Menlo,'DejaVu Sans Mono',consolas,'Courier New',monospace\"><span style=\"color: #05f58d; text-decoration-color: #05f58d\">✓</span> Tests finished 🎉! Run <span style=\"color: #008000; text-decoration-color: #008000\">'deepeval login'</span> to save and analyze evaluation results on Confident AI. \n",
              "‼️  Friendly reminder 😇: You can also run evaluations with ALL of deepeval's metrics directly on Confident AI \n",
              "instead.\n",
              "</pre>\n"
            ]
          },
          "metadata": {}
        },
        {
          "output_type": "display_data",
          "data": {
            "text/plain": [
              "✨ You're running DeepEval's latest \u001b[38;2;106;0;255mContextual Recall Metric\u001b[0m! \u001b[1;38;2;55;65;81m(\u001b[0m\u001b[38;2;55;65;81musing llama-\u001b[0m\u001b[1;38;2;55;65;81m3.1\u001b[0m\u001b[38;2;55;65;81m-70b-versatile, \u001b[0m\u001b[38;2;55;65;81mstrict\u001b[0m\u001b[38;2;55;65;81m=\u001b[0m\u001b[3;38;2;55;65;81mFalse\u001b[0m\u001b[38;2;55;65;81m, \u001b[0m\n",
              "\u001b[38;2;55;65;81masync_mode\u001b[0m\u001b[38;2;55;65;81m=\u001b[0m\u001b[3;38;2;55;65;81mTrue\u001b[0m\u001b[1;38;2;55;65;81m)\u001b[0m\u001b[38;2;55;65;81m...\u001b[0m\n"
            ],
            "text/html": [
              "<pre style=\"white-space:pre;overflow-x:auto;line-height:normal;font-family:Menlo,'DejaVu Sans Mono',consolas,'Courier New',monospace\">✨ You're running DeepEval's latest <span style=\"color: #6a00ff; text-decoration-color: #6a00ff\">Contextual Recall Metric</span>! <span style=\"color: #374151; text-decoration-color: #374151; font-weight: bold\">(</span><span style=\"color: #374151; text-decoration-color: #374151\">using llama-</span><span style=\"color: #374151; text-decoration-color: #374151; font-weight: bold\">3.1</span><span style=\"color: #374151; text-decoration-color: #374151\">-70b-versatile, </span><span style=\"color: #374151; text-decoration-color: #374151\">strict</span><span style=\"color: #374151; text-decoration-color: #374151\">=</span><span style=\"color: #374151; text-decoration-color: #374151; font-style: italic\">False</span><span style=\"color: #374151; text-decoration-color: #374151\">, </span>\n",
              "<span style=\"color: #374151; text-decoration-color: #374151\">async_mode</span><span style=\"color: #374151; text-decoration-color: #374151\">=</span><span style=\"color: #374151; text-decoration-color: #374151; font-style: italic\">True</span><span style=\"color: #374151; text-decoration-color: #374151; font-weight: bold\">)</span><span style=\"color: #374151; text-decoration-color: #374151\">...</span>\n",
              "</pre>\n"
            ]
          },
          "metadata": {}
        },
        {
          "output_type": "stream",
          "name": "stdout",
          "text": [
            "Event loop is already running. Applying nest_asyncio patch to allow async execution...\n"
          ]
        },
        {
          "output_type": "stream",
          "name": "stderr",
          "text": [
            "Evaluating 1 test case(s) in parallel: |██████████|100% (1/1) [Time Taken: 00:01,  1.83s/test case]"
          ]
        },
        {
          "output_type": "stream",
          "name": "stdout",
          "text": [
            "\n",
            "======================================================================\n",
            "\n",
            "Metrics Summary\n",
            "\n",
            "  - ✅ Contextual Recall (score: 0.6666666666666666, threshold: 0.25, strict: False, evaluation model: llama-3.1-70b-versatile, reason: None, error: None)\n",
            "\n",
            "For test case:\n",
            "\n",
            "  - input: Há possibilidade de realizar disciplinas EAD?\n",
            "  - actual output: Sim, há possibilidade de realizar disciplinas EAD. De acordo com o PPC, a Portaria do MEC N.º2.117, de 6 de dezembro de 2019, prevê a oferta de carga horária na modalidade de EaD dos cursos de graduação presenciais, até o limite de 40% da carga horária total do curso. Além disso, a Resolução N.º5/CONSUNI- CGRAD/UFFS/2014 define a possibilidade de ofertar até 20% da carga horária do curso em atividades semipresenciais, incluindo-se nesse percentual tanto os componentes curriculares integralmente a distância quanto a fração da carga horária ministrada a distância nos componentes presenciais.\n",
            "  - expected output: Sim, há a possibilidade de realizar disciplinas em EaD (Educação a Distância) no Curso de Ciência da Computação da UFFS. A Portaria do MEC N.**º**2.117, de 6 de dezembro de 2019, prevê a oferta de carga horária na modalidade de EaD dos cursos de graduação presenciais, até o limite de 40% da carga horária total do curso. Além disso, no âmbito institucional, a Resolução N.**º**5/CONSUNI- CGRAD/UFFS/2014 define a possibilidade de ofertar até 20% da carga horária do curso em atividades semipresenciais, incluindo-se nesse percentual tanto os componentes curriculares integralmente a distância quanto a fração da carga horária ministrada a distância nos componentes presenciais.\n",
            "  - context: None\n",
            "  - retrieval context: ['\\n\\n**§ 2º**A carga horária das ACEs pode ser cumprida em qualquer uma das fases do curso, <br><br>diferindo-se do caráter disciplinar (com ementário definido) e exigindo o cumprimento da carga <br><br>horária por meio da atuação em diferentes ações institucionalizadas.  \\n\\n| Código | COMPONENTE\\nCURRICULAR | Crédit\\nos | Horas |\\n|---|---|---|---|\\n| Código | COMPONENTE CURRICULAR | Crédit os | Horas |\\n|   | OPTATIVA V | 04 | 60 |\\n| EMENTA |   |   |   |\\n| Deve ser preenchida com o conteúdo de alguma das diversas disciplinas opcionais propostas, segundo critérios pré definidos pelo Colegiado. |   |   |   |\\n| OBJETIVO |   |   |   |\\n| Contemplada no plano de ensino da disciplina a ser ministrada. |   |   |   |\\n| REFERÊNCIAS BÁSICAS |   |   |   |\\n| Contemplada no plano de ensino da disciplina a ser ministrada. |   |   |   |\\n| REFERÊNCIAS COMPLEMENTARES |   |   |   |\\n| Contemplada no plano de ensino da disciplina a ser ministrada. |   |   |   |\\n \\n\\n**§ 1º**São admitidas no cômputo das ACEs as atividades de extensão e de cultura <br><br>demandadas por acadêmicos, sob orientação de docente, e em consonância com o PPC. ', '\\n\\n**EMENTA**<br><br>Deve ser preenchida com o conteúdo de alguma das diversas disciplinas opcionais \\npropostas, segundo critérios pré definidos pelo Colegiado. <br><br>**OBJETIVO**<br><br>Contemplada no plano de ensino da disciplina a ser ministrada. <br><br>**REFERÊNCIAS BÁSICAS**<br><br>Contemplada no plano de ensino da disciplina a ser ministrada. <br><br>**REFERÊNCIAS COMPLEMENTARES**<br><br>Contemplada no plano de ensino da disciplina a ser ministrada.  \\n\\npodem ser aplicadas também na educação presencial. A Portaria do MEC N.**º**2.117, de 6 de <br><br>dezembro de 2019, prevê a oferta de carga horária na modalidade de EaD dos cursos de <br><br>graduação presenciais, até o limite de 40% da carga horária total do curso. De forma <br><br>complementar, no âmbito institucional, a Resolução N.**º**5/CONSUNI- CGRAD/UFFS/2014 <br><br>1040  define a possibilidade de ofertar até 20% da carga horária do curso em atividades <br><br>semipresenciais, incluindo-se nesse percentual tanto os componentes curriculares <br><br>integralmente a distância quanto a fração da carga horária ministrada a distância nos <br><br>componentes presenciais. <br><br>O Curso de Ciência da Computação se preocupa com a formação docente para atuação <br><br>1045  na modalidade semipresencial. Para tanto, compromete-se junto a Instituição em fomentar a <br><br>participação docente nas atividades formativas em cursos de capacitação específicos para este  \\n\\n\\n\\n1870  4. Acessibilidade Metodológica <br><br>- Orientação aos coordenadores de curso e docentes sobre como organizar a prática <br><br>pedagógica diante da presença de discentes com deficiência; <br><br>- Disponibilização antecipada, por parte dos docentes para o intérprete de LIBRAS, do \\nDRAFT <br><br>material/conteúdo a ser utilizado/ministrado em aula; <br><br>- Envio de material/conteúdo em slides para o discente surdo com, pelo menos, um dia <br><br>de antecedência; <br><br>- Presença em sala de aula de Tradutor e Intérprete de LIBRAS nos cursos de graduação <br><br>em que há discente(s) matriculado(s) com surdez. Além de fazer a tradução e interpretação dos <br><br>conteúdos em sala de aula, o tradutor acompanha o discente em atividades como visitas a <br><br>1880  empresas e pesquisas de campo; realiza a mediação nos trabalhos em grupo; acompanha as <br><br>orientações com os docentes; acompanha o(s) acadêmico(s) surdo(s) em todos os setores da ', '\\n\\n| Código | COMPONENTE CURRICULAR | Créditos | Hora\\ns |\\n|---|---|---|---|\\n| Código | COMPONENTE CURRICULAR | Créditos | Hora s |\\n|   | OPTATIVA III | 04 | 60 |\\n| EMENTA |   |   |   |\\n| Deve ser preenchida com o conteúdo de alguma das diversas disciplinas opcionais propostas, segundo critérios pré definidos pelo Colegiado. |   |   |   |\\n| OBJETIVO |   |   |   |\\n| Contemplada no plano de ensino da disciplina a ser ministrada. |   |   |   |\\n| REFERÊNCIAS BÁSICAS |   |   |   |\\n| Contemplada no plano de ensino da disciplina a ser ministrada. |   |   |   |\\n| REFERÊNCIAS COMPLEMENTARESDRAFT |   |   |   |\\n| Contemplada no plano de ensino da disciplina a ser ministrada. |   |   |   |\\n<br><br>| Código | COMPONENTE\\nCURRICULAR | Crédit\\nos | Horas |\\n|---|---|---|---|\\n| Código | COMPONENTE CURRICULAR | Crédit os | Horas |\\n|   | OPTATIVA IV | 04 | 60 |\\n| EMENTA |   |   |   |\\n| Deve ser preenchida com o conteúdo de alguma das diversas disciplinas opcionais propostas, segundo critérios pré definidos pelo Colegiado. |   |   |   |\\n| OBJETIVO |   |   |   |\\n| Contemplada no plano de ensino da disciplina a ser ministrada. |   |   |   |\\n| REFERÊNCIAS BÁSICAS |   |   |   |\\n| Contemplada no plano de ensino da disciplina a ser ministrada. |   |   |   |\\n| REFERÊNCIAS COMPLEMENTARES |   |   |   |\\n| Contemplada no plano de ensino da disciplina a ser ministrada. |   |   |   |\\n \\n\\n|  | relacionados à temática de\\nempreendedorismo (ex.\\nSinapse inovação, startup\\nweekend, hackathons) |  | de participação | pelo projeto, ou\\ncertificado. |\\n|---|---|---|---|---|\\n|   | relacionados à temática de empreendedorismo (ex. Sinapse inovação, startup weekend, hackathons) |   | de participação | pelo projeto, ou certificado. |\\n| 3.15 | Participação como competidor, em maratonas de programação | 100 | 20 horas por evento | Tabela de classificação na competição, ou certificado. |\\n| 3.16 | Atividade orientada por docente no departamento de TI da UFFS | 80 | ½ do total de horas de participação | Relatório de atividades aprovado pelo docente responsável. |\\n| 3.17 | Contribuição em projetos de código aberto. | 100 | total de horas de participação | Certificado ou declaração |\\n<br><br>**Art. 9º**Para a validação de disciplinas de graduação vinculadas a outros cursos da UFFS, o <br><br>1985  discente deve protocolar, junto aos demais itens comprobatórios, um documento justificando a  \\n\\ncurriculares de sua área específica de formação, integrados aos componentes dos demais <br><br>domínios formativos, de modo a materializar a intersecção entre esses três domínios. Com <br><br>1005  isso, estima-se que o perfil acadêmico estará efetivamente contemplando, na formação dos <br><br>discentes, as habilidades de trabalho integrado entre a área específica de formação e as demais <br><br>áreas enquanto campo profissional, além de promover a formação interdisciplinar com <br><br>solidez, uma vez que a interdisciplinaridade potencializa a área específica de formação. ', '\\n\\n5. Acessibilidade Atitudinal <br><br>- Realização de contato com os familiares para saber sobre as necessidades; <br><br>- Promoção de curso de Capacitação em LIBRAS para servidores, com carga horária de <br><br>60h, objetivando promover a comunicação com as pessoas surdas que estudam ou buscam <br><br>informações na UFFS; <br><br>- Orientação aos docentes sobre como trabalhar com os discentes com deficiência; <br><br>- Realização de convênios e parcerias com órgãos governamentais e não- <br><br>governamentais. <br><br>- Participação nos debates locais, regionais e nacional sobre a temática. ']\n",
            "\n",
            "======================================================================\n",
            "\n",
            "Overall Metric Pass Rates\n",
            "\n",
            "Contextual Recall: 100.00% pass rate\n",
            "\n",
            "======================================================================\n",
            "\n"
          ]
        },
        {
          "output_type": "stream",
          "name": "stderr",
          "text": [
            "\n"
          ]
        },
        {
          "output_type": "display_data",
          "data": {
            "text/plain": [
              "\u001b[38;2;5;245;141m✓\u001b[0m Tests finished 🎉! Run \u001b[32m'deepeval login'\u001b[0m to save and analyze evaluation results on Confident AI. \n",
              "‼️  Friendly reminder 😇: You can also run evaluations with ALL of deepeval's metrics directly on Confident AI \n",
              "instead.\n"
            ],
            "text/html": [
              "<pre style=\"white-space:pre;overflow-x:auto;line-height:normal;font-family:Menlo,'DejaVu Sans Mono',consolas,'Courier New',monospace\"><span style=\"color: #05f58d; text-decoration-color: #05f58d\">✓</span> Tests finished 🎉! Run <span style=\"color: #008000; text-decoration-color: #008000\">'deepeval login'</span> to save and analyze evaluation results on Confident AI. \n",
              "‼️  Friendly reminder 😇: You can also run evaluations with ALL of deepeval's metrics directly on Confident AI \n",
              "instead.\n",
              "</pre>\n"
            ]
          },
          "metadata": {}
        },
        {
          "output_type": "display_data",
          "data": {
            "text/plain": [
              "✨ You're running DeepEval's latest \u001b[38;2;106;0;255mFaithfulness Metric\u001b[0m! \u001b[1;38;2;55;65;81m(\u001b[0m\u001b[38;2;55;65;81musing mistral-large-latest, \u001b[0m\u001b[38;2;55;65;81mstrict\u001b[0m\u001b[38;2;55;65;81m=\u001b[0m\u001b[3;38;2;55;65;81mFalse\u001b[0m\u001b[38;2;55;65;81m, \u001b[0m\n",
              "\u001b[38;2;55;65;81masync_mode\u001b[0m\u001b[38;2;55;65;81m=\u001b[0m\u001b[3;38;2;55;65;81mTrue\u001b[0m\u001b[1;38;2;55;65;81m)\u001b[0m\u001b[38;2;55;65;81m...\u001b[0m\n"
            ],
            "text/html": [
              "<pre style=\"white-space:pre;overflow-x:auto;line-height:normal;font-family:Menlo,'DejaVu Sans Mono',consolas,'Courier New',monospace\">✨ You're running DeepEval's latest <span style=\"color: #6a00ff; text-decoration-color: #6a00ff\">Faithfulness Metric</span>! <span style=\"color: #374151; text-decoration-color: #374151; font-weight: bold\">(</span><span style=\"color: #374151; text-decoration-color: #374151\">using mistral-large-latest, </span><span style=\"color: #374151; text-decoration-color: #374151\">strict</span><span style=\"color: #374151; text-decoration-color: #374151\">=</span><span style=\"color: #374151; text-decoration-color: #374151; font-style: italic\">False</span><span style=\"color: #374151; text-decoration-color: #374151\">, </span>\n",
              "<span style=\"color: #374151; text-decoration-color: #374151\">async_mode</span><span style=\"color: #374151; text-decoration-color: #374151\">=</span><span style=\"color: #374151; text-decoration-color: #374151; font-style: italic\">True</span><span style=\"color: #374151; text-decoration-color: #374151; font-weight: bold\">)</span><span style=\"color: #374151; text-decoration-color: #374151\">...</span>\n",
              "</pre>\n"
            ]
          },
          "metadata": {}
        },
        {
          "output_type": "stream",
          "name": "stdout",
          "text": [
            "Event loop is already running. Applying nest_asyncio patch to allow async execution...\n"
          ]
        },
        {
          "output_type": "stream",
          "name": "stderr",
          "text": [
            "\rEvaluating 1 test case(s) in parallel: |          |  0% (0/1) [Time Taken: 00:00, ?test case/s]"
          ]
        },
        {
          "output_type": "stream",
          "name": "stdout",
          "text": [
            "3\n"
          ]
        },
        {
          "output_type": "stream",
          "name": "stderr",
          "text": [
            "Evaluating 1 test case(s) in parallel: |██████████|100% (1/1) [Time Taken: 00:20, 20.21s/test case]"
          ]
        },
        {
          "output_type": "stream",
          "name": "stdout",
          "text": [
            "\n",
            "======================================================================\n",
            "\n",
            "Metrics Summary\n",
            "\n",
            "  - ✅ Faithfulness (score: 1.0, threshold: 0.5, strict: False, evaluation model: mistral-large-latest, reason: The score is 1.00 because there are no contradictions! Great job!, error: None)\n",
            "\n",
            "For test case:\n",
            "\n",
            "  - input: Há possibilidade de realizar disciplinas EAD?\n",
            "  - actual output: Sim, há possibilidade de realizar disciplinas EAD. De acordo com o PPC, a Portaria do MEC N.º2.117, de 6 de dezembro de 2019, prevê a oferta de carga horária na modalidade de EaD dos cursos de graduação presenciais, até o limite de 40% da carga horária total do curso. Além disso, a Resolução N.º5/CONSUNI- CGRAD/UFFS/2014 define a possibilidade de ofertar até 20% da carga horária do curso em atividades semipresenciais, incluindo-se nesse percentual tanto os componentes curriculares integralmente a distância quanto a fração da carga horária ministrada a distância nos componentes presenciais.\n",
            "  - expected output: Sim, há a possibilidade de realizar disciplinas em EaD (Educação a Distância) no Curso de Ciência da Computação da UFFS. A Portaria do MEC N.**º**2.117, de 6 de dezembro de 2019, prevê a oferta de carga horária na modalidade de EaD dos cursos de graduação presenciais, até o limite de 40% da carga horária total do curso. Além disso, no âmbito institucional, a Resolução N.**º**5/CONSUNI- CGRAD/UFFS/2014 define a possibilidade de ofertar até 20% da carga horária do curso em atividades semipresenciais, incluindo-se nesse percentual tanto os componentes curriculares integralmente a distância quanto a fração da carga horária ministrada a distância nos componentes presenciais.\n",
            "  - context: None\n",
            "  - retrieval context: ['\\n\\n**§ 2º**A carga horária das ACEs pode ser cumprida em qualquer uma das fases do curso, <br><br>diferindo-se do caráter disciplinar (com ementário definido) e exigindo o cumprimento da carga <br><br>horária por meio da atuação em diferentes ações institucionalizadas.  \\n\\n| Código | COMPONENTE\\nCURRICULAR | Crédit\\nos | Horas |\\n|---|---|---|---|\\n| Código | COMPONENTE CURRICULAR | Crédit os | Horas |\\n|   | OPTATIVA V | 04 | 60 |\\n| EMENTA |   |   |   |\\n| Deve ser preenchida com o conteúdo de alguma das diversas disciplinas opcionais propostas, segundo critérios pré definidos pelo Colegiado. |   |   |   |\\n| OBJETIVO |   |   |   |\\n| Contemplada no plano de ensino da disciplina a ser ministrada. |   |   |   |\\n| REFERÊNCIAS BÁSICAS |   |   |   |\\n| Contemplada no plano de ensino da disciplina a ser ministrada. |   |   |   |\\n| REFERÊNCIAS COMPLEMENTARES |   |   |   |\\n| Contemplada no plano de ensino da disciplina a ser ministrada. |   |   |   |\\n \\n\\n**§ 1º**São admitidas no cômputo das ACEs as atividades de extensão e de cultura <br><br>demandadas por acadêmicos, sob orientação de docente, e em consonância com o PPC. ', '\\n\\n**EMENTA**<br><br>Deve ser preenchida com o conteúdo de alguma das diversas disciplinas opcionais \\npropostas, segundo critérios pré definidos pelo Colegiado. <br><br>**OBJETIVO**<br><br>Contemplada no plano de ensino da disciplina a ser ministrada. <br><br>**REFERÊNCIAS BÁSICAS**<br><br>Contemplada no plano de ensino da disciplina a ser ministrada. <br><br>**REFERÊNCIAS COMPLEMENTARES**<br><br>Contemplada no plano de ensino da disciplina a ser ministrada.  \\n\\npodem ser aplicadas também na educação presencial. A Portaria do MEC N.**º**2.117, de 6 de <br><br>dezembro de 2019, prevê a oferta de carga horária na modalidade de EaD dos cursos de <br><br>graduação presenciais, até o limite de 40% da carga horária total do curso. De forma <br><br>complementar, no âmbito institucional, a Resolução N.**º**5/CONSUNI- CGRAD/UFFS/2014 <br><br>1040  define a possibilidade de ofertar até 20% da carga horária do curso em atividades <br><br>semipresenciais, incluindo-se nesse percentual tanto os componentes curriculares <br><br>integralmente a distância quanto a fração da carga horária ministrada a distância nos <br><br>componentes presenciais. <br><br>O Curso de Ciência da Computação se preocupa com a formação docente para atuação <br><br>1045  na modalidade semipresencial. Para tanto, compromete-se junto a Instituição em fomentar a <br><br>participação docente nas atividades formativas em cursos de capacitação específicos para este  \\n\\n\\n\\n1870  4. Acessibilidade Metodológica <br><br>- Orientação aos coordenadores de curso e docentes sobre como organizar a prática <br><br>pedagógica diante da presença de discentes com deficiência; <br><br>- Disponibilização antecipada, por parte dos docentes para o intérprete de LIBRAS, do \\nDRAFT <br><br>material/conteúdo a ser utilizado/ministrado em aula; <br><br>- Envio de material/conteúdo em slides para o discente surdo com, pelo menos, um dia <br><br>de antecedência; <br><br>- Presença em sala de aula de Tradutor e Intérprete de LIBRAS nos cursos de graduação <br><br>em que há discente(s) matriculado(s) com surdez. Além de fazer a tradução e interpretação dos <br><br>conteúdos em sala de aula, o tradutor acompanha o discente em atividades como visitas a <br><br>1880  empresas e pesquisas de campo; realiza a mediação nos trabalhos em grupo; acompanha as <br><br>orientações com os docentes; acompanha o(s) acadêmico(s) surdo(s) em todos os setores da ', '\\n\\n| Código | COMPONENTE CURRICULAR | Créditos | Hora\\ns |\\n|---|---|---|---|\\n| Código | COMPONENTE CURRICULAR | Créditos | Hora s |\\n|   | OPTATIVA III | 04 | 60 |\\n| EMENTA |   |   |   |\\n| Deve ser preenchida com o conteúdo de alguma das diversas disciplinas opcionais propostas, segundo critérios pré definidos pelo Colegiado. |   |   |   |\\n| OBJETIVO |   |   |   |\\n| Contemplada no plano de ensino da disciplina a ser ministrada. |   |   |   |\\n| REFERÊNCIAS BÁSICAS |   |   |   |\\n| Contemplada no plano de ensino da disciplina a ser ministrada. |   |   |   |\\n| REFERÊNCIAS COMPLEMENTARESDRAFT |   |   |   |\\n| Contemplada no plano de ensino da disciplina a ser ministrada. |   |   |   |\\n<br><br>| Código | COMPONENTE\\nCURRICULAR | Crédit\\nos | Horas |\\n|---|---|---|---|\\n| Código | COMPONENTE CURRICULAR | Crédit os | Horas |\\n|   | OPTATIVA IV | 04 | 60 |\\n| EMENTA |   |   |   |\\n| Deve ser preenchida com o conteúdo de alguma das diversas disciplinas opcionais propostas, segundo critérios pré definidos pelo Colegiado. |   |   |   |\\n| OBJETIVO |   |   |   |\\n| Contemplada no plano de ensino da disciplina a ser ministrada. |   |   |   |\\n| REFERÊNCIAS BÁSICAS |   |   |   |\\n| Contemplada no plano de ensino da disciplina a ser ministrada. |   |   |   |\\n| REFERÊNCIAS COMPLEMENTARES |   |   |   |\\n| Contemplada no plano de ensino da disciplina a ser ministrada. |   |   |   |\\n \\n\\n|  | relacionados à temática de\\nempreendedorismo (ex.\\nSinapse inovação, startup\\nweekend, hackathons) |  | de participação | pelo projeto, ou\\ncertificado. |\\n|---|---|---|---|---|\\n|   | relacionados à temática de empreendedorismo (ex. Sinapse inovação, startup weekend, hackathons) |   | de participação | pelo projeto, ou certificado. |\\n| 3.15 | Participação como competidor, em maratonas de programação | 100 | 20 horas por evento | Tabela de classificação na competição, ou certificado. |\\n| 3.16 | Atividade orientada por docente no departamento de TI da UFFS | 80 | ½ do total de horas de participação | Relatório de atividades aprovado pelo docente responsável. |\\n| 3.17 | Contribuição em projetos de código aberto. | 100 | total de horas de participação | Certificado ou declaração |\\n<br><br>**Art. 9º**Para a validação de disciplinas de graduação vinculadas a outros cursos da UFFS, o <br><br>1985  discente deve protocolar, junto aos demais itens comprobatórios, um documento justificando a  \\n\\ncurriculares de sua área específica de formação, integrados aos componentes dos demais <br><br>domínios formativos, de modo a materializar a intersecção entre esses três domínios. Com <br><br>1005  isso, estima-se que o perfil acadêmico estará efetivamente contemplando, na formação dos <br><br>discentes, as habilidades de trabalho integrado entre a área específica de formação e as demais <br><br>áreas enquanto campo profissional, além de promover a formação interdisciplinar com <br><br>solidez, uma vez que a interdisciplinaridade potencializa a área específica de formação. ', '\\n\\n5. Acessibilidade Atitudinal <br><br>- Realização de contato com os familiares para saber sobre as necessidades; <br><br>- Promoção de curso de Capacitação em LIBRAS para servidores, com carga horária de <br><br>60h, objetivando promover a comunicação com as pessoas surdas que estudam ou buscam <br><br>informações na UFFS; <br><br>- Orientação aos docentes sobre como trabalhar com os discentes com deficiência; <br><br>- Realização de convênios e parcerias com órgãos governamentais e não- <br><br>governamentais. <br><br>- Participação nos debates locais, regionais e nacional sobre a temática. ']\n",
            "\n",
            "======================================================================\n",
            "\n",
            "Overall Metric Pass Rates\n",
            "\n",
            "Faithfulness: 100.00% pass rate\n",
            "\n",
            "======================================================================\n",
            "\n"
          ]
        },
        {
          "output_type": "stream",
          "name": "stderr",
          "text": [
            "\n"
          ]
        },
        {
          "output_type": "display_data",
          "data": {
            "text/plain": [
              "\u001b[38;2;5;245;141m✓\u001b[0m Tests finished 🎉! Run \u001b[32m'deepeval login'\u001b[0m to save and analyze evaluation results on Confident AI. \n",
              "‼️  Friendly reminder 😇: You can also run evaluations with ALL of deepeval's metrics directly on Confident AI \n",
              "instead.\n"
            ],
            "text/html": [
              "<pre style=\"white-space:pre;overflow-x:auto;line-height:normal;font-family:Menlo,'DejaVu Sans Mono',consolas,'Courier New',monospace\"><span style=\"color: #05f58d; text-decoration-color: #05f58d\">✓</span> Tests finished 🎉! Run <span style=\"color: #008000; text-decoration-color: #008000\">'deepeval login'</span> to save and analyze evaluation results on Confident AI. \n",
              "‼️  Friendly reminder 😇: You can also run evaluations with ALL of deepeval's metrics directly on Confident AI \n",
              "instead.\n",
              "</pre>\n"
            ]
          },
          "metadata": {}
        },
        {
          "output_type": "display_data",
          "data": {
            "text/plain": [
              "✨ You're running DeepEval's latest \u001b[38;2;106;0;255mCorrectness \u001b[0m\u001b[1;38;2;106;0;255m(\u001b[0m\u001b[38;2;106;0;255mGEval\u001b[0m\u001b[1;38;2;106;0;255m)\u001b[0m\u001b[38;2;106;0;255m Metric\u001b[0m! \u001b[1;38;2;55;65;81m(\u001b[0m\u001b[38;2;55;65;81musing mistral-large-latest, \u001b[0m\u001b[38;2;55;65;81mstrict\u001b[0m\u001b[38;2;55;65;81m=\u001b[0m\u001b[3;38;2;55;65;81mFalse\u001b[0m\u001b[38;2;55;65;81m, \u001b[0m\n",
              "\u001b[38;2;55;65;81masync_mode\u001b[0m\u001b[38;2;55;65;81m=\u001b[0m\u001b[3;38;2;55;65;81mTrue\u001b[0m\u001b[1;38;2;55;65;81m)\u001b[0m\u001b[38;2;55;65;81m...\u001b[0m\n"
            ],
            "text/html": [
              "<pre style=\"white-space:pre;overflow-x:auto;line-height:normal;font-family:Menlo,'DejaVu Sans Mono',consolas,'Courier New',monospace\">✨ You're running DeepEval's latest <span style=\"color: #6a00ff; text-decoration-color: #6a00ff\">Correctness </span><span style=\"color: #6a00ff; text-decoration-color: #6a00ff; font-weight: bold\">(</span><span style=\"color: #6a00ff; text-decoration-color: #6a00ff\">GEval</span><span style=\"color: #6a00ff; text-decoration-color: #6a00ff; font-weight: bold\">)</span><span style=\"color: #6a00ff; text-decoration-color: #6a00ff\"> Metric</span>! <span style=\"color: #374151; text-decoration-color: #374151; font-weight: bold\">(</span><span style=\"color: #374151; text-decoration-color: #374151\">using mistral-large-latest, </span><span style=\"color: #374151; text-decoration-color: #374151\">strict</span><span style=\"color: #374151; text-decoration-color: #374151\">=</span><span style=\"color: #374151; text-decoration-color: #374151; font-style: italic\">False</span><span style=\"color: #374151; text-decoration-color: #374151\">, </span>\n",
              "<span style=\"color: #374151; text-decoration-color: #374151\">async_mode</span><span style=\"color: #374151; text-decoration-color: #374151\">=</span><span style=\"color: #374151; text-decoration-color: #374151; font-style: italic\">True</span><span style=\"color: #374151; text-decoration-color: #374151; font-weight: bold\">)</span><span style=\"color: #374151; text-decoration-color: #374151\">...</span>\n",
              "</pre>\n"
            ]
          },
          "metadata": {}
        },
        {
          "output_type": "stream",
          "name": "stdout",
          "text": [
            "Event loop is already running. Applying nest_asyncio patch to allow async execution...\n"
          ]
        },
        {
          "output_type": "stream",
          "name": "stderr",
          "text": [
            "Evaluating 1 test case(s) in parallel: |██████████|100% (1/1) [Time Taken: 00:03,  3.06s/test case]"
          ]
        },
        {
          "output_type": "stream",
          "name": "stdout",
          "text": [
            "\n",
            "======================================================================\n",
            "\n",
            "Metrics Summary\n",
            "\n",
            "  - ✅ Correctness (GEval) (score: 1.0, threshold: 0.5, strict: False, evaluation model: mistral-large-latest, reason: The actual output provides detailed information about the evaluation of TCC I, including the composition of the evaluation board, the criteria for evaluation, and the process of homologation. It does not contradict any facts in the expected output and provides comprehensive details., error: None)\n",
            "\n",
            "For test case:\n",
            "\n",
            "  - input: Como o TCC I é avaliado?\n",
            "  - actual output: O TCC I é avaliado pela banca avaliadora, que é composta por pelo menos três membros, sendo presidida pelo docente orientador do trabalho. A nota do componente curricular TCC I será composta pela média aritmética das notas proferidas pelos membros da banca avaliadora, conforme formulários de avaliação presentes no Anexo I do regulamento. Os critérios e as formas de avaliação do discente nos componentes curriculares TCC I e TCC II serão propostos pelo docente da respectiva disciplina e homologados pelo Colegiado do Curso. Após a homologação, os critérios e as formas de avaliação constarão nos respectivos planos de ensino dos componentes curriculares TCC I e II.\n",
            "\n",
            "A avaliação da escrita do trabalho do TCC I é realizada com base nos seguintes critérios:\n",
            "\n",
            "1. Relevância do trabalho/tema para a área específica e para a carreira profissional\n",
            "2. Argumentação e sequenciamento de ideias\n",
            "3. Objetivos gerais e específicos condizentes\n",
            "4. Explicitação dos procedimentos metodológicos e propriedade de análise\n",
            "5. Rigor conceitual, estrutura lógica e consistência dos argumentos\n",
            "6. Clareza e correção linguística do texto\n",
            "7. Pertinência e uso adequado de contextualização bibliográfica\n",
            "\n",
            "Cada um desses critérios tem um máximo de pontuação, e a nota final será a soma das notas obtidas em cada critério.\n",
            "  - expected output: O TCC I é avaliado por meio de uma banca examinadora composta por, no mínimo, três membros, sendo presidida pelo docente orientador do trabalho. Conforme o artigo 27, §2 do contexto, pelo menos um dos membros da banca deve pertencer ao domínio específico do curso. A nota do TCC I será composta pela média aritmética das notas proferidas pelos membros da banca avaliadora.\\n\\nPara o TCC I, o discente deverá entregar o artigo para avaliação da banca, sem a necessidade de apresentação do mesmo (Art. 22, §2). Os critérios e as formas de avaliação do TCC I devem ser propostos pelo docente da disciplina e homologados pelo Colegiado do Curso, e devem constar nos respectivos planos de ensino dos componentes curriculares TCC I e II (Art. 30)\n",
            "  - context: None\n",
            "  - retrieval context: ['\\n\\ndisciplina TCC II, para integralizar o TCC o discente deverá ser avaliado através da <br><br>1305  apresentação oral seguida de defesa perante banca examinadora, que deverá ser composta pelo <br><br>orientador (presidente) e, no mínimo, mais dois membros, sugeridos pelo orientador ou pelo <br><br>docente do componente. A apresentação oral do trabalho e a arguição serão abertas à <br><br>comunidade. A nota final será dada pelos membros da banca, que deverão avaliar o discente <br><br>segundo os seguintes quesitos: monografia, apresentação oral (defesa do trabalho) e \\nDRAFT <br><br>1310  contribuição. <br><br>O regulamento do TCC é apresentado no Anexo II deste documento.  \\n\\n**Art. 30º**Os critérios e as formas de avaliação do discente, nos componentes curriculares TCC I <br><br>e TCC II, será proposto pelo docente da respectiva disciplina e homologado pelo Colegiado do <br><br>2310  Curso. <br><br>Parágrafo único: após a homologação, os critérios e as formas de avaliação constarão nos <br><br>respectivos planos de ensino dos componentes curriculares TCC I e II.  \\n\\n**PARECER DO DOCENTE DE TCC I:**\\nDRAFT <br><br>| Deferido: | ( ) Sim ( ) Não |\\n|---|---|\\n| Deferido: | ( ) Sim ( ) Não |\\n| Deferido por: |   |\\n| Observação: |   |\\n', '\\n\\n**TRABALHO DE CONCLUSÃO DE CURSO - TCC II**<br><br>| AVALIAÇÃO DA ESCRITA DO TRABALHO |  |  |\\n|---|---|---|\\n| AVALIAÇÃO DA ESCRITA DO TRABALHO |   |   |\\n| CRITÉRIOS | MÁXIMO | NOTA |\\n| 1 - Adequação ao tema e viabilidade das ideias | 1,0 |   |\\n| 2 - Resultados condizentes com os objetivos propostos | 1,0 |   |\\n| 3 - Execução da metodologia e propriedade de análise | 1,0 |   |\\n| 4 - Discussão do assunto e resultados com clareza e coerência | 2,0 |   |\\n| 5 - Rigor conceitual, estrutura lógica e consistência dos argumentos | 2,0 |   |\\n| 6 - Clareza e correção linguística do texto | 1,5 |   |\\n| 7 - Pertinência e uso adequado da contextualização bibliográfica | 1,5 |   |\\n| TOTAL | 10,0 |   |\\n<br><br>2350 \\nDRAFT  \\n\\n**Art. 27º**A banca avaliadora será composta por, pelo menos, três membros, sendo presidida pelo <br><br>docente orientador do trabalho. <br><br>**§ 1º**Será formada uma banca para TCC I e TCC II, preferencialmente idênticas. <br><br>**§ 2º**Ao menos um dos membros avaliadores deve pertencer ao domínio específico do curso. <br><br>**§ 3º**A nota dos componentes curriculares TCC I e TCC II será composta pela média <br><br>aritmética das notas proferidas pelos membros da banca avaliadora, conforme formulários <br><br>de avaliação presentes no Anexo I deste regulamento.  \\n\\n\\n\\n**CAPÍTULO V**<br><br>**DA AVALIAÇÃO DO TRABALHO DE CONCLUSÃO DE CURSO**<br><br>2305 <br><br>**Art. 29º**A avaliação do discente será realizada pela banca avaliadora. ', '\\n\\n**FICHA DE AVALIAÇÃO**<br><br>2340  **PROJETO DE TRABALHO DE CONCLUSÃO DE CURSO - TCC I**<br><br>| AVALIAÇÃO DA ESCRITA DO TRABALHO (70%) |  |  |\\n|---|---|---|\\n| AVALIAÇÃO DA ESCRITA DO TRABALHO (70%) |   |   |\\n| CRITÉRIOS | MÁ XIMO | N OTA |\\n| 1 - Relevância do trabalho/tema para a área específica e para a carreira profissional | 1,0 |   |\\n| 2 - Argumentação e sequenciamento de ideias | 1,0 |   |\\n| 3 - Objetivos gerais e específicos condizentes | 1,0 |   |\\n| 4 - Explicitação dos procedimentos metodológicos e propriedade de análise | 1,0 |   |\\n| 5 - Rigor conceitual, estrutura lógica e consistência dos argumentos | 2,0 |   |\\n| 6 - Clareza e correção linguística do texto | 2,0 |   |\\n| 7 - Pertinência e uso adequado de contextualização bibliográfica | 2,0 |   |\\n| TOTAL | 10,0 |   |\\n \\n\\nAlém disso, a atuação do docente nos componentes curriculares, sempre que viável, <br><br>deve buscar a integração com o conhecimento já construído (os requisitos) e com os demais <br><br>componentes nos quais seu conteúdo será usado como base. O Trabalho de Conclusão de <br><br>Curso, componente curricular obrigatório, é a principal atividade na qual a aquisição <br><br>680  multidisciplinar do conhecimento ocorre de modo mais expressivo.  \\n\\n**Art. 1º**O Trabalho de Conclusão de Curso (TCC) do curso de graduação em Ciência da <br><br>2035  Computação da Universidade Federal da Fronteira Sul (UFFS) será regido por este <br><br>Regulamento de Trabalho de Conclusão de Curso. ']\n",
            "\n",
            "======================================================================\n",
            "\n",
            "Overall Metric Pass Rates\n",
            "\n",
            "Correctness (GEval): 100.00% pass rate\n",
            "\n",
            "======================================================================\n",
            "\n"
          ]
        },
        {
          "output_type": "stream",
          "name": "stderr",
          "text": [
            "\n"
          ]
        },
        {
          "output_type": "display_data",
          "data": {
            "text/plain": [
              "\u001b[38;2;5;245;141m✓\u001b[0m Tests finished 🎉! Run \u001b[32m'deepeval login'\u001b[0m to save and analyze evaluation results on Confident AI. \n",
              "‼️  Friendly reminder 😇: You can also run evaluations with ALL of deepeval's metrics directly on Confident AI \n",
              "instead.\n"
            ],
            "text/html": [
              "<pre style=\"white-space:pre;overflow-x:auto;line-height:normal;font-family:Menlo,'DejaVu Sans Mono',consolas,'Courier New',monospace\"><span style=\"color: #05f58d; text-decoration-color: #05f58d\">✓</span> Tests finished 🎉! Run <span style=\"color: #008000; text-decoration-color: #008000\">'deepeval login'</span> to save and analyze evaluation results on Confident AI. \n",
              "‼️  Friendly reminder 😇: You can also run evaluations with ALL of deepeval's metrics directly on Confident AI \n",
              "instead.\n",
              "</pre>\n"
            ]
          },
          "metadata": {}
        },
        {
          "output_type": "display_data",
          "data": {
            "text/plain": [
              "✨ You're running DeepEval's latest \u001b[38;2;106;0;255mAnswer Relevancy Metric\u001b[0m! \u001b[1;38;2;55;65;81m(\u001b[0m\u001b[38;2;55;65;81musing mistral-large-latest, \u001b[0m\u001b[38;2;55;65;81mstrict\u001b[0m\u001b[38;2;55;65;81m=\u001b[0m\u001b[3;38;2;55;65;81mFalse\u001b[0m\u001b[38;2;55;65;81m, \u001b[0m\n",
              "\u001b[38;2;55;65;81masync_mode\u001b[0m\u001b[38;2;55;65;81m=\u001b[0m\u001b[3;38;2;55;65;81mTrue\u001b[0m\u001b[1;38;2;55;65;81m)\u001b[0m\u001b[38;2;55;65;81m...\u001b[0m\n"
            ],
            "text/html": [
              "<pre style=\"white-space:pre;overflow-x:auto;line-height:normal;font-family:Menlo,'DejaVu Sans Mono',consolas,'Courier New',monospace\">✨ You're running DeepEval's latest <span style=\"color: #6a00ff; text-decoration-color: #6a00ff\">Answer Relevancy Metric</span>! <span style=\"color: #374151; text-decoration-color: #374151; font-weight: bold\">(</span><span style=\"color: #374151; text-decoration-color: #374151\">using mistral-large-latest, </span><span style=\"color: #374151; text-decoration-color: #374151\">strict</span><span style=\"color: #374151; text-decoration-color: #374151\">=</span><span style=\"color: #374151; text-decoration-color: #374151; font-style: italic\">False</span><span style=\"color: #374151; text-decoration-color: #374151\">, </span>\n",
              "<span style=\"color: #374151; text-decoration-color: #374151\">async_mode</span><span style=\"color: #374151; text-decoration-color: #374151\">=</span><span style=\"color: #374151; text-decoration-color: #374151; font-style: italic\">True</span><span style=\"color: #374151; text-decoration-color: #374151; font-weight: bold\">)</span><span style=\"color: #374151; text-decoration-color: #374151\">...</span>\n",
              "</pre>\n"
            ]
          },
          "metadata": {}
        },
        {
          "output_type": "stream",
          "name": "stdout",
          "text": [
            "Event loop is already running. Applying nest_asyncio patch to allow async execution...\n"
          ]
        },
        {
          "output_type": "stream",
          "name": "stderr",
          "text": [
            "Evaluating 1 test case(s) in parallel: |██████████|100% (1/1) [Time Taken: 00:19, 19.09s/test case]"
          ]
        },
        {
          "output_type": "stream",
          "name": "stdout",
          "text": [
            "\n",
            "======================================================================\n",
            "\n",
            "Metrics Summary\n",
            "\n",
            "  - ✅ Answer Relevancy (score: 1.0, threshold: 0.5, strict: False, evaluation model: mistral-large-latest, reason: The score is 1.00 because the response perfectly addresses the question about how TCC I is evaluated., error: None)\n",
            "\n",
            "For test case:\n",
            "\n",
            "  - input: Como o TCC I é avaliado?\n",
            "  - actual output: O TCC I é avaliado pela banca avaliadora, que é composta por pelo menos três membros, sendo presidida pelo docente orientador do trabalho. A nota do componente curricular TCC I será composta pela média aritmética das notas proferidas pelos membros da banca avaliadora, conforme formulários de avaliação presentes no Anexo I do regulamento. Os critérios e as formas de avaliação do discente nos componentes curriculares TCC I e TCC II serão propostos pelo docente da respectiva disciplina e homologados pelo Colegiado do Curso. Após a homologação, os critérios e as formas de avaliação constarão nos respectivos planos de ensino dos componentes curriculares TCC I e II.\n",
            "\n",
            "A avaliação da escrita do trabalho do TCC I é realizada com base nos seguintes critérios:\n",
            "\n",
            "1. Relevância do trabalho/tema para a área específica e para a carreira profissional\n",
            "2. Argumentação e sequenciamento de ideias\n",
            "3. Objetivos gerais e específicos condizentes\n",
            "4. Explicitação dos procedimentos metodológicos e propriedade de análise\n",
            "5. Rigor conceitual, estrutura lógica e consistência dos argumentos\n",
            "6. Clareza e correção linguística do texto\n",
            "7. Pertinência e uso adequado de contextualização bibliográfica\n",
            "\n",
            "Cada um desses critérios tem um máximo de pontuação, e a nota final será a soma das notas obtidas em cada critério.\n",
            "  - expected output: O TCC I é avaliado por meio de uma banca examinadora composta por, no mínimo, três membros, sendo presidida pelo docente orientador do trabalho. Conforme o artigo 27, §2 do contexto, pelo menos um dos membros da banca deve pertencer ao domínio específico do curso. A nota do TCC I será composta pela média aritmética das notas proferidas pelos membros da banca avaliadora.\\n\\nPara o TCC I, o discente deverá entregar o artigo para avaliação da banca, sem a necessidade de apresentação do mesmo (Art. 22, §2). Os critérios e as formas de avaliação do TCC I devem ser propostos pelo docente da disciplina e homologados pelo Colegiado do Curso, e devem constar nos respectivos planos de ensino dos componentes curriculares TCC I e II (Art. 30)\n",
            "  - context: None\n",
            "  - retrieval context: ['\\n\\ndisciplina TCC II, para integralizar o TCC o discente deverá ser avaliado através da <br><br>1305  apresentação oral seguida de defesa perante banca examinadora, que deverá ser composta pelo <br><br>orientador (presidente) e, no mínimo, mais dois membros, sugeridos pelo orientador ou pelo <br><br>docente do componente. A apresentação oral do trabalho e a arguição serão abertas à <br><br>comunidade. A nota final será dada pelos membros da banca, que deverão avaliar o discente <br><br>segundo os seguintes quesitos: monografia, apresentação oral (defesa do trabalho) e \\nDRAFT <br><br>1310  contribuição. <br><br>O regulamento do TCC é apresentado no Anexo II deste documento.  \\n\\n**Art. 30º**Os critérios e as formas de avaliação do discente, nos componentes curriculares TCC I <br><br>e TCC II, será proposto pelo docente da respectiva disciplina e homologado pelo Colegiado do <br><br>2310  Curso. <br><br>Parágrafo único: após a homologação, os critérios e as formas de avaliação constarão nos <br><br>respectivos planos de ensino dos componentes curriculares TCC I e II.  \\n\\n**PARECER DO DOCENTE DE TCC I:**\\nDRAFT <br><br>| Deferido: | ( ) Sim ( ) Não |\\n|---|---|\\n| Deferido: | ( ) Sim ( ) Não |\\n| Deferido por: |   |\\n| Observação: |   |\\n', '\\n\\n**TRABALHO DE CONCLUSÃO DE CURSO - TCC II**<br><br>| AVALIAÇÃO DA ESCRITA DO TRABALHO |  |  |\\n|---|---|---|\\n| AVALIAÇÃO DA ESCRITA DO TRABALHO |   |   |\\n| CRITÉRIOS | MÁXIMO | NOTA |\\n| 1 - Adequação ao tema e viabilidade das ideias | 1,0 |   |\\n| 2 - Resultados condizentes com os objetivos propostos | 1,0 |   |\\n| 3 - Execução da metodologia e propriedade de análise | 1,0 |   |\\n| 4 - Discussão do assunto e resultados com clareza e coerência | 2,0 |   |\\n| 5 - Rigor conceitual, estrutura lógica e consistência dos argumentos | 2,0 |   |\\n| 6 - Clareza e correção linguística do texto | 1,5 |   |\\n| 7 - Pertinência e uso adequado da contextualização bibliográfica | 1,5 |   |\\n| TOTAL | 10,0 |   |\\n<br><br>2350 \\nDRAFT  \\n\\n**Art. 27º**A banca avaliadora será composta por, pelo menos, três membros, sendo presidida pelo <br><br>docente orientador do trabalho. <br><br>**§ 1º**Será formada uma banca para TCC I e TCC II, preferencialmente idênticas. <br><br>**§ 2º**Ao menos um dos membros avaliadores deve pertencer ao domínio específico do curso. <br><br>**§ 3º**A nota dos componentes curriculares TCC I e TCC II será composta pela média <br><br>aritmética das notas proferidas pelos membros da banca avaliadora, conforme formulários <br><br>de avaliação presentes no Anexo I deste regulamento.  \\n\\n\\n\\n**CAPÍTULO V**<br><br>**DA AVALIAÇÃO DO TRABALHO DE CONCLUSÃO DE CURSO**<br><br>2305 <br><br>**Art. 29º**A avaliação do discente será realizada pela banca avaliadora. ', '\\n\\n**FICHA DE AVALIAÇÃO**<br><br>2340  **PROJETO DE TRABALHO DE CONCLUSÃO DE CURSO - TCC I**<br><br>| AVALIAÇÃO DA ESCRITA DO TRABALHO (70%) |  |  |\\n|---|---|---|\\n| AVALIAÇÃO DA ESCRITA DO TRABALHO (70%) |   |   |\\n| CRITÉRIOS | MÁ XIMO | N OTA |\\n| 1 - Relevância do trabalho/tema para a área específica e para a carreira profissional | 1,0 |   |\\n| 2 - Argumentação e sequenciamento de ideias | 1,0 |   |\\n| 3 - Objetivos gerais e específicos condizentes | 1,0 |   |\\n| 4 - Explicitação dos procedimentos metodológicos e propriedade de análise | 1,0 |   |\\n| 5 - Rigor conceitual, estrutura lógica e consistência dos argumentos | 2,0 |   |\\n| 6 - Clareza e correção linguística do texto | 2,0 |   |\\n| 7 - Pertinência e uso adequado de contextualização bibliográfica | 2,0 |   |\\n| TOTAL | 10,0 |   |\\n \\n\\nAlém disso, a atuação do docente nos componentes curriculares, sempre que viável, <br><br>deve buscar a integração com o conhecimento já construído (os requisitos) e com os demais <br><br>componentes nos quais seu conteúdo será usado como base. O Trabalho de Conclusão de <br><br>Curso, componente curricular obrigatório, é a principal atividade na qual a aquisição <br><br>680  multidisciplinar do conhecimento ocorre de modo mais expressivo.  \\n\\n**Art. 1º**O Trabalho de Conclusão de Curso (TCC) do curso de graduação em Ciência da <br><br>2035  Computação da Universidade Federal da Fronteira Sul (UFFS) será regido por este <br><br>Regulamento de Trabalho de Conclusão de Curso. ']\n",
            "\n",
            "======================================================================\n",
            "\n",
            "Overall Metric Pass Rates\n",
            "\n",
            "Answer Relevancy: 100.00% pass rate\n",
            "\n",
            "======================================================================\n",
            "\n"
          ]
        },
        {
          "output_type": "stream",
          "name": "stderr",
          "text": [
            "\n"
          ]
        },
        {
          "output_type": "display_data",
          "data": {
            "text/plain": [
              "\u001b[38;2;5;245;141m✓\u001b[0m Tests finished 🎉! Run \u001b[32m'deepeval login'\u001b[0m to save and analyze evaluation results on Confident AI. \n",
              "‼️  Friendly reminder 😇: You can also run evaluations with ALL of deepeval's metrics directly on Confident AI \n",
              "instead.\n"
            ],
            "text/html": [
              "<pre style=\"white-space:pre;overflow-x:auto;line-height:normal;font-family:Menlo,'DejaVu Sans Mono',consolas,'Courier New',monospace\"><span style=\"color: #05f58d; text-decoration-color: #05f58d\">✓</span> Tests finished 🎉! Run <span style=\"color: #008000; text-decoration-color: #008000\">'deepeval login'</span> to save and analyze evaluation results on Confident AI. \n",
              "‼️  Friendly reminder 😇: You can also run evaluations with ALL of deepeval's metrics directly on Confident AI \n",
              "instead.\n",
              "</pre>\n"
            ]
          },
          "metadata": {}
        },
        {
          "output_type": "display_data",
          "data": {
            "text/plain": [
              "✨ You're running DeepEval's latest \u001b[38;2;106;0;255mContextual Recall Metric\u001b[0m! \u001b[1;38;2;55;65;81m(\u001b[0m\u001b[38;2;55;65;81musing llama-\u001b[0m\u001b[1;38;2;55;65;81m3.1\u001b[0m\u001b[38;2;55;65;81m-70b-versatile, \u001b[0m\u001b[38;2;55;65;81mstrict\u001b[0m\u001b[38;2;55;65;81m=\u001b[0m\u001b[3;38;2;55;65;81mFalse\u001b[0m\u001b[38;2;55;65;81m, \u001b[0m\n",
              "\u001b[38;2;55;65;81masync_mode\u001b[0m\u001b[38;2;55;65;81m=\u001b[0m\u001b[3;38;2;55;65;81mTrue\u001b[0m\u001b[1;38;2;55;65;81m)\u001b[0m\u001b[38;2;55;65;81m...\u001b[0m\n"
            ],
            "text/html": [
              "<pre style=\"white-space:pre;overflow-x:auto;line-height:normal;font-family:Menlo,'DejaVu Sans Mono',consolas,'Courier New',monospace\">✨ You're running DeepEval's latest <span style=\"color: #6a00ff; text-decoration-color: #6a00ff\">Contextual Recall Metric</span>! <span style=\"color: #374151; text-decoration-color: #374151; font-weight: bold\">(</span><span style=\"color: #374151; text-decoration-color: #374151\">using llama-</span><span style=\"color: #374151; text-decoration-color: #374151; font-weight: bold\">3.1</span><span style=\"color: #374151; text-decoration-color: #374151\">-70b-versatile, </span><span style=\"color: #374151; text-decoration-color: #374151\">strict</span><span style=\"color: #374151; text-decoration-color: #374151\">=</span><span style=\"color: #374151; text-decoration-color: #374151; font-style: italic\">False</span><span style=\"color: #374151; text-decoration-color: #374151\">, </span>\n",
              "<span style=\"color: #374151; text-decoration-color: #374151\">async_mode</span><span style=\"color: #374151; text-decoration-color: #374151\">=</span><span style=\"color: #374151; text-decoration-color: #374151; font-style: italic\">True</span><span style=\"color: #374151; text-decoration-color: #374151; font-weight: bold\">)</span><span style=\"color: #374151; text-decoration-color: #374151\">...</span>\n",
              "</pre>\n"
            ]
          },
          "metadata": {}
        },
        {
          "output_type": "stream",
          "name": "stdout",
          "text": [
            "Event loop is already running. Applying nest_asyncio patch to allow async execution...\n"
          ]
        },
        {
          "output_type": "stream",
          "name": "stderr",
          "text": [
            "Evaluating 1 test case(s) in parallel: |██████████|100% (1/1) [Time Taken: 00:02,  2.72s/test case]"
          ]
        },
        {
          "output_type": "stream",
          "name": "stdout",
          "text": [
            "\n",
            "======================================================================\n",
            "\n",
            "Metrics Summary\n",
            "\n",
            "  - ✅ Contextual Recall (score: 1.0, threshold: 0.25, strict: False, evaluation model: llama-3.1-70b-versatile, reason: None, error: None)\n",
            "\n",
            "For test case:\n",
            "\n",
            "  - input: Como o TCC I é avaliado?\n",
            "  - actual output: O TCC I é avaliado pela banca avaliadora, que é composta por pelo menos três membros, sendo presidida pelo docente orientador do trabalho. A nota do componente curricular TCC I será composta pela média aritmética das notas proferidas pelos membros da banca avaliadora, conforme formulários de avaliação presentes no Anexo I do regulamento. Os critérios e as formas de avaliação do discente nos componentes curriculares TCC I e TCC II serão propostos pelo docente da respectiva disciplina e homologados pelo Colegiado do Curso. Após a homologação, os critérios e as formas de avaliação constarão nos respectivos planos de ensino dos componentes curriculares TCC I e II.\n",
            "\n",
            "A avaliação da escrita do trabalho do TCC I é realizada com base nos seguintes critérios:\n",
            "\n",
            "1. Relevância do trabalho/tema para a área específica e para a carreira profissional\n",
            "2. Argumentação e sequenciamento de ideias\n",
            "3. Objetivos gerais e específicos condizentes\n",
            "4. Explicitação dos procedimentos metodológicos e propriedade de análise\n",
            "5. Rigor conceitual, estrutura lógica e consistência dos argumentos\n",
            "6. Clareza e correção linguística do texto\n",
            "7. Pertinência e uso adequado de contextualização bibliográfica\n",
            "\n",
            "Cada um desses critérios tem um máximo de pontuação, e a nota final será a soma das notas obtidas em cada critério.\n",
            "  - expected output: O TCC I é avaliado por meio de uma banca examinadora composta por, no mínimo, três membros, sendo presidida pelo docente orientador do trabalho. Conforme o artigo 27, §2 do contexto, pelo menos um dos membros da banca deve pertencer ao domínio específico do curso. A nota do TCC I será composta pela média aritmética das notas proferidas pelos membros da banca avaliadora.\\n\\nPara o TCC I, o discente deverá entregar o artigo para avaliação da banca, sem a necessidade de apresentação do mesmo (Art. 22, §2). Os critérios e as formas de avaliação do TCC I devem ser propostos pelo docente da disciplina e homologados pelo Colegiado do Curso, e devem constar nos respectivos planos de ensino dos componentes curriculares TCC I e II (Art. 30)\n",
            "  - context: None\n",
            "  - retrieval context: ['\\n\\ndisciplina TCC II, para integralizar o TCC o discente deverá ser avaliado através da <br><br>1305  apresentação oral seguida de defesa perante banca examinadora, que deverá ser composta pelo <br><br>orientador (presidente) e, no mínimo, mais dois membros, sugeridos pelo orientador ou pelo <br><br>docente do componente. A apresentação oral do trabalho e a arguição serão abertas à <br><br>comunidade. A nota final será dada pelos membros da banca, que deverão avaliar o discente <br><br>segundo os seguintes quesitos: monografia, apresentação oral (defesa do trabalho) e \\nDRAFT <br><br>1310  contribuição. <br><br>O regulamento do TCC é apresentado no Anexo II deste documento.  \\n\\n**Art. 30º**Os critérios e as formas de avaliação do discente, nos componentes curriculares TCC I <br><br>e TCC II, será proposto pelo docente da respectiva disciplina e homologado pelo Colegiado do <br><br>2310  Curso. <br><br>Parágrafo único: após a homologação, os critérios e as formas de avaliação constarão nos <br><br>respectivos planos de ensino dos componentes curriculares TCC I e II.  \\n\\n**PARECER DO DOCENTE DE TCC I:**\\nDRAFT <br><br>| Deferido: | ( ) Sim ( ) Não |\\n|---|---|\\n| Deferido: | ( ) Sim ( ) Não |\\n| Deferido por: |   |\\n| Observação: |   |\\n', '\\n\\n**TRABALHO DE CONCLUSÃO DE CURSO - TCC II**<br><br>| AVALIAÇÃO DA ESCRITA DO TRABALHO |  |  |\\n|---|---|---|\\n| AVALIAÇÃO DA ESCRITA DO TRABALHO |   |   |\\n| CRITÉRIOS | MÁXIMO | NOTA |\\n| 1 - Adequação ao tema e viabilidade das ideias | 1,0 |   |\\n| 2 - Resultados condizentes com os objetivos propostos | 1,0 |   |\\n| 3 - Execução da metodologia e propriedade de análise | 1,0 |   |\\n| 4 - Discussão do assunto e resultados com clareza e coerência | 2,0 |   |\\n| 5 - Rigor conceitual, estrutura lógica e consistência dos argumentos | 2,0 |   |\\n| 6 - Clareza e correção linguística do texto | 1,5 |   |\\n| 7 - Pertinência e uso adequado da contextualização bibliográfica | 1,5 |   |\\n| TOTAL | 10,0 |   |\\n<br><br>2350 \\nDRAFT  \\n\\n**Art. 27º**A banca avaliadora será composta por, pelo menos, três membros, sendo presidida pelo <br><br>docente orientador do trabalho. <br><br>**§ 1º**Será formada uma banca para TCC I e TCC II, preferencialmente idênticas. <br><br>**§ 2º**Ao menos um dos membros avaliadores deve pertencer ao domínio específico do curso. <br><br>**§ 3º**A nota dos componentes curriculares TCC I e TCC II será composta pela média <br><br>aritmética das notas proferidas pelos membros da banca avaliadora, conforme formulários <br><br>de avaliação presentes no Anexo I deste regulamento.  \\n\\n\\n\\n**CAPÍTULO V**<br><br>**DA AVALIAÇÃO DO TRABALHO DE CONCLUSÃO DE CURSO**<br><br>2305 <br><br>**Art. 29º**A avaliação do discente será realizada pela banca avaliadora. ', '\\n\\n**FICHA DE AVALIAÇÃO**<br><br>2340  **PROJETO DE TRABALHO DE CONCLUSÃO DE CURSO - TCC I**<br><br>| AVALIAÇÃO DA ESCRITA DO TRABALHO (70%) |  |  |\\n|---|---|---|\\n| AVALIAÇÃO DA ESCRITA DO TRABALHO (70%) |   |   |\\n| CRITÉRIOS | MÁ XIMO | N OTA |\\n| 1 - Relevância do trabalho/tema para a área específica e para a carreira profissional | 1,0 |   |\\n| 2 - Argumentação e sequenciamento de ideias | 1,0 |   |\\n| 3 - Objetivos gerais e específicos condizentes | 1,0 |   |\\n| 4 - Explicitação dos procedimentos metodológicos e propriedade de análise | 1,0 |   |\\n| 5 - Rigor conceitual, estrutura lógica e consistência dos argumentos | 2,0 |   |\\n| 6 - Clareza e correção linguística do texto | 2,0 |   |\\n| 7 - Pertinência e uso adequado de contextualização bibliográfica | 2,0 |   |\\n| TOTAL | 10,0 |   |\\n \\n\\nAlém disso, a atuação do docente nos componentes curriculares, sempre que viável, <br><br>deve buscar a integração com o conhecimento já construído (os requisitos) e com os demais <br><br>componentes nos quais seu conteúdo será usado como base. O Trabalho de Conclusão de <br><br>Curso, componente curricular obrigatório, é a principal atividade na qual a aquisição <br><br>680  multidisciplinar do conhecimento ocorre de modo mais expressivo.  \\n\\n**Art. 1º**O Trabalho de Conclusão de Curso (TCC) do curso de graduação em Ciência da <br><br>2035  Computação da Universidade Federal da Fronteira Sul (UFFS) será regido por este <br><br>Regulamento de Trabalho de Conclusão de Curso. ']\n",
            "\n",
            "======================================================================\n",
            "\n",
            "Overall Metric Pass Rates\n",
            "\n",
            "Contextual Recall: 100.00% pass rate\n",
            "\n",
            "======================================================================\n",
            "\n"
          ]
        },
        {
          "output_type": "stream",
          "name": "stderr",
          "text": [
            "\n"
          ]
        },
        {
          "output_type": "display_data",
          "data": {
            "text/plain": [
              "\u001b[38;2;5;245;141m✓\u001b[0m Tests finished 🎉! Run \u001b[32m'deepeval login'\u001b[0m to save and analyze evaluation results on Confident AI. \n",
              "‼️  Friendly reminder 😇: You can also run evaluations with ALL of deepeval's metrics directly on Confident AI \n",
              "instead.\n"
            ],
            "text/html": [
              "<pre style=\"white-space:pre;overflow-x:auto;line-height:normal;font-family:Menlo,'DejaVu Sans Mono',consolas,'Courier New',monospace\"><span style=\"color: #05f58d; text-decoration-color: #05f58d\">✓</span> Tests finished 🎉! Run <span style=\"color: #008000; text-decoration-color: #008000\">'deepeval login'</span> to save and analyze evaluation results on Confident AI. \n",
              "‼️  Friendly reminder 😇: You can also run evaluations with ALL of deepeval's metrics directly on Confident AI \n",
              "instead.\n",
              "</pre>\n"
            ]
          },
          "metadata": {}
        },
        {
          "output_type": "display_data",
          "data": {
            "text/plain": [
              "✨ You're running DeepEval's latest \u001b[38;2;106;0;255mFaithfulness Metric\u001b[0m! \u001b[1;38;2;55;65;81m(\u001b[0m\u001b[38;2;55;65;81musing mistral-large-latest, \u001b[0m\u001b[38;2;55;65;81mstrict\u001b[0m\u001b[38;2;55;65;81m=\u001b[0m\u001b[3;38;2;55;65;81mFalse\u001b[0m\u001b[38;2;55;65;81m, \u001b[0m\n",
              "\u001b[38;2;55;65;81masync_mode\u001b[0m\u001b[38;2;55;65;81m=\u001b[0m\u001b[3;38;2;55;65;81mTrue\u001b[0m\u001b[1;38;2;55;65;81m)\u001b[0m\u001b[38;2;55;65;81m...\u001b[0m\n"
            ],
            "text/html": [
              "<pre style=\"white-space:pre;overflow-x:auto;line-height:normal;font-family:Menlo,'DejaVu Sans Mono',consolas,'Courier New',monospace\">✨ You're running DeepEval's latest <span style=\"color: #6a00ff; text-decoration-color: #6a00ff\">Faithfulness Metric</span>! <span style=\"color: #374151; text-decoration-color: #374151; font-weight: bold\">(</span><span style=\"color: #374151; text-decoration-color: #374151\">using mistral-large-latest, </span><span style=\"color: #374151; text-decoration-color: #374151\">strict</span><span style=\"color: #374151; text-decoration-color: #374151\">=</span><span style=\"color: #374151; text-decoration-color: #374151; font-style: italic\">False</span><span style=\"color: #374151; text-decoration-color: #374151\">, </span>\n",
              "<span style=\"color: #374151; text-decoration-color: #374151\">async_mode</span><span style=\"color: #374151; text-decoration-color: #374151\">=</span><span style=\"color: #374151; text-decoration-color: #374151; font-style: italic\">True</span><span style=\"color: #374151; text-decoration-color: #374151; font-weight: bold\">)</span><span style=\"color: #374151; text-decoration-color: #374151\">...</span>\n",
              "</pre>\n"
            ]
          },
          "metadata": {}
        },
        {
          "output_type": "stream",
          "name": "stdout",
          "text": [
            "Event loop is already running. Applying nest_asyncio patch to allow async execution...\n"
          ]
        },
        {
          "output_type": "stream",
          "name": "stderr",
          "text": [
            "\rEvaluating 1 test case(s) in parallel: |          |  0% (0/1) [Time Taken: 00:00, ?test case/s]"
          ]
        },
        {
          "output_type": "stream",
          "name": "stdout",
          "text": [
            "3\n"
          ]
        },
        {
          "output_type": "stream",
          "name": "stderr",
          "text": [
            "Evaluating 1 test case(s) in parallel: |██████████|100% (1/1) [Time Taken: 00:32, 32.46s/test case]"
          ]
        },
        {
          "output_type": "stream",
          "name": "stdout",
          "text": [
            "\n",
            "======================================================================\n",
            "\n",
            "Metrics Summary\n",
            "\n",
            "  - ✅ Faithfulness (score: 1.0, threshold: 0.5, strict: False, evaluation model: mistral-large-latest, reason: The score is 1.00 because there are no contradictions! Great job!, error: None)\n",
            "\n",
            "For test case:\n",
            "\n",
            "  - input: Como o TCC I é avaliado?\n",
            "  - actual output: O TCC I é avaliado pela banca avaliadora, que é composta por pelo menos três membros, sendo presidida pelo docente orientador do trabalho. A nota do componente curricular TCC I será composta pela média aritmética das notas proferidas pelos membros da banca avaliadora, conforme formulários de avaliação presentes no Anexo I do regulamento. Os critérios e as formas de avaliação do discente nos componentes curriculares TCC I e TCC II serão propostos pelo docente da respectiva disciplina e homologados pelo Colegiado do Curso. Após a homologação, os critérios e as formas de avaliação constarão nos respectivos planos de ensino dos componentes curriculares TCC I e II.\n",
            "\n",
            "A avaliação da escrita do trabalho do TCC I é realizada com base nos seguintes critérios:\n",
            "\n",
            "1. Relevância do trabalho/tema para a área específica e para a carreira profissional\n",
            "2. Argumentação e sequenciamento de ideias\n",
            "3. Objetivos gerais e específicos condizentes\n",
            "4. Explicitação dos procedimentos metodológicos e propriedade de análise\n",
            "5. Rigor conceitual, estrutura lógica e consistência dos argumentos\n",
            "6. Clareza e correção linguística do texto\n",
            "7. Pertinência e uso adequado de contextualização bibliográfica\n",
            "\n",
            "Cada um desses critérios tem um máximo de pontuação, e a nota final será a soma das notas obtidas em cada critério.\n",
            "  - expected output: O TCC I é avaliado por meio de uma banca examinadora composta por, no mínimo, três membros, sendo presidida pelo docente orientador do trabalho. Conforme o artigo 27, §2 do contexto, pelo menos um dos membros da banca deve pertencer ao domínio específico do curso. A nota do TCC I será composta pela média aritmética das notas proferidas pelos membros da banca avaliadora.\\n\\nPara o TCC I, o discente deverá entregar o artigo para avaliação da banca, sem a necessidade de apresentação do mesmo (Art. 22, §2). Os critérios e as formas de avaliação do TCC I devem ser propostos pelo docente da disciplina e homologados pelo Colegiado do Curso, e devem constar nos respectivos planos de ensino dos componentes curriculares TCC I e II (Art. 30)\n",
            "  - context: None\n",
            "  - retrieval context: ['\\n\\ndisciplina TCC II, para integralizar o TCC o discente deverá ser avaliado através da <br><br>1305  apresentação oral seguida de defesa perante banca examinadora, que deverá ser composta pelo <br><br>orientador (presidente) e, no mínimo, mais dois membros, sugeridos pelo orientador ou pelo <br><br>docente do componente. A apresentação oral do trabalho e a arguição serão abertas à <br><br>comunidade. A nota final será dada pelos membros da banca, que deverão avaliar o discente <br><br>segundo os seguintes quesitos: monografia, apresentação oral (defesa do trabalho) e \\nDRAFT <br><br>1310  contribuição. <br><br>O regulamento do TCC é apresentado no Anexo II deste documento.  \\n\\n**Art. 30º**Os critérios e as formas de avaliação do discente, nos componentes curriculares TCC I <br><br>e TCC II, será proposto pelo docente da respectiva disciplina e homologado pelo Colegiado do <br><br>2310  Curso. <br><br>Parágrafo único: após a homologação, os critérios e as formas de avaliação constarão nos <br><br>respectivos planos de ensino dos componentes curriculares TCC I e II.  \\n\\n**PARECER DO DOCENTE DE TCC I:**\\nDRAFT <br><br>| Deferido: | ( ) Sim ( ) Não |\\n|---|---|\\n| Deferido: | ( ) Sim ( ) Não |\\n| Deferido por: |   |\\n| Observação: |   |\\n', '\\n\\n**TRABALHO DE CONCLUSÃO DE CURSO - TCC II**<br><br>| AVALIAÇÃO DA ESCRITA DO TRABALHO |  |  |\\n|---|---|---|\\n| AVALIAÇÃO DA ESCRITA DO TRABALHO |   |   |\\n| CRITÉRIOS | MÁXIMO | NOTA |\\n| 1 - Adequação ao tema e viabilidade das ideias | 1,0 |   |\\n| 2 - Resultados condizentes com os objetivos propostos | 1,0 |   |\\n| 3 - Execução da metodologia e propriedade de análise | 1,0 |   |\\n| 4 - Discussão do assunto e resultados com clareza e coerência | 2,0 |   |\\n| 5 - Rigor conceitual, estrutura lógica e consistência dos argumentos | 2,0 |   |\\n| 6 - Clareza e correção linguística do texto | 1,5 |   |\\n| 7 - Pertinência e uso adequado da contextualização bibliográfica | 1,5 |   |\\n| TOTAL | 10,0 |   |\\n<br><br>2350 \\nDRAFT  \\n\\n**Art. 27º**A banca avaliadora será composta por, pelo menos, três membros, sendo presidida pelo <br><br>docente orientador do trabalho. <br><br>**§ 1º**Será formada uma banca para TCC I e TCC II, preferencialmente idênticas. <br><br>**§ 2º**Ao menos um dos membros avaliadores deve pertencer ao domínio específico do curso. <br><br>**§ 3º**A nota dos componentes curriculares TCC I e TCC II será composta pela média <br><br>aritmética das notas proferidas pelos membros da banca avaliadora, conforme formulários <br><br>de avaliação presentes no Anexo I deste regulamento.  \\n\\n\\n\\n**CAPÍTULO V**<br><br>**DA AVALIAÇÃO DO TRABALHO DE CONCLUSÃO DE CURSO**<br><br>2305 <br><br>**Art. 29º**A avaliação do discente será realizada pela banca avaliadora. ', '\\n\\n**FICHA DE AVALIAÇÃO**<br><br>2340  **PROJETO DE TRABALHO DE CONCLUSÃO DE CURSO - TCC I**<br><br>| AVALIAÇÃO DA ESCRITA DO TRABALHO (70%) |  |  |\\n|---|---|---|\\n| AVALIAÇÃO DA ESCRITA DO TRABALHO (70%) |   |   |\\n| CRITÉRIOS | MÁ XIMO | N OTA |\\n| 1 - Relevância do trabalho/tema para a área específica e para a carreira profissional | 1,0 |   |\\n| 2 - Argumentação e sequenciamento de ideias | 1,0 |   |\\n| 3 - Objetivos gerais e específicos condizentes | 1,0 |   |\\n| 4 - Explicitação dos procedimentos metodológicos e propriedade de análise | 1,0 |   |\\n| 5 - Rigor conceitual, estrutura lógica e consistência dos argumentos | 2,0 |   |\\n| 6 - Clareza e correção linguística do texto | 2,0 |   |\\n| 7 - Pertinência e uso adequado de contextualização bibliográfica | 2,0 |   |\\n| TOTAL | 10,0 |   |\\n \\n\\nAlém disso, a atuação do docente nos componentes curriculares, sempre que viável, <br><br>deve buscar a integração com o conhecimento já construído (os requisitos) e com os demais <br><br>componentes nos quais seu conteúdo será usado como base. O Trabalho de Conclusão de <br><br>Curso, componente curricular obrigatório, é a principal atividade na qual a aquisição <br><br>680  multidisciplinar do conhecimento ocorre de modo mais expressivo.  \\n\\n**Art. 1º**O Trabalho de Conclusão de Curso (TCC) do curso de graduação em Ciência da <br><br>2035  Computação da Universidade Federal da Fronteira Sul (UFFS) será regido por este <br><br>Regulamento de Trabalho de Conclusão de Curso. ']\n",
            "\n",
            "======================================================================\n",
            "\n",
            "Overall Metric Pass Rates\n",
            "\n",
            "Faithfulness: 100.00% pass rate\n",
            "\n",
            "======================================================================\n",
            "\n"
          ]
        },
        {
          "output_type": "stream",
          "name": "stderr",
          "text": [
            "\n"
          ]
        },
        {
          "output_type": "display_data",
          "data": {
            "text/plain": [
              "\u001b[38;2;5;245;141m✓\u001b[0m Tests finished 🎉! Run \u001b[32m'deepeval login'\u001b[0m to save and analyze evaluation results on Confident AI. \n",
              "‼️  Friendly reminder 😇: You can also run evaluations with ALL of deepeval's metrics directly on Confident AI \n",
              "instead.\n"
            ],
            "text/html": [
              "<pre style=\"white-space:pre;overflow-x:auto;line-height:normal;font-family:Menlo,'DejaVu Sans Mono',consolas,'Courier New',monospace\"><span style=\"color: #05f58d; text-decoration-color: #05f58d\">✓</span> Tests finished 🎉! Run <span style=\"color: #008000; text-decoration-color: #008000\">'deepeval login'</span> to save and analyze evaluation results on Confident AI. \n",
              "‼️  Friendly reminder 😇: You can also run evaluations with ALL of deepeval's metrics directly on Confident AI \n",
              "instead.\n",
              "</pre>\n"
            ]
          },
          "metadata": {}
        },
        {
          "output_type": "display_data",
          "data": {
            "text/plain": [
              "✨ You're running DeepEval's latest \u001b[38;2;106;0;255mCorrectness \u001b[0m\u001b[1;38;2;106;0;255m(\u001b[0m\u001b[38;2;106;0;255mGEval\u001b[0m\u001b[1;38;2;106;0;255m)\u001b[0m\u001b[38;2;106;0;255m Metric\u001b[0m! \u001b[1;38;2;55;65;81m(\u001b[0m\u001b[38;2;55;65;81musing mistral-large-latest, \u001b[0m\u001b[38;2;55;65;81mstrict\u001b[0m\u001b[38;2;55;65;81m=\u001b[0m\u001b[3;38;2;55;65;81mFalse\u001b[0m\u001b[38;2;55;65;81m, \u001b[0m\n",
              "\u001b[38;2;55;65;81masync_mode\u001b[0m\u001b[38;2;55;65;81m=\u001b[0m\u001b[3;38;2;55;65;81mTrue\u001b[0m\u001b[1;38;2;55;65;81m)\u001b[0m\u001b[38;2;55;65;81m...\u001b[0m\n"
            ],
            "text/html": [
              "<pre style=\"white-space:pre;overflow-x:auto;line-height:normal;font-family:Menlo,'DejaVu Sans Mono',consolas,'Courier New',monospace\">✨ You're running DeepEval's latest <span style=\"color: #6a00ff; text-decoration-color: #6a00ff\">Correctness </span><span style=\"color: #6a00ff; text-decoration-color: #6a00ff; font-weight: bold\">(</span><span style=\"color: #6a00ff; text-decoration-color: #6a00ff\">GEval</span><span style=\"color: #6a00ff; text-decoration-color: #6a00ff; font-weight: bold\">)</span><span style=\"color: #6a00ff; text-decoration-color: #6a00ff\"> Metric</span>! <span style=\"color: #374151; text-decoration-color: #374151; font-weight: bold\">(</span><span style=\"color: #374151; text-decoration-color: #374151\">using mistral-large-latest, </span><span style=\"color: #374151; text-decoration-color: #374151\">strict</span><span style=\"color: #374151; text-decoration-color: #374151\">=</span><span style=\"color: #374151; text-decoration-color: #374151; font-style: italic\">False</span><span style=\"color: #374151; text-decoration-color: #374151\">, </span>\n",
              "<span style=\"color: #374151; text-decoration-color: #374151\">async_mode</span><span style=\"color: #374151; text-decoration-color: #374151\">=</span><span style=\"color: #374151; text-decoration-color: #374151; font-style: italic\">True</span><span style=\"color: #374151; text-decoration-color: #374151; font-weight: bold\">)</span><span style=\"color: #374151; text-decoration-color: #374151\">...</span>\n",
              "</pre>\n"
            ]
          },
          "metadata": {}
        },
        {
          "output_type": "stream",
          "name": "stdout",
          "text": [
            "Event loop is already running. Applying nest_asyncio patch to allow async execution...\n"
          ]
        },
        {
          "output_type": "stream",
          "name": "stderr",
          "text": [
            "Evaluating 1 test case(s) in parallel: |██████████|100% (1/1) [Time Taken: 00:02,  2.34s/test case]"
          ]
        },
        {
          "output_type": "stream",
          "name": "stdout",
          "text": [
            "\n",
            "======================================================================\n",
            "\n",
            "Metrics Summary\n",
            "\n",
            "  - ✅ Correctness (GEval) (score: 1.0, threshold: 0.5, strict: False, evaluation model: mistral-large-latest, reason: The actual output provides a detailed breakdown of the evaluation criteria for TCC I, including specific points and their maximum scores. It does not contradict any facts in the expected output and provides comprehensive details., error: None)\n",
            "\n",
            "For test case:\n",
            "\n",
            "  - input: Como é a ficha de avaliação do TCC I:\n",
            "  - actual output: A ficha de avaliação do TCC I é composta pelos seguintes critérios:\n",
            "\n",
            "1. Relevância do trabalho/tema para a área específica e para a carreira profissional (máximo de 1,0)\n",
            "2. Argumentação e sequenciamento de ideias (máximo de 1,0)\n",
            "3. Objetivos gerais e específicos condizentes (máximo de 1,0)\n",
            "4. Explicitação dos procedimentos metodológicos e propriedade de análise (máximo de 1,0)\n",
            "5. Rigor conceitual, estrutura lógica e consistência dos argumentos (máximo de 2,0)\n",
            "6. Clareza e correção linguística do texto (máximo de 2,0)\n",
            "7. Pertinência e uso adequado de contextualização bibliográfica (máximo de 2,0)\n",
            "\n",
            "O total máximo de pontos é de 10,0.\n",
            "  - expected output: A ficha de avaliação do TCC I está dividida em duas partes: avaliação da escrita do trabalho (70%) e avaliação da apresentação do trabalho (30%).\\n\\nNa avaliação da escrita do trabalho, serão avaliados os seguintes critérios:\\n\\n1. Relevância do trabalho/tema para a área específica e para a carreira profissional (máximo 1,0)\\n2. Argumentação e sequenciamento de ideias (máximo 1,0)\\n3. Objetivos gerais e específicos condizentes (máximo 1,0)\\n4. Explicitação dos procedimentos metodológicos e propriedade de análise (máximo 1,0)\\n5. Rigor conceitual, estrutura lógica e consistência dos argumentos (máximo 2,0)\\n6. Clareza e correção linguística do texto (máximo 2,0)\\n7. Pertinência e uso adequado de contextualização bibliográfica (máximo 2,0)\\n\\nNo total, a nota máxima para a avaliação da escrita do trabalho é 10,0.\\n\\nJá na avaliação da apresentação do trabalho, serão avaliados os seguintes critérios:\\n\\n1. Clareza e objetividade (máximo 2,0)\\n2. Domínio do tema selecionado (máximo 2,0)\\n3. Adequação explanatória à metodologia utilizada (máximo 1,0)\\n4. Sequenciamento e estrutura lógica de ideias e proposições (máximo 2,0)\\n5. Respostas satisfatórias às questões da Banca (máximo 3,0)\\n\\nNo total, a nota máxima para a avaliação da apresentação do trabalho é 10,0.\\n\\nA nota final do TCC I será calculada com base na média ponderada entre a nota da avaliação da escrita do trabalho (70%) e a nota da avaliação da apresentação do trabalho (30%\n",
            "  - context: None\n",
            "  - retrieval context: ['\\n\\ndisciplina TCC II, para integralizar o TCC o discente deverá ser avaliado através da <br><br>1305  apresentação oral seguida de defesa perante banca examinadora, que deverá ser composta pelo <br><br>orientador (presidente) e, no mínimo, mais dois membros, sugeridos pelo orientador ou pelo <br><br>docente do componente. A apresentação oral do trabalho e a arguição serão abertas à <br><br>comunidade. A nota final será dada pelos membros da banca, que deverão avaliar o discente <br><br>segundo os seguintes quesitos: monografia, apresentação oral (defesa do trabalho) e \\nDRAFT <br><br>1310  contribuição. <br><br>O regulamento do TCC é apresentado no Anexo II deste documento.  \\n\\n**Art. 30º**Os critérios e as formas de avaliação do discente, nos componentes curriculares TCC I <br><br>e TCC II, será proposto pelo docente da respectiva disciplina e homologado pelo Colegiado do <br><br>2310  Curso. <br><br>Parágrafo único: após a homologação, os critérios e as formas de avaliação constarão nos <br><br>respectivos planos de ensino dos componentes curriculares TCC I e II. ', '\\n\\n**PARECER DO DOCENTE DE TCC I:**\\nDRAFT <br><br>| Deferido: | ( ) Sim ( ) Não |\\n|---|---|\\n| Deferido: | ( ) Sim ( ) Não |\\n| Deferido por: |   |\\n| Observação: |   |\\n \\n\\n**Art. 27º**A banca avaliadora será composta por, pelo menos, três membros, sendo presidida pelo <br><br>docente orientador do trabalho. <br><br>**§ 1º**Será formada uma banca para TCC I e TCC II, preferencialmente idênticas. <br><br>**§ 2º**Ao menos um dos membros avaliadores deve pertencer ao domínio específico do curso. <br><br>**§ 3º**A nota dos componentes curriculares TCC I e TCC II será composta pela média <br><br>aritmética das notas proferidas pelos membros da banca avaliadora, conforme formulários <br><br>de avaliação presentes no Anexo I deste regulamento. ', '\\n\\n**TRABALHO DE CONCLUSÃO DE CURSO - TCC II**<br><br>| AVALIAÇÃO DA ESCRITA DO TRABALHO |  |  |\\n|---|---|---|\\n| AVALIAÇÃO DA ESCRITA DO TRABALHO |   |   |\\n| CRITÉRIOS | MÁXIMO | NOTA |\\n| 1 - Adequação ao tema e viabilidade das ideias | 1,0 |   |\\n| 2 - Resultados condizentes com os objetivos propostos | 1,0 |   |\\n| 3 - Execução da metodologia e propriedade de análise | 1,0 |   |\\n| 4 - Discussão do assunto e resultados com clareza e coerência | 2,0 |   |\\n| 5 - Rigor conceitual, estrutura lógica e consistência dos argumentos | 2,0 |   |\\n| 6 - Clareza e correção linguística do texto | 1,5 |   |\\n| 7 - Pertinência e uso adequado da contextualização bibliográfica | 1,5 |   |\\n| TOTAL | 10,0 |   |\\n<br><br>2350 \\nDRAFT  \\n\\n\\n\\n**FICHA DE AVALIAÇÃO**<br><br>2340  **PROJETO DE TRABALHO DE CONCLUSÃO DE CURSO - TCC I**<br><br>| AVALIAÇÃO DA ESCRITA DO TRABALHO (70%) |  |  |\\n|---|---|---|\\n| AVALIAÇÃO DA ESCRITA DO TRABALHO (70%) |   |   |\\n| CRITÉRIOS | MÁ XIMO | N OTA |\\n| 1 - Relevância do trabalho/tema para a área específica e para a carreira profissional | 1,0 |   |\\n| 2 - Argumentação e sequenciamento de ideias | 1,0 |   |\\n| 3 - Objetivos gerais e específicos condizentes | 1,0 |   |\\n| 4 - Explicitação dos procedimentos metodológicos e propriedade de análise | 1,0 |   |\\n| 5 - Rigor conceitual, estrutura lógica e consistência dos argumentos | 2,0 |   |\\n| 6 - Clareza e correção linguística do texto | 2,0 |   |\\n| 7 - Pertinência e uso adequado de contextualização bibliográfica | 2,0 |   |\\n| TOTAL | 10,0 |   |\\n']\n",
            "\n",
            "======================================================================\n",
            "\n",
            "Overall Metric Pass Rates\n",
            "\n",
            "Correctness (GEval): 100.00% pass rate\n",
            "\n",
            "======================================================================\n",
            "\n"
          ]
        },
        {
          "output_type": "stream",
          "name": "stderr",
          "text": [
            "\n"
          ]
        },
        {
          "output_type": "display_data",
          "data": {
            "text/plain": [
              "\u001b[38;2;5;245;141m✓\u001b[0m Tests finished 🎉! Run \u001b[32m'deepeval login'\u001b[0m to save and analyze evaluation results on Confident AI. \n",
              "‼️  Friendly reminder 😇: You can also run evaluations with ALL of deepeval's metrics directly on Confident AI \n",
              "instead.\n"
            ],
            "text/html": [
              "<pre style=\"white-space:pre;overflow-x:auto;line-height:normal;font-family:Menlo,'DejaVu Sans Mono',consolas,'Courier New',monospace\"><span style=\"color: #05f58d; text-decoration-color: #05f58d\">✓</span> Tests finished 🎉! Run <span style=\"color: #008000; text-decoration-color: #008000\">'deepeval login'</span> to save and analyze evaluation results on Confident AI. \n",
              "‼️  Friendly reminder 😇: You can also run evaluations with ALL of deepeval's metrics directly on Confident AI \n",
              "instead.\n",
              "</pre>\n"
            ]
          },
          "metadata": {}
        },
        {
          "output_type": "display_data",
          "data": {
            "text/plain": [
              "✨ You're running DeepEval's latest \u001b[38;2;106;0;255mAnswer Relevancy Metric\u001b[0m! \u001b[1;38;2;55;65;81m(\u001b[0m\u001b[38;2;55;65;81musing mistral-large-latest, \u001b[0m\u001b[38;2;55;65;81mstrict\u001b[0m\u001b[38;2;55;65;81m=\u001b[0m\u001b[3;38;2;55;65;81mFalse\u001b[0m\u001b[38;2;55;65;81m, \u001b[0m\n",
              "\u001b[38;2;55;65;81masync_mode\u001b[0m\u001b[38;2;55;65;81m=\u001b[0m\u001b[3;38;2;55;65;81mTrue\u001b[0m\u001b[1;38;2;55;65;81m)\u001b[0m\u001b[38;2;55;65;81m...\u001b[0m\n"
            ],
            "text/html": [
              "<pre style=\"white-space:pre;overflow-x:auto;line-height:normal;font-family:Menlo,'DejaVu Sans Mono',consolas,'Courier New',monospace\">✨ You're running DeepEval's latest <span style=\"color: #6a00ff; text-decoration-color: #6a00ff\">Answer Relevancy Metric</span>! <span style=\"color: #374151; text-decoration-color: #374151; font-weight: bold\">(</span><span style=\"color: #374151; text-decoration-color: #374151\">using mistral-large-latest, </span><span style=\"color: #374151; text-decoration-color: #374151\">strict</span><span style=\"color: #374151; text-decoration-color: #374151\">=</span><span style=\"color: #374151; text-decoration-color: #374151; font-style: italic\">False</span><span style=\"color: #374151; text-decoration-color: #374151\">, </span>\n",
              "<span style=\"color: #374151; text-decoration-color: #374151\">async_mode</span><span style=\"color: #374151; text-decoration-color: #374151\">=</span><span style=\"color: #374151; text-decoration-color: #374151; font-style: italic\">True</span><span style=\"color: #374151; text-decoration-color: #374151; font-weight: bold\">)</span><span style=\"color: #374151; text-decoration-color: #374151\">...</span>\n",
              "</pre>\n"
            ]
          },
          "metadata": {}
        },
        {
          "output_type": "stream",
          "name": "stdout",
          "text": [
            "Event loop is already running. Applying nest_asyncio patch to allow async execution...\n"
          ]
        },
        {
          "output_type": "stream",
          "name": "stderr",
          "text": [
            "Evaluating 1 test case(s) in parallel: |██████████|100% (1/1) [Time Taken: 00:12, 12.21s/test case]"
          ]
        },
        {
          "output_type": "stream",
          "name": "stdout",
          "text": [
            "\n",
            "======================================================================\n",
            "\n",
            "Metrics Summary\n",
            "\n",
            "  - ✅ Answer Relevancy (score: 1.0, threshold: 0.5, strict: False, evaluation model: mistral-large-latest, reason: The score is 1.00 because the response perfectly addresses the input question about the evaluation form for TCC I., error: None)\n",
            "\n",
            "For test case:\n",
            "\n",
            "  - input: Como é a ficha de avaliação do TCC I:\n",
            "  - actual output: A ficha de avaliação do TCC I é composta pelos seguintes critérios:\n",
            "\n",
            "1. Relevância do trabalho/tema para a área específica e para a carreira profissional (máximo de 1,0)\n",
            "2. Argumentação e sequenciamento de ideias (máximo de 1,0)\n",
            "3. Objetivos gerais e específicos condizentes (máximo de 1,0)\n",
            "4. Explicitação dos procedimentos metodológicos e propriedade de análise (máximo de 1,0)\n",
            "5. Rigor conceitual, estrutura lógica e consistência dos argumentos (máximo de 2,0)\n",
            "6. Clareza e correção linguística do texto (máximo de 2,0)\n",
            "7. Pertinência e uso adequado de contextualização bibliográfica (máximo de 2,0)\n",
            "\n",
            "O total máximo de pontos é de 10,0.\n",
            "  - expected output: A ficha de avaliação do TCC I está dividida em duas partes: avaliação da escrita do trabalho (70%) e avaliação da apresentação do trabalho (30%).\\n\\nNa avaliação da escrita do trabalho, serão avaliados os seguintes critérios:\\n\\n1. Relevância do trabalho/tema para a área específica e para a carreira profissional (máximo 1,0)\\n2. Argumentação e sequenciamento de ideias (máximo 1,0)\\n3. Objetivos gerais e específicos condizentes (máximo 1,0)\\n4. Explicitação dos procedimentos metodológicos e propriedade de análise (máximo 1,0)\\n5. Rigor conceitual, estrutura lógica e consistência dos argumentos (máximo 2,0)\\n6. Clareza e correção linguística do texto (máximo 2,0)\\n7. Pertinência e uso adequado de contextualização bibliográfica (máximo 2,0)\\n\\nNo total, a nota máxima para a avaliação da escrita do trabalho é 10,0.\\n\\nJá na avaliação da apresentação do trabalho, serão avaliados os seguintes critérios:\\n\\n1. Clareza e objetividade (máximo 2,0)\\n2. Domínio do tema selecionado (máximo 2,0)\\n3. Adequação explanatória à metodologia utilizada (máximo 1,0)\\n4. Sequenciamento e estrutura lógica de ideias e proposições (máximo 2,0)\\n5. Respostas satisfatórias às questões da Banca (máximo 3,0)\\n\\nNo total, a nota máxima para a avaliação da apresentação do trabalho é 10,0.\\n\\nA nota final do TCC I será calculada com base na média ponderada entre a nota da avaliação da escrita do trabalho (70%) e a nota da avaliação da apresentação do trabalho (30%\n",
            "  - context: None\n",
            "  - retrieval context: ['\\n\\ndisciplina TCC II, para integralizar o TCC o discente deverá ser avaliado através da <br><br>1305  apresentação oral seguida de defesa perante banca examinadora, que deverá ser composta pelo <br><br>orientador (presidente) e, no mínimo, mais dois membros, sugeridos pelo orientador ou pelo <br><br>docente do componente. A apresentação oral do trabalho e a arguição serão abertas à <br><br>comunidade. A nota final será dada pelos membros da banca, que deverão avaliar o discente <br><br>segundo os seguintes quesitos: monografia, apresentação oral (defesa do trabalho) e \\nDRAFT <br><br>1310  contribuição. <br><br>O regulamento do TCC é apresentado no Anexo II deste documento.  \\n\\n**Art. 30º**Os critérios e as formas de avaliação do discente, nos componentes curriculares TCC I <br><br>e TCC II, será proposto pelo docente da respectiva disciplina e homologado pelo Colegiado do <br><br>2310  Curso. <br><br>Parágrafo único: após a homologação, os critérios e as formas de avaliação constarão nos <br><br>respectivos planos de ensino dos componentes curriculares TCC I e II. ', '\\n\\n**PARECER DO DOCENTE DE TCC I:**\\nDRAFT <br><br>| Deferido: | ( ) Sim ( ) Não |\\n|---|---|\\n| Deferido: | ( ) Sim ( ) Não |\\n| Deferido por: |   |\\n| Observação: |   |\\n \\n\\n**Art. 27º**A banca avaliadora será composta por, pelo menos, três membros, sendo presidida pelo <br><br>docente orientador do trabalho. <br><br>**§ 1º**Será formada uma banca para TCC I e TCC II, preferencialmente idênticas. <br><br>**§ 2º**Ao menos um dos membros avaliadores deve pertencer ao domínio específico do curso. <br><br>**§ 3º**A nota dos componentes curriculares TCC I e TCC II será composta pela média <br><br>aritmética das notas proferidas pelos membros da banca avaliadora, conforme formulários <br><br>de avaliação presentes no Anexo I deste regulamento. ', '\\n\\n**TRABALHO DE CONCLUSÃO DE CURSO - TCC II**<br><br>| AVALIAÇÃO DA ESCRITA DO TRABALHO |  |  |\\n|---|---|---|\\n| AVALIAÇÃO DA ESCRITA DO TRABALHO |   |   |\\n| CRITÉRIOS | MÁXIMO | NOTA |\\n| 1 - Adequação ao tema e viabilidade das ideias | 1,0 |   |\\n| 2 - Resultados condizentes com os objetivos propostos | 1,0 |   |\\n| 3 - Execução da metodologia e propriedade de análise | 1,0 |   |\\n| 4 - Discussão do assunto e resultados com clareza e coerência | 2,0 |   |\\n| 5 - Rigor conceitual, estrutura lógica e consistência dos argumentos | 2,0 |   |\\n| 6 - Clareza e correção linguística do texto | 1,5 |   |\\n| 7 - Pertinência e uso adequado da contextualização bibliográfica | 1,5 |   |\\n| TOTAL | 10,0 |   |\\n<br><br>2350 \\nDRAFT  \\n\\n\\n\\n**FICHA DE AVALIAÇÃO**<br><br>2340  **PROJETO DE TRABALHO DE CONCLUSÃO DE CURSO - TCC I**<br><br>| AVALIAÇÃO DA ESCRITA DO TRABALHO (70%) |  |  |\\n|---|---|---|\\n| AVALIAÇÃO DA ESCRITA DO TRABALHO (70%) |   |   |\\n| CRITÉRIOS | MÁ XIMO | N OTA |\\n| 1 - Relevância do trabalho/tema para a área específica e para a carreira profissional | 1,0 |   |\\n| 2 - Argumentação e sequenciamento de ideias | 1,0 |   |\\n| 3 - Objetivos gerais e específicos condizentes | 1,0 |   |\\n| 4 - Explicitação dos procedimentos metodológicos e propriedade de análise | 1,0 |   |\\n| 5 - Rigor conceitual, estrutura lógica e consistência dos argumentos | 2,0 |   |\\n| 6 - Clareza e correção linguística do texto | 2,0 |   |\\n| 7 - Pertinência e uso adequado de contextualização bibliográfica | 2,0 |   |\\n| TOTAL | 10,0 |   |\\n']\n",
            "\n",
            "======================================================================\n",
            "\n",
            "Overall Metric Pass Rates\n",
            "\n",
            "Answer Relevancy: 100.00% pass rate\n",
            "\n",
            "======================================================================\n",
            "\n"
          ]
        },
        {
          "output_type": "stream",
          "name": "stderr",
          "text": [
            "\n"
          ]
        },
        {
          "output_type": "display_data",
          "data": {
            "text/plain": [
              "\u001b[38;2;5;245;141m✓\u001b[0m Tests finished 🎉! Run \u001b[32m'deepeval login'\u001b[0m to save and analyze evaluation results on Confident AI. \n",
              "‼️  Friendly reminder 😇: You can also run evaluations with ALL of deepeval's metrics directly on Confident AI \n",
              "instead.\n"
            ],
            "text/html": [
              "<pre style=\"white-space:pre;overflow-x:auto;line-height:normal;font-family:Menlo,'DejaVu Sans Mono',consolas,'Courier New',monospace\"><span style=\"color: #05f58d; text-decoration-color: #05f58d\">✓</span> Tests finished 🎉! Run <span style=\"color: #008000; text-decoration-color: #008000\">'deepeval login'</span> to save and analyze evaluation results on Confident AI. \n",
              "‼️  Friendly reminder 😇: You can also run evaluations with ALL of deepeval's metrics directly on Confident AI \n",
              "instead.\n",
              "</pre>\n"
            ]
          },
          "metadata": {}
        },
        {
          "output_type": "display_data",
          "data": {
            "text/plain": [
              "✨ You're running DeepEval's latest \u001b[38;2;106;0;255mContextual Recall Metric\u001b[0m! \u001b[1;38;2;55;65;81m(\u001b[0m\u001b[38;2;55;65;81musing llama-\u001b[0m\u001b[1;38;2;55;65;81m3.1\u001b[0m\u001b[38;2;55;65;81m-70b-versatile, \u001b[0m\u001b[38;2;55;65;81mstrict\u001b[0m\u001b[38;2;55;65;81m=\u001b[0m\u001b[3;38;2;55;65;81mFalse\u001b[0m\u001b[38;2;55;65;81m, \u001b[0m\n",
              "\u001b[38;2;55;65;81masync_mode\u001b[0m\u001b[38;2;55;65;81m=\u001b[0m\u001b[3;38;2;55;65;81mTrue\u001b[0m\u001b[1;38;2;55;65;81m)\u001b[0m\u001b[38;2;55;65;81m...\u001b[0m\n"
            ],
            "text/html": [
              "<pre style=\"white-space:pre;overflow-x:auto;line-height:normal;font-family:Menlo,'DejaVu Sans Mono',consolas,'Courier New',monospace\">✨ You're running DeepEval's latest <span style=\"color: #6a00ff; text-decoration-color: #6a00ff\">Contextual Recall Metric</span>! <span style=\"color: #374151; text-decoration-color: #374151; font-weight: bold\">(</span><span style=\"color: #374151; text-decoration-color: #374151\">using llama-</span><span style=\"color: #374151; text-decoration-color: #374151; font-weight: bold\">3.1</span><span style=\"color: #374151; text-decoration-color: #374151\">-70b-versatile, </span><span style=\"color: #374151; text-decoration-color: #374151\">strict</span><span style=\"color: #374151; text-decoration-color: #374151\">=</span><span style=\"color: #374151; text-decoration-color: #374151; font-style: italic\">False</span><span style=\"color: #374151; text-decoration-color: #374151\">, </span>\n",
              "<span style=\"color: #374151; text-decoration-color: #374151\">async_mode</span><span style=\"color: #374151; text-decoration-color: #374151\">=</span><span style=\"color: #374151; text-decoration-color: #374151; font-style: italic\">True</span><span style=\"color: #374151; text-decoration-color: #374151; font-weight: bold\">)</span><span style=\"color: #374151; text-decoration-color: #374151\">...</span>\n",
              "</pre>\n"
            ]
          },
          "metadata": {}
        },
        {
          "output_type": "stream",
          "name": "stdout",
          "text": [
            "Event loop is already running. Applying nest_asyncio patch to allow async execution...\n"
          ]
        },
        {
          "output_type": "stream",
          "name": "stderr",
          "text": [
            "\rEvaluating 1 test case(s) in parallel: |          |  0% (0/1) [Time Taken: 00:00, ?test case/s]"
          ]
        },
        {
          "output_type": "stream",
          "name": "stdout",
          "text": [
            "Request number: 1\n",
            "Request number: 2\n",
            "Request number: 3\n",
            "Request number: 4\n"
          ]
        },
        {
          "output_type": "stream",
          "name": "stderr",
          "text": [
            "\rEvaluating 1 test case(s) in parallel: |          |  0% (0/1) [Time Taken: 05:59, ?test case/s]\n"
          ]
        },
        {
          "output_type": "stream",
          "name": "stdout",
          "text": [
            "Error evaluating metric: 'FieldInfo' object has no attribute 'outer_type_'\n",
            "Retrying... Attempts left: 1\n"
          ]
        },
        {
          "output_type": "display_data",
          "data": {
            "text/plain": [
              "✨ You're running DeepEval's latest \u001b[38;2;106;0;255mContextual Recall Metric\u001b[0m! \u001b[1;38;2;55;65;81m(\u001b[0m\u001b[38;2;55;65;81musing llama-\u001b[0m\u001b[1;38;2;55;65;81m3.1\u001b[0m\u001b[38;2;55;65;81m-70b-versatile, \u001b[0m\u001b[38;2;55;65;81mstrict\u001b[0m\u001b[38;2;55;65;81m=\u001b[0m\u001b[3;38;2;55;65;81mFalse\u001b[0m\u001b[38;2;55;65;81m, \u001b[0m\n",
              "\u001b[38;2;55;65;81masync_mode\u001b[0m\u001b[38;2;55;65;81m=\u001b[0m\u001b[3;38;2;55;65;81mTrue\u001b[0m\u001b[1;38;2;55;65;81m)\u001b[0m\u001b[38;2;55;65;81m...\u001b[0m\n"
            ],
            "text/html": [
              "<pre style=\"white-space:pre;overflow-x:auto;line-height:normal;font-family:Menlo,'DejaVu Sans Mono',consolas,'Courier New',monospace\">✨ You're running DeepEval's latest <span style=\"color: #6a00ff; text-decoration-color: #6a00ff\">Contextual Recall Metric</span>! <span style=\"color: #374151; text-decoration-color: #374151; font-weight: bold\">(</span><span style=\"color: #374151; text-decoration-color: #374151\">using llama-</span><span style=\"color: #374151; text-decoration-color: #374151; font-weight: bold\">3.1</span><span style=\"color: #374151; text-decoration-color: #374151\">-70b-versatile, </span><span style=\"color: #374151; text-decoration-color: #374151\">strict</span><span style=\"color: #374151; text-decoration-color: #374151\">=</span><span style=\"color: #374151; text-decoration-color: #374151; font-style: italic\">False</span><span style=\"color: #374151; text-decoration-color: #374151\">, </span>\n",
              "<span style=\"color: #374151; text-decoration-color: #374151\">async_mode</span><span style=\"color: #374151; text-decoration-color: #374151\">=</span><span style=\"color: #374151; text-decoration-color: #374151; font-style: italic\">True</span><span style=\"color: #374151; text-decoration-color: #374151; font-weight: bold\">)</span><span style=\"color: #374151; text-decoration-color: #374151\">...</span>\n",
              "</pre>\n"
            ]
          },
          "metadata": {}
        },
        {
          "output_type": "stream",
          "name": "stdout",
          "text": [
            "Event loop is already running. Applying nest_asyncio patch to allow async execution...\n"
          ]
        },
        {
          "output_type": "stream",
          "name": "stderr",
          "text": [
            "\rEvaluating 1 test case(s) in parallel: |          |  0% (0/1) [Time Taken: 00:00, ?test case/s]"
          ]
        },
        {
          "output_type": "stream",
          "name": "stdout",
          "text": [
            "Request number: 5\n",
            "Request number: 6\n",
            "Request number: 7\n",
            "Request number: 8\n"
          ]
        },
        {
          "output_type": "stream",
          "name": "stderr",
          "text": [
            "\rEvaluating 1 test case(s) in parallel: |          |  0% (0/1) [Time Taken: 05:59, ?test case/s]\n"
          ]
        },
        {
          "output_type": "stream",
          "name": "stdout",
          "text": [
            "Error evaluating metric: 'FieldInfo' object has no attribute 'outer_type_'\n",
            "Failed to evaluate metric after all retry attempts.\n"
          ]
        },
        {
          "output_type": "display_data",
          "data": {
            "text/plain": [
              "✨ You're running DeepEval's latest \u001b[38;2;106;0;255mFaithfulness Metric\u001b[0m! \u001b[1;38;2;55;65;81m(\u001b[0m\u001b[38;2;55;65;81musing mistral-large-latest, \u001b[0m\u001b[38;2;55;65;81mstrict\u001b[0m\u001b[38;2;55;65;81m=\u001b[0m\u001b[3;38;2;55;65;81mFalse\u001b[0m\u001b[38;2;55;65;81m, \u001b[0m\n",
              "\u001b[38;2;55;65;81masync_mode\u001b[0m\u001b[38;2;55;65;81m=\u001b[0m\u001b[3;38;2;55;65;81mTrue\u001b[0m\u001b[1;38;2;55;65;81m)\u001b[0m\u001b[38;2;55;65;81m...\u001b[0m\n"
            ],
            "text/html": [
              "<pre style=\"white-space:pre;overflow-x:auto;line-height:normal;font-family:Menlo,'DejaVu Sans Mono',consolas,'Courier New',monospace\">✨ You're running DeepEval's latest <span style=\"color: #6a00ff; text-decoration-color: #6a00ff\">Faithfulness Metric</span>! <span style=\"color: #374151; text-decoration-color: #374151; font-weight: bold\">(</span><span style=\"color: #374151; text-decoration-color: #374151\">using mistral-large-latest, </span><span style=\"color: #374151; text-decoration-color: #374151\">strict</span><span style=\"color: #374151; text-decoration-color: #374151\">=</span><span style=\"color: #374151; text-decoration-color: #374151; font-style: italic\">False</span><span style=\"color: #374151; text-decoration-color: #374151\">, </span>\n",
              "<span style=\"color: #374151; text-decoration-color: #374151\">async_mode</span><span style=\"color: #374151; text-decoration-color: #374151\">=</span><span style=\"color: #374151; text-decoration-color: #374151; font-style: italic\">True</span><span style=\"color: #374151; text-decoration-color: #374151; font-weight: bold\">)</span><span style=\"color: #374151; text-decoration-color: #374151\">...</span>\n",
              "</pre>\n"
            ]
          },
          "metadata": {}
        },
        {
          "output_type": "stream",
          "name": "stdout",
          "text": [
            "Event loop is already running. Applying nest_asyncio patch to allow async execution...\n"
          ]
        },
        {
          "output_type": "stream",
          "name": "stderr",
          "text": [
            "\rEvaluating 1 test case(s) in parallel: |          |  0% (0/1) [Time Taken: 00:00, ?test case/s]"
          ]
        },
        {
          "output_type": "stream",
          "name": "stdout",
          "text": [
            "3\n"
          ]
        },
        {
          "output_type": "stream",
          "name": "stderr",
          "text": [
            "Evaluating 1 test case(s) in parallel: |██████████|100% (1/1) [Time Taken: 00:14, 14.69s/test case]"
          ]
        },
        {
          "output_type": "stream",
          "name": "stdout",
          "text": [
            "\n",
            "======================================================================\n",
            "\n",
            "Metrics Summary\n",
            "\n",
            "  - ✅ Faithfulness (score: 1.0, threshold: 0.5, strict: False, evaluation model: mistral-large-latest, reason: The score is 1.00 because there are no contradictions! Great job!, error: None)\n",
            "\n",
            "For test case:\n",
            "\n",
            "  - input: Como é a ficha de avaliação do TCC I:\n",
            "  - actual output: A ficha de avaliação do TCC I é composta pelos seguintes critérios:\n",
            "\n",
            "1. Relevância do trabalho/tema para a área específica e para a carreira profissional (máximo de 1,0)\n",
            "2. Argumentação e sequenciamento de ideias (máximo de 1,0)\n",
            "3. Objetivos gerais e específicos condizentes (máximo de 1,0)\n",
            "4. Explicitação dos procedimentos metodológicos e propriedade de análise (máximo de 1,0)\n",
            "5. Rigor conceitual, estrutura lógica e consistência dos argumentos (máximo de 2,0)\n",
            "6. Clareza e correção linguística do texto (máximo de 2,0)\n",
            "7. Pertinência e uso adequado de contextualização bibliográfica (máximo de 2,0)\n",
            "\n",
            "O total máximo de pontos é de 10,0.\n",
            "  - expected output: A ficha de avaliação do TCC I está dividida em duas partes: avaliação da escrita do trabalho (70%) e avaliação da apresentação do trabalho (30%).\\n\\nNa avaliação da escrita do trabalho, serão avaliados os seguintes critérios:\\n\\n1. Relevância do trabalho/tema para a área específica e para a carreira profissional (máximo 1,0)\\n2. Argumentação e sequenciamento de ideias (máximo 1,0)\\n3. Objetivos gerais e específicos condizentes (máximo 1,0)\\n4. Explicitação dos procedimentos metodológicos e propriedade de análise (máximo 1,0)\\n5. Rigor conceitual, estrutura lógica e consistência dos argumentos (máximo 2,0)\\n6. Clareza e correção linguística do texto (máximo 2,0)\\n7. Pertinência e uso adequado de contextualização bibliográfica (máximo 2,0)\\n\\nNo total, a nota máxima para a avaliação da escrita do trabalho é 10,0.\\n\\nJá na avaliação da apresentação do trabalho, serão avaliados os seguintes critérios:\\n\\n1. Clareza e objetividade (máximo 2,0)\\n2. Domínio do tema selecionado (máximo 2,0)\\n3. Adequação explanatória à metodologia utilizada (máximo 1,0)\\n4. Sequenciamento e estrutura lógica de ideias e proposições (máximo 2,0)\\n5. Respostas satisfatórias às questões da Banca (máximo 3,0)\\n\\nNo total, a nota máxima para a avaliação da apresentação do trabalho é 10,0.\\n\\nA nota final do TCC I será calculada com base na média ponderada entre a nota da avaliação da escrita do trabalho (70%) e a nota da avaliação da apresentação do trabalho (30%\n",
            "  - context: None\n",
            "  - retrieval context: ['\\n\\ndisciplina TCC II, para integralizar o TCC o discente deverá ser avaliado através da <br><br>1305  apresentação oral seguida de defesa perante banca examinadora, que deverá ser composta pelo <br><br>orientador (presidente) e, no mínimo, mais dois membros, sugeridos pelo orientador ou pelo <br><br>docente do componente. A apresentação oral do trabalho e a arguição serão abertas à <br><br>comunidade. A nota final será dada pelos membros da banca, que deverão avaliar o discente <br><br>segundo os seguintes quesitos: monografia, apresentação oral (defesa do trabalho) e \\nDRAFT <br><br>1310  contribuição. <br><br>O regulamento do TCC é apresentado no Anexo II deste documento.  \\n\\n**Art. 30º**Os critérios e as formas de avaliação do discente, nos componentes curriculares TCC I <br><br>e TCC II, será proposto pelo docente da respectiva disciplina e homologado pelo Colegiado do <br><br>2310  Curso. <br><br>Parágrafo único: após a homologação, os critérios e as formas de avaliação constarão nos <br><br>respectivos planos de ensino dos componentes curriculares TCC I e II. ', '\\n\\n**PARECER DO DOCENTE DE TCC I:**\\nDRAFT <br><br>| Deferido: | ( ) Sim ( ) Não |\\n|---|---|\\n| Deferido: | ( ) Sim ( ) Não |\\n| Deferido por: |   |\\n| Observação: |   |\\n \\n\\n**Art. 27º**A banca avaliadora será composta por, pelo menos, três membros, sendo presidida pelo <br><br>docente orientador do trabalho. <br><br>**§ 1º**Será formada uma banca para TCC I e TCC II, preferencialmente idênticas. <br><br>**§ 2º**Ao menos um dos membros avaliadores deve pertencer ao domínio específico do curso. <br><br>**§ 3º**A nota dos componentes curriculares TCC I e TCC II será composta pela média <br><br>aritmética das notas proferidas pelos membros da banca avaliadora, conforme formulários <br><br>de avaliação presentes no Anexo I deste regulamento. ', '\\n\\n**TRABALHO DE CONCLUSÃO DE CURSO - TCC II**<br><br>| AVALIAÇÃO DA ESCRITA DO TRABALHO |  |  |\\n|---|---|---|\\n| AVALIAÇÃO DA ESCRITA DO TRABALHO |   |   |\\n| CRITÉRIOS | MÁXIMO | NOTA |\\n| 1 - Adequação ao tema e viabilidade das ideias | 1,0 |   |\\n| 2 - Resultados condizentes com os objetivos propostos | 1,0 |   |\\n| 3 - Execução da metodologia e propriedade de análise | 1,0 |   |\\n| 4 - Discussão do assunto e resultados com clareza e coerência | 2,0 |   |\\n| 5 - Rigor conceitual, estrutura lógica e consistência dos argumentos | 2,0 |   |\\n| 6 - Clareza e correção linguística do texto | 1,5 |   |\\n| 7 - Pertinência e uso adequado da contextualização bibliográfica | 1,5 |   |\\n| TOTAL | 10,0 |   |\\n<br><br>2350 \\nDRAFT  \\n\\n\\n\\n**FICHA DE AVALIAÇÃO**<br><br>2340  **PROJETO DE TRABALHO DE CONCLUSÃO DE CURSO - TCC I**<br><br>| AVALIAÇÃO DA ESCRITA DO TRABALHO (70%) |  |  |\\n|---|---|---|\\n| AVALIAÇÃO DA ESCRITA DO TRABALHO (70%) |   |   |\\n| CRITÉRIOS | MÁ XIMO | N OTA |\\n| 1 - Relevância do trabalho/tema para a área específica e para a carreira profissional | 1,0 |   |\\n| 2 - Argumentação e sequenciamento de ideias | 1,0 |   |\\n| 3 - Objetivos gerais e específicos condizentes | 1,0 |   |\\n| 4 - Explicitação dos procedimentos metodológicos e propriedade de análise | 1,0 |   |\\n| 5 - Rigor conceitual, estrutura lógica e consistência dos argumentos | 2,0 |   |\\n| 6 - Clareza e correção linguística do texto | 2,0 |   |\\n| 7 - Pertinência e uso adequado de contextualização bibliográfica | 2,0 |   |\\n| TOTAL | 10,0 |   |\\n']\n",
            "\n",
            "======================================================================\n",
            "\n",
            "Overall Metric Pass Rates\n",
            "\n",
            "Faithfulness: 100.00% pass rate\n",
            "\n",
            "======================================================================\n",
            "\n"
          ]
        },
        {
          "output_type": "stream",
          "name": "stderr",
          "text": [
            "\n"
          ]
        },
        {
          "output_type": "display_data",
          "data": {
            "text/plain": [
              "\u001b[38;2;5;245;141m✓\u001b[0m Tests finished 🎉! Run \u001b[32m'deepeval login'\u001b[0m to save and analyze evaluation results on Confident AI. \n",
              "‼️  Friendly reminder 😇: You can also run evaluations with ALL of deepeval's metrics directly on Confident AI \n",
              "instead.\n"
            ],
            "text/html": [
              "<pre style=\"white-space:pre;overflow-x:auto;line-height:normal;font-family:Menlo,'DejaVu Sans Mono',consolas,'Courier New',monospace\"><span style=\"color: #05f58d; text-decoration-color: #05f58d\">✓</span> Tests finished 🎉! Run <span style=\"color: #008000; text-decoration-color: #008000\">'deepeval login'</span> to save and analyze evaluation results on Confident AI. \n",
              "‼️  Friendly reminder 😇: You can also run evaluations with ALL of deepeval's metrics directly on Confident AI \n",
              "instead.\n",
              "</pre>\n"
            ]
          },
          "metadata": {}
        },
        {
          "output_type": "display_data",
          "data": {
            "text/plain": [
              "✨ You're running DeepEval's latest \u001b[38;2;106;0;255mCorrectness \u001b[0m\u001b[1;38;2;106;0;255m(\u001b[0m\u001b[38;2;106;0;255mGEval\u001b[0m\u001b[1;38;2;106;0;255m)\u001b[0m\u001b[38;2;106;0;255m Metric\u001b[0m! \u001b[1;38;2;55;65;81m(\u001b[0m\u001b[38;2;55;65;81musing mistral-large-latest, \u001b[0m\u001b[38;2;55;65;81mstrict\u001b[0m\u001b[38;2;55;65;81m=\u001b[0m\u001b[3;38;2;55;65;81mFalse\u001b[0m\u001b[38;2;55;65;81m, \u001b[0m\n",
              "\u001b[38;2;55;65;81masync_mode\u001b[0m\u001b[38;2;55;65;81m=\u001b[0m\u001b[3;38;2;55;65;81mTrue\u001b[0m\u001b[1;38;2;55;65;81m)\u001b[0m\u001b[38;2;55;65;81m...\u001b[0m\n"
            ],
            "text/html": [
              "<pre style=\"white-space:pre;overflow-x:auto;line-height:normal;font-family:Menlo,'DejaVu Sans Mono',consolas,'Courier New',monospace\">✨ You're running DeepEval's latest <span style=\"color: #6a00ff; text-decoration-color: #6a00ff\">Correctness </span><span style=\"color: #6a00ff; text-decoration-color: #6a00ff; font-weight: bold\">(</span><span style=\"color: #6a00ff; text-decoration-color: #6a00ff\">GEval</span><span style=\"color: #6a00ff; text-decoration-color: #6a00ff; font-weight: bold\">)</span><span style=\"color: #6a00ff; text-decoration-color: #6a00ff\"> Metric</span>! <span style=\"color: #374151; text-decoration-color: #374151; font-weight: bold\">(</span><span style=\"color: #374151; text-decoration-color: #374151\">using mistral-large-latest, </span><span style=\"color: #374151; text-decoration-color: #374151\">strict</span><span style=\"color: #374151; text-decoration-color: #374151\">=</span><span style=\"color: #374151; text-decoration-color: #374151; font-style: italic\">False</span><span style=\"color: #374151; text-decoration-color: #374151\">, </span>\n",
              "<span style=\"color: #374151; text-decoration-color: #374151\">async_mode</span><span style=\"color: #374151; text-decoration-color: #374151\">=</span><span style=\"color: #374151; text-decoration-color: #374151; font-style: italic\">True</span><span style=\"color: #374151; text-decoration-color: #374151; font-weight: bold\">)</span><span style=\"color: #374151; text-decoration-color: #374151\">...</span>\n",
              "</pre>\n"
            ]
          },
          "metadata": {}
        },
        {
          "output_type": "stream",
          "name": "stdout",
          "text": [
            "Event loop is already running. Applying nest_asyncio patch to allow async execution...\n"
          ]
        },
        {
          "output_type": "stream",
          "name": "stderr",
          "text": [
            "Evaluating 1 test case(s) in parallel: |██████████|100% (1/1) [Time Taken: 00:02,  2.56s/test case]"
          ]
        },
        {
          "output_type": "stream",
          "name": "stdout",
          "text": [
            "\n",
            "======================================================================\n",
            "\n",
            "Metrics Summary\n",
            "\n",
            "  - ✅ Correctness (GEval) (score: 1.0, threshold: 0.5, strict: False, evaluation model: mistral-large-latest, reason: The actual output provides detailed information about the modalities for TCC, including specific types and references to the PPC article. It does not contradict any facts in the expected output and provides sufficient detail., error: None)\n",
            "\n",
            "For test case:\n",
            "\n",
            "  - input: Quais são as modalidades para realizar o TCC\n",
            "  - actual output: As modalidades para realizar o TCC são:\n",
            "\n",
            "1. Pesquisa científica básica ou aplicada\n",
            "2. Inovação e Negócios\n",
            "3. Comprovação de experiências\n",
            "\n",
            "Essas informações podem ser encontradas no Artigo 13º do PPC, que descreve as modalidades e suas respectivas características.\n",
            "  - expected output: Existem duas modalidades para realizar o Trabalho de Conclusão de Curso (TCC) no Curso de Ciência da Computação da UFFS, conforme especificado no contexto fornecido:\\n\\n1. Pesquisa científica básica ou aplicada\\n2. Inovação e Negócio\\n\\nA Modalidade Inovação e Negócio permite o desenvolvimento de um projeto denominado TCC Startup durante as disciplinas de TCC I e TCC II, com o requisito de inédito no curso. A estrutura mínima do TCC Startup é apresentada no Anexo IV deste regulamento.\\n\\nA Modalidade Pesquisa científica básica ou aplicada pode ser desenvolvida seguindo o formato de Monografia ou Artigo científico.\\n\\nA Modalidade Comprovação de experiências em atividades relevantes segue o formato de Compilação.\\n\\nPara a realização do TCC, o discente deverá seguir as orientações e normas de metodologia estabelecidas, além de cumprir os prazos e trâmites burocráticos relacionados.\n",
            "  - context: None\n",
            "  - retrieval context: ['\\n\\ninterdisciplinar conhecimentos vistos no decorrer do curso a um problema delimitado. Além <br><br>disso, proporcionar oportunidades para o discente ter experiências que contribuam na <br><br>1295  formação ética, social, cidadã e profissional. Como requisitos para cursar o TCC I, o discente <br><br>deve ter cursado os CCRs de Planejamento e Gestão de Projetos e Sistemas Operacionais. <br><br>No TCC I, o discente deve escolher o tema de interesse e escrever um projeto de <br><br>pesquisa, o qual deve ser aprovado pelo seu orientador e pelo docente da disciplina de TCC I. <br><br>O Colegiado do Curso deve discutir e deliberar sobre o nível de contribuição esperado <br><br>1300  periodicamente. Para ser aprovado em TCC I, o discente deverá defender seu projeto perante <br><br>uma banca constituída pelo orientador (presidente) e, no mínimo, mais dois membros <br><br>sugeridos pelo orientador ou pelo docente do componente. <br><br>Se aprovado em TCC I, o discente poderá efetuar matrícula em TCC II. Ao final da  \\n\\n2275  **Art. 26º**São responsabilidades do discente: <br><br>\\uf0b7 Desenvolver todas as etapas do TCC de forma independente e pró-ativa, buscando <br><br>soluções e informações necessárias ao andamento de seu trabalho; <br><br>\\uf0b7 Frequentar os encontros de orientação; <br><br>\\uf0b7 Seguir rigorosamente todas as atividades indicadas pelo docente responsável e pelo <br><br>2280  docente orientador; <br><br>\\uf0b7 Elaborar o trabalho de acordo com as normas de metodologia vigentes e neste <br><br>regulamento; <br><br>\\uf0b7 Cumprir as datas estabelecidas no cronograma de TCC; <br><br>Projeto Pedagógico do Curso de Ciência Da Computação,*Campus*Chapecó. <br><br>182  \\n\\n**§ 3º**A Tabela 3 apresenta os formatos permitidos em cada modalidade e o requisito <br><br>2100  necessário para a proposição de TCC na respectiva modalidade. <br><br>Tabela 3 - Modalidades e respectivos formatos de documentação de resultados <br><br>| TCC | Modalidade | Formato | Materiais |\\n|---|---|---|---|\\n| TCC | Modalidade | Formato | Materiais |\\n<br><br>Projeto Pedagógico do Curso de Ciência Da Computação,*Campus*Chapecó. <br><br>1050  175 ', '\\n\\nDRAFT <br><br>2140  **Art. 13º**As modalidades descritas na Tabela 1 são regidas conforme o seguinte: <br><br>**§ 1º**Pesquisa científica básica ou aplicada refere-se a atividades realizadas no contexto de <br><br>aplicação de método científico para investigação de um problema relevante para a área e <br><br>suas interdisciplinaridades. <br><br>**§ 2º**Inovação e Negócios refere-se à atividade realizada pelo discente no contexto Industrial <br><br>2145  e Mercadológico, seja esse baseado em empreendedorismo, inovação ou no meio <br><br>empresarial, desde que gere um produto entregável. <br><br>**§ 3º**Comprovação de experiências refere-se às atividades realizadas pelo discente durante o <br><br>curso que comprovem um substancial crescimento profissional e a contribuição no meio na <br><br>qual a atividade foi conduzida. <br><br>2150 <br><br>**Art. 14º**Para realizar o TCC na modalidade Comprovação de Experiências em Atividades <br><br>Relevantes deve-se seguir o disposto a seguir:  \\n\\n**ANEXO III - FORMULÁRIO DE SOLICITAÇÃO PARA REALIZAR**<br><br>**TRABALHO DE CONCLUSÃO NA MODALIDADE DE INOVAÇÃO E NEGÓCIO**<br><br>**(TCC STARTUP)**<br><br>2375  Nome discente:__ ____ ____ ____ ____ ____ ____ ____ ____ ____Matrícula:__ ____ ____ __<br><br>Docente orientador:__ ____ ____ ____ ____ ____ ____ ____ __ \\n\\n\\n\\nAlém disso, a atuação do docente nos componentes curriculares, sempre que viável, <br><br>deve buscar a integração com o conhecimento já construído (os requisitos) e com os demais <br><br>componentes nos quais seu conteúdo será usado como base. O Trabalho de Conclusão de <br><br>Curso, componente curricular obrigatório, é a principal atividade na qual a aquisição <br><br>680  multidisciplinar do conhecimento ocorre de modo mais expressivo. ', '\\n\\n**Art. 1º**O Trabalho de Conclusão de Curso (TCC) do curso de graduação em Ciência da <br><br>2035  Computação da Universidade Federal da Fronteira Sul (UFFS) será regido por este <br><br>Regulamento de Trabalho de Conclusão de Curso.  \\n\\n**Art. 4º**O Trabalho de Conclusão de Curso tem como objetivos: <br><br>I.  oferecer ao discente condições para experiências teórico-práticas em consonância com <br><br>seu aprendizado no curso, visando complementar o processo de formação profissional; <br><br>II.  fomentar o desenvolvimento da capacidade científica, tecnológica, inovadora, <br><br>empreendedora e social na área de computação e suas interdisciplinaridades; <br><br>III.  desenvolver a autonomia do discente na execução de um projeto; <br><br>IV.  subsidiar o processo de ensino, contribuindo para realimentação dos conteúdos <br><br>programáticos dos componentes curriculares integrantes do currículo; <br><br>V.  garantir a abordagem de temas relacionados à prática profissional, inserida na dinâmica <br><br>Projeto Pedagógico do Curso de Ciência Da Computação,*Campus*Chapecó. <br><br>173  \\n\\n**ANEXO I - REGULAMENTO DAS ATIVIDADES CURRICULARES**\\n**COMPLEMENTARES**<br><br>1910  **ANEXO II - REGULAMENTO DO TRABALHO DE CONCLUSÃO DE CURSO**<br><br>**ANEXO III - REGULAMENTO DAS ATIVIDADES CURRICULARES DE EXTENSÃO**\\n**E CULTURA**<br><br>1915 <br><br>**ANEXO IV - REGULAMENTO DE APROVEITAMENTO POR EQUIVALÊNCIA DE**\\n**COMPONENTE CURRICULAR**', '\\n\\n| GEX657 | Trabalho de conclusão de\\ncurso I | 10 |  | Trabalho de conclusão de\\ncurso I | 04 |\\n|---|---|---|---|---|---|\\n| GEX657 | Trabalho de conclusão de curso I | 10 |   | Trabalho de conclusão de curso I | 04 |\\n| GCH290 | Iniciação à prática científica | 04 |   |   |   |\\n| GEX658 | Trabalho de conclusão de curso II | 12 |   | Trabalho de conclusão de curso II | 06 |\\n']\n",
            "\n",
            "======================================================================\n",
            "\n",
            "Overall Metric Pass Rates\n",
            "\n",
            "Correctness (GEval): 100.00% pass rate\n",
            "\n",
            "======================================================================\n",
            "\n"
          ]
        },
        {
          "output_type": "stream",
          "name": "stderr",
          "text": [
            "\n"
          ]
        },
        {
          "output_type": "display_data",
          "data": {
            "text/plain": [
              "\u001b[38;2;5;245;141m✓\u001b[0m Tests finished 🎉! Run \u001b[32m'deepeval login'\u001b[0m to save and analyze evaluation results on Confident AI. \n",
              "‼️  Friendly reminder 😇: You can also run evaluations with ALL of deepeval's metrics directly on Confident AI \n",
              "instead.\n"
            ],
            "text/html": [
              "<pre style=\"white-space:pre;overflow-x:auto;line-height:normal;font-family:Menlo,'DejaVu Sans Mono',consolas,'Courier New',monospace\"><span style=\"color: #05f58d; text-decoration-color: #05f58d\">✓</span> Tests finished 🎉! Run <span style=\"color: #008000; text-decoration-color: #008000\">'deepeval login'</span> to save and analyze evaluation results on Confident AI. \n",
              "‼️  Friendly reminder 😇: You can also run evaluations with ALL of deepeval's metrics directly on Confident AI \n",
              "instead.\n",
              "</pre>\n"
            ]
          },
          "metadata": {}
        },
        {
          "output_type": "display_data",
          "data": {
            "text/plain": [
              "✨ You're running DeepEval's latest \u001b[38;2;106;0;255mAnswer Relevancy Metric\u001b[0m! \u001b[1;38;2;55;65;81m(\u001b[0m\u001b[38;2;55;65;81musing mistral-large-latest, \u001b[0m\u001b[38;2;55;65;81mstrict\u001b[0m\u001b[38;2;55;65;81m=\u001b[0m\u001b[3;38;2;55;65;81mFalse\u001b[0m\u001b[38;2;55;65;81m, \u001b[0m\n",
              "\u001b[38;2;55;65;81masync_mode\u001b[0m\u001b[38;2;55;65;81m=\u001b[0m\u001b[3;38;2;55;65;81mTrue\u001b[0m\u001b[1;38;2;55;65;81m)\u001b[0m\u001b[38;2;55;65;81m...\u001b[0m\n"
            ],
            "text/html": [
              "<pre style=\"white-space:pre;overflow-x:auto;line-height:normal;font-family:Menlo,'DejaVu Sans Mono',consolas,'Courier New',monospace\">✨ You're running DeepEval's latest <span style=\"color: #6a00ff; text-decoration-color: #6a00ff\">Answer Relevancy Metric</span>! <span style=\"color: #374151; text-decoration-color: #374151; font-weight: bold\">(</span><span style=\"color: #374151; text-decoration-color: #374151\">using mistral-large-latest, </span><span style=\"color: #374151; text-decoration-color: #374151\">strict</span><span style=\"color: #374151; text-decoration-color: #374151\">=</span><span style=\"color: #374151; text-decoration-color: #374151; font-style: italic\">False</span><span style=\"color: #374151; text-decoration-color: #374151\">, </span>\n",
              "<span style=\"color: #374151; text-decoration-color: #374151\">async_mode</span><span style=\"color: #374151; text-decoration-color: #374151\">=</span><span style=\"color: #374151; text-decoration-color: #374151; font-style: italic\">True</span><span style=\"color: #374151; text-decoration-color: #374151; font-weight: bold\">)</span><span style=\"color: #374151; text-decoration-color: #374151\">...</span>\n",
              "</pre>\n"
            ]
          },
          "metadata": {}
        },
        {
          "output_type": "stream",
          "name": "stdout",
          "text": [
            "Event loop is already running. Applying nest_asyncio patch to allow async execution...\n"
          ]
        },
        {
          "output_type": "stream",
          "name": "stderr",
          "text": [
            "Evaluating 1 test case(s) in parallel: |██████████|100% (1/1) [Time Taken: 00:08,  8.49s/test case]"
          ]
        },
        {
          "output_type": "stream",
          "name": "stdout",
          "text": [
            "\n",
            "======================================================================\n",
            "\n",
            "Metrics Summary\n",
            "\n",
            "  - ✅ Answer Relevancy (score: 1.0, threshold: 0.5, strict: False, evaluation model: mistral-large-latest, reason: The score is 1.00 because the response perfectly addresses the question about the modalities for completing the TCC., error: None)\n",
            "\n",
            "For test case:\n",
            "\n",
            "  - input: Quais são as modalidades para realizar o TCC\n",
            "  - actual output: As modalidades para realizar o TCC são:\n",
            "\n",
            "1. Pesquisa científica básica ou aplicada\n",
            "2. Inovação e Negócios\n",
            "3. Comprovação de experiências\n",
            "\n",
            "Essas informações podem ser encontradas no Artigo 13º do PPC, que descreve as modalidades e suas respectivas características.\n",
            "  - expected output: Existem duas modalidades para realizar o Trabalho de Conclusão de Curso (TCC) no Curso de Ciência da Computação da UFFS, conforme especificado no contexto fornecido:\\n\\n1. Pesquisa científica básica ou aplicada\\n2. Inovação e Negócio\\n\\nA Modalidade Inovação e Negócio permite o desenvolvimento de um projeto denominado TCC Startup durante as disciplinas de TCC I e TCC II, com o requisito de inédito no curso. A estrutura mínima do TCC Startup é apresentada no Anexo IV deste regulamento.\\n\\nA Modalidade Pesquisa científica básica ou aplicada pode ser desenvolvida seguindo o formato de Monografia ou Artigo científico.\\n\\nA Modalidade Comprovação de experiências em atividades relevantes segue o formato de Compilação.\\n\\nPara a realização do TCC, o discente deverá seguir as orientações e normas de metodologia estabelecidas, além de cumprir os prazos e trâmites burocráticos relacionados.\n",
            "  - context: None\n",
            "  - retrieval context: ['\\n\\ninterdisciplinar conhecimentos vistos no decorrer do curso a um problema delimitado. Além <br><br>disso, proporcionar oportunidades para o discente ter experiências que contribuam na <br><br>1295  formação ética, social, cidadã e profissional. Como requisitos para cursar o TCC I, o discente <br><br>deve ter cursado os CCRs de Planejamento e Gestão de Projetos e Sistemas Operacionais. <br><br>No TCC I, o discente deve escolher o tema de interesse e escrever um projeto de <br><br>pesquisa, o qual deve ser aprovado pelo seu orientador e pelo docente da disciplina de TCC I. <br><br>O Colegiado do Curso deve discutir e deliberar sobre o nível de contribuição esperado <br><br>1300  periodicamente. Para ser aprovado em TCC I, o discente deverá defender seu projeto perante <br><br>uma banca constituída pelo orientador (presidente) e, no mínimo, mais dois membros <br><br>sugeridos pelo orientador ou pelo docente do componente. <br><br>Se aprovado em TCC I, o discente poderá efetuar matrícula em TCC II. Ao final da  \\n\\n2275  **Art. 26º**São responsabilidades do discente: <br><br>\\uf0b7 Desenvolver todas as etapas do TCC de forma independente e pró-ativa, buscando <br><br>soluções e informações necessárias ao andamento de seu trabalho; <br><br>\\uf0b7 Frequentar os encontros de orientação; <br><br>\\uf0b7 Seguir rigorosamente todas as atividades indicadas pelo docente responsável e pelo <br><br>2280  docente orientador; <br><br>\\uf0b7 Elaborar o trabalho de acordo com as normas de metodologia vigentes e neste <br><br>regulamento; <br><br>\\uf0b7 Cumprir as datas estabelecidas no cronograma de TCC; <br><br>Projeto Pedagógico do Curso de Ciência Da Computação,*Campus*Chapecó. <br><br>182  \\n\\n**§ 3º**A Tabela 3 apresenta os formatos permitidos em cada modalidade e o requisito <br><br>2100  necessário para a proposição de TCC na respectiva modalidade. <br><br>Tabela 3 - Modalidades e respectivos formatos de documentação de resultados <br><br>| TCC | Modalidade | Formato | Materiais |\\n|---|---|---|---|\\n| TCC | Modalidade | Formato | Materiais |\\n<br><br>Projeto Pedagógico do Curso de Ciência Da Computação,*Campus*Chapecó. <br><br>1050  175 ', '\\n\\nDRAFT <br><br>2140  **Art. 13º**As modalidades descritas na Tabela 1 são regidas conforme o seguinte: <br><br>**§ 1º**Pesquisa científica básica ou aplicada refere-se a atividades realizadas no contexto de <br><br>aplicação de método científico para investigação de um problema relevante para a área e <br><br>suas interdisciplinaridades. <br><br>**§ 2º**Inovação e Negócios refere-se à atividade realizada pelo discente no contexto Industrial <br><br>2145  e Mercadológico, seja esse baseado em empreendedorismo, inovação ou no meio <br><br>empresarial, desde que gere um produto entregável. <br><br>**§ 3º**Comprovação de experiências refere-se às atividades realizadas pelo discente durante o <br><br>curso que comprovem um substancial crescimento profissional e a contribuição no meio na <br><br>qual a atividade foi conduzida. <br><br>2150 <br><br>**Art. 14º**Para realizar o TCC na modalidade Comprovação de Experiências em Atividades <br><br>Relevantes deve-se seguir o disposto a seguir:  \\n\\n**ANEXO III - FORMULÁRIO DE SOLICITAÇÃO PARA REALIZAR**<br><br>**TRABALHO DE CONCLUSÃO NA MODALIDADE DE INOVAÇÃO E NEGÓCIO**<br><br>**(TCC STARTUP)**<br><br>2375  Nome discente:__ ____ ____ ____ ____ ____ ____ ____ ____ ____Matrícula:__ ____ ____ __<br><br>Docente orientador:__ ____ ____ ____ ____ ____ ____ ____ __ \\n\\n\\n\\nAlém disso, a atuação do docente nos componentes curriculares, sempre que viável, <br><br>deve buscar a integração com o conhecimento já construído (os requisitos) e com os demais <br><br>componentes nos quais seu conteúdo será usado como base. O Trabalho de Conclusão de <br><br>Curso, componente curricular obrigatório, é a principal atividade na qual a aquisição <br><br>680  multidisciplinar do conhecimento ocorre de modo mais expressivo. ', '\\n\\n**Art. 1º**O Trabalho de Conclusão de Curso (TCC) do curso de graduação em Ciência da <br><br>2035  Computação da Universidade Federal da Fronteira Sul (UFFS) será regido por este <br><br>Regulamento de Trabalho de Conclusão de Curso.  \\n\\n**Art. 4º**O Trabalho de Conclusão de Curso tem como objetivos: <br><br>I.  oferecer ao discente condições para experiências teórico-práticas em consonância com <br><br>seu aprendizado no curso, visando complementar o processo de formação profissional; <br><br>II.  fomentar o desenvolvimento da capacidade científica, tecnológica, inovadora, <br><br>empreendedora e social na área de computação e suas interdisciplinaridades; <br><br>III.  desenvolver a autonomia do discente na execução de um projeto; <br><br>IV.  subsidiar o processo de ensino, contribuindo para realimentação dos conteúdos <br><br>programáticos dos componentes curriculares integrantes do currículo; <br><br>V.  garantir a abordagem de temas relacionados à prática profissional, inserida na dinâmica <br><br>Projeto Pedagógico do Curso de Ciência Da Computação,*Campus*Chapecó. <br><br>173  \\n\\n**ANEXO I - REGULAMENTO DAS ATIVIDADES CURRICULARES**\\n**COMPLEMENTARES**<br><br>1910  **ANEXO II - REGULAMENTO DO TRABALHO DE CONCLUSÃO DE CURSO**<br><br>**ANEXO III - REGULAMENTO DAS ATIVIDADES CURRICULARES DE EXTENSÃO**\\n**E CULTURA**<br><br>1915 <br><br>**ANEXO IV - REGULAMENTO DE APROVEITAMENTO POR EQUIVALÊNCIA DE**\\n**COMPONENTE CURRICULAR**', '\\n\\n| GEX657 | Trabalho de conclusão de\\ncurso I | 10 |  | Trabalho de conclusão de\\ncurso I | 04 |\\n|---|---|---|---|---|---|\\n| GEX657 | Trabalho de conclusão de curso I | 10 |   | Trabalho de conclusão de curso I | 04 |\\n| GCH290 | Iniciação à prática científica | 04 |   |   |   |\\n| GEX658 | Trabalho de conclusão de curso II | 12 |   | Trabalho de conclusão de curso II | 06 |\\n']\n",
            "\n",
            "======================================================================\n",
            "\n",
            "Overall Metric Pass Rates\n",
            "\n",
            "Answer Relevancy: 100.00% pass rate\n",
            "\n",
            "======================================================================\n",
            "\n"
          ]
        },
        {
          "output_type": "stream",
          "name": "stderr",
          "text": [
            "\n"
          ]
        },
        {
          "output_type": "display_data",
          "data": {
            "text/plain": [
              "\u001b[38;2;5;245;141m✓\u001b[0m Tests finished 🎉! Run \u001b[32m'deepeval login'\u001b[0m to save and analyze evaluation results on Confident AI. \n",
              "‼️  Friendly reminder 😇: You can also run evaluations with ALL of deepeval's metrics directly on Confident AI \n",
              "instead.\n"
            ],
            "text/html": [
              "<pre style=\"white-space:pre;overflow-x:auto;line-height:normal;font-family:Menlo,'DejaVu Sans Mono',consolas,'Courier New',monospace\"><span style=\"color: #05f58d; text-decoration-color: #05f58d\">✓</span> Tests finished 🎉! Run <span style=\"color: #008000; text-decoration-color: #008000\">'deepeval login'</span> to save and analyze evaluation results on Confident AI. \n",
              "‼️  Friendly reminder 😇: You can also run evaluations with ALL of deepeval's metrics directly on Confident AI \n",
              "instead.\n",
              "</pre>\n"
            ]
          },
          "metadata": {}
        },
        {
          "output_type": "display_data",
          "data": {
            "text/plain": [
              "✨ You're running DeepEval's latest \u001b[38;2;106;0;255mContextual Recall Metric\u001b[0m! \u001b[1;38;2;55;65;81m(\u001b[0m\u001b[38;2;55;65;81musing llama-\u001b[0m\u001b[1;38;2;55;65;81m3.1\u001b[0m\u001b[38;2;55;65;81m-70b-versatile, \u001b[0m\u001b[38;2;55;65;81mstrict\u001b[0m\u001b[38;2;55;65;81m=\u001b[0m\u001b[3;38;2;55;65;81mFalse\u001b[0m\u001b[38;2;55;65;81m, \u001b[0m\n",
              "\u001b[38;2;55;65;81masync_mode\u001b[0m\u001b[38;2;55;65;81m=\u001b[0m\u001b[3;38;2;55;65;81mTrue\u001b[0m\u001b[1;38;2;55;65;81m)\u001b[0m\u001b[38;2;55;65;81m...\u001b[0m\n"
            ],
            "text/html": [
              "<pre style=\"white-space:pre;overflow-x:auto;line-height:normal;font-family:Menlo,'DejaVu Sans Mono',consolas,'Courier New',monospace\">✨ You're running DeepEval's latest <span style=\"color: #6a00ff; text-decoration-color: #6a00ff\">Contextual Recall Metric</span>! <span style=\"color: #374151; text-decoration-color: #374151; font-weight: bold\">(</span><span style=\"color: #374151; text-decoration-color: #374151\">using llama-</span><span style=\"color: #374151; text-decoration-color: #374151; font-weight: bold\">3.1</span><span style=\"color: #374151; text-decoration-color: #374151\">-70b-versatile, </span><span style=\"color: #374151; text-decoration-color: #374151\">strict</span><span style=\"color: #374151; text-decoration-color: #374151\">=</span><span style=\"color: #374151; text-decoration-color: #374151; font-style: italic\">False</span><span style=\"color: #374151; text-decoration-color: #374151\">, </span>\n",
              "<span style=\"color: #374151; text-decoration-color: #374151\">async_mode</span><span style=\"color: #374151; text-decoration-color: #374151\">=</span><span style=\"color: #374151; text-decoration-color: #374151; font-style: italic\">True</span><span style=\"color: #374151; text-decoration-color: #374151; font-weight: bold\">)</span><span style=\"color: #374151; text-decoration-color: #374151\">...</span>\n",
              "</pre>\n"
            ]
          },
          "metadata": {}
        },
        {
          "output_type": "stream",
          "name": "stdout",
          "text": [
            "Event loop is already running. Applying nest_asyncio patch to allow async execution...\n"
          ]
        },
        {
          "output_type": "stream",
          "name": "stderr",
          "text": [
            "Evaluating 1 test case(s) in parallel: |██████████|100% (1/1) [Time Taken: 00:01,  1.97s/test case]"
          ]
        },
        {
          "output_type": "stream",
          "name": "stdout",
          "text": [
            "\n",
            "======================================================================\n",
            "\n",
            "Metrics Summary\n",
            "\n",
            "  - ✅ Contextual Recall (score: 0.8, threshold: 0.25, strict: False, evaluation model: llama-3.1-70b-versatile, reason: None, error: None)\n",
            "\n",
            "For test case:\n",
            "\n",
            "  - input: Quais são as modalidades para realizar o TCC\n",
            "  - actual output: As modalidades para realizar o TCC são:\n",
            "\n",
            "1. Pesquisa científica básica ou aplicada\n",
            "2. Inovação e Negócios\n",
            "3. Comprovação de experiências\n",
            "\n",
            "Essas informações podem ser encontradas no Artigo 13º do PPC, que descreve as modalidades e suas respectivas características.\n",
            "  - expected output: Existem duas modalidades para realizar o Trabalho de Conclusão de Curso (TCC) no Curso de Ciência da Computação da UFFS, conforme especificado no contexto fornecido:\\n\\n1. Pesquisa científica básica ou aplicada\\n2. Inovação e Negócio\\n\\nA Modalidade Inovação e Negócio permite o desenvolvimento de um projeto denominado TCC Startup durante as disciplinas de TCC I e TCC II, com o requisito de inédito no curso. A estrutura mínima do TCC Startup é apresentada no Anexo IV deste regulamento.\\n\\nA Modalidade Pesquisa científica básica ou aplicada pode ser desenvolvida seguindo o formato de Monografia ou Artigo científico.\\n\\nA Modalidade Comprovação de experiências em atividades relevantes segue o formato de Compilação.\\n\\nPara a realização do TCC, o discente deverá seguir as orientações e normas de metodologia estabelecidas, além de cumprir os prazos e trâmites burocráticos relacionados.\n",
            "  - context: None\n",
            "  - retrieval context: ['\\n\\ninterdisciplinar conhecimentos vistos no decorrer do curso a um problema delimitado. Além <br><br>disso, proporcionar oportunidades para o discente ter experiências que contribuam na <br><br>1295  formação ética, social, cidadã e profissional. Como requisitos para cursar o TCC I, o discente <br><br>deve ter cursado os CCRs de Planejamento e Gestão de Projetos e Sistemas Operacionais. <br><br>No TCC I, o discente deve escolher o tema de interesse e escrever um projeto de <br><br>pesquisa, o qual deve ser aprovado pelo seu orientador e pelo docente da disciplina de TCC I. <br><br>O Colegiado do Curso deve discutir e deliberar sobre o nível de contribuição esperado <br><br>1300  periodicamente. Para ser aprovado em TCC I, o discente deverá defender seu projeto perante <br><br>uma banca constituída pelo orientador (presidente) e, no mínimo, mais dois membros <br><br>sugeridos pelo orientador ou pelo docente do componente. <br><br>Se aprovado em TCC I, o discente poderá efetuar matrícula em TCC II. Ao final da  \\n\\n2275  **Art. 26º**São responsabilidades do discente: <br><br>\\uf0b7 Desenvolver todas as etapas do TCC de forma independente e pró-ativa, buscando <br><br>soluções e informações necessárias ao andamento de seu trabalho; <br><br>\\uf0b7 Frequentar os encontros de orientação; <br><br>\\uf0b7 Seguir rigorosamente todas as atividades indicadas pelo docente responsável e pelo <br><br>2280  docente orientador; <br><br>\\uf0b7 Elaborar o trabalho de acordo com as normas de metodologia vigentes e neste <br><br>regulamento; <br><br>\\uf0b7 Cumprir as datas estabelecidas no cronograma de TCC; <br><br>Projeto Pedagógico do Curso de Ciência Da Computação,*Campus*Chapecó. <br><br>182  \\n\\n**§ 3º**A Tabela 3 apresenta os formatos permitidos em cada modalidade e o requisito <br><br>2100  necessário para a proposição de TCC na respectiva modalidade. <br><br>Tabela 3 - Modalidades e respectivos formatos de documentação de resultados <br><br>| TCC | Modalidade | Formato | Materiais |\\n|---|---|---|---|\\n| TCC | Modalidade | Formato | Materiais |\\n<br><br>Projeto Pedagógico do Curso de Ciência Da Computação,*Campus*Chapecó. <br><br>1050  175 ', '\\n\\nDRAFT <br><br>2140  **Art. 13º**As modalidades descritas na Tabela 1 são regidas conforme o seguinte: <br><br>**§ 1º**Pesquisa científica básica ou aplicada refere-se a atividades realizadas no contexto de <br><br>aplicação de método científico para investigação de um problema relevante para a área e <br><br>suas interdisciplinaridades. <br><br>**§ 2º**Inovação e Negócios refere-se à atividade realizada pelo discente no contexto Industrial <br><br>2145  e Mercadológico, seja esse baseado em empreendedorismo, inovação ou no meio <br><br>empresarial, desde que gere um produto entregável. <br><br>**§ 3º**Comprovação de experiências refere-se às atividades realizadas pelo discente durante o <br><br>curso que comprovem um substancial crescimento profissional e a contribuição no meio na <br><br>qual a atividade foi conduzida. <br><br>2150 <br><br>**Art. 14º**Para realizar o TCC na modalidade Comprovação de Experiências em Atividades <br><br>Relevantes deve-se seguir o disposto a seguir:  \\n\\n**ANEXO III - FORMULÁRIO DE SOLICITAÇÃO PARA REALIZAR**<br><br>**TRABALHO DE CONCLUSÃO NA MODALIDADE DE INOVAÇÃO E NEGÓCIO**<br><br>**(TCC STARTUP)**<br><br>2375  Nome discente:__ ____ ____ ____ ____ ____ ____ ____ ____ ____Matrícula:__ ____ ____ __<br><br>Docente orientador:__ ____ ____ ____ ____ ____ ____ ____ __ \\n\\n\\n\\nAlém disso, a atuação do docente nos componentes curriculares, sempre que viável, <br><br>deve buscar a integração com o conhecimento já construído (os requisitos) e com os demais <br><br>componentes nos quais seu conteúdo será usado como base. O Trabalho de Conclusão de <br><br>Curso, componente curricular obrigatório, é a principal atividade na qual a aquisição <br><br>680  multidisciplinar do conhecimento ocorre de modo mais expressivo. ', '\\n\\n**Art. 1º**O Trabalho de Conclusão de Curso (TCC) do curso de graduação em Ciência da <br><br>2035  Computação da Universidade Federal da Fronteira Sul (UFFS) será regido por este <br><br>Regulamento de Trabalho de Conclusão de Curso.  \\n\\n**Art. 4º**O Trabalho de Conclusão de Curso tem como objetivos: <br><br>I.  oferecer ao discente condições para experiências teórico-práticas em consonância com <br><br>seu aprendizado no curso, visando complementar o processo de formação profissional; <br><br>II.  fomentar o desenvolvimento da capacidade científica, tecnológica, inovadora, <br><br>empreendedora e social na área de computação e suas interdisciplinaridades; <br><br>III.  desenvolver a autonomia do discente na execução de um projeto; <br><br>IV.  subsidiar o processo de ensino, contribuindo para realimentação dos conteúdos <br><br>programáticos dos componentes curriculares integrantes do currículo; <br><br>V.  garantir a abordagem de temas relacionados à prática profissional, inserida na dinâmica <br><br>Projeto Pedagógico do Curso de Ciência Da Computação,*Campus*Chapecó. <br><br>173  \\n\\n**ANEXO I - REGULAMENTO DAS ATIVIDADES CURRICULARES**\\n**COMPLEMENTARES**<br><br>1910  **ANEXO II - REGULAMENTO DO TRABALHO DE CONCLUSÃO DE CURSO**<br><br>**ANEXO III - REGULAMENTO DAS ATIVIDADES CURRICULARES DE EXTENSÃO**\\n**E CULTURA**<br><br>1915 <br><br>**ANEXO IV - REGULAMENTO DE APROVEITAMENTO POR EQUIVALÊNCIA DE**\\n**COMPONENTE CURRICULAR**', '\\n\\n| GEX657 | Trabalho de conclusão de\\ncurso I | 10 |  | Trabalho de conclusão de\\ncurso I | 04 |\\n|---|---|---|---|---|---|\\n| GEX657 | Trabalho de conclusão de curso I | 10 |   | Trabalho de conclusão de curso I | 04 |\\n| GCH290 | Iniciação à prática científica | 04 |   |   |   |\\n| GEX658 | Trabalho de conclusão de curso II | 12 |   | Trabalho de conclusão de curso II | 06 |\\n']\n",
            "\n",
            "======================================================================\n",
            "\n",
            "Overall Metric Pass Rates\n",
            "\n",
            "Contextual Recall: 100.00% pass rate\n",
            "\n",
            "======================================================================\n",
            "\n"
          ]
        },
        {
          "output_type": "stream",
          "name": "stderr",
          "text": [
            "\n"
          ]
        },
        {
          "output_type": "display_data",
          "data": {
            "text/plain": [
              "\u001b[38;2;5;245;141m✓\u001b[0m Tests finished 🎉! Run \u001b[32m'deepeval login'\u001b[0m to save and analyze evaluation results on Confident AI. \n",
              "‼️  Friendly reminder 😇: You can also run evaluations with ALL of deepeval's metrics directly on Confident AI \n",
              "instead.\n"
            ],
            "text/html": [
              "<pre style=\"white-space:pre;overflow-x:auto;line-height:normal;font-family:Menlo,'DejaVu Sans Mono',consolas,'Courier New',monospace\"><span style=\"color: #05f58d; text-decoration-color: #05f58d\">✓</span> Tests finished 🎉! Run <span style=\"color: #008000; text-decoration-color: #008000\">'deepeval login'</span> to save and analyze evaluation results on Confident AI. \n",
              "‼️  Friendly reminder 😇: You can also run evaluations with ALL of deepeval's metrics directly on Confident AI \n",
              "instead.\n",
              "</pre>\n"
            ]
          },
          "metadata": {}
        },
        {
          "output_type": "display_data",
          "data": {
            "text/plain": [
              "✨ You're running DeepEval's latest \u001b[38;2;106;0;255mFaithfulness Metric\u001b[0m! \u001b[1;38;2;55;65;81m(\u001b[0m\u001b[38;2;55;65;81musing mistral-large-latest, \u001b[0m\u001b[38;2;55;65;81mstrict\u001b[0m\u001b[38;2;55;65;81m=\u001b[0m\u001b[3;38;2;55;65;81mFalse\u001b[0m\u001b[38;2;55;65;81m, \u001b[0m\n",
              "\u001b[38;2;55;65;81masync_mode\u001b[0m\u001b[38;2;55;65;81m=\u001b[0m\u001b[3;38;2;55;65;81mTrue\u001b[0m\u001b[1;38;2;55;65;81m)\u001b[0m\u001b[38;2;55;65;81m...\u001b[0m\n"
            ],
            "text/html": [
              "<pre style=\"white-space:pre;overflow-x:auto;line-height:normal;font-family:Menlo,'DejaVu Sans Mono',consolas,'Courier New',monospace\">✨ You're running DeepEval's latest <span style=\"color: #6a00ff; text-decoration-color: #6a00ff\">Faithfulness Metric</span>! <span style=\"color: #374151; text-decoration-color: #374151; font-weight: bold\">(</span><span style=\"color: #374151; text-decoration-color: #374151\">using mistral-large-latest, </span><span style=\"color: #374151; text-decoration-color: #374151\">strict</span><span style=\"color: #374151; text-decoration-color: #374151\">=</span><span style=\"color: #374151; text-decoration-color: #374151; font-style: italic\">False</span><span style=\"color: #374151; text-decoration-color: #374151\">, </span>\n",
              "<span style=\"color: #374151; text-decoration-color: #374151\">async_mode</span><span style=\"color: #374151; text-decoration-color: #374151\">=</span><span style=\"color: #374151; text-decoration-color: #374151; font-style: italic\">True</span><span style=\"color: #374151; text-decoration-color: #374151; font-weight: bold\">)</span><span style=\"color: #374151; text-decoration-color: #374151\">...</span>\n",
              "</pre>\n"
            ]
          },
          "metadata": {}
        },
        {
          "output_type": "stream",
          "name": "stdout",
          "text": [
            "Event loop is already running. Applying nest_asyncio patch to allow async execution...\n"
          ]
        },
        {
          "output_type": "stream",
          "name": "stderr",
          "text": [
            "\rEvaluating 1 test case(s) in parallel: |          |  0% (0/1) [Time Taken: 00:00, ?test case/s]"
          ]
        },
        {
          "output_type": "stream",
          "name": "stdout",
          "text": [
            "3\n"
          ]
        },
        {
          "output_type": "stream",
          "name": "stderr",
          "text": [
            "Evaluating 1 test case(s) in parallel: |██████████|100% (1/1) [Time Taken: 00:09,  9.24s/test case]"
          ]
        },
        {
          "output_type": "stream",
          "name": "stdout",
          "text": [
            "\n",
            "======================================================================\n",
            "\n",
            "Metrics Summary\n",
            "\n",
            "  - ✅ Faithfulness (score: 1.0, threshold: 0.5, strict: False, evaluation model: mistral-large-latest, reason: The score is 1.00 because there are no contradictions! Great job!, error: None)\n",
            "\n",
            "For test case:\n",
            "\n",
            "  - input: Quais são as modalidades para realizar o TCC\n",
            "  - actual output: As modalidades para realizar o TCC são:\n",
            "\n",
            "1. Pesquisa científica básica ou aplicada\n",
            "2. Inovação e Negócios\n",
            "3. Comprovação de experiências\n",
            "\n",
            "Essas informações podem ser encontradas no Artigo 13º do PPC, que descreve as modalidades e suas respectivas características.\n",
            "  - expected output: Existem duas modalidades para realizar o Trabalho de Conclusão de Curso (TCC) no Curso de Ciência da Computação da UFFS, conforme especificado no contexto fornecido:\\n\\n1. Pesquisa científica básica ou aplicada\\n2. Inovação e Negócio\\n\\nA Modalidade Inovação e Negócio permite o desenvolvimento de um projeto denominado TCC Startup durante as disciplinas de TCC I e TCC II, com o requisito de inédito no curso. A estrutura mínima do TCC Startup é apresentada no Anexo IV deste regulamento.\\n\\nA Modalidade Pesquisa científica básica ou aplicada pode ser desenvolvida seguindo o formato de Monografia ou Artigo científico.\\n\\nA Modalidade Comprovação de experiências em atividades relevantes segue o formato de Compilação.\\n\\nPara a realização do TCC, o discente deverá seguir as orientações e normas de metodologia estabelecidas, além de cumprir os prazos e trâmites burocráticos relacionados.\n",
            "  - context: None\n",
            "  - retrieval context: ['\\n\\ninterdisciplinar conhecimentos vistos no decorrer do curso a um problema delimitado. Além <br><br>disso, proporcionar oportunidades para o discente ter experiências que contribuam na <br><br>1295  formação ética, social, cidadã e profissional. Como requisitos para cursar o TCC I, o discente <br><br>deve ter cursado os CCRs de Planejamento e Gestão de Projetos e Sistemas Operacionais. <br><br>No TCC I, o discente deve escolher o tema de interesse e escrever um projeto de <br><br>pesquisa, o qual deve ser aprovado pelo seu orientador e pelo docente da disciplina de TCC I. <br><br>O Colegiado do Curso deve discutir e deliberar sobre o nível de contribuição esperado <br><br>1300  periodicamente. Para ser aprovado em TCC I, o discente deverá defender seu projeto perante <br><br>uma banca constituída pelo orientador (presidente) e, no mínimo, mais dois membros <br><br>sugeridos pelo orientador ou pelo docente do componente. <br><br>Se aprovado em TCC I, o discente poderá efetuar matrícula em TCC II. Ao final da  \\n\\n2275  **Art. 26º**São responsabilidades do discente: <br><br>\\uf0b7 Desenvolver todas as etapas do TCC de forma independente e pró-ativa, buscando <br><br>soluções e informações necessárias ao andamento de seu trabalho; <br><br>\\uf0b7 Frequentar os encontros de orientação; <br><br>\\uf0b7 Seguir rigorosamente todas as atividades indicadas pelo docente responsável e pelo <br><br>2280  docente orientador; <br><br>\\uf0b7 Elaborar o trabalho de acordo com as normas de metodologia vigentes e neste <br><br>regulamento; <br><br>\\uf0b7 Cumprir as datas estabelecidas no cronograma de TCC; <br><br>Projeto Pedagógico do Curso de Ciência Da Computação,*Campus*Chapecó. <br><br>182  \\n\\n**§ 3º**A Tabela 3 apresenta os formatos permitidos em cada modalidade e o requisito <br><br>2100  necessário para a proposição de TCC na respectiva modalidade. <br><br>Tabela 3 - Modalidades e respectivos formatos de documentação de resultados <br><br>| TCC | Modalidade | Formato | Materiais |\\n|---|---|---|---|\\n| TCC | Modalidade | Formato | Materiais |\\n<br><br>Projeto Pedagógico do Curso de Ciência Da Computação,*Campus*Chapecó. <br><br>1050  175 ', '\\n\\nDRAFT <br><br>2140  **Art. 13º**As modalidades descritas na Tabela 1 são regidas conforme o seguinte: <br><br>**§ 1º**Pesquisa científica básica ou aplicada refere-se a atividades realizadas no contexto de <br><br>aplicação de método científico para investigação de um problema relevante para a área e <br><br>suas interdisciplinaridades. <br><br>**§ 2º**Inovação e Negócios refere-se à atividade realizada pelo discente no contexto Industrial <br><br>2145  e Mercadológico, seja esse baseado em empreendedorismo, inovação ou no meio <br><br>empresarial, desde que gere um produto entregável. <br><br>**§ 3º**Comprovação de experiências refere-se às atividades realizadas pelo discente durante o <br><br>curso que comprovem um substancial crescimento profissional e a contribuição no meio na <br><br>qual a atividade foi conduzida. <br><br>2150 <br><br>**Art. 14º**Para realizar o TCC na modalidade Comprovação de Experiências em Atividades <br><br>Relevantes deve-se seguir o disposto a seguir:  \\n\\n**ANEXO III - FORMULÁRIO DE SOLICITAÇÃO PARA REALIZAR**<br><br>**TRABALHO DE CONCLUSÃO NA MODALIDADE DE INOVAÇÃO E NEGÓCIO**<br><br>**(TCC STARTUP)**<br><br>2375  Nome discente:__ ____ ____ ____ ____ ____ ____ ____ ____ ____Matrícula:__ ____ ____ __<br><br>Docente orientador:__ ____ ____ ____ ____ ____ ____ ____ __ \\n\\n\\n\\nAlém disso, a atuação do docente nos componentes curriculares, sempre que viável, <br><br>deve buscar a integração com o conhecimento já construído (os requisitos) e com os demais <br><br>componentes nos quais seu conteúdo será usado como base. O Trabalho de Conclusão de <br><br>Curso, componente curricular obrigatório, é a principal atividade na qual a aquisição <br><br>680  multidisciplinar do conhecimento ocorre de modo mais expressivo. ', '\\n\\n**Art. 1º**O Trabalho de Conclusão de Curso (TCC) do curso de graduação em Ciência da <br><br>2035  Computação da Universidade Federal da Fronteira Sul (UFFS) será regido por este <br><br>Regulamento de Trabalho de Conclusão de Curso.  \\n\\n**Art. 4º**O Trabalho de Conclusão de Curso tem como objetivos: <br><br>I.  oferecer ao discente condições para experiências teórico-práticas em consonância com <br><br>seu aprendizado no curso, visando complementar o processo de formação profissional; <br><br>II.  fomentar o desenvolvimento da capacidade científica, tecnológica, inovadora, <br><br>empreendedora e social na área de computação e suas interdisciplinaridades; <br><br>III.  desenvolver a autonomia do discente na execução de um projeto; <br><br>IV.  subsidiar o processo de ensino, contribuindo para realimentação dos conteúdos <br><br>programáticos dos componentes curriculares integrantes do currículo; <br><br>V.  garantir a abordagem de temas relacionados à prática profissional, inserida na dinâmica <br><br>Projeto Pedagógico do Curso de Ciência Da Computação,*Campus*Chapecó. <br><br>173  \\n\\n**ANEXO I - REGULAMENTO DAS ATIVIDADES CURRICULARES**\\n**COMPLEMENTARES**<br><br>1910  **ANEXO II - REGULAMENTO DO TRABALHO DE CONCLUSÃO DE CURSO**<br><br>**ANEXO III - REGULAMENTO DAS ATIVIDADES CURRICULARES DE EXTENSÃO**\\n**E CULTURA**<br><br>1915 <br><br>**ANEXO IV - REGULAMENTO DE APROVEITAMENTO POR EQUIVALÊNCIA DE**\\n**COMPONENTE CURRICULAR**', '\\n\\n| GEX657 | Trabalho de conclusão de\\ncurso I | 10 |  | Trabalho de conclusão de\\ncurso I | 04 |\\n|---|---|---|---|---|---|\\n| GEX657 | Trabalho de conclusão de curso I | 10 |   | Trabalho de conclusão de curso I | 04 |\\n| GCH290 | Iniciação à prática científica | 04 |   |   |   |\\n| GEX658 | Trabalho de conclusão de curso II | 12 |   | Trabalho de conclusão de curso II | 06 |\\n']\n",
            "\n",
            "======================================================================\n",
            "\n",
            "Overall Metric Pass Rates\n",
            "\n",
            "Faithfulness: 100.00% pass rate\n",
            "\n",
            "======================================================================\n",
            "\n"
          ]
        },
        {
          "output_type": "stream",
          "name": "stderr",
          "text": [
            "\n"
          ]
        },
        {
          "output_type": "display_data",
          "data": {
            "text/plain": [
              "\u001b[38;2;5;245;141m✓\u001b[0m Tests finished 🎉! Run \u001b[32m'deepeval login'\u001b[0m to save and analyze evaluation results on Confident AI. \n",
              "‼️  Friendly reminder 😇: You can also run evaluations with ALL of deepeval's metrics directly on Confident AI \n",
              "instead.\n"
            ],
            "text/html": [
              "<pre style=\"white-space:pre;overflow-x:auto;line-height:normal;font-family:Menlo,'DejaVu Sans Mono',consolas,'Courier New',monospace\"><span style=\"color: #05f58d; text-decoration-color: #05f58d\">✓</span> Tests finished 🎉! Run <span style=\"color: #008000; text-decoration-color: #008000\">'deepeval login'</span> to save and analyze evaluation results on Confident AI. \n",
              "‼️  Friendly reminder 😇: You can also run evaluations with ALL of deepeval's metrics directly on Confident AI \n",
              "instead.\n",
              "</pre>\n"
            ]
          },
          "metadata": {}
        },
        {
          "output_type": "display_data",
          "data": {
            "text/plain": [
              "✨ You're running DeepEval's latest \u001b[38;2;106;0;255mCorrectness \u001b[0m\u001b[1;38;2;106;0;255m(\u001b[0m\u001b[38;2;106;0;255mGEval\u001b[0m\u001b[1;38;2;106;0;255m)\u001b[0m\u001b[38;2;106;0;255m Metric\u001b[0m! \u001b[1;38;2;55;65;81m(\u001b[0m\u001b[38;2;55;65;81musing mistral-large-latest, \u001b[0m\u001b[38;2;55;65;81mstrict\u001b[0m\u001b[38;2;55;65;81m=\u001b[0m\u001b[3;38;2;55;65;81mFalse\u001b[0m\u001b[38;2;55;65;81m, \u001b[0m\n",
              "\u001b[38;2;55;65;81masync_mode\u001b[0m\u001b[38;2;55;65;81m=\u001b[0m\u001b[3;38;2;55;65;81mTrue\u001b[0m\u001b[1;38;2;55;65;81m)\u001b[0m\u001b[38;2;55;65;81m...\u001b[0m\n"
            ],
            "text/html": [
              "<pre style=\"white-space:pre;overflow-x:auto;line-height:normal;font-family:Menlo,'DejaVu Sans Mono',consolas,'Courier New',monospace\">✨ You're running DeepEval's latest <span style=\"color: #6a00ff; text-decoration-color: #6a00ff\">Correctness </span><span style=\"color: #6a00ff; text-decoration-color: #6a00ff; font-weight: bold\">(</span><span style=\"color: #6a00ff; text-decoration-color: #6a00ff\">GEval</span><span style=\"color: #6a00ff; text-decoration-color: #6a00ff; font-weight: bold\">)</span><span style=\"color: #6a00ff; text-decoration-color: #6a00ff\"> Metric</span>! <span style=\"color: #374151; text-decoration-color: #374151; font-weight: bold\">(</span><span style=\"color: #374151; text-decoration-color: #374151\">using mistral-large-latest, </span><span style=\"color: #374151; text-decoration-color: #374151\">strict</span><span style=\"color: #374151; text-decoration-color: #374151\">=</span><span style=\"color: #374151; text-decoration-color: #374151; font-style: italic\">False</span><span style=\"color: #374151; text-decoration-color: #374151\">, </span>\n",
              "<span style=\"color: #374151; text-decoration-color: #374151\">async_mode</span><span style=\"color: #374151; text-decoration-color: #374151\">=</span><span style=\"color: #374151; text-decoration-color: #374151; font-style: italic\">True</span><span style=\"color: #374151; text-decoration-color: #374151; font-weight: bold\">)</span><span style=\"color: #374151; text-decoration-color: #374151\">...</span>\n",
              "</pre>\n"
            ]
          },
          "metadata": {}
        },
        {
          "output_type": "stream",
          "name": "stdout",
          "text": [
            "Event loop is already running. Applying nest_asyncio patch to allow async execution...\n"
          ]
        },
        {
          "output_type": "stream",
          "name": "stderr",
          "text": [
            "Evaluating 1 test case(s) in parallel: |██████████|100% (1/1) [Time Taken: 00:02,  2.45s/test case]"
          ]
        },
        {
          "output_type": "stream",
          "name": "stdout",
          "text": [
            "\n",
            "======================================================================\n",
            "\n",
            "Metrics Summary\n",
            "\n",
            "  - ✅ Correctness (GEval) (score: 1.0, threshold: 0.5, strict: False, evaluation model: mistral-large-latest, reason: The actual output provides detailed information about the TCC Startup, including the process, requirements, and structure, which aligns with the input question., error: None)\n",
            "\n",
            "For test case:\n",
            "\n",
            "  - input: Como funciona o TCC Startup?\n",
            "  - actual output: O TCC Startup é uma modalidade de Trabalho de Conclusão de Curso (TCC) que possibilita o desenvolvimento de um projeto inédito durante as disciplinas de TCC I e TCC II. Para realizar o TCC na modalidade Inovação e Negócio, o discente deve preencher o formulário de solicitação presente no Anexo III do regulamento e encaminhá-lo ao docente de TCC no prazo estabelecido no calendário do componente curricular. A estrutura mínima do TCC Startup é apresentada no Anexo IV deste regulamento. No componente curricular TCC I, o discente deverá desenvolver a proposta até a descrição do modelo de negócio.\n",
            "  - expected output: A modalidade Inovação e Negócio possibilita o desenvolvimento de um projeto\r\n",
            "denominado TCC Startup durante as disciplinas de TCC I e TCC II.\r\n",
            "§ 1º O projeto apresentado no TCC Startup deverá ser inédito no curso.\r\n",
            "§ 2º Para realizar o TCC na modalidade Inovação e Negócio, o discente deve preencher o\r\n",
            "formulário de solicitação presente no Anexo III deste regulamento e encaminhá-lo ao docente\r\n",
            "de TCC no prazo estabelecido no calendário do componente curricular.\r\n",
            "§ 2º A estrutura mínima do TCC Startup é apresentada no Anexo IV deste regulamento.\r\n",
            "§ 3º No componente curricular TCC I o discente deverá desenvolver a proposta até a\r\n",
            "descrição do modelo de negócio\n",
            "  - context: None\n",
            "  - retrieval context: ['\\n\\n| Título geral |  |  |\\n|---|---|---|\\n| Título geral |   |   |\\n|   |   |   |\\n| Problema a ser solucionado |   |   |\\n|   |   |   |\\n| Proposta de valor a ser desenvolvida |   |   |\\n|   |   |   |\\n|   | Segmento de mercado | DRAFT |\\n|   |   |   |\\n| Recursos necessários para o desenvolvimento do TCC Startup |   |   |\\n|   |   |   |\\n \\n\\n**3.1. Ideação - Identificação do problema e proposta de valor**<br><br>3.1.1. Problema a ser solucionado \\n3.1.2. Proposta de valor a ser desenvolvida \\n3.1.3. Segmentos de mercado e consumidores a serem atendidos (descrever: <br><br>2400 <br><br>segmentos/nichos, personas, tamanho do mercado consumidor) <br><br>3.1.4. Concorrentes e seus diferenciais \\n3.1.5. Recursos necessários para o desenvolvimento do TCC Startups <br><br>2405 <br><br>**3.2. Validação da proposta e definição do negócio**<br><br>Objetivo: Validar a ideia e definir modelo de negócio \\n3.2.1. Validação da ideia com usuários \\n(descrever como foi realizada a validação, quantas pessoas, perfil, ajustes necessários <br><br>2410  na proposta após as entrevistas com os usuários) <br><br>3.2.1. Especificação do produto \\n3.2.3. Business model canvas \\n3.2.4. Descrição do modelo de negócio  \\n\\n**ANEXO III - FORMULÁRIO DE SOLICITAÇÃO PARA REALIZAR**<br><br>**TRABALHO DE CONCLUSÃO NA MODALIDADE DE INOVAÇÃO E NEGÓCIO**<br><br>**(TCC STARTUP)**<br><br>2375  Nome discente:__ ____ ____ ____ ____ ____ ____ ____ ____ ____Matrícula:__ ____ ____ __<br><br>Docente orientador:__ ____ ____ ____ ____ ____ ____ ____ __', '\\n\\nDRAFT <br><br>**Art. 16º**A modalidade Inovação e Negócio possibilita o desenvolvimento de um projeto <br><br>denominado TCC Startup durante as disciplinas de TCC I e TCC II. <br><br>**§ 1º**O projeto apresentado no TCC Startup deverá ser inédito no curso. <br><br>**§ 2º**Para realizar o TCC na modalidade Inovação e Negócio, o discente deve preencher o <br><br>formulário de solicitação presente no Anexo III deste regulamento e encaminhá-lo ao docente <br><br>de TCC no prazo estabelecido no calendário do componente curricular. <br><br>| § 2º | A estrutura mínima do TCC Startup é apresentada no Anexo IV deste regulamento. |\\n|---|---|\\n| § 2º | A estrutura mínima do TCC Startup é apresentada no Anexo IV deste regulamento. |\\n<br><br>**§ 3º**No componente curricular TCC I o discente deverá desenvolver a proposta até a <br><br>descrição do modelo de negócio.  \\n\\n2275  **Art. 26º**São responsabilidades do discente: <br><br>\\uf0b7 Desenvolver todas as etapas do TCC de forma independente e pró-ativa, buscando <br><br>soluções e informações necessárias ao andamento de seu trabalho; <br><br>\\uf0b7 Frequentar os encontros de orientação; <br><br>\\uf0b7 Seguir rigorosamente todas as atividades indicadas pelo docente responsável e pelo <br><br>2280  docente orientador; <br><br>\\uf0b7 Elaborar o trabalho de acordo com as normas de metodologia vigentes e neste <br><br>regulamento; <br><br>\\uf0b7 Cumprir as datas estabelecidas no cronograma de TCC; <br><br>Projeto Pedagógico do Curso de Ciência Da Computação,*Campus*Chapecó. <br><br>182  \\n\\n\\n\\nAlém disso, a atuação do docente nos componentes curriculares, sempre que viável, <br><br>deve buscar a integração com o conhecimento já construído (os requisitos) e com os demais <br><br>componentes nos quais seu conteúdo será usado como base. O Trabalho de Conclusão de <br><br>Curso, componente curricular obrigatório, é a principal atividade na qual a aquisição <br><br>680  multidisciplinar do conhecimento ocorre de modo mais expressivo. ', '\\n\\n**ANEXO I - REGULAMENTO DAS ATIVIDADES CURRICULARES**\\n**COMPLEMENTARES**<br><br>1910  **ANEXO II - REGULAMENTO DO TRABALHO DE CONCLUSÃO DE CURSO**<br><br>**ANEXO III - REGULAMENTO DAS ATIVIDADES CURRICULARES DE EXTENSÃO**\\n**E CULTURA**<br><br>1915 <br><br>**ANEXO IV - REGULAMENTO DE APROVEITAMENTO POR EQUIVALÊNCIA DE**\\n**COMPONENTE CURRICULAR** \\n\\n**Art. 1º**O Trabalho de Conclusão de Curso (TCC) do curso de graduação em Ciência da <br><br>2035  Computação da Universidade Federal da Fronteira Sul (UFFS) será regido por este <br><br>Regulamento de Trabalho de Conclusão de Curso.  \\n\\n**Art. 4º**O Trabalho de Conclusão de Curso tem como objetivos: <br><br>I.  oferecer ao discente condições para experiências teórico-práticas em consonância com <br><br>seu aprendizado no curso, visando complementar o processo de formação profissional; <br><br>II.  fomentar o desenvolvimento da capacidade científica, tecnológica, inovadora, <br><br>empreendedora e social na área de computação e suas interdisciplinaridades; <br><br>III.  desenvolver a autonomia do discente na execução de um projeto; <br><br>IV.  subsidiar o processo de ensino, contribuindo para realimentação dos conteúdos <br><br>programáticos dos componentes curriculares integrantes do currículo; <br><br>V.  garantir a abordagem de temas relacionados à prática profissional, inserida na dinâmica <br><br>Projeto Pedagógico do Curso de Ciência Da Computação,*Campus*Chapecó. <br><br>173 ', '\\n\\n| GEX657 | Trabalho de conclusão de\\ncurso I | 10 |  | Trabalho de conclusão de\\ncurso I | 04 |\\n|---|---|---|---|---|---|\\n| GEX657 | Trabalho de conclusão de curso I | 10 |   | Trabalho de conclusão de curso I | 04 |\\n| GCH290 | Iniciação à prática científica | 04 |   |   |   |\\n| GEX658 | Trabalho de conclusão de curso II | 12 |   | Trabalho de conclusão de curso II | 06 |\\n']\n",
            "\n",
            "======================================================================\n",
            "\n",
            "Overall Metric Pass Rates\n",
            "\n",
            "Correctness (GEval): 100.00% pass rate\n",
            "\n",
            "======================================================================\n",
            "\n"
          ]
        },
        {
          "output_type": "stream",
          "name": "stderr",
          "text": [
            "\n"
          ]
        },
        {
          "output_type": "display_data",
          "data": {
            "text/plain": [
              "\u001b[38;2;5;245;141m✓\u001b[0m Tests finished 🎉! Run \u001b[32m'deepeval login'\u001b[0m to save and analyze evaluation results on Confident AI. \n",
              "‼️  Friendly reminder 😇: You can also run evaluations with ALL of deepeval's metrics directly on Confident AI \n",
              "instead.\n"
            ],
            "text/html": [
              "<pre style=\"white-space:pre;overflow-x:auto;line-height:normal;font-family:Menlo,'DejaVu Sans Mono',consolas,'Courier New',monospace\"><span style=\"color: #05f58d; text-decoration-color: #05f58d\">✓</span> Tests finished 🎉! Run <span style=\"color: #008000; text-decoration-color: #008000\">'deepeval login'</span> to save and analyze evaluation results on Confident AI. \n",
              "‼️  Friendly reminder 😇: You can also run evaluations with ALL of deepeval's metrics directly on Confident AI \n",
              "instead.\n",
              "</pre>\n"
            ]
          },
          "metadata": {}
        },
        {
          "output_type": "display_data",
          "data": {
            "text/plain": [
              "✨ You're running DeepEval's latest \u001b[38;2;106;0;255mAnswer Relevancy Metric\u001b[0m! \u001b[1;38;2;55;65;81m(\u001b[0m\u001b[38;2;55;65;81musing mistral-large-latest, \u001b[0m\u001b[38;2;55;65;81mstrict\u001b[0m\u001b[38;2;55;65;81m=\u001b[0m\u001b[3;38;2;55;65;81mFalse\u001b[0m\u001b[38;2;55;65;81m, \u001b[0m\n",
              "\u001b[38;2;55;65;81masync_mode\u001b[0m\u001b[38;2;55;65;81m=\u001b[0m\u001b[3;38;2;55;65;81mTrue\u001b[0m\u001b[1;38;2;55;65;81m)\u001b[0m\u001b[38;2;55;65;81m...\u001b[0m\n"
            ],
            "text/html": [
              "<pre style=\"white-space:pre;overflow-x:auto;line-height:normal;font-family:Menlo,'DejaVu Sans Mono',consolas,'Courier New',monospace\">✨ You're running DeepEval's latest <span style=\"color: #6a00ff; text-decoration-color: #6a00ff\">Answer Relevancy Metric</span>! <span style=\"color: #374151; text-decoration-color: #374151; font-weight: bold\">(</span><span style=\"color: #374151; text-decoration-color: #374151\">using mistral-large-latest, </span><span style=\"color: #374151; text-decoration-color: #374151\">strict</span><span style=\"color: #374151; text-decoration-color: #374151\">=</span><span style=\"color: #374151; text-decoration-color: #374151; font-style: italic\">False</span><span style=\"color: #374151; text-decoration-color: #374151\">, </span>\n",
              "<span style=\"color: #374151; text-decoration-color: #374151\">async_mode</span><span style=\"color: #374151; text-decoration-color: #374151\">=</span><span style=\"color: #374151; text-decoration-color: #374151; font-style: italic\">True</span><span style=\"color: #374151; text-decoration-color: #374151; font-weight: bold\">)</span><span style=\"color: #374151; text-decoration-color: #374151\">...</span>\n",
              "</pre>\n"
            ]
          },
          "metadata": {}
        },
        {
          "output_type": "stream",
          "name": "stdout",
          "text": [
            "Event loop is already running. Applying nest_asyncio patch to allow async execution...\n"
          ]
        },
        {
          "output_type": "stream",
          "name": "stderr",
          "text": [
            "Evaluating 1 test case(s) in parallel: |██████████|100% (1/1) [Time Taken: 00:14, 14.19s/test case]"
          ]
        },
        {
          "output_type": "stream",
          "name": "stdout",
          "text": [
            "\n",
            "======================================================================\n",
            "\n",
            "Metrics Summary\n",
            "\n",
            "  - ✅ Answer Relevancy (score: 1.0, threshold: 0.5, strict: False, evaluation model: mistral-large-latest, reason: The score is 1.00 because the response perfectly addresses the question about how TCC Startup works, providing all the necessary information without any irrelevant details., error: None)\n",
            "\n",
            "For test case:\n",
            "\n",
            "  - input: Como funciona o TCC Startup?\n",
            "  - actual output: O TCC Startup é uma modalidade de Trabalho de Conclusão de Curso (TCC) que possibilita o desenvolvimento de um projeto inédito durante as disciplinas de TCC I e TCC II. Para realizar o TCC na modalidade Inovação e Negócio, o discente deve preencher o formulário de solicitação presente no Anexo III do regulamento e encaminhá-lo ao docente de TCC no prazo estabelecido no calendário do componente curricular. A estrutura mínima do TCC Startup é apresentada no Anexo IV deste regulamento. No componente curricular TCC I, o discente deverá desenvolver a proposta até a descrição do modelo de negócio.\n",
            "  - expected output: A modalidade Inovação e Negócio possibilita o desenvolvimento de um projeto\r\n",
            "denominado TCC Startup durante as disciplinas de TCC I e TCC II.\r\n",
            "§ 1º O projeto apresentado no TCC Startup deverá ser inédito no curso.\r\n",
            "§ 2º Para realizar o TCC na modalidade Inovação e Negócio, o discente deve preencher o\r\n",
            "formulário de solicitação presente no Anexo III deste regulamento e encaminhá-lo ao docente\r\n",
            "de TCC no prazo estabelecido no calendário do componente curricular.\r\n",
            "§ 2º A estrutura mínima do TCC Startup é apresentada no Anexo IV deste regulamento.\r\n",
            "§ 3º No componente curricular TCC I o discente deverá desenvolver a proposta até a\r\n",
            "descrição do modelo de negócio\n",
            "  - context: None\n",
            "  - retrieval context: ['\\n\\n| Título geral |  |  |\\n|---|---|---|\\n| Título geral |   |   |\\n|   |   |   |\\n| Problema a ser solucionado |   |   |\\n|   |   |   |\\n| Proposta de valor a ser desenvolvida |   |   |\\n|   |   |   |\\n|   | Segmento de mercado | DRAFT |\\n|   |   |   |\\n| Recursos necessários para o desenvolvimento do TCC Startup |   |   |\\n|   |   |   |\\n \\n\\n**3.1. Ideação - Identificação do problema e proposta de valor**<br><br>3.1.1. Problema a ser solucionado \\n3.1.2. Proposta de valor a ser desenvolvida \\n3.1.3. Segmentos de mercado e consumidores a serem atendidos (descrever: <br><br>2400 <br><br>segmentos/nichos, personas, tamanho do mercado consumidor) <br><br>3.1.4. Concorrentes e seus diferenciais \\n3.1.5. Recursos necessários para o desenvolvimento do TCC Startups <br><br>2405 <br><br>**3.2. Validação da proposta e definição do negócio**<br><br>Objetivo: Validar a ideia e definir modelo de negócio \\n3.2.1. Validação da ideia com usuários \\n(descrever como foi realizada a validação, quantas pessoas, perfil, ajustes necessários <br><br>2410  na proposta após as entrevistas com os usuários) <br><br>3.2.1. Especificação do produto \\n3.2.3. Business model canvas \\n3.2.4. Descrição do modelo de negócio  \\n\\n**ANEXO III - FORMULÁRIO DE SOLICITAÇÃO PARA REALIZAR**<br><br>**TRABALHO DE CONCLUSÃO NA MODALIDADE DE INOVAÇÃO E NEGÓCIO**<br><br>**(TCC STARTUP)**<br><br>2375  Nome discente:__ ____ ____ ____ ____ ____ ____ ____ ____ ____Matrícula:__ ____ ____ __<br><br>Docente orientador:__ ____ ____ ____ ____ ____ ____ ____ __', '\\n\\nDRAFT <br><br>**Art. 16º**A modalidade Inovação e Negócio possibilita o desenvolvimento de um projeto <br><br>denominado TCC Startup durante as disciplinas de TCC I e TCC II. <br><br>**§ 1º**O projeto apresentado no TCC Startup deverá ser inédito no curso. <br><br>**§ 2º**Para realizar o TCC na modalidade Inovação e Negócio, o discente deve preencher o <br><br>formulário de solicitação presente no Anexo III deste regulamento e encaminhá-lo ao docente <br><br>de TCC no prazo estabelecido no calendário do componente curricular. <br><br>| § 2º | A estrutura mínima do TCC Startup é apresentada no Anexo IV deste regulamento. |\\n|---|---|\\n| § 2º | A estrutura mínima do TCC Startup é apresentada no Anexo IV deste regulamento. |\\n<br><br>**§ 3º**No componente curricular TCC I o discente deverá desenvolver a proposta até a <br><br>descrição do modelo de negócio.  \\n\\n2275  **Art. 26º**São responsabilidades do discente: <br><br>\\uf0b7 Desenvolver todas as etapas do TCC de forma independente e pró-ativa, buscando <br><br>soluções e informações necessárias ao andamento de seu trabalho; <br><br>\\uf0b7 Frequentar os encontros de orientação; <br><br>\\uf0b7 Seguir rigorosamente todas as atividades indicadas pelo docente responsável e pelo <br><br>2280  docente orientador; <br><br>\\uf0b7 Elaborar o trabalho de acordo com as normas de metodologia vigentes e neste <br><br>regulamento; <br><br>\\uf0b7 Cumprir as datas estabelecidas no cronograma de TCC; <br><br>Projeto Pedagógico do Curso de Ciência Da Computação,*Campus*Chapecó. <br><br>182  \\n\\n\\n\\nAlém disso, a atuação do docente nos componentes curriculares, sempre que viável, <br><br>deve buscar a integração com o conhecimento já construído (os requisitos) e com os demais <br><br>componentes nos quais seu conteúdo será usado como base. O Trabalho de Conclusão de <br><br>Curso, componente curricular obrigatório, é a principal atividade na qual a aquisição <br><br>680  multidisciplinar do conhecimento ocorre de modo mais expressivo. ', '\\n\\n**ANEXO I - REGULAMENTO DAS ATIVIDADES CURRICULARES**\\n**COMPLEMENTARES**<br><br>1910  **ANEXO II - REGULAMENTO DO TRABALHO DE CONCLUSÃO DE CURSO**<br><br>**ANEXO III - REGULAMENTO DAS ATIVIDADES CURRICULARES DE EXTENSÃO**\\n**E CULTURA**<br><br>1915 <br><br>**ANEXO IV - REGULAMENTO DE APROVEITAMENTO POR EQUIVALÊNCIA DE**\\n**COMPONENTE CURRICULAR** \\n\\n**Art. 1º**O Trabalho de Conclusão de Curso (TCC) do curso de graduação em Ciência da <br><br>2035  Computação da Universidade Federal da Fronteira Sul (UFFS) será regido por este <br><br>Regulamento de Trabalho de Conclusão de Curso.  \\n\\n**Art. 4º**O Trabalho de Conclusão de Curso tem como objetivos: <br><br>I.  oferecer ao discente condições para experiências teórico-práticas em consonância com <br><br>seu aprendizado no curso, visando complementar o processo de formação profissional; <br><br>II.  fomentar o desenvolvimento da capacidade científica, tecnológica, inovadora, <br><br>empreendedora e social na área de computação e suas interdisciplinaridades; <br><br>III.  desenvolver a autonomia do discente na execução de um projeto; <br><br>IV.  subsidiar o processo de ensino, contribuindo para realimentação dos conteúdos <br><br>programáticos dos componentes curriculares integrantes do currículo; <br><br>V.  garantir a abordagem de temas relacionados à prática profissional, inserida na dinâmica <br><br>Projeto Pedagógico do Curso de Ciência Da Computação,*Campus*Chapecó. <br><br>173 ', '\\n\\n| GEX657 | Trabalho de conclusão de\\ncurso I | 10 |  | Trabalho de conclusão de\\ncurso I | 04 |\\n|---|---|---|---|---|---|\\n| GEX657 | Trabalho de conclusão de curso I | 10 |   | Trabalho de conclusão de curso I | 04 |\\n| GCH290 | Iniciação à prática científica | 04 |   |   |   |\\n| GEX658 | Trabalho de conclusão de curso II | 12 |   | Trabalho de conclusão de curso II | 06 |\\n']\n",
            "\n",
            "======================================================================\n",
            "\n",
            "Overall Metric Pass Rates\n",
            "\n",
            "Answer Relevancy: 100.00% pass rate\n",
            "\n",
            "======================================================================\n",
            "\n"
          ]
        },
        {
          "output_type": "stream",
          "name": "stderr",
          "text": [
            "\n"
          ]
        },
        {
          "output_type": "display_data",
          "data": {
            "text/plain": [
              "\u001b[38;2;5;245;141m✓\u001b[0m Tests finished 🎉! Run \u001b[32m'deepeval login'\u001b[0m to save and analyze evaluation results on Confident AI. \n",
              "‼️  Friendly reminder 😇: You can also run evaluations with ALL of deepeval's metrics directly on Confident AI \n",
              "instead.\n"
            ],
            "text/html": [
              "<pre style=\"white-space:pre;overflow-x:auto;line-height:normal;font-family:Menlo,'DejaVu Sans Mono',consolas,'Courier New',monospace\"><span style=\"color: #05f58d; text-decoration-color: #05f58d\">✓</span> Tests finished 🎉! Run <span style=\"color: #008000; text-decoration-color: #008000\">'deepeval login'</span> to save and analyze evaluation results on Confident AI. \n",
              "‼️  Friendly reminder 😇: You can also run evaluations with ALL of deepeval's metrics directly on Confident AI \n",
              "instead.\n",
              "</pre>\n"
            ]
          },
          "metadata": {}
        },
        {
          "output_type": "display_data",
          "data": {
            "text/plain": [
              "✨ You're running DeepEval's latest \u001b[38;2;106;0;255mContextual Recall Metric\u001b[0m! \u001b[1;38;2;55;65;81m(\u001b[0m\u001b[38;2;55;65;81musing llama-\u001b[0m\u001b[1;38;2;55;65;81m3.1\u001b[0m\u001b[38;2;55;65;81m-70b-versatile, \u001b[0m\u001b[38;2;55;65;81mstrict\u001b[0m\u001b[38;2;55;65;81m=\u001b[0m\u001b[3;38;2;55;65;81mFalse\u001b[0m\u001b[38;2;55;65;81m, \u001b[0m\n",
              "\u001b[38;2;55;65;81masync_mode\u001b[0m\u001b[38;2;55;65;81m=\u001b[0m\u001b[3;38;2;55;65;81mTrue\u001b[0m\u001b[1;38;2;55;65;81m)\u001b[0m\u001b[38;2;55;65;81m...\u001b[0m\n"
            ],
            "text/html": [
              "<pre style=\"white-space:pre;overflow-x:auto;line-height:normal;font-family:Menlo,'DejaVu Sans Mono',consolas,'Courier New',monospace\">✨ You're running DeepEval's latest <span style=\"color: #6a00ff; text-decoration-color: #6a00ff\">Contextual Recall Metric</span>! <span style=\"color: #374151; text-decoration-color: #374151; font-weight: bold\">(</span><span style=\"color: #374151; text-decoration-color: #374151\">using llama-</span><span style=\"color: #374151; text-decoration-color: #374151; font-weight: bold\">3.1</span><span style=\"color: #374151; text-decoration-color: #374151\">-70b-versatile, </span><span style=\"color: #374151; text-decoration-color: #374151\">strict</span><span style=\"color: #374151; text-decoration-color: #374151\">=</span><span style=\"color: #374151; text-decoration-color: #374151; font-style: italic\">False</span><span style=\"color: #374151; text-decoration-color: #374151\">, </span>\n",
              "<span style=\"color: #374151; text-decoration-color: #374151\">async_mode</span><span style=\"color: #374151; text-decoration-color: #374151\">=</span><span style=\"color: #374151; text-decoration-color: #374151; font-style: italic\">True</span><span style=\"color: #374151; text-decoration-color: #374151; font-weight: bold\">)</span><span style=\"color: #374151; text-decoration-color: #374151\">...</span>\n",
              "</pre>\n"
            ]
          },
          "metadata": {}
        },
        {
          "output_type": "stream",
          "name": "stdout",
          "text": [
            "Event loop is already running. Applying nest_asyncio patch to allow async execution...\n"
          ]
        },
        {
          "output_type": "stream",
          "name": "stderr",
          "text": [
            "Evaluating 1 test case(s) in parallel: |██████████|100% (1/1) [Time Taken: 00:02,  2.83s/test case]"
          ]
        },
        {
          "output_type": "stream",
          "name": "stdout",
          "text": [
            "\n",
            "======================================================================\n",
            "\n",
            "Metrics Summary\n",
            "\n",
            "  - ✅ Contextual Recall (score: 1.0, threshold: 0.25, strict: False, evaluation model: llama-3.1-70b-versatile, reason: None, error: None)\n",
            "\n",
            "For test case:\n",
            "\n",
            "  - input: Como funciona o TCC Startup?\n",
            "  - actual output: O TCC Startup é uma modalidade de Trabalho de Conclusão de Curso (TCC) que possibilita o desenvolvimento de um projeto inédito durante as disciplinas de TCC I e TCC II. Para realizar o TCC na modalidade Inovação e Negócio, o discente deve preencher o formulário de solicitação presente no Anexo III do regulamento e encaminhá-lo ao docente de TCC no prazo estabelecido no calendário do componente curricular. A estrutura mínima do TCC Startup é apresentada no Anexo IV deste regulamento. No componente curricular TCC I, o discente deverá desenvolver a proposta até a descrição do modelo de negócio.\n",
            "  - expected output: A modalidade Inovação e Negócio possibilita o desenvolvimento de um projeto\r\n",
            "denominado TCC Startup durante as disciplinas de TCC I e TCC II.\r\n",
            "§ 1º O projeto apresentado no TCC Startup deverá ser inédito no curso.\r\n",
            "§ 2º Para realizar o TCC na modalidade Inovação e Negócio, o discente deve preencher o\r\n",
            "formulário de solicitação presente no Anexo III deste regulamento e encaminhá-lo ao docente\r\n",
            "de TCC no prazo estabelecido no calendário do componente curricular.\r\n",
            "§ 2º A estrutura mínima do TCC Startup é apresentada no Anexo IV deste regulamento.\r\n",
            "§ 3º No componente curricular TCC I o discente deverá desenvolver a proposta até a\r\n",
            "descrição do modelo de negócio\n",
            "  - context: None\n",
            "  - retrieval context: ['\\n\\n| Título geral |  |  |\\n|---|---|---|\\n| Título geral |   |   |\\n|   |   |   |\\n| Problema a ser solucionado |   |   |\\n|   |   |   |\\n| Proposta de valor a ser desenvolvida |   |   |\\n|   |   |   |\\n|   | Segmento de mercado | DRAFT |\\n|   |   |   |\\n| Recursos necessários para o desenvolvimento do TCC Startup |   |   |\\n|   |   |   |\\n \\n\\n**3.1. Ideação - Identificação do problema e proposta de valor**<br><br>3.1.1. Problema a ser solucionado \\n3.1.2. Proposta de valor a ser desenvolvida \\n3.1.3. Segmentos de mercado e consumidores a serem atendidos (descrever: <br><br>2400 <br><br>segmentos/nichos, personas, tamanho do mercado consumidor) <br><br>3.1.4. Concorrentes e seus diferenciais \\n3.1.5. Recursos necessários para o desenvolvimento do TCC Startups <br><br>2405 <br><br>**3.2. Validação da proposta e definição do negócio**<br><br>Objetivo: Validar a ideia e definir modelo de negócio \\n3.2.1. Validação da ideia com usuários \\n(descrever como foi realizada a validação, quantas pessoas, perfil, ajustes necessários <br><br>2410  na proposta após as entrevistas com os usuários) <br><br>3.2.1. Especificação do produto \\n3.2.3. Business model canvas \\n3.2.4. Descrição do modelo de negócio  \\n\\n**ANEXO III - FORMULÁRIO DE SOLICITAÇÃO PARA REALIZAR**<br><br>**TRABALHO DE CONCLUSÃO NA MODALIDADE DE INOVAÇÃO E NEGÓCIO**<br><br>**(TCC STARTUP)**<br><br>2375  Nome discente:__ ____ ____ ____ ____ ____ ____ ____ ____ ____Matrícula:__ ____ ____ __<br><br>Docente orientador:__ ____ ____ ____ ____ ____ ____ ____ __', '\\n\\nDRAFT <br><br>**Art. 16º**A modalidade Inovação e Negócio possibilita o desenvolvimento de um projeto <br><br>denominado TCC Startup durante as disciplinas de TCC I e TCC II. <br><br>**§ 1º**O projeto apresentado no TCC Startup deverá ser inédito no curso. <br><br>**§ 2º**Para realizar o TCC na modalidade Inovação e Negócio, o discente deve preencher o <br><br>formulário de solicitação presente no Anexo III deste regulamento e encaminhá-lo ao docente <br><br>de TCC no prazo estabelecido no calendário do componente curricular. <br><br>| § 2º | A estrutura mínima do TCC Startup é apresentada no Anexo IV deste regulamento. |\\n|---|---|\\n| § 2º | A estrutura mínima do TCC Startup é apresentada no Anexo IV deste regulamento. |\\n<br><br>**§ 3º**No componente curricular TCC I o discente deverá desenvolver a proposta até a <br><br>descrição do modelo de negócio.  \\n\\n2275  **Art. 26º**São responsabilidades do discente: <br><br>\\uf0b7 Desenvolver todas as etapas do TCC de forma independente e pró-ativa, buscando <br><br>soluções e informações necessárias ao andamento de seu trabalho; <br><br>\\uf0b7 Frequentar os encontros de orientação; <br><br>\\uf0b7 Seguir rigorosamente todas as atividades indicadas pelo docente responsável e pelo <br><br>2280  docente orientador; <br><br>\\uf0b7 Elaborar o trabalho de acordo com as normas de metodologia vigentes e neste <br><br>regulamento; <br><br>\\uf0b7 Cumprir as datas estabelecidas no cronograma de TCC; <br><br>Projeto Pedagógico do Curso de Ciência Da Computação,*Campus*Chapecó. <br><br>182  \\n\\n\\n\\nAlém disso, a atuação do docente nos componentes curriculares, sempre que viável, <br><br>deve buscar a integração com o conhecimento já construído (os requisitos) e com os demais <br><br>componentes nos quais seu conteúdo será usado como base. O Trabalho de Conclusão de <br><br>Curso, componente curricular obrigatório, é a principal atividade na qual a aquisição <br><br>680  multidisciplinar do conhecimento ocorre de modo mais expressivo. ', '\\n\\n**ANEXO I - REGULAMENTO DAS ATIVIDADES CURRICULARES**\\n**COMPLEMENTARES**<br><br>1910  **ANEXO II - REGULAMENTO DO TRABALHO DE CONCLUSÃO DE CURSO**<br><br>**ANEXO III - REGULAMENTO DAS ATIVIDADES CURRICULARES DE EXTENSÃO**\\n**E CULTURA**<br><br>1915 <br><br>**ANEXO IV - REGULAMENTO DE APROVEITAMENTO POR EQUIVALÊNCIA DE**\\n**COMPONENTE CURRICULAR** \\n\\n**Art. 1º**O Trabalho de Conclusão de Curso (TCC) do curso de graduação em Ciência da <br><br>2035  Computação da Universidade Federal da Fronteira Sul (UFFS) será regido por este <br><br>Regulamento de Trabalho de Conclusão de Curso.  \\n\\n**Art. 4º**O Trabalho de Conclusão de Curso tem como objetivos: <br><br>I.  oferecer ao discente condições para experiências teórico-práticas em consonância com <br><br>seu aprendizado no curso, visando complementar o processo de formação profissional; <br><br>II.  fomentar o desenvolvimento da capacidade científica, tecnológica, inovadora, <br><br>empreendedora e social na área de computação e suas interdisciplinaridades; <br><br>III.  desenvolver a autonomia do discente na execução de um projeto; <br><br>IV.  subsidiar o processo de ensino, contribuindo para realimentação dos conteúdos <br><br>programáticos dos componentes curriculares integrantes do currículo; <br><br>V.  garantir a abordagem de temas relacionados à prática profissional, inserida na dinâmica <br><br>Projeto Pedagógico do Curso de Ciência Da Computação,*Campus*Chapecó. <br><br>173 ', '\\n\\n| GEX657 | Trabalho de conclusão de\\ncurso I | 10 |  | Trabalho de conclusão de\\ncurso I | 04 |\\n|---|---|---|---|---|---|\\n| GEX657 | Trabalho de conclusão de curso I | 10 |   | Trabalho de conclusão de curso I | 04 |\\n| GCH290 | Iniciação à prática científica | 04 |   |   |   |\\n| GEX658 | Trabalho de conclusão de curso II | 12 |   | Trabalho de conclusão de curso II | 06 |\\n']\n",
            "\n",
            "======================================================================\n",
            "\n",
            "Overall Metric Pass Rates\n",
            "\n",
            "Contextual Recall: 100.00% pass rate\n",
            "\n",
            "======================================================================\n",
            "\n"
          ]
        },
        {
          "output_type": "stream",
          "name": "stderr",
          "text": [
            "\n"
          ]
        },
        {
          "output_type": "display_data",
          "data": {
            "text/plain": [
              "\u001b[38;2;5;245;141m✓\u001b[0m Tests finished 🎉! Run \u001b[32m'deepeval login'\u001b[0m to save and analyze evaluation results on Confident AI. \n",
              "‼️  Friendly reminder 😇: You can also run evaluations with ALL of deepeval's metrics directly on Confident AI \n",
              "instead.\n"
            ],
            "text/html": [
              "<pre style=\"white-space:pre;overflow-x:auto;line-height:normal;font-family:Menlo,'DejaVu Sans Mono',consolas,'Courier New',monospace\"><span style=\"color: #05f58d; text-decoration-color: #05f58d\">✓</span> Tests finished 🎉! Run <span style=\"color: #008000; text-decoration-color: #008000\">'deepeval login'</span> to save and analyze evaluation results on Confident AI. \n",
              "‼️  Friendly reminder 😇: You can also run evaluations with ALL of deepeval's metrics directly on Confident AI \n",
              "instead.\n",
              "</pre>\n"
            ]
          },
          "metadata": {}
        },
        {
          "output_type": "display_data",
          "data": {
            "text/plain": [
              "✨ You're running DeepEval's latest \u001b[38;2;106;0;255mFaithfulness Metric\u001b[0m! \u001b[1;38;2;55;65;81m(\u001b[0m\u001b[38;2;55;65;81musing mistral-large-latest, \u001b[0m\u001b[38;2;55;65;81mstrict\u001b[0m\u001b[38;2;55;65;81m=\u001b[0m\u001b[3;38;2;55;65;81mFalse\u001b[0m\u001b[38;2;55;65;81m, \u001b[0m\n",
              "\u001b[38;2;55;65;81masync_mode\u001b[0m\u001b[38;2;55;65;81m=\u001b[0m\u001b[3;38;2;55;65;81mTrue\u001b[0m\u001b[1;38;2;55;65;81m)\u001b[0m\u001b[38;2;55;65;81m...\u001b[0m\n"
            ],
            "text/html": [
              "<pre style=\"white-space:pre;overflow-x:auto;line-height:normal;font-family:Menlo,'DejaVu Sans Mono',consolas,'Courier New',monospace\">✨ You're running DeepEval's latest <span style=\"color: #6a00ff; text-decoration-color: #6a00ff\">Faithfulness Metric</span>! <span style=\"color: #374151; text-decoration-color: #374151; font-weight: bold\">(</span><span style=\"color: #374151; text-decoration-color: #374151\">using mistral-large-latest, </span><span style=\"color: #374151; text-decoration-color: #374151\">strict</span><span style=\"color: #374151; text-decoration-color: #374151\">=</span><span style=\"color: #374151; text-decoration-color: #374151; font-style: italic\">False</span><span style=\"color: #374151; text-decoration-color: #374151\">, </span>\n",
              "<span style=\"color: #374151; text-decoration-color: #374151\">async_mode</span><span style=\"color: #374151; text-decoration-color: #374151\">=</span><span style=\"color: #374151; text-decoration-color: #374151; font-style: italic\">True</span><span style=\"color: #374151; text-decoration-color: #374151; font-weight: bold\">)</span><span style=\"color: #374151; text-decoration-color: #374151\">...</span>\n",
              "</pre>\n"
            ]
          },
          "metadata": {}
        },
        {
          "output_type": "stream",
          "name": "stdout",
          "text": [
            "Event loop is already running. Applying nest_asyncio patch to allow async execution...\n"
          ]
        },
        {
          "output_type": "stream",
          "name": "stderr",
          "text": [
            "\rEvaluating 1 test case(s) in parallel: |          |  0% (0/1) [Time Taken: 00:00, ?test case/s]"
          ]
        },
        {
          "output_type": "stream",
          "name": "stdout",
          "text": [
            "3\n"
          ]
        },
        {
          "output_type": "stream",
          "name": "stderr",
          "text": [
            "Evaluating 1 test case(s) in parallel: |██████████|100% (1/1) [Time Taken: 00:13, 13.26s/test case]"
          ]
        },
        {
          "output_type": "stream",
          "name": "stdout",
          "text": [
            "\n",
            "======================================================================\n",
            "\n",
            "Metrics Summary\n",
            "\n",
            "  - ✅ Faithfulness (score: 1.0, threshold: 0.5, strict: False, evaluation model: mistral-large-latest, reason: The score is 1.00 because there are no contradictions! Great job!, error: None)\n",
            "\n",
            "For test case:\n",
            "\n",
            "  - input: Como funciona o TCC Startup?\n",
            "  - actual output: O TCC Startup é uma modalidade de Trabalho de Conclusão de Curso (TCC) que possibilita o desenvolvimento de um projeto inédito durante as disciplinas de TCC I e TCC II. Para realizar o TCC na modalidade Inovação e Negócio, o discente deve preencher o formulário de solicitação presente no Anexo III do regulamento e encaminhá-lo ao docente de TCC no prazo estabelecido no calendário do componente curricular. A estrutura mínima do TCC Startup é apresentada no Anexo IV deste regulamento. No componente curricular TCC I, o discente deverá desenvolver a proposta até a descrição do modelo de negócio.\n",
            "  - expected output: A modalidade Inovação e Negócio possibilita o desenvolvimento de um projeto\r\n",
            "denominado TCC Startup durante as disciplinas de TCC I e TCC II.\r\n",
            "§ 1º O projeto apresentado no TCC Startup deverá ser inédito no curso.\r\n",
            "§ 2º Para realizar o TCC na modalidade Inovação e Negócio, o discente deve preencher o\r\n",
            "formulário de solicitação presente no Anexo III deste regulamento e encaminhá-lo ao docente\r\n",
            "de TCC no prazo estabelecido no calendário do componente curricular.\r\n",
            "§ 2º A estrutura mínima do TCC Startup é apresentada no Anexo IV deste regulamento.\r\n",
            "§ 3º No componente curricular TCC I o discente deverá desenvolver a proposta até a\r\n",
            "descrição do modelo de negócio\n",
            "  - context: None\n",
            "  - retrieval context: ['\\n\\n| Título geral |  |  |\\n|---|---|---|\\n| Título geral |   |   |\\n|   |   |   |\\n| Problema a ser solucionado |   |   |\\n|   |   |   |\\n| Proposta de valor a ser desenvolvida |   |   |\\n|   |   |   |\\n|   | Segmento de mercado | DRAFT |\\n|   |   |   |\\n| Recursos necessários para o desenvolvimento do TCC Startup |   |   |\\n|   |   |   |\\n \\n\\n**3.1. Ideação - Identificação do problema e proposta de valor**<br><br>3.1.1. Problema a ser solucionado \\n3.1.2. Proposta de valor a ser desenvolvida \\n3.1.3. Segmentos de mercado e consumidores a serem atendidos (descrever: <br><br>2400 <br><br>segmentos/nichos, personas, tamanho do mercado consumidor) <br><br>3.1.4. Concorrentes e seus diferenciais \\n3.1.5. Recursos necessários para o desenvolvimento do TCC Startups <br><br>2405 <br><br>**3.2. Validação da proposta e definição do negócio**<br><br>Objetivo: Validar a ideia e definir modelo de negócio \\n3.2.1. Validação da ideia com usuários \\n(descrever como foi realizada a validação, quantas pessoas, perfil, ajustes necessários <br><br>2410  na proposta após as entrevistas com os usuários) <br><br>3.2.1. Especificação do produto \\n3.2.3. Business model canvas \\n3.2.4. Descrição do modelo de negócio  \\n\\n**ANEXO III - FORMULÁRIO DE SOLICITAÇÃO PARA REALIZAR**<br><br>**TRABALHO DE CONCLUSÃO NA MODALIDADE DE INOVAÇÃO E NEGÓCIO**<br><br>**(TCC STARTUP)**<br><br>2375  Nome discente:__ ____ ____ ____ ____ ____ ____ ____ ____ ____Matrícula:__ ____ ____ __<br><br>Docente orientador:__ ____ ____ ____ ____ ____ ____ ____ __', '\\n\\nDRAFT <br><br>**Art. 16º**A modalidade Inovação e Negócio possibilita o desenvolvimento de um projeto <br><br>denominado TCC Startup durante as disciplinas de TCC I e TCC II. <br><br>**§ 1º**O projeto apresentado no TCC Startup deverá ser inédito no curso. <br><br>**§ 2º**Para realizar o TCC na modalidade Inovação e Negócio, o discente deve preencher o <br><br>formulário de solicitação presente no Anexo III deste regulamento e encaminhá-lo ao docente <br><br>de TCC no prazo estabelecido no calendário do componente curricular. <br><br>| § 2º | A estrutura mínima do TCC Startup é apresentada no Anexo IV deste regulamento. |\\n|---|---|\\n| § 2º | A estrutura mínima do TCC Startup é apresentada no Anexo IV deste regulamento. |\\n<br><br>**§ 3º**No componente curricular TCC I o discente deverá desenvolver a proposta até a <br><br>descrição do modelo de negócio.  \\n\\n2275  **Art. 26º**São responsabilidades do discente: <br><br>\\uf0b7 Desenvolver todas as etapas do TCC de forma independente e pró-ativa, buscando <br><br>soluções e informações necessárias ao andamento de seu trabalho; <br><br>\\uf0b7 Frequentar os encontros de orientação; <br><br>\\uf0b7 Seguir rigorosamente todas as atividades indicadas pelo docente responsável e pelo <br><br>2280  docente orientador; <br><br>\\uf0b7 Elaborar o trabalho de acordo com as normas de metodologia vigentes e neste <br><br>regulamento; <br><br>\\uf0b7 Cumprir as datas estabelecidas no cronograma de TCC; <br><br>Projeto Pedagógico do Curso de Ciência Da Computação,*Campus*Chapecó. <br><br>182  \\n\\n\\n\\nAlém disso, a atuação do docente nos componentes curriculares, sempre que viável, <br><br>deve buscar a integração com o conhecimento já construído (os requisitos) e com os demais <br><br>componentes nos quais seu conteúdo será usado como base. O Trabalho de Conclusão de <br><br>Curso, componente curricular obrigatório, é a principal atividade na qual a aquisição <br><br>680  multidisciplinar do conhecimento ocorre de modo mais expressivo. ', '\\n\\n**ANEXO I - REGULAMENTO DAS ATIVIDADES CURRICULARES**\\n**COMPLEMENTARES**<br><br>1910  **ANEXO II - REGULAMENTO DO TRABALHO DE CONCLUSÃO DE CURSO**<br><br>**ANEXO III - REGULAMENTO DAS ATIVIDADES CURRICULARES DE EXTENSÃO**\\n**E CULTURA**<br><br>1915 <br><br>**ANEXO IV - REGULAMENTO DE APROVEITAMENTO POR EQUIVALÊNCIA DE**\\n**COMPONENTE CURRICULAR** \\n\\n**Art. 1º**O Trabalho de Conclusão de Curso (TCC) do curso de graduação em Ciência da <br><br>2035  Computação da Universidade Federal da Fronteira Sul (UFFS) será regido por este <br><br>Regulamento de Trabalho de Conclusão de Curso.  \\n\\n**Art. 4º**O Trabalho de Conclusão de Curso tem como objetivos: <br><br>I.  oferecer ao discente condições para experiências teórico-práticas em consonância com <br><br>seu aprendizado no curso, visando complementar o processo de formação profissional; <br><br>II.  fomentar o desenvolvimento da capacidade científica, tecnológica, inovadora, <br><br>empreendedora e social na área de computação e suas interdisciplinaridades; <br><br>III.  desenvolver a autonomia do discente na execução de um projeto; <br><br>IV.  subsidiar o processo de ensino, contribuindo para realimentação dos conteúdos <br><br>programáticos dos componentes curriculares integrantes do currículo; <br><br>V.  garantir a abordagem de temas relacionados à prática profissional, inserida na dinâmica <br><br>Projeto Pedagógico do Curso de Ciência Da Computação,*Campus*Chapecó. <br><br>173 ', '\\n\\n| GEX657 | Trabalho de conclusão de\\ncurso I | 10 |  | Trabalho de conclusão de\\ncurso I | 04 |\\n|---|---|---|---|---|---|\\n| GEX657 | Trabalho de conclusão de curso I | 10 |   | Trabalho de conclusão de curso I | 04 |\\n| GCH290 | Iniciação à prática científica | 04 |   |   |   |\\n| GEX658 | Trabalho de conclusão de curso II | 12 |   | Trabalho de conclusão de curso II | 06 |\\n']\n",
            "\n",
            "======================================================================\n",
            "\n",
            "Overall Metric Pass Rates\n",
            "\n",
            "Faithfulness: 100.00% pass rate\n",
            "\n",
            "======================================================================\n",
            "\n"
          ]
        },
        {
          "output_type": "stream",
          "name": "stderr",
          "text": [
            "\n"
          ]
        },
        {
          "output_type": "display_data",
          "data": {
            "text/plain": [
              "\u001b[38;2;5;245;141m✓\u001b[0m Tests finished 🎉! Run \u001b[32m'deepeval login'\u001b[0m to save and analyze evaluation results on Confident AI. \n",
              "‼️  Friendly reminder 😇: You can also run evaluations with ALL of deepeval's metrics directly on Confident AI \n",
              "instead.\n"
            ],
            "text/html": [
              "<pre style=\"white-space:pre;overflow-x:auto;line-height:normal;font-family:Menlo,'DejaVu Sans Mono',consolas,'Courier New',monospace\"><span style=\"color: #05f58d; text-decoration-color: #05f58d\">✓</span> Tests finished 🎉! Run <span style=\"color: #008000; text-decoration-color: #008000\">'deepeval login'</span> to save and analyze evaluation results on Confident AI. \n",
              "‼️  Friendly reminder 😇: You can also run evaluations with ALL of deepeval's metrics directly on Confident AI \n",
              "instead.\n",
              "</pre>\n"
            ]
          },
          "metadata": {}
        },
        {
          "output_type": "display_data",
          "data": {
            "text/plain": [
              "✨ You're running DeepEval's latest \u001b[38;2;106;0;255mCorrectness \u001b[0m\u001b[1;38;2;106;0;255m(\u001b[0m\u001b[38;2;106;0;255mGEval\u001b[0m\u001b[1;38;2;106;0;255m)\u001b[0m\u001b[38;2;106;0;255m Metric\u001b[0m! \u001b[1;38;2;55;65;81m(\u001b[0m\u001b[38;2;55;65;81musing mistral-large-latest, \u001b[0m\u001b[38;2;55;65;81mstrict\u001b[0m\u001b[38;2;55;65;81m=\u001b[0m\u001b[3;38;2;55;65;81mFalse\u001b[0m\u001b[38;2;55;65;81m, \u001b[0m\n",
              "\u001b[38;2;55;65;81masync_mode\u001b[0m\u001b[38;2;55;65;81m=\u001b[0m\u001b[3;38;2;55;65;81mTrue\u001b[0m\u001b[1;38;2;55;65;81m)\u001b[0m\u001b[38;2;55;65;81m...\u001b[0m\n"
            ],
            "text/html": [
              "<pre style=\"white-space:pre;overflow-x:auto;line-height:normal;font-family:Menlo,'DejaVu Sans Mono',consolas,'Courier New',monospace\">✨ You're running DeepEval's latest <span style=\"color: #6a00ff; text-decoration-color: #6a00ff\">Correctness </span><span style=\"color: #6a00ff; text-decoration-color: #6a00ff; font-weight: bold\">(</span><span style=\"color: #6a00ff; text-decoration-color: #6a00ff\">GEval</span><span style=\"color: #6a00ff; text-decoration-color: #6a00ff; font-weight: bold\">)</span><span style=\"color: #6a00ff; text-decoration-color: #6a00ff\"> Metric</span>! <span style=\"color: #374151; text-decoration-color: #374151; font-weight: bold\">(</span><span style=\"color: #374151; text-decoration-color: #374151\">using mistral-large-latest, </span><span style=\"color: #374151; text-decoration-color: #374151\">strict</span><span style=\"color: #374151; text-decoration-color: #374151\">=</span><span style=\"color: #374151; text-decoration-color: #374151; font-style: italic\">False</span><span style=\"color: #374151; text-decoration-color: #374151\">, </span>\n",
              "<span style=\"color: #374151; text-decoration-color: #374151\">async_mode</span><span style=\"color: #374151; text-decoration-color: #374151\">=</span><span style=\"color: #374151; text-decoration-color: #374151; font-style: italic\">True</span><span style=\"color: #374151; text-decoration-color: #374151; font-weight: bold\">)</span><span style=\"color: #374151; text-decoration-color: #374151\">...</span>\n",
              "</pre>\n"
            ]
          },
          "metadata": {}
        },
        {
          "output_type": "stream",
          "name": "stdout",
          "text": [
            "Event loop is already running. Applying nest_asyncio patch to allow async execution...\n"
          ]
        },
        {
          "output_type": "stream",
          "name": "stderr",
          "text": [
            "Evaluating 1 test case(s) in parallel: |██████████|100% (1/1) [Time Taken: 00:02,  2.20s/test case]"
          ]
        },
        {
          "output_type": "stream",
          "name": "stdout",
          "text": [
            "\n",
            "======================================================================\n",
            "\n",
            "Metrics Summary\n",
            "\n",
            "  - ✅ Correctness (GEval) (score: 1.0, threshold: 0.5, strict: False, evaluation model: mistral-large-latest, reason: The actual output does not contradict any facts in the expected output and provides detailed information about the available laboratories for the course., error: None)\n",
            "\n",
            "For test case:\n",
            "\n",
            "  - input: Quais laboratórios estão disponíveis para os alunos do curso?\n",
            "  - actual output: Os laboratórios disponíveis para os alunos do curso de Ciência da Computação são:\n",
            "\n",
            "- 5 (cinco) laboratórios de Programação;\n",
            "- 1 (um) laboratório de Organização de Computadores e Sistemas Digitais;\n",
            "- 1 (um) laboratório de Redes de Computadores e Sistemas Operacionais.\n",
            "  - expected output: 5 (cinco) laboratórios de Programação;1 (um) laboratório de Organização de Computadores e Sistemas Digitais;\r\n",
            "1 (um) laboratório de Redes de Computadores e Sistemas Operacionais;\n",
            "  - context: None\n",
            "  - retrieval context: ['\\n\\n13 PERFIL DOCENTE E PROCESSO DE QUALIFICAÇÃO <br><br>14 QUADRO DE PESSOAL DOCENTE <br><br>14.1 Docentes do*Campus*Chapecó/SC que atuam no Curso <br><br>15 INFRAESTRUTURA NECESSÁRIA AO CURSO <br><br>15.1 Bibliotecas <br><br>15.2 Laboratórios <br><br>15.2.1 Laboratórios de Organização de Computadores e Sistemas Digitais <br><br>15.2.2 Laboratórios de Programação I, II, III, IV e V <br><br>15.2.3 Laboratório de Redes de Computadores e Sistemas Operacionais <br><br>15.3 Demais itens <br><br>16 ANEXOS  \\n\\n| A seguir, são detalhados os materiais necessários para este laboratório. |  |  |\\n|---|---|---|\\n| LABORATÓRIO DE REDES DE COMPUTADORES E SISTEMAS OPERACIONAIS |   |   |\\n| Docente responsável: Docente das disciplinas de Redes de Computadores ou Sistemas Operacionais |   |   |\\n| Discentes por turma: 25 |   |   |\\n| Área: 60 m2 |   | Localização: Campus Chapecó |\\n| Quantidade | Descrição |   |\\n| 1 | Armário (2,0 x 0,8 x 1,80) (L x P x A) DRAFT |   |\\n| 13 | Bancada de 0,6 m de largura por 2 m de comprimento, com 6 tomadas cada |   |\\n| 25 | Computador com processador quad-core frequência de 2.2 GHz e FSB 800 MHz ou superior 4 Mb RAM (memória tipo DIMM SDRAM DDR2 ou superior) Disco rígido padrão Serial ATA II com capacidade de armazenamento de 400 Gbytes (ou superior) e rotação 7200 rpm (ou superior) Unidade ótica do tipo DVD-RW Monitor de vídeo LCD com tela de 19 polegadas, tela do tipo Matriz Ativa – TFT LCD, interface digital, dot pitch de 0.264 mm e resolução gráfica de 1280 x 1024 à 75 Hz Teclado padrão ABNT-2 com interface USB Mouse ótico com 3 botões, rolagem e interface USB 2 Interfaces de rede Gigabit Ethernet padrão IEEE 802.3x compatível com as velocidades 10/100/1000, para conexão de cabo de par trançado, com conectores RJ-45. Interface para vídeo com alocação dinâmica de memória, que suporte a resolução de 1900 x 1200 com taxa de atualização de 85 Hz e interface digital. 02 (duas) interfaces para teclado e mouse padrão USB. 04 (quatro) interfaces USB (além das interfaces para mouse e teclado). 01 (uma) interface serial integrada na placa mãe, com conector de 9 pinos padrão. Gabinete tool less |   |\\n', '\\n\\n| programação. |  |  |\\n|---|---|---|\\n| LABORATÓRIO DE PROGRAMAÇÃO I, II, III, IV e V |   |   |\\n| Docente responsável: Docente das disciplinas, conforme oferta do semestre: Algoritmos e Programação, Estruturas de Dados I, Estruturas de Dados II, Programação Orientada a Objetos, entre outras |   |   |\\n| Discentes por turma: 30 DRAFT |   |   |\\n| Área: 60 m2 |   | Localização: Campus Chapecó |\\n| Quantidade | Descrição |   |\\n| 30 | Computadores com processador quad-core frequência de 2.2 GHz e FSB 800 MHz ou superior 4 Mb RAM (memória tipo DIMM SDRAM DDR2 ou superior) Disco rígido padrão Serial ATA II com capacidade de armazenamento de 400 Gbytes (ou superior) e rotação 7200 rpm (ou superior) Unidade ótica do tipo DVD-RW Monitor de vídeo LCD com tela de 19 polegadas, tela do tipo Matriz Ativa – TFT LCD, interface digital, dot pitch de 0.264 mm e resolução gráfica de 1280 x 1024 à 75 Hz Teclado padrão ABNT-2 com interface USB Mouse ótico com 3 botões, rolagem e interface USB Interface de rede Gigabit Ethernet padrão IEEE 802.3x compatível com as velocidades 10/100/1000, para conexão de cabo de par trançado, com conectores RJ-45. Interface para vídeo com alocação dinâmica de memória, que suporte a resolução de 1900 x 1200 com taxa de atualização de 85 Hz e interface digital. 02 (duas) interfaces para teclado e mouse padrão USB. 04 (quatro) interfaces USB (além das interfaces para mouse e teclado). 01 (uma) interface serial integrada na placa-mãe, com conector de 9 pinos padrão. |   |\\n \\n\\n| 40 | Display unitário catodo comum 70mm |  |\\n|---|---|---|\\n| 40 | Display unitário catodo comum 70mm |   |\\n| 20 | Display unitário anodo comum 127mm |   |\\n| 20 | Display unitário catodo comum 127mm |   |\\n| 40 | Display unitário alfanumérico 16 segmentos anodo comum 70mm |   |\\n| 12 | Display indicador de direção (<->) |   |\\n| 80 | 1N4002 – diodo retificador uso geral |   |\\n| 80 | 1N4004 – diodo Retificador uso geral 1A / 400V |   |\\n| 80 | 1N4007 – diodo retificador uso geral 1A / 1000V |   |\\n| 80 | 1N4148 – diodo de sinal 200mA / 75V |   |\\n| 80 | 1N60 – diodo de comutação rápida (detector de envoltória) |   |\\n| 80 | BAT85 – diodo Schottky uso geral |   |\\n| 80 | 1N5819 – Schottky de velocidad e potência 1A / 40VDC |   |\\n| 80 | Diodo Zener uso geral 2,4V |   |\\n| 80 | 1N4729 – diodo Zener uso geral 3,0V |   |\\n| 80 | BZV55C3V3 – diodo Zener uso geral 3,6V / 1W |   |\\n| 80 | 1N4733A – diodo Zener uso geral 3,3V / 0,5W |   |\\n| 80 | 1N4742A – diodo Zener uso geral 5V / 1W |   |\\n| 80 | TL431-TO – diodo Zener uso geral 12V / 1W |   |\\n| 80 | 1N4002 – diodo Zener ajustável até 36V |   |\\n| 150 | LM555 – timer / oscilador uso geral |   |\\n| 40 | LM556 – timer / oscilador duplo uso geral |   |\\n| 150 | LM741 - | amplificador operacional uso geral |\\n| 80 |   | comparador tensão uso geral (quad) |\\n| 80 | LM324 - | amplificador operacional (quad) |\\n| 80 | LM7805 - | regulador dDRAFTe voltagem integrado 5V / 0,5A |\\n| 80 | LM7806 - | regulador de voltagem integrado 5V / 1A |\\n| 80 | LM7812 - | regulador de voltagem integrado 12V / 0,1A |\\n| 80 | LM7905 - | regulador de voltagem integrado -5V / 0,5A |\\n| 80 | LM7906 - | regulador de voltagem integrado -5V / 0,1A |\\n| 80 | LM7912 - | regulador de voltagem integrado -12V / 1A |\\n| 80 | BC547 - transistor bipolar de sinal NPN / 100mA / 45V / 500mW |   |\\n| 200 | BC548 - transistor bipolar de sinal NPN 100mA / 30V / 500mA |   |\\n| 80 | BC549 - transistor bipolar de sinal NPN baixo ruído 100mA / 30V / 500mA |   |\\n| 80 | BC557 - transistor bipolar de sinal PNP / 100mA / 45V / 500mW |   |\\n| 200 | BC558 - transistor bipolar de sinal PNP / 100mA / 45V / 500mW |   |\\n| 50 | BD135 - transistor bipolar de potência NPN / 1,5A / 45V / 8W |   |\\n| 50 | BD136 - transistor bipolar de potência PNP / 1,5A / 45V / 8W |   |\\n| 50 | BD139 - transistor bipolar NPN de potência / 1,5A / 80V / 12,5W |   |\\n| 50 | TIP31 - transistor bipolar de potência NPN / 3A / 100V / 40W |   |\\n| 50 | TIP32 - transistor bipolar de potência PNP / 3A / 100V / 40W |   |\\n| 50 | TIP42 - transistor bipolar de potência PNP / 6A / 100V / 65W |   |\\n| 50 | TIP50 - transistor bipolar de potência/chaveamento NPN / 1A / 400V / 40W |   |\\n| 50 | TIC106 - SCR (retificador controlado de silício) 5A / 400V |   |\\n| 50 | 2N5060 - SCR (retificador controlado de silício) 800mA / -30V |   |\\n| 50 | 2N2219 - transistor bipolar NPN 0,8A / 30V encapsulamento metal |   |\\n| 200 | 2N2222 - transistor bipolar de chaveamento NPN / 800mA / 40V |   |\\n| 80 | Cristal oscilador 4MHz |   |\\n', '\\n\\nPara o adequado desenvolvimento das atividades do curso de Ciência da Computação, <br><br>são necessários os seguintes requisitos de infraestrutura: <br><br>\\uf0b7  5 (cinco) laboratórios de Programação; <br><br>\\uf0b7  1 (um) laboratório de Organização de Computadores e Sistemas Digitais; <br><br>\\uf0b7  1 (um) laboratório de Redes de Computadores e Sistemas Operacionais; <br><br>\\uf0b7  9 (nove) salas de aula; <br><br>\\uf0b7 Notebooks (1 por docente); <br><br>\\uf0b7 Projetores multimídia (1 por sala de aula e laboratório); <br><br>\\uf0b7 Rede local de dados, com acesso à Internet; <br><br>\\uf0b7 Software (sistemas operacionais, suítes de escritório, sistemas gerenciadores de <br><br>banco de dados, sistemas de desenvolvimento, produção e controle de versões de <br><br>software); <br><br>\\uf0b7 Salas para docentes; <br><br>\\uf0b7 Climatizadores em todas as salas e laboratórios; <br><br>\\uf0b7 Bibliografias da área. \\nDRAFT <br><br>A seguir, os requisitos referentes às bibliografias e aos laboratórios são detalhados.  \\n\\n']\n",
            "\n",
            "======================================================================\n",
            "\n",
            "Overall Metric Pass Rates\n",
            "\n",
            "Correctness (GEval): 100.00% pass rate\n",
            "\n",
            "======================================================================\n",
            "\n"
          ]
        },
        {
          "output_type": "stream",
          "name": "stderr",
          "text": [
            "\n"
          ]
        },
        {
          "output_type": "display_data",
          "data": {
            "text/plain": [
              "\u001b[38;2;5;245;141m✓\u001b[0m Tests finished 🎉! Run \u001b[32m'deepeval login'\u001b[0m to save and analyze evaluation results on Confident AI. \n",
              "‼️  Friendly reminder 😇: You can also run evaluations with ALL of deepeval's metrics directly on Confident AI \n",
              "instead.\n"
            ],
            "text/html": [
              "<pre style=\"white-space:pre;overflow-x:auto;line-height:normal;font-family:Menlo,'DejaVu Sans Mono',consolas,'Courier New',monospace\"><span style=\"color: #05f58d; text-decoration-color: #05f58d\">✓</span> Tests finished 🎉! Run <span style=\"color: #008000; text-decoration-color: #008000\">'deepeval login'</span> to save and analyze evaluation results on Confident AI. \n",
              "‼️  Friendly reminder 😇: You can also run evaluations with ALL of deepeval's metrics directly on Confident AI \n",
              "instead.\n",
              "</pre>\n"
            ]
          },
          "metadata": {}
        },
        {
          "output_type": "display_data",
          "data": {
            "text/plain": [
              "✨ You're running DeepEval's latest \u001b[38;2;106;0;255mAnswer Relevancy Metric\u001b[0m! \u001b[1;38;2;55;65;81m(\u001b[0m\u001b[38;2;55;65;81musing mistral-large-latest, \u001b[0m\u001b[38;2;55;65;81mstrict\u001b[0m\u001b[38;2;55;65;81m=\u001b[0m\u001b[3;38;2;55;65;81mFalse\u001b[0m\u001b[38;2;55;65;81m, \u001b[0m\n",
              "\u001b[38;2;55;65;81masync_mode\u001b[0m\u001b[38;2;55;65;81m=\u001b[0m\u001b[3;38;2;55;65;81mTrue\u001b[0m\u001b[1;38;2;55;65;81m)\u001b[0m\u001b[38;2;55;65;81m...\u001b[0m\n"
            ],
            "text/html": [
              "<pre style=\"white-space:pre;overflow-x:auto;line-height:normal;font-family:Menlo,'DejaVu Sans Mono',consolas,'Courier New',monospace\">✨ You're running DeepEval's latest <span style=\"color: #6a00ff; text-decoration-color: #6a00ff\">Answer Relevancy Metric</span>! <span style=\"color: #374151; text-decoration-color: #374151; font-weight: bold\">(</span><span style=\"color: #374151; text-decoration-color: #374151\">using mistral-large-latest, </span><span style=\"color: #374151; text-decoration-color: #374151\">strict</span><span style=\"color: #374151; text-decoration-color: #374151\">=</span><span style=\"color: #374151; text-decoration-color: #374151; font-style: italic\">False</span><span style=\"color: #374151; text-decoration-color: #374151\">, </span>\n",
              "<span style=\"color: #374151; text-decoration-color: #374151\">async_mode</span><span style=\"color: #374151; text-decoration-color: #374151\">=</span><span style=\"color: #374151; text-decoration-color: #374151; font-style: italic\">True</span><span style=\"color: #374151; text-decoration-color: #374151; font-weight: bold\">)</span><span style=\"color: #374151; text-decoration-color: #374151\">...</span>\n",
              "</pre>\n"
            ]
          },
          "metadata": {}
        },
        {
          "output_type": "stream",
          "name": "stdout",
          "text": [
            "Event loop is already running. Applying nest_asyncio patch to allow async execution...\n"
          ]
        },
        {
          "output_type": "stream",
          "name": "stderr",
          "text": [
            "Evaluating 1 test case(s) in parallel: |██████████|100% (1/1) [Time Taken: 00:07,  7.92s/test case]"
          ]
        },
        {
          "output_type": "stream",
          "name": "stdout",
          "text": [
            "\n",
            "======================================================================\n",
            "\n",
            "Metrics Summary\n",
            "\n",
            "  - ✅ Answer Relevancy (score: 1.0, threshold: 0.5, strict: False, evaluation model: mistral-large-latest, reason: The score is 1.00 because the response perfectly addresses the question about available laboratories for the students of the course., error: None)\n",
            "\n",
            "For test case:\n",
            "\n",
            "  - input: Quais laboratórios estão disponíveis para os alunos do curso?\n",
            "  - actual output: Os laboratórios disponíveis para os alunos do curso de Ciência da Computação são:\n",
            "\n",
            "- 5 (cinco) laboratórios de Programação;\n",
            "- 1 (um) laboratório de Organização de Computadores e Sistemas Digitais;\n",
            "- 1 (um) laboratório de Redes de Computadores e Sistemas Operacionais.\n",
            "  - expected output: 5 (cinco) laboratórios de Programação;1 (um) laboratório de Organização de Computadores e Sistemas Digitais;\r\n",
            "1 (um) laboratório de Redes de Computadores e Sistemas Operacionais;\n",
            "  - context: None\n",
            "  - retrieval context: ['\\n\\n13 PERFIL DOCENTE E PROCESSO DE QUALIFICAÇÃO <br><br>14 QUADRO DE PESSOAL DOCENTE <br><br>14.1 Docentes do*Campus*Chapecó/SC que atuam no Curso <br><br>15 INFRAESTRUTURA NECESSÁRIA AO CURSO <br><br>15.1 Bibliotecas <br><br>15.2 Laboratórios <br><br>15.2.1 Laboratórios de Organização de Computadores e Sistemas Digitais <br><br>15.2.2 Laboratórios de Programação I, II, III, IV e V <br><br>15.2.3 Laboratório de Redes de Computadores e Sistemas Operacionais <br><br>15.3 Demais itens <br><br>16 ANEXOS  \\n\\n| A seguir, são detalhados os materiais necessários para este laboratório. |  |  |\\n|---|---|---|\\n| LABORATÓRIO DE REDES DE COMPUTADORES E SISTEMAS OPERACIONAIS |   |   |\\n| Docente responsável: Docente das disciplinas de Redes de Computadores ou Sistemas Operacionais |   |   |\\n| Discentes por turma: 25 |   |   |\\n| Área: 60 m2 |   | Localização: Campus Chapecó |\\n| Quantidade | Descrição |   |\\n| 1 | Armário (2,0 x 0,8 x 1,80) (L x P x A) DRAFT |   |\\n| 13 | Bancada de 0,6 m de largura por 2 m de comprimento, com 6 tomadas cada |   |\\n| 25 | Computador com processador quad-core frequência de 2.2 GHz e FSB 800 MHz ou superior 4 Mb RAM (memória tipo DIMM SDRAM DDR2 ou superior) Disco rígido padrão Serial ATA II com capacidade de armazenamento de 400 Gbytes (ou superior) e rotação 7200 rpm (ou superior) Unidade ótica do tipo DVD-RW Monitor de vídeo LCD com tela de 19 polegadas, tela do tipo Matriz Ativa – TFT LCD, interface digital, dot pitch de 0.264 mm e resolução gráfica de 1280 x 1024 à 75 Hz Teclado padrão ABNT-2 com interface USB Mouse ótico com 3 botões, rolagem e interface USB 2 Interfaces de rede Gigabit Ethernet padrão IEEE 802.3x compatível com as velocidades 10/100/1000, para conexão de cabo de par trançado, com conectores RJ-45. Interface para vídeo com alocação dinâmica de memória, que suporte a resolução de 1900 x 1200 com taxa de atualização de 85 Hz e interface digital. 02 (duas) interfaces para teclado e mouse padrão USB. 04 (quatro) interfaces USB (além das interfaces para mouse e teclado). 01 (uma) interface serial integrada na placa mãe, com conector de 9 pinos padrão. Gabinete tool less |   |\\n', '\\n\\n| programação. |  |  |\\n|---|---|---|\\n| LABORATÓRIO DE PROGRAMAÇÃO I, II, III, IV e V |   |   |\\n| Docente responsável: Docente das disciplinas, conforme oferta do semestre: Algoritmos e Programação, Estruturas de Dados I, Estruturas de Dados II, Programação Orientada a Objetos, entre outras |   |   |\\n| Discentes por turma: 30 DRAFT |   |   |\\n| Área: 60 m2 |   | Localização: Campus Chapecó |\\n| Quantidade | Descrição |   |\\n| 30 | Computadores com processador quad-core frequência de 2.2 GHz e FSB 800 MHz ou superior 4 Mb RAM (memória tipo DIMM SDRAM DDR2 ou superior) Disco rígido padrão Serial ATA II com capacidade de armazenamento de 400 Gbytes (ou superior) e rotação 7200 rpm (ou superior) Unidade ótica do tipo DVD-RW Monitor de vídeo LCD com tela de 19 polegadas, tela do tipo Matriz Ativa – TFT LCD, interface digital, dot pitch de 0.264 mm e resolução gráfica de 1280 x 1024 à 75 Hz Teclado padrão ABNT-2 com interface USB Mouse ótico com 3 botões, rolagem e interface USB Interface de rede Gigabit Ethernet padrão IEEE 802.3x compatível com as velocidades 10/100/1000, para conexão de cabo de par trançado, com conectores RJ-45. Interface para vídeo com alocação dinâmica de memória, que suporte a resolução de 1900 x 1200 com taxa de atualização de 85 Hz e interface digital. 02 (duas) interfaces para teclado e mouse padrão USB. 04 (quatro) interfaces USB (além das interfaces para mouse e teclado). 01 (uma) interface serial integrada na placa-mãe, com conector de 9 pinos padrão. |   |\\n \\n\\n| 40 | Display unitário catodo comum 70mm |  |\\n|---|---|---|\\n| 40 | Display unitário catodo comum 70mm |   |\\n| 20 | Display unitário anodo comum 127mm |   |\\n| 20 | Display unitário catodo comum 127mm |   |\\n| 40 | Display unitário alfanumérico 16 segmentos anodo comum 70mm |   |\\n| 12 | Display indicador de direção (<->) |   |\\n| 80 | 1N4002 – diodo retificador uso geral |   |\\n| 80 | 1N4004 – diodo Retificador uso geral 1A / 400V |   |\\n| 80 | 1N4007 – diodo retificador uso geral 1A / 1000V |   |\\n| 80 | 1N4148 – diodo de sinal 200mA / 75V |   |\\n| 80 | 1N60 – diodo de comutação rápida (detector de envoltória) |   |\\n| 80 | BAT85 – diodo Schottky uso geral |   |\\n| 80 | 1N5819 – Schottky de velocidad e potência 1A / 40VDC |   |\\n| 80 | Diodo Zener uso geral 2,4V |   |\\n| 80 | 1N4729 – diodo Zener uso geral 3,0V |   |\\n| 80 | BZV55C3V3 – diodo Zener uso geral 3,6V / 1W |   |\\n| 80 | 1N4733A – diodo Zener uso geral 3,3V / 0,5W |   |\\n| 80 | 1N4742A – diodo Zener uso geral 5V / 1W |   |\\n| 80 | TL431-TO – diodo Zener uso geral 12V / 1W |   |\\n| 80 | 1N4002 – diodo Zener ajustável até 36V |   |\\n| 150 | LM555 – timer / oscilador uso geral |   |\\n| 40 | LM556 – timer / oscilador duplo uso geral |   |\\n| 150 | LM741 - | amplificador operacional uso geral |\\n| 80 |   | comparador tensão uso geral (quad) |\\n| 80 | LM324 - | amplificador operacional (quad) |\\n| 80 | LM7805 - | regulador dDRAFTe voltagem integrado 5V / 0,5A |\\n| 80 | LM7806 - | regulador de voltagem integrado 5V / 1A |\\n| 80 | LM7812 - | regulador de voltagem integrado 12V / 0,1A |\\n| 80 | LM7905 - | regulador de voltagem integrado -5V / 0,5A |\\n| 80 | LM7906 - | regulador de voltagem integrado -5V / 0,1A |\\n| 80 | LM7912 - | regulador de voltagem integrado -12V / 1A |\\n| 80 | BC547 - transistor bipolar de sinal NPN / 100mA / 45V / 500mW |   |\\n| 200 | BC548 - transistor bipolar de sinal NPN 100mA / 30V / 500mA |   |\\n| 80 | BC549 - transistor bipolar de sinal NPN baixo ruído 100mA / 30V / 500mA |   |\\n| 80 | BC557 - transistor bipolar de sinal PNP / 100mA / 45V / 500mW |   |\\n| 200 | BC558 - transistor bipolar de sinal PNP / 100mA / 45V / 500mW |   |\\n| 50 | BD135 - transistor bipolar de potência NPN / 1,5A / 45V / 8W |   |\\n| 50 | BD136 - transistor bipolar de potência PNP / 1,5A / 45V / 8W |   |\\n| 50 | BD139 - transistor bipolar NPN de potência / 1,5A / 80V / 12,5W |   |\\n| 50 | TIP31 - transistor bipolar de potência NPN / 3A / 100V / 40W |   |\\n| 50 | TIP32 - transistor bipolar de potência PNP / 3A / 100V / 40W |   |\\n| 50 | TIP42 - transistor bipolar de potência PNP / 6A / 100V / 65W |   |\\n| 50 | TIP50 - transistor bipolar de potência/chaveamento NPN / 1A / 400V / 40W |   |\\n| 50 | TIC106 - SCR (retificador controlado de silício) 5A / 400V |   |\\n| 50 | 2N5060 - SCR (retificador controlado de silício) 800mA / -30V |   |\\n| 50 | 2N2219 - transistor bipolar NPN 0,8A / 30V encapsulamento metal |   |\\n| 200 | 2N2222 - transistor bipolar de chaveamento NPN / 800mA / 40V |   |\\n| 80 | Cristal oscilador 4MHz |   |\\n', '\\n\\nPara o adequado desenvolvimento das atividades do curso de Ciência da Computação, <br><br>são necessários os seguintes requisitos de infraestrutura: <br><br>\\uf0b7  5 (cinco) laboratórios de Programação; <br><br>\\uf0b7  1 (um) laboratório de Organização de Computadores e Sistemas Digitais; <br><br>\\uf0b7  1 (um) laboratório de Redes de Computadores e Sistemas Operacionais; <br><br>\\uf0b7  9 (nove) salas de aula; <br><br>\\uf0b7 Notebooks (1 por docente); <br><br>\\uf0b7 Projetores multimídia (1 por sala de aula e laboratório); <br><br>\\uf0b7 Rede local de dados, com acesso à Internet; <br><br>\\uf0b7 Software (sistemas operacionais, suítes de escritório, sistemas gerenciadores de <br><br>banco de dados, sistemas de desenvolvimento, produção e controle de versões de <br><br>software); <br><br>\\uf0b7 Salas para docentes; <br><br>\\uf0b7 Climatizadores em todas as salas e laboratórios; <br><br>\\uf0b7 Bibliografias da área. \\nDRAFT <br><br>A seguir, os requisitos referentes às bibliografias e aos laboratórios são detalhados.  \\n\\n']\n",
            "\n",
            "======================================================================\n",
            "\n",
            "Overall Metric Pass Rates\n",
            "\n",
            "Answer Relevancy: 100.00% pass rate\n",
            "\n",
            "======================================================================\n",
            "\n"
          ]
        },
        {
          "output_type": "stream",
          "name": "stderr",
          "text": [
            "\n"
          ]
        },
        {
          "output_type": "display_data",
          "data": {
            "text/plain": [
              "\u001b[38;2;5;245;141m✓\u001b[0m Tests finished 🎉! Run \u001b[32m'deepeval login'\u001b[0m to save and analyze evaluation results on Confident AI. \n",
              "‼️  Friendly reminder 😇: You can also run evaluations with ALL of deepeval's metrics directly on Confident AI \n",
              "instead.\n"
            ],
            "text/html": [
              "<pre style=\"white-space:pre;overflow-x:auto;line-height:normal;font-family:Menlo,'DejaVu Sans Mono',consolas,'Courier New',monospace\"><span style=\"color: #05f58d; text-decoration-color: #05f58d\">✓</span> Tests finished 🎉! Run <span style=\"color: #008000; text-decoration-color: #008000\">'deepeval login'</span> to save and analyze evaluation results on Confident AI. \n",
              "‼️  Friendly reminder 😇: You can also run evaluations with ALL of deepeval's metrics directly on Confident AI \n",
              "instead.\n",
              "</pre>\n"
            ]
          },
          "metadata": {}
        },
        {
          "output_type": "display_data",
          "data": {
            "text/plain": [
              "✨ You're running DeepEval's latest \u001b[38;2;106;0;255mContextual Recall Metric\u001b[0m! \u001b[1;38;2;55;65;81m(\u001b[0m\u001b[38;2;55;65;81musing llama-\u001b[0m\u001b[1;38;2;55;65;81m3.1\u001b[0m\u001b[38;2;55;65;81m-70b-versatile, \u001b[0m\u001b[38;2;55;65;81mstrict\u001b[0m\u001b[38;2;55;65;81m=\u001b[0m\u001b[3;38;2;55;65;81mFalse\u001b[0m\u001b[38;2;55;65;81m, \u001b[0m\n",
              "\u001b[38;2;55;65;81masync_mode\u001b[0m\u001b[38;2;55;65;81m=\u001b[0m\u001b[3;38;2;55;65;81mTrue\u001b[0m\u001b[1;38;2;55;65;81m)\u001b[0m\u001b[38;2;55;65;81m...\u001b[0m\n"
            ],
            "text/html": [
              "<pre style=\"white-space:pre;overflow-x:auto;line-height:normal;font-family:Menlo,'DejaVu Sans Mono',consolas,'Courier New',monospace\">✨ You're running DeepEval's latest <span style=\"color: #6a00ff; text-decoration-color: #6a00ff\">Contextual Recall Metric</span>! <span style=\"color: #374151; text-decoration-color: #374151; font-weight: bold\">(</span><span style=\"color: #374151; text-decoration-color: #374151\">using llama-</span><span style=\"color: #374151; text-decoration-color: #374151; font-weight: bold\">3.1</span><span style=\"color: #374151; text-decoration-color: #374151\">-70b-versatile, </span><span style=\"color: #374151; text-decoration-color: #374151\">strict</span><span style=\"color: #374151; text-decoration-color: #374151\">=</span><span style=\"color: #374151; text-decoration-color: #374151; font-style: italic\">False</span><span style=\"color: #374151; text-decoration-color: #374151\">, </span>\n",
              "<span style=\"color: #374151; text-decoration-color: #374151\">async_mode</span><span style=\"color: #374151; text-decoration-color: #374151\">=</span><span style=\"color: #374151; text-decoration-color: #374151; font-style: italic\">True</span><span style=\"color: #374151; text-decoration-color: #374151; font-weight: bold\">)</span><span style=\"color: #374151; text-decoration-color: #374151\">...</span>\n",
              "</pre>\n"
            ]
          },
          "metadata": {}
        },
        {
          "output_type": "stream",
          "name": "stdout",
          "text": [
            "Event loop is already running. Applying nest_asyncio patch to allow async execution...\n"
          ]
        },
        {
          "output_type": "stream",
          "name": "stderr",
          "text": [
            "Evaluating 1 test case(s) in parallel: |██████████|100% (1/1) [Time Taken: 00:02,  2.17s/test case]"
          ]
        },
        {
          "output_type": "stream",
          "name": "stdout",
          "text": [
            "\n",
            "======================================================================\n",
            "\n",
            "Metrics Summary\n",
            "\n",
            "  - ✅ Contextual Recall (score: 1.0, threshold: 0.25, strict: False, evaluation model: llama-3.1-70b-versatile, reason: None, error: None)\n",
            "\n",
            "For test case:\n",
            "\n",
            "  - input: Quais laboratórios estão disponíveis para os alunos do curso?\n",
            "  - actual output: Os laboratórios disponíveis para os alunos do curso de Ciência da Computação são:\n",
            "\n",
            "- 5 (cinco) laboratórios de Programação;\n",
            "- 1 (um) laboratório de Organização de Computadores e Sistemas Digitais;\n",
            "- 1 (um) laboratório de Redes de Computadores e Sistemas Operacionais.\n",
            "  - expected output: 5 (cinco) laboratórios de Programação;1 (um) laboratório de Organização de Computadores e Sistemas Digitais;\r\n",
            "1 (um) laboratório de Redes de Computadores e Sistemas Operacionais;\n",
            "  - context: None\n",
            "  - retrieval context: ['\\n\\n13 PERFIL DOCENTE E PROCESSO DE QUALIFICAÇÃO <br><br>14 QUADRO DE PESSOAL DOCENTE <br><br>14.1 Docentes do*Campus*Chapecó/SC que atuam no Curso <br><br>15 INFRAESTRUTURA NECESSÁRIA AO CURSO <br><br>15.1 Bibliotecas <br><br>15.2 Laboratórios <br><br>15.2.1 Laboratórios de Organização de Computadores e Sistemas Digitais <br><br>15.2.2 Laboratórios de Programação I, II, III, IV e V <br><br>15.2.3 Laboratório de Redes de Computadores e Sistemas Operacionais <br><br>15.3 Demais itens <br><br>16 ANEXOS  \\n\\n| A seguir, são detalhados os materiais necessários para este laboratório. |  |  |\\n|---|---|---|\\n| LABORATÓRIO DE REDES DE COMPUTADORES E SISTEMAS OPERACIONAIS |   |   |\\n| Docente responsável: Docente das disciplinas de Redes de Computadores ou Sistemas Operacionais |   |   |\\n| Discentes por turma: 25 |   |   |\\n| Área: 60 m2 |   | Localização: Campus Chapecó |\\n| Quantidade | Descrição |   |\\n| 1 | Armário (2,0 x 0,8 x 1,80) (L x P x A) DRAFT |   |\\n| 13 | Bancada de 0,6 m de largura por 2 m de comprimento, com 6 tomadas cada |   |\\n| 25 | Computador com processador quad-core frequência de 2.2 GHz e FSB 800 MHz ou superior 4 Mb RAM (memória tipo DIMM SDRAM DDR2 ou superior) Disco rígido padrão Serial ATA II com capacidade de armazenamento de 400 Gbytes (ou superior) e rotação 7200 rpm (ou superior) Unidade ótica do tipo DVD-RW Monitor de vídeo LCD com tela de 19 polegadas, tela do tipo Matriz Ativa – TFT LCD, interface digital, dot pitch de 0.264 mm e resolução gráfica de 1280 x 1024 à 75 Hz Teclado padrão ABNT-2 com interface USB Mouse ótico com 3 botões, rolagem e interface USB 2 Interfaces de rede Gigabit Ethernet padrão IEEE 802.3x compatível com as velocidades 10/100/1000, para conexão de cabo de par trançado, com conectores RJ-45. Interface para vídeo com alocação dinâmica de memória, que suporte a resolução de 1900 x 1200 com taxa de atualização de 85 Hz e interface digital. 02 (duas) interfaces para teclado e mouse padrão USB. 04 (quatro) interfaces USB (além das interfaces para mouse e teclado). 01 (uma) interface serial integrada na placa mãe, com conector de 9 pinos padrão. Gabinete tool less |   |\\n', '\\n\\n| programação. |  |  |\\n|---|---|---|\\n| LABORATÓRIO DE PROGRAMAÇÃO I, II, III, IV e V |   |   |\\n| Docente responsável: Docente das disciplinas, conforme oferta do semestre: Algoritmos e Programação, Estruturas de Dados I, Estruturas de Dados II, Programação Orientada a Objetos, entre outras |   |   |\\n| Discentes por turma: 30 DRAFT |   |   |\\n| Área: 60 m2 |   | Localização: Campus Chapecó |\\n| Quantidade | Descrição |   |\\n| 30 | Computadores com processador quad-core frequência de 2.2 GHz e FSB 800 MHz ou superior 4 Mb RAM (memória tipo DIMM SDRAM DDR2 ou superior) Disco rígido padrão Serial ATA II com capacidade de armazenamento de 400 Gbytes (ou superior) e rotação 7200 rpm (ou superior) Unidade ótica do tipo DVD-RW Monitor de vídeo LCD com tela de 19 polegadas, tela do tipo Matriz Ativa – TFT LCD, interface digital, dot pitch de 0.264 mm e resolução gráfica de 1280 x 1024 à 75 Hz Teclado padrão ABNT-2 com interface USB Mouse ótico com 3 botões, rolagem e interface USB Interface de rede Gigabit Ethernet padrão IEEE 802.3x compatível com as velocidades 10/100/1000, para conexão de cabo de par trançado, com conectores RJ-45. Interface para vídeo com alocação dinâmica de memória, que suporte a resolução de 1900 x 1200 com taxa de atualização de 85 Hz e interface digital. 02 (duas) interfaces para teclado e mouse padrão USB. 04 (quatro) interfaces USB (além das interfaces para mouse e teclado). 01 (uma) interface serial integrada na placa-mãe, com conector de 9 pinos padrão. |   |\\n \\n\\n| 40 | Display unitário catodo comum 70mm |  |\\n|---|---|---|\\n| 40 | Display unitário catodo comum 70mm |   |\\n| 20 | Display unitário anodo comum 127mm |   |\\n| 20 | Display unitário catodo comum 127mm |   |\\n| 40 | Display unitário alfanumérico 16 segmentos anodo comum 70mm |   |\\n| 12 | Display indicador de direção (<->) |   |\\n| 80 | 1N4002 – diodo retificador uso geral |   |\\n| 80 | 1N4004 – diodo Retificador uso geral 1A / 400V |   |\\n| 80 | 1N4007 – diodo retificador uso geral 1A / 1000V |   |\\n| 80 | 1N4148 – diodo de sinal 200mA / 75V |   |\\n| 80 | 1N60 – diodo de comutação rápida (detector de envoltória) |   |\\n| 80 | BAT85 – diodo Schottky uso geral |   |\\n| 80 | 1N5819 – Schottky de velocidad e potência 1A / 40VDC |   |\\n| 80 | Diodo Zener uso geral 2,4V |   |\\n| 80 | 1N4729 – diodo Zener uso geral 3,0V |   |\\n| 80 | BZV55C3V3 – diodo Zener uso geral 3,6V / 1W |   |\\n| 80 | 1N4733A – diodo Zener uso geral 3,3V / 0,5W |   |\\n| 80 | 1N4742A – diodo Zener uso geral 5V / 1W |   |\\n| 80 | TL431-TO – diodo Zener uso geral 12V / 1W |   |\\n| 80 | 1N4002 – diodo Zener ajustável até 36V |   |\\n| 150 | LM555 – timer / oscilador uso geral |   |\\n| 40 | LM556 – timer / oscilador duplo uso geral |   |\\n| 150 | LM741 - | amplificador operacional uso geral |\\n| 80 |   | comparador tensão uso geral (quad) |\\n| 80 | LM324 - | amplificador operacional (quad) |\\n| 80 | LM7805 - | regulador dDRAFTe voltagem integrado 5V / 0,5A |\\n| 80 | LM7806 - | regulador de voltagem integrado 5V / 1A |\\n| 80 | LM7812 - | regulador de voltagem integrado 12V / 0,1A |\\n| 80 | LM7905 - | regulador de voltagem integrado -5V / 0,5A |\\n| 80 | LM7906 - | regulador de voltagem integrado -5V / 0,1A |\\n| 80 | LM7912 - | regulador de voltagem integrado -12V / 1A |\\n| 80 | BC547 - transistor bipolar de sinal NPN / 100mA / 45V / 500mW |   |\\n| 200 | BC548 - transistor bipolar de sinal NPN 100mA / 30V / 500mA |   |\\n| 80 | BC549 - transistor bipolar de sinal NPN baixo ruído 100mA / 30V / 500mA |   |\\n| 80 | BC557 - transistor bipolar de sinal PNP / 100mA / 45V / 500mW |   |\\n| 200 | BC558 - transistor bipolar de sinal PNP / 100mA / 45V / 500mW |   |\\n| 50 | BD135 - transistor bipolar de potência NPN / 1,5A / 45V / 8W |   |\\n| 50 | BD136 - transistor bipolar de potência PNP / 1,5A / 45V / 8W |   |\\n| 50 | BD139 - transistor bipolar NPN de potência / 1,5A / 80V / 12,5W |   |\\n| 50 | TIP31 - transistor bipolar de potência NPN / 3A / 100V / 40W |   |\\n| 50 | TIP32 - transistor bipolar de potência PNP / 3A / 100V / 40W |   |\\n| 50 | TIP42 - transistor bipolar de potência PNP / 6A / 100V / 65W |   |\\n| 50 | TIP50 - transistor bipolar de potência/chaveamento NPN / 1A / 400V / 40W |   |\\n| 50 | TIC106 - SCR (retificador controlado de silício) 5A / 400V |   |\\n| 50 | 2N5060 - SCR (retificador controlado de silício) 800mA / -30V |   |\\n| 50 | 2N2219 - transistor bipolar NPN 0,8A / 30V encapsulamento metal |   |\\n| 200 | 2N2222 - transistor bipolar de chaveamento NPN / 800mA / 40V |   |\\n| 80 | Cristal oscilador 4MHz |   |\\n', '\\n\\nPara o adequado desenvolvimento das atividades do curso de Ciência da Computação, <br><br>são necessários os seguintes requisitos de infraestrutura: <br><br>\\uf0b7  5 (cinco) laboratórios de Programação; <br><br>\\uf0b7  1 (um) laboratório de Organização de Computadores e Sistemas Digitais; <br><br>\\uf0b7  1 (um) laboratório de Redes de Computadores e Sistemas Operacionais; <br><br>\\uf0b7  9 (nove) salas de aula; <br><br>\\uf0b7 Notebooks (1 por docente); <br><br>\\uf0b7 Projetores multimídia (1 por sala de aula e laboratório); <br><br>\\uf0b7 Rede local de dados, com acesso à Internet; <br><br>\\uf0b7 Software (sistemas operacionais, suítes de escritório, sistemas gerenciadores de <br><br>banco de dados, sistemas de desenvolvimento, produção e controle de versões de <br><br>software); <br><br>\\uf0b7 Salas para docentes; <br><br>\\uf0b7 Climatizadores em todas as salas e laboratórios; <br><br>\\uf0b7 Bibliografias da área. \\nDRAFT <br><br>A seguir, os requisitos referentes às bibliografias e aos laboratórios são detalhados.  \\n\\n']\n",
            "\n",
            "======================================================================\n",
            "\n",
            "Overall Metric Pass Rates\n",
            "\n",
            "Contextual Recall: 100.00% pass rate\n",
            "\n",
            "======================================================================\n",
            "\n"
          ]
        },
        {
          "output_type": "stream",
          "name": "stderr",
          "text": [
            "\n"
          ]
        },
        {
          "output_type": "display_data",
          "data": {
            "text/plain": [
              "\u001b[38;2;5;245;141m✓\u001b[0m Tests finished 🎉! Run \u001b[32m'deepeval login'\u001b[0m to save and analyze evaluation results on Confident AI. \n",
              "‼️  Friendly reminder 😇: You can also run evaluations with ALL of deepeval's metrics directly on Confident AI \n",
              "instead.\n"
            ],
            "text/html": [
              "<pre style=\"white-space:pre;overflow-x:auto;line-height:normal;font-family:Menlo,'DejaVu Sans Mono',consolas,'Courier New',monospace\"><span style=\"color: #05f58d; text-decoration-color: #05f58d\">✓</span> Tests finished 🎉! Run <span style=\"color: #008000; text-decoration-color: #008000\">'deepeval login'</span> to save and analyze evaluation results on Confident AI. \n",
              "‼️  Friendly reminder 😇: You can also run evaluations with ALL of deepeval's metrics directly on Confident AI \n",
              "instead.\n",
              "</pre>\n"
            ]
          },
          "metadata": {}
        },
        {
          "output_type": "display_data",
          "data": {
            "text/plain": [
              "✨ You're running DeepEval's latest \u001b[38;2;106;0;255mFaithfulness Metric\u001b[0m! \u001b[1;38;2;55;65;81m(\u001b[0m\u001b[38;2;55;65;81musing mistral-large-latest, \u001b[0m\u001b[38;2;55;65;81mstrict\u001b[0m\u001b[38;2;55;65;81m=\u001b[0m\u001b[3;38;2;55;65;81mFalse\u001b[0m\u001b[38;2;55;65;81m, \u001b[0m\n",
              "\u001b[38;2;55;65;81masync_mode\u001b[0m\u001b[38;2;55;65;81m=\u001b[0m\u001b[3;38;2;55;65;81mTrue\u001b[0m\u001b[1;38;2;55;65;81m)\u001b[0m\u001b[38;2;55;65;81m...\u001b[0m\n"
            ],
            "text/html": [
              "<pre style=\"white-space:pre;overflow-x:auto;line-height:normal;font-family:Menlo,'DejaVu Sans Mono',consolas,'Courier New',monospace\">✨ You're running DeepEval's latest <span style=\"color: #6a00ff; text-decoration-color: #6a00ff\">Faithfulness Metric</span>! <span style=\"color: #374151; text-decoration-color: #374151; font-weight: bold\">(</span><span style=\"color: #374151; text-decoration-color: #374151\">using mistral-large-latest, </span><span style=\"color: #374151; text-decoration-color: #374151\">strict</span><span style=\"color: #374151; text-decoration-color: #374151\">=</span><span style=\"color: #374151; text-decoration-color: #374151; font-style: italic\">False</span><span style=\"color: #374151; text-decoration-color: #374151\">, </span>\n",
              "<span style=\"color: #374151; text-decoration-color: #374151\">async_mode</span><span style=\"color: #374151; text-decoration-color: #374151\">=</span><span style=\"color: #374151; text-decoration-color: #374151; font-style: italic\">True</span><span style=\"color: #374151; text-decoration-color: #374151; font-weight: bold\">)</span><span style=\"color: #374151; text-decoration-color: #374151\">...</span>\n",
              "</pre>\n"
            ]
          },
          "metadata": {}
        },
        {
          "output_type": "stream",
          "name": "stdout",
          "text": [
            "Event loop is already running. Applying nest_asyncio patch to allow async execution...\n"
          ]
        },
        {
          "output_type": "stream",
          "name": "stderr",
          "text": [
            "\rEvaluating 1 test case(s) in parallel: |          |  0% (0/1) [Time Taken: 00:00, ?test case/s]"
          ]
        },
        {
          "output_type": "stream",
          "name": "stdout",
          "text": [
            "3\n"
          ]
        },
        {
          "output_type": "stream",
          "name": "stderr",
          "text": [
            "Evaluating 1 test case(s) in parallel: |██████████|100% (1/1) [Time Taken: 00:08,  8.92s/test case]"
          ]
        },
        {
          "output_type": "stream",
          "name": "stdout",
          "text": [
            "\n",
            "======================================================================\n",
            "\n",
            "Metrics Summary\n",
            "\n",
            "  - ✅ Faithfulness (score: 1.0, threshold: 0.5, strict: False, evaluation model: mistral-large-latest, reason: The score is 1.00 because there are no contradictions! Great job!, error: None)\n",
            "\n",
            "For test case:\n",
            "\n",
            "  - input: Quais laboratórios estão disponíveis para os alunos do curso?\n",
            "  - actual output: Os laboratórios disponíveis para os alunos do curso de Ciência da Computação são:\n",
            "\n",
            "- 5 (cinco) laboratórios de Programação;\n",
            "- 1 (um) laboratório de Organização de Computadores e Sistemas Digitais;\n",
            "- 1 (um) laboratório de Redes de Computadores e Sistemas Operacionais.\n",
            "  - expected output: 5 (cinco) laboratórios de Programação;1 (um) laboratório de Organização de Computadores e Sistemas Digitais;\r\n",
            "1 (um) laboratório de Redes de Computadores e Sistemas Operacionais;\n",
            "  - context: None\n",
            "  - retrieval context: ['\\n\\n13 PERFIL DOCENTE E PROCESSO DE QUALIFICAÇÃO <br><br>14 QUADRO DE PESSOAL DOCENTE <br><br>14.1 Docentes do*Campus*Chapecó/SC que atuam no Curso <br><br>15 INFRAESTRUTURA NECESSÁRIA AO CURSO <br><br>15.1 Bibliotecas <br><br>15.2 Laboratórios <br><br>15.2.1 Laboratórios de Organização de Computadores e Sistemas Digitais <br><br>15.2.2 Laboratórios de Programação I, II, III, IV e V <br><br>15.2.3 Laboratório de Redes de Computadores e Sistemas Operacionais <br><br>15.3 Demais itens <br><br>16 ANEXOS  \\n\\n| A seguir, são detalhados os materiais necessários para este laboratório. |  |  |\\n|---|---|---|\\n| LABORATÓRIO DE REDES DE COMPUTADORES E SISTEMAS OPERACIONAIS |   |   |\\n| Docente responsável: Docente das disciplinas de Redes de Computadores ou Sistemas Operacionais |   |   |\\n| Discentes por turma: 25 |   |   |\\n| Área: 60 m2 |   | Localização: Campus Chapecó |\\n| Quantidade | Descrição |   |\\n| 1 | Armário (2,0 x 0,8 x 1,80) (L x P x A) DRAFT |   |\\n| 13 | Bancada de 0,6 m de largura por 2 m de comprimento, com 6 tomadas cada |   |\\n| 25 | Computador com processador quad-core frequência de 2.2 GHz e FSB 800 MHz ou superior 4 Mb RAM (memória tipo DIMM SDRAM DDR2 ou superior) Disco rígido padrão Serial ATA II com capacidade de armazenamento de 400 Gbytes (ou superior) e rotação 7200 rpm (ou superior) Unidade ótica do tipo DVD-RW Monitor de vídeo LCD com tela de 19 polegadas, tela do tipo Matriz Ativa – TFT LCD, interface digital, dot pitch de 0.264 mm e resolução gráfica de 1280 x 1024 à 75 Hz Teclado padrão ABNT-2 com interface USB Mouse ótico com 3 botões, rolagem e interface USB 2 Interfaces de rede Gigabit Ethernet padrão IEEE 802.3x compatível com as velocidades 10/100/1000, para conexão de cabo de par trançado, com conectores RJ-45. Interface para vídeo com alocação dinâmica de memória, que suporte a resolução de 1900 x 1200 com taxa de atualização de 85 Hz e interface digital. 02 (duas) interfaces para teclado e mouse padrão USB. 04 (quatro) interfaces USB (além das interfaces para mouse e teclado). 01 (uma) interface serial integrada na placa mãe, com conector de 9 pinos padrão. Gabinete tool less |   |\\n', '\\n\\n| programação. |  |  |\\n|---|---|---|\\n| LABORATÓRIO DE PROGRAMAÇÃO I, II, III, IV e V |   |   |\\n| Docente responsável: Docente das disciplinas, conforme oferta do semestre: Algoritmos e Programação, Estruturas de Dados I, Estruturas de Dados II, Programação Orientada a Objetos, entre outras |   |   |\\n| Discentes por turma: 30 DRAFT |   |   |\\n| Área: 60 m2 |   | Localização: Campus Chapecó |\\n| Quantidade | Descrição |   |\\n| 30 | Computadores com processador quad-core frequência de 2.2 GHz e FSB 800 MHz ou superior 4 Mb RAM (memória tipo DIMM SDRAM DDR2 ou superior) Disco rígido padrão Serial ATA II com capacidade de armazenamento de 400 Gbytes (ou superior) e rotação 7200 rpm (ou superior) Unidade ótica do tipo DVD-RW Monitor de vídeo LCD com tela de 19 polegadas, tela do tipo Matriz Ativa – TFT LCD, interface digital, dot pitch de 0.264 mm e resolução gráfica de 1280 x 1024 à 75 Hz Teclado padrão ABNT-2 com interface USB Mouse ótico com 3 botões, rolagem e interface USB Interface de rede Gigabit Ethernet padrão IEEE 802.3x compatível com as velocidades 10/100/1000, para conexão de cabo de par trançado, com conectores RJ-45. Interface para vídeo com alocação dinâmica de memória, que suporte a resolução de 1900 x 1200 com taxa de atualização de 85 Hz e interface digital. 02 (duas) interfaces para teclado e mouse padrão USB. 04 (quatro) interfaces USB (além das interfaces para mouse e teclado). 01 (uma) interface serial integrada na placa-mãe, com conector de 9 pinos padrão. |   |\\n \\n\\n| 40 | Display unitário catodo comum 70mm |  |\\n|---|---|---|\\n| 40 | Display unitário catodo comum 70mm |   |\\n| 20 | Display unitário anodo comum 127mm |   |\\n| 20 | Display unitário catodo comum 127mm |   |\\n| 40 | Display unitário alfanumérico 16 segmentos anodo comum 70mm |   |\\n| 12 | Display indicador de direção (<->) |   |\\n| 80 | 1N4002 – diodo retificador uso geral |   |\\n| 80 | 1N4004 – diodo Retificador uso geral 1A / 400V |   |\\n| 80 | 1N4007 – diodo retificador uso geral 1A / 1000V |   |\\n| 80 | 1N4148 – diodo de sinal 200mA / 75V |   |\\n| 80 | 1N60 – diodo de comutação rápida (detector de envoltória) |   |\\n| 80 | BAT85 – diodo Schottky uso geral |   |\\n| 80 | 1N5819 – Schottky de velocidad e potência 1A / 40VDC |   |\\n| 80 | Diodo Zener uso geral 2,4V |   |\\n| 80 | 1N4729 – diodo Zener uso geral 3,0V |   |\\n| 80 | BZV55C3V3 – diodo Zener uso geral 3,6V / 1W |   |\\n| 80 | 1N4733A – diodo Zener uso geral 3,3V / 0,5W |   |\\n| 80 | 1N4742A – diodo Zener uso geral 5V / 1W |   |\\n| 80 | TL431-TO – diodo Zener uso geral 12V / 1W |   |\\n| 80 | 1N4002 – diodo Zener ajustável até 36V |   |\\n| 150 | LM555 – timer / oscilador uso geral |   |\\n| 40 | LM556 – timer / oscilador duplo uso geral |   |\\n| 150 | LM741 - | amplificador operacional uso geral |\\n| 80 |   | comparador tensão uso geral (quad) |\\n| 80 | LM324 - | amplificador operacional (quad) |\\n| 80 | LM7805 - | regulador dDRAFTe voltagem integrado 5V / 0,5A |\\n| 80 | LM7806 - | regulador de voltagem integrado 5V / 1A |\\n| 80 | LM7812 - | regulador de voltagem integrado 12V / 0,1A |\\n| 80 | LM7905 - | regulador de voltagem integrado -5V / 0,5A |\\n| 80 | LM7906 - | regulador de voltagem integrado -5V / 0,1A |\\n| 80 | LM7912 - | regulador de voltagem integrado -12V / 1A |\\n| 80 | BC547 - transistor bipolar de sinal NPN / 100mA / 45V / 500mW |   |\\n| 200 | BC548 - transistor bipolar de sinal NPN 100mA / 30V / 500mA |   |\\n| 80 | BC549 - transistor bipolar de sinal NPN baixo ruído 100mA / 30V / 500mA |   |\\n| 80 | BC557 - transistor bipolar de sinal PNP / 100mA / 45V / 500mW |   |\\n| 200 | BC558 - transistor bipolar de sinal PNP / 100mA / 45V / 500mW |   |\\n| 50 | BD135 - transistor bipolar de potência NPN / 1,5A / 45V / 8W |   |\\n| 50 | BD136 - transistor bipolar de potência PNP / 1,5A / 45V / 8W |   |\\n| 50 | BD139 - transistor bipolar NPN de potência / 1,5A / 80V / 12,5W |   |\\n| 50 | TIP31 - transistor bipolar de potência NPN / 3A / 100V / 40W |   |\\n| 50 | TIP32 - transistor bipolar de potência PNP / 3A / 100V / 40W |   |\\n| 50 | TIP42 - transistor bipolar de potência PNP / 6A / 100V / 65W |   |\\n| 50 | TIP50 - transistor bipolar de potência/chaveamento NPN / 1A / 400V / 40W |   |\\n| 50 | TIC106 - SCR (retificador controlado de silício) 5A / 400V |   |\\n| 50 | 2N5060 - SCR (retificador controlado de silício) 800mA / -30V |   |\\n| 50 | 2N2219 - transistor bipolar NPN 0,8A / 30V encapsulamento metal |   |\\n| 200 | 2N2222 - transistor bipolar de chaveamento NPN / 800mA / 40V |   |\\n| 80 | Cristal oscilador 4MHz |   |\\n', '\\n\\nPara o adequado desenvolvimento das atividades do curso de Ciência da Computação, <br><br>são necessários os seguintes requisitos de infraestrutura: <br><br>\\uf0b7  5 (cinco) laboratórios de Programação; <br><br>\\uf0b7  1 (um) laboratório de Organização de Computadores e Sistemas Digitais; <br><br>\\uf0b7  1 (um) laboratório de Redes de Computadores e Sistemas Operacionais; <br><br>\\uf0b7  9 (nove) salas de aula; <br><br>\\uf0b7 Notebooks (1 por docente); <br><br>\\uf0b7 Projetores multimídia (1 por sala de aula e laboratório); <br><br>\\uf0b7 Rede local de dados, com acesso à Internet; <br><br>\\uf0b7 Software (sistemas operacionais, suítes de escritório, sistemas gerenciadores de <br><br>banco de dados, sistemas de desenvolvimento, produção e controle de versões de <br><br>software); <br><br>\\uf0b7 Salas para docentes; <br><br>\\uf0b7 Climatizadores em todas as salas e laboratórios; <br><br>\\uf0b7 Bibliografias da área. \\nDRAFT <br><br>A seguir, os requisitos referentes às bibliografias e aos laboratórios são detalhados.  \\n\\n']\n",
            "\n",
            "======================================================================\n",
            "\n",
            "Overall Metric Pass Rates\n",
            "\n",
            "Faithfulness: 100.00% pass rate\n",
            "\n",
            "======================================================================\n",
            "\n"
          ]
        },
        {
          "output_type": "stream",
          "name": "stderr",
          "text": [
            "\n"
          ]
        },
        {
          "output_type": "display_data",
          "data": {
            "text/plain": [
              "\u001b[38;2;5;245;141m✓\u001b[0m Tests finished 🎉! Run \u001b[32m'deepeval login'\u001b[0m to save and analyze evaluation results on Confident AI. \n",
              "‼️  Friendly reminder 😇: You can also run evaluations with ALL of deepeval's metrics directly on Confident AI \n",
              "instead.\n"
            ],
            "text/html": [
              "<pre style=\"white-space:pre;overflow-x:auto;line-height:normal;font-family:Menlo,'DejaVu Sans Mono',consolas,'Courier New',monospace\"><span style=\"color: #05f58d; text-decoration-color: #05f58d\">✓</span> Tests finished 🎉! Run <span style=\"color: #008000; text-decoration-color: #008000\">'deepeval login'</span> to save and analyze evaluation results on Confident AI. \n",
              "‼️  Friendly reminder 😇: You can also run evaluations with ALL of deepeval's metrics directly on Confident AI \n",
              "instead.\n",
              "</pre>\n"
            ]
          },
          "metadata": {}
        },
        {
          "output_type": "display_data",
          "data": {
            "text/plain": [
              "✨ You're running DeepEval's latest \u001b[38;2;106;0;255mCorrectness \u001b[0m\u001b[1;38;2;106;0;255m(\u001b[0m\u001b[38;2;106;0;255mGEval\u001b[0m\u001b[1;38;2;106;0;255m)\u001b[0m\u001b[38;2;106;0;255m Metric\u001b[0m! \u001b[1;38;2;55;65;81m(\u001b[0m\u001b[38;2;55;65;81musing mistral-large-latest, \u001b[0m\u001b[38;2;55;65;81mstrict\u001b[0m\u001b[38;2;55;65;81m=\u001b[0m\u001b[3;38;2;55;65;81mFalse\u001b[0m\u001b[38;2;55;65;81m, \u001b[0m\n",
              "\u001b[38;2;55;65;81masync_mode\u001b[0m\u001b[38;2;55;65;81m=\u001b[0m\u001b[3;38;2;55;65;81mTrue\u001b[0m\u001b[1;38;2;55;65;81m)\u001b[0m\u001b[38;2;55;65;81m...\u001b[0m\n"
            ],
            "text/html": [
              "<pre style=\"white-space:pre;overflow-x:auto;line-height:normal;font-family:Menlo,'DejaVu Sans Mono',consolas,'Courier New',monospace\">✨ You're running DeepEval's latest <span style=\"color: #6a00ff; text-decoration-color: #6a00ff\">Correctness </span><span style=\"color: #6a00ff; text-decoration-color: #6a00ff; font-weight: bold\">(</span><span style=\"color: #6a00ff; text-decoration-color: #6a00ff\">GEval</span><span style=\"color: #6a00ff; text-decoration-color: #6a00ff; font-weight: bold\">)</span><span style=\"color: #6a00ff; text-decoration-color: #6a00ff\"> Metric</span>! <span style=\"color: #374151; text-decoration-color: #374151; font-weight: bold\">(</span><span style=\"color: #374151; text-decoration-color: #374151\">using mistral-large-latest, </span><span style=\"color: #374151; text-decoration-color: #374151\">strict</span><span style=\"color: #374151; text-decoration-color: #374151\">=</span><span style=\"color: #374151; text-decoration-color: #374151; font-style: italic\">False</span><span style=\"color: #374151; text-decoration-color: #374151\">, </span>\n",
              "<span style=\"color: #374151; text-decoration-color: #374151\">async_mode</span><span style=\"color: #374151; text-decoration-color: #374151\">=</span><span style=\"color: #374151; text-decoration-color: #374151; font-style: italic\">True</span><span style=\"color: #374151; text-decoration-color: #374151; font-weight: bold\">)</span><span style=\"color: #374151; text-decoration-color: #374151\">...</span>\n",
              "</pre>\n"
            ]
          },
          "metadata": {}
        },
        {
          "output_type": "stream",
          "name": "stdout",
          "text": [
            "Event loop is already running. Applying nest_asyncio patch to allow async execution...\n"
          ]
        },
        {
          "output_type": "stream",
          "name": "stderr",
          "text": [
            "Evaluating 1 test case(s) in parallel: |██████████|100% (1/1) [Time Taken: 00:02,  2.98s/test case]"
          ]
        },
        {
          "output_type": "stream",
          "name": "stdout",
          "text": [
            "\n",
            "======================================================================\n",
            "\n",
            "Metrics Summary\n",
            "\n",
            "  - ✅ Correctness (GEval) (score: 1.0, threshold: 0.5, strict: False, evaluation model: mistral-large-latest, reason: The actual output provides a detailed list of extension activities related to the course, which aligns well with the input question. It does not contradict any facts and provides comprehensive details., error: None)\n",
            "\n",
            "For test case:\n",
            "\n",
            "  - input: Quais são as atividades de extensão relacionadas ao curso?\n",
            "  - actual output: As atividades de extensão relacionadas ao curso de Ciência da Computação da UFFS incluem:\n",
            "\n",
            "1. Ministrar cursos de extensão relacionados à área específica ou geral do curso.\n",
            "2. Participação como protagonista em eventos ou cursos de extensão relacionados à área específica ou geral do curso.\n",
            "3. Participação em projetos ou programas de extensão como bolsista em áreas relacionadas à formação específica ou geral do curso, com no mínimo três meses comprovados.\n",
            "4. Participação em projetos de extensão como voluntário em áreas relacionadas à formação específica ou geral do curso, com no mínimo seis meses comprovados.\n",
            "5. Participação como protagonista em evento de extensão com apresentação de artigo ou pôster.\n",
            "6. Produção e participação como protagonista em eventos culturais, artísticos, esportivos e recreativos de caráter compatível com o curso.\n",
            "7. Participação na organização de eventos de extensão ou de cultura no âmbito do curso.\n",
            "\n",
            "Além disso, as atividades de extensão também serão desenvolvidas através das Atividades Curriculares de Extensão (ACEs) e de projetos de extensão propostos no âmbito do curso, como maratona de programação, incubadora tecnológica, empresas juniores, entre outros.\n",
            "  - expected output: As atividades de extensão relacionadas ao curso de Ciência da Computação da UFFS, conforme o contexto fornecido, incluem:\r\n",
            "\r\n",
            "1. Ministrar cursos de extensão relacionados à área específica ou geral do curso.\r\n",
            "2. Participação como protagonista em eventos ou cursos de extensão relacionados à área específica ou geral do curso.\r\n",
            "3. Participação em projetos ou programas de extensão como bolsista em áreas relacionadas à formação específica ou geral do curso, com no mínimo três meses comprovados.\r\n",
            "4. Participação em projetos ou programa de extensão como bolsista em áreas não relacionadas ao curso, com no mínimo seis meses comprovados.\r\n",
            "5. Participação em projetos de extensão como voluntário em áreas relacionadas à formação específica ou geral do curso, com no mínimo seis meses comprovados.\r\n",
            "6. Participação em projetos de extensão como voluntário em áreas não relacionadas à formação específica ou geral do curso, com no mínimo um ano comprovados.\r\n",
            "7. Participação como protagonista em evento de extensão com apresentação de artigo ou pôster.\r\n",
            "8. Produção e participação como protagonista em eventos culturais, artísticos, esportivos e recreativos de caráter compatível com o curso.\r\n",
            "9. Participação na organização de eventos de extensão ou de cultura no âmbito do curso.\r\n",
            "\r\n",
            "Além disso, o curso oferece o Componente Curricular de Iniciação à Prática de Extensão, que tem como objetivo instruir os discentes sobre a extensão e terá como objetivo a criação pelo discente de um projeto final de extensão. As atividades de extensão também serão desenvolvidas através das Atividades Curriculares de Extensão (ACEs) e de projetos de extensão propostos no âmbito do curso.\n",
            "  - context: None\n",
            "  - retrieval context: ['\\n\\nuniversidade/sociedade, por meio de metodologias participativas, pautadas na <br><br>perspectiva investigação/ação e em métodos de análise inovadores; <br><br>VII.  Devidamente certificadas pela PROEC/UFFS ou por outra instituição, <br><br>respeitados os Art. 3º, Inciso XII e Art. 9º, incisos de I a VI e §1º e §2º, da <br><br>RESOLUÇÃO Nº 93/CONSUNI/UFFS/2021; <br><br>VIII.  Inseridas em uma das seguintes modalidades: Programa, Projeto, Curso, Evento <br><br>ou Prestação de Serviços; <br><br>IX.  Componentes curriculares com carga horária de extensão.  \\n\\ncurriculares específicos e de Atividades Curriculares de Extensão (ACEs). O CCR de <br><br>Introdução à Prática da Extensão, composto por 60 horas, tem como objetivo instruir os <br><br>discentes sobre a extensão e terá como objetivo a criação pelo discente de um projeto final de <br><br>1620  extensão. Além da carga horária total de extensão prevista neste CCR, 260 horas serão <br><br>dedicadas ao desenvolvimento das ACEs. Na dedicação destas horas, os discentes poderão optar <br><br>pela participação em projetos e ações de extensão ofertados pela UFFS ou por outras <br><br>instituições, conforme descrito no item 8.7 deste PPC. Poderão ser ofertados CCRs optativos <br><br>com carga horária em extensão para a integralização das atividades. Uma descrição detalhada da <br><br>1625  organização da extensão poderá ser encontrada no ANEXO III deste PPC. <br><br>Entende-se ensino como um processo de construção do conhecimento, a pesquisa como <br><br>o processo de objetivação, materialização ou aprimoramento do conhecimento, e a extensão ', '\\n\\n**Art. 2º.**Os objetivos gerais das Atividades Curriculares Complementares do curso de Ciência <br><br>1935  da Computação da UFFS são os de ampliar o currículo obrigatório, aproximar o acadêmico da <br><br>realidade social e profissional e propiciar aos seus acadêmicos a possibilidade de <br><br>aprofundamento temático e interdisciplinar, promovendo a integração entre comunidade e \\nDRAFT <br><br>Universidade, por meio da participação do acadêmico em atividades que visem à formação <br><br>profissional e para a cidadania. <br><br>1940 <br><br>**Art. 3º.**As Atividades Curriculares Complementares propiciam ao curso uma flexibilidade <br><br>exigida pelas Diretrizes Curriculares.  \\n\\n**ANEXO I - REGULAMENTO DAS ATIVIDADES CURRICULARES**\\n**COMPLEMENTARES**<br><br>1910  **ANEXO II - REGULAMENTO DO TRABALHO DE CONCLUSÃO DE CURSO**<br><br>**ANEXO III - REGULAMENTO DAS ATIVIDADES CURRICULARES DE EXTENSÃO**\\n**E CULTURA**<br><br>1915 <br><br>**ANEXO IV - REGULAMENTO DE APROVEITAMENTO POR EQUIVALÊNCIA DE**\\n**COMPONENTE CURRICULAR**', '\\n\\nexperiência no exterior. A abordagem para escolha do componente curricular e da <br><br>metodologia de ensino será definida pelo Colegiado no semestre anterior ao oferecimento. <br><br>Considerando a legislação vigente, a curricularização da extensão está presente nesta <br><br>940  proposta curricular a partir de componentes curriculares específicos para realização de <br><br>atividades de extensão, entre elas, o componente curricular de Iniciação à Prática de Extensão. <br><br>As atividades de extensão também serão desenvolvidas através das Atividades Curriculares de <br><br>Extensão (ACEs), e de projetos de extensão propostos no âmbito do curso, como, por <br><br>exemplo, maratona de programação, incubadora tecnológica, empresas juniores, entre outros.  \\n\\n\\n\\n| Descrição da Atividade | Comprovação | Aproveitamento em Horas |\\n|---|---|---|\\n| Descrição da Atividade | Comprovação | Aproveitamento em Horas |\\n| Ministrar cursos de extensão relacionados à área específica ou geral do curso. | Certificado ou declaração de ministrante de curso de extensão contendo carga horária e período de realização. | 100% da carga horária certificada. |\\n| Participação como protagonista em eventos ou cursos de extensão relacionados à área específica ou geral do curso. | Certificado de extensão contendo período e carga horária. | Até 80h por semestre. |\\n| Participação em projetos ou programas de extensão como bolsista em áreas relacionadas à formação específica ou geral do curso, com no mínimo três meses comprovados. | Certificado ou declaração contendo o período e carga horária. | 100% da carga horária certificada. |\\n| Participação em projetos ou programa de extensão como bolsista em áreas não relacionadas ao curso, com no mínimo seis meses comprovados. | Certificado ou declaração contendo o período e carga horária. | Até 100h por semestre. |\\n| Participação em projetos de extensão como voluntário em áreas relacionadas à formação específica ou geral do curso, com no mínimo seis meses comprovados. | CertificadoDRA FTou declaração contendo o período e carga horária. | Até 180 h por semestre. |\\n| Participação em projetos de extensão como voluntário em áreas não relacionadas à formação específica ou geral do curso, com no mínimo um ano comprovados. | Certificado ou declaração contendo o período e carga horária. | Até 60h por semestre. |\\n| Participação como protagonista em evento de extensão com apresentação de artigo ou pôster. | Certificado ou comprovante de apresentação. | 40h por trabalho apresentado. |\\n| Produção e participação como protagonista em eventos culturais, artísticos, esportivos e recreativos de caráter compatível com o curso. | Certificado de participação, contendo período e carga horária, ou declaração da comissão organizadora do evento. | Até 60h por semestre. |\\n| Participação na organização de eventos de extensão ou de cultura no âmbito do curso. | Certificado/atestado de organizador, com carga horária. | Até 40h por semestre. |\\n', '\\n\\n**Art. 4º.**As Atividades Curriculares Complementares do curso de Ciência da Computação <br><br>1945  devem obrigatoriamente ser realizadas durante o período em que o discente encontra-se <br><br>regularmente matriculado no curso, compreendendo 210 (duzentos e dez) horas-relógio. ']\n",
            "\n",
            "======================================================================\n",
            "\n",
            "Overall Metric Pass Rates\n",
            "\n",
            "Correctness (GEval): 100.00% pass rate\n",
            "\n",
            "======================================================================\n",
            "\n"
          ]
        },
        {
          "output_type": "stream",
          "name": "stderr",
          "text": [
            "\n"
          ]
        },
        {
          "output_type": "display_data",
          "data": {
            "text/plain": [
              "\u001b[38;2;5;245;141m✓\u001b[0m Tests finished 🎉! Run \u001b[32m'deepeval login'\u001b[0m to save and analyze evaluation results on Confident AI. \n",
              "‼️  Friendly reminder 😇: You can also run evaluations with ALL of deepeval's metrics directly on Confident AI \n",
              "instead.\n"
            ],
            "text/html": [
              "<pre style=\"white-space:pre;overflow-x:auto;line-height:normal;font-family:Menlo,'DejaVu Sans Mono',consolas,'Courier New',monospace\"><span style=\"color: #05f58d; text-decoration-color: #05f58d\">✓</span> Tests finished 🎉! Run <span style=\"color: #008000; text-decoration-color: #008000\">'deepeval login'</span> to save and analyze evaluation results on Confident AI. \n",
              "‼️  Friendly reminder 😇: You can also run evaluations with ALL of deepeval's metrics directly on Confident AI \n",
              "instead.\n",
              "</pre>\n"
            ]
          },
          "metadata": {}
        },
        {
          "output_type": "display_data",
          "data": {
            "text/plain": [
              "✨ You're running DeepEval's latest \u001b[38;2;106;0;255mAnswer Relevancy Metric\u001b[0m! \u001b[1;38;2;55;65;81m(\u001b[0m\u001b[38;2;55;65;81musing mistral-large-latest, \u001b[0m\u001b[38;2;55;65;81mstrict\u001b[0m\u001b[38;2;55;65;81m=\u001b[0m\u001b[3;38;2;55;65;81mFalse\u001b[0m\u001b[38;2;55;65;81m, \u001b[0m\n",
              "\u001b[38;2;55;65;81masync_mode\u001b[0m\u001b[38;2;55;65;81m=\u001b[0m\u001b[3;38;2;55;65;81mTrue\u001b[0m\u001b[1;38;2;55;65;81m)\u001b[0m\u001b[38;2;55;65;81m...\u001b[0m\n"
            ],
            "text/html": [
              "<pre style=\"white-space:pre;overflow-x:auto;line-height:normal;font-family:Menlo,'DejaVu Sans Mono',consolas,'Courier New',monospace\">✨ You're running DeepEval's latest <span style=\"color: #6a00ff; text-decoration-color: #6a00ff\">Answer Relevancy Metric</span>! <span style=\"color: #374151; text-decoration-color: #374151; font-weight: bold\">(</span><span style=\"color: #374151; text-decoration-color: #374151\">using mistral-large-latest, </span><span style=\"color: #374151; text-decoration-color: #374151\">strict</span><span style=\"color: #374151; text-decoration-color: #374151\">=</span><span style=\"color: #374151; text-decoration-color: #374151; font-style: italic\">False</span><span style=\"color: #374151; text-decoration-color: #374151\">, </span>\n",
              "<span style=\"color: #374151; text-decoration-color: #374151\">async_mode</span><span style=\"color: #374151; text-decoration-color: #374151\">=</span><span style=\"color: #374151; text-decoration-color: #374151; font-style: italic\">True</span><span style=\"color: #374151; text-decoration-color: #374151; font-weight: bold\">)</span><span style=\"color: #374151; text-decoration-color: #374151\">...</span>\n",
              "</pre>\n"
            ]
          },
          "metadata": {}
        },
        {
          "output_type": "stream",
          "name": "stdout",
          "text": [
            "Event loop is already running. Applying nest_asyncio patch to allow async execution...\n"
          ]
        },
        {
          "output_type": "stream",
          "name": "stderr",
          "text": [
            "Evaluating 1 test case(s) in parallel: |██████████|100% (1/1) [Time Taken: 00:23, 23.10s/test case]"
          ]
        },
        {
          "output_type": "stream",
          "name": "stdout",
          "text": [
            "\n",
            "======================================================================\n",
            "\n",
            "Metrics Summary\n",
            "\n",
            "  - ✅ Answer Relevancy (score: 1.0, threshold: 0.5, strict: False, evaluation model: mistral-large-latest, reason: The score is 1.00 because the response perfectly addresses the question about the extension activities related to the course., error: None)\n",
            "\n",
            "For test case:\n",
            "\n",
            "  - input: Quais são as atividades de extensão relacionadas ao curso?\n",
            "  - actual output: As atividades de extensão relacionadas ao curso de Ciência da Computação da UFFS incluem:\n",
            "\n",
            "1. Ministrar cursos de extensão relacionados à área específica ou geral do curso.\n",
            "2. Participação como protagonista em eventos ou cursos de extensão relacionados à área específica ou geral do curso.\n",
            "3. Participação em projetos ou programas de extensão como bolsista em áreas relacionadas à formação específica ou geral do curso, com no mínimo três meses comprovados.\n",
            "4. Participação em projetos de extensão como voluntário em áreas relacionadas à formação específica ou geral do curso, com no mínimo seis meses comprovados.\n",
            "5. Participação como protagonista em evento de extensão com apresentação de artigo ou pôster.\n",
            "6. Produção e participação como protagonista em eventos culturais, artísticos, esportivos e recreativos de caráter compatível com o curso.\n",
            "7. Participação na organização de eventos de extensão ou de cultura no âmbito do curso.\n",
            "\n",
            "Além disso, as atividades de extensão também serão desenvolvidas através das Atividades Curriculares de Extensão (ACEs) e de projetos de extensão propostos no âmbito do curso, como maratona de programação, incubadora tecnológica, empresas juniores, entre outros.\n",
            "  - expected output: As atividades de extensão relacionadas ao curso de Ciência da Computação da UFFS, conforme o contexto fornecido, incluem:\r\n",
            "\r\n",
            "1. Ministrar cursos de extensão relacionados à área específica ou geral do curso.\r\n",
            "2. Participação como protagonista em eventos ou cursos de extensão relacionados à área específica ou geral do curso.\r\n",
            "3. Participação em projetos ou programas de extensão como bolsista em áreas relacionadas à formação específica ou geral do curso, com no mínimo três meses comprovados.\r\n",
            "4. Participação em projetos ou programa de extensão como bolsista em áreas não relacionadas ao curso, com no mínimo seis meses comprovados.\r\n",
            "5. Participação em projetos de extensão como voluntário em áreas relacionadas à formação específica ou geral do curso, com no mínimo seis meses comprovados.\r\n",
            "6. Participação em projetos de extensão como voluntário em áreas não relacionadas à formação específica ou geral do curso, com no mínimo um ano comprovados.\r\n",
            "7. Participação como protagonista em evento de extensão com apresentação de artigo ou pôster.\r\n",
            "8. Produção e participação como protagonista em eventos culturais, artísticos, esportivos e recreativos de caráter compatível com o curso.\r\n",
            "9. Participação na organização de eventos de extensão ou de cultura no âmbito do curso.\r\n",
            "\r\n",
            "Além disso, o curso oferece o Componente Curricular de Iniciação à Prática de Extensão, que tem como objetivo instruir os discentes sobre a extensão e terá como objetivo a criação pelo discente de um projeto final de extensão. As atividades de extensão também serão desenvolvidas através das Atividades Curriculares de Extensão (ACEs) e de projetos de extensão propostos no âmbito do curso.\n",
            "  - context: None\n",
            "  - retrieval context: ['\\n\\nuniversidade/sociedade, por meio de metodologias participativas, pautadas na <br><br>perspectiva investigação/ação e em métodos de análise inovadores; <br><br>VII.  Devidamente certificadas pela PROEC/UFFS ou por outra instituição, <br><br>respeitados os Art. 3º, Inciso XII e Art. 9º, incisos de I a VI e §1º e §2º, da <br><br>RESOLUÇÃO Nº 93/CONSUNI/UFFS/2021; <br><br>VIII.  Inseridas em uma das seguintes modalidades: Programa, Projeto, Curso, Evento <br><br>ou Prestação de Serviços; <br><br>IX.  Componentes curriculares com carga horária de extensão.  \\n\\ncurriculares específicos e de Atividades Curriculares de Extensão (ACEs). O CCR de <br><br>Introdução à Prática da Extensão, composto por 60 horas, tem como objetivo instruir os <br><br>discentes sobre a extensão e terá como objetivo a criação pelo discente de um projeto final de <br><br>1620  extensão. Além da carga horária total de extensão prevista neste CCR, 260 horas serão <br><br>dedicadas ao desenvolvimento das ACEs. Na dedicação destas horas, os discentes poderão optar <br><br>pela participação em projetos e ações de extensão ofertados pela UFFS ou por outras <br><br>instituições, conforme descrito no item 8.7 deste PPC. Poderão ser ofertados CCRs optativos <br><br>com carga horária em extensão para a integralização das atividades. Uma descrição detalhada da <br><br>1625  organização da extensão poderá ser encontrada no ANEXO III deste PPC. <br><br>Entende-se ensino como um processo de construção do conhecimento, a pesquisa como <br><br>o processo de objetivação, materialização ou aprimoramento do conhecimento, e a extensão ', '\\n\\n**Art. 2º.**Os objetivos gerais das Atividades Curriculares Complementares do curso de Ciência <br><br>1935  da Computação da UFFS são os de ampliar o currículo obrigatório, aproximar o acadêmico da <br><br>realidade social e profissional e propiciar aos seus acadêmicos a possibilidade de <br><br>aprofundamento temático e interdisciplinar, promovendo a integração entre comunidade e \\nDRAFT <br><br>Universidade, por meio da participação do acadêmico em atividades que visem à formação <br><br>profissional e para a cidadania. <br><br>1940 <br><br>**Art. 3º.**As Atividades Curriculares Complementares propiciam ao curso uma flexibilidade <br><br>exigida pelas Diretrizes Curriculares.  \\n\\n**ANEXO I - REGULAMENTO DAS ATIVIDADES CURRICULARES**\\n**COMPLEMENTARES**<br><br>1910  **ANEXO II - REGULAMENTO DO TRABALHO DE CONCLUSÃO DE CURSO**<br><br>**ANEXO III - REGULAMENTO DAS ATIVIDADES CURRICULARES DE EXTENSÃO**\\n**E CULTURA**<br><br>1915 <br><br>**ANEXO IV - REGULAMENTO DE APROVEITAMENTO POR EQUIVALÊNCIA DE**\\n**COMPONENTE CURRICULAR**', '\\n\\nexperiência no exterior. A abordagem para escolha do componente curricular e da <br><br>metodologia de ensino será definida pelo Colegiado no semestre anterior ao oferecimento. <br><br>Considerando a legislação vigente, a curricularização da extensão está presente nesta <br><br>940  proposta curricular a partir de componentes curriculares específicos para realização de <br><br>atividades de extensão, entre elas, o componente curricular de Iniciação à Prática de Extensão. <br><br>As atividades de extensão também serão desenvolvidas através das Atividades Curriculares de <br><br>Extensão (ACEs), e de projetos de extensão propostos no âmbito do curso, como, por <br><br>exemplo, maratona de programação, incubadora tecnológica, empresas juniores, entre outros.  \\n\\n\\n\\n| Descrição da Atividade | Comprovação | Aproveitamento em Horas |\\n|---|---|---|\\n| Descrição da Atividade | Comprovação | Aproveitamento em Horas |\\n| Ministrar cursos de extensão relacionados à área específica ou geral do curso. | Certificado ou declaração de ministrante de curso de extensão contendo carga horária e período de realização. | 100% da carga horária certificada. |\\n| Participação como protagonista em eventos ou cursos de extensão relacionados à área específica ou geral do curso. | Certificado de extensão contendo período e carga horária. | Até 80h por semestre. |\\n| Participação em projetos ou programas de extensão como bolsista em áreas relacionadas à formação específica ou geral do curso, com no mínimo três meses comprovados. | Certificado ou declaração contendo o período e carga horária. | 100% da carga horária certificada. |\\n| Participação em projetos ou programa de extensão como bolsista em áreas não relacionadas ao curso, com no mínimo seis meses comprovados. | Certificado ou declaração contendo o período e carga horária. | Até 100h por semestre. |\\n| Participação em projetos de extensão como voluntário em áreas relacionadas à formação específica ou geral do curso, com no mínimo seis meses comprovados. | CertificadoDRA FTou declaração contendo o período e carga horária. | Até 180 h por semestre. |\\n| Participação em projetos de extensão como voluntário em áreas não relacionadas à formação específica ou geral do curso, com no mínimo um ano comprovados. | Certificado ou declaração contendo o período e carga horária. | Até 60h por semestre. |\\n| Participação como protagonista em evento de extensão com apresentação de artigo ou pôster. | Certificado ou comprovante de apresentação. | 40h por trabalho apresentado. |\\n| Produção e participação como protagonista em eventos culturais, artísticos, esportivos e recreativos de caráter compatível com o curso. | Certificado de participação, contendo período e carga horária, ou declaração da comissão organizadora do evento. | Até 60h por semestre. |\\n| Participação na organização de eventos de extensão ou de cultura no âmbito do curso. | Certificado/atestado de organizador, com carga horária. | Até 40h por semestre. |\\n', '\\n\\n**Art. 4º.**As Atividades Curriculares Complementares do curso de Ciência da Computação <br><br>1945  devem obrigatoriamente ser realizadas durante o período em que o discente encontra-se <br><br>regularmente matriculado no curso, compreendendo 210 (duzentos e dez) horas-relógio. ']\n",
            "\n",
            "======================================================================\n",
            "\n",
            "Overall Metric Pass Rates\n",
            "\n",
            "Answer Relevancy: 100.00% pass rate\n",
            "\n",
            "======================================================================\n",
            "\n"
          ]
        },
        {
          "output_type": "stream",
          "name": "stderr",
          "text": [
            "\n"
          ]
        },
        {
          "output_type": "display_data",
          "data": {
            "text/plain": [
              "\u001b[38;2;5;245;141m✓\u001b[0m Tests finished 🎉! Run \u001b[32m'deepeval login'\u001b[0m to save and analyze evaluation results on Confident AI. \n",
              "‼️  Friendly reminder 😇: You can also run evaluations with ALL of deepeval's metrics directly on Confident AI \n",
              "instead.\n"
            ],
            "text/html": [
              "<pre style=\"white-space:pre;overflow-x:auto;line-height:normal;font-family:Menlo,'DejaVu Sans Mono',consolas,'Courier New',monospace\"><span style=\"color: #05f58d; text-decoration-color: #05f58d\">✓</span> Tests finished 🎉! Run <span style=\"color: #008000; text-decoration-color: #008000\">'deepeval login'</span> to save and analyze evaluation results on Confident AI. \n",
              "‼️  Friendly reminder 😇: You can also run evaluations with ALL of deepeval's metrics directly on Confident AI \n",
              "instead.\n",
              "</pre>\n"
            ]
          },
          "metadata": {}
        },
        {
          "output_type": "display_data",
          "data": {
            "text/plain": [
              "✨ You're running DeepEval's latest \u001b[38;2;106;0;255mContextual Recall Metric\u001b[0m! \u001b[1;38;2;55;65;81m(\u001b[0m\u001b[38;2;55;65;81musing llama-\u001b[0m\u001b[1;38;2;55;65;81m3.1\u001b[0m\u001b[38;2;55;65;81m-70b-versatile, \u001b[0m\u001b[38;2;55;65;81mstrict\u001b[0m\u001b[38;2;55;65;81m=\u001b[0m\u001b[3;38;2;55;65;81mFalse\u001b[0m\u001b[38;2;55;65;81m, \u001b[0m\n",
              "\u001b[38;2;55;65;81masync_mode\u001b[0m\u001b[38;2;55;65;81m=\u001b[0m\u001b[3;38;2;55;65;81mTrue\u001b[0m\u001b[1;38;2;55;65;81m)\u001b[0m\u001b[38;2;55;65;81m...\u001b[0m\n"
            ],
            "text/html": [
              "<pre style=\"white-space:pre;overflow-x:auto;line-height:normal;font-family:Menlo,'DejaVu Sans Mono',consolas,'Courier New',monospace\">✨ You're running DeepEval's latest <span style=\"color: #6a00ff; text-decoration-color: #6a00ff\">Contextual Recall Metric</span>! <span style=\"color: #374151; text-decoration-color: #374151; font-weight: bold\">(</span><span style=\"color: #374151; text-decoration-color: #374151\">using llama-</span><span style=\"color: #374151; text-decoration-color: #374151; font-weight: bold\">3.1</span><span style=\"color: #374151; text-decoration-color: #374151\">-70b-versatile, </span><span style=\"color: #374151; text-decoration-color: #374151\">strict</span><span style=\"color: #374151; text-decoration-color: #374151\">=</span><span style=\"color: #374151; text-decoration-color: #374151; font-style: italic\">False</span><span style=\"color: #374151; text-decoration-color: #374151\">, </span>\n",
              "<span style=\"color: #374151; text-decoration-color: #374151\">async_mode</span><span style=\"color: #374151; text-decoration-color: #374151\">=</span><span style=\"color: #374151; text-decoration-color: #374151; font-style: italic\">True</span><span style=\"color: #374151; text-decoration-color: #374151; font-weight: bold\">)</span><span style=\"color: #374151; text-decoration-color: #374151\">...</span>\n",
              "</pre>\n"
            ]
          },
          "metadata": {}
        },
        {
          "output_type": "stream",
          "name": "stdout",
          "text": [
            "Event loop is already running. Applying nest_asyncio patch to allow async execution...\n"
          ]
        },
        {
          "output_type": "stream",
          "name": "stderr",
          "text": [
            "\rEvaluating 1 test case(s) in parallel: |          |  0% (0/1) [Time Taken: 00:00, ?test case/s]"
          ]
        },
        {
          "output_type": "stream",
          "name": "stdout",
          "text": [
            "Request number: 9\n",
            "Request number: 10\n",
            "Request number: 11\n",
            "Request number: 12\n"
          ]
        },
        {
          "output_type": "stream",
          "name": "stderr",
          "text": [
            "\rEvaluating 1 test case(s) in parallel: |          |  0% (0/1) [Time Taken: 06:00, ?test case/s]\n"
          ]
        },
        {
          "output_type": "stream",
          "name": "stdout",
          "text": [
            "Error evaluating metric: 'FieldInfo' object has no attribute 'outer_type_'\n",
            "Retrying... Attempts left: 1\n"
          ]
        },
        {
          "output_type": "display_data",
          "data": {
            "text/plain": [
              "✨ You're running DeepEval's latest \u001b[38;2;106;0;255mContextual Recall Metric\u001b[0m! \u001b[1;38;2;55;65;81m(\u001b[0m\u001b[38;2;55;65;81musing llama-\u001b[0m\u001b[1;38;2;55;65;81m3.1\u001b[0m\u001b[38;2;55;65;81m-70b-versatile, \u001b[0m\u001b[38;2;55;65;81mstrict\u001b[0m\u001b[38;2;55;65;81m=\u001b[0m\u001b[3;38;2;55;65;81mFalse\u001b[0m\u001b[38;2;55;65;81m, \u001b[0m\n",
              "\u001b[38;2;55;65;81masync_mode\u001b[0m\u001b[38;2;55;65;81m=\u001b[0m\u001b[3;38;2;55;65;81mTrue\u001b[0m\u001b[1;38;2;55;65;81m)\u001b[0m\u001b[38;2;55;65;81m...\u001b[0m\n"
            ],
            "text/html": [
              "<pre style=\"white-space:pre;overflow-x:auto;line-height:normal;font-family:Menlo,'DejaVu Sans Mono',consolas,'Courier New',monospace\">✨ You're running DeepEval's latest <span style=\"color: #6a00ff; text-decoration-color: #6a00ff\">Contextual Recall Metric</span>! <span style=\"color: #374151; text-decoration-color: #374151; font-weight: bold\">(</span><span style=\"color: #374151; text-decoration-color: #374151\">using llama-</span><span style=\"color: #374151; text-decoration-color: #374151; font-weight: bold\">3.1</span><span style=\"color: #374151; text-decoration-color: #374151\">-70b-versatile, </span><span style=\"color: #374151; text-decoration-color: #374151\">strict</span><span style=\"color: #374151; text-decoration-color: #374151\">=</span><span style=\"color: #374151; text-decoration-color: #374151; font-style: italic\">False</span><span style=\"color: #374151; text-decoration-color: #374151\">, </span>\n",
              "<span style=\"color: #374151; text-decoration-color: #374151\">async_mode</span><span style=\"color: #374151; text-decoration-color: #374151\">=</span><span style=\"color: #374151; text-decoration-color: #374151; font-style: italic\">True</span><span style=\"color: #374151; text-decoration-color: #374151; font-weight: bold\">)</span><span style=\"color: #374151; text-decoration-color: #374151\">...</span>\n",
              "</pre>\n"
            ]
          },
          "metadata": {}
        },
        {
          "output_type": "stream",
          "name": "stdout",
          "text": [
            "Event loop is already running. Applying nest_asyncio patch to allow async execution...\n"
          ]
        },
        {
          "output_type": "stream",
          "name": "stderr",
          "text": [
            "\rEvaluating 1 test case(s) in parallel: |          |  0% (0/1) [Time Taken: 00:00, ?test case/s]"
          ]
        },
        {
          "output_type": "stream",
          "name": "stdout",
          "text": [
            "Request number: 13\n",
            "Request number: 14\n",
            "Request number: 15\n",
            "Request number: 16\n"
          ]
        },
        {
          "output_type": "stream",
          "name": "stderr",
          "text": [
            "\rEvaluating 1 test case(s) in parallel: |          |  0% (0/1) [Time Taken: 06:00, ?test case/s]\n"
          ]
        },
        {
          "output_type": "stream",
          "name": "stdout",
          "text": [
            "Error evaluating metric: 'FieldInfo' object has no attribute 'outer_type_'\n",
            "Failed to evaluate metric after all retry attempts.\n"
          ]
        },
        {
          "output_type": "display_data",
          "data": {
            "text/plain": [
              "✨ You're running DeepEval's latest \u001b[38;2;106;0;255mFaithfulness Metric\u001b[0m! \u001b[1;38;2;55;65;81m(\u001b[0m\u001b[38;2;55;65;81musing mistral-large-latest, \u001b[0m\u001b[38;2;55;65;81mstrict\u001b[0m\u001b[38;2;55;65;81m=\u001b[0m\u001b[3;38;2;55;65;81mFalse\u001b[0m\u001b[38;2;55;65;81m, \u001b[0m\n",
              "\u001b[38;2;55;65;81masync_mode\u001b[0m\u001b[38;2;55;65;81m=\u001b[0m\u001b[3;38;2;55;65;81mTrue\u001b[0m\u001b[1;38;2;55;65;81m)\u001b[0m\u001b[38;2;55;65;81m...\u001b[0m\n"
            ],
            "text/html": [
              "<pre style=\"white-space:pre;overflow-x:auto;line-height:normal;font-family:Menlo,'DejaVu Sans Mono',consolas,'Courier New',monospace\">✨ You're running DeepEval's latest <span style=\"color: #6a00ff; text-decoration-color: #6a00ff\">Faithfulness Metric</span>! <span style=\"color: #374151; text-decoration-color: #374151; font-weight: bold\">(</span><span style=\"color: #374151; text-decoration-color: #374151\">using mistral-large-latest, </span><span style=\"color: #374151; text-decoration-color: #374151\">strict</span><span style=\"color: #374151; text-decoration-color: #374151\">=</span><span style=\"color: #374151; text-decoration-color: #374151; font-style: italic\">False</span><span style=\"color: #374151; text-decoration-color: #374151\">, </span>\n",
              "<span style=\"color: #374151; text-decoration-color: #374151\">async_mode</span><span style=\"color: #374151; text-decoration-color: #374151\">=</span><span style=\"color: #374151; text-decoration-color: #374151; font-style: italic\">True</span><span style=\"color: #374151; text-decoration-color: #374151; font-weight: bold\">)</span><span style=\"color: #374151; text-decoration-color: #374151\">...</span>\n",
              "</pre>\n"
            ]
          },
          "metadata": {}
        },
        {
          "output_type": "stream",
          "name": "stdout",
          "text": [
            "Event loop is already running. Applying nest_asyncio patch to allow async execution...\n"
          ]
        },
        {
          "output_type": "stream",
          "name": "stderr",
          "text": [
            "\rEvaluating 1 test case(s) in parallel: |          |  0% (0/1) [Time Taken: 00:00, ?test case/s]"
          ]
        },
        {
          "output_type": "stream",
          "name": "stdout",
          "text": [
            "3\n"
          ]
        },
        {
          "output_type": "stream",
          "name": "stderr",
          "text": [
            "Evaluating 1 test case(s) in parallel: |██████████|100% (1/1) [Time Taken: 00:17, 17.96s/test case]"
          ]
        },
        {
          "output_type": "stream",
          "name": "stdout",
          "text": [
            "\n",
            "======================================================================\n",
            "\n",
            "Metrics Summary\n",
            "\n",
            "  - ✅ Faithfulness (score: 1.0, threshold: 0.5, strict: False, evaluation model: mistral-large-latest, reason: The score is 1.00 because there are no contradictions! Great job!, error: None)\n",
            "\n",
            "For test case:\n",
            "\n",
            "  - input: Quais são as atividades de extensão relacionadas ao curso?\n",
            "  - actual output: As atividades de extensão relacionadas ao curso de Ciência da Computação da UFFS incluem:\n",
            "\n",
            "1. Ministrar cursos de extensão relacionados à área específica ou geral do curso.\n",
            "2. Participação como protagonista em eventos ou cursos de extensão relacionados à área específica ou geral do curso.\n",
            "3. Participação em projetos ou programas de extensão como bolsista em áreas relacionadas à formação específica ou geral do curso, com no mínimo três meses comprovados.\n",
            "4. Participação em projetos de extensão como voluntário em áreas relacionadas à formação específica ou geral do curso, com no mínimo seis meses comprovados.\n",
            "5. Participação como protagonista em evento de extensão com apresentação de artigo ou pôster.\n",
            "6. Produção e participação como protagonista em eventos culturais, artísticos, esportivos e recreativos de caráter compatível com o curso.\n",
            "7. Participação na organização de eventos de extensão ou de cultura no âmbito do curso.\n",
            "\n",
            "Além disso, as atividades de extensão também serão desenvolvidas através das Atividades Curriculares de Extensão (ACEs) e de projetos de extensão propostos no âmbito do curso, como maratona de programação, incubadora tecnológica, empresas juniores, entre outros.\n",
            "  - expected output: As atividades de extensão relacionadas ao curso de Ciência da Computação da UFFS, conforme o contexto fornecido, incluem:\r\n",
            "\r\n",
            "1. Ministrar cursos de extensão relacionados à área específica ou geral do curso.\r\n",
            "2. Participação como protagonista em eventos ou cursos de extensão relacionados à área específica ou geral do curso.\r\n",
            "3. Participação em projetos ou programas de extensão como bolsista em áreas relacionadas à formação específica ou geral do curso, com no mínimo três meses comprovados.\r\n",
            "4. Participação em projetos ou programa de extensão como bolsista em áreas não relacionadas ao curso, com no mínimo seis meses comprovados.\r\n",
            "5. Participação em projetos de extensão como voluntário em áreas relacionadas à formação específica ou geral do curso, com no mínimo seis meses comprovados.\r\n",
            "6. Participação em projetos de extensão como voluntário em áreas não relacionadas à formação específica ou geral do curso, com no mínimo um ano comprovados.\r\n",
            "7. Participação como protagonista em evento de extensão com apresentação de artigo ou pôster.\r\n",
            "8. Produção e participação como protagonista em eventos culturais, artísticos, esportivos e recreativos de caráter compatível com o curso.\r\n",
            "9. Participação na organização de eventos de extensão ou de cultura no âmbito do curso.\r\n",
            "\r\n",
            "Além disso, o curso oferece o Componente Curricular de Iniciação à Prática de Extensão, que tem como objetivo instruir os discentes sobre a extensão e terá como objetivo a criação pelo discente de um projeto final de extensão. As atividades de extensão também serão desenvolvidas através das Atividades Curriculares de Extensão (ACEs) e de projetos de extensão propostos no âmbito do curso.\n",
            "  - context: None\n",
            "  - retrieval context: ['\\n\\nuniversidade/sociedade, por meio de metodologias participativas, pautadas na <br><br>perspectiva investigação/ação e em métodos de análise inovadores; <br><br>VII.  Devidamente certificadas pela PROEC/UFFS ou por outra instituição, <br><br>respeitados os Art. 3º, Inciso XII e Art. 9º, incisos de I a VI e §1º e §2º, da <br><br>RESOLUÇÃO Nº 93/CONSUNI/UFFS/2021; <br><br>VIII.  Inseridas em uma das seguintes modalidades: Programa, Projeto, Curso, Evento <br><br>ou Prestação de Serviços; <br><br>IX.  Componentes curriculares com carga horária de extensão.  \\n\\ncurriculares específicos e de Atividades Curriculares de Extensão (ACEs). O CCR de <br><br>Introdução à Prática da Extensão, composto por 60 horas, tem como objetivo instruir os <br><br>discentes sobre a extensão e terá como objetivo a criação pelo discente de um projeto final de <br><br>1620  extensão. Além da carga horária total de extensão prevista neste CCR, 260 horas serão <br><br>dedicadas ao desenvolvimento das ACEs. Na dedicação destas horas, os discentes poderão optar <br><br>pela participação em projetos e ações de extensão ofertados pela UFFS ou por outras <br><br>instituições, conforme descrito no item 8.7 deste PPC. Poderão ser ofertados CCRs optativos <br><br>com carga horária em extensão para a integralização das atividades. Uma descrição detalhada da <br><br>1625  organização da extensão poderá ser encontrada no ANEXO III deste PPC. <br><br>Entende-se ensino como um processo de construção do conhecimento, a pesquisa como <br><br>o processo de objetivação, materialização ou aprimoramento do conhecimento, e a extensão ', '\\n\\n**Art. 2º.**Os objetivos gerais das Atividades Curriculares Complementares do curso de Ciência <br><br>1935  da Computação da UFFS são os de ampliar o currículo obrigatório, aproximar o acadêmico da <br><br>realidade social e profissional e propiciar aos seus acadêmicos a possibilidade de <br><br>aprofundamento temático e interdisciplinar, promovendo a integração entre comunidade e \\nDRAFT <br><br>Universidade, por meio da participação do acadêmico em atividades que visem à formação <br><br>profissional e para a cidadania. <br><br>1940 <br><br>**Art. 3º.**As Atividades Curriculares Complementares propiciam ao curso uma flexibilidade <br><br>exigida pelas Diretrizes Curriculares.  \\n\\n**ANEXO I - REGULAMENTO DAS ATIVIDADES CURRICULARES**\\n**COMPLEMENTARES**<br><br>1910  **ANEXO II - REGULAMENTO DO TRABALHO DE CONCLUSÃO DE CURSO**<br><br>**ANEXO III - REGULAMENTO DAS ATIVIDADES CURRICULARES DE EXTENSÃO**\\n**E CULTURA**<br><br>1915 <br><br>**ANEXO IV - REGULAMENTO DE APROVEITAMENTO POR EQUIVALÊNCIA DE**\\n**COMPONENTE CURRICULAR**', '\\n\\nexperiência no exterior. A abordagem para escolha do componente curricular e da <br><br>metodologia de ensino será definida pelo Colegiado no semestre anterior ao oferecimento. <br><br>Considerando a legislação vigente, a curricularização da extensão está presente nesta <br><br>940  proposta curricular a partir de componentes curriculares específicos para realização de <br><br>atividades de extensão, entre elas, o componente curricular de Iniciação à Prática de Extensão. <br><br>As atividades de extensão também serão desenvolvidas através das Atividades Curriculares de <br><br>Extensão (ACEs), e de projetos de extensão propostos no âmbito do curso, como, por <br><br>exemplo, maratona de programação, incubadora tecnológica, empresas juniores, entre outros.  \\n\\n\\n\\n| Descrição da Atividade | Comprovação | Aproveitamento em Horas |\\n|---|---|---|\\n| Descrição da Atividade | Comprovação | Aproveitamento em Horas |\\n| Ministrar cursos de extensão relacionados à área específica ou geral do curso. | Certificado ou declaração de ministrante de curso de extensão contendo carga horária e período de realização. | 100% da carga horária certificada. |\\n| Participação como protagonista em eventos ou cursos de extensão relacionados à área específica ou geral do curso. | Certificado de extensão contendo período e carga horária. | Até 80h por semestre. |\\n| Participação em projetos ou programas de extensão como bolsista em áreas relacionadas à formação específica ou geral do curso, com no mínimo três meses comprovados. | Certificado ou declaração contendo o período e carga horária. | 100% da carga horária certificada. |\\n| Participação em projetos ou programa de extensão como bolsista em áreas não relacionadas ao curso, com no mínimo seis meses comprovados. | Certificado ou declaração contendo o período e carga horária. | Até 100h por semestre. |\\n| Participação em projetos de extensão como voluntário em áreas relacionadas à formação específica ou geral do curso, com no mínimo seis meses comprovados. | CertificadoDRA FTou declaração contendo o período e carga horária. | Até 180 h por semestre. |\\n| Participação em projetos de extensão como voluntário em áreas não relacionadas à formação específica ou geral do curso, com no mínimo um ano comprovados. | Certificado ou declaração contendo o período e carga horária. | Até 60h por semestre. |\\n| Participação como protagonista em evento de extensão com apresentação de artigo ou pôster. | Certificado ou comprovante de apresentação. | 40h por trabalho apresentado. |\\n| Produção e participação como protagonista em eventos culturais, artísticos, esportivos e recreativos de caráter compatível com o curso. | Certificado de participação, contendo período e carga horária, ou declaração da comissão organizadora do evento. | Até 60h por semestre. |\\n| Participação na organização de eventos de extensão ou de cultura no âmbito do curso. | Certificado/atestado de organizador, com carga horária. | Até 40h por semestre. |\\n', '\\n\\n**Art. 4º.**As Atividades Curriculares Complementares do curso de Ciência da Computação <br><br>1945  devem obrigatoriamente ser realizadas durante o período em que o discente encontra-se <br><br>regularmente matriculado no curso, compreendendo 210 (duzentos e dez) horas-relógio. ']\n",
            "\n",
            "======================================================================\n",
            "\n",
            "Overall Metric Pass Rates\n",
            "\n",
            "Faithfulness: 100.00% pass rate\n",
            "\n",
            "======================================================================\n",
            "\n"
          ]
        },
        {
          "output_type": "stream",
          "name": "stderr",
          "text": [
            "\n"
          ]
        },
        {
          "output_type": "display_data",
          "data": {
            "text/plain": [
              "\u001b[38;2;5;245;141m✓\u001b[0m Tests finished 🎉! Run \u001b[32m'deepeval login'\u001b[0m to save and analyze evaluation results on Confident AI. \n",
              "‼️  Friendly reminder 😇: You can also run evaluations with ALL of deepeval's metrics directly on Confident AI \n",
              "instead.\n"
            ],
            "text/html": [
              "<pre style=\"white-space:pre;overflow-x:auto;line-height:normal;font-family:Menlo,'DejaVu Sans Mono',consolas,'Courier New',monospace\"><span style=\"color: #05f58d; text-decoration-color: #05f58d\">✓</span> Tests finished 🎉! Run <span style=\"color: #008000; text-decoration-color: #008000\">'deepeval login'</span> to save and analyze evaluation results on Confident AI. \n",
              "‼️  Friendly reminder 😇: You can also run evaluations with ALL of deepeval's metrics directly on Confident AI \n",
              "instead.\n",
              "</pre>\n"
            ]
          },
          "metadata": {}
        },
        {
          "output_type": "display_data",
          "data": {
            "text/plain": [
              "✨ You're running DeepEval's latest \u001b[38;2;106;0;255mCorrectness \u001b[0m\u001b[1;38;2;106;0;255m(\u001b[0m\u001b[38;2;106;0;255mGEval\u001b[0m\u001b[1;38;2;106;0;255m)\u001b[0m\u001b[38;2;106;0;255m Metric\u001b[0m! \u001b[1;38;2;55;65;81m(\u001b[0m\u001b[38;2;55;65;81musing mistral-large-latest, \u001b[0m\u001b[38;2;55;65;81mstrict\u001b[0m\u001b[38;2;55;65;81m=\u001b[0m\u001b[3;38;2;55;65;81mFalse\u001b[0m\u001b[38;2;55;65;81m, \u001b[0m\n",
              "\u001b[38;2;55;65;81masync_mode\u001b[0m\u001b[38;2;55;65;81m=\u001b[0m\u001b[3;38;2;55;65;81mTrue\u001b[0m\u001b[1;38;2;55;65;81m)\u001b[0m\u001b[38;2;55;65;81m...\u001b[0m\n"
            ],
            "text/html": [
              "<pre style=\"white-space:pre;overflow-x:auto;line-height:normal;font-family:Menlo,'DejaVu Sans Mono',consolas,'Courier New',monospace\">✨ You're running DeepEval's latest <span style=\"color: #6a00ff; text-decoration-color: #6a00ff\">Correctness </span><span style=\"color: #6a00ff; text-decoration-color: #6a00ff; font-weight: bold\">(</span><span style=\"color: #6a00ff; text-decoration-color: #6a00ff\">GEval</span><span style=\"color: #6a00ff; text-decoration-color: #6a00ff; font-weight: bold\">)</span><span style=\"color: #6a00ff; text-decoration-color: #6a00ff\"> Metric</span>! <span style=\"color: #374151; text-decoration-color: #374151; font-weight: bold\">(</span><span style=\"color: #374151; text-decoration-color: #374151\">using mistral-large-latest, </span><span style=\"color: #374151; text-decoration-color: #374151\">strict</span><span style=\"color: #374151; text-decoration-color: #374151\">=</span><span style=\"color: #374151; text-decoration-color: #374151; font-style: italic\">False</span><span style=\"color: #374151; text-decoration-color: #374151\">, </span>\n",
              "<span style=\"color: #374151; text-decoration-color: #374151\">async_mode</span><span style=\"color: #374151; text-decoration-color: #374151\">=</span><span style=\"color: #374151; text-decoration-color: #374151; font-style: italic\">True</span><span style=\"color: #374151; text-decoration-color: #374151; font-weight: bold\">)</span><span style=\"color: #374151; text-decoration-color: #374151\">...</span>\n",
              "</pre>\n"
            ]
          },
          "metadata": {}
        },
        {
          "output_type": "stream",
          "name": "stdout",
          "text": [
            "Event loop is already running. Applying nest_asyncio patch to allow async execution...\n"
          ]
        },
        {
          "output_type": "stream",
          "name": "stderr",
          "text": [
            "Evaluating 1 test case(s) in parallel: |██████████|100% (1/1) [Time Taken: 00:02,  2.92s/test case]"
          ]
        },
        {
          "output_type": "stream",
          "name": "stdout",
          "text": [
            "\n",
            "======================================================================\n",
            "\n",
            "Metrics Summary\n",
            "\n",
            "  - ✅ Correctness (GEval) (score: 1.0, threshold: 0.5, strict: False, evaluation model: mistral-large-latest, reason: The actual output provides a detailed explanation of the changes to the PPC, including the reasons for the reformulation and the specific adjustments made to accommodate the extension without increasing the total workload. It does not contradict any facts in the expected output and provides sufficient detail., error: None)\n",
            "\n",
            "For test case:\n",
            "\n",
            "  - input: Por que mudou o PPC?\n",
            "  - actual output: O PPC do Curso de Ciência da Computação da UFFS foi reformulado com o objetivo principal de curricularizar a extensão, além de revisar as ementas das disciplinas existentes e adaptá-las quando necessário. Considerando a demanda de acomodar a extensão sem aumento da carga horária total, optou-se por reduzir o quadro de CCRs e as Atividades Curriculares Complementares (ACCs). Nesse sentido, foi reduzido a carga horária do Domínio Comum, do Domínio Específico, e o número de horas dedicadas às ACCs e ao TCC para viabilizar a inclusão da extensão.\n",
            "  - expected output: O PPC (Plano Pedagógico do Curso) de Ciência da Computação da UFFS foi modificado devido às atuais Diretrizes do MEC (Ministério da Educação) para o curso de Ciência da Computação (Resolução CNE/CES 05/2016), à curricularização da extensão (Resolução CNE/CES Nº 7) e às deficiências identificadas na grade curricular atual do curso de Ciência da Computação da UFFS. O processo de reformulação foi conduzido pelo NDE (Núcleo de Desenvolvimento do Curso) para atualizar e aprimorar o currículo do curso.\n",
            "  - context: None\n",
            "  - retrieval context: ['\\n\\nConsiderando-se as Diretrizes atuais do MEC para o curso de Ciência da Computação <br><br>1155  (Resolução CNE/CES 05/2016), a curricularização da extensão (Resolução CNE/CES Nº 7), e <br><br>as deficiências na grade curricular atual do curso de Ciência da Computação da UFFS, <br><br>iniciou-se um processo conduzido pelo NDE de reformulação do curso, culminando neste <br><br>novo PPC.  \\n\\nDRAFT \\nI.  potencializar a formação do discente quanto a capacidade de interagir, pensar e propor <br><br>soluções à sociedade, constituindo-se em instrumento emancipatório para o <br><br>desenvolvimento da autonomia intelectual, cidadã e de interação com a realidade global <br><br>e regional; <br><br>II.  inserir atividades acadêmicas de extensão e de cultura, de forma articulada e <br><br>indissociada do ensino e da pesquisa, de modo a constituir a presença da universidade <br><br>nos diferentes espaços da sociedade, contribuindo com a transformação e o <br><br>desenvolvimento social; <br><br>III.  desenvolver atividades de extensão e de cultura, enquanto processo educativo, artístico, <br><br>cultural, científico, político e tecnológico que configure a relação teoria e prática através <br><br>do exercício interdisciplinar, proporcionando formação profissional e humana integrada <br><br>à visão do contexto social, com vistas à transformação social; <br><br>IV.  promover o planejamento pedagógico do curso de Ciência da Computação, <br><br>contemplando a flexibilidade do currículo, adotando metodologias inovadoras e  \\n\\nsíntese, o Domínio Comum sofreu a redução de 8 créditos; o Domínio Específico uma <br><br>redução de 8 créditos; às ACCs sofreram uma redução de 90 horas (de um total de 300 horas <br><br>para 210 horas); e por fim, a extensão irá ocupar 320 horas do novo currículo. <br><br>A atuação do NDE e Colegiado do curso para análise e produção de medidas <br><br>550  afirmativas para redução da evasão apresenta-se, nesta reformulação, também como elemento <br><br>norteador. Nesse processo de trato da evasão destacaram-se duas questões importantes, o <br><br>processo de adaptação de discentes ingressantes à dinâmica e rotina acadêmica do ensino <br><br>superior, e o afastamento por vontade ou necessidade unilateral do discente com majoritário <br><br>percentual dos requisitos curriculares cumpridos. No amparo ao processo de adaptação do <br><br>555  ingressante, optou-se por acrescentar um CCR específico introdutório com perfil prático no ', '\\n\\n**4.2 Justificativa da reformulação do curso**<br><br>535  Considerando-se as Diretrizes atuais do MEC para o curso de Ciência da Computação <br><br>(Resolução CNE/CES 05/2016), a curricularização da extensão (Resolução CNE/CES Nº 7), e <br><br>as deficiências na grade curricular atual do curso de Ciência da Computação da UFFS, <br><br>iniciou-se um processo conduzido pelo NDE de reformulação do curso, culminando neste <br><br>novo PPC. <br><br>540  Nesse processo de reformulação, o objetivo principal foi curricularização da extensão <br><br>além de revisar as ementas das disciplinas existentes, adaptando-as quando necessário. <br><br>Considerando a demanda de acomodar a extensão sem aumento da carga horário total optou- <br><br>se por reduzir o quadro de CCRs e as Atividades Curriculares Complementares (ACCs). <br><br>Neste sentido, foi reduzido a carga horária do Domínio Comum, do Domínio Específico, e o <br><br>545  número de horas dedicadas às ACCs e ao TCC para viabilizar a inclusão da extensão. Em  \\n\\nO Curso de Ciência da Computação da UFFS foi concebido de forma que sua <br><br>organização pedagógica contemple “além das atividades de extensão e de pesquisa, um <br><br>currículo organizado em torno de três domínios: comum, conexo e específico. Tal forma de <br><br>1665  organização curricular tem por objetivo assegurar que todos os discentes da UFFS recebam uma <br><br>formação ao mesmo tempo cidadã, interdisciplinar e profissional, possibilitando otimizar a <br><br>gestão da oferta de disciplinas pelo corpo docente e, como consequência, ampliar as <br><br>oportunidades de acesso à comunidade” (UFFS, PPI, 2009). <br><br>A proposta tem uma dinâmica de desenvolvimento pedagógico progressiva e <br><br>1670  articuladora. Todavia, para que a mesma seja plenamente implementada, faz-se necessário que <br><br>os docentes, que a colocam em prática, compreendam e apropriem-se dos referenciais <br><br>orientadores que a norteiam. A partir disso, podem direcionar suas atividades, promovendo  \\n\\n\\n\\nparticipação ativa na aplicação e no acompanhamento do Projeto Pedagógico. <br><br>O Projeto Pedagógico do Curso prevê conteúdos, práticas, atividades de extensão e de <br><br>895  pesquisa implementados por meio de componentes curriculares obrigatórios e optativos, <br><br>sendo ministrados em salas de aulas e em laboratórios. O discente deve colocar em prática os <br><br>conteúdos através de projetos relacionados aos componentes, atividades curriculares <br><br>complementares, atividades de extensão e trabalho de conclusão de curso. <br><br>A organização curricular obedecerá aos princípios pedagógicos, metodológicos e <br><br>900  epistemológicos da proposta curricular da UFFS, tendo como subsídio as orientações <br><br>apresentadas no Projeto Pedagógico Institucional (PPI). ', '\\n\\n**PDI –**Plano de Desenvolvimento Institucional, documento que identifica a UFFS no que diz <br><br>respeito à missão a que se propõe, às diretrizes pedagógicas que orientam suas ações, à sua <br><br>725  estrutura organizacional e às atividades acadêmicas que desenvolve e/ou pretende <br><br>Projeto Pedagógico do Curso de Ciência Da Computação,*Campus*Chapecó.  155 <br><br>26  \\n\\n**Resolução nº 10/2017 – CONSUNI/CGRAD**– regulamenta o processo de <br><br>elaboração/reformulação, os fluxos e prazos de tramitação dos Projetos Pedagógicos dos <br><br>Cursos de Graduação da UFFS.  \\n\\ndo Projeto, que teria a participação de pessoas indicadas pelo Movimento Pró-Universidade <br><br>Federal e por pessoas ligadas ao Ministério da Educação. <br><br>Projeto Pedagógico do Curso de Ciência Da Computação,*Campus*Chapecó. <br><br>12 ']\n",
            "\n",
            "======================================================================\n",
            "\n",
            "Overall Metric Pass Rates\n",
            "\n",
            "Correctness (GEval): 100.00% pass rate\n",
            "\n",
            "======================================================================\n",
            "\n"
          ]
        },
        {
          "output_type": "stream",
          "name": "stderr",
          "text": [
            "\n"
          ]
        },
        {
          "output_type": "display_data",
          "data": {
            "text/plain": [
              "\u001b[38;2;5;245;141m✓\u001b[0m Tests finished 🎉! Run \u001b[32m'deepeval login'\u001b[0m to save and analyze evaluation results on Confident AI. \n",
              "‼️  Friendly reminder 😇: You can also run evaluations with ALL of deepeval's metrics directly on Confident AI \n",
              "instead.\n"
            ],
            "text/html": [
              "<pre style=\"white-space:pre;overflow-x:auto;line-height:normal;font-family:Menlo,'DejaVu Sans Mono',consolas,'Courier New',monospace\"><span style=\"color: #05f58d; text-decoration-color: #05f58d\">✓</span> Tests finished 🎉! Run <span style=\"color: #008000; text-decoration-color: #008000\">'deepeval login'</span> to save and analyze evaluation results on Confident AI. \n",
              "‼️  Friendly reminder 😇: You can also run evaluations with ALL of deepeval's metrics directly on Confident AI \n",
              "instead.\n",
              "</pre>\n"
            ]
          },
          "metadata": {}
        },
        {
          "output_type": "display_data",
          "data": {
            "text/plain": [
              "✨ You're running DeepEval's latest \u001b[38;2;106;0;255mAnswer Relevancy Metric\u001b[0m! \u001b[1;38;2;55;65;81m(\u001b[0m\u001b[38;2;55;65;81musing mistral-large-latest, \u001b[0m\u001b[38;2;55;65;81mstrict\u001b[0m\u001b[38;2;55;65;81m=\u001b[0m\u001b[3;38;2;55;65;81mFalse\u001b[0m\u001b[38;2;55;65;81m, \u001b[0m\n",
              "\u001b[38;2;55;65;81masync_mode\u001b[0m\u001b[38;2;55;65;81m=\u001b[0m\u001b[3;38;2;55;65;81mTrue\u001b[0m\u001b[1;38;2;55;65;81m)\u001b[0m\u001b[38;2;55;65;81m...\u001b[0m\n"
            ],
            "text/html": [
              "<pre style=\"white-space:pre;overflow-x:auto;line-height:normal;font-family:Menlo,'DejaVu Sans Mono',consolas,'Courier New',monospace\">✨ You're running DeepEval's latest <span style=\"color: #6a00ff; text-decoration-color: #6a00ff\">Answer Relevancy Metric</span>! <span style=\"color: #374151; text-decoration-color: #374151; font-weight: bold\">(</span><span style=\"color: #374151; text-decoration-color: #374151\">using mistral-large-latest, </span><span style=\"color: #374151; text-decoration-color: #374151\">strict</span><span style=\"color: #374151; text-decoration-color: #374151\">=</span><span style=\"color: #374151; text-decoration-color: #374151; font-style: italic\">False</span><span style=\"color: #374151; text-decoration-color: #374151\">, </span>\n",
              "<span style=\"color: #374151; text-decoration-color: #374151\">async_mode</span><span style=\"color: #374151; text-decoration-color: #374151\">=</span><span style=\"color: #374151; text-decoration-color: #374151; font-style: italic\">True</span><span style=\"color: #374151; text-decoration-color: #374151; font-weight: bold\">)</span><span style=\"color: #374151; text-decoration-color: #374151\">...</span>\n",
              "</pre>\n"
            ]
          },
          "metadata": {}
        },
        {
          "output_type": "stream",
          "name": "stdout",
          "text": [
            "Event loop is already running. Applying nest_asyncio patch to allow async execution...\n"
          ]
        },
        {
          "output_type": "stream",
          "name": "stderr",
          "text": [
            "Evaluating 1 test case(s) in parallel: |██████████|100% (1/1) [Time Taken: 00:11, 11.01s/test case]"
          ]
        },
        {
          "output_type": "stream",
          "name": "stdout",
          "text": [
            "\n",
            "======================================================================\n",
            "\n",
            "Metrics Summary\n",
            "\n",
            "  - ✅ Answer Relevancy (score: 1.0, threshold: 0.5, strict: False, evaluation model: mistral-large-latest, reason: The score is 1.00 because the response perfectly addresses the question about the change in PPC., error: None)\n",
            "\n",
            "For test case:\n",
            "\n",
            "  - input: Por que mudou o PPC?\n",
            "  - actual output: O PPC do Curso de Ciência da Computação da UFFS foi reformulado com o objetivo principal de curricularizar a extensão, além de revisar as ementas das disciplinas existentes e adaptá-las quando necessário. Considerando a demanda de acomodar a extensão sem aumento da carga horária total, optou-se por reduzir o quadro de CCRs e as Atividades Curriculares Complementares (ACCs). Nesse sentido, foi reduzido a carga horária do Domínio Comum, do Domínio Específico, e o número de horas dedicadas às ACCs e ao TCC para viabilizar a inclusão da extensão.\n",
            "  - expected output: O PPC (Plano Pedagógico do Curso) de Ciência da Computação da UFFS foi modificado devido às atuais Diretrizes do MEC (Ministério da Educação) para o curso de Ciência da Computação (Resolução CNE/CES 05/2016), à curricularização da extensão (Resolução CNE/CES Nº 7) e às deficiências identificadas na grade curricular atual do curso de Ciência da Computação da UFFS. O processo de reformulação foi conduzido pelo NDE (Núcleo de Desenvolvimento do Curso) para atualizar e aprimorar o currículo do curso.\n",
            "  - context: None\n",
            "  - retrieval context: ['\\n\\nConsiderando-se as Diretrizes atuais do MEC para o curso de Ciência da Computação <br><br>1155  (Resolução CNE/CES 05/2016), a curricularização da extensão (Resolução CNE/CES Nº 7), e <br><br>as deficiências na grade curricular atual do curso de Ciência da Computação da UFFS, <br><br>iniciou-se um processo conduzido pelo NDE de reformulação do curso, culminando neste <br><br>novo PPC.  \\n\\nDRAFT \\nI.  potencializar a formação do discente quanto a capacidade de interagir, pensar e propor <br><br>soluções à sociedade, constituindo-se em instrumento emancipatório para o <br><br>desenvolvimento da autonomia intelectual, cidadã e de interação com a realidade global <br><br>e regional; <br><br>II.  inserir atividades acadêmicas de extensão e de cultura, de forma articulada e <br><br>indissociada do ensino e da pesquisa, de modo a constituir a presença da universidade <br><br>nos diferentes espaços da sociedade, contribuindo com a transformação e o <br><br>desenvolvimento social; <br><br>III.  desenvolver atividades de extensão e de cultura, enquanto processo educativo, artístico, <br><br>cultural, científico, político e tecnológico que configure a relação teoria e prática através <br><br>do exercício interdisciplinar, proporcionando formação profissional e humana integrada <br><br>à visão do contexto social, com vistas à transformação social; <br><br>IV.  promover o planejamento pedagógico do curso de Ciência da Computação, <br><br>contemplando a flexibilidade do currículo, adotando metodologias inovadoras e  \\n\\nsíntese, o Domínio Comum sofreu a redução de 8 créditos; o Domínio Específico uma <br><br>redução de 8 créditos; às ACCs sofreram uma redução de 90 horas (de um total de 300 horas <br><br>para 210 horas); e por fim, a extensão irá ocupar 320 horas do novo currículo. <br><br>A atuação do NDE e Colegiado do curso para análise e produção de medidas <br><br>550  afirmativas para redução da evasão apresenta-se, nesta reformulação, também como elemento <br><br>norteador. Nesse processo de trato da evasão destacaram-se duas questões importantes, o <br><br>processo de adaptação de discentes ingressantes à dinâmica e rotina acadêmica do ensino <br><br>superior, e o afastamento por vontade ou necessidade unilateral do discente com majoritário <br><br>percentual dos requisitos curriculares cumpridos. No amparo ao processo de adaptação do <br><br>555  ingressante, optou-se por acrescentar um CCR específico introdutório com perfil prático no ', '\\n\\n**4.2 Justificativa da reformulação do curso**<br><br>535  Considerando-se as Diretrizes atuais do MEC para o curso de Ciência da Computação <br><br>(Resolução CNE/CES 05/2016), a curricularização da extensão (Resolução CNE/CES Nº 7), e <br><br>as deficiências na grade curricular atual do curso de Ciência da Computação da UFFS, <br><br>iniciou-se um processo conduzido pelo NDE de reformulação do curso, culminando neste <br><br>novo PPC. <br><br>540  Nesse processo de reformulação, o objetivo principal foi curricularização da extensão <br><br>além de revisar as ementas das disciplinas existentes, adaptando-as quando necessário. <br><br>Considerando a demanda de acomodar a extensão sem aumento da carga horário total optou- <br><br>se por reduzir o quadro de CCRs e as Atividades Curriculares Complementares (ACCs). <br><br>Neste sentido, foi reduzido a carga horária do Domínio Comum, do Domínio Específico, e o <br><br>545  número de horas dedicadas às ACCs e ao TCC para viabilizar a inclusão da extensão. Em  \\n\\nO Curso de Ciência da Computação da UFFS foi concebido de forma que sua <br><br>organização pedagógica contemple “além das atividades de extensão e de pesquisa, um <br><br>currículo organizado em torno de três domínios: comum, conexo e específico. Tal forma de <br><br>1665  organização curricular tem por objetivo assegurar que todos os discentes da UFFS recebam uma <br><br>formação ao mesmo tempo cidadã, interdisciplinar e profissional, possibilitando otimizar a <br><br>gestão da oferta de disciplinas pelo corpo docente e, como consequência, ampliar as <br><br>oportunidades de acesso à comunidade” (UFFS, PPI, 2009). <br><br>A proposta tem uma dinâmica de desenvolvimento pedagógico progressiva e <br><br>1670  articuladora. Todavia, para que a mesma seja plenamente implementada, faz-se necessário que <br><br>os docentes, que a colocam em prática, compreendam e apropriem-se dos referenciais <br><br>orientadores que a norteiam. A partir disso, podem direcionar suas atividades, promovendo  \\n\\n\\n\\nparticipação ativa na aplicação e no acompanhamento do Projeto Pedagógico. <br><br>O Projeto Pedagógico do Curso prevê conteúdos, práticas, atividades de extensão e de <br><br>895  pesquisa implementados por meio de componentes curriculares obrigatórios e optativos, <br><br>sendo ministrados em salas de aulas e em laboratórios. O discente deve colocar em prática os <br><br>conteúdos através de projetos relacionados aos componentes, atividades curriculares <br><br>complementares, atividades de extensão e trabalho de conclusão de curso. <br><br>A organização curricular obedecerá aos princípios pedagógicos, metodológicos e <br><br>900  epistemológicos da proposta curricular da UFFS, tendo como subsídio as orientações <br><br>apresentadas no Projeto Pedagógico Institucional (PPI). ', '\\n\\n**PDI –**Plano de Desenvolvimento Institucional, documento que identifica a UFFS no que diz <br><br>respeito à missão a que se propõe, às diretrizes pedagógicas que orientam suas ações, à sua <br><br>725  estrutura organizacional e às atividades acadêmicas que desenvolve e/ou pretende <br><br>Projeto Pedagógico do Curso de Ciência Da Computação,*Campus*Chapecó.  155 <br><br>26  \\n\\n**Resolução nº 10/2017 – CONSUNI/CGRAD**– regulamenta o processo de <br><br>elaboração/reformulação, os fluxos e prazos de tramitação dos Projetos Pedagógicos dos <br><br>Cursos de Graduação da UFFS.  \\n\\ndo Projeto, que teria a participação de pessoas indicadas pelo Movimento Pró-Universidade <br><br>Federal e por pessoas ligadas ao Ministério da Educação. <br><br>Projeto Pedagógico do Curso de Ciência Da Computação,*Campus*Chapecó. <br><br>12 ']\n",
            "\n",
            "======================================================================\n",
            "\n",
            "Overall Metric Pass Rates\n",
            "\n",
            "Answer Relevancy: 100.00% pass rate\n",
            "\n",
            "======================================================================\n",
            "\n"
          ]
        },
        {
          "output_type": "stream",
          "name": "stderr",
          "text": [
            "\n"
          ]
        },
        {
          "output_type": "display_data",
          "data": {
            "text/plain": [
              "\u001b[38;2;5;245;141m✓\u001b[0m Tests finished 🎉! Run \u001b[32m'deepeval login'\u001b[0m to save and analyze evaluation results on Confident AI. \n",
              "‼️  Friendly reminder 😇: You can also run evaluations with ALL of deepeval's metrics directly on Confident AI \n",
              "instead.\n"
            ],
            "text/html": [
              "<pre style=\"white-space:pre;overflow-x:auto;line-height:normal;font-family:Menlo,'DejaVu Sans Mono',consolas,'Courier New',monospace\"><span style=\"color: #05f58d; text-decoration-color: #05f58d\">✓</span> Tests finished 🎉! Run <span style=\"color: #008000; text-decoration-color: #008000\">'deepeval login'</span> to save and analyze evaluation results on Confident AI. \n",
              "‼️  Friendly reminder 😇: You can also run evaluations with ALL of deepeval's metrics directly on Confident AI \n",
              "instead.\n",
              "</pre>\n"
            ]
          },
          "metadata": {}
        },
        {
          "output_type": "display_data",
          "data": {
            "text/plain": [
              "✨ You're running DeepEval's latest \u001b[38;2;106;0;255mContextual Recall Metric\u001b[0m! \u001b[1;38;2;55;65;81m(\u001b[0m\u001b[38;2;55;65;81musing llama-\u001b[0m\u001b[1;38;2;55;65;81m3.1\u001b[0m\u001b[38;2;55;65;81m-70b-versatile, \u001b[0m\u001b[38;2;55;65;81mstrict\u001b[0m\u001b[38;2;55;65;81m=\u001b[0m\u001b[3;38;2;55;65;81mFalse\u001b[0m\u001b[38;2;55;65;81m, \u001b[0m\n",
              "\u001b[38;2;55;65;81masync_mode\u001b[0m\u001b[38;2;55;65;81m=\u001b[0m\u001b[3;38;2;55;65;81mTrue\u001b[0m\u001b[1;38;2;55;65;81m)\u001b[0m\u001b[38;2;55;65;81m...\u001b[0m\n"
            ],
            "text/html": [
              "<pre style=\"white-space:pre;overflow-x:auto;line-height:normal;font-family:Menlo,'DejaVu Sans Mono',consolas,'Courier New',monospace\">✨ You're running DeepEval's latest <span style=\"color: #6a00ff; text-decoration-color: #6a00ff\">Contextual Recall Metric</span>! <span style=\"color: #374151; text-decoration-color: #374151; font-weight: bold\">(</span><span style=\"color: #374151; text-decoration-color: #374151\">using llama-</span><span style=\"color: #374151; text-decoration-color: #374151; font-weight: bold\">3.1</span><span style=\"color: #374151; text-decoration-color: #374151\">-70b-versatile, </span><span style=\"color: #374151; text-decoration-color: #374151\">strict</span><span style=\"color: #374151; text-decoration-color: #374151\">=</span><span style=\"color: #374151; text-decoration-color: #374151; font-style: italic\">False</span><span style=\"color: #374151; text-decoration-color: #374151\">, </span>\n",
              "<span style=\"color: #374151; text-decoration-color: #374151\">async_mode</span><span style=\"color: #374151; text-decoration-color: #374151\">=</span><span style=\"color: #374151; text-decoration-color: #374151; font-style: italic\">True</span><span style=\"color: #374151; text-decoration-color: #374151; font-weight: bold\">)</span><span style=\"color: #374151; text-decoration-color: #374151\">...</span>\n",
              "</pre>\n"
            ]
          },
          "metadata": {}
        },
        {
          "output_type": "stream",
          "name": "stdout",
          "text": [
            "Event loop is already running. Applying nest_asyncio patch to allow async execution...\n"
          ]
        },
        {
          "output_type": "stream",
          "name": "stderr",
          "text": [
            "Evaluating 1 test case(s) in parallel: |██████████|100% (1/1) [Time Taken: 00:01,  1.39s/test case]"
          ]
        },
        {
          "output_type": "stream",
          "name": "stdout",
          "text": [
            "\n",
            "======================================================================\n",
            "\n",
            "Metrics Summary\n",
            "\n",
            "  - ✅ Contextual Recall (score: 1.0, threshold: 0.25, strict: False, evaluation model: llama-3.1-70b-versatile, reason: None, error: None)\n",
            "\n",
            "For test case:\n",
            "\n",
            "  - input: Por que mudou o PPC?\n",
            "  - actual output: O PPC do Curso de Ciência da Computação da UFFS foi reformulado com o objetivo principal de curricularizar a extensão, além de revisar as ementas das disciplinas existentes e adaptá-las quando necessário. Considerando a demanda de acomodar a extensão sem aumento da carga horária total, optou-se por reduzir o quadro de CCRs e as Atividades Curriculares Complementares (ACCs). Nesse sentido, foi reduzido a carga horária do Domínio Comum, do Domínio Específico, e o número de horas dedicadas às ACCs e ao TCC para viabilizar a inclusão da extensão.\n",
            "  - expected output: O PPC (Plano Pedagógico do Curso) de Ciência da Computação da UFFS foi modificado devido às atuais Diretrizes do MEC (Ministério da Educação) para o curso de Ciência da Computação (Resolução CNE/CES 05/2016), à curricularização da extensão (Resolução CNE/CES Nº 7) e às deficiências identificadas na grade curricular atual do curso de Ciência da Computação da UFFS. O processo de reformulação foi conduzido pelo NDE (Núcleo de Desenvolvimento do Curso) para atualizar e aprimorar o currículo do curso.\n",
            "  - context: None\n",
            "  - retrieval context: ['\\n\\nConsiderando-se as Diretrizes atuais do MEC para o curso de Ciência da Computação <br><br>1155  (Resolução CNE/CES 05/2016), a curricularização da extensão (Resolução CNE/CES Nº 7), e <br><br>as deficiências na grade curricular atual do curso de Ciência da Computação da UFFS, <br><br>iniciou-se um processo conduzido pelo NDE de reformulação do curso, culminando neste <br><br>novo PPC.  \\n\\nDRAFT \\nI.  potencializar a formação do discente quanto a capacidade de interagir, pensar e propor <br><br>soluções à sociedade, constituindo-se em instrumento emancipatório para o <br><br>desenvolvimento da autonomia intelectual, cidadã e de interação com a realidade global <br><br>e regional; <br><br>II.  inserir atividades acadêmicas de extensão e de cultura, de forma articulada e <br><br>indissociada do ensino e da pesquisa, de modo a constituir a presença da universidade <br><br>nos diferentes espaços da sociedade, contribuindo com a transformação e o <br><br>desenvolvimento social; <br><br>III.  desenvolver atividades de extensão e de cultura, enquanto processo educativo, artístico, <br><br>cultural, científico, político e tecnológico que configure a relação teoria e prática através <br><br>do exercício interdisciplinar, proporcionando formação profissional e humana integrada <br><br>à visão do contexto social, com vistas à transformação social; <br><br>IV.  promover o planejamento pedagógico do curso de Ciência da Computação, <br><br>contemplando a flexibilidade do currículo, adotando metodologias inovadoras e  \\n\\nsíntese, o Domínio Comum sofreu a redução de 8 créditos; o Domínio Específico uma <br><br>redução de 8 créditos; às ACCs sofreram uma redução de 90 horas (de um total de 300 horas <br><br>para 210 horas); e por fim, a extensão irá ocupar 320 horas do novo currículo. <br><br>A atuação do NDE e Colegiado do curso para análise e produção de medidas <br><br>550  afirmativas para redução da evasão apresenta-se, nesta reformulação, também como elemento <br><br>norteador. Nesse processo de trato da evasão destacaram-se duas questões importantes, o <br><br>processo de adaptação de discentes ingressantes à dinâmica e rotina acadêmica do ensino <br><br>superior, e o afastamento por vontade ou necessidade unilateral do discente com majoritário <br><br>percentual dos requisitos curriculares cumpridos. No amparo ao processo de adaptação do <br><br>555  ingressante, optou-se por acrescentar um CCR específico introdutório com perfil prático no ', '\\n\\n**4.2 Justificativa da reformulação do curso**<br><br>535  Considerando-se as Diretrizes atuais do MEC para o curso de Ciência da Computação <br><br>(Resolução CNE/CES 05/2016), a curricularização da extensão (Resolução CNE/CES Nº 7), e <br><br>as deficiências na grade curricular atual do curso de Ciência da Computação da UFFS, <br><br>iniciou-se um processo conduzido pelo NDE de reformulação do curso, culminando neste <br><br>novo PPC. <br><br>540  Nesse processo de reformulação, o objetivo principal foi curricularização da extensão <br><br>além de revisar as ementas das disciplinas existentes, adaptando-as quando necessário. <br><br>Considerando a demanda de acomodar a extensão sem aumento da carga horário total optou- <br><br>se por reduzir o quadro de CCRs e as Atividades Curriculares Complementares (ACCs). <br><br>Neste sentido, foi reduzido a carga horária do Domínio Comum, do Domínio Específico, e o <br><br>545  número de horas dedicadas às ACCs e ao TCC para viabilizar a inclusão da extensão. Em  \\n\\nO Curso de Ciência da Computação da UFFS foi concebido de forma que sua <br><br>organização pedagógica contemple “além das atividades de extensão e de pesquisa, um <br><br>currículo organizado em torno de três domínios: comum, conexo e específico. Tal forma de <br><br>1665  organização curricular tem por objetivo assegurar que todos os discentes da UFFS recebam uma <br><br>formação ao mesmo tempo cidadã, interdisciplinar e profissional, possibilitando otimizar a <br><br>gestão da oferta de disciplinas pelo corpo docente e, como consequência, ampliar as <br><br>oportunidades de acesso à comunidade” (UFFS, PPI, 2009). <br><br>A proposta tem uma dinâmica de desenvolvimento pedagógico progressiva e <br><br>1670  articuladora. Todavia, para que a mesma seja plenamente implementada, faz-se necessário que <br><br>os docentes, que a colocam em prática, compreendam e apropriem-se dos referenciais <br><br>orientadores que a norteiam. A partir disso, podem direcionar suas atividades, promovendo  \\n\\n\\n\\nparticipação ativa na aplicação e no acompanhamento do Projeto Pedagógico. <br><br>O Projeto Pedagógico do Curso prevê conteúdos, práticas, atividades de extensão e de <br><br>895  pesquisa implementados por meio de componentes curriculares obrigatórios e optativos, <br><br>sendo ministrados em salas de aulas e em laboratórios. O discente deve colocar em prática os <br><br>conteúdos através de projetos relacionados aos componentes, atividades curriculares <br><br>complementares, atividades de extensão e trabalho de conclusão de curso. <br><br>A organização curricular obedecerá aos princípios pedagógicos, metodológicos e <br><br>900  epistemológicos da proposta curricular da UFFS, tendo como subsídio as orientações <br><br>apresentadas no Projeto Pedagógico Institucional (PPI). ', '\\n\\n**PDI –**Plano de Desenvolvimento Institucional, documento que identifica a UFFS no que diz <br><br>respeito à missão a que se propõe, às diretrizes pedagógicas que orientam suas ações, à sua <br><br>725  estrutura organizacional e às atividades acadêmicas que desenvolve e/ou pretende <br><br>Projeto Pedagógico do Curso de Ciência Da Computação,*Campus*Chapecó.  155 <br><br>26  \\n\\n**Resolução nº 10/2017 – CONSUNI/CGRAD**– regulamenta o processo de <br><br>elaboração/reformulação, os fluxos e prazos de tramitação dos Projetos Pedagógicos dos <br><br>Cursos de Graduação da UFFS.  \\n\\ndo Projeto, que teria a participação de pessoas indicadas pelo Movimento Pró-Universidade <br><br>Federal e por pessoas ligadas ao Ministério da Educação. <br><br>Projeto Pedagógico do Curso de Ciência Da Computação,*Campus*Chapecó. <br><br>12 ']\n",
            "\n",
            "======================================================================\n",
            "\n",
            "Overall Metric Pass Rates\n",
            "\n",
            "Contextual Recall: 100.00% pass rate\n",
            "\n",
            "======================================================================\n",
            "\n"
          ]
        },
        {
          "output_type": "stream",
          "name": "stderr",
          "text": [
            "\n"
          ]
        },
        {
          "output_type": "display_data",
          "data": {
            "text/plain": [
              "\u001b[38;2;5;245;141m✓\u001b[0m Tests finished 🎉! Run \u001b[32m'deepeval login'\u001b[0m to save and analyze evaluation results on Confident AI. \n",
              "‼️  Friendly reminder 😇: You can also run evaluations with ALL of deepeval's metrics directly on Confident AI \n",
              "instead.\n"
            ],
            "text/html": [
              "<pre style=\"white-space:pre;overflow-x:auto;line-height:normal;font-family:Menlo,'DejaVu Sans Mono',consolas,'Courier New',monospace\"><span style=\"color: #05f58d; text-decoration-color: #05f58d\">✓</span> Tests finished 🎉! Run <span style=\"color: #008000; text-decoration-color: #008000\">'deepeval login'</span> to save and analyze evaluation results on Confident AI. \n",
              "‼️  Friendly reminder 😇: You can also run evaluations with ALL of deepeval's metrics directly on Confident AI \n",
              "instead.\n",
              "</pre>\n"
            ]
          },
          "metadata": {}
        },
        {
          "output_type": "display_data",
          "data": {
            "text/plain": [
              "✨ You're running DeepEval's latest \u001b[38;2;106;0;255mFaithfulness Metric\u001b[0m! \u001b[1;38;2;55;65;81m(\u001b[0m\u001b[38;2;55;65;81musing mistral-large-latest, \u001b[0m\u001b[38;2;55;65;81mstrict\u001b[0m\u001b[38;2;55;65;81m=\u001b[0m\u001b[3;38;2;55;65;81mFalse\u001b[0m\u001b[38;2;55;65;81m, \u001b[0m\n",
              "\u001b[38;2;55;65;81masync_mode\u001b[0m\u001b[38;2;55;65;81m=\u001b[0m\u001b[3;38;2;55;65;81mTrue\u001b[0m\u001b[1;38;2;55;65;81m)\u001b[0m\u001b[38;2;55;65;81m...\u001b[0m\n"
            ],
            "text/html": [
              "<pre style=\"white-space:pre;overflow-x:auto;line-height:normal;font-family:Menlo,'DejaVu Sans Mono',consolas,'Courier New',monospace\">✨ You're running DeepEval's latest <span style=\"color: #6a00ff; text-decoration-color: #6a00ff\">Faithfulness Metric</span>! <span style=\"color: #374151; text-decoration-color: #374151; font-weight: bold\">(</span><span style=\"color: #374151; text-decoration-color: #374151\">using mistral-large-latest, </span><span style=\"color: #374151; text-decoration-color: #374151\">strict</span><span style=\"color: #374151; text-decoration-color: #374151\">=</span><span style=\"color: #374151; text-decoration-color: #374151; font-style: italic\">False</span><span style=\"color: #374151; text-decoration-color: #374151\">, </span>\n",
              "<span style=\"color: #374151; text-decoration-color: #374151\">async_mode</span><span style=\"color: #374151; text-decoration-color: #374151\">=</span><span style=\"color: #374151; text-decoration-color: #374151; font-style: italic\">True</span><span style=\"color: #374151; text-decoration-color: #374151; font-weight: bold\">)</span><span style=\"color: #374151; text-decoration-color: #374151\">...</span>\n",
              "</pre>\n"
            ]
          },
          "metadata": {}
        },
        {
          "output_type": "stream",
          "name": "stdout",
          "text": [
            "Event loop is already running. Applying nest_asyncio patch to allow async execution...\n"
          ]
        },
        {
          "output_type": "stream",
          "name": "stderr",
          "text": [
            "\rEvaluating 1 test case(s) in parallel: |          |  0% (0/1) [Time Taken: 00:00, ?test case/s]"
          ]
        },
        {
          "output_type": "stream",
          "name": "stdout",
          "text": [
            "3\n"
          ]
        },
        {
          "output_type": "stream",
          "name": "stderr",
          "text": [
            "Evaluating 1 test case(s) in parallel: |██████████|100% (1/1) [Time Taken: 00:12, 12.34s/test case]"
          ]
        },
        {
          "output_type": "stream",
          "name": "stdout",
          "text": [
            "\n",
            "======================================================================\n",
            "\n",
            "Metrics Summary\n",
            "\n",
            "  - ✅ Faithfulness (score: 1.0, threshold: 0.5, strict: False, evaluation model: mistral-large-latest, reason: The score is 1.00 because there are no contradictions! Great job!, error: None)\n",
            "\n",
            "For test case:\n",
            "\n",
            "  - input: Por que mudou o PPC?\n",
            "  - actual output: O PPC do Curso de Ciência da Computação da UFFS foi reformulado com o objetivo principal de curricularizar a extensão, além de revisar as ementas das disciplinas existentes e adaptá-las quando necessário. Considerando a demanda de acomodar a extensão sem aumento da carga horária total, optou-se por reduzir o quadro de CCRs e as Atividades Curriculares Complementares (ACCs). Nesse sentido, foi reduzido a carga horária do Domínio Comum, do Domínio Específico, e o número de horas dedicadas às ACCs e ao TCC para viabilizar a inclusão da extensão.\n",
            "  - expected output: O PPC (Plano Pedagógico do Curso) de Ciência da Computação da UFFS foi modificado devido às atuais Diretrizes do MEC (Ministério da Educação) para o curso de Ciência da Computação (Resolução CNE/CES 05/2016), à curricularização da extensão (Resolução CNE/CES Nº 7) e às deficiências identificadas na grade curricular atual do curso de Ciência da Computação da UFFS. O processo de reformulação foi conduzido pelo NDE (Núcleo de Desenvolvimento do Curso) para atualizar e aprimorar o currículo do curso.\n",
            "  - context: None\n",
            "  - retrieval context: ['\\n\\nConsiderando-se as Diretrizes atuais do MEC para o curso de Ciência da Computação <br><br>1155  (Resolução CNE/CES 05/2016), a curricularização da extensão (Resolução CNE/CES Nº 7), e <br><br>as deficiências na grade curricular atual do curso de Ciência da Computação da UFFS, <br><br>iniciou-se um processo conduzido pelo NDE de reformulação do curso, culminando neste <br><br>novo PPC.  \\n\\nDRAFT \\nI.  potencializar a formação do discente quanto a capacidade de interagir, pensar e propor <br><br>soluções à sociedade, constituindo-se em instrumento emancipatório para o <br><br>desenvolvimento da autonomia intelectual, cidadã e de interação com a realidade global <br><br>e regional; <br><br>II.  inserir atividades acadêmicas de extensão e de cultura, de forma articulada e <br><br>indissociada do ensino e da pesquisa, de modo a constituir a presença da universidade <br><br>nos diferentes espaços da sociedade, contribuindo com a transformação e o <br><br>desenvolvimento social; <br><br>III.  desenvolver atividades de extensão e de cultura, enquanto processo educativo, artístico, <br><br>cultural, científico, político e tecnológico que configure a relação teoria e prática através <br><br>do exercício interdisciplinar, proporcionando formação profissional e humana integrada <br><br>à visão do contexto social, com vistas à transformação social; <br><br>IV.  promover o planejamento pedagógico do curso de Ciência da Computação, <br><br>contemplando a flexibilidade do currículo, adotando metodologias inovadoras e  \\n\\nsíntese, o Domínio Comum sofreu a redução de 8 créditos; o Domínio Específico uma <br><br>redução de 8 créditos; às ACCs sofreram uma redução de 90 horas (de um total de 300 horas <br><br>para 210 horas); e por fim, a extensão irá ocupar 320 horas do novo currículo. <br><br>A atuação do NDE e Colegiado do curso para análise e produção de medidas <br><br>550  afirmativas para redução da evasão apresenta-se, nesta reformulação, também como elemento <br><br>norteador. Nesse processo de trato da evasão destacaram-se duas questões importantes, o <br><br>processo de adaptação de discentes ingressantes à dinâmica e rotina acadêmica do ensino <br><br>superior, e o afastamento por vontade ou necessidade unilateral do discente com majoritário <br><br>percentual dos requisitos curriculares cumpridos. No amparo ao processo de adaptação do <br><br>555  ingressante, optou-se por acrescentar um CCR específico introdutório com perfil prático no ', '\\n\\n**4.2 Justificativa da reformulação do curso**<br><br>535  Considerando-se as Diretrizes atuais do MEC para o curso de Ciência da Computação <br><br>(Resolução CNE/CES 05/2016), a curricularização da extensão (Resolução CNE/CES Nº 7), e <br><br>as deficiências na grade curricular atual do curso de Ciência da Computação da UFFS, <br><br>iniciou-se um processo conduzido pelo NDE de reformulação do curso, culminando neste <br><br>novo PPC. <br><br>540  Nesse processo de reformulação, o objetivo principal foi curricularização da extensão <br><br>além de revisar as ementas das disciplinas existentes, adaptando-as quando necessário. <br><br>Considerando a demanda de acomodar a extensão sem aumento da carga horário total optou- <br><br>se por reduzir o quadro de CCRs e as Atividades Curriculares Complementares (ACCs). <br><br>Neste sentido, foi reduzido a carga horária do Domínio Comum, do Domínio Específico, e o <br><br>545  número de horas dedicadas às ACCs e ao TCC para viabilizar a inclusão da extensão. Em  \\n\\nO Curso de Ciência da Computação da UFFS foi concebido de forma que sua <br><br>organização pedagógica contemple “além das atividades de extensão e de pesquisa, um <br><br>currículo organizado em torno de três domínios: comum, conexo e específico. Tal forma de <br><br>1665  organização curricular tem por objetivo assegurar que todos os discentes da UFFS recebam uma <br><br>formação ao mesmo tempo cidadã, interdisciplinar e profissional, possibilitando otimizar a <br><br>gestão da oferta de disciplinas pelo corpo docente e, como consequência, ampliar as <br><br>oportunidades de acesso à comunidade” (UFFS, PPI, 2009). <br><br>A proposta tem uma dinâmica de desenvolvimento pedagógico progressiva e <br><br>1670  articuladora. Todavia, para que a mesma seja plenamente implementada, faz-se necessário que <br><br>os docentes, que a colocam em prática, compreendam e apropriem-se dos referenciais <br><br>orientadores que a norteiam. A partir disso, podem direcionar suas atividades, promovendo  \\n\\n\\n\\nparticipação ativa na aplicação e no acompanhamento do Projeto Pedagógico. <br><br>O Projeto Pedagógico do Curso prevê conteúdos, práticas, atividades de extensão e de <br><br>895  pesquisa implementados por meio de componentes curriculares obrigatórios e optativos, <br><br>sendo ministrados em salas de aulas e em laboratórios. O discente deve colocar em prática os <br><br>conteúdos através de projetos relacionados aos componentes, atividades curriculares <br><br>complementares, atividades de extensão e trabalho de conclusão de curso. <br><br>A organização curricular obedecerá aos princípios pedagógicos, metodológicos e <br><br>900  epistemológicos da proposta curricular da UFFS, tendo como subsídio as orientações <br><br>apresentadas no Projeto Pedagógico Institucional (PPI). ', '\\n\\n**PDI –**Plano de Desenvolvimento Institucional, documento que identifica a UFFS no que diz <br><br>respeito à missão a que se propõe, às diretrizes pedagógicas que orientam suas ações, à sua <br><br>725  estrutura organizacional e às atividades acadêmicas que desenvolve e/ou pretende <br><br>Projeto Pedagógico do Curso de Ciência Da Computação,*Campus*Chapecó.  155 <br><br>26  \\n\\n**Resolução nº 10/2017 – CONSUNI/CGRAD**– regulamenta o processo de <br><br>elaboração/reformulação, os fluxos e prazos de tramitação dos Projetos Pedagógicos dos <br><br>Cursos de Graduação da UFFS.  \\n\\ndo Projeto, que teria a participação de pessoas indicadas pelo Movimento Pró-Universidade <br><br>Federal e por pessoas ligadas ao Ministério da Educação. <br><br>Projeto Pedagógico do Curso de Ciência Da Computação,*Campus*Chapecó. <br><br>12 ']\n",
            "\n",
            "======================================================================\n",
            "\n",
            "Overall Metric Pass Rates\n",
            "\n",
            "Faithfulness: 100.00% pass rate\n",
            "\n",
            "======================================================================\n",
            "\n"
          ]
        },
        {
          "output_type": "stream",
          "name": "stderr",
          "text": [
            "\n"
          ]
        },
        {
          "output_type": "display_data",
          "data": {
            "text/plain": [
              "\u001b[38;2;5;245;141m✓\u001b[0m Tests finished 🎉! Run \u001b[32m'deepeval login'\u001b[0m to save and analyze evaluation results on Confident AI. \n",
              "‼️  Friendly reminder 😇: You can also run evaluations with ALL of deepeval's metrics directly on Confident AI \n",
              "instead.\n"
            ],
            "text/html": [
              "<pre style=\"white-space:pre;overflow-x:auto;line-height:normal;font-family:Menlo,'DejaVu Sans Mono',consolas,'Courier New',monospace\"><span style=\"color: #05f58d; text-decoration-color: #05f58d\">✓</span> Tests finished 🎉! Run <span style=\"color: #008000; text-decoration-color: #008000\">'deepeval login'</span> to save and analyze evaluation results on Confident AI. \n",
              "‼️  Friendly reminder 😇: You can also run evaluations with ALL of deepeval's metrics directly on Confident AI \n",
              "instead.\n",
              "</pre>\n"
            ]
          },
          "metadata": {}
        },
        {
          "output_type": "display_data",
          "data": {
            "text/plain": [
              "✨ You're running DeepEval's latest \u001b[38;2;106;0;255mCorrectness \u001b[0m\u001b[1;38;2;106;0;255m(\u001b[0m\u001b[38;2;106;0;255mGEval\u001b[0m\u001b[1;38;2;106;0;255m)\u001b[0m\u001b[38;2;106;0;255m Metric\u001b[0m! \u001b[1;38;2;55;65;81m(\u001b[0m\u001b[38;2;55;65;81musing mistral-large-latest, \u001b[0m\u001b[38;2;55;65;81mstrict\u001b[0m\u001b[38;2;55;65;81m=\u001b[0m\u001b[3;38;2;55;65;81mFalse\u001b[0m\u001b[38;2;55;65;81m, \u001b[0m\n",
              "\u001b[38;2;55;65;81masync_mode\u001b[0m\u001b[38;2;55;65;81m=\u001b[0m\u001b[3;38;2;55;65;81mTrue\u001b[0m\u001b[1;38;2;55;65;81m)\u001b[0m\u001b[38;2;55;65;81m...\u001b[0m\n"
            ],
            "text/html": [
              "<pre style=\"white-space:pre;overflow-x:auto;line-height:normal;font-family:Menlo,'DejaVu Sans Mono',consolas,'Courier New',monospace\">✨ You're running DeepEval's latest <span style=\"color: #6a00ff; text-decoration-color: #6a00ff\">Correctness </span><span style=\"color: #6a00ff; text-decoration-color: #6a00ff; font-weight: bold\">(</span><span style=\"color: #6a00ff; text-decoration-color: #6a00ff\">GEval</span><span style=\"color: #6a00ff; text-decoration-color: #6a00ff; font-weight: bold\">)</span><span style=\"color: #6a00ff; text-decoration-color: #6a00ff\"> Metric</span>! <span style=\"color: #374151; text-decoration-color: #374151; font-weight: bold\">(</span><span style=\"color: #374151; text-decoration-color: #374151\">using mistral-large-latest, </span><span style=\"color: #374151; text-decoration-color: #374151\">strict</span><span style=\"color: #374151; text-decoration-color: #374151\">=</span><span style=\"color: #374151; text-decoration-color: #374151; font-style: italic\">False</span><span style=\"color: #374151; text-decoration-color: #374151\">, </span>\n",
              "<span style=\"color: #374151; text-decoration-color: #374151\">async_mode</span><span style=\"color: #374151; text-decoration-color: #374151\">=</span><span style=\"color: #374151; text-decoration-color: #374151; font-style: italic\">True</span><span style=\"color: #374151; text-decoration-color: #374151; font-weight: bold\">)</span><span style=\"color: #374151; text-decoration-color: #374151\">...</span>\n",
              "</pre>\n"
            ]
          },
          "metadata": {}
        },
        {
          "output_type": "stream",
          "name": "stdout",
          "text": [
            "Event loop is already running. Applying nest_asyncio patch to allow async execution...\n"
          ]
        },
        {
          "output_type": "stream",
          "name": "stderr",
          "text": [
            "Evaluating 1 test case(s) in parallel: |██████████|100% (1/1) [Time Taken: 00:02,  2.55s/test case]"
          ]
        },
        {
          "output_type": "stream",
          "name": "stdout",
          "text": [
            "\n",
            "======================================================================\n",
            "\n",
            "Metrics Summary\n",
            "\n",
            "  - ✅ Correctness (GEval) (score: 1.0, threshold: 0.5, strict: False, evaluation model: mistral-large-latest, reason: The actual output does not contradict any facts in the expected output and provides detailed information about the forms of ingresso available for new students., error: None)\n",
            "\n",
            "For test case:\n",
            "\n",
            "  - input: Quais são as formas de ingresso disponíveis para novos alunos?\n",
            "  - actual output: As formas de ingresso disponíveis para novos alunos, de acordo com o PPC, são:\n",
            "\n",
            "- Processo seletivo regular\n",
            "- Transferência interna\n",
            "- Retorno de aluno-abandono\n",
            "- Transferência externa\n",
            "- Retorno de graduado\n",
            "- Transferência coercitiva ou *ex officio*\n",
            "- Processos seletivos especiais e processos\n",
            "  - expected output: O acesso aos cursos de graduação da UFFS, tanto no que diz respeito ao\r\n",
            "preenchimento das vagas de oferta regular, como das ofertas de caráter especial e das\r\n",
            "eventuais vagas ociosas, se dá por meio de diferentes formas de ingresso: processo seletivo\r\n",
            "regular; transferência interna; retorno de aluno-abandono; transferência externa; retorno de\r\n",
            "graduado; transferência coercitiva ou ex officio; processos seletivos especiais e processos\r\n",
            "seletivos complementares, conforme regulamentação do Conselho Universitário – CONSUNI.\r\n",
            "\n",
            "  - context: None\n",
            "  - retrieval context: ['\\n\\n1870  4. Acessibilidade Metodológica <br><br>- Orientação aos coordenadores de curso e docentes sobre como organizar a prática <br><br>pedagógica diante da presença de discentes com deficiência; <br><br>- Disponibilização antecipada, por parte dos docentes para o intérprete de LIBRAS, do \\nDRAFT <br><br>material/conteúdo a ser utilizado/ministrado em aula; <br><br>- Envio de material/conteúdo em slides para o discente surdo com, pelo menos, um dia <br><br>de antecedência; <br><br>- Presença em sala de aula de Tradutor e Intérprete de LIBRAS nos cursos de graduação <br><br>em que há discente(s) matriculado(s) com surdez. Além de fazer a tradução e interpretação dos <br><br>conteúdos em sala de aula, o tradutor acompanha o discente em atividades como visitas a <br><br>1880  empresas e pesquisas de campo; realiza a mediação nos trabalhos em grupo; acompanha as <br><br>orientações com os docentes; acompanha o(s) acadêmico(s) surdo(s) em todos os setores da  \\n\\n165  **1.12 Carga horária máxima por semestre letivo:**32 (vespertino e noturno) <br><br>**1.13 Carga horária mínima por semestre letivo:**4 (vespertino e noturno) <br><br>**1.14 Coordenador do curso:**Guilherme Dal Bianco <br><br>**1.15 Ato Autorizativo:**Portaria Nº 729 de 19 de dezembro de 2013 (Diário Oficial da União, <br><br>Nº 247, 20 de dezembro de 2013, Seção 1, Página 25). <br><br>170  **1.16 Forma de ingresso:**<br><br>O acesso aos cursos de graduação da UFFS, tanto no que diz respeito ao <br><br>preenchimento das vagas de oferta regular, como das ofertas de caráter especial e das <br><br>eventuais vagas ociosas, se dá por meio de diferentes formas de ingresso: processo seletivo <br><br>regular; transferência interna; retorno de aluno-abandono; transferência externa; retorno de <br><br>175  graduado; transferência coercitiva ou*ex officio*; processos seletivos especiais e processos ', '\\n\\n1010  **8.2 Oferta de componentes curriculares no formato semipresencial**<br><br>Conforme a RESOLUÇÃO Nº 5/CONSUNI CGRAD/UFFS/2014, que dispõe sobre a <br><br>oferta de componentes curriculares ministrados no formato semipresencial nos cursos de <br><br>graduação presenciais da UFFS: <br><br>Art. 6º A oferta de componente curricular semipresencial deve constar do Projeto <br><br>1015  Pedagógico do Curso - PPC, aprovado pelo Colegiado de Curso, em consonância com o NDE <br><br>(Núcleo Docente Estruturante), e submetido à aprovação final da Câmara de Graduação do <br><br>Conselho Universitário. <br><br>§ 1º O projeto pedagógico do curso que adotar componentes curriculares no formato <br><br>semipresencial, deve conter: <br><br>1020  I – uma fundamentação teórico-metodológica que incorpora o uso das tecnologias de <br><br>informação e comunicação no processo de ensino e aprendizagem do curso;  \\n\\ntarefas, entrega de trabalhos e avaliações); o sistema institucional de videoconferência e aulas; <br><br>a biblioteca digital recentemente adquirida pela UFFS, entre outros. O curso dialoga <br><br>1070  continuamente com as práticas e programas de inovação no contexto educacional <br><br>disponibilizadas pela instituição, tais como a estruturação de ambientes que possibilitem a <br><br>gravação, transmissão, edição e produção de conteúdo educacionais. <br><br>Essas ferramentas tem como vantagem potencializar o tempo e o espaço do processo <br><br>formativo, possibilitando maior interatividade e autonomia da(o) discente, que deverá gerir <br><br>1075  seus estudos a fim de dar conta das atividades propostas por suas e seus docentes. Além de <br><br>administrar seu processo formativo, a(o) discente adquire novos conhecimentos e habilidades <br><br>com os recursos tecnológicos disponíveis. Portanto, os recursos desta modalidade podem <br><br>contribuir para que a(o) discente tenha oportunidades mais diversificadas de aprendizagem. <br><br>Considerando o número substancial de discentes não residentes na cidade de oferta do ', '\\n\\nparticipação ativa na aplicação e no acompanhamento do Projeto Pedagógico. <br><br>O Projeto Pedagógico do Curso prevê conteúdos, práticas, atividades de extensão e de <br><br>895  pesquisa implementados por meio de componentes curriculares obrigatórios e optativos, <br><br>sendo ministrados em salas de aulas e em laboratórios. O discente deve colocar em prática os <br><br>conteúdos através de projetos relacionados aos componentes, atividades curriculares <br><br>complementares, atividades de extensão e trabalho de conclusão de curso. <br><br>A organização curricular obedecerá aos princípios pedagógicos, metodológicos e <br><br>900  epistemológicos da proposta curricular da UFFS, tendo como subsídio as orientações <br><br>apresentadas no Projeto Pedagógico Institucional (PPI).  \\n\\n']\n",
            "\n",
            "======================================================================\n",
            "\n",
            "Overall Metric Pass Rates\n",
            "\n",
            "Correctness (GEval): 100.00% pass rate\n",
            "\n",
            "======================================================================\n",
            "\n"
          ]
        },
        {
          "output_type": "stream",
          "name": "stderr",
          "text": [
            "\n"
          ]
        },
        {
          "output_type": "display_data",
          "data": {
            "text/plain": [
              "\u001b[38;2;5;245;141m✓\u001b[0m Tests finished 🎉! Run \u001b[32m'deepeval login'\u001b[0m to save and analyze evaluation results on Confident AI. \n",
              "‼️  Friendly reminder 😇: You can also run evaluations with ALL of deepeval's metrics directly on Confident AI \n",
              "instead.\n"
            ],
            "text/html": [
              "<pre style=\"white-space:pre;overflow-x:auto;line-height:normal;font-family:Menlo,'DejaVu Sans Mono',consolas,'Courier New',monospace\"><span style=\"color: #05f58d; text-decoration-color: #05f58d\">✓</span> Tests finished 🎉! Run <span style=\"color: #008000; text-decoration-color: #008000\">'deepeval login'</span> to save and analyze evaluation results on Confident AI. \n",
              "‼️  Friendly reminder 😇: You can also run evaluations with ALL of deepeval's metrics directly on Confident AI \n",
              "instead.\n",
              "</pre>\n"
            ]
          },
          "metadata": {}
        },
        {
          "output_type": "display_data",
          "data": {
            "text/plain": [
              "✨ You're running DeepEval's latest \u001b[38;2;106;0;255mAnswer Relevancy Metric\u001b[0m! \u001b[1;38;2;55;65;81m(\u001b[0m\u001b[38;2;55;65;81musing mistral-large-latest, \u001b[0m\u001b[38;2;55;65;81mstrict\u001b[0m\u001b[38;2;55;65;81m=\u001b[0m\u001b[3;38;2;55;65;81mFalse\u001b[0m\u001b[38;2;55;65;81m, \u001b[0m\n",
              "\u001b[38;2;55;65;81masync_mode\u001b[0m\u001b[38;2;55;65;81m=\u001b[0m\u001b[3;38;2;55;65;81mTrue\u001b[0m\u001b[1;38;2;55;65;81m)\u001b[0m\u001b[38;2;55;65;81m...\u001b[0m\n"
            ],
            "text/html": [
              "<pre style=\"white-space:pre;overflow-x:auto;line-height:normal;font-family:Menlo,'DejaVu Sans Mono',consolas,'Courier New',monospace\">✨ You're running DeepEval's latest <span style=\"color: #6a00ff; text-decoration-color: #6a00ff\">Answer Relevancy Metric</span>! <span style=\"color: #374151; text-decoration-color: #374151; font-weight: bold\">(</span><span style=\"color: #374151; text-decoration-color: #374151\">using mistral-large-latest, </span><span style=\"color: #374151; text-decoration-color: #374151\">strict</span><span style=\"color: #374151; text-decoration-color: #374151\">=</span><span style=\"color: #374151; text-decoration-color: #374151; font-style: italic\">False</span><span style=\"color: #374151; text-decoration-color: #374151\">, </span>\n",
              "<span style=\"color: #374151; text-decoration-color: #374151\">async_mode</span><span style=\"color: #374151; text-decoration-color: #374151\">=</span><span style=\"color: #374151; text-decoration-color: #374151; font-style: italic\">True</span><span style=\"color: #374151; text-decoration-color: #374151; font-weight: bold\">)</span><span style=\"color: #374151; text-decoration-color: #374151\">...</span>\n",
              "</pre>\n"
            ]
          },
          "metadata": {}
        },
        {
          "output_type": "stream",
          "name": "stdout",
          "text": [
            "Event loop is already running. Applying nest_asyncio patch to allow async execution...\n"
          ]
        },
        {
          "output_type": "stream",
          "name": "stderr",
          "text": [
            "Evaluating 1 test case(s) in parallel: |██████████|100% (1/1) [Time Taken: 00:07,  7.50s/test case]"
          ]
        },
        {
          "output_type": "stream",
          "name": "stdout",
          "text": [
            "\n",
            "======================================================================\n",
            "\n",
            "Metrics Summary\n",
            "\n",
            "  - ✅ Answer Relevancy (score: 1.0, threshold: 0.5, strict: False, evaluation model: mistral-large-latest, reason: The score is 1.00 because the response perfectly addresses the question about the available admission forms for new students., error: None)\n",
            "\n",
            "For test case:\n",
            "\n",
            "  - input: Quais são as formas de ingresso disponíveis para novos alunos?\n",
            "  - actual output: As formas de ingresso disponíveis para novos alunos, de acordo com o PPC, são:\n",
            "\n",
            "- Processo seletivo regular\n",
            "- Transferência interna\n",
            "- Retorno de aluno-abandono\n",
            "- Transferência externa\n",
            "- Retorno de graduado\n",
            "- Transferência coercitiva ou *ex officio*\n",
            "- Processos seletivos especiais e processos\n",
            "  - expected output: O acesso aos cursos de graduação da UFFS, tanto no que diz respeito ao\r\n",
            "preenchimento das vagas de oferta regular, como das ofertas de caráter especial e das\r\n",
            "eventuais vagas ociosas, se dá por meio de diferentes formas de ingresso: processo seletivo\r\n",
            "regular; transferência interna; retorno de aluno-abandono; transferência externa; retorno de\r\n",
            "graduado; transferência coercitiva ou ex officio; processos seletivos especiais e processos\r\n",
            "seletivos complementares, conforme regulamentação do Conselho Universitário – CONSUNI.\r\n",
            "\n",
            "  - context: None\n",
            "  - retrieval context: ['\\n\\n1870  4. Acessibilidade Metodológica <br><br>- Orientação aos coordenadores de curso e docentes sobre como organizar a prática <br><br>pedagógica diante da presença de discentes com deficiência; <br><br>- Disponibilização antecipada, por parte dos docentes para o intérprete de LIBRAS, do \\nDRAFT <br><br>material/conteúdo a ser utilizado/ministrado em aula; <br><br>- Envio de material/conteúdo em slides para o discente surdo com, pelo menos, um dia <br><br>de antecedência; <br><br>- Presença em sala de aula de Tradutor e Intérprete de LIBRAS nos cursos de graduação <br><br>em que há discente(s) matriculado(s) com surdez. Além de fazer a tradução e interpretação dos <br><br>conteúdos em sala de aula, o tradutor acompanha o discente em atividades como visitas a <br><br>1880  empresas e pesquisas de campo; realiza a mediação nos trabalhos em grupo; acompanha as <br><br>orientações com os docentes; acompanha o(s) acadêmico(s) surdo(s) em todos os setores da  \\n\\n165  **1.12 Carga horária máxima por semestre letivo:**32 (vespertino e noturno) <br><br>**1.13 Carga horária mínima por semestre letivo:**4 (vespertino e noturno) <br><br>**1.14 Coordenador do curso:**Guilherme Dal Bianco <br><br>**1.15 Ato Autorizativo:**Portaria Nº 729 de 19 de dezembro de 2013 (Diário Oficial da União, <br><br>Nº 247, 20 de dezembro de 2013, Seção 1, Página 25). <br><br>170  **1.16 Forma de ingresso:**<br><br>O acesso aos cursos de graduação da UFFS, tanto no que diz respeito ao <br><br>preenchimento das vagas de oferta regular, como das ofertas de caráter especial e das <br><br>eventuais vagas ociosas, se dá por meio de diferentes formas de ingresso: processo seletivo <br><br>regular; transferência interna; retorno de aluno-abandono; transferência externa; retorno de <br><br>175  graduado; transferência coercitiva ou*ex officio*; processos seletivos especiais e processos ', '\\n\\n1010  **8.2 Oferta de componentes curriculares no formato semipresencial**<br><br>Conforme a RESOLUÇÃO Nº 5/CONSUNI CGRAD/UFFS/2014, que dispõe sobre a <br><br>oferta de componentes curriculares ministrados no formato semipresencial nos cursos de <br><br>graduação presenciais da UFFS: <br><br>Art. 6º A oferta de componente curricular semipresencial deve constar do Projeto <br><br>1015  Pedagógico do Curso - PPC, aprovado pelo Colegiado de Curso, em consonância com o NDE <br><br>(Núcleo Docente Estruturante), e submetido à aprovação final da Câmara de Graduação do <br><br>Conselho Universitário. <br><br>§ 1º O projeto pedagógico do curso que adotar componentes curriculares no formato <br><br>semipresencial, deve conter: <br><br>1020  I – uma fundamentação teórico-metodológica que incorpora o uso das tecnologias de <br><br>informação e comunicação no processo de ensino e aprendizagem do curso;  \\n\\ntarefas, entrega de trabalhos e avaliações); o sistema institucional de videoconferência e aulas; <br><br>a biblioteca digital recentemente adquirida pela UFFS, entre outros. O curso dialoga <br><br>1070  continuamente com as práticas e programas de inovação no contexto educacional <br><br>disponibilizadas pela instituição, tais como a estruturação de ambientes que possibilitem a <br><br>gravação, transmissão, edição e produção de conteúdo educacionais. <br><br>Essas ferramentas tem como vantagem potencializar o tempo e o espaço do processo <br><br>formativo, possibilitando maior interatividade e autonomia da(o) discente, que deverá gerir <br><br>1075  seus estudos a fim de dar conta das atividades propostas por suas e seus docentes. Além de <br><br>administrar seu processo formativo, a(o) discente adquire novos conhecimentos e habilidades <br><br>com os recursos tecnológicos disponíveis. Portanto, os recursos desta modalidade podem <br><br>contribuir para que a(o) discente tenha oportunidades mais diversificadas de aprendizagem. <br><br>Considerando o número substancial de discentes não residentes na cidade de oferta do ', '\\n\\nparticipação ativa na aplicação e no acompanhamento do Projeto Pedagógico. <br><br>O Projeto Pedagógico do Curso prevê conteúdos, práticas, atividades de extensão e de <br><br>895  pesquisa implementados por meio de componentes curriculares obrigatórios e optativos, <br><br>sendo ministrados em salas de aulas e em laboratórios. O discente deve colocar em prática os <br><br>conteúdos através de projetos relacionados aos componentes, atividades curriculares <br><br>complementares, atividades de extensão e trabalho de conclusão de curso. <br><br>A organização curricular obedecerá aos princípios pedagógicos, metodológicos e <br><br>900  epistemológicos da proposta curricular da UFFS, tendo como subsídio as orientações <br><br>apresentadas no Projeto Pedagógico Institucional (PPI).  \\n\\n']\n",
            "\n",
            "======================================================================\n",
            "\n",
            "Overall Metric Pass Rates\n",
            "\n",
            "Answer Relevancy: 100.00% pass rate\n",
            "\n",
            "======================================================================\n",
            "\n"
          ]
        },
        {
          "output_type": "stream",
          "name": "stderr",
          "text": [
            "\n"
          ]
        },
        {
          "output_type": "display_data",
          "data": {
            "text/plain": [
              "\u001b[38;2;5;245;141m✓\u001b[0m Tests finished 🎉! Run \u001b[32m'deepeval login'\u001b[0m to save and analyze evaluation results on Confident AI. \n",
              "‼️  Friendly reminder 😇: You can also run evaluations with ALL of deepeval's metrics directly on Confident AI \n",
              "instead.\n"
            ],
            "text/html": [
              "<pre style=\"white-space:pre;overflow-x:auto;line-height:normal;font-family:Menlo,'DejaVu Sans Mono',consolas,'Courier New',monospace\"><span style=\"color: #05f58d; text-decoration-color: #05f58d\">✓</span> Tests finished 🎉! Run <span style=\"color: #008000; text-decoration-color: #008000\">'deepeval login'</span> to save and analyze evaluation results on Confident AI. \n",
              "‼️  Friendly reminder 😇: You can also run evaluations with ALL of deepeval's metrics directly on Confident AI \n",
              "instead.\n",
              "</pre>\n"
            ]
          },
          "metadata": {}
        },
        {
          "output_type": "display_data",
          "data": {
            "text/plain": [
              "✨ You're running DeepEval's latest \u001b[38;2;106;0;255mContextual Recall Metric\u001b[0m! \u001b[1;38;2;55;65;81m(\u001b[0m\u001b[38;2;55;65;81musing llama-\u001b[0m\u001b[1;38;2;55;65;81m3.1\u001b[0m\u001b[38;2;55;65;81m-70b-versatile, \u001b[0m\u001b[38;2;55;65;81mstrict\u001b[0m\u001b[38;2;55;65;81m=\u001b[0m\u001b[3;38;2;55;65;81mFalse\u001b[0m\u001b[38;2;55;65;81m, \u001b[0m\n",
              "\u001b[38;2;55;65;81masync_mode\u001b[0m\u001b[38;2;55;65;81m=\u001b[0m\u001b[3;38;2;55;65;81mTrue\u001b[0m\u001b[1;38;2;55;65;81m)\u001b[0m\u001b[38;2;55;65;81m...\u001b[0m\n"
            ],
            "text/html": [
              "<pre style=\"white-space:pre;overflow-x:auto;line-height:normal;font-family:Menlo,'DejaVu Sans Mono',consolas,'Courier New',monospace\">✨ You're running DeepEval's latest <span style=\"color: #6a00ff; text-decoration-color: #6a00ff\">Contextual Recall Metric</span>! <span style=\"color: #374151; text-decoration-color: #374151; font-weight: bold\">(</span><span style=\"color: #374151; text-decoration-color: #374151\">using llama-</span><span style=\"color: #374151; text-decoration-color: #374151; font-weight: bold\">3.1</span><span style=\"color: #374151; text-decoration-color: #374151\">-70b-versatile, </span><span style=\"color: #374151; text-decoration-color: #374151\">strict</span><span style=\"color: #374151; text-decoration-color: #374151\">=</span><span style=\"color: #374151; text-decoration-color: #374151; font-style: italic\">False</span><span style=\"color: #374151; text-decoration-color: #374151\">, </span>\n",
              "<span style=\"color: #374151; text-decoration-color: #374151\">async_mode</span><span style=\"color: #374151; text-decoration-color: #374151\">=</span><span style=\"color: #374151; text-decoration-color: #374151; font-style: italic\">True</span><span style=\"color: #374151; text-decoration-color: #374151; font-weight: bold\">)</span><span style=\"color: #374151; text-decoration-color: #374151\">...</span>\n",
              "</pre>\n"
            ]
          },
          "metadata": {}
        },
        {
          "output_type": "stream",
          "name": "stdout",
          "text": [
            "Event loop is already running. Applying nest_asyncio patch to allow async execution...\n"
          ]
        },
        {
          "output_type": "stream",
          "name": "stderr",
          "text": [
            "Evaluating 1 test case(s) in parallel: |██████████|100% (1/1) [Time Taken: 00:01,  1.31s/test case]"
          ]
        },
        {
          "output_type": "stream",
          "name": "stdout",
          "text": [
            "\n",
            "======================================================================\n",
            "\n",
            "Metrics Summary\n",
            "\n",
            "  - ✅ Contextual Recall (score: 1.0, threshold: 0.25, strict: False, evaluation model: llama-3.1-70b-versatile, reason: None, error: None)\n",
            "\n",
            "For test case:\n",
            "\n",
            "  - input: Quais são as formas de ingresso disponíveis para novos alunos?\n",
            "  - actual output: As formas de ingresso disponíveis para novos alunos, de acordo com o PPC, são:\n",
            "\n",
            "- Processo seletivo regular\n",
            "- Transferência interna\n",
            "- Retorno de aluno-abandono\n",
            "- Transferência externa\n",
            "- Retorno de graduado\n",
            "- Transferência coercitiva ou *ex officio*\n",
            "- Processos seletivos especiais e processos\n",
            "  - expected output: O acesso aos cursos de graduação da UFFS, tanto no que diz respeito ao\r\n",
            "preenchimento das vagas de oferta regular, como das ofertas de caráter especial e das\r\n",
            "eventuais vagas ociosas, se dá por meio de diferentes formas de ingresso: processo seletivo\r\n",
            "regular; transferência interna; retorno de aluno-abandono; transferência externa; retorno de\r\n",
            "graduado; transferência coercitiva ou ex officio; processos seletivos especiais e processos\r\n",
            "seletivos complementares, conforme regulamentação do Conselho Universitário – CONSUNI.\r\n",
            "\n",
            "  - context: None\n",
            "  - retrieval context: ['\\n\\n1870  4. Acessibilidade Metodológica <br><br>- Orientação aos coordenadores de curso e docentes sobre como organizar a prática <br><br>pedagógica diante da presença de discentes com deficiência; <br><br>- Disponibilização antecipada, por parte dos docentes para o intérprete de LIBRAS, do \\nDRAFT <br><br>material/conteúdo a ser utilizado/ministrado em aula; <br><br>- Envio de material/conteúdo em slides para o discente surdo com, pelo menos, um dia <br><br>de antecedência; <br><br>- Presença em sala de aula de Tradutor e Intérprete de LIBRAS nos cursos de graduação <br><br>em que há discente(s) matriculado(s) com surdez. Além de fazer a tradução e interpretação dos <br><br>conteúdos em sala de aula, o tradutor acompanha o discente em atividades como visitas a <br><br>1880  empresas e pesquisas de campo; realiza a mediação nos trabalhos em grupo; acompanha as <br><br>orientações com os docentes; acompanha o(s) acadêmico(s) surdo(s) em todos os setores da  \\n\\n165  **1.12 Carga horária máxima por semestre letivo:**32 (vespertino e noturno) <br><br>**1.13 Carga horária mínima por semestre letivo:**4 (vespertino e noturno) <br><br>**1.14 Coordenador do curso:**Guilherme Dal Bianco <br><br>**1.15 Ato Autorizativo:**Portaria Nº 729 de 19 de dezembro de 2013 (Diário Oficial da União, <br><br>Nº 247, 20 de dezembro de 2013, Seção 1, Página 25). <br><br>170  **1.16 Forma de ingresso:**<br><br>O acesso aos cursos de graduação da UFFS, tanto no que diz respeito ao <br><br>preenchimento das vagas de oferta regular, como das ofertas de caráter especial e das <br><br>eventuais vagas ociosas, se dá por meio de diferentes formas de ingresso: processo seletivo <br><br>regular; transferência interna; retorno de aluno-abandono; transferência externa; retorno de <br><br>175  graduado; transferência coercitiva ou*ex officio*; processos seletivos especiais e processos ', '\\n\\n1010  **8.2 Oferta de componentes curriculares no formato semipresencial**<br><br>Conforme a RESOLUÇÃO Nº 5/CONSUNI CGRAD/UFFS/2014, que dispõe sobre a <br><br>oferta de componentes curriculares ministrados no formato semipresencial nos cursos de <br><br>graduação presenciais da UFFS: <br><br>Art. 6º A oferta de componente curricular semipresencial deve constar do Projeto <br><br>1015  Pedagógico do Curso - PPC, aprovado pelo Colegiado de Curso, em consonância com o NDE <br><br>(Núcleo Docente Estruturante), e submetido à aprovação final da Câmara de Graduação do <br><br>Conselho Universitário. <br><br>§ 1º O projeto pedagógico do curso que adotar componentes curriculares no formato <br><br>semipresencial, deve conter: <br><br>1020  I – uma fundamentação teórico-metodológica que incorpora o uso das tecnologias de <br><br>informação e comunicação no processo de ensino e aprendizagem do curso;  \\n\\ntarefas, entrega de trabalhos e avaliações); o sistema institucional de videoconferência e aulas; <br><br>a biblioteca digital recentemente adquirida pela UFFS, entre outros. O curso dialoga <br><br>1070  continuamente com as práticas e programas de inovação no contexto educacional <br><br>disponibilizadas pela instituição, tais como a estruturação de ambientes que possibilitem a <br><br>gravação, transmissão, edição e produção de conteúdo educacionais. <br><br>Essas ferramentas tem como vantagem potencializar o tempo e o espaço do processo <br><br>formativo, possibilitando maior interatividade e autonomia da(o) discente, que deverá gerir <br><br>1075  seus estudos a fim de dar conta das atividades propostas por suas e seus docentes. Além de <br><br>administrar seu processo formativo, a(o) discente adquire novos conhecimentos e habilidades <br><br>com os recursos tecnológicos disponíveis. Portanto, os recursos desta modalidade podem <br><br>contribuir para que a(o) discente tenha oportunidades mais diversificadas de aprendizagem. <br><br>Considerando o número substancial de discentes não residentes na cidade de oferta do ', '\\n\\nparticipação ativa na aplicação e no acompanhamento do Projeto Pedagógico. <br><br>O Projeto Pedagógico do Curso prevê conteúdos, práticas, atividades de extensão e de <br><br>895  pesquisa implementados por meio de componentes curriculares obrigatórios e optativos, <br><br>sendo ministrados em salas de aulas e em laboratórios. O discente deve colocar em prática os <br><br>conteúdos através de projetos relacionados aos componentes, atividades curriculares <br><br>complementares, atividades de extensão e trabalho de conclusão de curso. <br><br>A organização curricular obedecerá aos princípios pedagógicos, metodológicos e <br><br>900  epistemológicos da proposta curricular da UFFS, tendo como subsídio as orientações <br><br>apresentadas no Projeto Pedagógico Institucional (PPI).  \\n\\n']\n",
            "\n",
            "======================================================================\n",
            "\n",
            "Overall Metric Pass Rates\n",
            "\n",
            "Contextual Recall: 100.00% pass rate\n",
            "\n",
            "======================================================================\n",
            "\n"
          ]
        },
        {
          "output_type": "stream",
          "name": "stderr",
          "text": [
            "\n"
          ]
        },
        {
          "output_type": "display_data",
          "data": {
            "text/plain": [
              "\u001b[38;2;5;245;141m✓\u001b[0m Tests finished 🎉! Run \u001b[32m'deepeval login'\u001b[0m to save and analyze evaluation results on Confident AI. \n",
              "‼️  Friendly reminder 😇: You can also run evaluations with ALL of deepeval's metrics directly on Confident AI \n",
              "instead.\n"
            ],
            "text/html": [
              "<pre style=\"white-space:pre;overflow-x:auto;line-height:normal;font-family:Menlo,'DejaVu Sans Mono',consolas,'Courier New',monospace\"><span style=\"color: #05f58d; text-decoration-color: #05f58d\">✓</span> Tests finished 🎉! Run <span style=\"color: #008000; text-decoration-color: #008000\">'deepeval login'</span> to save and analyze evaluation results on Confident AI. \n",
              "‼️  Friendly reminder 😇: You can also run evaluations with ALL of deepeval's metrics directly on Confident AI \n",
              "instead.\n",
              "</pre>\n"
            ]
          },
          "metadata": {}
        },
        {
          "output_type": "display_data",
          "data": {
            "text/plain": [
              "✨ You're running DeepEval's latest \u001b[38;2;106;0;255mFaithfulness Metric\u001b[0m! \u001b[1;38;2;55;65;81m(\u001b[0m\u001b[38;2;55;65;81musing mistral-large-latest, \u001b[0m\u001b[38;2;55;65;81mstrict\u001b[0m\u001b[38;2;55;65;81m=\u001b[0m\u001b[3;38;2;55;65;81mFalse\u001b[0m\u001b[38;2;55;65;81m, \u001b[0m\n",
              "\u001b[38;2;55;65;81masync_mode\u001b[0m\u001b[38;2;55;65;81m=\u001b[0m\u001b[3;38;2;55;65;81mTrue\u001b[0m\u001b[1;38;2;55;65;81m)\u001b[0m\u001b[38;2;55;65;81m...\u001b[0m\n"
            ],
            "text/html": [
              "<pre style=\"white-space:pre;overflow-x:auto;line-height:normal;font-family:Menlo,'DejaVu Sans Mono',consolas,'Courier New',monospace\">✨ You're running DeepEval's latest <span style=\"color: #6a00ff; text-decoration-color: #6a00ff\">Faithfulness Metric</span>! <span style=\"color: #374151; text-decoration-color: #374151; font-weight: bold\">(</span><span style=\"color: #374151; text-decoration-color: #374151\">using mistral-large-latest, </span><span style=\"color: #374151; text-decoration-color: #374151\">strict</span><span style=\"color: #374151; text-decoration-color: #374151\">=</span><span style=\"color: #374151; text-decoration-color: #374151; font-style: italic\">False</span><span style=\"color: #374151; text-decoration-color: #374151\">, </span>\n",
              "<span style=\"color: #374151; text-decoration-color: #374151\">async_mode</span><span style=\"color: #374151; text-decoration-color: #374151\">=</span><span style=\"color: #374151; text-decoration-color: #374151; font-style: italic\">True</span><span style=\"color: #374151; text-decoration-color: #374151; font-weight: bold\">)</span><span style=\"color: #374151; text-decoration-color: #374151\">...</span>\n",
              "</pre>\n"
            ]
          },
          "metadata": {}
        },
        {
          "output_type": "stream",
          "name": "stdout",
          "text": [
            "Event loop is already running. Applying nest_asyncio patch to allow async execution...\n"
          ]
        },
        {
          "output_type": "stream",
          "name": "stderr",
          "text": [
            "\rEvaluating 1 test case(s) in parallel: |          |  0% (0/1) [Time Taken: 00:00, ?test case/s]"
          ]
        },
        {
          "output_type": "stream",
          "name": "stdout",
          "text": [
            "3\n"
          ]
        },
        {
          "output_type": "stream",
          "name": "stderr",
          "text": [
            "Evaluating 1 test case(s) in parallel: |██████████|100% (1/1) [Time Taken: 00:10, 10.00s/test case]"
          ]
        },
        {
          "output_type": "stream",
          "name": "stdout",
          "text": [
            "\n",
            "======================================================================\n",
            "\n",
            "Metrics Summary\n",
            "\n",
            "  - ✅ Faithfulness (score: 1.0, threshold: 0.5, strict: False, evaluation model: mistral-large-latest, reason: The score is 1.00 because there are no contradictions! Great job!, error: None)\n",
            "\n",
            "For test case:\n",
            "\n",
            "  - input: Quais são as formas de ingresso disponíveis para novos alunos?\n",
            "  - actual output: As formas de ingresso disponíveis para novos alunos, de acordo com o PPC, são:\n",
            "\n",
            "- Processo seletivo regular\n",
            "- Transferência interna\n",
            "- Retorno de aluno-abandono\n",
            "- Transferência externa\n",
            "- Retorno de graduado\n",
            "- Transferência coercitiva ou *ex officio*\n",
            "- Processos seletivos especiais e processos\n",
            "  - expected output: O acesso aos cursos de graduação da UFFS, tanto no que diz respeito ao\r\n",
            "preenchimento das vagas de oferta regular, como das ofertas de caráter especial e das\r\n",
            "eventuais vagas ociosas, se dá por meio de diferentes formas de ingresso: processo seletivo\r\n",
            "regular; transferência interna; retorno de aluno-abandono; transferência externa; retorno de\r\n",
            "graduado; transferência coercitiva ou ex officio; processos seletivos especiais e processos\r\n",
            "seletivos complementares, conforme regulamentação do Conselho Universitário – CONSUNI.\r\n",
            "\n",
            "  - context: None\n",
            "  - retrieval context: ['\\n\\n1870  4. Acessibilidade Metodológica <br><br>- Orientação aos coordenadores de curso e docentes sobre como organizar a prática <br><br>pedagógica diante da presença de discentes com deficiência; <br><br>- Disponibilização antecipada, por parte dos docentes para o intérprete de LIBRAS, do \\nDRAFT <br><br>material/conteúdo a ser utilizado/ministrado em aula; <br><br>- Envio de material/conteúdo em slides para o discente surdo com, pelo menos, um dia <br><br>de antecedência; <br><br>- Presença em sala de aula de Tradutor e Intérprete de LIBRAS nos cursos de graduação <br><br>em que há discente(s) matriculado(s) com surdez. Além de fazer a tradução e interpretação dos <br><br>conteúdos em sala de aula, o tradutor acompanha o discente em atividades como visitas a <br><br>1880  empresas e pesquisas de campo; realiza a mediação nos trabalhos em grupo; acompanha as <br><br>orientações com os docentes; acompanha o(s) acadêmico(s) surdo(s) em todos os setores da  \\n\\n165  **1.12 Carga horária máxima por semestre letivo:**32 (vespertino e noturno) <br><br>**1.13 Carga horária mínima por semestre letivo:**4 (vespertino e noturno) <br><br>**1.14 Coordenador do curso:**Guilherme Dal Bianco <br><br>**1.15 Ato Autorizativo:**Portaria Nº 729 de 19 de dezembro de 2013 (Diário Oficial da União, <br><br>Nº 247, 20 de dezembro de 2013, Seção 1, Página 25). <br><br>170  **1.16 Forma de ingresso:**<br><br>O acesso aos cursos de graduação da UFFS, tanto no que diz respeito ao <br><br>preenchimento das vagas de oferta regular, como das ofertas de caráter especial e das <br><br>eventuais vagas ociosas, se dá por meio de diferentes formas de ingresso: processo seletivo <br><br>regular; transferência interna; retorno de aluno-abandono; transferência externa; retorno de <br><br>175  graduado; transferência coercitiva ou*ex officio*; processos seletivos especiais e processos ', '\\n\\n1010  **8.2 Oferta de componentes curriculares no formato semipresencial**<br><br>Conforme a RESOLUÇÃO Nº 5/CONSUNI CGRAD/UFFS/2014, que dispõe sobre a <br><br>oferta de componentes curriculares ministrados no formato semipresencial nos cursos de <br><br>graduação presenciais da UFFS: <br><br>Art. 6º A oferta de componente curricular semipresencial deve constar do Projeto <br><br>1015  Pedagógico do Curso - PPC, aprovado pelo Colegiado de Curso, em consonância com o NDE <br><br>(Núcleo Docente Estruturante), e submetido à aprovação final da Câmara de Graduação do <br><br>Conselho Universitário. <br><br>§ 1º O projeto pedagógico do curso que adotar componentes curriculares no formato <br><br>semipresencial, deve conter: <br><br>1020  I – uma fundamentação teórico-metodológica que incorpora o uso das tecnologias de <br><br>informação e comunicação no processo de ensino e aprendizagem do curso;  \\n\\ntarefas, entrega de trabalhos e avaliações); o sistema institucional de videoconferência e aulas; <br><br>a biblioteca digital recentemente adquirida pela UFFS, entre outros. O curso dialoga <br><br>1070  continuamente com as práticas e programas de inovação no contexto educacional <br><br>disponibilizadas pela instituição, tais como a estruturação de ambientes que possibilitem a <br><br>gravação, transmissão, edição e produção de conteúdo educacionais. <br><br>Essas ferramentas tem como vantagem potencializar o tempo e o espaço do processo <br><br>formativo, possibilitando maior interatividade e autonomia da(o) discente, que deverá gerir <br><br>1075  seus estudos a fim de dar conta das atividades propostas por suas e seus docentes. Além de <br><br>administrar seu processo formativo, a(o) discente adquire novos conhecimentos e habilidades <br><br>com os recursos tecnológicos disponíveis. Portanto, os recursos desta modalidade podem <br><br>contribuir para que a(o) discente tenha oportunidades mais diversificadas de aprendizagem. <br><br>Considerando o número substancial de discentes não residentes na cidade de oferta do ', '\\n\\nparticipação ativa na aplicação e no acompanhamento do Projeto Pedagógico. <br><br>O Projeto Pedagógico do Curso prevê conteúdos, práticas, atividades de extensão e de <br><br>895  pesquisa implementados por meio de componentes curriculares obrigatórios e optativos, <br><br>sendo ministrados em salas de aulas e em laboratórios. O discente deve colocar em prática os <br><br>conteúdos através de projetos relacionados aos componentes, atividades curriculares <br><br>complementares, atividades de extensão e trabalho de conclusão de curso. <br><br>A organização curricular obedecerá aos princípios pedagógicos, metodológicos e <br><br>900  epistemológicos da proposta curricular da UFFS, tendo como subsídio as orientações <br><br>apresentadas no Projeto Pedagógico Institucional (PPI).  \\n\\n']\n",
            "\n",
            "======================================================================\n",
            "\n",
            "Overall Metric Pass Rates\n",
            "\n",
            "Faithfulness: 100.00% pass rate\n",
            "\n",
            "======================================================================\n",
            "\n"
          ]
        },
        {
          "output_type": "stream",
          "name": "stderr",
          "text": [
            "\n"
          ]
        },
        {
          "output_type": "display_data",
          "data": {
            "text/plain": [
              "\u001b[38;2;5;245;141m✓\u001b[0m Tests finished 🎉! Run \u001b[32m'deepeval login'\u001b[0m to save and analyze evaluation results on Confident AI. \n",
              "‼️  Friendly reminder 😇: You can also run evaluations with ALL of deepeval's metrics directly on Confident AI \n",
              "instead.\n"
            ],
            "text/html": [
              "<pre style=\"white-space:pre;overflow-x:auto;line-height:normal;font-family:Menlo,'DejaVu Sans Mono',consolas,'Courier New',monospace\"><span style=\"color: #05f58d; text-decoration-color: #05f58d\">✓</span> Tests finished 🎉! Run <span style=\"color: #008000; text-decoration-color: #008000\">'deepeval login'</span> to save and analyze evaluation results on Confident AI. \n",
              "‼️  Friendly reminder 😇: You can also run evaluations with ALL of deepeval's metrics directly on Confident AI \n",
              "instead.\n",
              "</pre>\n"
            ]
          },
          "metadata": {}
        },
        {
          "output_type": "display_data",
          "data": {
            "text/plain": [
              "✨ You're running DeepEval's latest \u001b[38;2;106;0;255mCorrectness \u001b[0m\u001b[1;38;2;106;0;255m(\u001b[0m\u001b[38;2;106;0;255mGEval\u001b[0m\u001b[1;38;2;106;0;255m)\u001b[0m\u001b[38;2;106;0;255m Metric\u001b[0m! \u001b[1;38;2;55;65;81m(\u001b[0m\u001b[38;2;55;65;81musing mistral-large-latest, \u001b[0m\u001b[38;2;55;65;81mstrict\u001b[0m\u001b[38;2;55;65;81m=\u001b[0m\u001b[3;38;2;55;65;81mFalse\u001b[0m\u001b[38;2;55;65;81m, \u001b[0m\n",
              "\u001b[38;2;55;65;81masync_mode\u001b[0m\u001b[38;2;55;65;81m=\u001b[0m\u001b[3;38;2;55;65;81mTrue\u001b[0m\u001b[1;38;2;55;65;81m)\u001b[0m\u001b[38;2;55;65;81m...\u001b[0m\n"
            ],
            "text/html": [
              "<pre style=\"white-space:pre;overflow-x:auto;line-height:normal;font-family:Menlo,'DejaVu Sans Mono',consolas,'Courier New',monospace\">✨ You're running DeepEval's latest <span style=\"color: #6a00ff; text-decoration-color: #6a00ff\">Correctness </span><span style=\"color: #6a00ff; text-decoration-color: #6a00ff; font-weight: bold\">(</span><span style=\"color: #6a00ff; text-decoration-color: #6a00ff\">GEval</span><span style=\"color: #6a00ff; text-decoration-color: #6a00ff; font-weight: bold\">)</span><span style=\"color: #6a00ff; text-decoration-color: #6a00ff\"> Metric</span>! <span style=\"color: #374151; text-decoration-color: #374151; font-weight: bold\">(</span><span style=\"color: #374151; text-decoration-color: #374151\">using mistral-large-latest, </span><span style=\"color: #374151; text-decoration-color: #374151\">strict</span><span style=\"color: #374151; text-decoration-color: #374151\">=</span><span style=\"color: #374151; text-decoration-color: #374151; font-style: italic\">False</span><span style=\"color: #374151; text-decoration-color: #374151\">, </span>\n",
              "<span style=\"color: #374151; text-decoration-color: #374151\">async_mode</span><span style=\"color: #374151; text-decoration-color: #374151\">=</span><span style=\"color: #374151; text-decoration-color: #374151; font-style: italic\">True</span><span style=\"color: #374151; text-decoration-color: #374151; font-weight: bold\">)</span><span style=\"color: #374151; text-decoration-color: #374151\">...</span>\n",
              "</pre>\n"
            ]
          },
          "metadata": {}
        },
        {
          "output_type": "stream",
          "name": "stdout",
          "text": [
            "Event loop is already running. Applying nest_asyncio patch to allow async execution...\n"
          ]
        },
        {
          "output_type": "stream",
          "name": "stderr",
          "text": [
            "Evaluating 1 test case(s) in parallel: |██████████|100% (1/1) [Time Taken: 00:01,  1.79s/test case]"
          ]
        },
        {
          "output_type": "stream",
          "name": "stdout",
          "text": [
            "\n",
            "======================================================================\n",
            "\n",
            "Metrics Summary\n",
            "\n",
            "  - ✅ Correctness (GEval) (score: 1.0, threshold: 0.5, strict: False, evaluation model: mistral-large-latest, reason: The actual output provides detailed information about both internal and external transfers, aligning well with the input question., error: None)\n",
            "\n",
            "For test case:\n",
            "\n",
            "  - input: O curso oferece vagas para transferência externa ou interna?\n",
            "  - actual output: Sim, o curso oferece vagas para transferência externa e interna.\n",
            "\n",
            "A transferência interna ocorre mediante a troca de turno, de curso ou de campus no âmbito da UFFS, sendo vedada a transferência interna no semestre de ingresso ou de retorno para a UFFS.\n",
            "\n",
            "A transferência externa é a concessão de vaga a discente regularmente matriculado em outra instituição de ensino superior, nacional ou estrangeira, para prosseguimento de seus estudos na UFFS.\n",
            "\n",
            "O acesso aos cursos de graduação da UFFS, tanto no que diz respeito ao preenchimento das vagas de oferta regular, como das ofertas de caráter especial e das eventuais vagas ociosas, se dá por meio de diferentes formas de ingresso, incluindo transferência interna e transferência externa.\n",
            "  - expected output: Sim, o curso oferece vagas para transferência externa e interna. A transferência externa é a concessão de vaga a um estudante regularmente matriculado em outra instituição de ensino superior, enquanto a transferência interna ocorre mediante a troca de turno, de curso ou de campus no âmbito da UFFS. No entanto, é vedada a transferência interna no semestre de ingresso ou de retorno para a UFFS.\n",
            "  - context: None\n",
            "  - retrieval context: ['\\n\\n**b) Transferência Interna, Retorno de Aluno-Abandono, Transferência Externa, Retorno**<br><br>**de Graduado, Transferência coercitiva ou*ex officio***<br><br>195  \\uf0b7 Transferência interna   : acontece mediante a troca de turno, de curso ou de*campus*<br><br>no âmbito da UFFS, sendo vedada a transferência interna no semestre de ingresso <br><br>ou de retorno para a UFFS; <br><br>\\uf0b7 Retorno de Aluno-Abandono da UFFS   : reingresso de quem já esteve regularmente <br><br>matriculado e rompeu seu vínculo com a instituição, por haver desistido ou <br><br>200  abandonado o curso; <br><br>\\uf0b7 Transferência externa   : concessão de vaga a discente regularmente matriculado em <br><br>outra instituição de ensino superior, nacional ou estrangeira, para prosseguimento <br><br>de seus estudos na UFFS; <br><br>\\uf0b7 Retorno de graduado   : concessão de vaga, na UFFS, para graduado da UFFS ou de <br><br>205  outra instituição de ensino superior que pretenda fazer novo curso. Para esta  \\n\\n165  **1.12 Carga horária máxima por semestre letivo:**32 (vespertino e noturno) <br><br>**1.13 Carga horária mínima por semestre letivo:**4 (vespertino e noturno) <br><br>**1.14 Coordenador do curso:**Guilherme Dal Bianco <br><br>**1.15 Ato Autorizativo:**Portaria Nº 729 de 19 de dezembro de 2013 (Diário Oficial da União, <br><br>Nº 247, 20 de dezembro de 2013, Seção 1, Página 25). <br><br>170  **1.16 Forma de ingresso:**<br><br>O acesso aos cursos de graduação da UFFS, tanto no que diz respeito ao <br><br>preenchimento das vagas de oferta regular, como das ofertas de caráter especial e das <br><br>eventuais vagas ociosas, se dá por meio de diferentes formas de ingresso: processo seletivo <br><br>regular; transferência interna; retorno de aluno-abandono; transferência externa; retorno de <br><br>175  graduado; transferência coercitiva ou*ex officio*; processos seletivos especiais e processos ', '\\n\\n**Portaria nº 2.117, de 6 de dezembro de 2019**- Dispõe sobre a oferta de carga horária na <br><br>modalidade de Ensino a Distância - EaD em cursos de graduação presenciais ofertados por <br><br>Instituições de Educação Superior – IES pertencentes ao Sistema Federal de Ensino.  \\n\\n**Resolução nº 16/2019 - CONSUNI**– institui o Programa de Acesso e Permanência a <br><br>Estudantes Imigrantes (PRÓ-IMIGRANTE), no âmbito da Universidade Federal da Fronteira <br><br>Sul. ', '\\n\\ncurriculares de sua área específica de formação, integrados aos componentes dos demais <br><br>domínios formativos, de modo a materializar a intersecção entre esses três domínios. Com <br><br>1005  isso, estima-se que o perfil acadêmico estará efetivamente contemplando, na formação dos <br><br>discentes, as habilidades de trabalho integrado entre a área específica de formação e as demais <br><br>áreas enquanto campo profissional, além de promover a formação interdisciplinar com <br><br>solidez, uma vez que a interdisciplinaridade potencializa a área específica de formação.  \\n\\n']\n",
            "\n",
            "======================================================================\n",
            "\n",
            "Overall Metric Pass Rates\n",
            "\n",
            "Correctness (GEval): 100.00% pass rate\n",
            "\n",
            "======================================================================\n",
            "\n"
          ]
        },
        {
          "output_type": "stream",
          "name": "stderr",
          "text": [
            "\n"
          ]
        },
        {
          "output_type": "display_data",
          "data": {
            "text/plain": [
              "\u001b[38;2;5;245;141m✓\u001b[0m Tests finished 🎉! Run \u001b[32m'deepeval login'\u001b[0m to save and analyze evaluation results on Confident AI. \n",
              "‼️  Friendly reminder 😇: You can also run evaluations with ALL of deepeval's metrics directly on Confident AI \n",
              "instead.\n"
            ],
            "text/html": [
              "<pre style=\"white-space:pre;overflow-x:auto;line-height:normal;font-family:Menlo,'DejaVu Sans Mono',consolas,'Courier New',monospace\"><span style=\"color: #05f58d; text-decoration-color: #05f58d\">✓</span> Tests finished 🎉! Run <span style=\"color: #008000; text-decoration-color: #008000\">'deepeval login'</span> to save and analyze evaluation results on Confident AI. \n",
              "‼️  Friendly reminder 😇: You can also run evaluations with ALL of deepeval's metrics directly on Confident AI \n",
              "instead.\n",
              "</pre>\n"
            ]
          },
          "metadata": {}
        },
        {
          "output_type": "display_data",
          "data": {
            "text/plain": [
              "✨ You're running DeepEval's latest \u001b[38;2;106;0;255mAnswer Relevancy Metric\u001b[0m! \u001b[1;38;2;55;65;81m(\u001b[0m\u001b[38;2;55;65;81musing mistral-large-latest, \u001b[0m\u001b[38;2;55;65;81mstrict\u001b[0m\u001b[38;2;55;65;81m=\u001b[0m\u001b[3;38;2;55;65;81mFalse\u001b[0m\u001b[38;2;55;65;81m, \u001b[0m\n",
              "\u001b[38;2;55;65;81masync_mode\u001b[0m\u001b[38;2;55;65;81m=\u001b[0m\u001b[3;38;2;55;65;81mTrue\u001b[0m\u001b[1;38;2;55;65;81m)\u001b[0m\u001b[38;2;55;65;81m...\u001b[0m\n"
            ],
            "text/html": [
              "<pre style=\"white-space:pre;overflow-x:auto;line-height:normal;font-family:Menlo,'DejaVu Sans Mono',consolas,'Courier New',monospace\">✨ You're running DeepEval's latest <span style=\"color: #6a00ff; text-decoration-color: #6a00ff\">Answer Relevancy Metric</span>! <span style=\"color: #374151; text-decoration-color: #374151; font-weight: bold\">(</span><span style=\"color: #374151; text-decoration-color: #374151\">using mistral-large-latest, </span><span style=\"color: #374151; text-decoration-color: #374151\">strict</span><span style=\"color: #374151; text-decoration-color: #374151\">=</span><span style=\"color: #374151; text-decoration-color: #374151; font-style: italic\">False</span><span style=\"color: #374151; text-decoration-color: #374151\">, </span>\n",
              "<span style=\"color: #374151; text-decoration-color: #374151\">async_mode</span><span style=\"color: #374151; text-decoration-color: #374151\">=</span><span style=\"color: #374151; text-decoration-color: #374151; font-style: italic\">True</span><span style=\"color: #374151; text-decoration-color: #374151; font-weight: bold\">)</span><span style=\"color: #374151; text-decoration-color: #374151\">...</span>\n",
              "</pre>\n"
            ]
          },
          "metadata": {}
        },
        {
          "output_type": "stream",
          "name": "stdout",
          "text": [
            "Event loop is already running. Applying nest_asyncio patch to allow async execution...\n"
          ]
        },
        {
          "output_type": "stream",
          "name": "stderr",
          "text": [
            "Evaluating 1 test case(s) in parallel: |██████████|100% (1/1) [Time Taken: 00:11, 11.03s/test case]"
          ]
        },
        {
          "output_type": "stream",
          "name": "stdout",
          "text": [
            "\n",
            "======================================================================\n",
            "\n",
            "Metrics Summary\n",
            "\n",
            "  - ✅ Answer Relevancy (score: 1.0, threshold: 0.5, strict: False, evaluation model: mistral-large-latest, reason: The score is 1.00 because the response perfectly addresses the question about transfer opportunities in the course., error: None)\n",
            "\n",
            "For test case:\n",
            "\n",
            "  - input: O curso oferece vagas para transferência externa ou interna?\n",
            "  - actual output: Sim, o curso oferece vagas para transferência externa e interna.\n",
            "\n",
            "A transferência interna ocorre mediante a troca de turno, de curso ou de campus no âmbito da UFFS, sendo vedada a transferência interna no semestre de ingresso ou de retorno para a UFFS.\n",
            "\n",
            "A transferência externa é a concessão de vaga a discente regularmente matriculado em outra instituição de ensino superior, nacional ou estrangeira, para prosseguimento de seus estudos na UFFS.\n",
            "\n",
            "O acesso aos cursos de graduação da UFFS, tanto no que diz respeito ao preenchimento das vagas de oferta regular, como das ofertas de caráter especial e das eventuais vagas ociosas, se dá por meio de diferentes formas de ingresso, incluindo transferência interna e transferência externa.\n",
            "  - expected output: Sim, o curso oferece vagas para transferência externa e interna. A transferência externa é a concessão de vaga a um estudante regularmente matriculado em outra instituição de ensino superior, enquanto a transferência interna ocorre mediante a troca de turno, de curso ou de campus no âmbito da UFFS. No entanto, é vedada a transferência interna no semestre de ingresso ou de retorno para a UFFS.\n",
            "  - context: None\n",
            "  - retrieval context: ['\\n\\n**b) Transferência Interna, Retorno de Aluno-Abandono, Transferência Externa, Retorno**<br><br>**de Graduado, Transferência coercitiva ou*ex officio***<br><br>195  \\uf0b7 Transferência interna   : acontece mediante a troca de turno, de curso ou de*campus*<br><br>no âmbito da UFFS, sendo vedada a transferência interna no semestre de ingresso <br><br>ou de retorno para a UFFS; <br><br>\\uf0b7 Retorno de Aluno-Abandono da UFFS   : reingresso de quem já esteve regularmente <br><br>matriculado e rompeu seu vínculo com a instituição, por haver desistido ou <br><br>200  abandonado o curso; <br><br>\\uf0b7 Transferência externa   : concessão de vaga a discente regularmente matriculado em <br><br>outra instituição de ensino superior, nacional ou estrangeira, para prosseguimento <br><br>de seus estudos na UFFS; <br><br>\\uf0b7 Retorno de graduado   : concessão de vaga, na UFFS, para graduado da UFFS ou de <br><br>205  outra instituição de ensino superior que pretenda fazer novo curso. Para esta  \\n\\n165  **1.12 Carga horária máxima por semestre letivo:**32 (vespertino e noturno) <br><br>**1.13 Carga horária mínima por semestre letivo:**4 (vespertino e noturno) <br><br>**1.14 Coordenador do curso:**Guilherme Dal Bianco <br><br>**1.15 Ato Autorizativo:**Portaria Nº 729 de 19 de dezembro de 2013 (Diário Oficial da União, <br><br>Nº 247, 20 de dezembro de 2013, Seção 1, Página 25). <br><br>170  **1.16 Forma de ingresso:**<br><br>O acesso aos cursos de graduação da UFFS, tanto no que diz respeito ao <br><br>preenchimento das vagas de oferta regular, como das ofertas de caráter especial e das <br><br>eventuais vagas ociosas, se dá por meio de diferentes formas de ingresso: processo seletivo <br><br>regular; transferência interna; retorno de aluno-abandono; transferência externa; retorno de <br><br>175  graduado; transferência coercitiva ou*ex officio*; processos seletivos especiais e processos ', '\\n\\n**Portaria nº 2.117, de 6 de dezembro de 2019**- Dispõe sobre a oferta de carga horária na <br><br>modalidade de Ensino a Distância - EaD em cursos de graduação presenciais ofertados por <br><br>Instituições de Educação Superior – IES pertencentes ao Sistema Federal de Ensino.  \\n\\n**Resolução nº 16/2019 - CONSUNI**– institui o Programa de Acesso e Permanência a <br><br>Estudantes Imigrantes (PRÓ-IMIGRANTE), no âmbito da Universidade Federal da Fronteira <br><br>Sul. ', '\\n\\ncurriculares de sua área específica de formação, integrados aos componentes dos demais <br><br>domínios formativos, de modo a materializar a intersecção entre esses três domínios. Com <br><br>1005  isso, estima-se que o perfil acadêmico estará efetivamente contemplando, na formação dos <br><br>discentes, as habilidades de trabalho integrado entre a área específica de formação e as demais <br><br>áreas enquanto campo profissional, além de promover a formação interdisciplinar com <br><br>solidez, uma vez que a interdisciplinaridade potencializa a área específica de formação.  \\n\\n']\n",
            "\n",
            "======================================================================\n",
            "\n",
            "Overall Metric Pass Rates\n",
            "\n",
            "Answer Relevancy: 100.00% pass rate\n",
            "\n",
            "======================================================================\n",
            "\n"
          ]
        },
        {
          "output_type": "stream",
          "name": "stderr",
          "text": [
            "\n"
          ]
        },
        {
          "output_type": "display_data",
          "data": {
            "text/plain": [
              "\u001b[38;2;5;245;141m✓\u001b[0m Tests finished 🎉! Run \u001b[32m'deepeval login'\u001b[0m to save and analyze evaluation results on Confident AI. \n",
              "‼️  Friendly reminder 😇: You can also run evaluations with ALL of deepeval's metrics directly on Confident AI \n",
              "instead.\n"
            ],
            "text/html": [
              "<pre style=\"white-space:pre;overflow-x:auto;line-height:normal;font-family:Menlo,'DejaVu Sans Mono',consolas,'Courier New',monospace\"><span style=\"color: #05f58d; text-decoration-color: #05f58d\">✓</span> Tests finished 🎉! Run <span style=\"color: #008000; text-decoration-color: #008000\">'deepeval login'</span> to save and analyze evaluation results on Confident AI. \n",
              "‼️  Friendly reminder 😇: You can also run evaluations with ALL of deepeval's metrics directly on Confident AI \n",
              "instead.\n",
              "</pre>\n"
            ]
          },
          "metadata": {}
        },
        {
          "output_type": "display_data",
          "data": {
            "text/plain": [
              "✨ You're running DeepEval's latest \u001b[38;2;106;0;255mContextual Recall Metric\u001b[0m! \u001b[1;38;2;55;65;81m(\u001b[0m\u001b[38;2;55;65;81musing llama-\u001b[0m\u001b[1;38;2;55;65;81m3.1\u001b[0m\u001b[38;2;55;65;81m-70b-versatile, \u001b[0m\u001b[38;2;55;65;81mstrict\u001b[0m\u001b[38;2;55;65;81m=\u001b[0m\u001b[3;38;2;55;65;81mFalse\u001b[0m\u001b[38;2;55;65;81m, \u001b[0m\n",
              "\u001b[38;2;55;65;81masync_mode\u001b[0m\u001b[38;2;55;65;81m=\u001b[0m\u001b[3;38;2;55;65;81mTrue\u001b[0m\u001b[1;38;2;55;65;81m)\u001b[0m\u001b[38;2;55;65;81m...\u001b[0m\n"
            ],
            "text/html": [
              "<pre style=\"white-space:pre;overflow-x:auto;line-height:normal;font-family:Menlo,'DejaVu Sans Mono',consolas,'Courier New',monospace\">✨ You're running DeepEval's latest <span style=\"color: #6a00ff; text-decoration-color: #6a00ff\">Contextual Recall Metric</span>! <span style=\"color: #374151; text-decoration-color: #374151; font-weight: bold\">(</span><span style=\"color: #374151; text-decoration-color: #374151\">using llama-</span><span style=\"color: #374151; text-decoration-color: #374151; font-weight: bold\">3.1</span><span style=\"color: #374151; text-decoration-color: #374151\">-70b-versatile, </span><span style=\"color: #374151; text-decoration-color: #374151\">strict</span><span style=\"color: #374151; text-decoration-color: #374151\">=</span><span style=\"color: #374151; text-decoration-color: #374151; font-style: italic\">False</span><span style=\"color: #374151; text-decoration-color: #374151\">, </span>\n",
              "<span style=\"color: #374151; text-decoration-color: #374151\">async_mode</span><span style=\"color: #374151; text-decoration-color: #374151\">=</span><span style=\"color: #374151; text-decoration-color: #374151; font-style: italic\">True</span><span style=\"color: #374151; text-decoration-color: #374151; font-weight: bold\">)</span><span style=\"color: #374151; text-decoration-color: #374151\">...</span>\n",
              "</pre>\n"
            ]
          },
          "metadata": {}
        },
        {
          "output_type": "stream",
          "name": "stdout",
          "text": [
            "Event loop is already running. Applying nest_asyncio patch to allow async execution...\n"
          ]
        },
        {
          "output_type": "stream",
          "name": "stderr",
          "text": [
            "Evaluating 1 test case(s) in parallel: |██████████|100% (1/1) [Time Taken: 00:02,  2.39s/test case]"
          ]
        },
        {
          "output_type": "stream",
          "name": "stdout",
          "text": [
            "\n",
            "======================================================================\n",
            "\n",
            "Metrics Summary\n",
            "\n",
            "  - ✅ Contextual Recall (score: 1.0, threshold: 0.25, strict: False, evaluation model: llama-3.1-70b-versatile, reason: None, error: None)\n",
            "\n",
            "For test case:\n",
            "\n",
            "  - input: O curso oferece vagas para transferência externa ou interna?\n",
            "  - actual output: Sim, o curso oferece vagas para transferência externa e interna.\n",
            "\n",
            "A transferência interna ocorre mediante a troca de turno, de curso ou de campus no âmbito da UFFS, sendo vedada a transferência interna no semestre de ingresso ou de retorno para a UFFS.\n",
            "\n",
            "A transferência externa é a concessão de vaga a discente regularmente matriculado em outra instituição de ensino superior, nacional ou estrangeira, para prosseguimento de seus estudos na UFFS.\n",
            "\n",
            "O acesso aos cursos de graduação da UFFS, tanto no que diz respeito ao preenchimento das vagas de oferta regular, como das ofertas de caráter especial e das eventuais vagas ociosas, se dá por meio de diferentes formas de ingresso, incluindo transferência interna e transferência externa.\n",
            "  - expected output: Sim, o curso oferece vagas para transferência externa e interna. A transferência externa é a concessão de vaga a um estudante regularmente matriculado em outra instituição de ensino superior, enquanto a transferência interna ocorre mediante a troca de turno, de curso ou de campus no âmbito da UFFS. No entanto, é vedada a transferência interna no semestre de ingresso ou de retorno para a UFFS.\n",
            "  - context: None\n",
            "  - retrieval context: ['\\n\\n**b) Transferência Interna, Retorno de Aluno-Abandono, Transferência Externa, Retorno**<br><br>**de Graduado, Transferência coercitiva ou*ex officio***<br><br>195  \\uf0b7 Transferência interna   : acontece mediante a troca de turno, de curso ou de*campus*<br><br>no âmbito da UFFS, sendo vedada a transferência interna no semestre de ingresso <br><br>ou de retorno para a UFFS; <br><br>\\uf0b7 Retorno de Aluno-Abandono da UFFS   : reingresso de quem já esteve regularmente <br><br>matriculado e rompeu seu vínculo com a instituição, por haver desistido ou <br><br>200  abandonado o curso; <br><br>\\uf0b7 Transferência externa   : concessão de vaga a discente regularmente matriculado em <br><br>outra instituição de ensino superior, nacional ou estrangeira, para prosseguimento <br><br>de seus estudos na UFFS; <br><br>\\uf0b7 Retorno de graduado   : concessão de vaga, na UFFS, para graduado da UFFS ou de <br><br>205  outra instituição de ensino superior que pretenda fazer novo curso. Para esta  \\n\\n165  **1.12 Carga horária máxima por semestre letivo:**32 (vespertino e noturno) <br><br>**1.13 Carga horária mínima por semestre letivo:**4 (vespertino e noturno) <br><br>**1.14 Coordenador do curso:**Guilherme Dal Bianco <br><br>**1.15 Ato Autorizativo:**Portaria Nº 729 de 19 de dezembro de 2013 (Diário Oficial da União, <br><br>Nº 247, 20 de dezembro de 2013, Seção 1, Página 25). <br><br>170  **1.16 Forma de ingresso:**<br><br>O acesso aos cursos de graduação da UFFS, tanto no que diz respeito ao <br><br>preenchimento das vagas de oferta regular, como das ofertas de caráter especial e das <br><br>eventuais vagas ociosas, se dá por meio de diferentes formas de ingresso: processo seletivo <br><br>regular; transferência interna; retorno de aluno-abandono; transferência externa; retorno de <br><br>175  graduado; transferência coercitiva ou*ex officio*; processos seletivos especiais e processos ', '\\n\\n**Portaria nº 2.117, de 6 de dezembro de 2019**- Dispõe sobre a oferta de carga horária na <br><br>modalidade de Ensino a Distância - EaD em cursos de graduação presenciais ofertados por <br><br>Instituições de Educação Superior – IES pertencentes ao Sistema Federal de Ensino.  \\n\\n**Resolução nº 16/2019 - CONSUNI**– institui o Programa de Acesso e Permanência a <br><br>Estudantes Imigrantes (PRÓ-IMIGRANTE), no âmbito da Universidade Federal da Fronteira <br><br>Sul. ', '\\n\\ncurriculares de sua área específica de formação, integrados aos componentes dos demais <br><br>domínios formativos, de modo a materializar a intersecção entre esses três domínios. Com <br><br>1005  isso, estima-se que o perfil acadêmico estará efetivamente contemplando, na formação dos <br><br>discentes, as habilidades de trabalho integrado entre a área específica de formação e as demais <br><br>áreas enquanto campo profissional, além de promover a formação interdisciplinar com <br><br>solidez, uma vez que a interdisciplinaridade potencializa a área específica de formação.  \\n\\n']\n",
            "\n",
            "======================================================================\n",
            "\n",
            "Overall Metric Pass Rates\n",
            "\n",
            "Contextual Recall: 100.00% pass rate\n",
            "\n",
            "======================================================================\n",
            "\n"
          ]
        },
        {
          "output_type": "stream",
          "name": "stderr",
          "text": [
            "\n"
          ]
        },
        {
          "output_type": "display_data",
          "data": {
            "text/plain": [
              "\u001b[38;2;5;245;141m✓\u001b[0m Tests finished 🎉! Run \u001b[32m'deepeval login'\u001b[0m to save and analyze evaluation results on Confident AI. \n",
              "‼️  Friendly reminder 😇: You can also run evaluations with ALL of deepeval's metrics directly on Confident AI \n",
              "instead.\n"
            ],
            "text/html": [
              "<pre style=\"white-space:pre;overflow-x:auto;line-height:normal;font-family:Menlo,'DejaVu Sans Mono',consolas,'Courier New',monospace\"><span style=\"color: #05f58d; text-decoration-color: #05f58d\">✓</span> Tests finished 🎉! Run <span style=\"color: #008000; text-decoration-color: #008000\">'deepeval login'</span> to save and analyze evaluation results on Confident AI. \n",
              "‼️  Friendly reminder 😇: You can also run evaluations with ALL of deepeval's metrics directly on Confident AI \n",
              "instead.\n",
              "</pre>\n"
            ]
          },
          "metadata": {}
        },
        {
          "output_type": "display_data",
          "data": {
            "text/plain": [
              "✨ You're running DeepEval's latest \u001b[38;2;106;0;255mFaithfulness Metric\u001b[0m! \u001b[1;38;2;55;65;81m(\u001b[0m\u001b[38;2;55;65;81musing mistral-large-latest, \u001b[0m\u001b[38;2;55;65;81mstrict\u001b[0m\u001b[38;2;55;65;81m=\u001b[0m\u001b[3;38;2;55;65;81mFalse\u001b[0m\u001b[38;2;55;65;81m, \u001b[0m\n",
              "\u001b[38;2;55;65;81masync_mode\u001b[0m\u001b[38;2;55;65;81m=\u001b[0m\u001b[3;38;2;55;65;81mTrue\u001b[0m\u001b[1;38;2;55;65;81m)\u001b[0m\u001b[38;2;55;65;81m...\u001b[0m\n"
            ],
            "text/html": [
              "<pre style=\"white-space:pre;overflow-x:auto;line-height:normal;font-family:Menlo,'DejaVu Sans Mono',consolas,'Courier New',monospace\">✨ You're running DeepEval's latest <span style=\"color: #6a00ff; text-decoration-color: #6a00ff\">Faithfulness Metric</span>! <span style=\"color: #374151; text-decoration-color: #374151; font-weight: bold\">(</span><span style=\"color: #374151; text-decoration-color: #374151\">using mistral-large-latest, </span><span style=\"color: #374151; text-decoration-color: #374151\">strict</span><span style=\"color: #374151; text-decoration-color: #374151\">=</span><span style=\"color: #374151; text-decoration-color: #374151; font-style: italic\">False</span><span style=\"color: #374151; text-decoration-color: #374151\">, </span>\n",
              "<span style=\"color: #374151; text-decoration-color: #374151\">async_mode</span><span style=\"color: #374151; text-decoration-color: #374151\">=</span><span style=\"color: #374151; text-decoration-color: #374151; font-style: italic\">True</span><span style=\"color: #374151; text-decoration-color: #374151; font-weight: bold\">)</span><span style=\"color: #374151; text-decoration-color: #374151\">...</span>\n",
              "</pre>\n"
            ]
          },
          "metadata": {}
        },
        {
          "output_type": "stream",
          "name": "stdout",
          "text": [
            "Event loop is already running. Applying nest_asyncio patch to allow async execution...\n"
          ]
        },
        {
          "output_type": "stream",
          "name": "stderr",
          "text": [
            "\rEvaluating 1 test case(s) in parallel: |          |  0% (0/1) [Time Taken: 00:00, ?test case/s]"
          ]
        },
        {
          "output_type": "stream",
          "name": "stdout",
          "text": [
            "3\n"
          ]
        },
        {
          "output_type": "stream",
          "name": "stderr",
          "text": [
            "Evaluating 1 test case(s) in parallel: |██████████|100% (1/1) [Time Taken: 00:15, 15.32s/test case]"
          ]
        },
        {
          "output_type": "stream",
          "name": "stdout",
          "text": [
            "\n",
            "======================================================================\n",
            "\n",
            "Metrics Summary\n",
            "\n",
            "  - ✅ Faithfulness (score: 1.0, threshold: 0.5, strict: False, evaluation model: mistral-large-latest, reason: The score is 1.00 because there are no contradictions! Great job!, error: None)\n",
            "\n",
            "For test case:\n",
            "\n",
            "  - input: O curso oferece vagas para transferência externa ou interna?\n",
            "  - actual output: Sim, o curso oferece vagas para transferência externa e interna.\n",
            "\n",
            "A transferência interna ocorre mediante a troca de turno, de curso ou de campus no âmbito da UFFS, sendo vedada a transferência interna no semestre de ingresso ou de retorno para a UFFS.\n",
            "\n",
            "A transferência externa é a concessão de vaga a discente regularmente matriculado em outra instituição de ensino superior, nacional ou estrangeira, para prosseguimento de seus estudos na UFFS.\n",
            "\n",
            "O acesso aos cursos de graduação da UFFS, tanto no que diz respeito ao preenchimento das vagas de oferta regular, como das ofertas de caráter especial e das eventuais vagas ociosas, se dá por meio de diferentes formas de ingresso, incluindo transferência interna e transferência externa.\n",
            "  - expected output: Sim, o curso oferece vagas para transferência externa e interna. A transferência externa é a concessão de vaga a um estudante regularmente matriculado em outra instituição de ensino superior, enquanto a transferência interna ocorre mediante a troca de turno, de curso ou de campus no âmbito da UFFS. No entanto, é vedada a transferência interna no semestre de ingresso ou de retorno para a UFFS.\n",
            "  - context: None\n",
            "  - retrieval context: ['\\n\\n**b) Transferência Interna, Retorno de Aluno-Abandono, Transferência Externa, Retorno**<br><br>**de Graduado, Transferência coercitiva ou*ex officio***<br><br>195  \\uf0b7 Transferência interna   : acontece mediante a troca de turno, de curso ou de*campus*<br><br>no âmbito da UFFS, sendo vedada a transferência interna no semestre de ingresso <br><br>ou de retorno para a UFFS; <br><br>\\uf0b7 Retorno de Aluno-Abandono da UFFS   : reingresso de quem já esteve regularmente <br><br>matriculado e rompeu seu vínculo com a instituição, por haver desistido ou <br><br>200  abandonado o curso; <br><br>\\uf0b7 Transferência externa   : concessão de vaga a discente regularmente matriculado em <br><br>outra instituição de ensino superior, nacional ou estrangeira, para prosseguimento <br><br>de seus estudos na UFFS; <br><br>\\uf0b7 Retorno de graduado   : concessão de vaga, na UFFS, para graduado da UFFS ou de <br><br>205  outra instituição de ensino superior que pretenda fazer novo curso. Para esta  \\n\\n165  **1.12 Carga horária máxima por semestre letivo:**32 (vespertino e noturno) <br><br>**1.13 Carga horária mínima por semestre letivo:**4 (vespertino e noturno) <br><br>**1.14 Coordenador do curso:**Guilherme Dal Bianco <br><br>**1.15 Ato Autorizativo:**Portaria Nº 729 de 19 de dezembro de 2013 (Diário Oficial da União, <br><br>Nº 247, 20 de dezembro de 2013, Seção 1, Página 25). <br><br>170  **1.16 Forma de ingresso:**<br><br>O acesso aos cursos de graduação da UFFS, tanto no que diz respeito ao <br><br>preenchimento das vagas de oferta regular, como das ofertas de caráter especial e das <br><br>eventuais vagas ociosas, se dá por meio de diferentes formas de ingresso: processo seletivo <br><br>regular; transferência interna; retorno de aluno-abandono; transferência externa; retorno de <br><br>175  graduado; transferência coercitiva ou*ex officio*; processos seletivos especiais e processos ', '\\n\\n**Portaria nº 2.117, de 6 de dezembro de 2019**- Dispõe sobre a oferta de carga horária na <br><br>modalidade de Ensino a Distância - EaD em cursos de graduação presenciais ofertados por <br><br>Instituições de Educação Superior – IES pertencentes ao Sistema Federal de Ensino.  \\n\\n**Resolução nº 16/2019 - CONSUNI**– institui o Programa de Acesso e Permanência a <br><br>Estudantes Imigrantes (PRÓ-IMIGRANTE), no âmbito da Universidade Federal da Fronteira <br><br>Sul. ', '\\n\\ncurriculares de sua área específica de formação, integrados aos componentes dos demais <br><br>domínios formativos, de modo a materializar a intersecção entre esses três domínios. Com <br><br>1005  isso, estima-se que o perfil acadêmico estará efetivamente contemplando, na formação dos <br><br>discentes, as habilidades de trabalho integrado entre a área específica de formação e as demais <br><br>áreas enquanto campo profissional, além de promover a formação interdisciplinar com <br><br>solidez, uma vez que a interdisciplinaridade potencializa a área específica de formação.  \\n\\n']\n",
            "\n",
            "======================================================================\n",
            "\n",
            "Overall Metric Pass Rates\n",
            "\n",
            "Faithfulness: 100.00% pass rate\n",
            "\n",
            "======================================================================\n",
            "\n"
          ]
        },
        {
          "output_type": "stream",
          "name": "stderr",
          "text": [
            "\n"
          ]
        },
        {
          "output_type": "display_data",
          "data": {
            "text/plain": [
              "\u001b[38;2;5;245;141m✓\u001b[0m Tests finished 🎉! Run \u001b[32m'deepeval login'\u001b[0m to save and analyze evaluation results on Confident AI. \n",
              "‼️  Friendly reminder 😇: You can also run evaluations with ALL of deepeval's metrics directly on Confident AI \n",
              "instead.\n"
            ],
            "text/html": [
              "<pre style=\"white-space:pre;overflow-x:auto;line-height:normal;font-family:Menlo,'DejaVu Sans Mono',consolas,'Courier New',monospace\"><span style=\"color: #05f58d; text-decoration-color: #05f58d\">✓</span> Tests finished 🎉! Run <span style=\"color: #008000; text-decoration-color: #008000\">'deepeval login'</span> to save and analyze evaluation results on Confident AI. \n",
              "‼️  Friendly reminder 😇: You can also run evaluations with ALL of deepeval's metrics directly on Confident AI \n",
              "instead.\n",
              "</pre>\n"
            ]
          },
          "metadata": {}
        },
        {
          "output_type": "stream",
          "name": "stdout",
          "text": [
            "File saved to: /content/drive/MyDrive/tcc/resultados/validados/deepeval/mistral-large-latest_unit_/mistral-large-latest_unit_f85d1f_ADVANCED_19_10_2024_23-29-34.json\n"
          ]
        }
      ],
      "source": [
        "list_of_files = evaluation_pipeline(mixtral, mixtral, (1,1), 'ADVANCED*')"
      ]
    },
    {
      "cell_type": "code",
      "source": [
        "list_of_files"
      ],
      "metadata": {
        "colab": {
          "base_uri": "https://localhost:8080/"
        },
        "id": "TAOmAGXQo5JO",
        "outputId": "f6862273-a30f-4d9a-9260-52b8a7ec0ceb"
      },
      "execution_count": null,
      "outputs": [
        {
          "output_type": "execute_result",
          "data": {
            "text/plain": [
              "['/content/drive/MyDrive/tcc/resultados/validados/deepeval/mistral-large-latest_unit_/mistral-large-latest_unit_f85d1f_ADVANCED_19_10_2024_23-29-34.json']"
            ]
          },
          "metadata": {},
          "execution_count": 21
        }
      ]
    },
    {
      "cell_type": "code",
      "source": [
        "old_files_no_prefix = ['mistral-large-latest_unit_6135f2_ADVANCED_19_10_2024_23-29-34.json', 'mistral-large-latest_unit_fbfbef_ADVANCED_19_10_2024_23-29-34.json', 'mistral-large-latest_unit_b672a3_ADVANCED_19_10_2024_23-29-34.json',\n",
        "             'mistral-large-latest_unit_308f1e_ADVANCED_19_10_2024_23-29-34.json', 'mistral-large-latest_unit_ceae35_ADVANCED_19_10_2024_23-29-34.json', 'mistral-large-latest_unit_7e8159_ADVANCED_19_10_2024_23-29-34.json',\n",
        "             'mistral-large-latest_unit_2b4bba_ADVANCED_19_10_2024_23-29-34.json', 'mistral-large-latest_unit_184839_ADVANCED_19_10_2024_23-29-34.json', 'mistral-large-latest_unit_1750e9_ADVANCED_19_10_2024_23-29-34.json'\n",
        "             ]\n",
        "old_files = [f'/content/drive/MyDrive/tcc/resultados/validados/deepeval/mistral-large-latest_unit_/{file}' for file in old_files_no_prefix]\n",
        "old_files"
      ],
      "metadata": {
        "colab": {
          "base_uri": "https://localhost:8080/"
        },
        "id": "Ly9HqO42pAGX",
        "outputId": "00b2a93c-f007-4b83-903c-9fdd5055f875"
      },
      "execution_count": null,
      "outputs": [
        {
          "output_type": "execute_result",
          "data": {
            "text/plain": [
              "['/content/drive/MyDrive/tcc/resultados/validados/deepeval/mistral-large-latest_unit_/mistral-large-latest_unit_6135f2_ADVANCED_19_10_2024_23-29-34.json',\n",
              " '/content/drive/MyDrive/tcc/resultados/validados/deepeval/mistral-large-latest_unit_/mistral-large-latest_unit_fbfbef_ADVANCED_19_10_2024_23-29-34.json',\n",
              " '/content/drive/MyDrive/tcc/resultados/validados/deepeval/mistral-large-latest_unit_/mistral-large-latest_unit_b672a3_ADVANCED_19_10_2024_23-29-34.json',\n",
              " '/content/drive/MyDrive/tcc/resultados/validados/deepeval/mistral-large-latest_unit_/mistral-large-latest_unit_308f1e_ADVANCED_19_10_2024_23-29-34.json',\n",
              " '/content/drive/MyDrive/tcc/resultados/validados/deepeval/mistral-large-latest_unit_/mistral-large-latest_unit_ceae35_ADVANCED_19_10_2024_23-29-34.json',\n",
              " '/content/drive/MyDrive/tcc/resultados/validados/deepeval/mistral-large-latest_unit_/mistral-large-latest_unit_7e8159_ADVANCED_19_10_2024_23-29-34.json',\n",
              " '/content/drive/MyDrive/tcc/resultados/validados/deepeval/mistral-large-latest_unit_/mistral-large-latest_unit_2b4bba_ADVANCED_19_10_2024_23-29-34.json',\n",
              " '/content/drive/MyDrive/tcc/resultados/validados/deepeval/mistral-large-latest_unit_/mistral-large-latest_unit_184839_ADVANCED_19_10_2024_23-29-34.json',\n",
              " '/content/drive/MyDrive/tcc/resultados/validados/deepeval/mistral-large-latest_unit_/mistral-large-latest_unit_1750e9_ADVANCED_19_10_2024_23-29-34.json']"
            ]
          },
          "metadata": {},
          "execution_count": 26
        }
      ]
    },
    {
      "cell_type": "code",
      "source": [
        "all_files = list_of_files + old_files"
      ],
      "metadata": {
        "id": "nD6xe5Ovo8wX"
      },
      "execution_count": null,
      "outputs": []
    },
    {
      "cell_type": "code",
      "source": [
        "combine_and_save_files(all_files ,get_latest_file('data/', 'ADVANCED*'))"
      ],
      "metadata": {
        "colab": {
          "base_uri": "https://localhost:8080/"
        },
        "id": "eAKp7ShNbsbi",
        "outputId": "4ab8cdf3-57ca-4094-fcba-ca528143c367"
      },
      "execution_count": null,
      "outputs": [
        {
          "output_type": "stream",
          "name": "stdout",
          "text": [
            "File saved to: /content/drive/MyDrive/tcc/resultados/validados/deepeval/mistral-large-latest_/mistral-large-latest_fd4aeb_ADVANCED_19_10_2024_23-29-34.json\n"
          ]
        }
      ]
    },
    {
      "cell_type": "code",
      "source": [
        "import pandas as pd\n",
        "\n",
        "d = pd.read_json('/content/drive/MyDrive/tcc/resultados/validados/deepeval/mistral-large-latest_unit_/mistral-large-latest_unit_24b4d1_ADVANCED_19_10_2024_23-29-34.json')\n",
        "d.head()"
      ],
      "metadata": {
        "colab": {
          "base_uri": "https://localhost:8080/",
          "height": 147
        },
        "id": "T0lQ1JeocnF7",
        "outputId": "b0fb03e9-46a5-4593-df92-141f41f70e89"
      },
      "execution_count": null,
      "outputs": [
        {
          "output_type": "execute_result",
          "data": {
            "text/plain": [
              "                                   input  success  \\\n",
              "0   Qual é a ementa de Cálculo Numérico?     True   \n",
              "1  Qual é a ementa de Sistemas Digitais?     True   \n",
              "\n",
              "                                       actual_output  \\\n",
              "0  A ementa de Cálculo Numérico é:\\n\\nErros compu...   \n",
              "1  A ementa de Sistemas Digitais, conforme o PPC,...   \n",
              "\n",
              "                                     expected_output  context  \\\n",
              "0  Erros computacionais e aproximação numérica. C...      NaN   \n",
              "1  Dispositivos Lógicos Programáveis. Introdução ...      NaN   \n",
              "\n",
              "                                   retrieval_context  \\\n",
              "0  [\\n\\n| Código | COMPONENTE CURRICULAR | Crédit...   \n",
              "1  [\\n\\n| Código | COMPONENTE CURRICULAR | Crédit...   \n",
              "\n",
              "                                 additional_metadata  \\\n",
              "0  {'PromptTokens': 3596, 'CompletionTokens': 114...   \n",
              "1  {'PromptTokens': 3322, 'CompletionTokens': 159...   \n",
              "\n",
              "                                             metrics  \n",
              "0  [{'name': 'Correctness (GEval)', 'threshold': ...  \n",
              "1  [{'name': 'Correctness (GEval)', 'threshold': ...  "
            ],
            "text/html": [
              "\n",
              "  <div id=\"df-03f5dffc-eb77-4f12-8230-917b0f32ea6f\" class=\"colab-df-container\">\n",
              "    <div>\n",
              "<style scoped>\n",
              "    .dataframe tbody tr th:only-of-type {\n",
              "        vertical-align: middle;\n",
              "    }\n",
              "\n",
              "    .dataframe tbody tr th {\n",
              "        vertical-align: top;\n",
              "    }\n",
              "\n",
              "    .dataframe thead th {\n",
              "        text-align: right;\n",
              "    }\n",
              "</style>\n",
              "<table border=\"1\" class=\"dataframe\">\n",
              "  <thead>\n",
              "    <tr style=\"text-align: right;\">\n",
              "      <th></th>\n",
              "      <th>input</th>\n",
              "      <th>success</th>\n",
              "      <th>actual_output</th>\n",
              "      <th>expected_output</th>\n",
              "      <th>context</th>\n",
              "      <th>retrieval_context</th>\n",
              "      <th>additional_metadata</th>\n",
              "      <th>metrics</th>\n",
              "    </tr>\n",
              "  </thead>\n",
              "  <tbody>\n",
              "    <tr>\n",
              "      <th>0</th>\n",
              "      <td>Qual é a ementa de Cálculo Numérico?</td>\n",
              "      <td>True</td>\n",
              "      <td>A ementa de Cálculo Numérico é:\\n\\nErros compu...</td>\n",
              "      <td>Erros computacionais e aproximação numérica. C...</td>\n",
              "      <td>NaN</td>\n",
              "      <td>[\\n\\n| Código | COMPONENTE CURRICULAR | Crédit...</td>\n",
              "      <td>{'PromptTokens': 3596, 'CompletionTokens': 114...</td>\n",
              "      <td>[{'name': 'Correctness (GEval)', 'threshold': ...</td>\n",
              "    </tr>\n",
              "    <tr>\n",
              "      <th>1</th>\n",
              "      <td>Qual é a ementa de Sistemas Digitais?</td>\n",
              "      <td>True</td>\n",
              "      <td>A ementa de Sistemas Digitais, conforme o PPC,...</td>\n",
              "      <td>Dispositivos Lógicos Programáveis. Introdução ...</td>\n",
              "      <td>NaN</td>\n",
              "      <td>[\\n\\n| Código | COMPONENTE CURRICULAR | Crédit...</td>\n",
              "      <td>{'PromptTokens': 3322, 'CompletionTokens': 159...</td>\n",
              "      <td>[{'name': 'Correctness (GEval)', 'threshold': ...</td>\n",
              "    </tr>\n",
              "  </tbody>\n",
              "</table>\n",
              "</div>\n",
              "    <div class=\"colab-df-buttons\">\n",
              "\n",
              "  <div class=\"colab-df-container\">\n",
              "    <button class=\"colab-df-convert\" onclick=\"convertToInteractive('df-03f5dffc-eb77-4f12-8230-917b0f32ea6f')\"\n",
              "            title=\"Convert this dataframe to an interactive table.\"\n",
              "            style=\"display:none;\">\n",
              "\n",
              "  <svg xmlns=\"http://www.w3.org/2000/svg\" height=\"24px\" viewBox=\"0 -960 960 960\">\n",
              "    <path d=\"M120-120v-720h720v720H120Zm60-500h600v-160H180v160Zm220 220h160v-160H400v160Zm0 220h160v-160H400v160ZM180-400h160v-160H180v160Zm440 0h160v-160H620v160ZM180-180h160v-160H180v160Zm440 0h160v-160H620v160Z\"/>\n",
              "  </svg>\n",
              "    </button>\n",
              "\n",
              "  <style>\n",
              "    .colab-df-container {\n",
              "      display:flex;\n",
              "      gap: 12px;\n",
              "    }\n",
              "\n",
              "    .colab-df-convert {\n",
              "      background-color: #E8F0FE;\n",
              "      border: none;\n",
              "      border-radius: 50%;\n",
              "      cursor: pointer;\n",
              "      display: none;\n",
              "      fill: #1967D2;\n",
              "      height: 32px;\n",
              "      padding: 0 0 0 0;\n",
              "      width: 32px;\n",
              "    }\n",
              "\n",
              "    .colab-df-convert:hover {\n",
              "      background-color: #E2EBFA;\n",
              "      box-shadow: 0px 1px 2px rgba(60, 64, 67, 0.3), 0px 1px 3px 1px rgba(60, 64, 67, 0.15);\n",
              "      fill: #174EA6;\n",
              "    }\n",
              "\n",
              "    .colab-df-buttons div {\n",
              "      margin-bottom: 4px;\n",
              "    }\n",
              "\n",
              "    [theme=dark] .colab-df-convert {\n",
              "      background-color: #3B4455;\n",
              "      fill: #D2E3FC;\n",
              "    }\n",
              "\n",
              "    [theme=dark] .colab-df-convert:hover {\n",
              "      background-color: #434B5C;\n",
              "      box-shadow: 0px 1px 3px 1px rgba(0, 0, 0, 0.15);\n",
              "      filter: drop-shadow(0px 1px 2px rgba(0, 0, 0, 0.3));\n",
              "      fill: #FFFFFF;\n",
              "    }\n",
              "  </style>\n",
              "\n",
              "    <script>\n",
              "      const buttonEl =\n",
              "        document.querySelector('#df-03f5dffc-eb77-4f12-8230-917b0f32ea6f button.colab-df-convert');\n",
              "      buttonEl.style.display =\n",
              "        google.colab.kernel.accessAllowed ? 'block' : 'none';\n",
              "\n",
              "      async function convertToInteractive(key) {\n",
              "        const element = document.querySelector('#df-03f5dffc-eb77-4f12-8230-917b0f32ea6f');\n",
              "        const dataTable =\n",
              "          await google.colab.kernel.invokeFunction('convertToInteractive',\n",
              "                                                    [key], {});\n",
              "        if (!dataTable) return;\n",
              "\n",
              "        const docLinkHtml = 'Like what you see? Visit the ' +\n",
              "          '<a target=\"_blank\" href=https://colab.research.google.com/notebooks/data_table.ipynb>data table notebook</a>'\n",
              "          + ' to learn more about interactive tables.';\n",
              "        element.innerHTML = '';\n",
              "        dataTable['output_type'] = 'display_data';\n",
              "        await google.colab.output.renderOutput(dataTable, element);\n",
              "        const docLink = document.createElement('div');\n",
              "        docLink.innerHTML = docLinkHtml;\n",
              "        element.appendChild(docLink);\n",
              "      }\n",
              "    </script>\n",
              "  </div>\n",
              "\n",
              "\n",
              "<div id=\"df-89766ef7-7100-4665-9af0-f9fd9e3ee9b3\">\n",
              "  <button class=\"colab-df-quickchart\" onclick=\"quickchart('df-89766ef7-7100-4665-9af0-f9fd9e3ee9b3')\"\n",
              "            title=\"Suggest charts\"\n",
              "            style=\"display:none;\">\n",
              "\n",
              "<svg xmlns=\"http://www.w3.org/2000/svg\" height=\"24px\"viewBox=\"0 0 24 24\"\n",
              "     width=\"24px\">\n",
              "    <g>\n",
              "        <path d=\"M19 3H5c-1.1 0-2 .9-2 2v14c0 1.1.9 2 2 2h14c1.1 0 2-.9 2-2V5c0-1.1-.9-2-2-2zM9 17H7v-7h2v7zm4 0h-2V7h2v10zm4 0h-2v-4h2v4z\"/>\n",
              "    </g>\n",
              "</svg>\n",
              "  </button>\n",
              "\n",
              "<style>\n",
              "  .colab-df-quickchart {\n",
              "      --bg-color: #E8F0FE;\n",
              "      --fill-color: #1967D2;\n",
              "      --hover-bg-color: #E2EBFA;\n",
              "      --hover-fill-color: #174EA6;\n",
              "      --disabled-fill-color: #AAA;\n",
              "      --disabled-bg-color: #DDD;\n",
              "  }\n",
              "\n",
              "  [theme=dark] .colab-df-quickchart {\n",
              "      --bg-color: #3B4455;\n",
              "      --fill-color: #D2E3FC;\n",
              "      --hover-bg-color: #434B5C;\n",
              "      --hover-fill-color: #FFFFFF;\n",
              "      --disabled-bg-color: #3B4455;\n",
              "      --disabled-fill-color: #666;\n",
              "  }\n",
              "\n",
              "  .colab-df-quickchart {\n",
              "    background-color: var(--bg-color);\n",
              "    border: none;\n",
              "    border-radius: 50%;\n",
              "    cursor: pointer;\n",
              "    display: none;\n",
              "    fill: var(--fill-color);\n",
              "    height: 32px;\n",
              "    padding: 0;\n",
              "    width: 32px;\n",
              "  }\n",
              "\n",
              "  .colab-df-quickchart:hover {\n",
              "    background-color: var(--hover-bg-color);\n",
              "    box-shadow: 0 1px 2px rgba(60, 64, 67, 0.3), 0 1px 3px 1px rgba(60, 64, 67, 0.15);\n",
              "    fill: var(--button-hover-fill-color);\n",
              "  }\n",
              "\n",
              "  .colab-df-quickchart-complete:disabled,\n",
              "  .colab-df-quickchart-complete:disabled:hover {\n",
              "    background-color: var(--disabled-bg-color);\n",
              "    fill: var(--disabled-fill-color);\n",
              "    box-shadow: none;\n",
              "  }\n",
              "\n",
              "  .colab-df-spinner {\n",
              "    border: 2px solid var(--fill-color);\n",
              "    border-color: transparent;\n",
              "    border-bottom-color: var(--fill-color);\n",
              "    animation:\n",
              "      spin 1s steps(1) infinite;\n",
              "  }\n",
              "\n",
              "  @keyframes spin {\n",
              "    0% {\n",
              "      border-color: transparent;\n",
              "      border-bottom-color: var(--fill-color);\n",
              "      border-left-color: var(--fill-color);\n",
              "    }\n",
              "    20% {\n",
              "      border-color: transparent;\n",
              "      border-left-color: var(--fill-color);\n",
              "      border-top-color: var(--fill-color);\n",
              "    }\n",
              "    30% {\n",
              "      border-color: transparent;\n",
              "      border-left-color: var(--fill-color);\n",
              "      border-top-color: var(--fill-color);\n",
              "      border-right-color: var(--fill-color);\n",
              "    }\n",
              "    40% {\n",
              "      border-color: transparent;\n",
              "      border-right-color: var(--fill-color);\n",
              "      border-top-color: var(--fill-color);\n",
              "    }\n",
              "    60% {\n",
              "      border-color: transparent;\n",
              "      border-right-color: var(--fill-color);\n",
              "    }\n",
              "    80% {\n",
              "      border-color: transparent;\n",
              "      border-right-color: var(--fill-color);\n",
              "      border-bottom-color: var(--fill-color);\n",
              "    }\n",
              "    90% {\n",
              "      border-color: transparent;\n",
              "      border-bottom-color: var(--fill-color);\n",
              "    }\n",
              "  }\n",
              "</style>\n",
              "\n",
              "  <script>\n",
              "    async function quickchart(key) {\n",
              "      const quickchartButtonEl =\n",
              "        document.querySelector('#' + key + ' button');\n",
              "      quickchartButtonEl.disabled = true;  // To prevent multiple clicks.\n",
              "      quickchartButtonEl.classList.add('colab-df-spinner');\n",
              "      try {\n",
              "        const charts = await google.colab.kernel.invokeFunction(\n",
              "            'suggestCharts', [key], {});\n",
              "      } catch (error) {\n",
              "        console.error('Error during call to suggestCharts:', error);\n",
              "      }\n",
              "      quickchartButtonEl.classList.remove('colab-df-spinner');\n",
              "      quickchartButtonEl.classList.add('colab-df-quickchart-complete');\n",
              "    }\n",
              "    (() => {\n",
              "      let quickchartButtonEl =\n",
              "        document.querySelector('#df-89766ef7-7100-4665-9af0-f9fd9e3ee9b3 button');\n",
              "      quickchartButtonEl.style.display =\n",
              "        google.colab.kernel.accessAllowed ? 'block' : 'none';\n",
              "    })();\n",
              "  </script>\n",
              "</div>\n",
              "\n",
              "    </div>\n",
              "  </div>\n"
            ],
            "application/vnd.google.colaboratory.intrinsic+json": {
              "type": "dataframe",
              "variable_name": "d",
              "summary": "{\n  \"name\": \"d\",\n  \"rows\": 2,\n  \"fields\": [\n    {\n      \"column\": \"input\",\n      \"properties\": {\n        \"dtype\": \"string\",\n        \"num_unique_values\": 2,\n        \"samples\": [\n          \"Qual \\u00e9 a ementa de Sistemas Digitais?\",\n          \"Qual \\u00e9 a ementa de C\\u00e1lculo Num\\u00e9rico?\"\n        ],\n        \"semantic_type\": \"\",\n        \"description\": \"\"\n      }\n    },\n    {\n      \"column\": \"success\",\n      \"properties\": {\n        \"dtype\": \"boolean\",\n        \"num_unique_values\": 1,\n        \"samples\": [\n          true\n        ],\n        \"semantic_type\": \"\",\n        \"description\": \"\"\n      }\n    },\n    {\n      \"column\": \"actual_output\",\n      \"properties\": {\n        \"dtype\": \"string\",\n        \"num_unique_values\": 2,\n        \"samples\": [\n          \"A ementa de Sistemas Digitais, conforme o PPC, \\u00e9 a seguinte:\\n\\n* Dispositivos L\\u00f3gicos Program\\u00e1veis.\\n* Introdu\\u00e7\\u00e3o \\u00e0 Linguagem de Descri\\u00e7\\u00e3o de Hardware.\\n* Prototipa\\u00e7\\u00e3o de hardware utilizando FPGAs.\\n* Circuitos contadores.\\n* M\\u00e1quinas Sequenciais S\\u00edncronas (Mealy e Moore).\\n* S\\u00edntese de Circuitos Sequenciais.\\n* Descri\\u00e7\\u00e3o de Sistemas Digitais no n\\u00edvel de RT.\\n* Projeto de Sistemas Digitais no n\\u00edvel de RT (datapath x controle).\"\n        ],\n        \"semantic_type\": \"\",\n        \"description\": \"\"\n      }\n    },\n    {\n      \"column\": \"expected_output\",\n      \"properties\": {\n        \"dtype\": \"string\",\n        \"num_unique_values\": 2,\n        \"samples\": [\n          \"Dispositivos L\\u00f3gicos Program\\u00e1veis. Introdu\\u00e7\\u00e3o \\u00e0 Linguagem de Descri\\u00e7\\u00e3o de Hardware. Prototipa\\u00e7\\u00e3o de hardware utilizando FPGAs. Circuitos contadores. M\\u00e1quinas Sequenciais S\\u00edncronas (Mealy e Moore). S\\u00edntese de Circuitos Sequenciais. Descri\\u00e7\\u00e3o de Sistemas Digitais no n\\u00edvel de RT. Projeto de Sistemas Digitais no n\\u00edvel de RT (datapath x controle).\"\n        ],\n        \"semantic_type\": \"\",\n        \"description\": \"\"\n      }\n    },\n    {\n      \"column\": \"context\",\n      \"properties\": {\n        \"dtype\": \"number\",\n        \"std\": null,\n        \"min\": null,\n        \"max\": null,\n        \"num_unique_values\": 0,\n        \"samples\": [],\n        \"semantic_type\": \"\",\n        \"description\": \"\"\n      }\n    },\n    {\n      \"column\": \"retrieval_context\",\n      \"properties\": {\n        \"dtype\": \"object\",\n        \"semantic_type\": \"\",\n        \"description\": \"\"\n      }\n    },\n    {\n      \"column\": \"additional_metadata\",\n      \"properties\": {\n        \"dtype\": \"object\",\n        \"semantic_type\": \"\",\n        \"description\": \"\"\n      }\n    },\n    {\n      \"column\": \"metrics\",\n      \"properties\": {\n        \"dtype\": \"object\",\n        \"semantic_type\": \"\",\n        \"description\": \"\"\n      }\n    }\n  ]\n}"
            }
          },
          "metadata": {},
          "execution_count": 100
        }
      ]
    },
    {
      "cell_type": "code",
      "source": [
        "teste = load_test_cases(get_latest_file('data/', 'ADVANCED*'))\n",
        "teste[22]"
      ],
      "metadata": {
        "colab": {
          "base_uri": "https://localhost:8080/"
        },
        "id": "bpj35lSCiXcj",
        "outputId": "ecc1c1f7-551e-441d-ffc1-b311515339b7"
      },
      "execution_count": null,
      "outputs": [
        {
          "output_type": "execute_result",
          "data": {
            "text/plain": [
              "LLMTestCase(input='Qual é a ementa de Grafos?', actual_output='A ementa de Grafos, conforme o PPC, é:\\n\\n\"Definições básicas de Teoria dos Grafos: vizinhança, isomorfismo, subgrafo, clique e con- junto independente. Representação computacional de grafos. Modelagem de problemas com grafos. Grafos bipartidos e cortes. Caminhos, ciclos, diâmetro e cintura. Conexidade e al- cançabilidade. Grafos biconexos e articulações. Grafos dirigidos e caminho mínimo. Busca. Árvores e árvores geradoras de custo mínimo. Grafos eulerianos e hamiltonianos. Estabili- dade e emparelhamento. Fluxo. Coloração e Planaridade. Problemas da Cobertura e da Tra- vessia.\"', expected_output='Definições básicas de Teoria dos Grafos: vizinhança, isomorfismo, subgrafo, clique e conjunto independente. Representação computacional de grafos. Modelagem de problemas com grafos. Grafos bipartidos e cortes. Caminhos, ciclos, diâmetro e cintura. Conexidade e alcançabilidade. Grafos biconexos e articulações. Grafos dirigidos e caminho mínimo. Busca. Árvores e árvores geradoras de custo mínimo.', context=None, retrieval_context=[\"\\n\\n| Código | COMPONENTE CURRICULAR | Créditos | Horas |\\n|---|---|---|---|\\n| Código | COMPONENTE CURRICULAR | Créditos | Horas |\\n| GEN254 | GRAFOS | 04 | 60 |\\n| EMENTA |   |   |   |\\n| Definições básicas de Teoria dos Grafos: vizinhança, isomorfismo, subgrafo, clique e con- junto independente. Representação computacional de grafos. Modelagem de problemas com grafos. Grafos bipartidos e cortes. Caminhos, ciclos, diâmetro e cintura. Conexidade e al- cançabilidade. Grafos biconexos e articulações. Grafos dirigidos e caminho mínimo. Busca. Árvores e árvores geradoras de custo mínimo. Grafos eulerianos e hamiltonianos. Estabili- dade e emparelhamento. Fluxo. Coloração e Planaridade. Problemas da Cobertura e da Tra- vessia. |   |   |   |\\n| OBJETIVO |   |   |   |\\n| Compreender os conceitos básicos em Teoria dos Grafos. Modelar problemas e situações di- versas com grafos. Desenvolver a criatividade e as habilidades formais de demonstração através de exercícios sobre grafos e aplicações. Dominar os problemas e algoritmos em Teo- ria dos Grafos, seus fundamentos teóricos e sua importância para a Computação e outras disciplinas do Conhecimento. |   |   |   |\\n| REFERÊNCIAS BÁSICAS |   |   |   |\\n| BOLLOBÁS, B. Modern Graph Theory. 1. ed. Springer, 1998. DIESTEL, R. Graph Teory. 4. ed. Springer, 2010. NETTO, P. O. B. Grafos: Teoria, Modelos e Algoritmos. 4. ed. São Paulo: Blucher, 2006. NICOLETTI, M. do C.; HRUSCHKA Jr., E. R. Fundamentos da Teoria dos Grafos para Computação. 1. ed. São Carlos-SP: Ufscar, 2006. |   |   |   |\\n| REFERÊNCIAS COMPLEMENTARES |   |   |   |\\n| BONDY, J. A.; MURTY, U. S. R. Graph theory. 1. ed. Springer, 2008. FEOFILOFF, P.; KOHAYAKAWA, Y.; WAKABAYASHI, Y. Teoria dos Grafos: Uma In- trodução Sucinta. 2011. Disponível apenas eletronicamente em: <http://www.ime.usp.br/~pf/teoriadosgrafos/>. LOVÁSZ, L. Combinatorial Problems And Exercices. 2. ed. American Mathematical So- ciety, 2007. WILSON, R. J. Introduction to Graph Theory. 5. ed. São Paulo: Prentice Hall, 2010. |   |   |   |\\n \\n\\n| Código | COMPONENTE CURRICULAR | Créditos | Horas |\\n|---|---|---|---|\\n| Código | COMPONENTE CURRICULAR | Créditos | Horas |\\n| GEX107 | COMPUTAÇÃO GRÁFICA | 04 | 60 |\\n| EMENTA |   |   |   |\\n| Conceitos básicos. Dispositivos gráficos. Sistemas de cores. Transformações geométricas. Primitivas gráficas. Visibilidade. Rendering (modelos de iluminação, shading, textura, antialiasing). |   |   |   |\\n| OBJETIVO |   |   |   |\\n| Dominar os principais conceitos e técnicas da Computação Gráfica 2D e 3D. |   |   |   |\\n| REFERÊNCIAS BÁSICAS |   |   |   |\\n| SHIRLEY, P. Fundamentals of Computer Graphics. 3. ed. AK Peters, 2009. ANGEL, E.; SHEREINER, D. Interactive Computer Graphics: A Top-Down Approach with Shader-Based OpenGL. 6. ed. Addison-Wesley, 2011. ISBN-10: 0132545233. HUGHES, J.; DAM, A.; MCGUIRE, M.; SKLAR, D.; FOLEY, J.; FEINER, S.; AKELEY, A. Computer Graphics: Principles and Practice. 3. ed. Addison-Wesley Professional, 2013. ISBN-10: 0321399528. GORTLER, S. Foundations of 3D Computer Graphics. The MIT Press, 2012. ISBN-10: 0262017350. DUNN, F.; PARBERRY, I. 3D Math Primer for Graphics and Game Development. 2. ed. A K Peters/CRC Press, 2011. ISBN-10: 1568817231. |   |   |   |\\n| REFERÊNCIA |   |   |   |\\n| HEARN, D.; BAKER, M.; CARITHRES, W. Computer graphics with OpenGL. 4. ed. Prentice Hall, 2010. ISBN-10: 0136053580. WRIGHT, R.; HAEMEL, N.; SELLERS, G.; LIPCHAK, B. OpenGL SuperBible: Comprehensive Tutorial and Reference. 5. ed. Addison-Wesley Professional, 2010. AKENINE-MOLLER, T.; HAINES, E.; HOFFMAN, N. Real-Time Rendering. 3. ed. AK Peters, 2008. LENGYEL, E. Mathematics for 3D game programming and computer graphics. 3. ed. Course Technology PTR, 2011. ISBN-10: 1435458869. VERTH, J.; BISHOP, L. Essential Mathematics for Games and Interactive Applications: A Programmer's Guide. 2. ed. Morgan Kaufmann, 2008. ISBN-10: 0123742978. HETEM JR, A. Computação Gráfica. Rio de Janeiro: LTC, 2006. ZHANG, K.; AMMERAAL, L. Computação Gráfica para Programadores Java. 2. ed. Rio de Janeiro: LTC, 2008. CONCI, A.; LETA, F.; AZEVEDO, E. Computação Gráfica. Rio de Janeiro: Campus, 2007. |   |   |   |\\n \\n\\n**§ 1º**A monografia será defendida perante uma banca avaliadora, em data a ser fixa- <br><br>da no cronograma de TCC II. <br><br>| § 2º Previamente à | realização | da defesa, de acordo com o cronograma, o estudante |\\n|---|---|---|\\n| § 2º Previamente à | realização | da defesa, de acordo com o cronograma, o estudante |\\n|   |   |   |\\n<br><br>deverá entregar uma cópia de sua monografia para cada membro da banca para leitura e <br><br>apreciação. \", '\\n\\n| § 2º | Previamente à realização da defesa, de acordo com o cronograma, o estudante |\\n|---|---|\\n| § 2º | Previamente à realização da defesa, de acordo com o cronograma, o estudante |\\n|   |   |\\n<br><br>deverá entregar uma cópia de seu projeto de monografia para cada membro da banca para <br><br>leitura e apreciação.  \\n\\n| § 1º. | Antes da entrega da versão final da monografia, o aluno deve submetê-la à |\\n|---|---|\\n| § 1º. | Antes da entrega da versão final da monografia, o aluno deve submetê-la à |\\n|   |   |\\n<br><br>apreciação do orientador, o qual deverá verificar se o documento incorpora as sugestões e <br><br>correções apontadas pela banca avaliadora.  \\n\\n\\n\\n| Código | COMPONENTE CURRICULAR | Créditos | Hora\\ns |\\n|---|---|---|---|\\n| Código | COMPONENTE CURRICULAR | Créditos | Hora s |\\n| GEX517 | ÁLGEBRA | 04 | 60 |\\n| EMENTA |   |   |   |\\n| Anéis. Ideais. Corpos. Anéis de polinômios. Grupos. |   |   |   |\\n| OBJETIVO |   |   |   |\\n| Aprofundar conceitos e trabalhar com formalismos matemáticos, familiarizando-se com os métodos de demonstração; Desenvolver a capacidade de raciocínio lógico e organizado. |   |   |   |\\n| REFERÊNCIAS BÁSICAS |   |   |   |\\n| DOMINGUES, H. H.; IEZZI, G. Álgebra moderna. 4. ed. São Paulo: Atual, 2003. GONÇALVES, A. Introdução à álgebra. 5. ed. Rio de Janeiro: IMPA, 2001. (Coleção Projeto Euclides) HEFEZ, A. Curso de álgebra. 2. ed. Rio de Janeiro: IMPA, 1997. (Coleção Matemática Universitária) |   |   |   |\\n| REFERÊNCIAS COMPLEMENTARES |   |   |   |\\n| BOYER, C. B. História da matemática. 2. ed. São Paulo: Edgard Blucher, 1996. FILHO, E. A. Elementos de teoria dos anéis. São Paulo: Nobel, 1992. GARCIA, A.; LEQUAIN, Y. Álgebra: um curso de introdução. Rio de Janeiro: IMPA, 1988. (Coleção Projeto Euclides) |   |   |   |\\n', \"\\n\\n| Código | COMPONENTE CURRICULAR | Créditos | Horas |\\n|---|---|---|---|\\n| Código | COMPONENTE CURRICULAR | Créditos | Horas |\\n| GEX607 | ÁLGEBRA LINEAR | 4 | 60 |\\n| EMENTA |   |   |   |\\n| Matrizes. Determinantes. Sistemas de equações lineares. Espaços vetoriais. Transformações lineares. Espaços com produto interno. Autovalores e autovetores. Diagonalização. |   |   |   |\\n| OBJETIVO |   |   |   |\\n| Resolver sistemas de equações lineares utilizando operações elementares. Calcular a inversa de matrizes usando operações elementares. Compreender os conceitos de transformação linear, autovalor, autovetor e ter contato com aplicações da Álgebra Linear em problemas reais. |   |   |   |\\n| REFERÊNCIAS BÁSICAS |   |   |   |\\n| ANTON, H.; RORRES, C. Álgebra linear com aplicações. 8. ed. Porto Alegre: Bookman, 2001. BOLDRINI, J. L. et al. Álgebra linear. 3. ed. São Paulo: HARBRA, 1986. LEON, S. J. Álgebra linear com aplicações. 4. ed. Rio de Janeiro: LTC, 1999. POOLE, D. Álgebra Linear. São Paulo: Pioneira Thomson Learning, 2004. |   |   |   |\\n| REFERÊNCIAS COMPLEMENTARES |   |   |   |\\n| CALLIOLI, C.; DOMINGUES, H.; COSTA, R. Álgebra linear e aplicações. 6. ed. São Paulo: Atual, 2006. COELHO, F.; LOURENÇO, M. Um curso de álgebra linear. São Paulo: EDUSP, 2002. DUNN, F.; PARBERRY, I. 3D Math Primer for Graphics and Game Development. 2. ed. A K Peters/CRC Press, 2011. ISBN-10: 1568817231. KOLMAN, B.; HILL, D. R. Introdução à álgebra linear com aplicações. Rio de Janeiro: LTC, 2006. LENGYEL, E. Mathematics for 3D game programming and computer graphics. 3. ed. Course Technology PTR, 2011. ISBN-10: 1435458869. LIPSCHUTZ, S. Álgebra Linear: teoria e problemas. 3. ed. São Paulo: Makron Books, 1994. SANTOS, R. J. Geometria analítica e álgebra linear. Disponível em: <http://www.mat.ufmg.br/~regi>. Acesso em: 22 nov. 2011. STEINBRUCH, A.; WINTERLE, P. Álgebra linear. São Paulo: McGraw-Hill, 1987. VERTH, J.; BISHOP, L. Essential Mathematics for Games and Interactive Applica- tions: A Programmer's Guide. 2. ed. Morgan Kaufmann, 2008. ISBN-10: 0123742978. |   |   |   |\\n \\n\\n| Código | COMPONENTE CURRICULAR | Créditos | Horas |\\n|---|---|---|---|\\n| Código | COMPONENTE CURRICULAR | Créditos | Horas |\\n| GEX653 | COMPUTAÇÃO GRÁFICA AVANÇADA | 04 | 60 |\\n| EMENTA |   |   |   |\\n| Introdução à programação de Shaders. Diversos tipos de mapeamento de textura: mapeamento de rugosidade (bump mapping), mapeamento de ambiente (environment mapping), mapeamento de reflexão (reflection mapping), mapeamento de relevo (relief mapping). Algoritmos para geração de sombras. Equação de Rendering. Modelos de iluminação. Algoritmos de iluminação global. Ray tracing. Radiosidade. Photon mapping. Pre-computed radiance transfer. Rendering baseado em imagens. Iluminação baseada em imagens. |   |   |   |\\n| OBJETIVO |   |   |   |\\n| Familiarizar os estudantes com técnicas avançadas de rendering, provendo experiência prática na programação de shaders e na implementação de algoritmos de iluminação global e de image-based rendering. Propiciar aos estudantes a oportunidade de desenvolver um projeto na área de rendering. |   |   |   |\\n| REFERÊNCIAS BÁSICAS |   |   |   |\\n| AKENINE-MOLLER, T.; HAINES, E.; HOFFMAN, N. Real-Time Rendering. 3. ed. AK Peters, 2008. DUTRE, P.; BEKAERT, P.; BALA, K. Advanced Global Illumination. A K Peters/CRC Press, 2006. HUGHES, J.; DAM, A.; MCGUIRE, M.; SKLAR, D.; FOLEY, J.; FEINER, S.; AKELEY, A. Computer Graphics: Principles and Practice. 3. ed. Addison-Wesley Professional, 2013. ISBN-10: 0321399528. SHIRLEY, P. Realistic Ray Tracing. 2. ed. AK Peters, 2003. ___________. Fundamentals of Computer Graphics. 3. ed. AK Peters, 2009. |   |   |   |\\n| REFERÊNCIAS COMPLEMENTARES |   |   |   |\\n| ANGEL, E.; SHEREINER, D. Interactive Computer Graphics: A Top-Down Approach with Shader-Based OpenGL. 6. ed. Addison-Wesley, 2011. ISBN-10: 0132545233. LENGYEL, E. Mathematics for 3D game programming and computer graphics. 3. ed. Course Technology PTR, 2011. ISBN-10: 1435458869. VERTH, J.; BISHOP, L. Essential Mathematics for Games and Interactive Applications: A Programmer's Guide. 2. ed. Morgan Kaufmann, 2008. ISBN-10: 0123742978. |   |   |   |\\n \\n\\n**MINISTÉRIO DA EDUCAÇÃO**\\n**UNIVERSIDADE FEDERAL DA FRONTEIRA SUL – UFFS**\\n**PRÓ-REITORIA DE GRADUAÇÃO**\\n**DIRETORIA DE PEDAGÓGICA**<br><br>perfil de Universidade a ser criada. Em 12 de dezembro, pelo projeto de Lei 2.199/07, o <br><br>ministro da Educação encaminhou o processo oficial de criação da Universidade Federal para <br><br>a Mesorregião da Grande Fronteira do Mercosul em solenidade de assinatura de atos <br><br>complementares ao Plano Nacional de Desenvolvimento da Educação, no Palácio do Planalto, <br><br>em Brasília. <br><br>Os anos de 2008 e 2009 foram marcados por intensa mobilização do Movimento Pró- <br><br>Universidade no sentido de estabelecer o perfil da Universidade a ser criada, a localização de <br><br>seus campi e a proposta dos primeiros cursos a serem implantados; pelo acompanhamento, no <br><br>âmbito do governo federal, dos trâmites finais da elaboração do projeto a ser submetido ao <br><br>Congresso Nacional; pela negociação política a fim de garantir a aprovação do projeto da <br><br>Universidade na Câmara dos Deputados e no Senado Federal. Em 15 de setembro de 2009, <br><br>através da Lei 12.029, o Presidente da República, Luiz Inácio Lula da Silva, cria a <br><br>Universidade Federal da Fronteira Sul (UFFS), com sede em Chapecó e Campi em Cerro <br><br>Largo, Erechim, Laranjeiras do Sul e Realeza, tornando realidade o sonho acalentado por uma <br><br>grande região do Brasil por quase três décadas. \"], additional_metadata={'PromptTokens': 5220, 'CompletionTokens': 211, 'TotalTokens': 5431, 'ConfiguracaoDeInferencia': 'ADVANCED: open-mixtral-8x22b. Transformação: Gemma2-9b-it, Contexto: 5, 5. PINECONE com metadados', 'Documento': 'ppc2018'}, comments=None, tools_called=None, expected_tools=None, reasoning=None, name=None)"
            ]
          },
          "metadata": {},
          "execution_count": 17
        }
      ]
    },
    {
      "cell_type": "code",
      "source": [
        "teste[67]"
      ],
      "metadata": {
        "colab": {
          "base_uri": "https://localhost:8080/"
        },
        "id": "1H2m3wRXi8HK",
        "outputId": "63c83d24-cae0-4f26-e8dd-764eafb598c3"
      },
      "execution_count": null,
      "outputs": [
        {
          "output_type": "execute_result",
          "data": {
            "text/plain": [
              "LLMTestCase(input='Qual é a ementa de Grafos?', actual_output='A ementa de Grafos, conforme o PPC, é:\\n\\nDefinições básicas de Teoria dos Grafos. Representação computacional de grafos. Modelagem de problemas com grafos. Caminhos e ciclos. Conexidade e alcançabilidade. Grafos dirigidos e caminhos de custo mínimo. Busca. Árvores e árvores geradoras de custo mínimo. Grafos eulerianos e hamiltonianos. Estabilidade e emparelhamento. Fluxo. Coloração e Planaridade.', expected_output='Definições básicas de Teoria dos Grafos. Representação computacional de grafos. Modelagem de problemas com grafos. Caminhos e ciclos. Conexidade e alcançabilidade. Grafos dirigidos e caminhos de custo mínimo. Busca. Árvores e árvores geradoras de custo mínimo. Grafos eulerianos e hamiltonianos. Estabilidade e emparelhamento. Fluxo. Coloração e Planaridade.', context=None, retrieval_context=['\\n\\nConceitos básicos. Dispositivos gráficos. Sistemas de cores. Transformações geométricas. \\nPrimitivas gráficas. Visibilidade.*Rendering*(modelos de iluminação,*shading*, textura, \\n*antialiasing*). <br><br>**OBJETIVO**<br><br>Dominar os principais conceitos e técnicas da Computação Gráfica 2D e 3D.  \\n\\n| Código | COMPONENTE CURRICULAR | Créditos | Horas |\\n|---|---|---|---|\\n| Código | COMPONENTE CURRICULAR | Créditos | Horas |\\n|   | GRAFOS | 04 | 60 |\\n| EMENTA |   |   |   |\\n| Definições básicas de Teoria dos Grafos. Representação computacional de grafos. Modelagem de problemas com grafos. Caminhos e ciclos. Conexidade e alcançabilidade. Grafos dirigidos e caminhos de custo mínimo. Busca. Árvores e árvores geradoras de custo mínimo. Grafos eulerianos e hamiltonianos. Estabilidade e emparelhamento. Fluxo. Coloração e Planaridade. |   |   |   |\\n| OBJETIVO |   |   |   |\\n', \"\\n\\nHEARN, D.; BAKER, M.; CARITHRES, W.**Computer graphics with OpenGL**. 4. ed. \\nPrentice Hall, 2010. ISBN-10: 0136053580. \\nWRIGHT, R.; HAEMEL, N.; SELLERS, G.; LIPCHAK, B.**OpenGL SuperBible:**\\nComprehensive Tutorial and Reference. 5. ed. Addison-Wesley Professional, 2010. \\nAKENINE-MOLLER, T.; HAINES, E.; HOFFMAN, N.**Real-Time Rendering.**3. ed. \\nAK Peters, 2008. \\nLENGYEL, E.**Mathematics for 3D game programming and computer graphics**. 3. ed. \\nCourse Technology PTR, 2011. ISBN-10: 1435458869. \\nVERTH, J.; BISHOP, L. \\n**Essential Mathematics for Games and Interactive**\\n**Applications**: A Programmer's Guide. 2. ed. Morgan Kaufmann, 2008. ISBN-10: \\n0123742978. \\nHETEM JR, A.**Computação Gráfica**. Rio de Janeiro: LTC, 2006. \\nZHANG, K.; AMMERAAL, L.**Computação Gráfica para Programadores Java**. 2. ed. \\nRio de Janeiro: LTC, 2008. \\nCONCI, A.; LETA, F.; AZEVEDO, E.**Computação Gráfica**. Rio de Janeiro: Campus, \\n2007.  \\n\\n8.8.2 Componentes curriculares optativos com código fixo na matriz <br><br>| Código | COMPONENTE CURRICULAR | Crédito\\ns | Hor\\nas |\\n|---|---|---|---|\\n| Código | COMPONENTE CURRICULAR | Crédito s | Hor as |\\n| GEX107 | COMPUTAÇÃO GRÁFICA | 04 | 60 |\\n| EMENTA |   |   |   |\\n\", '\\n\\n**REFERÊNCIAS BÁSICAS**<br><br>CORMEN, T.; RIVEST, R.; STEIN, C.; LEISERSON, C.**Algoritmos:**Teoria e Prática. \\nElsevier - Campus, 2012. \\nNETTO, P. O. B.**Grafos:**Teoria, Modelos e Algoritmos. 4. ed. São Paulo: Blucher, 2006. \\nDIESTEL, R.**Graph Teory.**4. ed. Springer, 2010. \\nBOLLOBÁS, B.**Modern Graph Theory.**1. ed. Springer, 1998. \\nNICOLETTI, M. do C.; HRUSCHKA Jr., E. R.**Fundamentos da Teoria dos Grafos para**\\n**Computação.**1. ed. São Carlos-SP: Ufscar, 2006. <br><br>**REFERÊNCIAS COMPLEMENTARES**<br><br>SEDGEWICK, R.**Algorithms in C - Part 5 - Graph Algorithms**, 3. ed. Addison-Wesley, \\n2001. \\nBONDY, J. A.; MURTY, U. S. R.**Graph theory.**1. ed. Springer, 2008. \\nFEOFILOFF, P.; KOHAYAKAWA, Y.; WAKABAYASHI, Y.**Teoria dos Grafos:**Uma \\nIntrodução Sucinta. 2011. Disponível apenas eletronicamente em: \\n<http://www.ime.usp.br/~pf/teoriadosgrafos/>. \\nLOVÁSZ, L.**Combinatorial Problems And Exercices.**2. ed. American Mathematical \\nSociety, 2007. \\nWILSON, R. J.**Introduction to Graph Theory.**5. ed. São Paulo: Prentice Hall, 2010. <br><br>DRAFT  \\n\\n\\n\\n| GCS320 | EMPREENDEDORISMO | 0\\n4 | 60 |\\n|---|---|---|---|\\n| GCS320 | EMPREENDEDORISMO | 0 4 | 60 |\\n| EMENTA |   |   |   |\\n| A informática como área de negócios: análise dos diversos setores de mercado, suas características e tendências. O empreendimento e o empreendedor. Técnicas de negociação. Desenvolvimento organizacional. Qualidade total. Planejamento de empreendimentos em Informática. |   |   |   |\\n| OBJETIVO |   |   |   |\\n| Desenvolver o espírito empreendedor na área da tecnologia da informação. |   |   |   |\\n| REFERÊNCIAS BÁSICAS |   |   |   |\\n| CHIAVENATO, I. Empreendedorismo: dando asas ao espírito empreendedor. 3. ed. São Paulo: Saraiva, 2008. FERRARI, R. Empreendedorismo para Computação. Rio de Janeiro: Campus, 2009. PETERS, M. P.; HISRICH, R. D.; SHEPHERD, D. A. Empreendedorismo. 7. ed. São Paulo: Bookman, 2009. SILVA, N.; SALIM, C. S. Introdução ao Empreendedorismo. Rio de Janeiro: Campus, 2009. TOLEDO, M. Plano de Negócios para Startups. 1. ed. eBook disponível exclusivamente em forma digital em: <http://marcelotoledo.com/startup>. |   |   |   |\\n', '\\n\\n| Código | COMPONENTE CURRICULAR | Créditos | Horas |\\n|---|---|---|---|\\n| Código | COMPONENTE CURRICULAR | Créditos | Horas |\\n| GEX607 | ÁLGEBRA LINEAR | 4 | 60 |\\n| EMENTA |   |   |   |\\n| Matrizes. Determinantes. Sistemas de equações lineares. Espaços vetoriais. Transformações lineares. Espaços com produto interno. Autovalores e autovetores. Diagonalização. |   |   |   |\\n| OBJETIVO |   |   |   |\\n| Resolver sistemas de equações lineares utilizando operações elementares. Calcular a inversa de matrizes usando operações elementares. Compreender os conceitos de transformação linear, autovalor, autovetor e ter contato comDRAFT aplicações da Álgebra Linear em problemas reais. |   |   |   |\\n| REFERÊNCIAS BÁSICAS |   |   |   |\\n| ANTON, H.; RORRES, C. Álgebra linear com aplicações. 8. ed. Porto Alegre: Bookman, 2001. BOLDRINI, J. L. et al. Álgebra linear. 3. ed. São Paulo: HARBRA, 1986. LEON, S. J. Álgebra linear com aplicações. 4. ed. Rio de Janeiro: LTC, 1999. POOLE, D. Álgebra Linear. São Paulo: Pioneira Thomson Learning, 2004. |   |   |   |\\n| REFERÊNCIAS COMPLEMENTARES |   |   |   |\\n \\n\\nPeso referente à atribuição de notas: <br><br>| Fraco | Regular | Bom | Ótimo |\\n|---|---|---|---|\\n| Fraco | Regular | Bom | Ótimo |\\n| 0 | 0 até 50% | 50% a 80% | 80% a 100% |\\n<br><br>2345 '], additional_metadata={'PromptTokens': 2648, 'CompletionTokens': 140, 'TotalTokens': 2788, 'ConfiguracaoDeInferencia': 'ADVANCED: open-mixtral-8x22b. Transformação: Gemma2-9b-it, Contexto: 5, 5. PINECONE com metadados', 'Documento': 'ppc2024'}, comments=None, tools_called=None, expected_tools=None, reasoning=None, name=None)"
            ]
          },
          "metadata": {},
          "execution_count": 37
        }
      ]
    },
    {
      "cell_type": "code",
      "source": [
        "testes = [teste[22], teste[67]]\n",
        "metrics = generate_deepeval_metrics(mixtral)\n",
        "\n",
        "dataset = EvaluationDataset(test_cases=testes)\n",
        "measurement = dataset.evaluate([metrics[2]])"
      ],
      "metadata": {
        "colab": {
          "base_uri": "https://localhost:8080/",
          "height": 874
        },
        "id": "83mBVgWsjD8Z",
        "outputId": "f60b3c3a-a363-4f01-e2de-64eeea9e226f"
      },
      "execution_count": null,
      "outputs": [
        {
          "output_type": "display_data",
          "data": {
            "text/plain": [
              "✨ You're running DeepEval's latest \u001b[38;2;106;0;255mContextual Recall Metric\u001b[0m! \u001b[1;38;2;55;65;81m(\u001b[0m\u001b[38;2;55;65;81musing llama-\u001b[0m\u001b[1;38;2;55;65;81m3.1\u001b[0m\u001b[38;2;55;65;81m-70b-versatile, \u001b[0m\u001b[38;2;55;65;81mstrict\u001b[0m\u001b[38;2;55;65;81m=\u001b[0m\u001b[3;38;2;55;65;81mFalse\u001b[0m\u001b[38;2;55;65;81m, \u001b[0m\n",
              "\u001b[38;2;55;65;81masync_mode\u001b[0m\u001b[38;2;55;65;81m=\u001b[0m\u001b[3;38;2;55;65;81mTrue\u001b[0m\u001b[1;38;2;55;65;81m)\u001b[0m\u001b[38;2;55;65;81m...\u001b[0m\n"
            ],
            "text/html": [
              "<pre style=\"white-space:pre;overflow-x:auto;line-height:normal;font-family:Menlo,'DejaVu Sans Mono',consolas,'Courier New',monospace\">✨ You're running DeepEval's latest <span style=\"color: #6a00ff; text-decoration-color: #6a00ff\">Contextual Recall Metric</span>! <span style=\"color: #374151; text-decoration-color: #374151; font-weight: bold\">(</span><span style=\"color: #374151; text-decoration-color: #374151\">using llama-</span><span style=\"color: #374151; text-decoration-color: #374151; font-weight: bold\">3.1</span><span style=\"color: #374151; text-decoration-color: #374151\">-70b-versatile, </span><span style=\"color: #374151; text-decoration-color: #374151\">strict</span><span style=\"color: #374151; text-decoration-color: #374151\">=</span><span style=\"color: #374151; text-decoration-color: #374151; font-style: italic\">False</span><span style=\"color: #374151; text-decoration-color: #374151\">, </span>\n",
              "<span style=\"color: #374151; text-decoration-color: #374151\">async_mode</span><span style=\"color: #374151; text-decoration-color: #374151\">=</span><span style=\"color: #374151; text-decoration-color: #374151; font-style: italic\">True</span><span style=\"color: #374151; text-decoration-color: #374151; font-weight: bold\">)</span><span style=\"color: #374151; text-decoration-color: #374151\">...</span>\n",
              "</pre>\n"
            ]
          },
          "metadata": {}
        },
        {
          "output_type": "stream",
          "name": "stdout",
          "text": [
            "Event loop is already running. Applying nest_asyncio patch to allow async execution...\n"
          ]
        },
        {
          "output_type": "stream",
          "name": "stderr",
          "text": [
            "Evaluating 2 test case(s) in parallel: |██████████|100% (2/2) [Time Taken: 00:10,  5.17s/test case]"
          ]
        },
        {
          "output_type": "stream",
          "name": "stdout",
          "text": [
            "\n",
            "======================================================================\n",
            "\n",
            "Metrics Summary\n",
            "\n",
            "  - ✅ Contextual Recall (score: 1.0, threshold: 0.25, strict: False, evaluation model: llama-3.1-70b-versatile, reason: None, error: None)\n",
            "\n",
            "For test case:\n",
            "\n",
            "  - input: Qual é a ementa de Grafos?\n",
            "  - actual output: A ementa de Grafos, conforme o PPC, é:\n",
            "\n",
            "\"Definições básicas de Teoria dos Grafos: vizinhança, isomorfismo, subgrafo, clique e con- junto independente. Representação computacional de grafos. Modelagem de problemas com grafos. Grafos bipartidos e cortes. Caminhos, ciclos, diâmetro e cintura. Conexidade e al- cançabilidade. Grafos biconexos e articulações. Grafos dirigidos e caminho mínimo. Busca. Árvores e árvores geradoras de custo mínimo. Grafos eulerianos e hamiltonianos. Estabili- dade e emparelhamento. Fluxo. Coloração e Planaridade. Problemas da Cobertura e da Tra- vessia.\"\n",
            "  - expected output: Definições básicas de Teoria dos Grafos: vizinhança, isomorfismo, subgrafo, clique e conjunto independente. Representação computacional de grafos. Modelagem de problemas com grafos. Grafos bipartidos e cortes. Caminhos, ciclos, diâmetro e cintura. Conexidade e alcançabilidade. Grafos biconexos e articulações. Grafos dirigidos e caminho mínimo. Busca. Árvores e árvores geradoras de custo mínimo.\n",
            "  - context: None\n",
            "  - retrieval context: [\"\\n\\n| Código | COMPONENTE CURRICULAR | Créditos | Horas |\\n|---|---|---|---|\\n| Código | COMPONENTE CURRICULAR | Créditos | Horas |\\n| GEN254 | GRAFOS | 04 | 60 |\\n| EMENTA |   |   |   |\\n| Definições básicas de Teoria dos Grafos: vizinhança, isomorfismo, subgrafo, clique e con- junto independente. Representação computacional de grafos. Modelagem de problemas com grafos. Grafos bipartidos e cortes. Caminhos, ciclos, diâmetro e cintura. Conexidade e al- cançabilidade. Grafos biconexos e articulações. Grafos dirigidos e caminho mínimo. Busca. Árvores e árvores geradoras de custo mínimo. Grafos eulerianos e hamiltonianos. Estabili- dade e emparelhamento. Fluxo. Coloração e Planaridade. Problemas da Cobertura e da Tra- vessia. |   |   |   |\\n| OBJETIVO |   |   |   |\\n| Compreender os conceitos básicos em Teoria dos Grafos. Modelar problemas e situações di- versas com grafos. Desenvolver a criatividade e as habilidades formais de demonstração através de exercícios sobre grafos e aplicações. Dominar os problemas e algoritmos em Teo- ria dos Grafos, seus fundamentos teóricos e sua importância para a Computação e outras disciplinas do Conhecimento. |   |   |   |\\n| REFERÊNCIAS BÁSICAS |   |   |   |\\n| BOLLOBÁS, B. Modern Graph Theory. 1. ed. Springer, 1998. DIESTEL, R. Graph Teory. 4. ed. Springer, 2010. NETTO, P. O. B. Grafos: Teoria, Modelos e Algoritmos. 4. ed. São Paulo: Blucher, 2006. NICOLETTI, M. do C.; HRUSCHKA Jr., E. R. Fundamentos da Teoria dos Grafos para Computação. 1. ed. São Carlos-SP: Ufscar, 2006. |   |   |   |\\n| REFERÊNCIAS COMPLEMENTARES |   |   |   |\\n| BONDY, J. A.; MURTY, U. S. R. Graph theory. 1. ed. Springer, 2008. FEOFILOFF, P.; KOHAYAKAWA, Y.; WAKABAYASHI, Y. Teoria dos Grafos: Uma In- trodução Sucinta. 2011. Disponível apenas eletronicamente em: <http://www.ime.usp.br/~pf/teoriadosgrafos/>. LOVÁSZ, L. Combinatorial Problems And Exercices. 2. ed. American Mathematical So- ciety, 2007. WILSON, R. J. Introduction to Graph Theory. 5. ed. São Paulo: Prentice Hall, 2010. |   |   |   |\\n \\n\\n| Código | COMPONENTE CURRICULAR | Créditos | Horas |\\n|---|---|---|---|\\n| Código | COMPONENTE CURRICULAR | Créditos | Horas |\\n| GEX107 | COMPUTAÇÃO GRÁFICA | 04 | 60 |\\n| EMENTA |   |   |   |\\n| Conceitos básicos. Dispositivos gráficos. Sistemas de cores. Transformações geométricas. Primitivas gráficas. Visibilidade. Rendering (modelos de iluminação, shading, textura, antialiasing). |   |   |   |\\n| OBJETIVO |   |   |   |\\n| Dominar os principais conceitos e técnicas da Computação Gráfica 2D e 3D. |   |   |   |\\n| REFERÊNCIAS BÁSICAS |   |   |   |\\n| SHIRLEY, P. Fundamentals of Computer Graphics. 3. ed. AK Peters, 2009. ANGEL, E.; SHEREINER, D. Interactive Computer Graphics: A Top-Down Approach with Shader-Based OpenGL. 6. ed. Addison-Wesley, 2011. ISBN-10: 0132545233. HUGHES, J.; DAM, A.; MCGUIRE, M.; SKLAR, D.; FOLEY, J.; FEINER, S.; AKELEY, A. Computer Graphics: Principles and Practice. 3. ed. Addison-Wesley Professional, 2013. ISBN-10: 0321399528. GORTLER, S. Foundations of 3D Computer Graphics. The MIT Press, 2012. ISBN-10: 0262017350. DUNN, F.; PARBERRY, I. 3D Math Primer for Graphics and Game Development. 2. ed. A K Peters/CRC Press, 2011. ISBN-10: 1568817231. |   |   |   |\\n| REFERÊNCIA |   |   |   |\\n| HEARN, D.; BAKER, M.; CARITHRES, W. Computer graphics with OpenGL. 4. ed. Prentice Hall, 2010. ISBN-10: 0136053580. WRIGHT, R.; HAEMEL, N.; SELLERS, G.; LIPCHAK, B. OpenGL SuperBible: Comprehensive Tutorial and Reference. 5. ed. Addison-Wesley Professional, 2010. AKENINE-MOLLER, T.; HAINES, E.; HOFFMAN, N. Real-Time Rendering. 3. ed. AK Peters, 2008. LENGYEL, E. Mathematics for 3D game programming and computer graphics. 3. ed. Course Technology PTR, 2011. ISBN-10: 1435458869. VERTH, J.; BISHOP, L. Essential Mathematics for Games and Interactive Applications: A Programmer's Guide. 2. ed. Morgan Kaufmann, 2008. ISBN-10: 0123742978. HETEM JR, A. Computação Gráfica. Rio de Janeiro: LTC, 2006. ZHANG, K.; AMMERAAL, L. Computação Gráfica para Programadores Java. 2. ed. Rio de Janeiro: LTC, 2008. CONCI, A.; LETA, F.; AZEVEDO, E. Computação Gráfica. Rio de Janeiro: Campus, 2007. |   |   |   |\\n \\n\\n**§ 1º**A monografia será defendida perante uma banca avaliadora, em data a ser fixa- <br><br>da no cronograma de TCC II. <br><br>| § 2º Previamente à | realização | da defesa, de acordo com o cronograma, o estudante |\\n|---|---|---|\\n| § 2º Previamente à | realização | da defesa, de acordo com o cronograma, o estudante |\\n|   |   |   |\\n<br><br>deverá entregar uma cópia de sua monografia para cada membro da banca para leitura e <br><br>apreciação. \", '\\n\\n| § 2º | Previamente à realização da defesa, de acordo com o cronograma, o estudante |\\n|---|---|\\n| § 2º | Previamente à realização da defesa, de acordo com o cronograma, o estudante |\\n|   |   |\\n<br><br>deverá entregar uma cópia de seu projeto de monografia para cada membro da banca para <br><br>leitura e apreciação.  \\n\\n| § 1º. | Antes da entrega da versão final da monografia, o aluno deve submetê-la à |\\n|---|---|\\n| § 1º. | Antes da entrega da versão final da monografia, o aluno deve submetê-la à |\\n|   |   |\\n<br><br>apreciação do orientador, o qual deverá verificar se o documento incorpora as sugestões e <br><br>correções apontadas pela banca avaliadora.  \\n\\n\\n\\n| Código | COMPONENTE CURRICULAR | Créditos | Hora\\ns |\\n|---|---|---|---|\\n| Código | COMPONENTE CURRICULAR | Créditos | Hora s |\\n| GEX517 | ÁLGEBRA | 04 | 60 |\\n| EMENTA |   |   |   |\\n| Anéis. Ideais. Corpos. Anéis de polinômios. Grupos. |   |   |   |\\n| OBJETIVO |   |   |   |\\n| Aprofundar conceitos e trabalhar com formalismos matemáticos, familiarizando-se com os métodos de demonstração; Desenvolver a capacidade de raciocínio lógico e organizado. |   |   |   |\\n| REFERÊNCIAS BÁSICAS |   |   |   |\\n| DOMINGUES, H. H.; IEZZI, G. Álgebra moderna. 4. ed. São Paulo: Atual, 2003. GONÇALVES, A. Introdução à álgebra. 5. ed. Rio de Janeiro: IMPA, 2001. (Coleção Projeto Euclides) HEFEZ, A. Curso de álgebra. 2. ed. Rio de Janeiro: IMPA, 1997. (Coleção Matemática Universitária) |   |   |   |\\n| REFERÊNCIAS COMPLEMENTARES |   |   |   |\\n| BOYER, C. B. História da matemática. 2. ed. São Paulo: Edgard Blucher, 1996. FILHO, E. A. Elementos de teoria dos anéis. São Paulo: Nobel, 1992. GARCIA, A.; LEQUAIN, Y. Álgebra: um curso de introdução. Rio de Janeiro: IMPA, 1988. (Coleção Projeto Euclides) |   |   |   |\\n', \"\\n\\n| Código | COMPONENTE CURRICULAR | Créditos | Horas |\\n|---|---|---|---|\\n| Código | COMPONENTE CURRICULAR | Créditos | Horas |\\n| GEX607 | ÁLGEBRA LINEAR | 4 | 60 |\\n| EMENTA |   |   |   |\\n| Matrizes. Determinantes. Sistemas de equações lineares. Espaços vetoriais. Transformações lineares. Espaços com produto interno. Autovalores e autovetores. Diagonalização. |   |   |   |\\n| OBJETIVO |   |   |   |\\n| Resolver sistemas de equações lineares utilizando operações elementares. Calcular a inversa de matrizes usando operações elementares. Compreender os conceitos de transformação linear, autovalor, autovetor e ter contato com aplicações da Álgebra Linear em problemas reais. |   |   |   |\\n| REFERÊNCIAS BÁSICAS |   |   |   |\\n| ANTON, H.; RORRES, C. Álgebra linear com aplicações. 8. ed. Porto Alegre: Bookman, 2001. BOLDRINI, J. L. et al. Álgebra linear. 3. ed. São Paulo: HARBRA, 1986. LEON, S. J. Álgebra linear com aplicações. 4. ed. Rio de Janeiro: LTC, 1999. POOLE, D. Álgebra Linear. São Paulo: Pioneira Thomson Learning, 2004. |   |   |   |\\n| REFERÊNCIAS COMPLEMENTARES |   |   |   |\\n| CALLIOLI, C.; DOMINGUES, H.; COSTA, R. Álgebra linear e aplicações. 6. ed. São Paulo: Atual, 2006. COELHO, F.; LOURENÇO, M. Um curso de álgebra linear. São Paulo: EDUSP, 2002. DUNN, F.; PARBERRY, I. 3D Math Primer for Graphics and Game Development. 2. ed. A K Peters/CRC Press, 2011. ISBN-10: 1568817231. KOLMAN, B.; HILL, D. R. Introdução à álgebra linear com aplicações. Rio de Janeiro: LTC, 2006. LENGYEL, E. Mathematics for 3D game programming and computer graphics. 3. ed. Course Technology PTR, 2011. ISBN-10: 1435458869. LIPSCHUTZ, S. Álgebra Linear: teoria e problemas. 3. ed. São Paulo: Makron Books, 1994. SANTOS, R. J. Geometria analítica e álgebra linear. Disponível em: <http://www.mat.ufmg.br/~regi>. Acesso em: 22 nov. 2011. STEINBRUCH, A.; WINTERLE, P. Álgebra linear. São Paulo: McGraw-Hill, 1987. VERTH, J.; BISHOP, L. Essential Mathematics for Games and Interactive Applica- tions: A Programmer's Guide. 2. ed. Morgan Kaufmann, 2008. ISBN-10: 0123742978. |   |   |   |\\n \\n\\n| Código | COMPONENTE CURRICULAR | Créditos | Horas |\\n|---|---|---|---|\\n| Código | COMPONENTE CURRICULAR | Créditos | Horas |\\n| GEX653 | COMPUTAÇÃO GRÁFICA AVANÇADA | 04 | 60 |\\n| EMENTA |   |   |   |\\n| Introdução à programação de Shaders. Diversos tipos de mapeamento de textura: mapeamento de rugosidade (bump mapping), mapeamento de ambiente (environment mapping), mapeamento de reflexão (reflection mapping), mapeamento de relevo (relief mapping). Algoritmos para geração de sombras. Equação de Rendering. Modelos de iluminação. Algoritmos de iluminação global. Ray tracing. Radiosidade. Photon mapping. Pre-computed radiance transfer. Rendering baseado em imagens. Iluminação baseada em imagens. |   |   |   |\\n| OBJETIVO |   |   |   |\\n| Familiarizar os estudantes com técnicas avançadas de rendering, provendo experiência prática na programação de shaders e na implementação de algoritmos de iluminação global e de image-based rendering. Propiciar aos estudantes a oportunidade de desenvolver um projeto na área de rendering. |   |   |   |\\n| REFERÊNCIAS BÁSICAS |   |   |   |\\n| AKENINE-MOLLER, T.; HAINES, E.; HOFFMAN, N. Real-Time Rendering. 3. ed. AK Peters, 2008. DUTRE, P.; BEKAERT, P.; BALA, K. Advanced Global Illumination. A K Peters/CRC Press, 2006. HUGHES, J.; DAM, A.; MCGUIRE, M.; SKLAR, D.; FOLEY, J.; FEINER, S.; AKELEY, A. Computer Graphics: Principles and Practice. 3. ed. Addison-Wesley Professional, 2013. ISBN-10: 0321399528. SHIRLEY, P. Realistic Ray Tracing. 2. ed. AK Peters, 2003. ___________. Fundamentals of Computer Graphics. 3. ed. AK Peters, 2009. |   |   |   |\\n| REFERÊNCIAS COMPLEMENTARES |   |   |   |\\n| ANGEL, E.; SHEREINER, D. Interactive Computer Graphics: A Top-Down Approach with Shader-Based OpenGL. 6. ed. Addison-Wesley, 2011. ISBN-10: 0132545233. LENGYEL, E. Mathematics for 3D game programming and computer graphics. 3. ed. Course Technology PTR, 2011. ISBN-10: 1435458869. VERTH, J.; BISHOP, L. Essential Mathematics for Games and Interactive Applications: A Programmer's Guide. 2. ed. Morgan Kaufmann, 2008. ISBN-10: 0123742978. |   |   |   |\\n \\n\\n**MINISTÉRIO DA EDUCAÇÃO**\\n**UNIVERSIDADE FEDERAL DA FRONTEIRA SUL – UFFS**\\n**PRÓ-REITORIA DE GRADUAÇÃO**\\n**DIRETORIA DE PEDAGÓGICA**<br><br>perfil de Universidade a ser criada. Em 12 de dezembro, pelo projeto de Lei 2.199/07, o <br><br>ministro da Educação encaminhou o processo oficial de criação da Universidade Federal para <br><br>a Mesorregião da Grande Fronteira do Mercosul em solenidade de assinatura de atos <br><br>complementares ao Plano Nacional de Desenvolvimento da Educação, no Palácio do Planalto, <br><br>em Brasília. <br><br>Os anos de 2008 e 2009 foram marcados por intensa mobilização do Movimento Pró- <br><br>Universidade no sentido de estabelecer o perfil da Universidade a ser criada, a localização de <br><br>seus campi e a proposta dos primeiros cursos a serem implantados; pelo acompanhamento, no <br><br>âmbito do governo federal, dos trâmites finais da elaboração do projeto a ser submetido ao <br><br>Congresso Nacional; pela negociação política a fim de garantir a aprovação do projeto da <br><br>Universidade na Câmara dos Deputados e no Senado Federal. Em 15 de setembro de 2009, <br><br>através da Lei 12.029, o Presidente da República, Luiz Inácio Lula da Silva, cria a <br><br>Universidade Federal da Fronteira Sul (UFFS), com sede em Chapecó e Campi em Cerro <br><br>Largo, Erechim, Laranjeiras do Sul e Realeza, tornando realidade o sonho acalentado por uma <br><br>grande região do Brasil por quase três décadas. \"]\n",
            "\n",
            "======================================================================\n",
            "\n",
            "Metrics Summary\n",
            "\n",
            "  - ✅ Contextual Recall (score: 1.0, threshold: 0.25, strict: False, evaluation model: llama-3.1-70b-versatile, reason: None, error: None)\n",
            "\n",
            "For test case:\n",
            "\n",
            "  - input: Qual é a ementa de Grafos?\n",
            "  - actual output: A ementa de Grafos, conforme o PPC, é:\n",
            "\n",
            "Definições básicas de Teoria dos Grafos. Representação computacional de grafos. Modelagem de problemas com grafos. Caminhos e ciclos. Conexidade e alcançabilidade. Grafos dirigidos e caminhos de custo mínimo. Busca. Árvores e árvores geradoras de custo mínimo. Grafos eulerianos e hamiltonianos. Estabilidade e emparelhamento. Fluxo. Coloração e Planaridade.\n",
            "  - expected output: Definições básicas de Teoria dos Grafos. Representação computacional de grafos. Modelagem de problemas com grafos. Caminhos e ciclos. Conexidade e alcançabilidade. Grafos dirigidos e caminhos de custo mínimo. Busca. Árvores e árvores geradoras de custo mínimo. Grafos eulerianos e hamiltonianos. Estabilidade e emparelhamento. Fluxo. Coloração e Planaridade.\n",
            "  - context: None\n",
            "  - retrieval context: ['\\n\\nConceitos básicos. Dispositivos gráficos. Sistemas de cores. Transformações geométricas. \\nPrimitivas gráficas. Visibilidade.*Rendering*(modelos de iluminação,*shading*, textura, \\n*antialiasing*). <br><br>**OBJETIVO**<br><br>Dominar os principais conceitos e técnicas da Computação Gráfica 2D e 3D.  \\n\\n| Código | COMPONENTE CURRICULAR | Créditos | Horas |\\n|---|---|---|---|\\n| Código | COMPONENTE CURRICULAR | Créditos | Horas |\\n|   | GRAFOS | 04 | 60 |\\n| EMENTA |   |   |   |\\n| Definições básicas de Teoria dos Grafos. Representação computacional de grafos. Modelagem de problemas com grafos. Caminhos e ciclos. Conexidade e alcançabilidade. Grafos dirigidos e caminhos de custo mínimo. Busca. Árvores e árvores geradoras de custo mínimo. Grafos eulerianos e hamiltonianos. Estabilidade e emparelhamento. Fluxo. Coloração e Planaridade. |   |   |   |\\n| OBJETIVO |   |   |   |\\n', \"\\n\\nHEARN, D.; BAKER, M.; CARITHRES, W.**Computer graphics with OpenGL**. 4. ed. \\nPrentice Hall, 2010. ISBN-10: 0136053580. \\nWRIGHT, R.; HAEMEL, N.; SELLERS, G.; LIPCHAK, B.**OpenGL SuperBible:**\\nComprehensive Tutorial and Reference. 5. ed. Addison-Wesley Professional, 2010. \\nAKENINE-MOLLER, T.; HAINES, E.; HOFFMAN, N.**Real-Time Rendering.**3. ed. \\nAK Peters, 2008. \\nLENGYEL, E.**Mathematics for 3D game programming and computer graphics**. 3. ed. \\nCourse Technology PTR, 2011. ISBN-10: 1435458869. \\nVERTH, J.; BISHOP, L. \\n**Essential Mathematics for Games and Interactive**\\n**Applications**: A Programmer's Guide. 2. ed. Morgan Kaufmann, 2008. ISBN-10: \\n0123742978. \\nHETEM JR, A.**Computação Gráfica**. Rio de Janeiro: LTC, 2006. \\nZHANG, K.; AMMERAAL, L.**Computação Gráfica para Programadores Java**. 2. ed. \\nRio de Janeiro: LTC, 2008. \\nCONCI, A.; LETA, F.; AZEVEDO, E.**Computação Gráfica**. Rio de Janeiro: Campus, \\n2007.  \\n\\n8.8.2 Componentes curriculares optativos com código fixo na matriz <br><br>| Código | COMPONENTE CURRICULAR | Crédito\\ns | Hor\\nas |\\n|---|---|---|---|\\n| Código | COMPONENTE CURRICULAR | Crédito s | Hor as |\\n| GEX107 | COMPUTAÇÃO GRÁFICA | 04 | 60 |\\n| EMENTA |   |   |   |\\n\", '\\n\\n**REFERÊNCIAS BÁSICAS**<br><br>CORMEN, T.; RIVEST, R.; STEIN, C.; LEISERSON, C.**Algoritmos:**Teoria e Prática. \\nElsevier - Campus, 2012. \\nNETTO, P. O. B.**Grafos:**Teoria, Modelos e Algoritmos. 4. ed. São Paulo: Blucher, 2006. \\nDIESTEL, R.**Graph Teory.**4. ed. Springer, 2010. \\nBOLLOBÁS, B.**Modern Graph Theory.**1. ed. Springer, 1998. \\nNICOLETTI, M. do C.; HRUSCHKA Jr., E. R.**Fundamentos da Teoria dos Grafos para**\\n**Computação.**1. ed. São Carlos-SP: Ufscar, 2006. <br><br>**REFERÊNCIAS COMPLEMENTARES**<br><br>SEDGEWICK, R.**Algorithms in C - Part 5 - Graph Algorithms**, 3. ed. Addison-Wesley, \\n2001. \\nBONDY, J. A.; MURTY, U. S. R.**Graph theory.**1. ed. Springer, 2008. \\nFEOFILOFF, P.; KOHAYAKAWA, Y.; WAKABAYASHI, Y.**Teoria dos Grafos:**Uma \\nIntrodução Sucinta. 2011. Disponível apenas eletronicamente em: \\n<http://www.ime.usp.br/~pf/teoriadosgrafos/>. \\nLOVÁSZ, L.**Combinatorial Problems And Exercices.**2. ed. American Mathematical \\nSociety, 2007. \\nWILSON, R. J.**Introduction to Graph Theory.**5. ed. São Paulo: Prentice Hall, 2010. <br><br>DRAFT  \\n\\n\\n\\n| GCS320 | EMPREENDEDORISMO | 0\\n4 | 60 |\\n|---|---|---|---|\\n| GCS320 | EMPREENDEDORISMO | 0 4 | 60 |\\n| EMENTA |   |   |   |\\n| A informática como área de negócios: análise dos diversos setores de mercado, suas características e tendências. O empreendimento e o empreendedor. Técnicas de negociação. Desenvolvimento organizacional. Qualidade total. Planejamento de empreendimentos em Informática. |   |   |   |\\n| OBJETIVO |   |   |   |\\n| Desenvolver o espírito empreendedor na área da tecnologia da informação. |   |   |   |\\n| REFERÊNCIAS BÁSICAS |   |   |   |\\n| CHIAVENATO, I. Empreendedorismo: dando asas ao espírito empreendedor. 3. ed. São Paulo: Saraiva, 2008. FERRARI, R. Empreendedorismo para Computação. Rio de Janeiro: Campus, 2009. PETERS, M. P.; HISRICH, R. D.; SHEPHERD, D. A. Empreendedorismo. 7. ed. São Paulo: Bookman, 2009. SILVA, N.; SALIM, C. S. Introdução ao Empreendedorismo. Rio de Janeiro: Campus, 2009. TOLEDO, M. Plano de Negócios para Startups. 1. ed. eBook disponível exclusivamente em forma digital em: <http://marcelotoledo.com/startup>. |   |   |   |\\n', '\\n\\n| Código | COMPONENTE CURRICULAR | Créditos | Horas |\\n|---|---|---|---|\\n| Código | COMPONENTE CURRICULAR | Créditos | Horas |\\n| GEX607 | ÁLGEBRA LINEAR | 4 | 60 |\\n| EMENTA |   |   |   |\\n| Matrizes. Determinantes. Sistemas de equações lineares. Espaços vetoriais. Transformações lineares. Espaços com produto interno. Autovalores e autovetores. Diagonalização. |   |   |   |\\n| OBJETIVO |   |   |   |\\n| Resolver sistemas de equações lineares utilizando operações elementares. Calcular a inversa de matrizes usando operações elementares. Compreender os conceitos de transformação linear, autovalor, autovetor e ter contato comDRAFT aplicações da Álgebra Linear em problemas reais. |   |   |   |\\n| REFERÊNCIAS BÁSICAS |   |   |   |\\n| ANTON, H.; RORRES, C. Álgebra linear com aplicações. 8. ed. Porto Alegre: Bookman, 2001. BOLDRINI, J. L. et al. Álgebra linear. 3. ed. São Paulo: HARBRA, 1986. LEON, S. J. Álgebra linear com aplicações. 4. ed. Rio de Janeiro: LTC, 1999. POOLE, D. Álgebra Linear. São Paulo: Pioneira Thomson Learning, 2004. |   |   |   |\\n| REFERÊNCIAS COMPLEMENTARES |   |   |   |\\n \\n\\nPeso referente à atribuição de notas: <br><br>| Fraco | Regular | Bom | Ótimo |\\n|---|---|---|---|\\n| Fraco | Regular | Bom | Ótimo |\\n| 0 | 0 até 50% | 50% a 80% | 80% a 100% |\\n<br><br>2345 ']\n",
            "\n",
            "======================================================================\n",
            "\n",
            "Overall Metric Pass Rates\n",
            "\n",
            "Contextual Recall: 100.00% pass rate\n",
            "\n",
            "======================================================================\n",
            "\n"
          ]
        },
        {
          "output_type": "stream",
          "name": "stderr",
          "text": [
            "\n"
          ]
        },
        {
          "output_type": "display_data",
          "data": {
            "text/plain": [
              "\u001b[38;2;5;245;141m✓\u001b[0m Tests finished 🎉! Run \u001b[32m'deepeval login'\u001b[0m to save and analyze evaluation results on Confident AI. \n",
              "‼️  Friendly reminder 😇: You can also run evaluations with ALL of deepeval's metrics directly on Confident AI \n",
              "instead.\n"
            ],
            "text/html": [
              "<pre style=\"white-space:pre;overflow-x:auto;line-height:normal;font-family:Menlo,'DejaVu Sans Mono',consolas,'Courier New',monospace\"><span style=\"color: #05f58d; text-decoration-color: #05f58d\">✓</span> Tests finished 🎉! Run <span style=\"color: #008000; text-decoration-color: #008000\">'deepeval login'</span> to save and analyze evaluation results on Confident AI. \n",
              "‼️  Friendly reminder 😇: You can also run evaluations with ALL of deepeval's metrics directly on Confident AI \n",
              "instead.\n",
              "</pre>\n"
            ]
          },
          "metadata": {}
        }
      ]
    },
    {
      "cell_type": "code",
      "source": [
        "isinstance(type(metrics[2]).__name__, str)\n"
      ],
      "metadata": {
        "colab": {
          "base_uri": "https://localhost:8080/"
        },
        "id": "e-iZUbQg0hd6",
        "outputId": "415980e6-b9ac-4cca-cca5-7bdb4d06bf48"
      },
      "execution_count": null,
      "outputs": [
        {
          "output_type": "execute_result",
          "data": {
            "text/plain": [
              "True"
            ]
          },
          "metadata": {},
          "execution_count": 42
        }
      ]
    },
    {
      "cell_type": "code",
      "execution_count": null,
      "metadata": {
        "id": "IzBiElZoSrxP"
      },
      "outputs": [],
      "source": [
        "# llama_32_90b = LangchainModel('Groq', 'llama-3.2-90b-text-preview')\n",
        "# llama_results = evaluate_model(llama_32_90b, test_cases, (5, 30))\n",
        "# transform_and_save_results(llama_results, 'llama-3.2-90b-text-preview_')"
      ]
    },
    {
      "cell_type": "code",
      "execution_count": null,
      "metadata": {
        "id": "gPus2zFE8sh2"
      },
      "outputs": [],
      "source": [
        "# llama_3_70b = LangchainModel('Groq', 'llama-3.1-70b-versatile')\n",
        "# llama_results = evaluate_model(llama_3_70b, test_cases, (1, 10))\n",
        "# transform_and_save_results(llama_results, 'llama-3.1-70b-versatile_')"
      ]
    },
    {
      "cell_type": "code",
      "execution_count": null,
      "metadata": {
        "id": "GqGhaOXGYvQo"
      },
      "outputs": [],
      "source": [
        "# ChatOpenAI(\n",
        "#     api_key=credentials.token,\n",
        "#     base_url=settings.VERTEX_ENDPOINT,\n",
        "#     model=\"meta/llama3-405b-instruct-maas\",\n",
        "#     temperature=0,\n",
        "#     max_retries=4\n",
        "# ).invoke('Oi Llama, posso te utilizar para avaliar sistemas RAG?')"
      ]
    },
    {
      "cell_type": "code",
      "execution_count": null,
      "metadata": {
        "id": "i41SkeBKdABS"
      },
      "outputs": [],
      "source": [
        "# from langchain_core.pydantic_v1 import BaseModel, Field\n",
        "\n",
        "\n",
        "# class Joke(BaseModel):\n",
        "#     setup: str = Field(description=\"The setup of the joke\")\n",
        "#     punchline: str = Field(description=\"The punchline to the joke\")\n",
        "\n",
        "# llama_3_405b = LangchainModel(\"VertexAI\", \"meta/llama3-405b-instruct-maas\")\n",
        "\n",
        "# print(llama_3_405b.generate('A good joke, please', None))"
      ]
    },
    {
      "cell_type": "code",
      "execution_count": null,
      "metadata": {
        "id": "CTLTcOn79fX2"
      },
      "outputs": [],
      "source": [
        "# llama_3_405b = LangchainModel(\"VertexAI\", \"meta/llama3-405b-instruct-maas\")\n",
        "# metrics = generate_deepeval_metrics(llama_3_405b)\n",
        "\n",
        "# metrics[0].measure(test_cases[0])"
      ]
    },
    {
      "cell_type": "code",
      "execution_count": null,
      "metadata": {
        "colab": {
          "base_uri": "https://localhost:8080/",
          "height": 919
        },
        "id": "e2SibGSYbm_L",
        "outputId": "6679638a-72d3-4adc-e2e5-a0ba161fccd0"
      },
      "outputs": [
        {
          "data": {
            "text/html": [
              "<pre style=\"white-space:pre;overflow-x:auto;line-height:normal;font-family:Menlo,'DejaVu Sans Mono',consolas,'Courier New',monospace\">✨ You're running DeepEval's latest <span style=\"color: #6a00ff; text-decoration-color: #6a00ff\">Correctness </span><span style=\"color: #6a00ff; text-decoration-color: #6a00ff; font-weight: bold\">(</span><span style=\"color: #6a00ff; text-decoration-color: #6a00ff\">GEval</span><span style=\"color: #6a00ff; text-decoration-color: #6a00ff; font-weight: bold\">)</span><span style=\"color: #6a00ff; text-decoration-color: #6a00ff\"> Metric</span>! <span style=\"color: #374151; text-decoration-color: #374151; font-weight: bold\">(</span><span style=\"color: #374151; text-decoration-color: #374151\">using meta/llama3-405b-instruct-maas, </span>\n",
              "<span style=\"color: #374151; text-decoration-color: #374151\">strict</span><span style=\"color: #374151; text-decoration-color: #374151\">=</span><span style=\"color: #374151; text-decoration-color: #374151; font-style: italic\">False</span><span style=\"color: #374151; text-decoration-color: #374151\">, </span><span style=\"color: #374151; text-decoration-color: #374151\">async_mode</span><span style=\"color: #374151; text-decoration-color: #374151\">=</span><span style=\"color: #374151; text-decoration-color: #374151; font-style: italic\">True</span><span style=\"color: #374151; text-decoration-color: #374151; font-weight: bold\">)</span><span style=\"color: #374151; text-decoration-color: #374151\">...</span>\n",
              "</pre>\n"
            ],
            "text/plain": [
              "✨ You're running DeepEval's latest \u001b[38;2;106;0;255mCorrectness \u001b[0m\u001b[1;38;2;106;0;255m(\u001b[0m\u001b[38;2;106;0;255mGEval\u001b[0m\u001b[1;38;2;106;0;255m)\u001b[0m\u001b[38;2;106;0;255m Metric\u001b[0m! \u001b[1;38;2;55;65;81m(\u001b[0m\u001b[38;2;55;65;81musing meta/llama3-405b-instruct-maas, \u001b[0m\n",
              "\u001b[38;2;55;65;81mstrict\u001b[0m\u001b[38;2;55;65;81m=\u001b[0m\u001b[3;38;2;55;65;81mFalse\u001b[0m\u001b[38;2;55;65;81m, \u001b[0m\u001b[38;2;55;65;81masync_mode\u001b[0m\u001b[38;2;55;65;81m=\u001b[0m\u001b[3;38;2;55;65;81mTrue\u001b[0m\u001b[1;38;2;55;65;81m)\u001b[0m\u001b[38;2;55;65;81m...\u001b[0m\n"
            ]
          },
          "metadata": {},
          "output_type": "display_data"
        },
        {
          "name": "stdout",
          "output_type": "stream",
          "text": [
            "Event loop is already running. Applying nest_asyncio patch to allow async execution...\n"
          ]
        },
        {
          "name": "stderr",
          "output_type": "stream",
          "text": [
            "\rEvaluating 1 test case(s) in parallel: |          |  0% (0/1) [Time Taken: 00:00, ?test case/s]"
          ]
        },
        {
          "name": "stdout",
          "output_type": "stream",
          "text": [
            "Request number: 1\n"
          ]
        },
        {
          "name": "stderr",
          "output_type": "stream",
          "text": [
            "Evaluating 1 test case(s) in parallel: |██████████|100% (1/1) [Time Taken: 00:03,  3.68s/test case]"
          ]
        },
        {
          "name": "stdout",
          "output_type": "stream",
          "text": [
            "\n",
            "======================================================================\n",
            "\n",
            "Metrics Summary\n",
            "\n",
            "  - ✅ Correctness (GEval) (score: 1.0, threshold: 0.5, strict: False, evaluation model: meta/llama3-405b-instruct-maas, reason: The actual output provides a detailed and accurate description of the course, matching the expected output, with no contradictions or omissions., error: None)\n",
            "\n",
            "For test case:\n",
            "\n",
            "  - input: Qual é a ementa de Introdução à Computação?\n",
            "  - actual output: A ementa do componente curricular Introdução à Computação no Plano Pedagógico do Curso (PPC) de Ciência da Computação da UFFS é a seguinte:\n",
            "\n",
            "\"Introdução ao Curso de Ciência da Computação e à Universidade Federal da Fronteira Sul: principais estruturas e regulamentos. Introdução à área da Computação: inserção e desenvolvimento profissional, carreira acadêmica e técnica. Conhecimentos e comandos básicos em sistemas operacionais abertos. Fundamentos básicos da Computação: história, principais componentes de hardware e software, sistemas de numeração, aritmética binária e suas operações. Principais ferramentas e tecnologias para o desenvolvimento e versionamento de código.\"\n",
            "\n",
            "Essa informação pode ser encontrada no trecho do PPC fornecido na tabela, especificamente na coluna \"EMENTA\" correspondente ao componente curricular Introdução à Computação.\n",
            "  - expected output: Introdução ao Curso de Ciência da Computação e à Universidade Federal da Fronteira Sul. Principais estruturas e regulamentos. Introdução à área da Computação: inserção e desenvolvimento profissional, carreira acadêmica e técnica. Conhecimentos e comandos básicos em sistemas operacionais abertos. Fundamentos básicos da Computação: história, principais componentes de hardware e software, sistemas de numeração, aritmética binária e suas operações. Principais ferramentas e tecnologias para o desenvolvimento e versionamento de código.\n",
            "  - context: None\n",
            "  - retrieval context: ['\\n\\n| Código | COMPONENTE CURRICULAR | Créditos | Horas |\\n|---|---|---|---|\\n| Código | COMPONENTE CURRICULAR | Créditos | Horas |\\n|   | INTRODUÇÃO À COMPUTAÇÃO | 04 | 60 |\\n| EMENTA |   |   |   |\\n| Introdução ao Curso de Ciência da Computação e à Universidade Federal da Fronteira Sul: principais estruturas e regulamentos. Introdução à área da Computação: inserção e desenvolvimento profissional, carreira acadêmica e técnica. Conhecimentos e comandos básicos em sistemas operacionais abertos. Fundamentos básicos da Computação: história, principais componentes de hardware e software, sistemas de numeração, aritmética binária e suas operações. Principais ferramentas e tecnologias para o desenvolvimento e versionamento de código. |   |   |   |\\n| OBJETIVO |   |   |   |\\n<br><br>Projeto Pedagógico do Curso de Ciência Da Computação,*Campus*Chapecó. <br><br>59  \\n\\nConhecer o Curso de Ciência da Computação e a Universidade Federal da Fronteira Sul, \\nidentificar a área de atuação do profissional da Computação na sociedade, reconhecer os \\ncomponentes básicos de um computador (hardware e software) e utilizar as ferramentas e \\ntecnologias fundamentais do Curso e da área. \\n**REFERÊNCIAS BÁSICAS**\\nGUIMARÃES, Carlos Henrique Costa. \\ncomputadores digitais. 1. ed. Rio de Janeiro: Interciência, 2014. 154 p. \\nCAPRON, H. L.; JOHNSON, J. A.**Introdução à Informática.**8. ed. São Paulo: Pearson \\nPrentice Hall, 2004. \\nNORTON, P.**Introdução à informática.**São Paulo: Pearson, 2010. <br><br>**Sistemas de Numeração:**aplicação em ', '\\n\\n**REFERÊNCIAS COMPLEMENTARES**\\nOTTAVIANI, Edélcio; TÓTORA, Silvana (Org.).**Educação e extensão universitária:**\\nfoco vestibular : um experimento da diferença . São Paulo, SP: Paulinas; 2010. 231 p. \\n(Coleção educação em foco). ISBN 9788535625554. \\nEXTENSÃO universitária: reflexão e ação. Chapecó, SC: Argos, 2009. 173 p. (Debates) \\nISBN 9788578970000.  \\n\\n| Contemplada no plano da disciplina a ser ministrada. |  |  |  |\\n|---|---|---|---|\\n| Contemplada no plano da disciplina a ser ministrada. |   |   |   |\\n| Código | COMPONENTE CURRICULAR | Créditos | Horas |\\n| GEX640 | TÓPICOS ESPECIAIS EM COMPUTAÇÃO XVIII | 4 | 60 |\\n| EMENTA |   |   |   |\\n| Conteúdo variável respeitando os objetivos mencionados. |   |   |   |\\n| OBJETIVO |   |   |   |\\n| Viabilizar a introdução no curso de temas não abordados em outros componentes. Deve ser relevante para o momento, traduzindo a evolução das tecnologias e da ciência da computação e/ou aproveitando as experiências de docentes ou outros profissionais qualificados. Esta disciplina também serve para atualizações da matriz curricular. |   |   |   |\\n| REFERÊNCIAS BÁSICAS |   |   |   |\\n| Contemplada no plano da disciplina a ser ministrada. |   |   |   |\\n| REFERÊNCIAS COMPLEMENTARES |   |   |   |\\n| Contemplada no plano da disciplina a ser ministrada. DRAFT |   |   |   |\\n| Código | COMPONENTE CURRICULAR | Créditos | Horas |\\n| GEX641 | TÓPICOS ESPECIAIS EM COMPUTAÇÃO XIX | 4 | 60 |\\n| EMENTA |   |   |   |\\n| Conteúdo variável respeitando os objetivos mencionados. |   |   |   |\\n| OBJETIVO |   |   |   |\\n| Viabilizar a introdução no curso de temas não abordados em outros componentes. Deve ser relevante para o momento, traduzindo a evolução das tecnologias e da ciência da computação e/ou aproveitando as experiências de docentes ou outros profissionais qualificados. Esta disciplina também serve para atualizações da matriz curricular. |   |   |   |\\n| REFERÊNCIAS BÁSICAS |   |   |   |\\n| Contemplada no plano da disciplina a ser ministrada. |   |   |   |\\n| REFERÊNCIAS COMPLEMENTARES |   |   |   |\\n| Contemplada no plano da disciplina a ser ministrada. |   |   |   |\\n', '\\n\\n\\n\\n| Código | COMPONENTE\\nCURRICULAR | Crédit\\nos | Horas |\\n|---|---|---|---|\\n| Código | COMPONENTE CURRICULAR | Crédit os | Horas |\\n|   | OPTATIVA V | 04 | 60 |\\n| EMENTA |   |   |   |\\n| Deve ser preenchida com o conteúdo de alguma das diversas disciplinas opcionais propostas, segundo critérios pré definidos pelo Colegiado. |   |   |   |\\n| OBJETIVO |   |   |   |\\n| Contemplada no plano de ensino da disciplina a ser ministrada. |   |   |   |\\n| REFERÊNCIAS BÁSICAS |   |   |   |\\n| Contemplada no plano de ensino da disciplina a ser ministrada. |   |   |   |\\n| REFERÊNCIAS COMPLEMENTARES |   |   |   |\\n| Contemplada no plano de ensino da disciplina a ser ministrada. |   |   |   |\\n \\n\\n| Código | COMPONENTE CURRICULAR | Créditos | Horas |\\n|---|---|---|---|\\n| Código | COMPONENTE CURRICULAR | Créditos | Horas |\\n| GEX1097 | TÓPICOS ESPECIAIS EM COMPUTAÇÃO XLVII | 4 | 60 |\\n| EMENTA |   |   |   |\\n| Conteúdo variável respeitando os objetivos mencionados. |   |   |   |\\n| OBJETIVO |   |   |   |\\n| Objetivo conforme tema a ser trabalhado. |   |   |   |\\n| REFERÊNCIAS BÁSICAS |   |   |   |\\n| Contemplada no plano da disciplina a ser ministrada. |   |   |   |\\n| REFERÊNCIAS COMPLEMENTARES |   |   |   |\\n| Contemplada no plano da disciplina a ser ministrada. |   |   |   |\\n<br><br>Projeto Pedagógico do Curso de Ciência Da Computação,*Campus*Chapecó. <br><br>130 ', '\\n\\n**12 ARTICULAÇÃO ENTRE ENSINO, PESQUISA E EXTENSÃO**<br><br>1585 <br><br>A indissociabilidade é um princípio de estruturação da atividade acadêmica que procura <br><br>relacionar dialeticamente o ensino (entendido como apropriação do conhecimento <br><br>historicamente produzido), a pesquisa (entendida como produção de novos conhecimentos) e a <br><br>extensão (entendida como intervenção nos processos sociais e identificação de problemas da <br><br>1590  prática que demandam novas pesquisas). Constitui, assim, uma proposição filosófica, política, <br><br>pedagógica e metodológica para a formação e o conhecimento desenvolvidos na e pela <br><br>Universidade para a sociedade. <br><br>O conceito de indissociabilidade remete a algo que não existe sem a presença de cada <br><br>um desses elementos, ou seja, o todo deixa de ser todo quando se dissocia. Nesse sentido, a <br><br>1595  mera coexistência de ações não significa sua indissociabilidade. Se a indissociabilidade for <br><br>contemplada de forma isolada, corre-se o risco de considerá-la como um fim em si mesma e não  \\n\\n| Código | COMPONENTE CURRICULAR | Créditos | Horas |\\n|---|---|---|---|\\n| Código | COMPONENTE CURRICULAR | Créditos | Horas |\\n|   | ORGANIZAÇÃO DE COMPUTADORES | 04 | 60 |\\n| EMENTA |   |   |   |\\n| Tendências tecnológicas de CPUs, memórias e barramentos. CPU: arquitetura do conjunto de instruções, modos de endereçamento, formatos de instruções e linguagem de montagem. Implementação do conjunto de instruções. Hierarquia de memória e associatividade (cache e TLB). Dispositivos de entrada e saída: tipos, características e sua conexão à CPU e à memória. Comunicação com a CPU (polling, interrupção, DMA). Medidas de desempenho. |   |   |   |\\n| OBJETIVO |   |   |   |\\n| Conhecer os principais conceitos envolvidos na concepção da arquitetura e organização dos computadores, sabendo caracterizar e entender o funcionamento interno de um computador, dada uma certa arquitetura, reconhecendo o impacto de cada alternativa sobre fatores como desempenho e custo. |   |   |   |\\n| REFERÊNCIAS BÁSICAS DRAFT |   |   |   |\\n| MONTEIRO, Mario A. Introdução à Organização de Computadores. 5. ed. Rio de Janeiro: LTC, 2011. PATTERSON, David A.; HENNESSY, John L. Organização e Projeto de Computadores. 3. ed. Rio de Janeiro: Campus, 2005. STALLINGS, W. Arquitetura e Organização de Computadores. 8. ed. São Paulo: Prentice Hall, 2010. TANENBAUM, Andrew S. Organização Estruturada de Computadores. 5. ed. Rio de Janeiro: Prentice-Hall do Brasil, 2006. |   |   |   |\\n| REFERÊNCIAS COMPLEMENTARES |   |   |   |\\n| PATTERSON, David A.; WATERMAN Andrew. RISC-V: guia prático. 1a edição. Berkeley: Strawberry Canyon, 2017. Disponível em (licença creative commons): http://www.riscvbook.com/portuguese/ HARRIS, David Money. Digital Design and Computer Architecture. Amsterdam: Elsevier, 2007. HENNESSY, John L. Arquitetura de Computadores: uma abordagem quantitativa. Rio de Janeiro: Campus, 2003. PATTERSON, David A.; HENNESSY, John L. Computer Organization and Design RISC- V Edition: The Hardware Software Interface. 1. ed. Massachusetts: Morgan Kaufmann, |   |   |   |\\n']\n",
            "\n",
            "======================================================================\n",
            "\n",
            "Overall Metric Pass Rates\n",
            "\n",
            "Correctness (GEval): 100.00% pass rate\n",
            "\n",
            "======================================================================\n",
            "\n"
          ]
        },
        {
          "name": "stderr",
          "output_type": "stream",
          "text": [
            "\n"
          ]
        },
        {
          "data": {
            "text/html": [
              "<pre style=\"white-space:pre;overflow-x:auto;line-height:normal;font-family:Menlo,'DejaVu Sans Mono',consolas,'Courier New',monospace\"><span style=\"color: #05f58d; text-decoration-color: #05f58d\">✓</span> Tests finished 🎉! Run <span style=\"color: #008000; text-decoration-color: #008000\">'deepeval login'</span> to view evaluation results on Confident AI. \n",
              "‼️  NOTE: You can also run evaluations on ALL of deepeval's metrics directly on Confident AI instead.\n",
              "</pre>\n"
            ],
            "text/plain": [
              "\u001b[38;2;5;245;141m✓\u001b[0m Tests finished 🎉! Run \u001b[32m'deepeval login'\u001b[0m to view evaluation results on Confident AI. \n",
              "‼️  NOTE: You can also run evaluations on ALL of deepeval's metrics directly on Confident AI instead.\n"
            ]
          },
          "metadata": {},
          "output_type": "display_data"
        },
        {
          "data": {
            "text/html": [
              "<pre style=\"white-space:pre;overflow-x:auto;line-height:normal;font-family:Menlo,'DejaVu Sans Mono',consolas,'Courier New',monospace\">✨ You're running DeepEval's latest <span style=\"color: #6a00ff; text-decoration-color: #6a00ff\">Answer Relevancy Metric</span>! <span style=\"color: #374151; text-decoration-color: #374151; font-weight: bold\">(</span><span style=\"color: #374151; text-decoration-color: #374151\">using meta/llama3-405b-instruct-maas, </span><span style=\"color: #374151; text-decoration-color: #374151\">strict</span><span style=\"color: #374151; text-decoration-color: #374151\">=</span><span style=\"color: #374151; text-decoration-color: #374151; font-style: italic\">False</span><span style=\"color: #374151; text-decoration-color: #374151\">, </span>\n",
              "<span style=\"color: #374151; text-decoration-color: #374151\">async_mode</span><span style=\"color: #374151; text-decoration-color: #374151\">=</span><span style=\"color: #374151; text-decoration-color: #374151; font-style: italic\">True</span><span style=\"color: #374151; text-decoration-color: #374151; font-weight: bold\">)</span><span style=\"color: #374151; text-decoration-color: #374151\">...</span>\n",
              "</pre>\n"
            ],
            "text/plain": [
              "✨ You're running DeepEval's latest \u001b[38;2;106;0;255mAnswer Relevancy Metric\u001b[0m! \u001b[1;38;2;55;65;81m(\u001b[0m\u001b[38;2;55;65;81musing meta/llama3-405b-instruct-maas, \u001b[0m\u001b[38;2;55;65;81mstrict\u001b[0m\u001b[38;2;55;65;81m=\u001b[0m\u001b[3;38;2;55;65;81mFalse\u001b[0m\u001b[38;2;55;65;81m, \u001b[0m\n",
              "\u001b[38;2;55;65;81masync_mode\u001b[0m\u001b[38;2;55;65;81m=\u001b[0m\u001b[3;38;2;55;65;81mTrue\u001b[0m\u001b[1;38;2;55;65;81m)\u001b[0m\u001b[38;2;55;65;81m...\u001b[0m\n"
            ]
          },
          "metadata": {},
          "output_type": "display_data"
        },
        {
          "name": "stdout",
          "output_type": "stream",
          "text": [
            "Event loop is already running. Applying nest_asyncio patch to allow async execution...\n"
          ]
        },
        {
          "name": "stderr",
          "output_type": "stream",
          "text": [
            "\rEvaluating 1 test case(s) in parallel: |          |  0% (0/1) [Time Taken: 00:00, ?test case/s]"
          ]
        },
        {
          "name": "stdout",
          "output_type": "stream",
          "text": [
            "Request number: 2\n",
            "Request number: 3\n",
            "Error code: 400 - [{'error': {'code': 400, 'message': 'Request contains an invalid argument.', 'status': 'INVALID_ARGUMENT'}}]\n",
            "Request number: 4\n",
            "Error code: 400 - [{'error': {'code': 400, 'message': 'Request contains an invalid argument.', 'status': 'INVALID_ARGUMENT'}}]\n",
            "Request number: 5\n",
            "Error code: 400 - [{'error': {'code': 400, 'message': 'Request contains an invalid argument.', 'status': 'INVALID_ARGUMENT'}}]\n",
            "Request number: 6\n"
          ]
        },
        {
          "name": "stderr",
          "output_type": "stream",
          "text": [
            "\rEvaluating 1 test case(s) in parallel: |          |  0% (0/1) [Time Taken: 00:19, ?test case/s]"
          ]
        },
        {
          "name": "stdout",
          "output_type": "stream",
          "text": [
            "Error code: 400 - [{'error': {'code': 400, 'message': 'Request contains an invalid argument.', 'status': 'INVALID_ARGUMENT'}}]\n",
            "Failed to evaluate test case: 'AnswerRelevancyMetric' object has no attribute 'name'\n"
          ]
        },
        {
          "name": "stderr",
          "output_type": "stream",
          "text": [
            "\n"
          ]
        }
      ],
      "source": [
        "# llama_3_405b = LangchainModel(\"VertexAI\", \"meta/llama3-405b-instruct-maas\")\n",
        "# # llama- = generate_deepeval_metrics(llama_3_405b)\n",
        "# llama_3_405b_results = evaluate_model(llama_3_405b, test_cases[0:1], False)\n",
        "# # transform_and_save_results(llama_3_405b_results, 'LLAMA-3.1-705B_')"
      ]
    }
  ],
  "metadata": {
    "colab": {
      "provenance": [],
      "toc_visible": true,
      "authorship_tag": "ABX9TyNYzsBKHw3HVDexGJGM/eIw",
      "include_colab_link": true
    },
    "kernelspec": {
      "display_name": "Python 3",
      "name": "python3"
    },
    "language_info": {
      "name": "python"
    }
  },
  "nbformat": 4,
  "nbformat_minor": 0
}